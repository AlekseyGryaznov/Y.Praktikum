{
  "cells": [
    {
      "cell_type": "markdown",
      "metadata": {
        "toc": true,
        "id": "LWdyeSb8oMyN"
      },
      "source": [
        "<h1>Содержание<span class=\"tocSkip\"></span></h1>\n",
        "<div class=\"toc\"><ul class=\"toc-item\"><li><span><a href=\"#Подготовка-данных\" data-toc-modified-id=\"Подготовка-данных-1\"><span class=\"toc-item-num\">1&nbsp;&nbsp;</span>Подготовка данных</a></span></li><li><span><a href=\"#Исследование-задачи\" data-toc-modified-id=\"Исследование-задачи-2\"><span class=\"toc-item-num\">2&nbsp;&nbsp;</span>Исследование задачи</a></span></li><li><span><a href=\"#Борьба-с-дисбалансом\" data-toc-modified-id=\"Борьба-с-дисбалансом-3\"><span class=\"toc-item-num\">3&nbsp;&nbsp;</span>Борьба с дисбалансом</a></span></li><li><span><a href=\"#Тестирование-модели\" data-toc-modified-id=\"Тестирование-модели-4\"><span class=\"toc-item-num\">4&nbsp;&nbsp;</span>Тестирование модели</a></span></li><li><span><a href=\"#Чек-лист-готовности-проекта\" data-toc-modified-id=\"Чек-лист-готовности-проекта-5\"><span class=\"toc-item-num\">5&nbsp;&nbsp;</span>Чек-лист готовности проекта</a></span></li></ul></div>"
      ]
    },
    {
      "cell_type": "markdown",
      "metadata": {
        "id": "4qAODA7roMyN"
      },
      "source": [
        "# Отток клиентов"
      ]
    },
    {
      "cell_type": "markdown",
      "metadata": {
        "id": "j1Xyec0WoMyN"
      },
      "source": [
        "Из «Бета-Банка» стали уходить клиенты. Каждый месяц. Немного, но заметно. Банковские маркетологи посчитали: сохранять текущих клиентов дешевле, чем привлекать новых.\n",
        "\n",
        "Нужно спрогнозировать, уйдёт клиент из банка в ближайшее время или нет. Вам предоставлены исторические данные о поведении клиентов и расторжении договоров с банком.\n",
        "\n",
        "Постройте модель с предельно большим значением *F1*-меры. Чтобы сдать проект успешно, нужно довести метрику до 0.59. Проверьте *F1*-меру на тестовой выборке самостоятельно.\n",
        "\n",
        "Дополнительно измеряйте *AUC-ROC*, сравнивайте её значение с *F1*-мерой.\n",
        "\n",
        "Источник данных: [https://www.kaggle.com/barelydedicated/bank-customer-churn-modeling](https://www.kaggle.com/barelydedicated/bank-customer-churn-modeling)"
      ]
    },
    {
      "cell_type": "markdown",
      "metadata": {
        "id": "-O_bx21noMyO"
      },
      "source": [
        "## Подготовка данных"
      ]
    },
    {
      "cell_type": "code",
      "execution_count": null,
      "metadata": {
        "id": "1U0jh0FyoMyO"
      },
      "outputs": [],
      "source": [
        "import pandas as pd\n",
        "import matplotlib.pyplot as plt\n",
        "from sklearn.model_selection import train_test_split\n",
        "from sklearn.tree import DecisionTreeClassifier\n",
        "from sklearn.ensemble import RandomForestClassifier\n",
        "from sklearn.linear_model import LogisticRegression\n",
        "from sklearn.preprocessing import StandardScaler\n",
        "from sklearn.metrics import (confusion_matrix,roc_auc_score,f1_score,recall_score)\n",
        "from sklearn.preprocessing import OrdinalEncoder\n",
        "from sklearn.utils import shuffle\n",
        "from sklearn.dummy import DummyClassifier\n"
      ]
    },
    {
      "cell_type": "code",
      "execution_count": null,
      "metadata": {
        "scrolled": true,
        "id": "hdRyDq38oMyQ"
      },
      "outputs": [],
      "source": [
        "df = pd.read_csv('/datasets/Churn.csv')"
      ]
    },
    {
      "cell_type": "code",
      "execution_count": null,
      "metadata": {
        "id": "flYeVZGvoMyQ",
        "outputId": "6aa94e91-11e6-4668-af35-d030c8ba1a57"
      },
      "outputs": [
        {
          "data": {
            "text/html": [
              "<div>\n",
              "<style scoped>\n",
              "    .dataframe tbody tr th:only-of-type {\n",
              "        vertical-align: middle;\n",
              "    }\n",
              "\n",
              "    .dataframe tbody tr th {\n",
              "        vertical-align: top;\n",
              "    }\n",
              "\n",
              "    .dataframe thead th {\n",
              "        text-align: right;\n",
              "    }\n",
              "</style>\n",
              "<table border=\"1\" class=\"dataframe\">\n",
              "  <thead>\n",
              "    <tr style=\"text-align: right;\">\n",
              "      <th></th>\n",
              "      <th>RowNumber</th>\n",
              "      <th>CustomerId</th>\n",
              "      <th>Surname</th>\n",
              "      <th>CreditScore</th>\n",
              "      <th>Geography</th>\n",
              "      <th>Gender</th>\n",
              "      <th>Age</th>\n",
              "      <th>Tenure</th>\n",
              "      <th>Balance</th>\n",
              "      <th>NumOfProducts</th>\n",
              "      <th>HasCrCard</th>\n",
              "      <th>IsActiveMember</th>\n",
              "      <th>EstimatedSalary</th>\n",
              "      <th>Exited</th>\n",
              "    </tr>\n",
              "  </thead>\n",
              "  <tbody>\n",
              "    <tr>\n",
              "      <th>0</th>\n",
              "      <td>1</td>\n",
              "      <td>15634602</td>\n",
              "      <td>Hargrave</td>\n",
              "      <td>619</td>\n",
              "      <td>France</td>\n",
              "      <td>Female</td>\n",
              "      <td>42</td>\n",
              "      <td>2.0</td>\n",
              "      <td>0.00</td>\n",
              "      <td>1</td>\n",
              "      <td>1</td>\n",
              "      <td>1</td>\n",
              "      <td>101348.88</td>\n",
              "      <td>1</td>\n",
              "    </tr>\n",
              "    <tr>\n",
              "      <th>1</th>\n",
              "      <td>2</td>\n",
              "      <td>15647311</td>\n",
              "      <td>Hill</td>\n",
              "      <td>608</td>\n",
              "      <td>Spain</td>\n",
              "      <td>Female</td>\n",
              "      <td>41</td>\n",
              "      <td>1.0</td>\n",
              "      <td>83807.86</td>\n",
              "      <td>1</td>\n",
              "      <td>0</td>\n",
              "      <td>1</td>\n",
              "      <td>112542.58</td>\n",
              "      <td>0</td>\n",
              "    </tr>\n",
              "    <tr>\n",
              "      <th>2</th>\n",
              "      <td>3</td>\n",
              "      <td>15619304</td>\n",
              "      <td>Onio</td>\n",
              "      <td>502</td>\n",
              "      <td>France</td>\n",
              "      <td>Female</td>\n",
              "      <td>42</td>\n",
              "      <td>8.0</td>\n",
              "      <td>159660.80</td>\n",
              "      <td>3</td>\n",
              "      <td>1</td>\n",
              "      <td>0</td>\n",
              "      <td>113931.57</td>\n",
              "      <td>1</td>\n",
              "    </tr>\n",
              "    <tr>\n",
              "      <th>3</th>\n",
              "      <td>4</td>\n",
              "      <td>15701354</td>\n",
              "      <td>Boni</td>\n",
              "      <td>699</td>\n",
              "      <td>France</td>\n",
              "      <td>Female</td>\n",
              "      <td>39</td>\n",
              "      <td>1.0</td>\n",
              "      <td>0.00</td>\n",
              "      <td>2</td>\n",
              "      <td>0</td>\n",
              "      <td>0</td>\n",
              "      <td>93826.63</td>\n",
              "      <td>0</td>\n",
              "    </tr>\n",
              "    <tr>\n",
              "      <th>4</th>\n",
              "      <td>5</td>\n",
              "      <td>15737888</td>\n",
              "      <td>Mitchell</td>\n",
              "      <td>850</td>\n",
              "      <td>Spain</td>\n",
              "      <td>Female</td>\n",
              "      <td>43</td>\n",
              "      <td>2.0</td>\n",
              "      <td>125510.82</td>\n",
              "      <td>1</td>\n",
              "      <td>1</td>\n",
              "      <td>1</td>\n",
              "      <td>79084.10</td>\n",
              "      <td>0</td>\n",
              "    </tr>\n",
              "  </tbody>\n",
              "</table>\n",
              "</div>"
            ],
            "text/plain": [
              "   RowNumber  CustomerId   Surname  CreditScore Geography  Gender  Age  \\\n",
              "0          1    15634602  Hargrave          619    France  Female   42   \n",
              "1          2    15647311      Hill          608     Spain  Female   41   \n",
              "2          3    15619304      Onio          502    France  Female   42   \n",
              "3          4    15701354      Boni          699    France  Female   39   \n",
              "4          5    15737888  Mitchell          850     Spain  Female   43   \n",
              "\n",
              "   Tenure    Balance  NumOfProducts  HasCrCard  IsActiveMember  \\\n",
              "0     2.0       0.00              1          1               1   \n",
              "1     1.0   83807.86              1          0               1   \n",
              "2     8.0  159660.80              3          1               0   \n",
              "3     1.0       0.00              2          0               0   \n",
              "4     2.0  125510.82              1          1               1   \n",
              "\n",
              "   EstimatedSalary  Exited  \n",
              "0        101348.88       1  \n",
              "1        112542.58       0  \n",
              "2        113931.57       1  \n",
              "3         93826.63       0  \n",
              "4         79084.10       0  "
            ]
          },
          "execution_count": 3,
          "metadata": {},
          "output_type": "execute_result"
        }
      ],
      "source": [
        "df.head()"
      ]
    },
    {
      "cell_type": "code",
      "execution_count": null,
      "metadata": {
        "id": "qGJduWFDoMyQ",
        "outputId": "cf5fdbc9-d17c-41ef-8f70-68d3d331c998"
      },
      "outputs": [
        {
          "name": "stdout",
          "output_type": "stream",
          "text": [
            "<class 'pandas.core.frame.DataFrame'>\n",
            "RangeIndex: 10000 entries, 0 to 9999\n",
            "Data columns (total 14 columns):\n",
            " #   Column           Non-Null Count  Dtype  \n",
            "---  ------           --------------  -----  \n",
            " 0   RowNumber        10000 non-null  int64  \n",
            " 1   CustomerId       10000 non-null  int64  \n",
            " 2   Surname          10000 non-null  object \n",
            " 3   CreditScore      10000 non-null  int64  \n",
            " 4   Geography        10000 non-null  object \n",
            " 5   Gender           10000 non-null  object \n",
            " 6   Age              10000 non-null  int64  \n",
            " 7   Tenure           9091 non-null   float64\n",
            " 8   Balance          10000 non-null  float64\n",
            " 9   NumOfProducts    10000 non-null  int64  \n",
            " 10  HasCrCard        10000 non-null  int64  \n",
            " 11  IsActiveMember   10000 non-null  int64  \n",
            " 12  EstimatedSalary  10000 non-null  float64\n",
            " 13  Exited           10000 non-null  int64  \n",
            "dtypes: float64(3), int64(8), object(3)\n",
            "memory usage: 1.1+ MB\n"
          ]
        }
      ],
      "source": [
        "df.info()"
      ]
    },
    {
      "cell_type": "markdown",
      "metadata": {
        "id": "q0V3zY4UoMyR"
      },
      "source": [
        "*Признаки\n",
        "RowNumber — индекс строки в данных\n",
        "CustomerId — уникальный идентификатор клиента\n",
        "Surname — фамилия\n",
        "CreditScore — кредитный рейтинг\n",
        "Geography — страна проживания\n",
        "Gender — пол\n",
        "Age — возраст\n",
        "Tenure — сколько лет человек является клиентом банка\n",
        "Balance — баланс на счёте\n",
        "NumOfProducts — количество продуктов банка, используемых клиентом\n",
        "HasCrCard — наличие кредитной карты\n",
        "IsActiveMember — активность клиента\n",
        "EstimatedSalary — предполагаемая зарплата\n",
        "Целевой признак\n",
        "Exited — факт ухода клиента*"
      ]
    },
    {
      "cell_type": "markdown",
      "metadata": {
        "id": "bvSCPmnBoMyR"
      },
      "source": [
        "*Проверим данные на пропуски*"
      ]
    },
    {
      "cell_type": "code",
      "execution_count": null,
      "metadata": {
        "id": "4yPmLW0FoMyR",
        "outputId": "a68c9743-533e-49fb-bf41-6d47da90a818"
      },
      "outputs": [
        {
          "data": {
            "text/plain": [
              "RowNumber            0\n",
              "CustomerId           0\n",
              "Surname              0\n",
              "CreditScore          0\n",
              "Geography            0\n",
              "Gender               0\n",
              "Age                  0\n",
              "Tenure             909\n",
              "Balance              0\n",
              "NumOfProducts        0\n",
              "HasCrCard            0\n",
              "IsActiveMember       0\n",
              "EstimatedSalary      0\n",
              "Exited               0\n",
              "dtype: int64"
            ]
          },
          "execution_count": 5,
          "metadata": {},
          "output_type": "execute_result"
        }
      ],
      "source": [
        "df.isna().sum()"
      ]
    },
    {
      "cell_type": "code",
      "execution_count": null,
      "metadata": {
        "id": "u_ofxpWAoMyR"
      },
      "outputs": [],
      "source": [
        "df = df.dropna(subset = ['Tenure'])"
      ]
    },
    {
      "cell_type": "code",
      "execution_count": null,
      "metadata": {
        "id": "29aMFS7EoMyR",
        "outputId": "d1606cdc-41bb-4d9a-c0d6-b216f3e426af"
      },
      "outputs": [
        {
          "name": "stdout",
          "output_type": "stream",
          "text": [
            "<class 'pandas.core.frame.DataFrame'>\n",
            "Int64Index: 9091 entries, 0 to 9998\n",
            "Data columns (total 14 columns):\n",
            " #   Column           Non-Null Count  Dtype  \n",
            "---  ------           --------------  -----  \n",
            " 0   RowNumber        9091 non-null   int64  \n",
            " 1   CustomerId       9091 non-null   int64  \n",
            " 2   Surname          9091 non-null   object \n",
            " 3   CreditScore      9091 non-null   int64  \n",
            " 4   Geography        9091 non-null   object \n",
            " 5   Gender           9091 non-null   object \n",
            " 6   Age              9091 non-null   int64  \n",
            " 7   Tenure           9091 non-null   float64\n",
            " 8   Balance          9091 non-null   float64\n",
            " 9   NumOfProducts    9091 non-null   int64  \n",
            " 10  HasCrCard        9091 non-null   int64  \n",
            " 11  IsActiveMember   9091 non-null   int64  \n",
            " 12  EstimatedSalary  9091 non-null   float64\n",
            " 13  Exited           9091 non-null   int64  \n",
            "dtypes: float64(3), int64(8), object(3)\n",
            "memory usage: 1.0+ MB\n"
          ]
        }
      ],
      "source": [
        "df.info()"
      ]
    },
    {
      "cell_type": "markdown",
      "metadata": {
        "id": "A5HBOoyYoMyS"
      },
      "source": [
        "В данных имеются пропуски в столбце (Tenure — сколько лет человек является клиентом банка). Удалим пропуски для корректной работы моделей.\n"
      ]
    },
    {
      "cell_type": "markdown",
      "metadata": {
        "id": "7q5vMSR9oMyS"
      },
      "source": [
        "*Преобразуем столбец Gender и Geography с помощью техники OHE*"
      ]
    },
    {
      "cell_type": "code",
      "execution_count": null,
      "metadata": {
        "id": "ps0eOruEoMyS"
      },
      "outputs": [],
      "source": [
        "df = pd.get_dummies(df, columns=['Gender'], drop_first= True)"
      ]
    },
    {
      "cell_type": "code",
      "execution_count": null,
      "metadata": {
        "id": "-Z2Qw3lzoMyS"
      },
      "outputs": [],
      "source": [
        "df = pd.get_dummies(df, columns=['Geography'], drop_first= True)"
      ]
    },
    {
      "cell_type": "markdown",
      "metadata": {
        "id": "ZbK-yYhSoMyS"
      },
      "source": [
        "*Разделим выборку на обучающую, валидационную и тестовую в соотношении 3:1:1*"
      ]
    },
    {
      "cell_type": "markdown",
      "metadata": {
        "id": "elp17mOYoMyT"
      },
      "source": [
        "*Для обучения и настройки модели не будем использовать столбцы:\n",
        "RowNumber — индекс строки в данных\n",
        "CustomerId — уникальный идентификатор клиента\n",
        "Surname — фамилия.\n",
        "Т.К они не важны в обучении.*"
      ]
    },
    {
      "cell_type": "code",
      "execution_count": null,
      "metadata": {
        "id": "vCbLlzCxoMyT"
      },
      "outputs": [],
      "source": [
        "features= df.drop(['Exited','RowNumber','CustomerId','Surname'],axis =1)\n",
        "target = df['Exited']"
      ]
    },
    {
      "cell_type": "code",
      "execution_count": null,
      "metadata": {
        "id": "n0FtANBUoMyT"
      },
      "outputs": [],
      "source": [
        "features_train,features_valid,target_train,target_valid =train_test_split(features,target,test_size = 0.4,random_state = 12345)"
      ]
    },
    {
      "cell_type": "code",
      "execution_count": null,
      "metadata": {
        "id": "7H7SCtafoMyT"
      },
      "outputs": [],
      "source": [
        "features_valid,features_test,target_valid,target_test= train_test_split(features_valid,target_valid,test_size = 0.5,random_state = 12345)"
      ]
    },
    {
      "cell_type": "markdown",
      "metadata": {
        "id": "AwOJV67QoMyT"
      },
      "source": []
    },
    {
      "cell_type": "markdown",
      "metadata": {
        "id": "ODkl9Z7loMyU"
      },
      "source": [
        "*Проведем масштабировании данных методом стандартизации*"
      ]
    },
    {
      "cell_type": "code",
      "execution_count": null,
      "metadata": {
        "id": "YHmutKi-oMyU",
        "outputId": "9969b3d0-c271-4cc7-bd61-c7204d5b1064"
      },
      "outputs": [
        {
          "name": "stderr",
          "output_type": "stream",
          "text": [
            "/tmp/ipykernel_203/2100902839.py:4: SettingWithCopyWarning: \n",
            "A value is trying to be set on a copy of a slice from a DataFrame.\n",
            "Try using .loc[row_indexer,col_indexer] = value instead\n",
            "\n",
            "See the caveats in the documentation: https://pandas.pydata.org/pandas-docs/stable/user_guide/indexing.html#returning-a-view-versus-a-copy\n",
            "  features_train[numeric] = scaler.transform(features_train[numeric])\n",
            "/opt/conda/lib/python3.9/site-packages/pandas/core/indexing.py:1738: SettingWithCopyWarning: \n",
            "A value is trying to be set on a copy of a slice from a DataFrame.\n",
            "Try using .loc[row_indexer,col_indexer] = value instead\n",
            "\n",
            "See the caveats in the documentation: https://pandas.pydata.org/pandas-docs/stable/user_guide/indexing.html#returning-a-view-versus-a-copy\n",
            "  self._setitem_single_column(loc, value[:, i].tolist(), pi)\n"
          ]
        }
      ],
      "source": [
        "numeric =['CreditScore','Age','Tenure','Balance','NumOfProducts','EstimatedSalary']\n",
        "scaler = StandardScaler()\n",
        "scaler.fit(features_train[numeric])\n",
        "features_train[numeric] = scaler.transform(features_train[numeric])\n",
        "features_valid[numeric] = scaler.transform(features_valid[numeric])\n",
        "features_test[numeric] = scaler.transform(features_test[numeric])"
      ]
    },
    {
      "cell_type": "markdown",
      "metadata": {
        "id": "xHI12l__oMyW"
      },
      "source": [
        "***На этапе подготовки данных были удалены пропуски в данных, для корректного обучения моделей.\n",
        "Так же данные были преобразованны техников OHE. Проведена масштабирование данных методом стандартизации.\n",
        "Было проведено разделение на обучающую, валидационную и тестовую выборку.***"
      ]
    },
    {
      "cell_type": "markdown",
      "metadata": {
        "id": "RMBHwkvWoMyX"
      },
      "source": []
    },
    {
      "cell_type": "markdown",
      "metadata": {
        "id": "eswpFoA_oMyX"
      },
      "source": [
        "## Исследование задачи"
      ]
    },
    {
      "cell_type": "markdown",
      "metadata": {
        "id": "Cjp2kVHxoMyX"
      },
      "source": [
        "*Иследуем и подсчитаем классы в целевом признаке*"
      ]
    },
    {
      "cell_type": "code",
      "execution_count": null,
      "metadata": {
        "id": "H9jdk4gxoMyX",
        "outputId": "7f87ed1a-7027-4071-dee6-9aee39ad3898"
      },
      "outputs": [
        {
          "name": "stdout",
          "output_type": "stream",
          "text": [
            "0    0.796062\n",
            "1    0.203938\n",
            "Name: Exited, dtype: float64\n"
          ]
        },
        {
          "data": {
            "text/plain": [
              "<function matplotlib.pyplot.show(close=None, block=None)>"
            ]
          },
          "execution_count": 14,
          "metadata": {},
          "output_type": "execute_result"
        },
        {
          "data": {
            "image/png": "[encoded data removed]",
            "text/plain": [
              "<Figure size 432x288 with 1 Axes>"
            ]
          },
          "metadata": {
            "needs_background": "light"
          },
          "output_type": "display_data"
        }
      ],
      "source": [
        "class_frequency = df['Exited'].value_counts(normalize = True)\n",
        "print(class_frequency)\n",
        "class_frequency.plot(kind = 'bar',title = 'Соотношение отрицательных и положительных классов')\n",
        "plt.show"
      ]
    },
    {
      "cell_type": "markdown",
      "metadata": {
        "id": "yVolCKtvoMyX"
      },
      "source": [
        "<div class=\"alert alert-info\">\n",
        "    Подписал"
      ]
    },
    {
      "cell_type": "markdown",
      "metadata": {
        "id": "zOizSM2yoMyX"
      },
      "source": [
        "Как видим в данных присутствует дисбаланс классов в отрицательную сторону. Метрика accuracy не подходит."
      ]
    },
    {
      "cell_type": "markdown",
      "metadata": {
        "id": "H8zsbp6KoMyY"
      },
      "source": [
        "*Посмотрим матрицу ошибок и метрику f1_score для дерева решений,случайного леса и деревьев решений.*"
      ]
    },
    {
      "cell_type": "code",
      "execution_count": null,
      "metadata": {
        "id": "MpIIFZbzoMyY",
        "outputId": "fa9ff8ac-37b9-476d-d179-6a6ae2f7f767"
      },
      "outputs": [
        {
          "name": "stdout",
          "output_type": "stream",
          "text": [
            "depth = 1 f1_score 0.0\n",
            "depth = 2 f1_score 0.5304878048780488\n",
            "depth = 3 f1_score 0.3726708074534161\n",
            "depth = 4 f1_score 0.5414551607445008\n",
            "depth = 5 f1_score 0.5140712945590994\n",
            "depth = 6 f1_score 0.5606837606837607\n",
            "depth = 7 f1_score 0.5773524720893142\n",
            "depth = 8 f1_score 0.5413290113452188\n",
            "depth = 9 f1_score 0.5429447852760736\n",
            "depth = 10 f1_score 0.5151515151515152\n",
            "depth = 11 f1_score 0.5128205128205129\n",
            "depth = 12 f1_score 0.49287749287749283\n",
            "depth = 13 f1_score 0.4811188811188812\n",
            "depth = 14 f1_score 0.4713896457765667\n",
            "depth = 15 f1_score 0.4932975871313673\n"
          ]
        }
      ],
      "source": [
        "for depth in range(1,16):\n",
        "    model = DecisionTreeClassifier(random_state=12345,max_depth=depth)# Обучаем случайный лес\n",
        "    model.fit(features_train, target_train)\n",
        "    predicted_valid = model.predict(features_valid)\n",
        "\n",
        "    print('depth =',depth,'f1_score',f1_score(target_valid,predicted_valid))"
      ]
    },
    {
      "cell_type": "code",
      "execution_count": null,
      "metadata": {
        "id": "KCHxSTTXoMyY",
        "outputId": "863626bb-788e-47dd-c6d9-497457a44e29"
      },
      "outputs": [
        {
          "data": {
            "text/plain": [
              "array([[1256,  185],\n",
              "       [ 193,  184]])"
            ]
          },
          "execution_count": 16,
          "metadata": {},
          "output_type": "execute_result"
        }
      ],
      "source": [
        "confusion_matrix(target_valid,predicted_valid)"
      ]
    },
    {
      "cell_type": "markdown",
      "metadata": {
        "id": "qvhES5L5oMyY"
      },
      "source": [
        "f1_score = 0.57, при гиперпараметрах max_depth=7\n",
        "Исходя из матрицы ошибок видим, что модель предсказывает в основном отрицательные классы.\n"
      ]
    },
    {
      "cell_type": "markdown",
      "metadata": {
        "id": "PuLvQCcIoMyZ"
      },
      "source": []
    },
    {
      "cell_type": "code",
      "execution_count": null,
      "metadata": {
        "id": "nQOlvo5-oMyZ",
        "outputId": "55327b91-3af2-4a6e-cdb6-4d95c75eba02"
      },
      "outputs": [
        {
          "data": {
            "text/plain": [
              "array([[1394,   47],\n",
              "       [ 301,   76]])"
            ]
          },
          "execution_count": 17,
          "metadata": {},
          "output_type": "execute_result"
        }
      ],
      "source": [
        "model_logistic = LogisticRegression(random_state=12345, solver='lbfgs', max_iter=1000)# Обучаем логистическую регрессию\n",
        "model_logistic.fit(features_train,target_train)\n",
        "logistic_result = model_logistic.predict(features_valid)\n",
        "confusion_matrix(target_valid,logistic_result)\n"
      ]
    },
    {
      "cell_type": "code",
      "execution_count": null,
      "metadata": {
        "id": "YISxkY35oMyZ",
        "outputId": "b0719f58-6e5e-42ce-bf1b-8cba00923254"
      },
      "outputs": [
        {
          "data": {
            "text/plain": [
              "0.30400000000000005"
            ]
          },
          "execution_count": 18,
          "metadata": {},
          "output_type": "execute_result"
        }
      ],
      "source": [
        "f1_score(target_valid,logistic_result)"
      ]
    },
    {
      "cell_type": "markdown",
      "metadata": {
        "id": "IgBNkCuuoMyZ"
      },
      "source": [
        "Как видим из матрицы ошибок, модель так же пресказывает большинство отрицательных ответов. f1_score = 0,3"
      ]
    },
    {
      "cell_type": "code",
      "execution_count": null,
      "metadata": {
        "id": "TiBss4BCoMyZ",
        "outputId": "d1ea8562-3ccf-449e-db37-397f45cf6a94"
      },
      "outputs": [
        {
          "name": "stdout",
          "output_type": "stream",
          "text": [
            "Глубина дерева: 1 n_estimators: 10 f1_score: 0.0\n",
            "Глубина дерева: 2 n_estimators: 10 f1_score: 0.1870503597122302\n",
            "Глубина дерева: 3 n_estimators: 10 f1_score: 0.2336448598130841\n",
            "Глубина дерева: 4 n_estimators: 10 f1_score: 0.40573770491803274\n",
            "Глубина дерева: 5 n_estimators: 10 f1_score: 0.47195357833655704\n",
            "Глубина дерева: 6 n_estimators: 10 f1_score: 0.5467625899280576\n",
            "Глубина дерева: 7 n_estimators: 10 f1_score: 0.5563380281690141\n",
            "Глубина дерева: 8 n_estimators: 10 f1_score: 0.5729166666666667\n",
            "Глубина дерева: 9 n_estimators: 10 f1_score: 0.5831903945111492\n",
            "Глубина дерева: 10 n_estimators: 10 f1_score: 0.5699658703071673\n",
            "Глубина дерева: 11 n_estimators: 10 f1_score: 0.5743589743589743\n",
            "Глубина дерева: 12 n_estimators: 10 f1_score: 0.5738539898132429\n",
            "Глубина дерева: 13 n_estimators: 10 f1_score: 0.5748299319727891\n",
            "Глубина дерева: 14 n_estimators: 10 f1_score: 0.5795644891122278\n",
            "Глубина дерева: 15 n_estimators: 10 f1_score: 0.5761047463175123\n",
            "Глубина дерева: 1 n_estimators: 20 f1_score: 0.0\n",
            "Глубина дерева: 2 n_estimators: 20 f1_score: 0.1870503597122302\n",
            "Глубина дерева: 3 n_estimators: 20 f1_score: 0.2336448598130841\n",
            "Глубина дерева: 4 n_estimators: 20 f1_score: 0.40573770491803274\n",
            "Глубина дерева: 5 n_estimators: 20 f1_score: 0.47195357833655704\n",
            "Глубина дерева: 6 n_estimators: 20 f1_score: 0.5467625899280576\n",
            "Глубина дерева: 7 n_estimators: 20 f1_score: 0.5563380281690141\n",
            "Глубина дерева: 8 n_estimators: 20 f1_score: 0.5729166666666667\n",
            "Глубина дерева: 9 n_estimators: 20 f1_score: 0.5831903945111492\n",
            "Глубина дерева: 10 n_estimators: 20 f1_score: 0.5699658703071673\n",
            "Глубина дерева: 11 n_estimators: 20 f1_score: 0.5743589743589743\n",
            "Глубина дерева: 12 n_estimators: 20 f1_score: 0.5738539898132429\n",
            "Глубина дерева: 13 n_estimators: 20 f1_score: 0.5748299319727891\n",
            "Глубина дерева: 14 n_estimators: 20 f1_score: 0.5795644891122278\n",
            "Глубина дерева: 15 n_estimators: 20 f1_score: 0.5761047463175123\n",
            "Глубина дерева: 1 n_estimators: 30 f1_score: 0.0\n",
            "Глубина дерева: 2 n_estimators: 30 f1_score: 0.1870503597122302\n",
            "Глубина дерева: 3 n_estimators: 30 f1_score: 0.2336448598130841\n",
            "Глубина дерева: 4 n_estimators: 30 f1_score: 0.40573770491803274\n",
            "Глубина дерева: 5 n_estimators: 30 f1_score: 0.47195357833655704\n",
            "Глубина дерева: 6 n_estimators: 30 f1_score: 0.5467625899280576\n",
            "Глубина дерева: 7 n_estimators: 30 f1_score: 0.5563380281690141\n",
            "Глубина дерева: 8 n_estimators: 30 f1_score: 0.5729166666666667\n",
            "Глубина дерева: 9 n_estimators: 30 f1_score: 0.5831903945111492\n",
            "Глубина дерева: 10 n_estimators: 30 f1_score: 0.5699658703071673\n",
            "Глубина дерева: 11 n_estimators: 30 f1_score: 0.5743589743589743\n",
            "Глубина дерева: 12 n_estimators: 30 f1_score: 0.5738539898132429\n",
            "Глубина дерева: 13 n_estimators: 30 f1_score: 0.5748299319727891\n",
            "Глубина дерева: 14 n_estimators: 30 f1_score: 0.5795644891122278\n",
            "Глубина дерева: 15 n_estimators: 30 f1_score: 0.5761047463175123\n",
            "Глубина дерева: 1 n_estimators: 40 f1_score: 0.0\n",
            "Глубина дерева: 2 n_estimators: 40 f1_score: 0.1870503597122302\n",
            "Глубина дерева: 3 n_estimators: 40 f1_score: 0.2336448598130841\n",
            "Глубина дерева: 4 n_estimators: 40 f1_score: 0.40573770491803274\n",
            "Глубина дерева: 5 n_estimators: 40 f1_score: 0.47195357833655704\n",
            "Глубина дерева: 6 n_estimators: 40 f1_score: 0.5467625899280576\n",
            "Глубина дерева: 7 n_estimators: 40 f1_score: 0.5563380281690141\n",
            "Глубина дерева: 8 n_estimators: 40 f1_score: 0.5729166666666667\n",
            "Глубина дерева: 9 n_estimators: 40 f1_score: 0.5831903945111492\n",
            "Глубина дерева: 10 n_estimators: 40 f1_score: 0.5699658703071673\n",
            "Глубина дерева: 11 n_estimators: 40 f1_score: 0.5743589743589743\n",
            "Глубина дерева: 12 n_estimators: 40 f1_score: 0.5738539898132429\n",
            "Глубина дерева: 13 n_estimators: 40 f1_score: 0.5748299319727891\n",
            "Глубина дерева: 14 n_estimators: 40 f1_score: 0.5795644891122278\n",
            "Глубина дерева: 15 n_estimators: 40 f1_score: 0.5761047463175123\n",
            "Глубина дерева: 1 n_estimators: 50 f1_score: 0.0\n",
            "Глубина дерева: 2 n_estimators: 50 f1_score: 0.1870503597122302\n",
            "Глубина дерева: 3 n_estimators: 50 f1_score: 0.2336448598130841\n",
            "Глубина дерева: 4 n_estimators: 50 f1_score: 0.40573770491803274\n",
            "Глубина дерева: 5 n_estimators: 50 f1_score: 0.47195357833655704\n",
            "Глубина дерева: 6 n_estimators: 50 f1_score: 0.5467625899280576\n",
            "Глубина дерева: 7 n_estimators: 50 f1_score: 0.5563380281690141\n",
            "Глубина дерева: 8 n_estimators: 50 f1_score: 0.5729166666666667\n",
            "Глубина дерева: 9 n_estimators: 50 f1_score: 0.5831903945111492\n",
            "Глубина дерева: 10 n_estimators: 50 f1_score: 0.5699658703071673\n",
            "Глубина дерева: 11 n_estimators: 50 f1_score: 0.5743589743589743\n",
            "Глубина дерева: 12 n_estimators: 50 f1_score: 0.5738539898132429\n",
            "Глубина дерева: 13 n_estimators: 50 f1_score: 0.5748299319727891\n",
            "Глубина дерева: 14 n_estimators: 50 f1_score: 0.5795644891122278\n",
            "Глубина дерева: 15 n_estimators: 50 f1_score: 0.5761047463175123\n",
            "Глубина дерева: 1 n_estimators: 60 f1_score: 0.0\n",
            "Глубина дерева: 2 n_estimators: 60 f1_score: 0.1870503597122302\n",
            "Глубина дерева: 3 n_estimators: 60 f1_score: 0.2336448598130841\n",
            "Глубина дерева: 4 n_estimators: 60 f1_score: 0.40573770491803274\n",
            "Глубина дерева: 5 n_estimators: 60 f1_score: 0.47195357833655704\n",
            "Глубина дерева: 6 n_estimators: 60 f1_score: 0.5467625899280576\n",
            "Глубина дерева: 7 n_estimators: 60 f1_score: 0.5563380281690141\n",
            "Глубина дерева: 8 n_estimators: 60 f1_score: 0.5729166666666667\n",
            "Глубина дерева: 9 n_estimators: 60 f1_score: 0.5831903945111492\n",
            "Глубина дерева: 10 n_estimators: 60 f1_score: 0.5699658703071673\n",
            "Глубина дерева: 11 n_estimators: 60 f1_score: 0.5743589743589743\n",
            "Глубина дерева: 12 n_estimators: 60 f1_score: 0.5738539898132429\n",
            "Глубина дерева: 13 n_estimators: 60 f1_score: 0.5748299319727891\n",
            "Глубина дерева: 14 n_estimators: 60 f1_score: 0.5795644891122278\n",
            "Глубина дерева: 15 n_estimators: 60 f1_score: 0.5761047463175123\n",
            "Глубина дерева: 1 n_estimators: 70 f1_score: 0.0\n",
            "Глубина дерева: 2 n_estimators: 70 f1_score: 0.1870503597122302\n",
            "Глубина дерева: 3 n_estimators: 70 f1_score: 0.2336448598130841\n",
            "Глубина дерева: 4 n_estimators: 70 f1_score: 0.40573770491803274\n",
            "Глубина дерева: 5 n_estimators: 70 f1_score: 0.47195357833655704\n",
            "Глубина дерева: 6 n_estimators: 70 f1_score: 0.5467625899280576\n",
            "Глубина дерева: 7 n_estimators: 70 f1_score: 0.5563380281690141\n",
            "Глубина дерева: 8 n_estimators: 70 f1_score: 0.5729166666666667\n",
            "Глубина дерева: 9 n_estimators: 70 f1_score: 0.5831903945111492\n",
            "Глубина дерева: 10 n_estimators: 70 f1_score: 0.5699658703071673\n",
            "Глубина дерева: 11 n_estimators: 70 f1_score: 0.5743589743589743\n",
            "Глубина дерева: 12 n_estimators: 70 f1_score: 0.5738539898132429\n",
            "Глубина дерева: 13 n_estimators: 70 f1_score: 0.5748299319727891\n",
            "Глубина дерева: 14 n_estimators: 70 f1_score: 0.5795644891122278\n",
            "Глубина дерева: 15 n_estimators: 70 f1_score: 0.5761047463175123\n",
            "Глубина дерева: 1 n_estimators: 80 f1_score: 0.0\n",
            "Глубина дерева: 2 n_estimators: 80 f1_score: 0.1870503597122302\n",
            "Глубина дерева: 3 n_estimators: 80 f1_score: 0.2336448598130841\n",
            "Глубина дерева: 4 n_estimators: 80 f1_score: 0.40573770491803274\n",
            "Глубина дерева: 5 n_estimators: 80 f1_score: 0.47195357833655704\n",
            "Глубина дерева: 6 n_estimators: 80 f1_score: 0.5467625899280576\n",
            "Глубина дерева: 7 n_estimators: 80 f1_score: 0.5563380281690141\n",
            "Глубина дерева: 8 n_estimators: 80 f1_score: 0.5729166666666667\n",
            "Глубина дерева: 9 n_estimators: 80 f1_score: 0.5831903945111492\n",
            "Глубина дерева: 10 n_estimators: 80 f1_score: 0.5699658703071673\n",
            "Глубина дерева: 11 n_estimators: 80 f1_score: 0.5743589743589743\n",
            "Глубина дерева: 12 n_estimators: 80 f1_score: 0.5738539898132429\n",
            "Глубина дерева: 13 n_estimators: 80 f1_score: 0.5748299319727891\n",
            "Глубина дерева: 14 n_estimators: 80 f1_score: 0.5795644891122278\n",
            "Глубина дерева: 15 n_estimators: 80 f1_score: 0.5761047463175123\n",
            "Глубина дерева: 1 n_estimators: 90 f1_score: 0.0\n",
            "Глубина дерева: 2 n_estimators: 90 f1_score: 0.1870503597122302\n",
            "Глубина дерева: 3 n_estimators: 90 f1_score: 0.2336448598130841\n",
            "Глубина дерева: 4 n_estimators: 90 f1_score: 0.40573770491803274\n",
            "Глубина дерева: 5 n_estimators: 90 f1_score: 0.47195357833655704\n",
            "Глубина дерева: 6 n_estimators: 90 f1_score: 0.5467625899280576\n",
            "Глубина дерева: 7 n_estimators: 90 f1_score: 0.5563380281690141\n",
            "Глубина дерева: 8 n_estimators: 90 f1_score: 0.5729166666666667\n",
            "Глубина дерева: 9 n_estimators: 90 f1_score: 0.5831903945111492\n",
            "Глубина дерева: 10 n_estimators: 90 f1_score: 0.5699658703071673\n",
            "Глубина дерева: 11 n_estimators: 90 f1_score: 0.5743589743589743\n",
            "Глубина дерева: 12 n_estimators: 90 f1_score: 0.5738539898132429\n",
            "Глубина дерева: 13 n_estimators: 90 f1_score: 0.5748299319727891\n",
            "Глубина дерева: 14 n_estimators: 90 f1_score: 0.5795644891122278\n",
            "Глубина дерева: 15 n_estimators: 90 f1_score: 0.5761047463175123\n",
            "Глубина дерева: 1 n_estimators: 100 f1_score: 0.0\n",
            "Глубина дерева: 2 n_estimators: 100 f1_score: 0.1870503597122302\n",
            "Глубина дерева: 3 n_estimators: 100 f1_score: 0.2336448598130841\n",
            "Глубина дерева: 4 n_estimators: 100 f1_score: 0.40573770491803274\n",
            "Глубина дерева: 5 n_estimators: 100 f1_score: 0.47195357833655704\n",
            "Глубина дерева: 6 n_estimators: 100 f1_score: 0.5467625899280576\n",
            "Глубина дерева: 7 n_estimators: 100 f1_score: 0.5563380281690141\n",
            "Глубина дерева: 8 n_estimators: 100 f1_score: 0.5729166666666667\n",
            "Глубина дерева: 9 n_estimators: 100 f1_score: 0.5831903945111492\n",
            "Глубина дерева: 10 n_estimators: 100 f1_score: 0.5699658703071673\n",
            "Глубина дерева: 11 n_estimators: 100 f1_score: 0.5743589743589743\n",
            "Глубина дерева: 12 n_estimators: 100 f1_score: 0.5738539898132429\n",
            "Глубина дерева: 13 n_estimators: 100 f1_score: 0.5748299319727891\n",
            "Глубина дерева: 14 n_estimators: 100 f1_score: 0.5795644891122278\n",
            "Глубина дерева: 15 n_estimators: 100 f1_score: 0.5761047463175123\n",
            "Глубина дерева: 1 n_estimators: 110 f1_score: 0.0\n",
            "Глубина дерева: 2 n_estimators: 110 f1_score: 0.1870503597122302\n",
            "Глубина дерева: 3 n_estimators: 110 f1_score: 0.2336448598130841\n",
            "Глубина дерева: 4 n_estimators: 110 f1_score: 0.40573770491803274\n",
            "Глубина дерева: 5 n_estimators: 110 f1_score: 0.47195357833655704\n",
            "Глубина дерева: 6 n_estimators: 110 f1_score: 0.5467625899280576\n",
            "Глубина дерева: 7 n_estimators: 110 f1_score: 0.5563380281690141\n",
            "Глубина дерева: 8 n_estimators: 110 f1_score: 0.5729166666666667\n",
            "Глубина дерева: 9 n_estimators: 110 f1_score: 0.5831903945111492\n",
            "Глубина дерева: 10 n_estimators: 110 f1_score: 0.5699658703071673\n",
            "Глубина дерева: 11 n_estimators: 110 f1_score: 0.5743589743589743\n",
            "Глубина дерева: 12 n_estimators: 110 f1_score: 0.5738539898132429\n",
            "Глубина дерева: 13 n_estimators: 110 f1_score: 0.5748299319727891\n",
            "Глубина дерева: 14 n_estimators: 110 f1_score: 0.5795644891122278\n",
            "Глубина дерева: 15 n_estimators: 110 f1_score: 0.5761047463175123\n",
            "Глубина дерева: 1 n_estimators: 120 f1_score: 0.0\n",
            "Глубина дерева: 2 n_estimators: 120 f1_score: 0.1870503597122302\n",
            "Глубина дерева: 3 n_estimators: 120 f1_score: 0.2336448598130841\n",
            "Глубина дерева: 4 n_estimators: 120 f1_score: 0.40573770491803274\n",
            "Глубина дерева: 5 n_estimators: 120 f1_score: 0.47195357833655704\n",
            "Глубина дерева: 6 n_estimators: 120 f1_score: 0.5467625899280576\n",
            "Глубина дерева: 7 n_estimators: 120 f1_score: 0.5563380281690141\n",
            "Глубина дерева: 8 n_estimators: 120 f1_score: 0.5729166666666667\n",
            "Глубина дерева: 9 n_estimators: 120 f1_score: 0.5831903945111492\n",
            "Глубина дерева: 10 n_estimators: 120 f1_score: 0.5699658703071673\n",
            "Глубина дерева: 11 n_estimators: 120 f1_score: 0.5743589743589743\n",
            "Глубина дерева: 12 n_estimators: 120 f1_score: 0.5738539898132429\n",
            "Глубина дерева: 13 n_estimators: 120 f1_score: 0.5748299319727891\n",
            "Глубина дерева: 14 n_estimators: 120 f1_score: 0.5795644891122278\n",
            "Глубина дерева: 15 n_estimators: 120 f1_score: 0.5761047463175123\n",
            "Глубина дерева: 1 n_estimators: 130 f1_score: 0.0\n",
            "Глубина дерева: 2 n_estimators: 130 f1_score: 0.1870503597122302\n",
            "Глубина дерева: 3 n_estimators: 130 f1_score: 0.2336448598130841\n",
            "Глубина дерева: 4 n_estimators: 130 f1_score: 0.40573770491803274\n",
            "Глубина дерева: 5 n_estimators: 130 f1_score: 0.47195357833655704\n",
            "Глубина дерева: 6 n_estimators: 130 f1_score: 0.5467625899280576\n",
            "Глубина дерева: 7 n_estimators: 130 f1_score: 0.5563380281690141\n",
            "Глубина дерева: 8 n_estimators: 130 f1_score: 0.5729166666666667\n",
            "Глубина дерева: 9 n_estimators: 130 f1_score: 0.5831903945111492\n",
            "Глубина дерева: 10 n_estimators: 130 f1_score: 0.5699658703071673\n",
            "Глубина дерева: 11 n_estimators: 130 f1_score: 0.5743589743589743\n",
            "Глубина дерева: 12 n_estimators: 130 f1_score: 0.5738539898132429\n",
            "Глубина дерева: 13 n_estimators: 130 f1_score: 0.5748299319727891\n",
            "Глубина дерева: 14 n_estimators: 130 f1_score: 0.5795644891122278\n",
            "Глубина дерева: 15 n_estimators: 130 f1_score: 0.5761047463175123\n",
            "Глубина дерева: 1 n_estimators: 140 f1_score: 0.0\n",
            "Глубина дерева: 2 n_estimators: 140 f1_score: 0.1870503597122302\n",
            "Глубина дерева: 3 n_estimators: 140 f1_score: 0.2336448598130841\n",
            "Глубина дерева: 4 n_estimators: 140 f1_score: 0.40573770491803274\n",
            "Глубина дерева: 5 n_estimators: 140 f1_score: 0.47195357833655704\n",
            "Глубина дерева: 6 n_estimators: 140 f1_score: 0.5467625899280576\n",
            "Глубина дерева: 7 n_estimators: 140 f1_score: 0.5563380281690141\n",
            "Глубина дерева: 8 n_estimators: 140 f1_score: 0.5729166666666667\n",
            "Глубина дерева: 9 n_estimators: 140 f1_score: 0.5831903945111492\n",
            "Глубина дерева: 10 n_estimators: 140 f1_score: 0.5699658703071673\n",
            "Глубина дерева: 11 n_estimators: 140 f1_score: 0.5743589743589743\n",
            "Глубина дерева: 12 n_estimators: 140 f1_score: 0.5738539898132429\n",
            "Глубина дерева: 13 n_estimators: 140 f1_score: 0.5748299319727891\n",
            "Глубина дерева: 14 n_estimators: 140 f1_score: 0.5795644891122278\n",
            "Глубина дерева: 15 n_estimators: 140 f1_score: 0.5761047463175123\n",
            "Глубина дерева: 1 n_estimators: 150 f1_score: 0.0\n",
            "Глубина дерева: 2 n_estimators: 150 f1_score: 0.1870503597122302\n",
            "Глубина дерева: 3 n_estimators: 150 f1_score: 0.2336448598130841\n",
            "Глубина дерева: 4 n_estimators: 150 f1_score: 0.40573770491803274\n",
            "Глубина дерева: 5 n_estimators: 150 f1_score: 0.47195357833655704\n",
            "Глубина дерева: 6 n_estimators: 150 f1_score: 0.5467625899280576\n",
            "Глубина дерева: 7 n_estimators: 150 f1_score: 0.5563380281690141\n",
            "Глубина дерева: 8 n_estimators: 150 f1_score: 0.5729166666666667\n",
            "Глубина дерева: 9 n_estimators: 150 f1_score: 0.5831903945111492\n",
            "Глубина дерева: 10 n_estimators: 150 f1_score: 0.5699658703071673\n",
            "Глубина дерева: 11 n_estimators: 150 f1_score: 0.5743589743589743\n",
            "Глубина дерева: 12 n_estimators: 150 f1_score: 0.5738539898132429\n",
            "Глубина дерева: 13 n_estimators: 150 f1_score: 0.5748299319727891\n",
            "Глубина дерева: 14 n_estimators: 150 f1_score: 0.5795644891122278\n",
            "Глубина дерева: 15 n_estimators: 150 f1_score: 0.5761047463175123\n"
          ]
        }
      ],
      "source": [
        "#Исследуем случайный лес\n",
        "\n",
        "for est in range(10, 151, 10):\n",
        "    for depth in range(1, 16):\n",
        "        model = RandomForestClassifier(random_state=12345, n_estimators=est, max_depth=depth)\n",
        "        model_forest = RandomForestClassifier(random_state=12345, n_estimators= 50 ,max_depth=depth)\n",
        "        model_forest.fit(features_train,target_train)\n",
        "        forest_result = model_forest.predict(features_valid)\n",
        "        print(\"Глубина дерева:\", depth,'n_estimators:',est,\"f1_score:\",f1_score(target_valid,forest_result))"
      ]
    },
    {
      "cell_type": "markdown",
      "metadata": {
        "id": "2WaqqNsdoMya"
      },
      "source": [
        "Лучший показатель f1_score: 0.58, при гиперпараметрах Глубина дерева: 9,n_estimators= 50"
      ]
    },
    {
      "cell_type": "markdown",
      "metadata": {
        "id": "Dx4B6DjaoMya"
      },
      "source": [
        "## Борьба с дисбалансом"
      ]
    },
    {
      "cell_type": "markdown",
      "metadata": {
        "id": "ey0eNXNyoMya"
      },
      "source": [
        "*Для борьбы с дисбалансом классов использовали метод upsampled(увеличиваем количество положительного класса в данных),так как для задач классифицации необходим баланс классов стремящийся к доле 1:1.*"
      ]
    },
    {
      "cell_type": "code",
      "execution_count": null,
      "metadata": {
        "id": "BTl6HzvaoMya"
      },
      "outputs": [],
      "source": [
        "def upsample(features, target, repeat):\n",
        "    features_zeros = features[target == 0]\n",
        "    features_ones = features[target == 1]\n",
        "    target_zeros = target[target == 0]\n",
        "    target_ones = target[target == 1]\n",
        "\n",
        "    features_upsampled = pd.concat([features_zeros] + [features_ones] * repeat)\n",
        "    target_upsampled = pd.concat([target_zeros] + [target_ones] * repeat)\n",
        "\n",
        "    features_upsampled, target_upsampled = shuffle(\n",
        "        features_upsampled, target_upsampled, random_state=12345)\n",
        "\n",
        "    return features_upsampled, target_upsampled\n",
        "\n",
        "features_upsampled, target_upsampled = upsample(features_train, target_train, 4)\n",
        "\n"
      ]
    },
    {
      "cell_type": "code",
      "execution_count": null,
      "metadata": {
        "id": "xPMM95GCoMyb",
        "outputId": "f9a08c7d-f0d1-4d21-ea83-f7c367ca8288"
      },
      "outputs": [
        {
          "name": "stdout",
          "output_type": "stream",
          "text": [
            "1    0.509964\n",
            "0    0.490036\n",
            "Name: Exited, dtype: float64\n"
          ]
        },
        {
          "data": {
            "text/plain": [
              "<AxesSubplot:title={'center':'Соотношение классов, после балансировки'}>"
            ]
          },
          "execution_count": 29,
          "metadata": {},
          "output_type": "execute_result"
        },
        {
          "data": {
            "image/png": "[encoded data removed]",
            "text/plain": [
              "<Figure size 432x288 with 1 Axes>"
            ]
          },
          "metadata": {
            "needs_background": "light"
          },
          "output_type": "display_data"
        }
      ],
      "source": [
        "class_target_upsampled = target_upsampled.value_counts(normalize = True)\n",
        "print(class_target_upsampled)\n",
        "class_target_upsampled.plot(kind = 'bar',title = 'Соотношение классов, после балансировки')"
      ]
    },
    {
      "cell_type": "markdown",
      "metadata": {
        "id": "meLSfYopoMyb"
      },
      "source": [
        "*Обучим различные модели с учетом устраненного дисбаланса*"
      ]
    },
    {
      "cell_type": "code",
      "execution_count": null,
      "metadata": {
        "id": "WMl1YIW6oMyc",
        "outputId": "21646ce0-99c0-465e-e485-a9b4348c3a6b"
      },
      "outputs": [
        {
          "name": "stdout",
          "output_type": "stream",
          "text": [
            "roc_auc_score 0.7779006989325494\n",
            "F1: 0.5085972850678734\n"
          ]
        }
      ],
      "source": [
        "model = LogisticRegression(random_state = 12345,solver='liblinear')# Обучаем логистическую регрессию\n",
        "model.fit(features_upsampled,target_upsampled)\n",
        "predicted_valid = model.predict(features_valid)\n",
        "probabilities_valid = model.predict_proba(features_valid)\n",
        "probabilities_one_valid = probabilities_valid[:, 1]\n",
        "print('roc_auc_score',roc_auc_score(target_valid, probabilities_one_valid))\n",
        "print(\"F1:\", f1_score(target_valid, predicted_valid))"
      ]
    },
    {
      "cell_type": "markdown",
      "metadata": {
        "id": "g4VwT9BooMyc"
      },
      "source": [
        "После балансировки данных метрика f1_score, для модели логистической регрессии находится на низком уровне. Метрика auc roc находится на уровне выше, чем случайная модель, но не достаточно близка к 1. Модель не подходит для дальнейшего использования"
      ]
    },
    {
      "cell_type": "code",
      "execution_count": null,
      "metadata": {
        "id": "lZzvI0vcoMyc",
        "outputId": "14ef1130-b5fa-4ac7-8938-7fb403264199"
      },
      "outputs": [
        {
          "name": "stdout",
          "output_type": "stream",
          "text": [
            "depth = 1 f1_score 0.5065856129685917 roc_auc_score 0.7066517320531535\n",
            "depth = 2 f1_score 0.5297619047619048 roc_auc_score 0.7580721463322148\n",
            "depth = 3 f1_score 0.548936170212766 roc_auc_score 0.7949267105624042\n",
            "depth = 4 f1_score 0.5461187214611872 roc_auc_score 0.8178983427733099\n",
            "depth = 5 f1_score 0.5735449735449736 roc_auc_score 0.8396523192522141\n"
          ]
        }
      ],
      "source": [
        "for depth in range(1,6):\n",
        "    model_tree = DecisionTreeClassifier(random_state=12345,max_depth=depth)# Обучаем случайный лес\n",
        "    model_tree.fit(features_upsampled,target_upsampled)\n",
        "    predicted_valid_three = model_tree.predict(features_valid)\n",
        "    probabilities_valid = model_tree.predict_proba(features_valid)\n",
        "    probabilities_one_valid = probabilities_valid[:, 1]\n",
        "    print('depth =',depth,'f1_score',f1_score(target_valid,predicted_valid_three),'roc_auc_score',roc_auc_score(target_valid, probabilities_one_valid))"
      ]
    },
    {
      "cell_type": "markdown",
      "metadata": {
        "id": "t5XDpWujoMyc"
      },
      "source": [
        "После балансировки данных максимальное значение метрики f1_score, для модели дерева решений = 0.51. Максимальное значение метрики auc roc 0.84,что является неплохим показателем, но из-за низкого показателя f1_score, модель не подходит для дальнейшего использования"
      ]
    },
    {
      "cell_type": "code",
      "execution_count": null,
      "metadata": {
        "id": "K57EXHH8oMyc",
        "outputId": "0fbe9de7-da4f-492e-fde8-3dbf0c609405"
      },
      "outputs": [
        {
          "name": "stdout",
          "output_type": "stream",
          "text": [
            "Глубина дерева: 11 Количество деревьев: 86 f1_score= 0.6339066339066339\n"
          ]
        }
      ],
      "source": [
        "best_metric = 0\n",
        "best_depth = 0\n",
        "for est in range(1,100,5):\n",
        "    for depth in range(1,20,1):\n",
        "        model_forest = RandomForestClassifier(random_state=12345, n_estimators= est,max_depth=depth)\n",
        "        model_forest.fit(features_upsampled,target_upsampled)\n",
        "        forest_result = model_forest.predict(features_valid)\n",
        "        f = f1_score(target_valid,forest_result)\n",
        "        if f > best_metric:\n",
        "            best_metric = f\n",
        "            best_depth = depth\n",
        "            best_est = est\n",
        "print(\"Глубина дерева:\", best_depth, \"Количество деревьев:\", best_est, \"f1_score=\", best_metric)\n"
      ]
    },
    {
      "cell_type": "markdown",
      "metadata": {
        "id": "1zapbAlMoMyc"
      },
      "source": [
        "Оптимальным вариантом гиперпараметров можно считать max_depth = 19,n_estimators= 81.\n",
        "F1= 0.63-находится на уровне удовлетворяющим задаче"
      ]
    },
    {
      "cell_type": "markdown",
      "metadata": {
        "id": "CeSsOasKoMyd"
      },
      "source": [
        "*После работы над дизбалансом классов, оптимальные показатели метрик имеет модель случайного леса. Для финальной тестирования выбираем данную модель с гиперпараметроми  n_estimators= 81 ,max_depth=19)*"
      ]
    },
    {
      "cell_type": "markdown",
      "metadata": {
        "id": "bjiaE4_toMyd"
      },
      "source": [
        "## Тестирование модели"
      ]
    },
    {
      "cell_type": "code",
      "execution_count": null,
      "metadata": {
        "id": "nCreU4IVoMyd",
        "outputId": "aeb673b3-f4d2-492a-f5d6-a399a636daf3"
      },
      "outputs": [
        {
          "name": "stdout",
          "output_type": "stream",
          "text": [
            "f1_score: 0.6012084592145015 roc_auc_score 0.8481246652227579\n"
          ]
        }
      ],
      "source": [
        "model_forest = RandomForestClassifier(random_state=12345, n_estimators= 81,max_depth=19)\n",
        "model_forest.fit(features_upsampled,target_upsampled)\n",
        "forest_result = model_forest.predict(features_test)\n",
        "probabilities_valid = model_forest.predict_proba(features_test)\n",
        "probabilities_one_valid = probabilities_valid[:, 1]\n",
        "print(\"f1_score:\", f1_score(target_test,forest_result),'roc_auc_score',roc_auc_score(target_test, probabilities_one_valid))"
      ]
    },
    {
      "cell_type": "markdown",
      "metadata": {
        "id": "v0Ze0pEroMyd"
      },
      "source": [
        "*Найдем Полноту, что бы посмотреть как точно модель предсказывает отток клиентов. Так же проверим модель на адекватность*"
      ]
    },
    {
      "cell_type": "code",
      "execution_count": null,
      "metadata": {
        "id": "jN5U0Ln5oMyd",
        "outputId": "a1f2b59d-ee37-451d-c7f2-7067f9495aa3"
      },
      "outputs": [
        {
          "data": {
            "text/plain": [
              "0.5669515669515669"
            ]
          },
          "execution_count": 26,
          "metadata": {},
          "output_type": "execute_result"
        }
      ],
      "source": [
        "recall_score(target_test,forest_result)"
      ]
    },
    {
      "cell_type": "markdown",
      "metadata": {
        "id": "VCcbL9UAoMye"
      },
      "source": [
        "Проверим модель на адекватность(сравним нашу модель с моделью предсказывающий одно значение)"
      ]
    },
    {
      "cell_type": "code",
      "execution_count": null,
      "metadata": {
        "id": "pSgeDrRooMye",
        "outputId": "586d52c1-611f-41a5-dd36-66b19e0e8152"
      },
      "outputs": [
        {
          "data": {
            "text/plain": [
              "0.3235023041474654"
            ]
          },
          "execution_count": 27,
          "metadata": {},
          "output_type": "execute_result"
        }
      ],
      "source": [
        "dummy_model = DummyClassifier(strategy='constant', constant=1)\n",
        "dummy_model.fit(features_train, target_train)\n",
        "dummy = dummy_model.predict(features_test)\n",
        "f1_score(target_test,dummy)"
      ]
    },
    {
      "cell_type": "markdown",
      "metadata": {
        "id": "dPTJqVTZoMye"
      },
      "source": [
        "*Показатель f1_score у модели случайного леса выше показателя константной модели, модель проходит проверку на адекватность.\n",
        "При достигнутых показателях f1_score, модель предсказывает верный отток клиентов с точностью 56%(recall = 0.56)*"
      ]
    },
    {
      "cell_type": "markdown",
      "metadata": {
        "id": "jTwxk_hqoMye"
      },
      "source": [
        "*В ходе выполнения проекта была проделана работа:\n",
        "-На этапе подготовки данных были удалены пропуски в данных, для корректного обучения моделей. Так же данные были преобразованны техников OHE. Проведена масштабирование данных методом стандартизации. Было проведено разделение на обучающую, валидационную и тестовую выборку.\n",
        "-Проведено обучение модели без учета дисбаланса классов\n",
        "-Проведена работа по борьбе с дисбалансом и повторном обучение различных моделей с достижением необходимых метрик.*\n",
        "\n",
        "*В результате тестирования модели на тестовой выборке,были достигнуты метрики f1_score: 0.60 и roc_auc_score 0.84.*\n"
      ]
    },
    {
      "cell_type": "markdown",
      "metadata": {
        "id": "I2aFvyBboMye"
      },
      "source": [
        "<div class=\"alert alert-info\">\n",
        "Добавил сравнение моделей и  метрику recall.\n",
        "Хотел задать вопрос касаемо метрики AUC-ROС. Каким образом ее анализировать. Нигде не нашел информации кроме того что здорово,если она стремится к 1 и выше 0.9. Заранее спасибо за ответ."
      ]
    }
  ],
  "metadata": {
    "ExecuteTimeLog": [
      {
        "duration": 495,
        "start_time": "2023-04-02T09:55:37.495Z"
      },
      {
        "duration": 794,
        "start_time": "2023-04-02T09:56:15.702Z"
      },
      {
        "duration": 19,
        "start_time": "2023-04-02T09:57:44.488Z"
      },
      {
        "duration": 10,
        "start_time": "2023-04-02T09:58:20.959Z"
      },
      {
        "duration": 3,
        "start_time": "2023-04-02T09:58:31.114Z"
      },
      {
        "duration": 168,
        "start_time": "2023-04-02T09:59:11.412Z"
      },
      {
        "duration": 68,
        "start_time": "2023-04-02T09:59:14.771Z"
      },
      {
        "duration": 9,
        "start_time": "2023-04-02T10:00:23.798Z"
      },
      {
        "duration": 49,
        "start_time": "2023-04-02T10:02:30.236Z"
      },
      {
        "duration": 6,
        "start_time": "2023-04-02T11:30:46.630Z"
      },
      {
        "duration": 6,
        "start_time": "2023-04-02T11:31:09.789Z"
      },
      {
        "duration": 6,
        "start_time": "2023-04-02T11:31:42.328Z"
      },
      {
        "duration": 9,
        "start_time": "2023-04-02T11:32:07.475Z"
      },
      {
        "duration": 10,
        "start_time": "2023-04-02T11:32:14.793Z"
      },
      {
        "duration": 9,
        "start_time": "2023-04-02T11:32:20.369Z"
      },
      {
        "duration": 24,
        "start_time": "2023-04-02T11:32:44.365Z"
      },
      {
        "duration": 11,
        "start_time": "2023-04-02T11:33:02.069Z"
      },
      {
        "duration": 6,
        "start_time": "2023-04-02T11:33:21.677Z"
      },
      {
        "duration": 9,
        "start_time": "2023-04-02T11:33:29.100Z"
      },
      {
        "duration": 6,
        "start_time": "2023-04-02T11:36:11.974Z"
      },
      {
        "duration": 581,
        "start_time": "2023-04-02T11:36:18.971Z"
      },
      {
        "duration": 1116,
        "start_time": "2023-04-03T09:18:55.695Z"
      },
      {
        "duration": 93,
        "start_time": "2023-04-03T09:18:56.813Z"
      },
      {
        "duration": 14,
        "start_time": "2023-04-03T09:18:56.908Z"
      },
      {
        "duration": 588,
        "start_time": "2023-04-03T09:18:56.923Z"
      },
      {
        "duration": 15,
        "start_time": "2023-04-03T09:18:57.514Z"
      },
      {
        "duration": 11,
        "start_time": "2023-04-03T09:23:10.648Z"
      },
      {
        "duration": 13,
        "start_time": "2023-04-03T09:23:22.529Z"
      },
      {
        "duration": 8,
        "start_time": "2023-04-03T09:25:09.407Z"
      },
      {
        "duration": 14,
        "start_time": "2023-04-03T09:25:11.638Z"
      },
      {
        "duration": 15,
        "start_time": "2023-04-03T09:51:03.143Z"
      },
      {
        "duration": 5,
        "start_time": "2023-04-03T09:59:40.230Z"
      },
      {
        "duration": 39,
        "start_time": "2023-04-03T10:25:01.041Z"
      },
      {
        "duration": 42,
        "start_time": "2023-04-03T10:25:12.481Z"
      },
      {
        "duration": 30,
        "start_time": "2023-04-03T10:25:33.397Z"
      },
      {
        "duration": 13,
        "start_time": "2023-04-03T10:26:49.620Z"
      },
      {
        "duration": 25,
        "start_time": "2023-04-03T10:26:53.586Z"
      },
      {
        "duration": 152,
        "start_time": "2023-04-03T10:33:04.138Z"
      },
      {
        "duration": 13,
        "start_time": "2023-04-03T10:33:13.989Z"
      },
      {
        "duration": 15,
        "start_time": "2023-04-03T10:33:30.518Z"
      },
      {
        "duration": 1210,
        "start_time": "2023-04-03T10:34:45.530Z"
      },
      {
        "duration": 113,
        "start_time": "2023-04-03T10:34:46.742Z"
      },
      {
        "duration": 0,
        "start_time": "2023-04-03T10:34:46.857Z"
      },
      {
        "duration": 0,
        "start_time": "2023-04-03T10:34:46.859Z"
      },
      {
        "duration": 0,
        "start_time": "2023-04-03T10:34:46.861Z"
      },
      {
        "duration": 0,
        "start_time": "2023-04-03T10:34:46.862Z"
      },
      {
        "duration": 0,
        "start_time": "2023-04-03T10:34:46.875Z"
      },
      {
        "duration": 0,
        "start_time": "2023-04-03T10:34:46.877Z"
      },
      {
        "duration": 1458,
        "start_time": "2023-04-03T10:35:13.788Z"
      },
      {
        "duration": 49,
        "start_time": "2023-04-03T10:35:15.249Z"
      },
      {
        "duration": 13,
        "start_time": "2023-04-03T10:35:15.300Z"
      },
      {
        "duration": 9,
        "start_time": "2023-04-03T10:35:15.315Z"
      },
      {
        "duration": 18,
        "start_time": "2023-04-03T10:35:15.327Z"
      },
      {
        "duration": 55,
        "start_time": "2023-04-03T10:35:15.347Z"
      },
      {
        "duration": 22,
        "start_time": "2023-04-03T10:35:15.405Z"
      },
      {
        "duration": 10,
        "start_time": "2023-04-03T10:35:26.689Z"
      },
      {
        "duration": 28,
        "start_time": "2023-04-03T10:35:30.181Z"
      },
      {
        "duration": 14,
        "start_time": "2023-04-03T10:36:06.396Z"
      },
      {
        "duration": 12,
        "start_time": "2023-04-03T10:36:43.708Z"
      },
      {
        "duration": 37,
        "start_time": "2023-04-03T10:36:46.344Z"
      },
      {
        "duration": 14,
        "start_time": "2023-04-03T10:36:58.848Z"
      },
      {
        "duration": 6,
        "start_time": "2023-04-03T11:06:59.578Z"
      },
      {
        "duration": 23,
        "start_time": "2023-04-03T11:07:06.083Z"
      },
      {
        "duration": 21,
        "start_time": "2023-04-03T11:07:20.244Z"
      },
      {
        "duration": 22,
        "start_time": "2023-04-03T11:07:32.337Z"
      },
      {
        "duration": 110,
        "start_time": "2023-04-03T11:07:42.436Z"
      },
      {
        "duration": 14,
        "start_time": "2023-04-03T11:07:46.638Z"
      },
      {
        "duration": 13,
        "start_time": "2023-04-03T11:07:57.575Z"
      },
      {
        "duration": 1152,
        "start_time": "2023-04-03T11:08:21.065Z"
      },
      {
        "duration": 38,
        "start_time": "2023-04-03T11:08:22.219Z"
      },
      {
        "duration": 20,
        "start_time": "2023-04-03T11:08:22.259Z"
      },
      {
        "duration": 12,
        "start_time": "2023-04-03T11:08:22.281Z"
      },
      {
        "duration": 7,
        "start_time": "2023-04-03T11:08:22.296Z"
      },
      {
        "duration": 34,
        "start_time": "2023-04-03T11:08:22.304Z"
      },
      {
        "duration": 19,
        "start_time": "2023-04-03T11:08:22.340Z"
      },
      {
        "duration": 15,
        "start_time": "2023-04-03T11:08:22.361Z"
      },
      {
        "duration": 20,
        "start_time": "2023-04-03T11:08:22.378Z"
      },
      {
        "duration": 17,
        "start_time": "2023-04-03T11:08:22.400Z"
      },
      {
        "duration": 113,
        "start_time": "2023-04-03T11:08:34.871Z"
      },
      {
        "duration": 24,
        "start_time": "2023-04-03T11:08:40.066Z"
      },
      {
        "duration": 5,
        "start_time": "2023-04-03T11:13:20.854Z"
      },
      {
        "duration": 21,
        "start_time": "2023-04-03T11:13:31.075Z"
      },
      {
        "duration": 7,
        "start_time": "2023-04-03T11:16:53.326Z"
      },
      {
        "duration": 16,
        "start_time": "2023-04-03T11:35:48.540Z"
      },
      {
        "duration": 47,
        "start_time": "2023-04-03T11:36:13.223Z"
      },
      {
        "duration": 10,
        "start_time": "2023-04-03T11:36:24.633Z"
      },
      {
        "duration": 10,
        "start_time": "2023-04-03T11:37:13.609Z"
      },
      {
        "duration": 20,
        "start_time": "2023-04-03T11:37:43.943Z"
      },
      {
        "duration": 49,
        "start_time": "2023-04-03T11:38:54.461Z"
      },
      {
        "duration": 5,
        "start_time": "2023-04-03T11:39:01.712Z"
      },
      {
        "duration": 21,
        "start_time": "2023-04-03T11:39:08.514Z"
      },
      {
        "duration": 6,
        "start_time": "2023-04-03T11:39:56.892Z"
      },
      {
        "duration": 8,
        "start_time": "2023-04-03T11:40:03.079Z"
      },
      {
        "duration": 6,
        "start_time": "2023-04-03T11:41:33.135Z"
      },
      {
        "duration": 6,
        "start_time": "2023-04-03T11:41:57.985Z"
      },
      {
        "duration": 12,
        "start_time": "2023-04-03T11:43:05.724Z"
      },
      {
        "duration": 6,
        "start_time": "2023-04-03T11:44:16.985Z"
      },
      {
        "duration": 24,
        "start_time": "2023-04-03T11:44:26.936Z"
      },
      {
        "duration": 7,
        "start_time": "2023-04-03T11:46:13.615Z"
      },
      {
        "duration": 8,
        "start_time": "2023-04-03T11:46:35.847Z"
      },
      {
        "duration": 10,
        "start_time": "2023-04-03T11:49:24.643Z"
      },
      {
        "duration": 3,
        "start_time": "2023-04-03T11:49:43.342Z"
      },
      {
        "duration": 1150,
        "start_time": "2023-04-03T11:49:50.258Z"
      },
      {
        "duration": 39,
        "start_time": "2023-04-03T11:49:51.410Z"
      },
      {
        "duration": 21,
        "start_time": "2023-04-03T11:49:51.451Z"
      },
      {
        "duration": 14,
        "start_time": "2023-04-03T11:49:51.473Z"
      },
      {
        "duration": 8,
        "start_time": "2023-04-03T11:49:51.489Z"
      },
      {
        "duration": 12,
        "start_time": "2023-04-03T11:49:51.499Z"
      },
      {
        "duration": 13,
        "start_time": "2023-04-03T11:49:51.513Z"
      },
      {
        "duration": 11,
        "start_time": "2023-04-03T11:49:51.527Z"
      },
      {
        "duration": 35,
        "start_time": "2023-04-03T11:49:51.540Z"
      },
      {
        "duration": 14,
        "start_time": "2023-04-03T11:49:51.577Z"
      },
      {
        "duration": 16,
        "start_time": "2023-04-03T11:49:51.593Z"
      },
      {
        "duration": 15,
        "start_time": "2023-04-03T12:22:08.583Z"
      },
      {
        "duration": 105,
        "start_time": "2023-04-03T12:41:58.306Z"
      },
      {
        "duration": 9,
        "start_time": "2023-04-03T12:42:09.552Z"
      },
      {
        "duration": 10,
        "start_time": "2023-04-03T12:42:14.123Z"
      },
      {
        "duration": 29,
        "start_time": "2023-04-03T12:43:01.692Z"
      },
      {
        "duration": 5,
        "start_time": "2023-04-03T12:43:35.580Z"
      },
      {
        "duration": 4,
        "start_time": "2023-04-03T12:44:00.522Z"
      },
      {
        "duration": 19,
        "start_time": "2023-04-03T12:44:29.841Z"
      },
      {
        "duration": 430,
        "start_time": "2023-04-03T13:15:17.108Z"
      },
      {
        "duration": 5,
        "start_time": "2023-04-03T13:50:51.384Z"
      },
      {
        "duration": 1106,
        "start_time": "2023-04-03T13:50:59.038Z"
      },
      {
        "duration": 43,
        "start_time": "2023-04-03T13:51:00.147Z"
      },
      {
        "duration": 21,
        "start_time": "2023-04-03T13:51:00.192Z"
      },
      {
        "duration": 30,
        "start_time": "2023-04-03T13:51:00.215Z"
      },
      {
        "duration": 32,
        "start_time": "2023-04-03T13:51:00.248Z"
      },
      {
        "duration": 28,
        "start_time": "2023-04-03T13:51:00.281Z"
      },
      {
        "duration": 36,
        "start_time": "2023-04-03T13:51:00.310Z"
      },
      {
        "duration": 45,
        "start_time": "2023-04-03T13:51:00.347Z"
      },
      {
        "duration": 23,
        "start_time": "2023-04-03T13:51:00.395Z"
      },
      {
        "duration": 23,
        "start_time": "2023-04-03T13:51:00.420Z"
      },
      {
        "duration": 27,
        "start_time": "2023-04-03T13:51:00.445Z"
      },
      {
        "duration": 39,
        "start_time": "2023-04-03T13:51:00.474Z"
      },
      {
        "duration": 398,
        "start_time": "2023-04-03T13:51:00.514Z"
      },
      {
        "duration": 5,
        "start_time": "2023-04-03T14:29:53.811Z"
      },
      {
        "duration": 111,
        "start_time": "2023-04-03T14:29:57.151Z"
      },
      {
        "duration": 23,
        "start_time": "2023-04-03T14:30:13.210Z"
      },
      {
        "duration": 1150,
        "start_time": "2023-04-03T20:33:37.187Z"
      },
      {
        "duration": 84,
        "start_time": "2023-04-03T20:33:38.340Z"
      },
      {
        "duration": 19,
        "start_time": "2023-04-03T20:33:38.425Z"
      },
      {
        "duration": 11,
        "start_time": "2023-04-03T20:33:38.445Z"
      },
      {
        "duration": 7,
        "start_time": "2023-04-03T20:33:38.458Z"
      },
      {
        "duration": 8,
        "start_time": "2023-04-03T20:33:38.467Z"
      },
      {
        "duration": 13,
        "start_time": "2023-04-03T20:33:38.476Z"
      },
      {
        "duration": 10,
        "start_time": "2023-04-03T20:33:38.491Z"
      },
      {
        "duration": 6,
        "start_time": "2023-04-03T20:33:38.503Z"
      },
      {
        "duration": 4,
        "start_time": "2023-04-03T20:33:38.512Z"
      },
      {
        "duration": 7,
        "start_time": "2023-04-03T20:33:38.518Z"
      },
      {
        "duration": 64,
        "start_time": "2023-04-03T20:33:38.527Z"
      },
      {
        "duration": 483,
        "start_time": "2023-04-03T20:33:38.592Z"
      },
      {
        "duration": 124,
        "start_time": "2023-04-03T20:33:39.076Z"
      },
      {
        "duration": 6,
        "start_time": "2023-04-03T20:34:33.426Z"
      },
      {
        "duration": 4,
        "start_time": "2023-04-03T20:35:29.592Z"
      },
      {
        "duration": 39,
        "start_time": "2023-04-03T20:36:30.708Z"
      },
      {
        "duration": 27,
        "start_time": "2023-04-03T20:37:16.723Z"
      },
      {
        "duration": 28,
        "start_time": "2023-04-03T20:37:24.970Z"
      },
      {
        "duration": 13,
        "start_time": "2023-04-03T20:39:20.490Z"
      },
      {
        "duration": 12,
        "start_time": "2023-04-03T20:46:07.296Z"
      },
      {
        "duration": 5,
        "start_time": "2023-04-03T20:46:21.132Z"
      },
      {
        "duration": 1015,
        "start_time": "2023-04-03T20:46:37.709Z"
      },
      {
        "duration": 36,
        "start_time": "2023-04-03T20:46:38.726Z"
      },
      {
        "duration": 18,
        "start_time": "2023-04-03T20:46:38.764Z"
      },
      {
        "duration": 12,
        "start_time": "2023-04-03T20:46:38.783Z"
      },
      {
        "duration": 7,
        "start_time": "2023-04-03T20:46:38.797Z"
      },
      {
        "duration": 7,
        "start_time": "2023-04-03T20:46:38.805Z"
      },
      {
        "duration": 20,
        "start_time": "2023-04-03T20:46:38.815Z"
      },
      {
        "duration": 3,
        "start_time": "2023-04-03T20:46:38.837Z"
      },
      {
        "duration": 0,
        "start_time": "2023-04-03T20:46:38.841Z"
      },
      {
        "duration": 0,
        "start_time": "2023-04-03T20:46:38.842Z"
      },
      {
        "duration": 0,
        "start_time": "2023-04-03T20:46:38.844Z"
      },
      {
        "duration": 0,
        "start_time": "2023-04-03T20:46:38.870Z"
      },
      {
        "duration": 0,
        "start_time": "2023-04-03T20:46:38.872Z"
      },
      {
        "duration": 0,
        "start_time": "2023-04-03T20:46:38.874Z"
      },
      {
        "duration": 0,
        "start_time": "2023-04-03T20:46:38.874Z"
      },
      {
        "duration": 10,
        "start_time": "2023-04-03T20:46:52.001Z"
      },
      {
        "duration": 92,
        "start_time": "2023-04-03T20:46:56.824Z"
      },
      {
        "duration": 52,
        "start_time": "2023-04-03T20:47:34.727Z"
      },
      {
        "duration": 15,
        "start_time": "2023-04-03T20:52:15.646Z"
      },
      {
        "duration": 18,
        "start_time": "2023-04-03T20:52:25.823Z"
      },
      {
        "duration": 17,
        "start_time": "2023-04-03T20:52:37.964Z"
      },
      {
        "duration": 997,
        "start_time": "2023-04-03T20:52:48.208Z"
      },
      {
        "duration": 38,
        "start_time": "2023-04-03T20:52:49.207Z"
      },
      {
        "duration": 21,
        "start_time": "2023-04-03T20:52:49.246Z"
      },
      {
        "duration": 13,
        "start_time": "2023-04-03T20:52:49.268Z"
      },
      {
        "duration": 8,
        "start_time": "2023-04-03T20:52:49.284Z"
      },
      {
        "duration": 9,
        "start_time": "2023-04-03T20:52:49.294Z"
      },
      {
        "duration": 16,
        "start_time": "2023-04-03T20:52:49.305Z"
      },
      {
        "duration": 13,
        "start_time": "2023-04-03T20:52:49.323Z"
      },
      {
        "duration": 41,
        "start_time": "2023-04-03T20:52:49.338Z"
      },
      {
        "duration": 7,
        "start_time": "2023-04-03T20:52:49.381Z"
      },
      {
        "duration": 8,
        "start_time": "2023-04-03T20:52:49.390Z"
      },
      {
        "duration": 28,
        "start_time": "2023-04-03T20:52:49.400Z"
      },
      {
        "duration": 436,
        "start_time": "2023-04-03T20:52:49.430Z"
      },
      {
        "duration": 5,
        "start_time": "2023-04-03T20:52:49.869Z"
      },
      {
        "duration": 138,
        "start_time": "2023-04-03T20:52:49.876Z"
      },
      {
        "duration": 10,
        "start_time": "2023-04-03T20:53:17.175Z"
      },
      {
        "duration": 1087,
        "start_time": "2023-04-03T20:53:31.637Z"
      },
      {
        "duration": 36,
        "start_time": "2023-04-03T20:53:32.726Z"
      },
      {
        "duration": 20,
        "start_time": "2023-04-03T20:53:32.764Z"
      },
      {
        "duration": 14,
        "start_time": "2023-04-03T20:53:32.785Z"
      },
      {
        "duration": 8,
        "start_time": "2023-04-03T20:53:32.801Z"
      },
      {
        "duration": 7,
        "start_time": "2023-04-03T20:53:32.811Z"
      },
      {
        "duration": 12,
        "start_time": "2023-04-03T20:53:32.820Z"
      },
      {
        "duration": 42,
        "start_time": "2023-04-03T20:53:32.833Z"
      },
      {
        "duration": 10,
        "start_time": "2023-04-03T20:53:32.877Z"
      },
      {
        "duration": 5,
        "start_time": "2023-04-03T20:53:32.889Z"
      },
      {
        "duration": 22,
        "start_time": "2023-04-03T20:53:32.896Z"
      },
      {
        "duration": 21,
        "start_time": "2023-04-03T20:53:32.920Z"
      },
      {
        "duration": 33,
        "start_time": "2023-04-03T20:53:32.943Z"
      },
      {
        "duration": 506,
        "start_time": "2023-04-03T20:53:32.979Z"
      },
      {
        "duration": 974,
        "start_time": "2023-04-03T20:53:33.487Z"
      },
      {
        "duration": 0,
        "start_time": "2023-04-03T20:53:34.463Z"
      },
      {
        "duration": 48,
        "start_time": "2023-04-03T20:53:50.848Z"
      },
      {
        "duration": 5,
        "start_time": "2023-04-03T20:55:26.023Z"
      },
      {
        "duration": 1173,
        "start_time": "2023-04-03T20:55:31.889Z"
      },
      {
        "duration": 63,
        "start_time": "2023-04-03T20:55:33.064Z"
      },
      {
        "duration": 22,
        "start_time": "2023-04-03T20:55:33.130Z"
      },
      {
        "duration": 15,
        "start_time": "2023-04-03T20:55:33.154Z"
      },
      {
        "duration": 11,
        "start_time": "2023-04-03T20:55:33.173Z"
      },
      {
        "duration": 10,
        "start_time": "2023-04-03T20:55:33.188Z"
      },
      {
        "duration": 12,
        "start_time": "2023-04-03T20:55:33.204Z"
      },
      {
        "duration": 9,
        "start_time": "2023-04-03T20:55:33.217Z"
      },
      {
        "duration": 7,
        "start_time": "2023-04-03T20:55:33.228Z"
      },
      {
        "duration": 6,
        "start_time": "2023-04-03T20:55:33.237Z"
      },
      {
        "duration": 5,
        "start_time": "2023-04-03T20:55:33.245Z"
      },
      {
        "duration": 23,
        "start_time": "2023-04-03T20:55:33.251Z"
      },
      {
        "duration": 37,
        "start_time": "2023-04-03T20:55:33.277Z"
      },
      {
        "duration": 427,
        "start_time": "2023-04-03T20:55:33.317Z"
      },
      {
        "duration": 49,
        "start_time": "2023-04-03T20:55:33.746Z"
      },
      {
        "duration": 6,
        "start_time": "2023-04-03T21:19:34.483Z"
      },
      {
        "duration": 1276,
        "start_time": "2023-04-04T15:58:00.064Z"
      },
      {
        "duration": 101,
        "start_time": "2023-04-04T15:58:01.343Z"
      },
      {
        "duration": 23,
        "start_time": "2023-04-04T15:58:01.446Z"
      },
      {
        "duration": 16,
        "start_time": "2023-04-04T15:58:01.470Z"
      },
      {
        "duration": 24,
        "start_time": "2023-04-04T15:58:01.491Z"
      },
      {
        "duration": 24,
        "start_time": "2023-04-04T15:58:01.517Z"
      },
      {
        "duration": 33,
        "start_time": "2023-04-04T15:58:01.543Z"
      },
      {
        "duration": 39,
        "start_time": "2023-04-04T15:58:01.578Z"
      },
      {
        "duration": 25,
        "start_time": "2023-04-04T15:58:01.619Z"
      },
      {
        "duration": 11,
        "start_time": "2023-04-04T15:58:01.646Z"
      },
      {
        "duration": 7,
        "start_time": "2023-04-04T15:58:01.660Z"
      },
      {
        "duration": 15,
        "start_time": "2023-04-04T15:58:01.668Z"
      },
      {
        "duration": 46,
        "start_time": "2023-04-04T15:58:01.685Z"
      },
      {
        "duration": 601,
        "start_time": "2023-04-04T15:58:01.734Z"
      },
      {
        "duration": 35,
        "start_time": "2023-04-04T15:58:02.337Z"
      },
      {
        "duration": 16,
        "start_time": "2023-04-04T15:58:02.392Z"
      },
      {
        "duration": 584,
        "start_time": "2023-04-04T16:02:14.211Z"
      },
      {
        "duration": 462,
        "start_time": "2023-04-04T16:02:57.276Z"
      },
      {
        "duration": 74,
        "start_time": "2023-04-04T16:03:07.959Z"
      },
      {
        "duration": 50,
        "start_time": "2023-04-04T16:03:10.722Z"
      },
      {
        "duration": 530,
        "start_time": "2023-04-04T16:03:19.570Z"
      },
      {
        "duration": 8,
        "start_time": "2023-04-04T16:03:25.215Z"
      },
      {
        "duration": 360,
        "start_time": "2023-04-04T16:03:31.937Z"
      },
      {
        "duration": 170,
        "start_time": "2023-04-04T16:03:38.760Z"
      },
      {
        "duration": 11,
        "start_time": "2023-04-04T16:03:41.621Z"
      },
      {
        "duration": 64,
        "start_time": "2023-04-04T16:22:21.286Z"
      },
      {
        "duration": 268,
        "start_time": "2023-04-04T16:22:50.022Z"
      },
      {
        "duration": 177,
        "start_time": "2023-04-04T16:23:12.790Z"
      },
      {
        "duration": 5343,
        "start_time": "2023-04-04T16:23:34.208Z"
      },
      {
        "duration": 5057,
        "start_time": "2023-04-04T16:28:27.743Z"
      },
      {
        "duration": 5219,
        "start_time": "2023-04-04T16:28:43.578Z"
      },
      {
        "duration": 5392,
        "start_time": "2023-04-04T16:29:48.842Z"
      },
      {
        "duration": 204,
        "start_time": "2023-04-04T16:38:47.547Z"
      },
      {
        "duration": 78,
        "start_time": "2023-04-04T16:39:34.380Z"
      },
      {
        "duration": 18,
        "start_time": "2023-04-04T16:39:50.504Z"
      },
      {
        "duration": 1149,
        "start_time": "2023-04-04T18:20:39.821Z"
      },
      {
        "duration": 51,
        "start_time": "2023-04-04T18:20:40.973Z"
      },
      {
        "duration": 24,
        "start_time": "2023-04-04T18:20:41.026Z"
      },
      {
        "duration": 18,
        "start_time": "2023-04-04T18:20:41.052Z"
      },
      {
        "duration": 28,
        "start_time": "2023-04-04T18:20:41.073Z"
      },
      {
        "duration": 22,
        "start_time": "2023-04-04T18:20:41.103Z"
      },
      {
        "duration": 28,
        "start_time": "2023-04-04T18:20:41.127Z"
      },
      {
        "duration": 12,
        "start_time": "2023-04-04T18:20:41.156Z"
      },
      {
        "duration": 21,
        "start_time": "2023-04-04T18:20:41.170Z"
      },
      {
        "duration": 22,
        "start_time": "2023-04-04T18:20:41.193Z"
      },
      {
        "duration": 11,
        "start_time": "2023-04-04T18:20:41.220Z"
      },
      {
        "duration": 15,
        "start_time": "2023-04-04T18:20:41.233Z"
      },
      {
        "duration": 28,
        "start_time": "2023-04-04T18:20:41.250Z"
      },
      {
        "duration": 450,
        "start_time": "2023-04-04T18:20:41.281Z"
      },
      {
        "duration": 90,
        "start_time": "2023-04-04T18:20:41.734Z"
      },
      {
        "duration": 7,
        "start_time": "2023-04-04T18:20:41.826Z"
      },
      {
        "duration": 672,
        "start_time": "2023-04-04T18:20:41.835Z"
      },
      {
        "duration": 26,
        "start_time": "2023-04-04T18:20:42.510Z"
      },
      {
        "duration": 5560,
        "start_time": "2023-04-04T18:20:42.538Z"
      },
      {
        "duration": 152,
        "start_time": "2023-04-04T18:20:58.354Z"
      },
      {
        "duration": 4,
        "start_time": "2023-04-04T18:21:18.432Z"
      },
      {
        "duration": 1155,
        "start_time": "2023-04-04T18:21:23.363Z"
      },
      {
        "duration": 36,
        "start_time": "2023-04-04T18:21:24.523Z"
      },
      {
        "duration": 21,
        "start_time": "2023-04-04T18:21:24.561Z"
      },
      {
        "duration": 25,
        "start_time": "2023-04-04T18:21:24.584Z"
      },
      {
        "duration": 16,
        "start_time": "2023-04-04T18:21:24.612Z"
      },
      {
        "duration": 9,
        "start_time": "2023-04-04T18:21:24.630Z"
      },
      {
        "duration": 16,
        "start_time": "2023-04-04T18:21:24.642Z"
      },
      {
        "duration": 13,
        "start_time": "2023-04-04T18:21:24.661Z"
      },
      {
        "duration": 23,
        "start_time": "2023-04-04T18:21:24.676Z"
      },
      {
        "duration": 13,
        "start_time": "2023-04-04T18:21:24.701Z"
      },
      {
        "duration": 12,
        "start_time": "2023-04-04T18:21:24.723Z"
      },
      {
        "duration": 15,
        "start_time": "2023-04-04T18:21:24.737Z"
      },
      {
        "duration": 38,
        "start_time": "2023-04-04T18:21:24.753Z"
      },
      {
        "duration": 397,
        "start_time": "2023-04-04T18:21:24.799Z"
      },
      {
        "duration": 71,
        "start_time": "2023-04-04T18:21:25.197Z"
      },
      {
        "duration": 6,
        "start_time": "2023-04-04T18:21:25.270Z"
      },
      {
        "duration": 536,
        "start_time": "2023-04-04T18:21:25.278Z"
      },
      {
        "duration": 87,
        "start_time": "2023-04-04T18:21:25.816Z"
      },
      {
        "duration": 5359,
        "start_time": "2023-04-04T18:21:25.904Z"
      },
      {
        "duration": 67,
        "start_time": "2023-04-04T18:21:31.265Z"
      },
      {
        "duration": 13,
        "start_time": "2023-04-04T18:23:23.437Z"
      },
      {
        "duration": 136,
        "start_time": "2023-04-04T18:25:10.684Z"
      },
      {
        "duration": 73,
        "start_time": "2023-04-04T18:53:26.541Z"
      },
      {
        "duration": 66,
        "start_time": "2023-04-04T18:55:38.931Z"
      },
      {
        "duration": 3,
        "start_time": "2023-04-04T19:30:39.211Z"
      },
      {
        "duration": 1158,
        "start_time": "2023-04-04T19:30:48.553Z"
      },
      {
        "duration": 37,
        "start_time": "2023-04-04T19:30:49.713Z"
      },
      {
        "duration": 19,
        "start_time": "2023-04-04T19:30:49.751Z"
      },
      {
        "duration": 16,
        "start_time": "2023-04-04T19:30:49.772Z"
      },
      {
        "duration": 11,
        "start_time": "2023-04-04T19:30:49.792Z"
      },
      {
        "duration": 7,
        "start_time": "2023-04-04T19:30:49.805Z"
      },
      {
        "duration": 16,
        "start_time": "2023-04-04T19:30:49.814Z"
      },
      {
        "duration": 11,
        "start_time": "2023-04-04T19:30:49.831Z"
      },
      {
        "duration": 9,
        "start_time": "2023-04-04T19:30:49.843Z"
      },
      {
        "duration": 38,
        "start_time": "2023-04-04T19:30:49.854Z"
      },
      {
        "duration": 9,
        "start_time": "2023-04-04T19:30:49.894Z"
      },
      {
        "duration": 7,
        "start_time": "2023-04-04T19:30:49.905Z"
      },
      {
        "duration": 27,
        "start_time": "2023-04-04T19:30:49.914Z"
      },
      {
        "duration": 435,
        "start_time": "2023-04-04T19:30:49.943Z"
      },
      {
        "duration": 80,
        "start_time": "2023-04-04T19:30:50.380Z"
      },
      {
        "duration": 7,
        "start_time": "2023-04-04T19:30:50.461Z"
      },
      {
        "duration": 225,
        "start_time": "2023-04-04T19:30:50.469Z"
      },
      {
        "duration": 10,
        "start_time": "2023-04-04T19:30:50.698Z"
      },
      {
        "duration": 5333,
        "start_time": "2023-04-04T19:30:50.710Z"
      },
      {
        "duration": 16,
        "start_time": "2023-04-04T19:30:56.045Z"
      },
      {
        "duration": 172,
        "start_time": "2023-04-04T19:30:56.063Z"
      },
      {
        "duration": 70,
        "start_time": "2023-04-04T19:30:56.237Z"
      },
      {
        "duration": 44,
        "start_time": "2023-04-04T19:35:25.148Z"
      },
      {
        "duration": 52,
        "start_time": "2023-04-04T19:35:59.041Z"
      },
      {
        "duration": 53,
        "start_time": "2023-04-04T19:36:15.555Z"
      },
      {
        "duration": 565,
        "start_time": "2023-04-04T19:39:56.853Z"
      },
      {
        "duration": 646,
        "start_time": "2023-04-04T19:41:24.760Z"
      },
      {
        "duration": 133,
        "start_time": "2023-04-04T19:41:52.509Z"
      },
      {
        "duration": 144,
        "start_time": "2023-04-04T19:43:07.641Z"
      },
      {
        "duration": 150,
        "start_time": "2023-04-04T19:45:46.630Z"
      },
      {
        "duration": 9387,
        "start_time": "2023-04-04T19:46:32.930Z"
      },
      {
        "duration": 10784,
        "start_time": "2023-04-04T19:50:48.845Z"
      },
      {
        "duration": 8315,
        "start_time": "2023-04-04T20:01:46.329Z"
      },
      {
        "duration": 12664,
        "start_time": "2023-04-04T20:02:30.579Z"
      },
      {
        "duration": 15920,
        "start_time": "2023-04-04T20:02:52.852Z"
      },
      {
        "duration": 8123,
        "start_time": "2023-04-04T20:03:13.117Z"
      },
      {
        "duration": 845,
        "start_time": "2023-04-04T20:23:17.533Z"
      },
      {
        "duration": 771,
        "start_time": "2023-04-04T20:23:48.131Z"
      },
      {
        "duration": 1344,
        "start_time": "2023-04-04T20:24:24.430Z"
      },
      {
        "duration": 1178,
        "start_time": "2023-04-04T20:24:33.866Z"
      },
      {
        "duration": 1112,
        "start_time": "2023-04-04T20:24:40.855Z"
      },
      {
        "duration": 1213,
        "start_time": "2023-04-04T20:24:45.711Z"
      },
      {
        "duration": 1666,
        "start_time": "2023-04-04T20:28:13.012Z"
      },
      {
        "duration": 1645,
        "start_time": "2023-04-04T20:28:22.419Z"
      },
      {
        "duration": 3272,
        "start_time": "2023-04-04T20:28:31.975Z"
      },
      {
        "duration": 1873,
        "start_time": "2023-04-04T20:28:41.981Z"
      },
      {
        "duration": 183,
        "start_time": "2023-04-04T20:34:07.758Z"
      },
      {
        "duration": 34,
        "start_time": "2023-04-04T20:34:18.984Z"
      },
      {
        "duration": 27,
        "start_time": "2023-04-04T20:35:53.584Z"
      },
      {
        "duration": 20,
        "start_time": "2023-04-04T20:37:49.204Z"
      },
      {
        "duration": 21,
        "start_time": "2023-04-04T20:37:55.021Z"
      },
      {
        "duration": 19,
        "start_time": "2023-04-04T20:38:04.566Z"
      },
      {
        "duration": 19,
        "start_time": "2023-04-04T20:38:52.861Z"
      },
      {
        "duration": 21,
        "start_time": "2023-04-04T20:42:50.049Z"
      },
      {
        "duration": 31,
        "start_time": "2023-04-04T20:43:00.371Z"
      },
      {
        "duration": 24,
        "start_time": "2023-04-04T20:44:20.370Z"
      },
      {
        "duration": 24,
        "start_time": "2023-04-04T20:45:51.506Z"
      },
      {
        "duration": 33,
        "start_time": "2023-04-04T20:45:56.407Z"
      },
      {
        "duration": 1242,
        "start_time": "2023-04-04T20:47:01.087Z"
      },
      {
        "duration": 37,
        "start_time": "2023-04-04T20:47:02.331Z"
      },
      {
        "duration": 32,
        "start_time": "2023-04-04T20:47:02.369Z"
      },
      {
        "duration": 14,
        "start_time": "2023-04-04T20:47:02.403Z"
      },
      {
        "duration": 20,
        "start_time": "2023-04-04T20:47:02.419Z"
      },
      {
        "duration": 18,
        "start_time": "2023-04-04T20:47:02.440Z"
      },
      {
        "duration": 21,
        "start_time": "2023-04-04T20:47:02.459Z"
      },
      {
        "duration": 23,
        "start_time": "2023-04-04T20:47:02.481Z"
      },
      {
        "duration": 22,
        "start_time": "2023-04-04T20:47:02.506Z"
      },
      {
        "duration": 8,
        "start_time": "2023-04-04T20:47:02.530Z"
      },
      {
        "duration": 20,
        "start_time": "2023-04-04T20:47:02.539Z"
      },
      {
        "duration": 21,
        "start_time": "2023-04-04T20:47:02.561Z"
      },
      {
        "duration": 43,
        "start_time": "2023-04-04T20:47:02.584Z"
      },
      {
        "duration": 460,
        "start_time": "2023-04-04T20:47:02.630Z"
      },
      {
        "duration": 72,
        "start_time": "2023-04-04T20:47:03.099Z"
      },
      {
        "duration": 6,
        "start_time": "2023-04-04T20:47:03.173Z"
      },
      {
        "duration": 516,
        "start_time": "2023-04-04T20:47:03.180Z"
      },
      {
        "duration": 93,
        "start_time": "2023-04-04T20:47:03.699Z"
      },
      {
        "duration": 5362,
        "start_time": "2023-04-04T20:47:03.794Z"
      },
      {
        "duration": 15,
        "start_time": "2023-04-04T20:47:09.157Z"
      },
      {
        "duration": 148,
        "start_time": "2023-04-04T20:47:09.174Z"
      },
      {
        "duration": 83,
        "start_time": "2023-04-04T20:47:09.324Z"
      },
      {
        "duration": 246,
        "start_time": "2023-04-04T20:47:09.410Z"
      },
      {
        "duration": 9636,
        "start_time": "2023-04-04T20:47:09.692Z"
      },
      {
        "duration": 1474,
        "start_time": "2023-04-04T20:47:19.330Z"
      },
      {
        "duration": 80,
        "start_time": "2023-04-04T20:50:23.642Z"
      },
      {
        "duration": 9605,
        "start_time": "2023-04-04T20:50:38.327Z"
      },
      {
        "duration": 9809,
        "start_time": "2023-04-04T20:51:36.114Z"
      },
      {
        "duration": 704,
        "start_time": "2023-04-04T20:52:16.462Z"
      },
      {
        "duration": 582,
        "start_time": "2023-04-04T20:52:26.681Z"
      },
      {
        "duration": 66,
        "start_time": "2023-04-04T20:53:31.852Z"
      },
      {
        "duration": 1243,
        "start_time": "2023-04-04T20:55:55.028Z"
      },
      {
        "duration": 69,
        "start_time": "2023-04-04T20:55:56.273Z"
      },
      {
        "duration": 21,
        "start_time": "2023-04-04T20:55:56.343Z"
      },
      {
        "duration": 15,
        "start_time": "2023-04-04T20:55:56.365Z"
      },
      {
        "duration": 26,
        "start_time": "2023-04-04T20:55:56.382Z"
      },
      {
        "duration": 16,
        "start_time": "2023-04-04T20:55:56.419Z"
      },
      {
        "duration": 14,
        "start_time": "2023-04-04T20:55:56.438Z"
      },
      {
        "duration": 14,
        "start_time": "2023-04-04T20:55:56.455Z"
      },
      {
        "duration": 9,
        "start_time": "2023-04-04T20:55:56.471Z"
      },
      {
        "duration": 18,
        "start_time": "2023-04-04T20:55:56.482Z"
      },
      {
        "duration": 20,
        "start_time": "2023-04-04T20:55:56.502Z"
      },
      {
        "duration": 11,
        "start_time": "2023-04-04T20:55:56.531Z"
      },
      {
        "duration": 27,
        "start_time": "2023-04-04T20:55:56.543Z"
      },
      {
        "duration": 505,
        "start_time": "2023-04-04T20:55:56.573Z"
      },
      {
        "duration": 107,
        "start_time": "2023-04-04T20:55:57.079Z"
      },
      {
        "duration": 15,
        "start_time": "2023-04-04T20:55:57.188Z"
      },
      {
        "duration": 486,
        "start_time": "2023-04-04T20:55:57.205Z"
      },
      {
        "duration": 11,
        "start_time": "2023-04-04T20:55:57.692Z"
      },
      {
        "duration": 5929,
        "start_time": "2023-04-04T20:55:57.706Z"
      },
      {
        "duration": 14,
        "start_time": "2023-04-04T20:56:03.639Z"
      },
      {
        "duration": 125,
        "start_time": "2023-04-04T20:56:03.655Z"
      },
      {
        "duration": 60,
        "start_time": "2023-04-04T20:56:03.782Z"
      },
      {
        "duration": 230,
        "start_time": "2023-04-04T20:56:03.893Z"
      },
      {
        "duration": 1296,
        "start_time": "2023-04-04T20:57:29.677Z"
      },
      {
        "duration": 60,
        "start_time": "2023-04-04T20:57:30.975Z"
      },
      {
        "duration": 31,
        "start_time": "2023-04-04T20:57:31.038Z"
      },
      {
        "duration": 19,
        "start_time": "2023-04-04T20:57:31.072Z"
      },
      {
        "duration": 27,
        "start_time": "2023-04-04T20:57:31.093Z"
      },
      {
        "duration": 13,
        "start_time": "2023-04-04T20:57:31.122Z"
      },
      {
        "duration": 34,
        "start_time": "2023-04-04T20:57:31.137Z"
      },
      {
        "duration": 53,
        "start_time": "2023-04-04T20:57:31.173Z"
      },
      {
        "duration": 33,
        "start_time": "2023-04-04T20:57:31.228Z"
      },
      {
        "duration": 11,
        "start_time": "2023-04-04T20:57:31.263Z"
      },
      {
        "duration": 28,
        "start_time": "2023-04-04T20:57:31.276Z"
      },
      {
        "duration": 28,
        "start_time": "2023-04-04T20:57:31.307Z"
      },
      {
        "duration": 74,
        "start_time": "2023-04-04T20:57:31.337Z"
      },
      {
        "duration": 451,
        "start_time": "2023-04-04T20:57:31.413Z"
      },
      {
        "duration": 87,
        "start_time": "2023-04-04T20:57:31.866Z"
      },
      {
        "duration": 7,
        "start_time": "2023-04-04T20:57:31.954Z"
      },
      {
        "duration": 129,
        "start_time": "2023-04-04T20:57:31.963Z"
      },
      {
        "duration": 22,
        "start_time": "2023-04-04T20:57:32.094Z"
      },
      {
        "duration": 5621,
        "start_time": "2023-04-04T20:57:32.191Z"
      },
      {
        "duration": 15,
        "start_time": "2023-04-04T20:57:37.814Z"
      },
      {
        "duration": 136,
        "start_time": "2023-04-04T20:57:37.830Z"
      },
      {
        "duration": 147,
        "start_time": "2023-04-04T20:57:37.968Z"
      },
      {
        "duration": 154,
        "start_time": "2023-04-04T20:57:38.195Z"
      },
      {
        "duration": 1243,
        "start_time": "2023-04-04T20:58:50.663Z"
      },
      {
        "duration": 38,
        "start_time": "2023-04-04T20:58:51.908Z"
      },
      {
        "duration": 22,
        "start_time": "2023-04-04T20:58:51.949Z"
      },
      {
        "duration": 18,
        "start_time": "2023-04-04T20:58:51.972Z"
      },
      {
        "duration": 16,
        "start_time": "2023-04-04T20:58:51.993Z"
      },
      {
        "duration": 13,
        "start_time": "2023-04-04T20:58:52.011Z"
      },
      {
        "duration": 29,
        "start_time": "2023-04-04T20:58:52.026Z"
      },
      {
        "duration": 17,
        "start_time": "2023-04-04T20:58:52.057Z"
      },
      {
        "duration": 15,
        "start_time": "2023-04-04T20:58:52.076Z"
      },
      {
        "duration": 19,
        "start_time": "2023-04-04T20:58:52.093Z"
      },
      {
        "duration": 11,
        "start_time": "2023-04-04T20:58:52.114Z"
      },
      {
        "duration": 13,
        "start_time": "2023-04-04T20:58:52.127Z"
      },
      {
        "duration": 30,
        "start_time": "2023-04-04T20:58:52.142Z"
      },
      {
        "duration": 398,
        "start_time": "2023-04-04T20:58:52.175Z"
      },
      {
        "duration": 83,
        "start_time": "2023-04-04T20:58:52.575Z"
      },
      {
        "duration": 7,
        "start_time": "2023-04-04T20:58:52.659Z"
      },
      {
        "duration": 227,
        "start_time": "2023-04-04T20:58:52.669Z"
      },
      {
        "duration": 101,
        "start_time": "2023-04-04T20:58:52.898Z"
      },
      {
        "duration": 5180,
        "start_time": "2023-04-04T20:58:53.002Z"
      },
      {
        "duration": 16,
        "start_time": "2023-04-04T20:58:58.184Z"
      },
      {
        "duration": 126,
        "start_time": "2023-04-04T20:58:58.202Z"
      },
      {
        "duration": 69,
        "start_time": "2023-04-04T20:58:58.329Z"
      },
      {
        "duration": 316,
        "start_time": "2023-04-04T20:58:58.400Z"
      },
      {
        "duration": 115,
        "start_time": "2023-04-04T20:58:58.718Z"
      },
      {
        "duration": 0,
        "start_time": "2023-04-04T20:58:58.835Z"
      },
      {
        "duration": 18588,
        "start_time": "2023-04-04T20:59:17.130Z"
      },
      {
        "duration": 1212,
        "start_time": "2023-04-04T21:00:04.065Z"
      },
      {
        "duration": 1228,
        "start_time": "2023-04-04T21:01:31.308Z"
      },
      {
        "duration": 1131,
        "start_time": "2023-04-04T21:08:10.839Z"
      },
      {
        "duration": 42,
        "start_time": "2023-04-04T21:08:11.972Z"
      },
      {
        "duration": 27,
        "start_time": "2023-04-04T21:08:12.015Z"
      },
      {
        "duration": 17,
        "start_time": "2023-04-04T21:08:12.045Z"
      },
      {
        "duration": 26,
        "start_time": "2023-04-04T21:08:12.064Z"
      },
      {
        "duration": 12,
        "start_time": "2023-04-04T21:08:12.092Z"
      },
      {
        "duration": 13,
        "start_time": "2023-04-04T21:08:12.106Z"
      },
      {
        "duration": 12,
        "start_time": "2023-04-04T21:08:12.122Z"
      },
      {
        "duration": 11,
        "start_time": "2023-04-04T21:08:12.136Z"
      },
      {
        "duration": 6,
        "start_time": "2023-04-04T21:08:12.149Z"
      },
      {
        "duration": 34,
        "start_time": "2023-04-04T21:08:12.157Z"
      },
      {
        "duration": 20,
        "start_time": "2023-04-04T21:08:12.193Z"
      },
      {
        "duration": 31,
        "start_time": "2023-04-04T21:08:12.215Z"
      },
      {
        "duration": 447,
        "start_time": "2023-04-04T21:08:12.249Z"
      },
      {
        "duration": 98,
        "start_time": "2023-04-04T21:08:12.698Z"
      },
      {
        "duration": 7,
        "start_time": "2023-04-04T21:08:12.798Z"
      },
      {
        "duration": 383,
        "start_time": "2023-04-04T21:08:12.806Z"
      },
      {
        "duration": 8,
        "start_time": "2023-04-04T21:08:13.192Z"
      },
      {
        "duration": 5307,
        "start_time": "2023-04-04T21:08:13.202Z"
      },
      {
        "duration": 15,
        "start_time": "2023-04-04T21:08:18.511Z"
      },
      {
        "duration": 143,
        "start_time": "2023-04-04T21:08:18.527Z"
      },
      {
        "duration": 319,
        "start_time": "2023-04-04T21:08:18.673Z"
      },
      {
        "duration": 215,
        "start_time": "2023-04-04T21:08:18.995Z"
      },
      {
        "duration": 1192,
        "start_time": "2023-04-04T21:09:08.899Z"
      },
      {
        "duration": 35,
        "start_time": "2023-04-04T21:09:10.093Z"
      },
      {
        "duration": 17,
        "start_time": "2023-04-04T21:09:10.130Z"
      },
      {
        "duration": 19,
        "start_time": "2023-04-04T21:09:10.149Z"
      },
      {
        "duration": 7,
        "start_time": "2023-04-04T21:09:10.170Z"
      },
      {
        "duration": 11,
        "start_time": "2023-04-04T21:09:10.178Z"
      },
      {
        "duration": 12,
        "start_time": "2023-04-04T21:09:10.191Z"
      },
      {
        "duration": 10,
        "start_time": "2023-04-04T21:09:10.204Z"
      },
      {
        "duration": 8,
        "start_time": "2023-04-04T21:09:10.216Z"
      },
      {
        "duration": 5,
        "start_time": "2023-04-04T21:09:10.226Z"
      },
      {
        "duration": 8,
        "start_time": "2023-04-04T21:09:10.233Z"
      },
      {
        "duration": 7,
        "start_time": "2023-04-04T21:09:10.243Z"
      },
      {
        "duration": 57,
        "start_time": "2023-04-04T21:09:10.251Z"
      },
      {
        "duration": 371,
        "start_time": "2023-04-04T21:09:10.310Z"
      },
      {
        "duration": 65,
        "start_time": "2023-04-04T21:09:10.683Z"
      },
      {
        "duration": 6,
        "start_time": "2023-04-04T21:09:10.749Z"
      },
      {
        "duration": 234,
        "start_time": "2023-04-04T21:09:10.756Z"
      },
      {
        "duration": 97,
        "start_time": "2023-04-04T21:09:10.992Z"
      },
      {
        "duration": 4801,
        "start_time": "2023-04-04T21:09:11.091Z"
      },
      {
        "duration": 15,
        "start_time": "2023-04-04T21:09:15.893Z"
      },
      {
        "duration": 130,
        "start_time": "2023-04-04T21:09:15.909Z"
      },
      {
        "duration": 60,
        "start_time": "2023-04-04T21:09:16.041Z"
      },
      {
        "duration": 303,
        "start_time": "2023-04-04T21:09:16.103Z"
      },
      {
        "duration": 1110,
        "start_time": "2023-04-04T21:12:01.528Z"
      },
      {
        "duration": 39,
        "start_time": "2023-04-04T21:12:02.641Z"
      },
      {
        "duration": 21,
        "start_time": "2023-04-04T21:12:02.681Z"
      },
      {
        "duration": 15,
        "start_time": "2023-04-04T21:12:02.704Z"
      },
      {
        "duration": 9,
        "start_time": "2023-04-04T21:12:02.721Z"
      },
      {
        "duration": 17,
        "start_time": "2023-04-04T21:12:02.732Z"
      },
      {
        "duration": 15,
        "start_time": "2023-04-04T21:12:02.751Z"
      },
      {
        "duration": 13,
        "start_time": "2023-04-04T21:12:02.790Z"
      },
      {
        "duration": 11,
        "start_time": "2023-04-04T21:12:02.805Z"
      },
      {
        "duration": 7,
        "start_time": "2023-04-04T21:12:02.818Z"
      },
      {
        "duration": 5,
        "start_time": "2023-04-04T21:12:02.827Z"
      },
      {
        "duration": 10,
        "start_time": "2023-04-04T21:12:02.834Z"
      },
      {
        "duration": 70,
        "start_time": "2023-04-04T21:12:02.846Z"
      },
      {
        "duration": 396,
        "start_time": "2023-04-04T21:12:02.917Z"
      },
      {
        "duration": 82,
        "start_time": "2023-04-04T21:12:03.315Z"
      },
      {
        "duration": 6,
        "start_time": "2023-04-04T21:12:03.399Z"
      },
      {
        "duration": 385,
        "start_time": "2023-04-04T21:12:03.406Z"
      },
      {
        "duration": 96,
        "start_time": "2023-04-04T21:12:03.793Z"
      },
      {
        "duration": 4951,
        "start_time": "2023-04-04T21:12:03.892Z"
      },
      {
        "duration": 15,
        "start_time": "2023-04-04T21:12:08.845Z"
      },
      {
        "duration": 114,
        "start_time": "2023-04-04T21:12:08.862Z"
      },
      {
        "duration": 113,
        "start_time": "2023-04-04T21:12:08.978Z"
      },
      {
        "duration": 219,
        "start_time": "2023-04-04T21:12:09.093Z"
      },
      {
        "duration": 1308,
        "start_time": "2023-04-04T21:13:28.941Z"
      },
      {
        "duration": 43,
        "start_time": "2023-04-04T21:13:30.252Z"
      },
      {
        "duration": 28,
        "start_time": "2023-04-04T21:13:30.300Z"
      },
      {
        "duration": 24,
        "start_time": "2023-04-04T21:13:30.332Z"
      },
      {
        "duration": 32,
        "start_time": "2023-04-04T21:13:30.358Z"
      },
      {
        "duration": 35,
        "start_time": "2023-04-04T21:13:30.392Z"
      },
      {
        "duration": 36,
        "start_time": "2023-04-04T21:13:30.429Z"
      },
      {
        "duration": 41,
        "start_time": "2023-04-04T21:13:30.466Z"
      },
      {
        "duration": 35,
        "start_time": "2023-04-04T21:13:30.509Z"
      },
      {
        "duration": 28,
        "start_time": "2023-04-04T21:13:30.547Z"
      },
      {
        "duration": 84,
        "start_time": "2023-04-04T21:13:30.577Z"
      },
      {
        "duration": 48,
        "start_time": "2023-04-04T21:13:30.663Z"
      },
      {
        "duration": 73,
        "start_time": "2023-04-04T21:13:30.715Z"
      },
      {
        "duration": 377,
        "start_time": "2023-04-04T21:13:30.790Z"
      },
      {
        "duration": 87,
        "start_time": "2023-04-04T21:13:31.169Z"
      },
      {
        "duration": 9,
        "start_time": "2023-04-04T21:13:31.258Z"
      },
      {
        "duration": 426,
        "start_time": "2023-04-04T21:13:31.269Z"
      },
      {
        "duration": 92,
        "start_time": "2023-04-04T21:13:31.698Z"
      },
      {
        "duration": 4958,
        "start_time": "2023-04-04T21:13:31.792Z"
      },
      {
        "duration": 14,
        "start_time": "2023-04-04T21:13:36.752Z"
      },
      {
        "duration": 139,
        "start_time": "2023-04-04T21:13:36.768Z"
      },
      {
        "duration": 86,
        "start_time": "2023-04-04T21:13:36.909Z"
      },
      {
        "duration": 216,
        "start_time": "2023-04-04T21:13:36.998Z"
      },
      {
        "duration": 1124,
        "start_time": "2023-04-04T21:15:42.285Z"
      },
      {
        "duration": 39,
        "start_time": "2023-04-04T21:15:43.412Z"
      },
      {
        "duration": 21,
        "start_time": "2023-04-04T21:15:43.453Z"
      },
      {
        "duration": 18,
        "start_time": "2023-04-04T21:15:43.476Z"
      },
      {
        "duration": 20,
        "start_time": "2023-04-04T21:15:43.498Z"
      },
      {
        "duration": 21,
        "start_time": "2023-04-04T21:15:43.521Z"
      },
      {
        "duration": 16,
        "start_time": "2023-04-04T21:15:43.544Z"
      },
      {
        "duration": 12,
        "start_time": "2023-04-04T21:15:43.562Z"
      },
      {
        "duration": 24,
        "start_time": "2023-04-04T21:15:43.576Z"
      },
      {
        "duration": 8,
        "start_time": "2023-04-04T21:15:43.602Z"
      },
      {
        "duration": 6,
        "start_time": "2023-04-04T21:15:43.612Z"
      },
      {
        "duration": 9,
        "start_time": "2023-04-04T21:15:43.620Z"
      },
      {
        "duration": 60,
        "start_time": "2023-04-04T21:15:43.631Z"
      },
      {
        "duration": 401,
        "start_time": "2023-04-04T21:15:43.693Z"
      },
      {
        "duration": 78,
        "start_time": "2023-04-04T21:15:44.095Z"
      },
      {
        "duration": 8,
        "start_time": "2023-04-04T21:15:44.189Z"
      },
      {
        "duration": 298,
        "start_time": "2023-04-04T21:15:44.199Z"
      },
      {
        "duration": 93,
        "start_time": "2023-04-04T21:15:44.499Z"
      },
      {
        "duration": 5163,
        "start_time": "2023-04-04T21:15:44.595Z"
      },
      {
        "duration": 15,
        "start_time": "2023-04-04T21:15:49.760Z"
      },
      {
        "duration": 130,
        "start_time": "2023-04-04T21:15:49.788Z"
      },
      {
        "duration": 78,
        "start_time": "2023-04-04T21:15:49.920Z"
      },
      {
        "duration": 278,
        "start_time": "2023-04-04T21:15:50.001Z"
      },
      {
        "duration": 1072,
        "start_time": "2023-04-04T21:17:35.313Z"
      },
      {
        "duration": 38,
        "start_time": "2023-04-04T21:17:36.388Z"
      },
      {
        "duration": 21,
        "start_time": "2023-04-04T21:17:36.428Z"
      },
      {
        "duration": 13,
        "start_time": "2023-04-04T21:17:36.451Z"
      },
      {
        "duration": 7,
        "start_time": "2023-04-04T21:17:36.466Z"
      },
      {
        "duration": 21,
        "start_time": "2023-04-04T21:17:36.475Z"
      },
      {
        "duration": 13,
        "start_time": "2023-04-04T21:17:36.497Z"
      },
      {
        "duration": 13,
        "start_time": "2023-04-04T21:17:36.512Z"
      },
      {
        "duration": 18,
        "start_time": "2023-04-04T21:17:36.527Z"
      },
      {
        "duration": 7,
        "start_time": "2023-04-04T21:17:36.547Z"
      },
      {
        "duration": 36,
        "start_time": "2023-04-04T21:17:36.556Z"
      },
      {
        "duration": 7,
        "start_time": "2023-04-04T21:17:36.594Z"
      },
      {
        "duration": 33,
        "start_time": "2023-04-04T21:17:36.603Z"
      },
      {
        "duration": 373,
        "start_time": "2023-04-04T21:17:36.639Z"
      },
      {
        "duration": 75,
        "start_time": "2023-04-04T21:17:37.014Z"
      },
      {
        "duration": 8,
        "start_time": "2023-04-04T21:17:37.091Z"
      },
      {
        "duration": 102,
        "start_time": "2023-04-04T21:17:37.101Z"
      },
      {
        "duration": 8,
        "start_time": "2023-04-04T21:17:37.289Z"
      },
      {
        "duration": 5134,
        "start_time": "2023-04-04T21:17:37.299Z"
      },
      {
        "duration": 22,
        "start_time": "2023-04-04T21:17:42.436Z"
      },
      {
        "duration": 186,
        "start_time": "2023-04-04T21:17:42.460Z"
      },
      {
        "duration": 256,
        "start_time": "2023-04-04T21:17:42.650Z"
      },
      {
        "duration": 230,
        "start_time": "2023-04-04T21:17:42.909Z"
      },
      {
        "duration": 19310,
        "start_time": "2023-04-04T21:17:43.142Z"
      },
      {
        "duration": 1220,
        "start_time": "2023-04-04T21:18:02.454Z"
      },
      {
        "duration": 1129,
        "start_time": "2023-04-04T21:18:52.141Z"
      },
      {
        "duration": 39,
        "start_time": "2023-04-04T21:18:53.272Z"
      },
      {
        "duration": 24,
        "start_time": "2023-04-04T21:18:53.313Z"
      },
      {
        "duration": 14,
        "start_time": "2023-04-04T21:18:53.339Z"
      },
      {
        "duration": 9,
        "start_time": "2023-04-04T21:18:53.355Z"
      },
      {
        "duration": 26,
        "start_time": "2023-04-04T21:18:53.366Z"
      },
      {
        "duration": 13,
        "start_time": "2023-04-04T21:18:53.394Z"
      },
      {
        "duration": 21,
        "start_time": "2023-04-04T21:18:53.410Z"
      },
      {
        "duration": 9,
        "start_time": "2023-04-04T21:18:53.432Z"
      },
      {
        "duration": 15,
        "start_time": "2023-04-04T21:18:53.442Z"
      },
      {
        "duration": 14,
        "start_time": "2023-04-04T21:18:53.458Z"
      },
      {
        "duration": 15,
        "start_time": "2023-04-04T21:18:53.474Z"
      },
      {
        "duration": 42,
        "start_time": "2023-04-04T21:18:53.491Z"
      },
      {
        "duration": 371,
        "start_time": "2023-04-04T21:18:53.536Z"
      },
      {
        "duration": 81,
        "start_time": "2023-04-04T21:18:53.908Z"
      },
      {
        "duration": 7,
        "start_time": "2023-04-04T21:18:53.991Z"
      },
      {
        "duration": 194,
        "start_time": "2023-04-04T21:18:54.000Z"
      },
      {
        "duration": 92,
        "start_time": "2023-04-04T21:18:54.197Z"
      },
      {
        "duration": 5101,
        "start_time": "2023-04-04T21:18:54.291Z"
      },
      {
        "duration": 15,
        "start_time": "2023-04-04T21:18:59.393Z"
      },
      {
        "duration": 140,
        "start_time": "2023-04-04T21:18:59.409Z"
      },
      {
        "duration": 139,
        "start_time": "2023-04-04T21:18:59.551Z"
      },
      {
        "duration": 211,
        "start_time": "2023-04-04T21:18:59.692Z"
      },
      {
        "duration": 174861,
        "start_time": "2023-04-04T21:18:59.904Z"
      },
      {
        "duration": 1259,
        "start_time": "2023-04-04T21:21:54.767Z"
      },
      {
        "duration": 960,
        "start_time": "2023-04-04T21:22:40.769Z"
      },
      {
        "duration": 1170,
        "start_time": "2023-04-04T21:28:20.961Z"
      },
      {
        "duration": 39,
        "start_time": "2023-04-04T21:28:22.133Z"
      },
      {
        "duration": 22,
        "start_time": "2023-04-04T21:28:22.174Z"
      },
      {
        "duration": 15,
        "start_time": "2023-04-04T21:28:22.198Z"
      },
      {
        "duration": 8,
        "start_time": "2023-04-04T21:28:22.215Z"
      },
      {
        "duration": 8,
        "start_time": "2023-04-04T21:28:22.225Z"
      },
      {
        "duration": 13,
        "start_time": "2023-04-04T21:28:22.235Z"
      },
      {
        "duration": 44,
        "start_time": "2023-04-04T21:28:22.250Z"
      },
      {
        "duration": 12,
        "start_time": "2023-04-04T21:28:22.295Z"
      },
      {
        "duration": 6,
        "start_time": "2023-04-04T21:28:22.309Z"
      },
      {
        "duration": 5,
        "start_time": "2023-04-04T21:28:22.317Z"
      },
      {
        "duration": 7,
        "start_time": "2023-04-04T21:28:22.323Z"
      },
      {
        "duration": 65,
        "start_time": "2023-04-04T21:28:22.333Z"
      },
      {
        "duration": 409,
        "start_time": "2023-04-04T21:28:22.401Z"
      },
      {
        "duration": 96,
        "start_time": "2023-04-04T21:28:22.811Z"
      },
      {
        "duration": 10,
        "start_time": "2023-04-04T21:28:22.909Z"
      },
      {
        "duration": 171,
        "start_time": "2023-04-04T21:28:22.921Z"
      },
      {
        "duration": 9,
        "start_time": "2023-04-04T21:28:23.094Z"
      },
      {
        "duration": 5120,
        "start_time": "2023-04-04T21:28:23.190Z"
      },
      {
        "duration": 15,
        "start_time": "2023-04-04T21:28:28.312Z"
      },
      {
        "duration": 136,
        "start_time": "2023-04-04T21:28:28.328Z"
      },
      {
        "duration": 56,
        "start_time": "2023-04-04T21:28:28.470Z"
      },
      {
        "duration": 281,
        "start_time": "2023-04-04T21:28:28.527Z"
      },
      {
        "duration": 1097,
        "start_time": "2023-04-04T21:31:05.851Z"
      },
      {
        "duration": 37,
        "start_time": "2023-04-04T21:31:06.951Z"
      },
      {
        "duration": 20,
        "start_time": "2023-04-04T21:31:06.990Z"
      },
      {
        "duration": 13,
        "start_time": "2023-04-04T21:31:07.013Z"
      },
      {
        "duration": 12,
        "start_time": "2023-04-04T21:31:07.029Z"
      },
      {
        "duration": 13,
        "start_time": "2023-04-04T21:31:07.042Z"
      },
      {
        "duration": 40,
        "start_time": "2023-04-04T21:31:07.057Z"
      },
      {
        "duration": 10,
        "start_time": "2023-04-04T21:31:07.099Z"
      },
      {
        "duration": 9,
        "start_time": "2023-04-04T21:31:07.111Z"
      },
      {
        "duration": 6,
        "start_time": "2023-04-04T21:31:07.121Z"
      },
      {
        "duration": 5,
        "start_time": "2023-04-04T21:31:07.129Z"
      },
      {
        "duration": 10,
        "start_time": "2023-04-04T21:31:07.136Z"
      },
      {
        "duration": 57,
        "start_time": "2023-04-04T21:31:07.148Z"
      },
      {
        "duration": 424,
        "start_time": "2023-04-04T21:31:07.208Z"
      },
      {
        "duration": 89,
        "start_time": "2023-04-04T21:31:07.634Z"
      },
      {
        "duration": 7,
        "start_time": "2023-04-04T21:31:07.726Z"
      },
      {
        "duration": 69,
        "start_time": "2023-04-04T21:31:07.735Z"
      },
      {
        "duration": 12,
        "start_time": "2023-04-04T21:31:07.890Z"
      },
      {
        "duration": 4959,
        "start_time": "2023-04-04T21:31:07.904Z"
      },
      {
        "duration": 24,
        "start_time": "2023-04-04T21:31:12.865Z"
      },
      {
        "duration": 134,
        "start_time": "2023-04-04T21:31:12.891Z"
      },
      {
        "duration": 165,
        "start_time": "2023-04-04T21:31:13.027Z"
      },
      {
        "duration": 203,
        "start_time": "2023-04-04T21:31:13.194Z"
      },
      {
        "duration": 168312,
        "start_time": "2023-04-04T21:31:13.399Z"
      },
      {
        "duration": 1038,
        "start_time": "2023-04-04T21:34:01.713Z"
      },
      {
        "duration": 17,
        "start_time": "2023-04-04T21:39:19.554Z"
      },
      {
        "duration": 126,
        "start_time": "2023-04-05T11:28:50.861Z"
      },
      {
        "duration": 1090,
        "start_time": "2023-04-05T20:15:31.821Z"
      },
      {
        "duration": 83,
        "start_time": "2023-04-05T20:15:32.913Z"
      },
      {
        "duration": 23,
        "start_time": "2023-04-05T20:15:32.998Z"
      },
      {
        "duration": 12,
        "start_time": "2023-04-05T20:15:33.023Z"
      },
      {
        "duration": 22,
        "start_time": "2023-04-05T20:15:33.037Z"
      },
      {
        "duration": 8,
        "start_time": "2023-04-05T20:15:33.060Z"
      },
      {
        "duration": 12,
        "start_time": "2023-04-05T20:15:33.069Z"
      },
      {
        "duration": 14,
        "start_time": "2023-04-05T20:15:33.082Z"
      },
      {
        "duration": 9,
        "start_time": "2023-04-05T20:15:33.097Z"
      },
      {
        "duration": 6,
        "start_time": "2023-04-05T20:15:33.108Z"
      },
      {
        "duration": 6,
        "start_time": "2023-04-05T20:15:33.115Z"
      },
      {
        "duration": 6,
        "start_time": "2023-04-05T20:15:33.122Z"
      },
      {
        "duration": 26,
        "start_time": "2023-04-05T20:15:33.130Z"
      },
      {
        "duration": 542,
        "start_time": "2023-04-05T20:15:33.189Z"
      },
      {
        "duration": 72,
        "start_time": "2023-04-05T20:15:33.733Z"
      },
      {
        "duration": 6,
        "start_time": "2023-04-05T20:15:33.807Z"
      },
      {
        "duration": 276,
        "start_time": "2023-04-05T20:15:33.815Z"
      },
      {
        "duration": 96,
        "start_time": "2023-04-05T20:15:34.094Z"
      },
      {
        "duration": 4790,
        "start_time": "2023-04-05T20:15:34.192Z"
      },
      {
        "duration": 19,
        "start_time": "2023-04-05T20:15:38.983Z"
      },
      {
        "duration": 122,
        "start_time": "2023-04-05T20:15:39.003Z"
      },
      {
        "duration": 71,
        "start_time": "2023-04-05T20:15:39.126Z"
      },
      {
        "duration": 274,
        "start_time": "2023-04-05T20:15:39.199Z"
      },
      {
        "duration": 165648,
        "start_time": "2023-04-05T20:15:39.475Z"
      },
      {
        "duration": 980,
        "start_time": "2023-04-05T20:18:25.124Z"
      },
      {
        "duration": 4,
        "start_time": "2023-04-05T20:18:36.120Z"
      },
      {
        "duration": 5,
        "start_time": "2023-04-05T20:39:33.794Z"
      },
      {
        "duration": 117,
        "start_time": "2023-04-05T20:39:36.562Z"
      },
      {
        "duration": 6,
        "start_time": "2023-04-05T20:43:29.478Z"
      },
      {
        "duration": 12,
        "start_time": "2023-04-05T20:46:30.636Z"
      },
      {
        "duration": 7,
        "start_time": "2023-04-05T20:49:49.350Z"
      },
      {
        "duration": 13,
        "start_time": "2023-04-05T20:49:54.661Z"
      },
      {
        "duration": 6,
        "start_time": "2023-04-05T20:51:44.561Z"
      },
      {
        "duration": 11,
        "start_time": "2023-04-05T20:52:10.038Z"
      },
      {
        "duration": 5,
        "start_time": "2023-04-05T20:58:34.408Z"
      },
      {
        "duration": 7,
        "start_time": "2023-04-05T20:58:36.998Z"
      },
      {
        "duration": 11,
        "start_time": "2023-04-05T20:58:38.097Z"
      },
      {
        "duration": 7,
        "start_time": "2023-04-05T21:03:29.533Z"
      },
      {
        "duration": 18,
        "start_time": "2023-04-05T21:04:09.853Z"
      },
      {
        "duration": 6,
        "start_time": "2023-04-05T21:04:35.591Z"
      },
      {
        "duration": 6,
        "start_time": "2023-04-05T21:04:45.688Z"
      },
      {
        "duration": 17,
        "start_time": "2023-04-05T21:05:10.540Z"
      },
      {
        "duration": 17,
        "start_time": "2023-04-05T21:05:20.799Z"
      },
      {
        "duration": 17,
        "start_time": "2023-04-05T21:05:33.789Z"
      },
      {
        "duration": 6,
        "start_time": "2023-04-05T21:05:58.836Z"
      },
      {
        "duration": 5,
        "start_time": "2023-04-05T21:06:09.793Z"
      },
      {
        "duration": 6,
        "start_time": "2023-04-05T21:06:18.600Z"
      },
      {
        "duration": 125,
        "start_time": "2023-04-05T21:31:10.023Z"
      },
      {
        "duration": 125,
        "start_time": "2023-04-05T21:34:29.444Z"
      },
      {
        "duration": 233,
        "start_time": "2023-04-05T21:36:37.423Z"
      },
      {
        "duration": 117,
        "start_time": "2023-04-05T21:36:46.162Z"
      },
      {
        "duration": 3,
        "start_time": "2023-04-05T21:37:15.735Z"
      },
      {
        "duration": 1434,
        "start_time": "2023-04-05T21:37:23.494Z"
      },
      {
        "duration": 37,
        "start_time": "2023-04-05T21:37:24.930Z"
      },
      {
        "duration": 17,
        "start_time": "2023-04-05T21:37:24.969Z"
      },
      {
        "duration": 15,
        "start_time": "2023-04-05T21:37:24.988Z"
      },
      {
        "duration": 8,
        "start_time": "2023-04-05T21:37:25.005Z"
      },
      {
        "duration": 7,
        "start_time": "2023-04-05T21:37:25.015Z"
      },
      {
        "duration": 18,
        "start_time": "2023-04-05T21:37:25.023Z"
      },
      {
        "duration": 14,
        "start_time": "2023-04-05T21:37:25.042Z"
      },
      {
        "duration": 22,
        "start_time": "2023-04-05T21:37:25.058Z"
      },
      {
        "duration": 24,
        "start_time": "2023-04-05T21:37:25.082Z"
      },
      {
        "duration": 24,
        "start_time": "2023-04-05T21:37:25.108Z"
      },
      {
        "duration": 10,
        "start_time": "2023-04-05T21:37:25.133Z"
      },
      {
        "duration": 28,
        "start_time": "2023-04-05T21:37:25.144Z"
      },
      {
        "duration": 142,
        "start_time": "2023-04-05T21:37:25.174Z"
      },
      {
        "duration": 78,
        "start_time": "2023-04-05T21:37:25.317Z"
      },
      {
        "duration": 6,
        "start_time": "2023-04-05T21:37:25.396Z"
      },
      {
        "duration": 287,
        "start_time": "2023-04-05T21:37:25.404Z"
      },
      {
        "duration": 100,
        "start_time": "2023-04-05T21:37:25.693Z"
      },
      {
        "duration": 4879,
        "start_time": "2023-04-05T21:37:25.794Z"
      },
      {
        "duration": 23,
        "start_time": "2023-04-05T21:37:30.676Z"
      },
      {
        "duration": 138,
        "start_time": "2023-04-05T21:37:30.701Z"
      },
      {
        "duration": 155,
        "start_time": "2023-04-05T21:37:30.842Z"
      },
      {
        "duration": 213,
        "start_time": "2023-04-05T21:37:31.000Z"
      },
      {
        "duration": 168578,
        "start_time": "2023-04-05T21:37:31.215Z"
      },
      {
        "duration": 1017,
        "start_time": "2023-04-05T21:40:19.795Z"
      },
      {
        "duration": 147,
        "start_time": "2023-04-05T21:42:22.610Z"
      },
      {
        "duration": 284,
        "start_time": "2023-04-05T21:43:53.635Z"
      },
      {
        "duration": 320,
        "start_time": "2023-04-05T21:44:01.407Z"
      },
      {
        "duration": 82,
        "start_time": "2023-04-05T21:45:25.704Z"
      },
      {
        "duration": 76,
        "start_time": "2023-04-06T11:24:20.195Z"
      },
      {
        "duration": 1840,
        "start_time": "2023-04-06T11:24:27.512Z"
      },
      {
        "duration": 101,
        "start_time": "2023-04-06T11:24:29.354Z"
      },
      {
        "duration": 17,
        "start_time": "2023-04-06T11:24:29.457Z"
      },
      {
        "duration": 117,
        "start_time": "2023-04-06T11:24:29.476Z"
      },
      {
        "duration": 29,
        "start_time": "2023-04-06T11:24:29.596Z"
      },
      {
        "duration": 12,
        "start_time": "2023-04-06T11:24:29.627Z"
      },
      {
        "duration": 14,
        "start_time": "2023-04-06T11:24:29.642Z"
      },
      {
        "duration": 13,
        "start_time": "2023-04-06T11:24:29.657Z"
      },
      {
        "duration": 19,
        "start_time": "2023-04-06T11:24:29.672Z"
      },
      {
        "duration": 21,
        "start_time": "2023-04-06T11:24:29.693Z"
      },
      {
        "duration": 7,
        "start_time": "2023-04-06T11:24:29.724Z"
      },
      {
        "duration": 8,
        "start_time": "2023-04-06T11:24:29.734Z"
      },
      {
        "duration": 50,
        "start_time": "2023-04-06T11:24:29.745Z"
      },
      {
        "duration": 186,
        "start_time": "2023-04-06T11:24:29.804Z"
      },
      {
        "duration": 360,
        "start_time": "2023-04-06T11:24:29.991Z"
      },
      {
        "duration": 7,
        "start_time": "2023-04-06T11:24:30.353Z"
      },
      {
        "duration": 567,
        "start_time": "2023-04-06T11:24:30.362Z"
      },
      {
        "duration": 79,
        "start_time": "2023-04-06T11:24:30.931Z"
      },
      {
        "duration": 60409,
        "start_time": "2023-04-06T11:24:31.012Z"
      },
      {
        "duration": 18,
        "start_time": "2023-04-06T11:25:31.430Z"
      },
      {
        "duration": 142,
        "start_time": "2023-04-06T11:25:31.450Z"
      },
      {
        "duration": 129,
        "start_time": "2023-04-06T11:25:31.595Z"
      },
      {
        "duration": 220,
        "start_time": "2023-04-06T11:25:31.729Z"
      },
      {
        "duration": 1736,
        "start_time": "2023-04-06T11:27:15.807Z"
      },
      {
        "duration": 36,
        "start_time": "2023-04-06T11:27:17.545Z"
      },
      {
        "duration": 17,
        "start_time": "2023-04-06T11:27:17.583Z"
      },
      {
        "duration": 21,
        "start_time": "2023-04-06T11:27:17.608Z"
      },
      {
        "duration": 11,
        "start_time": "2023-04-06T11:27:17.634Z"
      },
      {
        "duration": 8,
        "start_time": "2023-04-06T11:27:17.647Z"
      },
      {
        "duration": 13,
        "start_time": "2023-04-06T11:27:17.657Z"
      },
      {
        "duration": 44,
        "start_time": "2023-04-06T11:27:17.672Z"
      },
      {
        "duration": 15,
        "start_time": "2023-04-06T11:27:17.722Z"
      },
      {
        "duration": 15,
        "start_time": "2023-04-06T11:27:17.739Z"
      },
      {
        "duration": 12,
        "start_time": "2023-04-06T11:27:17.755Z"
      },
      {
        "duration": 14,
        "start_time": "2023-04-06T11:27:17.768Z"
      },
      {
        "duration": 44,
        "start_time": "2023-04-06T11:27:17.784Z"
      },
      {
        "duration": 211,
        "start_time": "2023-04-06T11:27:17.832Z"
      },
      {
        "duration": 399,
        "start_time": "2023-04-06T11:27:18.045Z"
      },
      {
        "duration": 8,
        "start_time": "2023-04-06T11:27:18.446Z"
      },
      {
        "duration": 491,
        "start_time": "2023-04-06T11:27:18.456Z"
      },
      {
        "duration": 63,
        "start_time": "2023-04-06T11:27:18.950Z"
      },
      {
        "duration": 62174,
        "start_time": "2023-04-06T11:27:19.020Z"
      },
      {
        "duration": 37,
        "start_time": "2023-04-06T11:28:21.196Z"
      },
      {
        "duration": 135,
        "start_time": "2023-04-06T11:28:21.235Z"
      },
      {
        "duration": 135,
        "start_time": "2023-04-06T11:28:21.372Z"
      },
      {
        "duration": 219,
        "start_time": "2023-04-06T11:28:21.518Z"
      },
      {
        "duration": 1444,
        "start_time": "2023-04-06T11:28:54.937Z"
      },
      {
        "duration": 48,
        "start_time": "2023-04-06T11:28:56.383Z"
      },
      {
        "duration": 18,
        "start_time": "2023-04-06T11:28:56.433Z"
      },
      {
        "duration": 14,
        "start_time": "2023-04-06T11:28:56.452Z"
      },
      {
        "duration": 7,
        "start_time": "2023-04-06T11:28:56.468Z"
      },
      {
        "duration": 36,
        "start_time": "2023-04-06T11:28:56.477Z"
      },
      {
        "duration": 20,
        "start_time": "2023-04-06T11:28:56.519Z"
      },
      {
        "duration": 14,
        "start_time": "2023-04-06T11:28:56.541Z"
      },
      {
        "duration": 9,
        "start_time": "2023-04-06T11:28:56.557Z"
      },
      {
        "duration": 4,
        "start_time": "2023-04-06T11:28:56.568Z"
      },
      {
        "duration": 14,
        "start_time": "2023-04-06T11:28:56.574Z"
      },
      {
        "duration": 23,
        "start_time": "2023-04-06T11:28:56.590Z"
      },
      {
        "duration": 37,
        "start_time": "2023-04-06T11:28:56.621Z"
      },
      {
        "duration": 169,
        "start_time": "2023-04-06T11:28:56.660Z"
      },
      {
        "duration": 343,
        "start_time": "2023-04-06T11:28:56.831Z"
      },
      {
        "duration": 6,
        "start_time": "2023-04-06T11:28:57.176Z"
      },
      {
        "duration": 449,
        "start_time": "2023-04-06T11:28:57.184Z"
      },
      {
        "duration": 71,
        "start_time": "2023-04-06T11:28:57.635Z"
      },
      {
        "duration": 60341,
        "start_time": "2023-04-06T11:28:57.710Z"
      },
      {
        "duration": 14,
        "start_time": "2023-04-06T11:29:58.054Z"
      },
      {
        "duration": 145,
        "start_time": "2023-04-06T11:29:58.070Z"
      },
      {
        "duration": 183,
        "start_time": "2023-04-06T11:29:58.226Z"
      },
      {
        "duration": 141,
        "start_time": "2023-04-06T11:29:58.411Z"
      },
      {
        "duration": 1521,
        "start_time": "2023-04-06T11:33:05.462Z"
      },
      {
        "duration": 67,
        "start_time": "2023-04-06T11:33:06.985Z"
      },
      {
        "duration": 26,
        "start_time": "2023-04-06T11:33:07.055Z"
      },
      {
        "duration": 15,
        "start_time": "2023-04-06T11:33:07.083Z"
      },
      {
        "duration": 30,
        "start_time": "2023-04-06T11:33:07.100Z"
      },
      {
        "duration": 10,
        "start_time": "2023-04-06T11:33:07.135Z"
      },
      {
        "duration": 14,
        "start_time": "2023-04-06T11:33:07.146Z"
      },
      {
        "duration": 10,
        "start_time": "2023-04-06T11:33:07.162Z"
      },
      {
        "duration": 14,
        "start_time": "2023-04-06T11:33:07.174Z"
      },
      {
        "duration": 32,
        "start_time": "2023-04-06T11:33:07.190Z"
      },
      {
        "duration": 12,
        "start_time": "2023-04-06T11:33:07.224Z"
      },
      {
        "duration": 6,
        "start_time": "2023-04-06T11:33:07.238Z"
      },
      {
        "duration": 36,
        "start_time": "2023-04-06T11:33:07.246Z"
      },
      {
        "duration": 189,
        "start_time": "2023-04-06T11:33:07.286Z"
      },
      {
        "duration": 370,
        "start_time": "2023-04-06T11:33:07.477Z"
      },
      {
        "duration": 8,
        "start_time": "2023-04-06T11:33:07.849Z"
      },
      {
        "duration": 851,
        "start_time": "2023-04-06T11:33:07.859Z"
      },
      {
        "duration": 11,
        "start_time": "2023-04-06T11:33:08.712Z"
      },
      {
        "duration": 62764,
        "start_time": "2023-04-06T11:33:08.729Z"
      },
      {
        "duration": 34,
        "start_time": "2023-04-06T11:34:11.495Z"
      },
      {
        "duration": 119,
        "start_time": "2023-04-06T11:34:11.532Z"
      },
      {
        "duration": 175,
        "start_time": "2023-04-06T11:34:11.653Z"
      },
      {
        "duration": 138,
        "start_time": "2023-04-06T11:34:11.834Z"
      },
      {
        "duration": 149255,
        "start_time": "2023-04-06T11:34:11.974Z"
      },
      {
        "duration": 994,
        "start_time": "2023-04-06T11:36:41.235Z"
      },
      {
        "duration": 5,
        "start_time": "2023-04-06T11:45:07.673Z"
      },
      {
        "duration": 7,
        "start_time": "2023-04-06T11:45:33.934Z"
      },
      {
        "duration": 8,
        "start_time": "2023-04-06T11:47:15.581Z"
      },
      {
        "duration": 4,
        "start_time": "2023-04-06T11:53:07.676Z"
      },
      {
        "duration": 7,
        "start_time": "2023-04-06T11:56:01.994Z"
      },
      {
        "duration": 1550,
        "start_time": "2023-04-06T11:56:26.467Z"
      },
      {
        "duration": 50,
        "start_time": "2023-04-06T11:56:28.020Z"
      },
      {
        "duration": 30,
        "start_time": "2023-04-06T11:56:28.072Z"
      },
      {
        "duration": 22,
        "start_time": "2023-04-06T11:56:28.108Z"
      },
      {
        "duration": 9,
        "start_time": "2023-04-06T11:56:28.134Z"
      },
      {
        "duration": 9,
        "start_time": "2023-04-06T11:56:28.145Z"
      },
      {
        "duration": 13,
        "start_time": "2023-04-06T11:56:28.156Z"
      },
      {
        "duration": 48,
        "start_time": "2023-04-06T11:56:28.171Z"
      },
      {
        "duration": 11,
        "start_time": "2023-04-06T11:56:28.220Z"
      },
      {
        "duration": 6,
        "start_time": "2023-04-06T11:56:28.232Z"
      },
      {
        "duration": 8,
        "start_time": "2023-04-06T11:56:28.239Z"
      },
      {
        "duration": 7,
        "start_time": "2023-04-06T11:56:28.249Z"
      },
      {
        "duration": 72,
        "start_time": "2023-04-06T11:56:28.258Z"
      },
      {
        "duration": 161,
        "start_time": "2023-04-06T11:56:28.334Z"
      },
      {
        "duration": 360,
        "start_time": "2023-04-06T11:56:28.497Z"
      },
      {
        "duration": 7,
        "start_time": "2023-04-06T11:56:28.859Z"
      },
      {
        "duration": 453,
        "start_time": "2023-04-06T11:56:28.868Z"
      },
      {
        "duration": 72,
        "start_time": "2023-04-06T11:56:29.334Z"
      },
      {
        "duration": 60702,
        "start_time": "2023-04-06T11:56:29.416Z"
      },
      {
        "duration": 16,
        "start_time": "2023-04-06T11:57:30.120Z"
      },
      {
        "duration": 132,
        "start_time": "2023-04-06T11:57:30.139Z"
      },
      {
        "duration": 147,
        "start_time": "2023-04-06T11:57:30.274Z"
      },
      {
        "duration": 139,
        "start_time": "2023-04-06T11:57:30.503Z"
      },
      {
        "duration": 145544,
        "start_time": "2023-04-06T11:57:30.644Z"
      },
      {
        "duration": 904,
        "start_time": "2023-04-06T11:59:56.190Z"
      },
      {
        "duration": 20,
        "start_time": "2023-04-06T11:59:57.096Z"
      },
      {
        "duration": 171,
        "start_time": "2023-04-06T11:59:57.119Z"
      },
      {
        "duration": 160,
        "start_time": "2023-04-06T12:06:34.379Z"
      },
      {
        "duration": 126,
        "start_time": "2023-04-06T12:07:31.443Z"
      }
    ],
    "kernelspec": {
      "display_name": "Python 3 (ipykernel)",
      "language": "python",
      "name": "python3"
    },
    "language_info": {
      "codemirror_mode": {
        "name": "ipython",
        "version": 3
      },
      "file_extension": ".py",
      "mimetype": "text/x-python",
      "name": "python",
      "nbconvert_exporter": "python",
      "pygments_lexer": "ipython3",
      "version": "3.9.5"
    },
    "toc": {
      "base_numbering": 1,
      "nav_menu": {},
      "number_sections": true,
      "sideBar": true,
      "skip_h1_title": true,
      "title_cell": "Содержание",
      "title_sidebar": "Contents",
      "toc_cell": true,
      "toc_position": {},
      "toc_section_display": true,
      "toc_window_display": false
    },
    "colab": {
      "provenance": []
    }
  },
  "nbformat": 4,
  "nbformat_minor": 0
}