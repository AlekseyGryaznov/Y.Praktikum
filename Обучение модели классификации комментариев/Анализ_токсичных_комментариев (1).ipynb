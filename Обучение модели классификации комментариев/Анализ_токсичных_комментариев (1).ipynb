{
  "cells": [
    {
      "cell_type": "markdown",
      "metadata": {
        "toc": true,
        "id": "IjsWiFcyD9T6"
      },
      "source": [
        "<h1>Содержание<span class=\"tocSkip\"></span></h1>\n",
        "<div class=\"toc\"><ul class=\"toc-item\"><li><span><a href=\"#Подготовка\" data-toc-modified-id=\"Подготовка-1\"><span class=\"toc-item-num\">1&nbsp;&nbsp;</span>Подготовка</a></span></li><li><span><a href=\"#Обучение\" data-toc-modified-id=\"Обучение-2\"><span class=\"toc-item-num\">2&nbsp;&nbsp;</span>Обучение</a></span></li><li><span><a href=\"#Выводы\" data-toc-modified-id=\"Выводы-3\"><span class=\"toc-item-num\">3&nbsp;&nbsp;</span>Выводы</a></span></li><li><span><a href=\"#Чек-лист-проверки\" data-toc-modified-id=\"Чек-лист-проверки-4\"><span class=\"toc-item-num\">4&nbsp;&nbsp;</span>Чек-лист проверки</a></span></li></ul></div>"
      ]
    },
    {
      "cell_type": "markdown",
      "metadata": {
        "id": "M2j-5EMkD9T-"
      },
      "source": [
        "# Проект для «Викишоп»"
      ]
    },
    {
      "cell_type": "markdown",
      "metadata": {
        "id": "FnlWK20KD9T-"
      },
      "source": [
        "Интернет-магазин «Викишоп» запускает новый сервис. Теперь пользователи могут редактировать и дополнять описания товаров, как в вики-сообществах. То есть клиенты предлагают свои правки и комментируют изменения других. Магазину нужен инструмент, который будет искать токсичные комментарии и отправлять их на модерацию.\n",
        "\n",
        "Обучите модель классифицировать комментарии на позитивные и негативные. В вашем распоряжении набор данных с разметкой о токсичности правок.\n",
        "\n",
        "Постройте модель со значением метрики качества *F1* не меньше 0.75.\n",
        "\n",
        "**Инструкция по выполнению проекта**\n",
        "\n",
        "1. Загрузите и подготовьте данные.\n",
        "2. Обучите разные модели.\n",
        "3. Сделайте выводы.\n",
        "\n",
        "Для выполнения проекта применять *BERT* необязательно, но вы можете попробовать.\n",
        "\n",
        "**Описание данных**\n",
        "\n",
        "Данные находятся в файле `toxic_comments.csv`. Столбец *text* в нём содержит текст комментария, а *toxic* — целевой признак."
      ]
    },
    {
      "cell_type": "markdown",
      "metadata": {
        "id": "u5ZapPt4D9UA"
      },
      "source": [
        "## Подготовка"
      ]
    },
    {
      "cell_type": "code",
      "execution_count": null,
      "metadata": {
        "id": "3LJ-DI00D9UA"
      },
      "outputs": [],
      "source": [
        "import pandas as pd\n",
        "import matplotlib.pyplot as plt\n",
        "from pymystem3 import Mystem\n",
        "import re\n",
        "from sklearn.feature_extraction.text import CountVectorizer\n",
        "from nltk.stem.snowball import stopwords\n",
        "import nltk\n",
        "from nltk.corpus import stopwords as nltk_stopwords\n",
        "from sklearn.feature_extraction.text import TfidfVectorizer\n",
        "from sklearn.model_selection import train_test_split\n",
        "from sklearn.linear_model import LogisticRegression\n",
        "from sklearn.tree import DecisionTreeClassifier\n",
        "from sklearn.ensemble import RandomForestClassifier\n",
        "from catboost import CatBoostClassifier\n",
        "from lightgbm import LGBMClassifier\n",
        "from tqdm import notebook\n",
        "from sklearn.metrics import f1_score\n",
        "import time\n",
        "from sklearn.model_selection import GridSearchCV\n",
        "from sklearn.pipeline import Pipeline\n",
        "from nltk.stem import WordNetLemmatizer"
      ]
    },
    {
      "cell_type": "code",
      "execution_count": null,
      "metadata": {
        "id": "IhqkYvl3D9UB",
        "outputId": "fc9633b1-5d8e-4be6-9d91-1f7271b21716"
      },
      "outputs": [
        {
          "data": {
            "text/html": [
              "<div>\n",
              "<style scoped>\n",
              "    .dataframe tbody tr th:only-of-type {\n",
              "        vertical-align: middle;\n",
              "    }\n",
              "\n",
              "    .dataframe tbody tr th {\n",
              "        vertical-align: top;\n",
              "    }\n",
              "\n",
              "    .dataframe thead th {\n",
              "        text-align: right;\n",
              "    }\n",
              "</style>\n",
              "<table border=\"1\" class=\"dataframe\">\n",
              "  <thead>\n",
              "    <tr style=\"text-align: right;\">\n",
              "      <th></th>\n",
              "      <th>Unnamed: 0</th>\n",
              "      <th>text</th>\n",
              "      <th>toxic</th>\n",
              "    </tr>\n",
              "  </thead>\n",
              "  <tbody>\n",
              "    <tr>\n",
              "      <th>0</th>\n",
              "      <td>0</td>\n",
              "      <td>Explanation\\nWhy the edits made under my usern...</td>\n",
              "      <td>0</td>\n",
              "    </tr>\n",
              "    <tr>\n",
              "      <th>1</th>\n",
              "      <td>1</td>\n",
              "      <td>D'aww! He matches this background colour I'm s...</td>\n",
              "      <td>0</td>\n",
              "    </tr>\n",
              "    <tr>\n",
              "      <th>2</th>\n",
              "      <td>2</td>\n",
              "      <td>Hey man, I'm really not trying to edit war. It...</td>\n",
              "      <td>0</td>\n",
              "    </tr>\n",
              "    <tr>\n",
              "      <th>3</th>\n",
              "      <td>3</td>\n",
              "      <td>\"\\nMore\\nI can't make any real suggestions on ...</td>\n",
              "      <td>0</td>\n",
              "    </tr>\n",
              "    <tr>\n",
              "      <th>4</th>\n",
              "      <td>4</td>\n",
              "      <td>You, sir, are my hero. Any chance you remember...</td>\n",
              "      <td>0</td>\n",
              "    </tr>\n",
              "    <tr>\n",
              "      <th>...</th>\n",
              "      <td>...</td>\n",
              "      <td>...</td>\n",
              "      <td>...</td>\n",
              "    </tr>\n",
              "    <tr>\n",
              "      <th>159287</th>\n",
              "      <td>159446</td>\n",
              "      <td>\":::::And for the second time of asking, when ...</td>\n",
              "      <td>0</td>\n",
              "    </tr>\n",
              "    <tr>\n",
              "      <th>159288</th>\n",
              "      <td>159447</td>\n",
              "      <td>You should be ashamed of yourself \\n\\nThat is ...</td>\n",
              "      <td>0</td>\n",
              "    </tr>\n",
              "    <tr>\n",
              "      <th>159289</th>\n",
              "      <td>159448</td>\n",
              "      <td>Spitzer \\n\\nUmm, theres no actual article for ...</td>\n",
              "      <td>0</td>\n",
              "    </tr>\n",
              "    <tr>\n",
              "      <th>159290</th>\n",
              "      <td>159449</td>\n",
              "      <td>And it looks like it was actually you who put ...</td>\n",
              "      <td>0</td>\n",
              "    </tr>\n",
              "    <tr>\n",
              "      <th>159291</th>\n",
              "      <td>159450</td>\n",
              "      <td>\"\\nAnd ... I really don't think you understand...</td>\n",
              "      <td>0</td>\n",
              "    </tr>\n",
              "  </tbody>\n",
              "</table>\n",
              "<p>159292 rows × 3 columns</p>\n",
              "</div>"
            ],
            "text/plain": [
              "        Unnamed: 0                                               text  toxic\n",
              "0                0  Explanation\\nWhy the edits made under my usern...      0\n",
              "1                1  D'aww! He matches this background colour I'm s...      0\n",
              "2                2  Hey man, I'm really not trying to edit war. It...      0\n",
              "3                3  \"\\nMore\\nI can't make any real suggestions on ...      0\n",
              "4                4  You, sir, are my hero. Any chance you remember...      0\n",
              "...            ...                                                ...    ...\n",
              "159287      159446  \":::::And for the second time of asking, when ...      0\n",
              "159288      159447  You should be ashamed of yourself \\n\\nThat is ...      0\n",
              "159289      159448  Spitzer \\n\\nUmm, theres no actual article for ...      0\n",
              "159290      159449  And it looks like it was actually you who put ...      0\n",
              "159291      159450  \"\\nAnd ... I really don't think you understand...      0\n",
              "\n",
              "[159292 rows x 3 columns]"
            ]
          },
          "execution_count": 2,
          "metadata": {},
          "output_type": "execute_result"
        }
      ],
      "source": [
        "df = pd.read_csv('/datasets/toxic_comments.csv')\n",
        "df"
      ]
    },
    {
      "cell_type": "code",
      "execution_count": null,
      "metadata": {
        "id": "3Nw0jJ4tD9UC",
        "outputId": "8d7b4eb2-7353-4a67-89bb-4fa62a7f5d44"
      },
      "outputs": [
        {
          "data": {
            "text/plain": [
              "Unnamed: 0    0\n",
              "text          0\n",
              "toxic         0\n",
              "dtype: int64"
            ]
          },
          "execution_count": 3,
          "metadata": {},
          "output_type": "execute_result"
        }
      ],
      "source": [
        "df.isna().sum()"
      ]
    },
    {
      "cell_type": "code",
      "execution_count": null,
      "metadata": {
        "id": "c7q_4s-LD9UC",
        "outputId": "e33ae995-476c-4928-fb5c-b5cc70bfb5c8"
      },
      "outputs": [
        {
          "data": {
            "text/plain": [
              "0"
            ]
          },
          "execution_count": 4,
          "metadata": {},
          "output_type": "execute_result"
        }
      ],
      "source": [
        "df.duplicated().sum()\n"
      ]
    },
    {
      "cell_type": "code",
      "execution_count": null,
      "metadata": {
        "id": "-lZZxOdrD9UC",
        "outputId": "6f529378-a965-4a04-ee3c-4be9549d176e"
      },
      "outputs": [
        {
          "name": "stdout",
          "output_type": "stream",
          "text": [
            "<class 'pandas.core.frame.DataFrame'>\n",
            "RangeIndex: 159292 entries, 0 to 159291\n",
            "Data columns (total 3 columns):\n",
            " #   Column      Non-Null Count   Dtype \n",
            "---  ------      --------------   ----- \n",
            " 0   Unnamed: 0  159292 non-null  int64 \n",
            " 1   text        159292 non-null  object\n",
            " 2   toxic       159292 non-null  int64 \n",
            "dtypes: int64(2), object(1)\n",
            "memory usage: 3.6+ MB\n"
          ]
        }
      ],
      "source": [
        "df.info()"
      ]
    },
    {
      "cell_type": "markdown",
      "metadata": {
        "id": "09msI7o1D9UD"
      },
      "source": [
        "В данных отсутствуют пропуски и дубликаты. Можно переходить к лематизации данных."
      ]
    },
    {
      "cell_type": "markdown",
      "metadata": {
        "id": "GxgpUArTD9UD"
      },
      "source": [
        "Напишем ф-цию очистки текста от лишних символов и лемматизируем текст"
      ]
    },
    {
      "cell_type": "code",
      "execution_count": null,
      "metadata": {
        "id": "DoAaLMryD9UE",
        "outputId": "714d3d3d-db70-44b0-8e9f-beb7186ac241"
      },
      "outputs": [
        {
          "name": "stdout",
          "output_type": "stream",
          "text": [
            "CPU times: user 2 µs, sys: 1e+03 ns, total: 3 µs\n",
            "Wall time: 6.2 µs\n"
          ]
        },
        {
          "name": "stderr",
          "output_type": "stream",
          "text": [
            "[nltk_data] Downloading package averaged_perceptron_tagger to\n",
            "[nltk_data]     /home/jovyan/nltk_data...\n",
            "[nltk_data]   Package averaged_perceptron_tagger is already up-to-\n",
            "[nltk_data]       date!\n"
          ]
        }
      ],
      "source": [
        "%time\n",
        "import nltk\n",
        "from nltk.stem import WordNetLemmatizer\n",
        "nltk.download('averaged_perceptron_tagger')\n",
        "from nltk.corpus import wordnet\n",
        "import pandas as pd\n",
        "import re\n",
        "def clear_text(text):#Фунцкия очистки от лишних пробелов и символов\n",
        "    x = re.sub(r'[^a-zA-Z]',' ',text).split()\n",
        "    y =\" \".join(x)\n",
        "    return y\n",
        "\n",
        "def get_wordnet_pos(word):\n",
        "    tag = nltk.pos_tag([word])[0][1][0].upper()\n",
        "    tag_dict = {\"J\": wordnet.ADJ,\n",
        "                \"N\": wordnet.NOUN,\n",
        "                \"V\": wordnet.VERB,\n",
        "                \"R\": wordnet.ADV}\n",
        "    return tag_dict.get(tag, wordnet.NOUN)\n",
        "\n",
        "lemmatizer = WordNetLemmatizer()\n",
        "\n",
        "def lemm_(text):\n",
        "\n",
        "    lemmatized_output = ' '.join([lemmatizer.lemmatize(w, get_wordnet_pos(w)) for w in nltk.word_tokenize(text)])\n",
        "    return lemmatized_output\n"
      ]
    },
    {
      "cell_type": "code",
      "execution_count": null,
      "metadata": {
        "id": "xzScGEVdD9UE"
      },
      "outputs": [],
      "source": [
        "df['clear_text'] = df['text'].apply(clear_text)\n",
        "\n",
        "df['lemmatized_text'] = df['clear_text'].apply(lemm_)"
      ]
    },
    {
      "cell_type": "code",
      "execution_count": null,
      "metadata": {
        "id": "Q1e6_mv5D9UE",
        "outputId": "d995f415-8b73-43a5-dbbc-ab0a587e1981"
      },
      "outputs": [
        {
          "data": {
            "text/html": [
              "<div>\n",
              "<style scoped>\n",
              "    .dataframe tbody tr th:only-of-type {\n",
              "        vertical-align: middle;\n",
              "    }\n",
              "\n",
              "    .dataframe tbody tr th {\n",
              "        vertical-align: top;\n",
              "    }\n",
              "\n",
              "    .dataframe thead th {\n",
              "        text-align: right;\n",
              "    }\n",
              "</style>\n",
              "<table border=\"1\" class=\"dataframe\">\n",
              "  <thead>\n",
              "    <tr style=\"text-align: right;\">\n",
              "      <th></th>\n",
              "      <th>Unnamed: 0</th>\n",
              "      <th>text</th>\n",
              "      <th>toxic</th>\n",
              "      <th>clear_text</th>\n",
              "      <th>lemmatized_text</th>\n",
              "    </tr>\n",
              "  </thead>\n",
              "  <tbody>\n",
              "    <tr>\n",
              "      <th>0</th>\n",
              "      <td>0</td>\n",
              "      <td>Explanation\\nWhy the edits made under my usern...</td>\n",
              "      <td>0</td>\n",
              "      <td>Explanation Why the edits made under my userna...</td>\n",
              "      <td>Explanation Why the edits make under my userna...</td>\n",
              "    </tr>\n",
              "    <tr>\n",
              "      <th>1</th>\n",
              "      <td>1</td>\n",
              "      <td>D'aww! He matches this background colour I'm s...</td>\n",
              "      <td>0</td>\n",
              "      <td>D aww He matches this background colour I m se...</td>\n",
              "      <td>D aww He match this background colour I m seem...</td>\n",
              "    </tr>\n",
              "    <tr>\n",
              "      <th>2</th>\n",
              "      <td>2</td>\n",
              "      <td>Hey man, I'm really not trying to edit war. It...</td>\n",
              "      <td>0</td>\n",
              "      <td>Hey man I m really not trying to edit war It s...</td>\n",
              "      <td>Hey man I m really not try to edit war It s ju...</td>\n",
              "    </tr>\n",
              "    <tr>\n",
              "      <th>3</th>\n",
              "      <td>3</td>\n",
              "      <td>\"\\nMore\\nI can't make any real suggestions on ...</td>\n",
              "      <td>0</td>\n",
              "      <td>More I can t make any real suggestions on impr...</td>\n",
              "      <td>More I can t make any real suggestion on impro...</td>\n",
              "    </tr>\n",
              "    <tr>\n",
              "      <th>4</th>\n",
              "      <td>4</td>\n",
              "      <td>You, sir, are my hero. Any chance you remember...</td>\n",
              "      <td>0</td>\n",
              "      <td>You sir are my hero Any chance you remember wh...</td>\n",
              "      <td>You sir be my hero Any chance you remember wha...</td>\n",
              "    </tr>\n",
              "    <tr>\n",
              "      <th>...</th>\n",
              "      <td>...</td>\n",
              "      <td>...</td>\n",
              "      <td>...</td>\n",
              "      <td>...</td>\n",
              "      <td>...</td>\n",
              "    </tr>\n",
              "    <tr>\n",
              "      <th>159287</th>\n",
              "      <td>159446</td>\n",
              "      <td>\":::::And for the second time of asking, when ...</td>\n",
              "      <td>0</td>\n",
              "      <td>And for the second time of asking when your vi...</td>\n",
              "      <td>And for the second time of ask when your view ...</td>\n",
              "    </tr>\n",
              "    <tr>\n",
              "      <th>159288</th>\n",
              "      <td>159447</td>\n",
              "      <td>You should be ashamed of yourself \\n\\nThat is ...</td>\n",
              "      <td>0</td>\n",
              "      <td>You should be ashamed of yourself That is a ho...</td>\n",
              "      <td>You should be ashamed of yourself That be a ho...</td>\n",
              "    </tr>\n",
              "    <tr>\n",
              "      <th>159289</th>\n",
              "      <td>159448</td>\n",
              "      <td>Spitzer \\n\\nUmm, theres no actual article for ...</td>\n",
              "      <td>0</td>\n",
              "      <td>Spitzer Umm theres no actual article for prost...</td>\n",
              "      <td>Spitzer Umm there no actual article for prosti...</td>\n",
              "    </tr>\n",
              "    <tr>\n",
              "      <th>159290</th>\n",
              "      <td>159449</td>\n",
              "      <td>And it looks like it was actually you who put ...</td>\n",
              "      <td>0</td>\n",
              "      <td>And it looks like it was actually you who put ...</td>\n",
              "      <td>And it look like it be actually you who put on...</td>\n",
              "    </tr>\n",
              "    <tr>\n",
              "      <th>159291</th>\n",
              "      <td>159450</td>\n",
              "      <td>\"\\nAnd ... I really don't think you understand...</td>\n",
              "      <td>0</td>\n",
              "      <td>And I really don t think you understand I came...</td>\n",
              "      <td>And I really don t think you understand I come...</td>\n",
              "    </tr>\n",
              "  </tbody>\n",
              "</table>\n",
              "<p>159292 rows × 5 columns</p>\n",
              "</div>"
            ],
            "text/plain": [
              "        Unnamed: 0                                               text  toxic  \\\n",
              "0                0  Explanation\\nWhy the edits made under my usern...      0   \n",
              "1                1  D'aww! He matches this background colour I'm s...      0   \n",
              "2                2  Hey man, I'm really not trying to edit war. It...      0   \n",
              "3                3  \"\\nMore\\nI can't make any real suggestions on ...      0   \n",
              "4                4  You, sir, are my hero. Any chance you remember...      0   \n",
              "...            ...                                                ...    ...   \n",
              "159287      159446  \":::::And for the second time of asking, when ...      0   \n",
              "159288      159447  You should be ashamed of yourself \\n\\nThat is ...      0   \n",
              "159289      159448  Spitzer \\n\\nUmm, theres no actual article for ...      0   \n",
              "159290      159449  And it looks like it was actually you who put ...      0   \n",
              "159291      159450  \"\\nAnd ... I really don't think you understand...      0   \n",
              "\n",
              "                                               clear_text  \\\n",
              "0       Explanation Why the edits made under my userna...   \n",
              "1       D aww He matches this background colour I m se...   \n",
              "2       Hey man I m really not trying to edit war It s...   \n",
              "3       More I can t make any real suggestions on impr...   \n",
              "4       You sir are my hero Any chance you remember wh...   \n",
              "...                                                   ...   \n",
              "159287  And for the second time of asking when your vi...   \n",
              "159288  You should be ashamed of yourself That is a ho...   \n",
              "159289  Spitzer Umm theres no actual article for prost...   \n",
              "159290  And it looks like it was actually you who put ...   \n",
              "159291  And I really don t think you understand I came...   \n",
              "\n",
              "                                          lemmatized_text  \n",
              "0       Explanation Why the edits make under my userna...  \n",
              "1       D aww He match this background colour I m seem...  \n",
              "2       Hey man I m really not try to edit war It s ju...  \n",
              "3       More I can t make any real suggestion on impro...  \n",
              "4       You sir be my hero Any chance you remember wha...  \n",
              "...                                                   ...  \n",
              "159287  And for the second time of ask when your view ...  \n",
              "159288  You should be ashamed of yourself That be a ho...  \n",
              "159289  Spitzer Umm there no actual article for prosti...  \n",
              "159290  And it look like it be actually you who put on...  \n",
              "159291  And I really don t think you understand I come...  \n",
              "\n",
              "[159292 rows x 5 columns]"
            ]
          },
          "execution_count": 8,
          "metadata": {},
          "output_type": "execute_result"
        }
      ],
      "source": [
        "df"
      ]
    },
    {
      "cell_type": "markdown",
      "metadata": {
        "id": "mweABbIUD9UI"
      },
      "source": [
        "Векторизируем наши признаки с учетом стоп-слов TF-IDF"
      ]
    },
    {
      "cell_type": "code",
      "execution_count": null,
      "metadata": {
        "id": "72gMeoKoD9UI",
        "outputId": "15756ad0-e3f8-4f1e-bde8-ebb8792702ad"
      },
      "outputs": [
        {
          "name": "stderr",
          "output_type": "stream",
          "text": [
            "[nltk_data] Downloading package stopwords to /home/jovyan/nltk_data...\n",
            "[nltk_data]   Package stopwords is already up-to-date!\n"
          ]
        }
      ],
      "source": [
        "nltk.download('stopwords')\n",
        "stopwords = set(stopwords.words('english'))\n",
        "counr_tf_idf = TfidfVectorizer(stop_words=stopwords)\n",
        "#tf_idf = counr_tf_idf.fit_transform(corpus)"
      ]
    },
    {
      "cell_type": "markdown",
      "metadata": {
        "id": "NuOwsESID9UJ"
      },
      "source": [
        "Разделим выборку на trein,test"
      ]
    },
    {
      "cell_type": "code",
      "execution_count": null,
      "metadata": {
        "id": "zRs7pdkOD9UJ"
      },
      "outputs": [],
      "source": [
        "features = df['lemmatized_text']\n",
        "target = df['toxic']\n",
        "features_train,features_test,target_train,target_test =train_test_split(features,target,test_size = 0.2,random_state = 12345)\n",
        "#features_valid,features_test,target_valid,target_test= train_test_split(features_valid,target_valid,test_size = 0.5,random_state = 12345)"
      ]
    },
    {
      "cell_type": "markdown",
      "metadata": {
        "id": "G7R5ghWfD9UJ"
      },
      "source": [
        "Получим TF-IDF векторы"
      ]
    },
    {
      "cell_type": "code",
      "execution_count": null,
      "metadata": {
        "id": "4W_kk_8oD9UJ"
      },
      "outputs": [],
      "source": [
        "tf_idf_train = counr_tf_idf.fit_transform(features_train)\n",
        "tf_idf_test = counr_tf_idf.transform(features_test)\n",
        "#tf_idf_valid = counr_tf_idf.transform(features_valid)"
      ]
    },
    {
      "cell_type": "code",
      "execution_count": null,
      "metadata": {
        "id": "16FQwVJTD9UK",
        "outputId": "60c851eb-379e-46a0-9e03-771944aeade4"
      },
      "outputs": [
        {
          "data": {
            "text/plain": [
              "(127433, 139430)"
            ]
          },
          "execution_count": 13,
          "metadata": {},
          "output_type": "execute_result"
        }
      ],
      "source": [
        "tf_idf_train.shape\n"
      ]
    },
    {
      "cell_type": "code",
      "execution_count": null,
      "metadata": {
        "id": "r1WhzoieD9UK",
        "outputId": "95bca0eb-c91a-4084-e1cd-718a99bf6c2f"
      },
      "outputs": [
        {
          "data": {
            "text/plain": [
              "(31859, 139430)"
            ]
          },
          "execution_count": 14,
          "metadata": {},
          "output_type": "execute_result"
        }
      ],
      "source": [
        "tf_idf_test.shape"
      ]
    },
    {
      "cell_type": "code",
      "execution_count": null,
      "metadata": {
        "id": "vTHWfjUxD9UK",
        "outputId": "9adb1f2b-3c7d-4537-a6de-b7981f7c78f2"
      },
      "outputs": [
        {
          "data": {
            "text/plain": [
              "<function matplotlib.pyplot.show(close=None, block=None)>"
            ]
          },
          "execution_count": 15,
          "metadata": {},
          "output_type": "execute_result"
        },
        {
          "data": {
            "image/png": "[encoded data removed]",
            "text/plain": [
              "<Figure size 432x288 with 1 Axes>"
            ]
          },
          "metadata": {
            "needs_background": "light"
          },
          "output_type": "display_data"
        }
      ],
      "source": [
        "class_frequency = df['toxic'].value_counts(normalize = True)\n",
        "class_frequency.plot(kind = 'bar',title = 'Соотношение отрицательных и положительных классов')\n",
        "plt.show"
      ]
    },
    {
      "cell_type": "markdown",
      "metadata": {
        "id": "BS8B4g2gD9UK"
      },
      "source": [
        "В данных виден дисбаланс классов, будем учитывать это в параметрах моделей."
      ]
    },
    {
      "cell_type": "markdown",
      "metadata": {
        "id": "B5Dlcan0D9UL"
      },
      "source": [
        "***Данные были предварительно подготовлены к обучению:\n",
        "-Разбили текст на токены\n",
        "-Провели лемматизацию\n",
        "-Векторизировали данные с учетом стоп слов***"
      ]
    },
    {
      "cell_type": "markdown",
      "metadata": {
        "id": "sMz9VWp-D9UL"
      },
      "source": [
        "## Обучение"
      ]
    },
    {
      "cell_type": "markdown",
      "metadata": {
        "id": "zkiin6_wD9UL"
      },
      "source": [
        "*DecisionTreeClassifier*"
      ]
    },
    {
      "cell_type": "code",
      "execution_count": null,
      "metadata": {
        "id": "jjWtIb4VD9UL",
        "outputId": "3d8ea1b7-c106-4de9-cc28-9bbe1b56eae9"
      },
      "outputs": [
        {
          "name": "stdout",
          "output_type": "stream",
          "text": [
            "Лучшие параметры модели: {'max_depth': 25}\n",
            "F1: 0.6087416339653925\n",
            "CPU times: user 3min 41s, sys: 714 ms, total: 3min 42s\n",
            "Wall time: 3min 42s\n"
          ]
        }
      ],
      "source": [
        "%%time\n",
        "tree = DecisionTreeClassifier(random_state=12345, class_weight='balanced')\n",
        "GS_tree = GridSearchCV(estimator = tree,\n",
        "                  param_grid = {'max_depth':[x for x in range(5, 30, 5)]},\n",
        "                  scoring = [\"f1\"],\n",
        "                  refit = \"f1\",\n",
        "                  cv=3\n",
        "                  )\n",
        "GS_tree.fit(tf_idf_train, target_train)\n",
        "print('Лучшие параметры модели:',GS_tree.best_params_)\n",
        "print('F1:',GS_tree.best_score_)"
      ]
    },
    {
      "cell_type": "markdown",
      "metadata": {
        "id": "JF8dKMelD9UL"
      },
      "source": [
        "Лучший показатель f1 = 0.59 у модели DecisionTreeClassifier,при гиперпараметрах max_depth = 25. Модель не дотягивает до нужного значения целевой метрики заказчика."
      ]
    },
    {
      "cell_type": "markdown",
      "metadata": {
        "id": "bg2iXWT2D9UM"
      },
      "source": [
        "*RandomForestClassifier*"
      ]
    },
    {
      "cell_type": "code",
      "execution_count": null,
      "metadata": {
        "id": "ic2EfRwAD9UM",
        "outputId": "662fa039-b0e4-4938-f77d-839711cd4e13"
      },
      "outputs": [
        {
          "name": "stdout",
          "output_type": "stream",
          "text": [
            "Лучшие параметры модели: {'max_depth': 11, 'n_estimators': 50}\n",
            "F1: 0.35154562857652727\n",
            "CPU times: user 4min 34s, sys: 3.12 s, total: 4min 37s\n",
            "Wall time: 4min 38s\n"
          ]
        }
      ],
      "source": [
        "%%time\n",
        "parametrs = {'n_estimators': range (10, 51, 10),\n",
        "            'max_depth': range (1,13, 2),}\n",
        "\n",
        "tree = RandomForestClassifier(random_state=12345, class_weight='balanced')\n",
        "\n",
        "GS_random = GridSearchCV(estimator = tree,param_grid = parametrs,scoring = \"f1\",cv=3)\n",
        "GS_random.fit(tf_idf_train, target_train)\n",
        "print('Лучшие параметры модели:',GS_random.best_params_)\n",
        "print('F1:',GS_random.best_score_)"
      ]
    },
    {
      "cell_type": "markdown",
      "metadata": {
        "id": "ITmggJvUD9UM"
      },
      "source": [
        "Лучший показатель f1 = 0.34 у модели RandomForestClassifier,при гиперпараметрах max_depth = 11,n_estimators= 50. Модель не дотягивает до нужного значения целевой метрики заказчика."
      ]
    },
    {
      "cell_type": "markdown",
      "metadata": {
        "id": "Cm0EPeBJD9UN"
      },
      "source": [
        "*LogisticRegression*"
      ]
    },
    {
      "cell_type": "code",
      "execution_count": null,
      "metadata": {
        "id": "eRk06XSzD9UN",
        "outputId": "faa2e9f6-5053-48ab-8e9a-46331aa7ff27"
      },
      "outputs": [
        {
          "name": "stdout",
          "output_type": "stream",
          "text": [
            "Fitting 3 folds for each of 10 candidates, totalling 30 fits\n",
            "Best parameters is: {'model': LogisticRegression(C=4, penalty='l1', random_state=42, solver='liblinear'), 'model__C': 4, 'model__penalty': 'l1'}\n",
            "Best score is: 0.7657137112040164\n",
            "CPU times: user 1min 57s, sys: 1min 50s, total: 3min 47s\n",
            "Wall time: 3min 48s\n"
          ]
        }
      ],
      "source": [
        "%%time\n",
        "pipe = Pipeline([\n",
        "    ('model', LogisticRegression(random_state=1, solver='liblinear', max_iter=200))])\n",
        "\n",
        "\n",
        "param_grid = [\n",
        "        {\n",
        "\n",
        "            'model': [LogisticRegression(random_state=42, solver='liblinear')],\n",
        "            'model__penalty' : ['l1', 'l2'],\n",
        "            'model__C': list(range(1,15,3))\n",
        "        }\n",
        "]\n",
        "grid = GridSearchCV(pipe, param_grid=param_grid, scoring='f1', cv=3, verbose=True, n_jobs=-1)\n",
        "best_grid = grid.fit(tf_idf_train, target_train)\n",
        "print('Best parameters is:', grid.best_params_)\n",
        "print('Best score is:', grid.best_score_)"
      ]
    },
    {
      "cell_type": "markdown",
      "metadata": {
        "id": "9YdtkhzqD9UO"
      },
      "source": [
        "Лучший показатель f1 = 0.77 у модели LogisticRegression,при гиперпараметрах C=4, penalty='l1', random_state=42, solver='liblinear'. Модель подходит под значение целевой метрики."
      ]
    },
    {
      "cell_type": "markdown",
      "metadata": {
        "id": "R5rEiiGWD9UO"
      },
      "source": [
        "*LGBMClassifier*"
      ]
    },
    {
      "cell_type": "markdown",
      "metadata": {
        "id": "Y1FItHp9D9UO"
      },
      "source": [
        "%%time\n",
        "model_lgb = LGBMClassifier(class_weight='balanced')\n",
        "\n",
        "params = {'max_depth':[1,3,5]}\n",
        "\n",
        "gr_s = GridSearchCV(model_lgb, params, scoring='f1', cv=3)\n",
        "gr_s.fit(tf_idf_train, target_train)\n",
        "\n",
        "print('Best parameters is:',gr_s.best_params_)\n",
        "print('Best score is:',gr_s.best_score_)"
      ]
    },
    {
      "cell_type": "markdown",
      "metadata": {
        "id": "6gTQBN_pD9UO"
      },
      "source": [
        "Лучший показатель f1 = 0.69 у модели LGBMClassifier. Модель не дотягивает до нужного значения целевой метрики заказчика."
      ]
    },
    {
      "cell_type": "code",
      "execution_count": null,
      "metadata": {
        "id": "5Zoa-9ZRD9UO",
        "outputId": "8ad1f5c8-7e90-4b33-e691-fd4dca550e52"
      },
      "outputs": [
        {
          "data": {
            "text/html": [
              "<div>\n",
              "<style scoped>\n",
              "    .dataframe tbody tr th:only-of-type {\n",
              "        vertical-align: middle;\n",
              "    }\n",
              "\n",
              "    .dataframe tbody tr th {\n",
              "        vertical-align: top;\n",
              "    }\n",
              "\n",
              "    .dataframe thead th {\n",
              "        text-align: right;\n",
              "    }\n",
              "</style>\n",
              "<table border=\"1\" class=\"dataframe\">\n",
              "  <thead>\n",
              "    <tr style=\"text-align: right;\">\n",
              "      <th></th>\n",
              "      <th>model</th>\n",
              "      <th>F1 score</th>\n",
              "    </tr>\n",
              "  </thead>\n",
              "  <tbody>\n",
              "    <tr>\n",
              "      <th>0</th>\n",
              "      <td>LGBMClassifier</td>\n",
              "      <td>0.69</td>\n",
              "    </tr>\n",
              "    <tr>\n",
              "      <th>1</th>\n",
              "      <td>LogisticRegression</td>\n",
              "      <td>0.77</td>\n",
              "    </tr>\n",
              "    <tr>\n",
              "      <th>2</th>\n",
              "      <td>RandomForestClassifier</td>\n",
              "      <td>0.34</td>\n",
              "    </tr>\n",
              "    <tr>\n",
              "      <th>3</th>\n",
              "      <td>DecisionTreeClassifier</td>\n",
              "      <td>0.59</td>\n",
              "    </tr>\n",
              "  </tbody>\n",
              "</table>\n",
              "</div>"
            ],
            "text/plain": [
              "                    model  F1 score\n",
              "0          LGBMClassifier      0.69\n",
              "1      LogisticRegression      0.77\n",
              "2  RandomForestClassifier      0.34\n",
              "3  DecisionTreeClassifier      0.59"
            ]
          },
          "execution_count": 19,
          "metadata": {},
          "output_type": "execute_result"
        }
      ],
      "source": [
        "model = [['LGBMClassifier',0.69],\n",
        "         ['LogisticRegression',0.77],\n",
        "         ['RandomForestClassifier',0.34],\n",
        "         ['DecisionTreeClassifier',0.59]]\n",
        "columns = ['model','F1 score']\n",
        "analysis_data = pd.DataFrame(data=model, columns=columns)\n",
        "analysis_data"
      ]
    },
    {
      "cell_type": "markdown",
      "metadata": {
        "id": "E_oOqKcMD9UO"
      },
      "source": [
        "***Лучший показатель у логистической регресси, проверим на значение метрики на тестовых данных***"
      ]
    },
    {
      "cell_type": "code",
      "execution_count": null,
      "metadata": {
        "id": "0kJX_3xLD9UP",
        "outputId": "ea62e686-70e3-4309-aaab-71dd6c7a92e6"
      },
      "outputs": [
        {
          "data": {
            "text/plain": [
              "0.7801490514905149"
            ]
          },
          "execution_count": 20,
          "metadata": {},
          "output_type": "execute_result"
        }
      ],
      "source": [
        "model_final = grid.best_estimator_\n",
        "valid_pred_final = model_final.predict(tf_idf_test)\n",
        "f1_score(target_test, valid_pred_final)"
      ]
    },
    {
      "cell_type": "markdown",
      "metadata": {
        "id": "s-q0MRS0D9UP"
      },
      "source": [
        "***Целевая метрика F1 достигнута. Уровнень выше значения 0.75***"
      ]
    },
    {
      "cell_type": "markdown",
      "metadata": {
        "id": "LpqyOXcXD9UP"
      },
      "source": [
        "## Выводы"
      ]
    },
    {
      "cell_type": "markdown",
      "metadata": {
        "id": "UjztCGHjD9UP"
      },
      "source": [
        "***Была проведена предварительная подготовка данных и обучено 4 модели.\n",
        "Целевые показатели метрики F1 были достигнуты у модели логистической регрессии. Показатель метрики на тестовых данных = 0.78, что удовлетворяет требованиям заказчика.***"
      ]
    }
  ],
  "metadata": {
    "ExecuteTimeLog": [
      {
        "duration": 401,
        "start_time": "2023-06-18T10:59:18.004Z"
      },
      {
        "duration": 823,
        "start_time": "2023-06-18T11:00:09.161Z"
      },
      {
        "duration": 40,
        "start_time": "2023-06-18T11:07:07.891Z"
      },
      {
        "duration": 79,
        "start_time": "2023-06-18T11:07:23.328Z"
      },
      {
        "duration": 8,
        "start_time": "2023-06-18T11:07:27.746Z"
      },
      {
        "duration": 240,
        "start_time": "2023-06-18T11:08:11.382Z"
      },
      {
        "duration": 33,
        "start_time": "2023-06-18T11:11:54.507Z"
      },
      {
        "duration": 484,
        "start_time": "2023-06-18T11:14:20.457Z"
      },
      {
        "duration": 0,
        "start_time": "2023-06-18T11:14:20.943Z"
      },
      {
        "duration": 0,
        "start_time": "2023-06-18T11:14:20.944Z"
      },
      {
        "duration": 0,
        "start_time": "2023-06-18T11:14:20.945Z"
      },
      {
        "duration": 0,
        "start_time": "2023-06-18T11:14:20.946Z"
      },
      {
        "duration": 19,
        "start_time": "2023-06-18T11:14:43.197Z"
      },
      {
        "duration": 449,
        "start_time": "2023-06-18T11:14:48.362Z"
      },
      {
        "duration": 1013,
        "start_time": "2023-06-18T11:14:48.813Z"
      },
      {
        "duration": 27,
        "start_time": "2023-06-18T11:14:49.828Z"
      },
      {
        "duration": 280,
        "start_time": "2023-06-18T11:14:49.857Z"
      },
      {
        "duration": 39,
        "start_time": "2023-06-18T11:14:50.139Z"
      },
      {
        "duration": 106,
        "start_time": "2023-06-18T11:16:33.541Z"
      },
      {
        "duration": 9,
        "start_time": "2023-06-18T11:16:57.954Z"
      },
      {
        "duration": 2613,
        "start_time": "2023-06-18T11:17:02.665Z"
      },
      {
        "duration": 8,
        "start_time": "2023-06-18T11:20:53.656Z"
      },
      {
        "duration": 914,
        "start_time": "2023-06-18T11:21:06.451Z"
      },
      {
        "duration": 4187,
        "start_time": "2023-06-18T11:21:07.368Z"
      },
      {
        "duration": 41,
        "start_time": "2023-06-18T11:21:11.557Z"
      },
      {
        "duration": 331,
        "start_time": "2023-06-18T11:21:11.603Z"
      },
      {
        "duration": 43,
        "start_time": "2023-06-18T11:21:11.936Z"
      },
      {
        "duration": 2568,
        "start_time": "2023-06-18T11:21:11.983Z"
      },
      {
        "duration": 0,
        "start_time": "2023-06-18T11:21:14.552Z"
      },
      {
        "duration": 868,
        "start_time": "2023-06-18T11:21:28.395Z"
      },
      {
        "duration": 4418,
        "start_time": "2023-06-18T11:21:29.265Z"
      },
      {
        "duration": 37,
        "start_time": "2023-06-18T11:21:33.685Z"
      },
      {
        "duration": 335,
        "start_time": "2023-06-18T11:21:33.724Z"
      },
      {
        "duration": 42,
        "start_time": "2023-06-18T11:21:34.062Z"
      },
      {
        "duration": 2349,
        "start_time": "2023-06-18T11:21:34.107Z"
      },
      {
        "duration": 100,
        "start_time": "2023-06-18T11:21:36.457Z"
      },
      {
        "duration": 416,
        "start_time": "2023-06-18T11:22:00.416Z"
      },
      {
        "duration": 1086,
        "start_time": "2023-06-18T11:22:00.834Z"
      },
      {
        "duration": 28,
        "start_time": "2023-06-18T11:22:01.922Z"
      },
      {
        "duration": 304,
        "start_time": "2023-06-18T11:22:01.952Z"
      },
      {
        "duration": 46,
        "start_time": "2023-06-18T11:22:02.258Z"
      },
      {
        "duration": 2290,
        "start_time": "2023-06-18T11:22:02.307Z"
      },
      {
        "duration": 1126,
        "start_time": "2023-06-18T11:22:04.600Z"
      },
      {
        "duration": 9,
        "start_time": "2023-06-18T11:23:19.609Z"
      },
      {
        "duration": 431,
        "start_time": "2023-06-18T11:37:14.567Z"
      },
      {
        "duration": 3752,
        "start_time": "2023-06-18T11:37:15.000Z"
      },
      {
        "duration": 32,
        "start_time": "2023-06-18T11:37:18.754Z"
      },
      {
        "duration": 244,
        "start_time": "2023-06-18T11:37:18.789Z"
      },
      {
        "duration": 46,
        "start_time": "2023-06-18T11:37:19.034Z"
      },
      {
        "duration": 2168,
        "start_time": "2023-06-18T11:37:19.084Z"
      },
      {
        "duration": 1139,
        "start_time": "2023-06-18T11:37:21.254Z"
      },
      {
        "duration": 7,
        "start_time": "2023-06-18T11:44:43.148Z"
      },
      {
        "duration": 49,
        "start_time": "2023-06-18T11:45:26.694Z"
      },
      {
        "duration": 393,
        "start_time": "2023-06-18T11:45:42.106Z"
      },
      {
        "duration": 4086,
        "start_time": "2023-06-18T11:45:42.502Z"
      },
      {
        "duration": 28,
        "start_time": "2023-06-18T11:45:46.589Z"
      },
      {
        "duration": 230,
        "start_time": "2023-06-18T11:45:46.619Z"
      },
      {
        "duration": 54,
        "start_time": "2023-06-18T11:45:46.852Z"
      },
      {
        "duration": 3587,
        "start_time": "2023-06-18T11:45:46.911Z"
      },
      {
        "duration": 1963,
        "start_time": "2023-06-18T11:46:00.889Z"
      },
      {
        "duration": 4218,
        "start_time": "2023-06-18T11:46:02.854Z"
      },
      {
        "duration": 37,
        "start_time": "2023-06-18T11:46:07.076Z"
      },
      {
        "duration": 254,
        "start_time": "2023-06-18T11:46:07.115Z"
      },
      {
        "duration": 40,
        "start_time": "2023-06-18T11:46:07.378Z"
      },
      {
        "duration": 2760,
        "start_time": "2023-06-18T11:46:07.420Z"
      },
      {
        "duration": 571,
        "start_time": "2023-06-18T11:46:43.466Z"
      },
      {
        "duration": 1393,
        "start_time": "2023-06-18T11:46:53.254Z"
      },
      {
        "duration": 4398,
        "start_time": "2023-06-18T11:46:54.649Z"
      },
      {
        "duration": 41,
        "start_time": "2023-06-18T11:46:59.049Z"
      },
      {
        "duration": 234,
        "start_time": "2023-06-18T11:46:59.091Z"
      },
      {
        "duration": 30,
        "start_time": "2023-06-18T11:46:59.327Z"
      },
      {
        "duration": 58,
        "start_time": "2023-06-18T11:49:50.368Z"
      },
      {
        "duration": 465,
        "start_time": "2023-06-18T11:50:05.659Z"
      },
      {
        "duration": 4295,
        "start_time": "2023-06-18T11:50:06.126Z"
      },
      {
        "duration": 26,
        "start_time": "2023-06-18T11:50:10.423Z"
      },
      {
        "duration": 281,
        "start_time": "2023-06-18T11:50:10.451Z"
      },
      {
        "duration": 53,
        "start_time": "2023-06-18T11:50:10.735Z"
      },
      {
        "duration": 4186,
        "start_time": "2023-06-18T11:50:10.789Z"
      },
      {
        "duration": 1531,
        "start_time": "2023-06-18T11:50:14.978Z"
      },
      {
        "duration": 15,
        "start_time": "2023-06-18T11:52:07.459Z"
      },
      {
        "duration": 1528,
        "start_time": "2023-06-18T11:53:04.085Z"
      },
      {
        "duration": 4024,
        "start_time": "2023-06-18T11:53:05.615Z"
      },
      {
        "duration": 46,
        "start_time": "2023-06-18T11:53:09.641Z"
      },
      {
        "duration": 255,
        "start_time": "2023-06-18T11:53:09.688Z"
      },
      {
        "duration": 54,
        "start_time": "2023-06-18T11:53:09.945Z"
      },
      {
        "duration": 2152,
        "start_time": "2023-06-18T11:53:10.002Z"
      },
      {
        "duration": 1183,
        "start_time": "2023-06-18T11:53:12.157Z"
      },
      {
        "duration": 51,
        "start_time": "2023-06-18T11:59:10.698Z"
      },
      {
        "duration": 14,
        "start_time": "2023-06-18T13:11:12.968Z"
      },
      {
        "duration": 1226,
        "start_time": "2023-06-18T13:11:20.341Z"
      },
      {
        "duration": 0,
        "start_time": "2023-06-18T13:11:21.571Z"
      },
      {
        "duration": 0,
        "start_time": "2023-06-18T13:11:21.574Z"
      },
      {
        "duration": 0,
        "start_time": "2023-06-18T13:11:21.575Z"
      },
      {
        "duration": 0,
        "start_time": "2023-06-18T13:11:21.576Z"
      },
      {
        "duration": 0,
        "start_time": "2023-06-18T13:11:21.577Z"
      },
      {
        "duration": 0,
        "start_time": "2023-06-18T13:11:21.580Z"
      },
      {
        "duration": 0,
        "start_time": "2023-06-18T13:11:21.581Z"
      },
      {
        "duration": 0,
        "start_time": "2023-06-18T13:11:21.583Z"
      },
      {
        "duration": 8,
        "start_time": "2023-06-18T13:12:07.383Z"
      },
      {
        "duration": 15,
        "start_time": "2023-06-18T13:12:13.941Z"
      },
      {
        "duration": 1277,
        "start_time": "2023-06-18T13:12:26.632Z"
      },
      {
        "duration": 0,
        "start_time": "2023-06-18T13:12:27.911Z"
      },
      {
        "duration": 0,
        "start_time": "2023-06-18T13:12:27.913Z"
      },
      {
        "duration": 0,
        "start_time": "2023-06-18T13:12:27.914Z"
      },
      {
        "duration": 0,
        "start_time": "2023-06-18T13:12:27.915Z"
      },
      {
        "duration": 0,
        "start_time": "2023-06-18T13:12:27.917Z"
      },
      {
        "duration": 0,
        "start_time": "2023-06-18T13:12:27.918Z"
      },
      {
        "duration": 0,
        "start_time": "2023-06-18T13:12:27.919Z"
      },
      {
        "duration": 0,
        "start_time": "2023-06-18T13:12:27.920Z"
      },
      {
        "duration": 1186,
        "start_time": "2023-06-18T13:13:35.812Z"
      },
      {
        "duration": 4731,
        "start_time": "2023-06-18T13:13:37.000Z"
      },
      {
        "duration": 50,
        "start_time": "2023-06-18T13:13:41.733Z"
      },
      {
        "duration": 241,
        "start_time": "2023-06-18T13:13:41.787Z"
      },
      {
        "duration": 49,
        "start_time": "2023-06-18T13:13:42.030Z"
      },
      {
        "duration": 1990,
        "start_time": "2023-06-18T13:13:42.084Z"
      },
      {
        "duration": 1259,
        "start_time": "2023-06-18T13:13:44.076Z"
      },
      {
        "duration": 111,
        "start_time": "2023-06-18T13:13:45.336Z"
      },
      {
        "duration": 0,
        "start_time": "2023-06-18T13:13:45.448Z"
      },
      {
        "duration": 2,
        "start_time": "2023-06-18T13:16:22.627Z"
      },
      {
        "duration": 9,
        "start_time": "2023-06-18T15:04:01.399Z"
      },
      {
        "duration": 1543,
        "start_time": "2023-06-18T15:04:12.445Z"
      },
      {
        "duration": 2768,
        "start_time": "2023-06-18T15:04:13.991Z"
      },
      {
        "duration": 39,
        "start_time": "2023-06-18T15:04:16.761Z"
      },
      {
        "duration": 311,
        "start_time": "2023-06-18T15:04:16.803Z"
      },
      {
        "duration": 44,
        "start_time": "2023-06-18T15:04:17.116Z"
      },
      {
        "duration": 2039,
        "start_time": "2023-06-18T15:04:17.162Z"
      },
      {
        "duration": 1260,
        "start_time": "2023-06-18T15:04:19.203Z"
      },
      {
        "duration": 3,
        "start_time": "2023-06-18T15:04:20.465Z"
      },
      {
        "duration": 156,
        "start_time": "2023-06-18T15:04:20.470Z"
      },
      {
        "duration": 1432,
        "start_time": "2023-06-18T15:05:42.251Z"
      },
      {
        "duration": 947,
        "start_time": "2023-06-18T15:05:43.686Z"
      },
      {
        "duration": 35,
        "start_time": "2023-06-18T15:05:44.635Z"
      },
      {
        "duration": 283,
        "start_time": "2023-06-18T15:05:44.674Z"
      },
      {
        "duration": 45,
        "start_time": "2023-06-18T15:05:44.960Z"
      },
      {
        "duration": 2004,
        "start_time": "2023-06-18T15:05:45.007Z"
      },
      {
        "duration": 1094,
        "start_time": "2023-06-18T15:05:47.013Z"
      },
      {
        "duration": 3,
        "start_time": "2023-06-18T15:05:48.109Z"
      },
      {
        "duration": 432,
        "start_time": "2023-06-18T15:05:48.114Z"
      },
      {
        "duration": 15,
        "start_time": "2023-06-18T15:07:12.024Z"
      },
      {
        "duration": 1588,
        "start_time": "2023-06-18T15:07:45.292Z"
      },
      {
        "duration": 941,
        "start_time": "2023-06-18T15:07:46.883Z"
      },
      {
        "duration": 41,
        "start_time": "2023-06-18T15:07:47.827Z"
      },
      {
        "duration": 285,
        "start_time": "2023-06-18T15:07:47.870Z"
      },
      {
        "duration": 40,
        "start_time": "2023-06-18T15:07:48.158Z"
      },
      {
        "duration": 2103,
        "start_time": "2023-06-18T15:07:48.200Z"
      },
      {
        "duration": 1109,
        "start_time": "2023-06-18T15:07:50.306Z"
      },
      {
        "duration": 3,
        "start_time": "2023-06-18T15:07:51.418Z"
      },
      {
        "duration": 171,
        "start_time": "2023-06-18T15:07:51.424Z"
      },
      {
        "duration": 47,
        "start_time": "2023-06-18T22:50:50.553Z"
      },
      {
        "duration": 1318,
        "start_time": "2023-06-18T22:50:56.703Z"
      },
      {
        "duration": 2580,
        "start_time": "2023-06-18T22:50:58.023Z"
      },
      {
        "duration": 26,
        "start_time": "2023-06-18T22:51:00.605Z"
      },
      {
        "duration": 314,
        "start_time": "2023-06-18T22:51:00.633Z"
      },
      {
        "duration": 30,
        "start_time": "2023-06-18T22:51:00.950Z"
      },
      {
        "duration": 2022,
        "start_time": "2023-06-18T22:51:00.982Z"
      },
      {
        "duration": 938,
        "start_time": "2023-06-18T22:51:03.006Z"
      },
      {
        "duration": 3,
        "start_time": "2023-06-18T22:51:03.946Z"
      },
      {
        "duration": 266,
        "start_time": "2023-06-18T22:51:03.951Z"
      },
      {
        "duration": 10,
        "start_time": "2023-06-18T22:51:04.219Z"
      },
      {
        "duration": 1655,
        "start_time": "2023-06-19T07:25:26.691Z"
      },
      {
        "duration": 3260,
        "start_time": "2023-06-19T07:25:28.348Z"
      },
      {
        "duration": 30,
        "start_time": "2023-06-19T07:25:31.609Z"
      },
      {
        "duration": 255,
        "start_time": "2023-06-19T07:25:31.641Z"
      },
      {
        "duration": 33,
        "start_time": "2023-06-19T07:25:31.898Z"
      },
      {
        "duration": 1852,
        "start_time": "2023-06-19T07:25:31.933Z"
      },
      {
        "duration": 1061,
        "start_time": "2023-06-19T07:25:33.787Z"
      },
      {
        "duration": 2,
        "start_time": "2023-06-19T07:25:34.850Z"
      },
      {
        "duration": 224,
        "start_time": "2023-06-19T07:25:34.853Z"
      },
      {
        "duration": 13,
        "start_time": "2023-06-19T07:25:35.080Z"
      },
      {
        "duration": 1073,
        "start_time": "2023-06-19T07:26:20.237Z"
      },
      {
        "duration": 22,
        "start_time": "2023-06-19T07:26:28.380Z"
      },
      {
        "duration": 35,
        "start_time": "2023-06-19T07:26:45.972Z"
      },
      {
        "duration": 3,
        "start_time": "2023-06-19T09:09:42.208Z"
      },
      {
        "duration": 53,
        "start_time": "2023-06-19T09:13:24.899Z"
      },
      {
        "duration": 15,
        "start_time": "2023-06-19T09:18:00.408Z"
      },
      {
        "duration": 1388,
        "start_time": "2023-06-19T09:18:12.492Z"
      },
      {
        "duration": 958,
        "start_time": "2023-06-19T09:18:13.882Z"
      },
      {
        "duration": 37,
        "start_time": "2023-06-19T09:18:14.841Z"
      },
      {
        "duration": 250,
        "start_time": "2023-06-19T09:18:14.880Z"
      },
      {
        "duration": 41,
        "start_time": "2023-06-19T09:18:15.132Z"
      },
      {
        "duration": 1900,
        "start_time": "2023-06-19T09:18:15.177Z"
      },
      {
        "duration": 862,
        "start_time": "2023-06-19T09:18:17.079Z"
      },
      {
        "duration": 2,
        "start_time": "2023-06-19T09:18:17.942Z"
      },
      {
        "duration": 243,
        "start_time": "2023-06-19T09:18:17.946Z"
      },
      {
        "duration": 128,
        "start_time": "2023-06-19T09:18:18.191Z"
      },
      {
        "duration": 0,
        "start_time": "2023-06-19T09:18:18.321Z"
      },
      {
        "duration": 3,
        "start_time": "2023-06-19T09:21:21.774Z"
      },
      {
        "duration": 4,
        "start_time": "2023-06-19T09:29:19.090Z"
      },
      {
        "duration": 1256,
        "start_time": "2023-06-19T09:29:28.366Z"
      },
      {
        "duration": 808,
        "start_time": "2023-06-19T09:29:29.624Z"
      },
      {
        "duration": 39,
        "start_time": "2023-06-19T09:29:30.433Z"
      },
      {
        "duration": 272,
        "start_time": "2023-06-19T09:29:30.474Z"
      },
      {
        "duration": 34,
        "start_time": "2023-06-19T09:29:30.747Z"
      },
      {
        "duration": 1848,
        "start_time": "2023-06-19T09:29:30.783Z"
      },
      {
        "duration": 685,
        "start_time": "2023-06-19T09:29:32.633Z"
      },
      {
        "duration": 2,
        "start_time": "2023-06-19T09:29:33.320Z"
      },
      {
        "duration": 193,
        "start_time": "2023-06-19T09:29:33.324Z"
      },
      {
        "duration": 4,
        "start_time": "2023-06-19T09:29:33.519Z"
      },
      {
        "duration": 6,
        "start_time": "2023-06-19T09:32:08.671Z"
      },
      {
        "duration": 18,
        "start_time": "2023-06-19T09:32:24.082Z"
      },
      {
        "duration": 129,
        "start_time": "2023-06-19T09:32:54.382Z"
      },
      {
        "duration": 6,
        "start_time": "2023-06-19T09:34:46.143Z"
      },
      {
        "duration": 16,
        "start_time": "2023-06-19T09:34:49.102Z"
      },
      {
        "duration": 14,
        "start_time": "2023-06-19T09:37:27.095Z"
      },
      {
        "duration": 4,
        "start_time": "2023-06-19T09:37:40.614Z"
      },
      {
        "duration": 23,
        "start_time": "2023-06-19T09:37:47.359Z"
      },
      {
        "duration": 20,
        "start_time": "2023-06-19T09:38:54.104Z"
      },
      {
        "duration": 1626,
        "start_time": "2023-06-19T09:40:16.629Z"
      },
      {
        "duration": 1070,
        "start_time": "2023-06-19T09:40:18.257Z"
      },
      {
        "duration": 40,
        "start_time": "2023-06-19T09:40:19.329Z"
      },
      {
        "duration": 275,
        "start_time": "2023-06-19T09:40:19.377Z"
      },
      {
        "duration": 68,
        "start_time": "2023-06-19T09:40:19.654Z"
      },
      {
        "duration": 2145,
        "start_time": "2023-06-19T09:40:19.723Z"
      },
      {
        "duration": 976,
        "start_time": "2023-06-19T09:40:21.870Z"
      },
      {
        "duration": 1598,
        "start_time": "2023-06-19T09:41:39.279Z"
      },
      {
        "duration": 1056,
        "start_time": "2023-06-19T09:41:40.880Z"
      },
      {
        "duration": 43,
        "start_time": "2023-06-19T09:41:41.938Z"
      },
      {
        "duration": 255,
        "start_time": "2023-06-19T09:41:41.983Z"
      },
      {
        "duration": 40,
        "start_time": "2023-06-19T09:41:42.240Z"
      },
      {
        "duration": 2026,
        "start_time": "2023-06-19T09:41:42.282Z"
      },
      {
        "duration": 882,
        "start_time": "2023-06-19T09:41:44.311Z"
      },
      {
        "duration": 1493,
        "start_time": "2023-06-19T09:42:01.224Z"
      },
      {
        "duration": 953,
        "start_time": "2023-06-19T09:42:02.719Z"
      },
      {
        "duration": 36,
        "start_time": "2023-06-19T09:42:03.681Z"
      },
      {
        "duration": 517,
        "start_time": "2023-06-19T09:42:03.719Z"
      },
      {
        "duration": 39,
        "start_time": "2023-06-19T09:42:04.239Z"
      },
      {
        "duration": 1958,
        "start_time": "2023-06-19T09:42:04.281Z"
      },
      {
        "duration": 831,
        "start_time": "2023-06-19T09:42:06.241Z"
      },
      {
        "duration": 25,
        "start_time": "2023-06-19T09:42:07.075Z"
      },
      {
        "duration": 2,
        "start_time": "2023-06-19T09:42:07.102Z"
      },
      {
        "duration": 198,
        "start_time": "2023-06-19T09:42:07.106Z"
      },
      {
        "duration": 3,
        "start_time": "2023-06-19T09:42:07.306Z"
      },
      {
        "duration": 1696,
        "start_time": "2023-06-19T09:42:44.997Z"
      },
      {
        "duration": 1083,
        "start_time": "2023-06-19T09:42:46.698Z"
      },
      {
        "duration": 32,
        "start_time": "2023-06-19T09:42:47.782Z"
      },
      {
        "duration": 309,
        "start_time": "2023-06-19T09:42:47.816Z"
      },
      {
        "duration": 40,
        "start_time": "2023-06-19T09:42:48.128Z"
      },
      {
        "duration": 2096,
        "start_time": "2023-06-19T09:42:48.174Z"
      },
      {
        "duration": 902,
        "start_time": "2023-06-19T09:42:50.272Z"
      },
      {
        "duration": 22,
        "start_time": "2023-06-19T09:42:51.176Z"
      },
      {
        "duration": 5,
        "start_time": "2023-06-19T09:42:51.201Z"
      },
      {
        "duration": 304,
        "start_time": "2023-06-19T09:42:51.208Z"
      },
      {
        "duration": 5,
        "start_time": "2023-06-19T09:42:51.514Z"
      },
      {
        "duration": 144,
        "start_time": "2023-06-19T09:43:50.652Z"
      },
      {
        "duration": 1896,
        "start_time": "2023-06-19T09:44:10.452Z"
      },
      {
        "duration": 4386,
        "start_time": "2023-06-19T09:44:12.350Z"
      },
      {
        "duration": 40,
        "start_time": "2023-06-19T09:44:16.741Z"
      },
      {
        "duration": 248,
        "start_time": "2023-06-19T09:44:16.791Z"
      },
      {
        "duration": 39,
        "start_time": "2023-06-19T09:44:17.040Z"
      },
      {
        "duration": 1991,
        "start_time": "2023-06-19T09:44:17.092Z"
      },
      {
        "duration": 920,
        "start_time": "2023-06-19T09:44:19.091Z"
      },
      {
        "duration": 1869,
        "start_time": "2023-06-19T09:44:38.719Z"
      },
      {
        "duration": 4325,
        "start_time": "2023-06-19T09:44:40.593Z"
      },
      {
        "duration": 28,
        "start_time": "2023-06-19T09:44:44.919Z"
      },
      {
        "duration": 283,
        "start_time": "2023-06-19T09:44:44.950Z"
      },
      {
        "duration": 47,
        "start_time": "2023-06-19T09:44:45.234Z"
      },
      {
        "duration": 2081,
        "start_time": "2023-06-19T09:44:45.283Z"
      },
      {
        "duration": 1039,
        "start_time": "2023-06-19T09:44:47.366Z"
      },
      {
        "duration": 1798,
        "start_time": "2023-06-19T09:45:08.043Z"
      },
      {
        "duration": 4683,
        "start_time": "2023-06-19T09:45:09.843Z"
      },
      {
        "duration": 38,
        "start_time": "2023-06-19T09:45:14.528Z"
      },
      {
        "duration": 276,
        "start_time": "2023-06-19T09:45:14.576Z"
      },
      {
        "duration": 42,
        "start_time": "2023-06-19T09:45:14.857Z"
      },
      {
        "duration": 2035,
        "start_time": "2023-06-19T09:45:14.901Z"
      },
      {
        "duration": 907,
        "start_time": "2023-06-19T09:45:16.938Z"
      },
      {
        "duration": 2031,
        "start_time": "2023-06-19T09:45:30.648Z"
      },
      {
        "duration": 4605,
        "start_time": "2023-06-19T09:45:32.682Z"
      },
      {
        "duration": 30,
        "start_time": "2023-06-19T09:45:37.293Z"
      },
      {
        "duration": 267,
        "start_time": "2023-06-19T09:45:37.325Z"
      },
      {
        "duration": 35,
        "start_time": "2023-06-19T09:45:37.595Z"
      },
      {
        "duration": 1946,
        "start_time": "2023-06-19T09:45:37.632Z"
      },
      {
        "duration": 960,
        "start_time": "2023-06-19T09:45:39.584Z"
      },
      {
        "duration": 3,
        "start_time": "2023-06-19T09:45:40.546Z"
      },
      {
        "duration": 38,
        "start_time": "2023-06-19T09:45:40.550Z"
      },
      {
        "duration": 45,
        "start_time": "2023-06-19T09:45:40.594Z"
      },
      {
        "duration": 213,
        "start_time": "2023-06-19T09:45:40.641Z"
      },
      {
        "duration": 8,
        "start_time": "2023-06-19T09:45:40.856Z"
      },
      {
        "duration": 1575,
        "start_time": "2023-06-19T09:45:51.398Z"
      },
      {
        "duration": 1113,
        "start_time": "2023-06-19T09:45:52.976Z"
      },
      {
        "duration": 34,
        "start_time": "2023-06-19T09:45:54.091Z"
      },
      {
        "duration": 305,
        "start_time": "2023-06-19T09:45:54.127Z"
      },
      {
        "duration": 43,
        "start_time": "2023-06-19T09:45:54.436Z"
      },
      {
        "duration": 2020,
        "start_time": "2023-06-19T09:45:54.481Z"
      },
      {
        "duration": 879,
        "start_time": "2023-06-19T09:45:56.504Z"
      },
      {
        "duration": 46,
        "start_time": "2023-06-19T09:46:23.007Z"
      },
      {
        "duration": 1818,
        "start_time": "2023-06-19T09:46:40.616Z"
      },
      {
        "duration": 4378,
        "start_time": "2023-06-19T09:46:42.436Z"
      },
      {
        "duration": 30,
        "start_time": "2023-06-19T09:46:46.816Z"
      },
      {
        "duration": 285,
        "start_time": "2023-06-19T09:46:46.848Z"
      },
      {
        "duration": 54,
        "start_time": "2023-06-19T09:46:47.135Z"
      },
      {
        "duration": 2104,
        "start_time": "2023-06-19T09:46:47.191Z"
      },
      {
        "duration": 920,
        "start_time": "2023-06-19T09:46:49.297Z"
      },
      {
        "duration": 7,
        "start_time": "2023-06-19T09:46:50.219Z"
      },
      {
        "duration": 66,
        "start_time": "2023-06-19T09:46:50.228Z"
      },
      {
        "duration": 3,
        "start_time": "2023-06-19T09:46:50.297Z"
      },
      {
        "duration": 206,
        "start_time": "2023-06-19T09:46:50.301Z"
      },
      {
        "duration": 4,
        "start_time": "2023-06-19T09:46:50.509Z"
      },
      {
        "duration": 168,
        "start_time": "2023-06-19T09:47:14.142Z"
      },
      {
        "duration": 6,
        "start_time": "2023-06-19T09:47:22.995Z"
      },
      {
        "duration": 26,
        "start_time": "2023-06-19T09:47:23.880Z"
      },
      {
        "duration": 5,
        "start_time": "2023-06-19T09:47:29.103Z"
      },
      {
        "duration": 13,
        "start_time": "2023-06-19T09:47:29.618Z"
      },
      {
        "duration": 108495,
        "start_time": "2023-06-19T09:48:55.233Z"
      },
      {
        "duration": 13,
        "start_time": "2023-06-19T09:50:43.730Z"
      },
      {
        "duration": 54,
        "start_time": "2023-06-19T09:59:13.242Z"
      },
      {
        "duration": 799,
        "start_time": "2023-06-19T09:59:14.368Z"
      },
      {
        "duration": 1596,
        "start_time": "2023-06-19T09:59:33.854Z"
      },
      {
        "duration": 985,
        "start_time": "2023-06-19T09:59:35.452Z"
      },
      {
        "duration": 46,
        "start_time": "2023-06-19T09:59:36.439Z"
      },
      {
        "duration": 249,
        "start_time": "2023-06-19T09:59:36.489Z"
      },
      {
        "duration": 34,
        "start_time": "2023-06-19T09:59:36.740Z"
      },
      {
        "duration": 70,
        "start_time": "2023-06-19T09:59:36.776Z"
      },
      {
        "duration": 818,
        "start_time": "2023-06-19T09:59:36.847Z"
      },
      {
        "duration": 1501,
        "start_time": "2023-06-19T10:00:21.997Z"
      },
      {
        "duration": 996,
        "start_time": "2023-06-19T10:00:23.500Z"
      },
      {
        "duration": 29,
        "start_time": "2023-06-19T10:00:24.499Z"
      },
      {
        "duration": 278,
        "start_time": "2023-06-19T10:00:24.530Z"
      },
      {
        "duration": 34,
        "start_time": "2023-06-19T10:00:24.811Z"
      },
      {
        "duration": 51,
        "start_time": "2023-06-19T10:00:24.858Z"
      },
      {
        "duration": 772,
        "start_time": "2023-06-19T10:00:24.910Z"
      },
      {
        "duration": 143,
        "start_time": "2023-06-19T10:00:25.684Z"
      },
      {
        "duration": 0,
        "start_time": "2023-06-19T10:00:25.829Z"
      },
      {
        "duration": 0,
        "start_time": "2023-06-19T10:00:25.831Z"
      },
      {
        "duration": 0,
        "start_time": "2023-06-19T10:00:25.833Z"
      },
      {
        "duration": 0,
        "start_time": "2023-06-19T10:00:25.835Z"
      },
      {
        "duration": 1714,
        "start_time": "2023-06-19T10:01:23.536Z"
      },
      {
        "duration": 1088,
        "start_time": "2023-06-19T10:01:25.252Z"
      },
      {
        "duration": 33,
        "start_time": "2023-06-19T10:01:26.342Z"
      },
      {
        "duration": 272,
        "start_time": "2023-06-19T10:01:26.376Z"
      },
      {
        "duration": 56,
        "start_time": "2023-06-19T10:01:26.651Z"
      },
      {
        "duration": 34,
        "start_time": "2023-06-19T10:01:26.708Z"
      },
      {
        "duration": 813,
        "start_time": "2023-06-19T10:01:26.744Z"
      },
      {
        "duration": 104189,
        "start_time": "2023-06-19T10:01:27.559Z"
      },
      {
        "duration": 27,
        "start_time": "2023-06-19T10:03:11.750Z"
      },
      {
        "duration": 4,
        "start_time": "2023-06-19T10:03:11.784Z"
      },
      {
        "duration": 215,
        "start_time": "2023-06-19T10:03:11.793Z"
      },
      {
        "duration": 26,
        "start_time": "2023-06-19T10:03:12.010Z"
      },
      {
        "duration": 96182,
        "start_time": "2023-06-19T10:06:51.500Z"
      },
      {
        "duration": 15,
        "start_time": "2023-06-19T10:08:27.685Z"
      },
      {
        "duration": 1536,
        "start_time": "2023-06-19T10:10:13.004Z"
      },
      {
        "duration": 971,
        "start_time": "2023-06-19T10:10:14.543Z"
      },
      {
        "duration": 51,
        "start_time": "2023-06-19T10:10:15.515Z"
      },
      {
        "duration": 261,
        "start_time": "2023-06-19T10:10:15.567Z"
      },
      {
        "duration": 45,
        "start_time": "2023-06-19T10:10:15.830Z"
      },
      {
        "duration": 193974,
        "start_time": "2023-06-19T10:10:15.877Z"
      },
      {
        "duration": 8,
        "start_time": "2023-06-19T10:13:29.853Z"
      },
      {
        "duration": 46,
        "start_time": "2023-06-19T10:13:29.863Z"
      },
      {
        "duration": 3,
        "start_time": "2023-06-19T10:13:29.910Z"
      },
      {
        "duration": 284,
        "start_time": "2023-06-19T10:13:29.914Z"
      },
      {
        "duration": 29,
        "start_time": "2023-06-19T10:13:30.201Z"
      },
      {
        "duration": 1419,
        "start_time": "2023-06-19T10:15:36.968Z"
      },
      {
        "duration": 1257,
        "start_time": "2023-06-19T10:15:53.132Z"
      },
      {
        "duration": 16,
        "start_time": "2023-06-19T10:16:14.035Z"
      },
      {
        "duration": 13,
        "start_time": "2023-06-19T10:16:21.733Z"
      },
      {
        "duration": 1418,
        "start_time": "2023-06-19T10:17:10.393Z"
      },
      {
        "duration": 959,
        "start_time": "2023-06-19T10:17:11.814Z"
      },
      {
        "duration": 35,
        "start_time": "2023-06-19T10:17:12.775Z"
      },
      {
        "duration": 258,
        "start_time": "2023-06-19T10:17:12.812Z"
      },
      {
        "duration": 34,
        "start_time": "2023-06-19T10:17:13.075Z"
      },
      {
        "duration": 116787,
        "start_time": "2023-06-19T10:17:13.111Z"
      },
      {
        "duration": 6,
        "start_time": "2023-06-19T10:19:09.907Z"
      },
      {
        "duration": 35,
        "start_time": "2023-06-19T10:19:09.915Z"
      },
      {
        "duration": 17,
        "start_time": "2023-06-19T10:19:09.953Z"
      },
      {
        "duration": 279,
        "start_time": "2023-06-19T10:19:09.976Z"
      },
      {
        "duration": 38,
        "start_time": "2023-06-19T10:19:10.267Z"
      },
      {
        "duration": 1520,
        "start_time": "2023-06-19T10:20:22.499Z"
      },
      {
        "duration": 990,
        "start_time": "2023-06-19T10:20:24.021Z"
      },
      {
        "duration": 30,
        "start_time": "2023-06-19T10:20:25.012Z"
      },
      {
        "duration": 273,
        "start_time": "2023-06-19T10:20:25.045Z"
      },
      {
        "duration": 49,
        "start_time": "2023-06-19T10:20:25.320Z"
      },
      {
        "duration": 105160,
        "start_time": "2023-06-19T10:20:25.376Z"
      },
      {
        "duration": 5,
        "start_time": "2023-06-19T10:22:10.538Z"
      },
      {
        "duration": 35,
        "start_time": "2023-06-19T10:22:10.544Z"
      },
      {
        "duration": 3,
        "start_time": "2023-06-19T10:22:10.585Z"
      },
      {
        "duration": 253,
        "start_time": "2023-06-19T10:22:10.590Z"
      },
      {
        "duration": 78,
        "start_time": "2023-06-19T10:22:10.845Z"
      },
      {
        "duration": 1424,
        "start_time": "2023-06-19T10:35:56.795Z"
      },
      {
        "duration": 966,
        "start_time": "2023-06-19T10:35:58.222Z"
      },
      {
        "duration": 30,
        "start_time": "2023-06-19T10:35:59.190Z"
      },
      {
        "duration": 273,
        "start_time": "2023-06-19T10:35:59.222Z"
      },
      {
        "duration": 33,
        "start_time": "2023-06-19T10:35:59.497Z"
      },
      {
        "duration": 51,
        "start_time": "2023-06-19T10:35:59.531Z"
      },
      {
        "duration": 766,
        "start_time": "2023-06-19T10:35:59.584Z"
      },
      {
        "duration": 136,
        "start_time": "2023-06-19T10:36:00.352Z"
      },
      {
        "duration": 0,
        "start_time": "2023-06-19T10:36:00.489Z"
      },
      {
        "duration": 0,
        "start_time": "2023-06-19T10:36:00.491Z"
      },
      {
        "duration": 0,
        "start_time": "2023-06-19T10:36:00.492Z"
      },
      {
        "duration": 0,
        "start_time": "2023-06-19T10:36:00.493Z"
      },
      {
        "duration": 0,
        "start_time": "2023-06-19T10:36:00.494Z"
      },
      {
        "duration": 1408,
        "start_time": "2023-06-19T10:36:27.032Z"
      },
      {
        "duration": 964,
        "start_time": "2023-06-19T10:36:28.442Z"
      },
      {
        "duration": 29,
        "start_time": "2023-06-19T10:36:29.407Z"
      },
      {
        "duration": 271,
        "start_time": "2023-06-19T10:36:29.438Z"
      },
      {
        "duration": 34,
        "start_time": "2023-06-19T10:36:29.710Z"
      },
      {
        "duration": 53,
        "start_time": "2023-06-19T10:36:29.746Z"
      },
      {
        "duration": 821,
        "start_time": "2023-06-19T10:36:29.801Z"
      },
      {
        "duration": 85291,
        "start_time": "2023-06-19T10:36:30.624Z"
      },
      {
        "duration": 19,
        "start_time": "2023-06-19T10:37:55.917Z"
      },
      {
        "duration": 31,
        "start_time": "2023-06-19T10:37:55.939Z"
      },
      {
        "duration": 182,
        "start_time": "2023-06-19T10:37:55.972Z"
      },
      {
        "duration": 1861,
        "start_time": "2023-06-19T10:37:56.155Z"
      },
      {
        "duration": 0,
        "start_time": "2023-06-19T10:37:58.018Z"
      },
      {
        "duration": 75,
        "start_time": "2023-06-19T10:39:28.154Z"
      },
      {
        "duration": 8124,
        "start_time": "2023-06-19T10:44:51.936Z"
      },
      {
        "duration": 7,
        "start_time": "2023-06-19T10:45:00.062Z"
      },
      {
        "duration": 3,
        "start_time": "2023-06-19T11:10:56.618Z"
      },
      {
        "duration": 4,
        "start_time": "2023-06-19T11:11:08.819Z"
      },
      {
        "duration": 5,
        "start_time": "2023-06-19T11:11:15.025Z"
      },
      {
        "duration": 4,
        "start_time": "2023-06-19T11:11:17.312Z"
      },
      {
        "duration": 4,
        "start_time": "2023-06-19T11:11:41.908Z"
      },
      {
        "duration": 585,
        "start_time": "2023-06-19T11:32:17.272Z"
      },
      {
        "duration": 1947,
        "start_time": "2023-06-19T11:38:43.841Z"
      },
      {
        "duration": 967,
        "start_time": "2023-06-19T11:38:45.790Z"
      },
      {
        "duration": 33,
        "start_time": "2023-06-19T11:38:46.760Z"
      },
      {
        "duration": 284,
        "start_time": "2023-06-19T11:38:46.795Z"
      },
      {
        "duration": 38,
        "start_time": "2023-06-19T11:38:47.081Z"
      },
      {
        "duration": 53,
        "start_time": "2023-06-19T11:38:47.121Z"
      },
      {
        "duration": 801,
        "start_time": "2023-06-19T11:38:47.177Z"
      },
      {
        "duration": 81453,
        "start_time": "2023-06-19T11:38:47.981Z"
      },
      {
        "duration": 22,
        "start_time": "2023-06-19T11:40:09.435Z"
      },
      {
        "duration": 18,
        "start_time": "2023-06-19T11:40:09.459Z"
      },
      {
        "duration": 258,
        "start_time": "2023-06-19T11:40:09.479Z"
      },
      {
        "duration": 58,
        "start_time": "2023-06-19T11:40:09.739Z"
      },
      {
        "duration": 7218,
        "start_time": "2023-06-19T11:40:09.799Z"
      },
      {
        "duration": 4,
        "start_time": "2023-06-19T11:40:17.020Z"
      },
      {
        "duration": 22,
        "start_time": "2023-06-19T11:40:17.026Z"
      },
      {
        "duration": 24,
        "start_time": "2023-06-19T11:40:17.050Z"
      },
      {
        "duration": 160,
        "start_time": "2023-06-19T11:40:17.076Z"
      },
      {
        "duration": 1804,
        "start_time": "2023-06-19T13:14:25.728Z"
      },
      {
        "duration": 948,
        "start_time": "2023-06-19T13:14:27.534Z"
      },
      {
        "duration": 30,
        "start_time": "2023-06-19T13:14:28.484Z"
      },
      {
        "duration": 274,
        "start_time": "2023-06-19T13:14:28.516Z"
      },
      {
        "duration": 35,
        "start_time": "2023-06-19T13:14:28.793Z"
      },
      {
        "duration": 54,
        "start_time": "2023-06-19T13:14:28.830Z"
      },
      {
        "duration": 937,
        "start_time": "2023-06-19T13:14:28.887Z"
      },
      {
        "duration": 79094,
        "start_time": "2023-06-19T13:14:29.827Z"
      },
      {
        "duration": 16,
        "start_time": "2023-06-19T13:15:48.923Z"
      },
      {
        "duration": 16,
        "start_time": "2023-06-19T13:15:48.941Z"
      },
      {
        "duration": 286,
        "start_time": "2023-06-19T13:15:48.959Z"
      },
      {
        "duration": 63,
        "start_time": "2023-06-19T13:15:49.246Z"
      },
      {
        "duration": 7859,
        "start_time": "2023-06-19T13:15:49.312Z"
      },
      {
        "duration": 8,
        "start_time": "2023-06-19T13:15:57.175Z"
      },
      {
        "duration": 10,
        "start_time": "2023-06-19T13:15:57.185Z"
      },
      {
        "duration": 169,
        "start_time": "2023-06-19T13:15:57.197Z"
      },
      {
        "duration": 1932,
        "start_time": "2023-06-19T13:16:46.634Z"
      },
      {
        "duration": 923,
        "start_time": "2023-06-19T13:16:48.568Z"
      },
      {
        "duration": 32,
        "start_time": "2023-06-19T13:16:49.493Z"
      },
      {
        "duration": 273,
        "start_time": "2023-06-19T13:16:49.527Z"
      },
      {
        "duration": 37,
        "start_time": "2023-06-19T13:16:49.802Z"
      },
      {
        "duration": 41,
        "start_time": "2023-06-19T13:16:49.841Z"
      },
      {
        "duration": 743,
        "start_time": "2023-06-19T13:16:49.885Z"
      },
      {
        "duration": 82265,
        "start_time": "2023-06-19T13:16:50.630Z"
      },
      {
        "duration": 15,
        "start_time": "2023-06-19T13:18:12.897Z"
      },
      {
        "duration": 9,
        "start_time": "2023-06-19T13:18:12.914Z"
      },
      {
        "duration": 264,
        "start_time": "2023-06-19T13:18:12.925Z"
      },
      {
        "duration": 37,
        "start_time": "2023-06-19T13:18:13.190Z"
      },
      {
        "duration": 7866,
        "start_time": "2023-06-19T13:18:13.229Z"
      },
      {
        "duration": 4,
        "start_time": "2023-06-19T13:18:21.097Z"
      },
      {
        "duration": 21,
        "start_time": "2023-06-19T13:18:21.103Z"
      },
      {
        "duration": 127,
        "start_time": "2023-06-19T13:18:21.126Z"
      },
      {
        "duration": 4,
        "start_time": "2023-06-19T13:25:30.141Z"
      },
      {
        "duration": 5,
        "start_time": "2023-06-19T13:26:27.437Z"
      },
      {
        "duration": 4,
        "start_time": "2023-06-19T13:26:42.792Z"
      },
      {
        "duration": 258,
        "start_time": "2023-06-19T13:28:36.838Z"
      },
      {
        "duration": 36,
        "start_time": "2023-06-19T13:30:19.489Z"
      },
      {
        "duration": 54,
        "start_time": "2023-06-19T13:30:59.858Z"
      },
      {
        "duration": 93,
        "start_time": "2023-06-19T13:31:05.625Z"
      },
      {
        "duration": 37,
        "start_time": "2023-06-19T13:32:34.195Z"
      },
      {
        "duration": 53,
        "start_time": "2023-06-19T13:36:07.632Z"
      },
      {
        "duration": 1979,
        "start_time": "2023-06-19T13:36:24.565Z"
      },
      {
        "duration": 926,
        "start_time": "2023-06-19T13:36:26.547Z"
      },
      {
        "duration": 31,
        "start_time": "2023-06-19T13:36:27.475Z"
      },
      {
        "duration": 283,
        "start_time": "2023-06-19T13:36:27.507Z"
      },
      {
        "duration": 38,
        "start_time": "2023-06-19T13:36:27.792Z"
      },
      {
        "duration": 72,
        "start_time": "2023-06-19T13:36:27.832Z"
      },
      {
        "duration": 814,
        "start_time": "2023-06-19T13:36:27.907Z"
      },
      {
        "duration": 86531,
        "start_time": "2023-06-19T13:36:28.724Z"
      },
      {
        "duration": 24,
        "start_time": "2023-06-19T13:37:55.258Z"
      },
      {
        "duration": 3,
        "start_time": "2023-06-19T13:37:55.285Z"
      },
      {
        "duration": 215,
        "start_time": "2023-06-19T13:37:55.296Z"
      },
      {
        "duration": 37,
        "start_time": "2023-06-19T13:37:55.512Z"
      },
      {
        "duration": 7665,
        "start_time": "2023-06-19T13:37:55.551Z"
      },
      {
        "duration": 5,
        "start_time": "2023-06-19T13:38:03.218Z"
      },
      {
        "duration": 6,
        "start_time": "2023-06-19T13:38:03.224Z"
      },
      {
        "duration": 156,
        "start_time": "2023-06-19T13:38:03.231Z"
      },
      {
        "duration": 34,
        "start_time": "2023-06-19T13:38:03.389Z"
      },
      {
        "duration": 49,
        "start_time": "2023-06-19T13:39:09.851Z"
      },
      {
        "duration": 36,
        "start_time": "2023-06-19T13:41:10.308Z"
      },
      {
        "duration": 492,
        "start_time": "2023-06-19T13:42:58.795Z"
      },
      {
        "duration": 75,
        "start_time": "2023-06-19T14:01:40.998Z"
      },
      {
        "duration": 105,
        "start_time": "2023-06-19T14:02:47.503Z"
      },
      {
        "duration": 160,
        "start_time": "2023-06-19T14:05:46.435Z"
      },
      {
        "duration": 96,
        "start_time": "2023-06-19T14:06:39.503Z"
      },
      {
        "duration": 98,
        "start_time": "2023-06-19T14:09:40.436Z"
      },
      {
        "duration": 289,
        "start_time": "2023-06-19T14:14:45.345Z"
      },
      {
        "duration": 1710,
        "start_time": "2023-06-19T14:25:10.483Z"
      },
      {
        "duration": 822,
        "start_time": "2023-06-19T14:25:12.195Z"
      },
      {
        "duration": 27,
        "start_time": "2023-06-19T14:25:13.019Z"
      },
      {
        "duration": 242,
        "start_time": "2023-06-19T14:25:13.047Z"
      },
      {
        "duration": 34,
        "start_time": "2023-06-19T14:25:13.292Z"
      },
      {
        "duration": 44,
        "start_time": "2023-06-19T14:25:13.327Z"
      },
      {
        "duration": 780,
        "start_time": "2023-06-19T14:25:13.373Z"
      },
      {
        "duration": 74334,
        "start_time": "2023-06-19T14:25:14.155Z"
      },
      {
        "duration": 15,
        "start_time": "2023-06-19T14:26:28.491Z"
      },
      {
        "duration": 7,
        "start_time": "2023-06-19T14:26:28.508Z"
      },
      {
        "duration": 230,
        "start_time": "2023-06-19T14:26:28.517Z"
      },
      {
        "duration": 37,
        "start_time": "2023-06-19T14:26:28.748Z"
      },
      {
        "duration": 6808,
        "start_time": "2023-06-19T14:26:28.787Z"
      },
      {
        "duration": 4,
        "start_time": "2023-06-19T14:26:35.598Z"
      },
      {
        "duration": 43,
        "start_time": "2023-06-19T14:26:35.603Z"
      },
      {
        "duration": 133,
        "start_time": "2023-06-19T14:26:35.647Z"
      },
      {
        "duration": 210216,
        "start_time": "2023-06-19T14:26:35.781Z"
      },
      {
        "duration": 208962,
        "start_time": "2023-06-19T14:36:21.915Z"
      },
      {
        "duration": 265690,
        "start_time": "2023-06-19T14:54:52.665Z"
      },
      {
        "duration": 12,
        "start_time": "2023-06-19T15:44:56.345Z"
      },
      {
        "duration": 239671,
        "start_time": "2023-06-19T15:44:59.995Z"
      },
      {
        "duration": 244707,
        "start_time": "2023-06-19T15:55:57.776Z"
      },
      {
        "duration": 143,
        "start_time": "2023-06-19T16:00:02.485Z"
      },
      {
        "duration": 15,
        "start_time": "2023-06-19T16:01:02.799Z"
      },
      {
        "duration": 14,
        "start_time": "2023-06-19T16:01:31.686Z"
      },
      {
        "duration": 1981,
        "start_time": "2023-06-20T14:33:39.034Z"
      },
      {
        "duration": 2503,
        "start_time": "2023-06-20T14:33:41.018Z"
      },
      {
        "duration": 30,
        "start_time": "2023-06-20T14:33:43.523Z"
      },
      {
        "duration": 245,
        "start_time": "2023-06-20T14:33:43.555Z"
      },
      {
        "duration": 40,
        "start_time": "2023-06-20T14:33:43.802Z"
      },
      {
        "duration": 38,
        "start_time": "2023-06-20T14:33:43.857Z"
      },
      {
        "duration": 699,
        "start_time": "2023-06-20T14:33:43.898Z"
      },
      {
        "duration": 75408,
        "start_time": "2023-06-20T14:33:44.599Z"
      },
      {
        "duration": 15,
        "start_time": "2023-06-20T14:35:00.009Z"
      },
      {
        "duration": 42,
        "start_time": "2023-06-20T14:35:00.027Z"
      },
      {
        "duration": 166,
        "start_time": "2023-06-20T14:35:00.071Z"
      },
      {
        "duration": 38,
        "start_time": "2023-06-20T14:35:00.239Z"
      },
      {
        "duration": 7504,
        "start_time": "2023-06-20T14:35:00.279Z"
      },
      {
        "duration": 3,
        "start_time": "2023-06-20T14:35:07.785Z"
      },
      {
        "duration": 20,
        "start_time": "2023-06-20T14:35:07.790Z"
      },
      {
        "duration": 141,
        "start_time": "2023-06-20T14:35:07.811Z"
      },
      {
        "duration": 202329,
        "start_time": "2023-06-20T14:35:07.954Z"
      },
      {
        "duration": 250689,
        "start_time": "2023-06-20T14:38:30.285Z"
      },
      {
        "duration": 232,
        "start_time": "2023-06-20T14:42:40.976Z"
      },
      {
        "duration": 55,
        "start_time": "2023-06-20T15:50:41.671Z"
      },
      {
        "duration": 513452,
        "start_time": "2023-06-20T15:50:52.725Z"
      },
      {
        "duration": 258844,
        "start_time": "2023-06-20T16:03:52.230Z"
      },
      {
        "duration": 600430,
        "start_time": "2023-06-20T16:33:49.546Z"
      },
      {
        "duration": 241,
        "start_time": "2023-06-20T16:43:49.984Z"
      },
      {
        "duration": 5,
        "start_time": "2023-06-20T16:58:51.837Z"
      },
      {
        "duration": 211474,
        "start_time": "2023-06-20T17:02:23.267Z"
      },
      {
        "duration": 2464,
        "start_time": "2023-06-21T09:14:48.938Z"
      },
      {
        "duration": 4904,
        "start_time": "2023-06-21T09:14:51.404Z"
      },
      {
        "duration": 33,
        "start_time": "2023-06-21T09:14:56.309Z"
      },
      {
        "duration": 281,
        "start_time": "2023-06-21T09:14:56.344Z"
      },
      {
        "duration": 37,
        "start_time": "2023-06-21T09:14:56.631Z"
      },
      {
        "duration": 67,
        "start_time": "2023-06-21T09:14:56.670Z"
      },
      {
        "duration": 839,
        "start_time": "2023-06-21T09:14:56.743Z"
      },
      {
        "duration": 106794,
        "start_time": "2023-06-21T09:14:57.584Z"
      },
      {
        "duration": 15,
        "start_time": "2023-06-21T09:16:44.380Z"
      },
      {
        "duration": 3,
        "start_time": "2023-06-21T09:16:44.396Z"
      },
      {
        "duration": 329,
        "start_time": "2023-06-21T09:16:44.400Z"
      },
      {
        "duration": 69,
        "start_time": "2023-06-21T09:16:44.731Z"
      },
      {
        "duration": 9630,
        "start_time": "2023-06-21T09:16:44.802Z"
      },
      {
        "duration": 8,
        "start_time": "2023-06-21T09:16:54.441Z"
      },
      {
        "duration": 18,
        "start_time": "2023-06-21T09:16:54.450Z"
      },
      {
        "duration": 208,
        "start_time": "2023-06-21T09:16:54.470Z"
      },
      {
        "duration": 257254,
        "start_time": "2023-06-21T09:16:54.680Z"
      },
      {
        "duration": 326939,
        "start_time": "2023-06-21T09:21:11.942Z"
      },
      {
        "duration": 306,
        "start_time": "2023-06-21T09:26:38.882Z"
      },
      {
        "duration": 4,
        "start_time": "2023-06-21T09:26:39.189Z"
      },
      {
        "duration": 191867,
        "start_time": "2023-06-21T09:26:39.195Z"
      },
      {
        "duration": 2540,
        "start_time": "2023-06-21T09:54:57.562Z"
      },
      {
        "duration": 1149,
        "start_time": "2023-06-21T09:55:00.104Z"
      },
      {
        "duration": 38,
        "start_time": "2023-06-21T09:55:01.259Z"
      },
      {
        "duration": 362,
        "start_time": "2023-06-21T09:55:01.300Z"
      },
      {
        "duration": 46,
        "start_time": "2023-06-21T09:55:01.666Z"
      },
      {
        "duration": 69,
        "start_time": "2023-06-21T09:55:01.723Z"
      },
      {
        "duration": 1464,
        "start_time": "2023-06-21T09:55:01.794Z"
      },
      {
        "duration": 156145,
        "start_time": "2023-06-21T09:55:03.260Z"
      },
      {
        "duration": 22,
        "start_time": "2023-06-21T09:57:39.407Z"
      },
      {
        "duration": 3,
        "start_time": "2023-06-21T09:57:39.431Z"
      },
      {
        "duration": 450,
        "start_time": "2023-06-21T09:57:39.436Z"
      },
      {
        "duration": 108,
        "start_time": "2023-06-21T09:57:39.888Z"
      },
      {
        "duration": 13325,
        "start_time": "2023-06-21T09:57:39.997Z"
      },
      {
        "duration": 32,
        "start_time": "2023-06-21T09:57:53.337Z"
      },
      {
        "duration": 43,
        "start_time": "2023-06-21T09:57:53.386Z"
      },
      {
        "duration": 473,
        "start_time": "2023-06-21T09:57:53.443Z"
      },
      {
        "duration": 386635,
        "start_time": "2023-06-21T09:57:53.918Z"
      },
      {
        "duration": 432286,
        "start_time": "2023-06-21T10:04:20.566Z"
      },
      {
        "duration": 1365011,
        "start_time": "2023-06-21T10:11:32.854Z"
      },
      {
        "duration": 2468,
        "start_time": "2023-06-21T10:36:18.428Z"
      },
      {
        "duration": 1183,
        "start_time": "2023-06-21T10:36:20.898Z"
      },
      {
        "duration": 43,
        "start_time": "2023-06-21T10:36:22.087Z"
      },
      {
        "duration": 352,
        "start_time": "2023-06-21T10:36:22.136Z"
      },
      {
        "duration": 46,
        "start_time": "2023-06-21T10:36:22.496Z"
      },
      {
        "duration": 47,
        "start_time": "2023-06-21T10:36:22.549Z"
      },
      {
        "duration": 1014,
        "start_time": "2023-06-21T10:36:22.606Z"
      },
      {
        "duration": 132784,
        "start_time": "2023-06-21T10:36:23.623Z"
      },
      {
        "duration": 26,
        "start_time": "2023-06-21T10:38:36.409Z"
      },
      {
        "duration": 3,
        "start_time": "2023-06-21T10:38:36.438Z"
      },
      {
        "duration": 361,
        "start_time": "2023-06-21T10:38:36.443Z"
      },
      {
        "duration": 87,
        "start_time": "2023-06-21T10:38:36.807Z"
      },
      {
        "duration": 11455,
        "start_time": "2023-06-21T10:38:36.896Z"
      },
      {
        "duration": 7,
        "start_time": "2023-06-21T10:38:48.359Z"
      },
      {
        "duration": 37,
        "start_time": "2023-06-21T10:38:48.372Z"
      },
      {
        "duration": 191,
        "start_time": "2023-06-21T10:38:48.414Z"
      },
      {
        "duration": 324541,
        "start_time": "2023-06-21T10:38:48.608Z"
      },
      {
        "duration": 445982,
        "start_time": "2023-06-21T10:44:13.151Z"
      },
      {
        "duration": 5,
        "start_time": "2023-06-21T10:51:39.135Z"
      },
      {
        "duration": 260707,
        "start_time": "2023-06-21T10:51:39.144Z"
      },
      {
        "duration": 1805,
        "start_time": "2023-06-22T06:22:39.384Z"
      },
      {
        "duration": 2295,
        "start_time": "2023-06-22T06:22:41.191Z"
      },
      {
        "duration": 22,
        "start_time": "2023-06-22T06:22:43.487Z"
      },
      {
        "duration": 214,
        "start_time": "2023-06-22T06:22:43.511Z"
      },
      {
        "duration": 32,
        "start_time": "2023-06-22T06:22:43.727Z"
      },
      {
        "duration": 49,
        "start_time": "2023-06-22T06:22:43.761Z"
      },
      {
        "duration": 640,
        "start_time": "2023-06-22T06:22:43.812Z"
      },
      {
        "duration": 60507,
        "start_time": "2023-06-22T06:22:44.454Z"
      },
      {
        "duration": 12,
        "start_time": "2023-06-22T06:23:44.963Z"
      },
      {
        "duration": 2,
        "start_time": "2023-06-22T06:23:44.977Z"
      },
      {
        "duration": 217,
        "start_time": "2023-06-22T06:23:44.980Z"
      },
      {
        "duration": 30,
        "start_time": "2023-06-22T06:23:45.199Z"
      },
      {
        "duration": 6052,
        "start_time": "2023-06-22T06:23:45.230Z"
      },
      {
        "duration": 3,
        "start_time": "2023-06-22T06:23:51.284Z"
      },
      {
        "duration": 15,
        "start_time": "2023-06-22T06:23:51.288Z"
      },
      {
        "duration": 109,
        "start_time": "2023-06-22T06:23:51.304Z"
      },
      {
        "duration": 198884,
        "start_time": "2023-06-22T06:23:51.415Z"
      },
      {
        "duration": 252806,
        "start_time": "2023-06-22T06:27:10.301Z"
      },
      {
        "duration": 4,
        "start_time": "2023-06-22T06:31:23.109Z"
      },
      {
        "duration": 208355,
        "start_time": "2023-06-22T06:31:23.114Z"
      },
      {
        "duration": 1771844,
        "start_time": "2023-06-22T06:38:09.144Z"
      },
      {
        "duration": 4,
        "start_time": "2023-06-22T08:12:29.678Z"
      },
      {
        "duration": 206041,
        "start_time": "2023-06-22T08:14:08.417Z"
      },
      {
        "duration": 253883,
        "start_time": "2023-06-22T08:57:34.717Z"
      },
      {
        "duration": 102,
        "start_time": "2023-06-22T09:01:48.602Z"
      },
      {
        "duration": 346,
        "start_time": "2023-06-22T09:03:30.270Z"
      },
      {
        "duration": 2424,
        "start_time": "2023-06-22T09:26:32.297Z"
      },
      {
        "duration": 2189,
        "start_time": "2023-06-22T09:27:01.393Z"
      },
      {
        "duration": 9,
        "start_time": "2023-06-22T09:35:25.123Z"
      },
      {
        "duration": 9,
        "start_time": "2023-06-22T09:36:03.611Z"
      },
      {
        "duration": 9,
        "start_time": "2023-06-22T09:36:21.460Z"
      },
      {
        "duration": 110,
        "start_time": "2023-06-22T09:36:29.342Z"
      },
      {
        "duration": 88,
        "start_time": "2023-06-22T09:36:44.508Z"
      },
      {
        "duration": 8,
        "start_time": "2023-06-22T09:36:56.700Z"
      },
      {
        "duration": 1742,
        "start_time": "2023-06-22T09:46:05.965Z"
      },
      {
        "duration": 807,
        "start_time": "2023-06-22T09:46:07.710Z"
      },
      {
        "duration": 25,
        "start_time": "2023-06-22T09:46:08.519Z"
      },
      {
        "duration": 225,
        "start_time": "2023-06-22T09:46:08.545Z"
      },
      {
        "duration": 36,
        "start_time": "2023-06-22T09:46:08.773Z"
      },
      {
        "duration": 43,
        "start_time": "2023-06-22T09:46:08.813Z"
      },
      {
        "duration": 665,
        "start_time": "2023-06-22T09:46:08.857Z"
      },
      {
        "duration": 63296,
        "start_time": "2023-06-22T09:46:09.524Z"
      },
      {
        "duration": 16,
        "start_time": "2023-06-22T09:47:12.821Z"
      },
      {
        "duration": 7,
        "start_time": "2023-06-22T09:47:12.838Z"
      },
      {
        "duration": 213,
        "start_time": "2023-06-22T09:47:12.846Z"
      },
      {
        "duration": 30,
        "start_time": "2023-06-22T09:47:13.061Z"
      },
      {
        "duration": 6187,
        "start_time": "2023-06-22T09:47:13.093Z"
      },
      {
        "duration": 4,
        "start_time": "2023-06-22T09:47:19.282Z"
      },
      {
        "duration": 29,
        "start_time": "2023-06-22T09:47:19.287Z"
      },
      {
        "duration": 122,
        "start_time": "2023-06-22T09:47:19.318Z"
      },
      {
        "duration": 198293,
        "start_time": "2023-06-22T09:47:19.441Z"
      },
      {
        "duration": 255973,
        "start_time": "2023-06-22T09:50:37.736Z"
      },
      {
        "duration": 207754,
        "start_time": "2023-06-22T09:54:53.710Z"
      },
      {
        "duration": 962023,
        "start_time": "2023-06-22T09:58:21.465Z"
      },
      {
        "duration": 42,
        "start_time": "2023-06-22T10:14:23.490Z"
      },
      {
        "duration": 2193,
        "start_time": "2023-06-22T10:14:23.534Z"
      },
      {
        "duration": 1698,
        "start_time": "2023-06-22T13:55:18.671Z"
      },
      {
        "duration": 2274,
        "start_time": "2023-06-22T13:55:20.371Z"
      },
      {
        "duration": 20,
        "start_time": "2023-06-22T13:55:22.646Z"
      },
      {
        "duration": 262,
        "start_time": "2023-06-22T13:55:22.667Z"
      },
      {
        "duration": 26,
        "start_time": "2023-06-22T13:55:22.931Z"
      },
      {
        "duration": 27,
        "start_time": "2023-06-22T13:55:22.958Z"
      },
      {
        "duration": 1202,
        "start_time": "2023-06-22T13:55:22.987Z"
      },
      {
        "duration": 4916,
        "start_time": "2023-06-22T13:55:24.190Z"
      },
      {
        "duration": 17,
        "start_time": "2023-06-22T13:55:29.107Z"
      },
      {
        "duration": 7,
        "start_time": "2023-06-22T13:55:29.126Z"
      },
      {
        "duration": 157,
        "start_time": "2023-06-22T13:55:29.135Z"
      },
      {
        "duration": 34,
        "start_time": "2023-06-22T13:55:29.294Z"
      },
      {
        "duration": 6250,
        "start_time": "2023-06-22T13:55:29.330Z"
      },
      {
        "duration": 4,
        "start_time": "2023-06-22T13:55:35.583Z"
      },
      {
        "duration": 29,
        "start_time": "2023-06-22T13:55:35.588Z"
      },
      {
        "duration": 128,
        "start_time": "2023-06-22T13:55:35.619Z"
      },
      {
        "duration": 204648,
        "start_time": "2023-06-22T13:55:35.748Z"
      },
      {
        "duration": 269587,
        "start_time": "2023-06-22T13:59:00.400Z"
      },
      {
        "duration": 158653,
        "start_time": "2023-06-22T14:03:29.988Z"
      },
      {
        "duration": 2458,
        "start_time": "2023-06-23T10:20:01.333Z"
      },
      {
        "duration": 2647,
        "start_time": "2023-06-23T10:20:03.794Z"
      },
      {
        "duration": 31,
        "start_time": "2023-06-23T10:20:06.442Z"
      },
      {
        "duration": 266,
        "start_time": "2023-06-23T10:20:06.475Z"
      },
      {
        "duration": 43,
        "start_time": "2023-06-23T10:20:06.744Z"
      },
      {
        "duration": 37,
        "start_time": "2023-06-23T10:20:06.806Z"
      },
      {
        "duration": 1463,
        "start_time": "2023-06-23T10:20:06.845Z"
      },
      {
        "duration": 5996,
        "start_time": "2023-06-23T10:20:08.313Z"
      },
      {
        "duration": 22,
        "start_time": "2023-06-23T10:20:14.310Z"
      },
      {
        "duration": 20,
        "start_time": "2023-06-23T10:20:14.335Z"
      },
      {
        "duration": 324,
        "start_time": "2023-06-23T10:20:14.357Z"
      },
      {
        "duration": 45,
        "start_time": "2023-06-23T10:20:14.683Z"
      },
      {
        "duration": 7992,
        "start_time": "2023-06-23T10:20:14.730Z"
      },
      {
        "duration": 4,
        "start_time": "2023-06-23T10:20:22.724Z"
      },
      {
        "duration": 16,
        "start_time": "2023-06-23T10:20:22.730Z"
      },
      {
        "duration": 172,
        "start_time": "2023-06-23T10:20:22.748Z"
      },
      {
        "duration": 236032,
        "start_time": "2023-06-23T10:20:22.922Z"
      },
      {
        "duration": 297338,
        "start_time": "2023-06-23T10:24:18.956Z"
      },
      {
        "duration": 1868,
        "start_time": "2023-06-23T10:43:30.172Z"
      },
      {
        "duration": 889,
        "start_time": "2023-06-23T10:43:32.042Z"
      },
      {
        "duration": 31,
        "start_time": "2023-06-23T10:43:32.933Z"
      },
      {
        "duration": 293,
        "start_time": "2023-06-23T10:43:32.966Z"
      },
      {
        "duration": 57,
        "start_time": "2023-06-23T10:43:33.261Z"
      },
      {
        "duration": 36,
        "start_time": "2023-06-23T10:43:33.320Z"
      },
      {
        "duration": 1463,
        "start_time": "2023-06-23T10:43:33.358Z"
      },
      {
        "duration": 5927,
        "start_time": "2023-06-23T10:43:34.823Z"
      },
      {
        "duration": 19,
        "start_time": "2023-06-23T10:43:40.752Z"
      },
      {
        "duration": 13,
        "start_time": "2023-06-23T10:43:40.774Z"
      },
      {
        "duration": 207,
        "start_time": "2023-06-23T10:43:40.789Z"
      },
      {
        "duration": 41,
        "start_time": "2023-06-23T10:43:40.998Z"
      },
      {
        "duration": 7906,
        "start_time": "2023-06-23T10:43:41.041Z"
      },
      {
        "duration": 5,
        "start_time": "2023-06-23T10:43:48.948Z"
      },
      {
        "duration": 28,
        "start_time": "2023-06-23T10:43:48.954Z"
      },
      {
        "duration": 166,
        "start_time": "2023-06-23T10:43:48.984Z"
      },
      {
        "duration": 92,
        "start_time": "2023-06-23T10:54:00.813Z"
      },
      {
        "duration": 464,
        "start_time": "2023-06-23T10:54:00.912Z"
      },
      {
        "duration": 370,
        "start_time": "2023-06-23T10:55:38.825Z"
      },
      {
        "duration": 645,
        "start_time": "2023-06-23T10:58:58.514Z"
      },
      {
        "duration": 1240,
        "start_time": "2023-06-23T11:00:16.059Z"
      },
      {
        "duration": 690,
        "start_time": "2023-06-23T11:19:19.466Z"
      },
      {
        "duration": 2154,
        "start_time": "2023-06-23T14:05:45.444Z"
      },
      {
        "duration": 2631,
        "start_time": "2023-06-23T14:05:47.600Z"
      },
      {
        "duration": 33,
        "start_time": "2023-06-23T14:05:50.234Z"
      },
      {
        "duration": 276,
        "start_time": "2023-06-23T14:05:50.270Z"
      },
      {
        "duration": 43,
        "start_time": "2023-06-23T14:05:50.548Z"
      },
      {
        "duration": 34,
        "start_time": "2023-06-23T14:05:50.594Z"
      },
      {
        "duration": 1389,
        "start_time": "2023-06-23T14:05:50.654Z"
      },
      {
        "duration": 5775,
        "start_time": "2023-06-23T14:05:52.046Z"
      },
      {
        "duration": 15,
        "start_time": "2023-06-23T14:05:57.823Z"
      },
      {
        "duration": 12,
        "start_time": "2023-06-23T14:05:57.841Z"
      },
      {
        "duration": 169,
        "start_time": "2023-06-23T14:05:57.855Z"
      },
      {
        "duration": 41,
        "start_time": "2023-06-23T14:05:58.027Z"
      },
      {
        "duration": 8076,
        "start_time": "2023-06-23T14:05:58.070Z"
      },
      {
        "duration": 5,
        "start_time": "2023-06-23T14:06:06.148Z"
      },
      {
        "duration": 33,
        "start_time": "2023-06-23T14:06:06.155Z"
      },
      {
        "duration": 145,
        "start_time": "2023-06-23T14:06:06.190Z"
      },
      {
        "duration": 34,
        "start_time": "2023-06-23T14:06:06.337Z"
      },
      {
        "duration": 0,
        "start_time": "2023-06-23T14:06:06.372Z"
      },
      {
        "duration": 7,
        "start_time": "2023-06-23T14:07:05.938Z"
      },
      {
        "duration": 338,
        "start_time": "2023-06-23T14:07:14.437Z"
      },
      {
        "duration": 5,
        "start_time": "2023-06-23T14:08:11.441Z"
      },
      {
        "duration": 196885,
        "start_time": "2023-06-23T14:08:17.210Z"
      },
      {
        "duration": 136,
        "start_time": "2023-06-24T11:19:44.451Z"
      },
      {
        "duration": 1825,
        "start_time": "2023-06-24T11:19:56.121Z"
      },
      {
        "duration": 3280,
        "start_time": "2023-06-24T11:19:57.948Z"
      },
      {
        "duration": 21,
        "start_time": "2023-06-24T11:20:01.230Z"
      },
      {
        "duration": 316,
        "start_time": "2023-06-24T11:20:01.252Z"
      },
      {
        "duration": 28,
        "start_time": "2023-06-24T11:20:01.570Z"
      },
      {
        "duration": 87,
        "start_time": "2023-06-24T11:20:01.606Z"
      },
      {
        "duration": 1350,
        "start_time": "2023-06-24T11:20:01.695Z"
      },
      {
        "duration": 5644,
        "start_time": "2023-06-24T11:20:03.047Z"
      },
      {
        "duration": 22,
        "start_time": "2023-06-24T11:20:08.692Z"
      },
      {
        "duration": 36,
        "start_time": "2023-06-24T11:20:08.716Z"
      },
      {
        "duration": 222,
        "start_time": "2023-06-24T11:20:08.754Z"
      },
      {
        "duration": 30,
        "start_time": "2023-06-24T11:20:08.977Z"
      },
      {
        "duration": 7067,
        "start_time": "2023-06-24T11:20:09.008Z"
      },
      {
        "duration": 5,
        "start_time": "2023-06-24T11:20:16.076Z"
      },
      {
        "duration": 42,
        "start_time": "2023-06-24T11:20:16.083Z"
      },
      {
        "duration": 138,
        "start_time": "2023-06-24T11:20:16.130Z"
      },
      {
        "duration": 290504,
        "start_time": "2023-06-24T11:20:16.270Z"
      },
      {
        "duration": 174734,
        "start_time": "2023-06-24T11:25:06.776Z"
      },
      {
        "duration": 1597,
        "start_time": "2023-06-24T12:28:38.857Z"
      },
      {
        "duration": 839,
        "start_time": "2023-06-24T12:28:40.456Z"
      },
      {
        "duration": 25,
        "start_time": "2023-06-24T12:28:41.303Z"
      },
      {
        "duration": 242,
        "start_time": "2023-06-24T12:28:41.330Z"
      },
      {
        "duration": 32,
        "start_time": "2023-06-24T12:28:41.574Z"
      },
      {
        "duration": 40,
        "start_time": "2023-06-24T12:28:41.611Z"
      },
      {
        "duration": 1184,
        "start_time": "2023-06-24T12:28:41.652Z"
      },
      {
        "duration": 5427,
        "start_time": "2023-06-24T12:28:42.838Z"
      },
      {
        "duration": 13,
        "start_time": "2023-06-24T12:28:48.267Z"
      },
      {
        "duration": 48,
        "start_time": "2023-06-24T12:28:48.282Z"
      },
      {
        "duration": 243,
        "start_time": "2023-06-24T12:28:48.331Z"
      },
      {
        "duration": 33,
        "start_time": "2023-06-24T12:28:48.576Z"
      },
      {
        "duration": 6713,
        "start_time": "2023-06-24T12:28:48.616Z"
      },
      {
        "duration": 4,
        "start_time": "2023-06-24T12:28:55.331Z"
      },
      {
        "duration": 10,
        "start_time": "2023-06-24T12:28:55.336Z"
      },
      {
        "duration": 139,
        "start_time": "2023-06-24T12:28:55.347Z"
      },
      {
        "duration": 274204,
        "start_time": "2023-06-24T12:28:55.488Z"
      },
      {
        "duration": 180289,
        "start_time": "2023-06-24T12:33:29.694Z"
      },
      {
        "duration": 2364919,
        "start_time": "2023-06-24T12:36:29.984Z"
      },
      {
        "duration": 9,
        "start_time": "2023-06-24T13:15:54.905Z"
      },
      {
        "duration": 1785,
        "start_time": "2023-06-24T13:15:54.916Z"
      },
      {
        "duration": 5,
        "start_time": "2023-06-24T13:21:39.216Z"
      },
      {
        "duration": 5,
        "start_time": "2023-06-24T13:22:00.208Z"
      },
      {
        "duration": 3,
        "start_time": "2023-06-24T13:26:09.506Z"
      },
      {
        "duration": 15,
        "start_time": "2023-06-24T13:26:27.531Z"
      },
      {
        "duration": 138,
        "start_time": "2023-06-24T13:27:35.339Z"
      },
      {
        "duration": 16,
        "start_time": "2023-06-24T13:28:15.361Z"
      },
      {
        "duration": 14,
        "start_time": "2023-06-24T13:30:36.165Z"
      },
      {
        "duration": 1952,
        "start_time": "2023-06-25T10:07:36.992Z"
      },
      {
        "duration": 2334,
        "start_time": "2023-06-25T10:07:38.947Z"
      },
      {
        "duration": 27,
        "start_time": "2023-06-25T10:07:41.283Z"
      },
      {
        "duration": 251,
        "start_time": "2023-06-25T10:07:41.312Z"
      },
      {
        "duration": 42,
        "start_time": "2023-06-25T10:07:41.565Z"
      },
      {
        "duration": 126,
        "start_time": "2023-06-25T10:07:41.608Z"
      },
      {
        "duration": 1380,
        "start_time": "2023-06-25T10:07:41.736Z"
      },
      {
        "duration": 5510,
        "start_time": "2023-06-25T10:07:43.118Z"
      },
      {
        "duration": 15,
        "start_time": "2023-06-25T10:07:48.630Z"
      },
      {
        "duration": 7,
        "start_time": "2023-06-25T10:07:48.646Z"
      },
      {
        "duration": 223,
        "start_time": "2023-06-25T10:07:48.655Z"
      },
      {
        "duration": 35,
        "start_time": "2023-06-25T10:07:48.879Z"
      },
      {
        "duration": 7269,
        "start_time": "2023-06-25T10:07:48.916Z"
      },
      {
        "duration": 4,
        "start_time": "2023-06-25T10:07:56.187Z"
      },
      {
        "duration": 16,
        "start_time": "2023-06-25T10:07:56.192Z"
      },
      {
        "duration": 141,
        "start_time": "2023-06-25T10:07:56.210Z"
      },
      {
        "duration": 9,
        "start_time": "2023-06-25T10:07:56.352Z"
      },
      {
        "duration": 158,
        "start_time": "2023-06-25T10:07:56.362Z"
      },
      {
        "duration": 4,
        "start_time": "2023-06-25T10:26:56.799Z"
      },
      {
        "duration": 14,
        "start_time": "2023-06-25T10:40:46.384Z"
      },
      {
        "duration": 332,
        "start_time": "2023-06-25T10:41:39.755Z"
      },
      {
        "duration": 468,
        "start_time": "2023-06-25T10:42:08.699Z"
      },
      {
        "duration": 680,
        "start_time": "2023-06-25T10:42:21.487Z"
      },
      {
        "duration": 1669,
        "start_time": "2023-06-25T10:53:28.062Z"
      },
      {
        "duration": 764,
        "start_time": "2023-06-25T10:53:29.733Z"
      },
      {
        "duration": 39,
        "start_time": "2023-06-25T10:53:30.501Z"
      },
      {
        "duration": 312,
        "start_time": "2023-06-25T10:53:30.542Z"
      },
      {
        "duration": 50,
        "start_time": "2023-06-25T10:53:30.856Z"
      },
      {
        "duration": 697,
        "start_time": "2023-06-25T10:53:30.908Z"
      },
      {
        "duration": 0,
        "start_time": "2023-06-25T10:53:31.606Z"
      },
      {
        "duration": 0,
        "start_time": "2023-06-25T10:53:31.608Z"
      },
      {
        "duration": 0,
        "start_time": "2023-06-25T10:53:31.609Z"
      },
      {
        "duration": 0,
        "start_time": "2023-06-25T10:53:31.610Z"
      },
      {
        "duration": 0,
        "start_time": "2023-06-25T10:53:31.611Z"
      },
      {
        "duration": 0,
        "start_time": "2023-06-25T10:53:31.612Z"
      },
      {
        "duration": 0,
        "start_time": "2023-06-25T10:53:31.613Z"
      },
      {
        "duration": 0,
        "start_time": "2023-06-25T10:53:31.614Z"
      },
      {
        "duration": 0,
        "start_time": "2023-06-25T10:53:31.615Z"
      },
      {
        "duration": 0,
        "start_time": "2023-06-25T10:53:31.615Z"
      },
      {
        "duration": 0,
        "start_time": "2023-06-25T10:53:31.616Z"
      },
      {
        "duration": 371,
        "start_time": "2023-06-25T10:54:06.941Z"
      },
      {
        "duration": 311,
        "start_time": "2023-06-25T10:54:59.376Z"
      },
      {
        "duration": 1341,
        "start_time": "2023-06-25T10:56:40.608Z"
      },
      {
        "duration": 17,
        "start_time": "2023-06-25T10:57:38.121Z"
      },
      {
        "duration": 19,
        "start_time": "2023-06-25T10:57:52.719Z"
      },
      {
        "duration": 11,
        "start_time": "2023-06-25T11:15:59.207Z"
      },
      {
        "duration": 5,
        "start_time": "2023-06-25T11:21:47.957Z"
      },
      {
        "duration": 14,
        "start_time": "2023-06-25T11:22:53.965Z"
      },
      {
        "duration": 9,
        "start_time": "2023-06-25T11:23:06.962Z"
      },
      {
        "duration": 1675,
        "start_time": "2023-06-25T11:25:36.265Z"
      },
      {
        "duration": 1855,
        "start_time": "2023-06-25T11:27:07.069Z"
      },
      {
        "duration": 810,
        "start_time": "2023-06-25T11:27:08.926Z"
      },
      {
        "duration": 30,
        "start_time": "2023-06-25T11:27:09.738Z"
      },
      {
        "duration": 260,
        "start_time": "2023-06-25T11:27:09.771Z"
      },
      {
        "duration": 38,
        "start_time": "2023-06-25T11:27:10.033Z"
      },
      {
        "duration": 257,
        "start_time": "2023-06-25T11:27:10.073Z"
      },
      {
        "duration": 0,
        "start_time": "2023-06-25T11:27:10.331Z"
      },
      {
        "duration": 0,
        "start_time": "2023-06-25T11:27:10.333Z"
      },
      {
        "duration": 0,
        "start_time": "2023-06-25T11:27:10.334Z"
      },
      {
        "duration": 0,
        "start_time": "2023-06-25T11:27:10.336Z"
      },
      {
        "duration": 0,
        "start_time": "2023-06-25T11:27:10.337Z"
      },
      {
        "duration": 0,
        "start_time": "2023-06-25T11:27:10.337Z"
      },
      {
        "duration": 0,
        "start_time": "2023-06-25T11:27:10.339Z"
      },
      {
        "duration": 0,
        "start_time": "2023-06-25T11:27:10.340Z"
      },
      {
        "duration": 0,
        "start_time": "2023-06-25T11:27:10.341Z"
      },
      {
        "duration": 0,
        "start_time": "2023-06-25T11:27:10.342Z"
      },
      {
        "duration": 0,
        "start_time": "2023-06-25T11:27:10.343Z"
      },
      {
        "duration": 0,
        "start_time": "2023-06-25T11:27:10.344Z"
      },
      {
        "duration": 1786,
        "start_time": "2023-06-25T11:49:02.549Z"
      },
      {
        "duration": 838,
        "start_time": "2023-06-25T11:49:04.339Z"
      },
      {
        "duration": 39,
        "start_time": "2023-06-25T11:49:05.179Z"
      },
      {
        "duration": 268,
        "start_time": "2023-06-25T11:49:05.220Z"
      },
      {
        "duration": 44,
        "start_time": "2023-06-25T11:49:05.490Z"
      },
      {
        "duration": 285,
        "start_time": "2023-06-25T11:49:05.536Z"
      },
      {
        "duration": 0,
        "start_time": "2023-06-25T11:49:05.823Z"
      },
      {
        "duration": 0,
        "start_time": "2023-06-25T11:49:05.824Z"
      },
      {
        "duration": 0,
        "start_time": "2023-06-25T11:49:05.825Z"
      },
      {
        "duration": 0,
        "start_time": "2023-06-25T11:49:05.826Z"
      },
      {
        "duration": 0,
        "start_time": "2023-06-25T11:49:05.827Z"
      },
      {
        "duration": 0,
        "start_time": "2023-06-25T11:49:05.828Z"
      },
      {
        "duration": 0,
        "start_time": "2023-06-25T11:49:05.829Z"
      },
      {
        "duration": 0,
        "start_time": "2023-06-25T11:49:05.830Z"
      },
      {
        "duration": 0,
        "start_time": "2023-06-25T11:49:05.831Z"
      },
      {
        "duration": 0,
        "start_time": "2023-06-25T11:49:05.832Z"
      },
      {
        "duration": 0,
        "start_time": "2023-06-25T11:49:05.833Z"
      },
      {
        "duration": 0,
        "start_time": "2023-06-25T11:49:05.834Z"
      },
      {
        "duration": 1415,
        "start_time": "2023-06-25T11:50:11.914Z"
      },
      {
        "duration": 1827,
        "start_time": "2023-06-25T12:02:16.683Z"
      },
      {
        "duration": 831,
        "start_time": "2023-06-25T12:02:18.513Z"
      },
      {
        "duration": 31,
        "start_time": "2023-06-25T12:02:19.346Z"
      },
      {
        "duration": 277,
        "start_time": "2023-06-25T12:02:19.381Z"
      },
      {
        "duration": 60,
        "start_time": "2023-06-25T12:02:19.661Z"
      },
      {
        "duration": 139,
        "start_time": "2023-06-25T12:02:19.724Z"
      },
      {
        "duration": 0,
        "start_time": "2023-06-25T12:02:19.866Z"
      },
      {
        "duration": 0,
        "start_time": "2023-06-25T12:02:19.867Z"
      },
      {
        "duration": 0,
        "start_time": "2023-06-25T12:02:19.869Z"
      },
      {
        "duration": 0,
        "start_time": "2023-06-25T12:02:19.870Z"
      },
      {
        "duration": 0,
        "start_time": "2023-06-25T12:02:19.871Z"
      },
      {
        "duration": 0,
        "start_time": "2023-06-25T12:02:19.872Z"
      },
      {
        "duration": 0,
        "start_time": "2023-06-25T12:02:19.874Z"
      },
      {
        "duration": 0,
        "start_time": "2023-06-25T12:02:19.875Z"
      },
      {
        "duration": 0,
        "start_time": "2023-06-25T12:02:19.877Z"
      },
      {
        "duration": 0,
        "start_time": "2023-06-25T12:02:19.878Z"
      },
      {
        "duration": 0,
        "start_time": "2023-06-25T12:02:19.879Z"
      },
      {
        "duration": 0,
        "start_time": "2023-06-25T12:02:19.902Z"
      },
      {
        "duration": 2144,
        "start_time": "2023-06-25T12:03:47.978Z"
      },
      {
        "duration": 984,
        "start_time": "2023-06-25T12:03:50.124Z"
      },
      {
        "duration": 37,
        "start_time": "2023-06-25T12:03:51.110Z"
      },
      {
        "duration": 391,
        "start_time": "2023-06-25T12:03:51.150Z"
      },
      {
        "duration": 59,
        "start_time": "2023-06-25T12:03:51.543Z"
      },
      {
        "duration": 1823,
        "start_time": "2023-06-25T12:07:09.476Z"
      },
      {
        "duration": 834,
        "start_time": "2023-06-25T12:07:11.302Z"
      },
      {
        "duration": 33,
        "start_time": "2023-06-25T12:07:12.138Z"
      },
      {
        "duration": 286,
        "start_time": "2023-06-25T12:07:12.174Z"
      },
      {
        "duration": 47,
        "start_time": "2023-06-25T12:07:12.462Z"
      },
      {
        "duration": 1766,
        "start_time": "2023-06-25T12:14:54.912Z"
      },
      {
        "duration": 800,
        "start_time": "2023-06-25T12:14:56.680Z"
      },
      {
        "duration": 37,
        "start_time": "2023-06-25T12:14:57.482Z"
      },
      {
        "duration": 268,
        "start_time": "2023-06-25T12:14:57.521Z"
      },
      {
        "duration": 36,
        "start_time": "2023-06-25T12:14:57.792Z"
      },
      {
        "duration": 1916,
        "start_time": "2023-06-25T12:18:19.006Z"
      },
      {
        "duration": 818,
        "start_time": "2023-06-25T12:18:20.923Z"
      },
      {
        "duration": 29,
        "start_time": "2023-06-25T12:18:21.742Z"
      },
      {
        "duration": 271,
        "start_time": "2023-06-25T12:18:21.773Z"
      },
      {
        "duration": 37,
        "start_time": "2023-06-25T12:18:22.046Z"
      },
      {
        "duration": 14,
        "start_time": "2023-06-25T12:18:22.102Z"
      },
      {
        "duration": 163,
        "start_time": "2023-06-25T12:18:22.118Z"
      },
      {
        "duration": 0,
        "start_time": "2023-06-25T12:18:22.283Z"
      },
      {
        "duration": 0,
        "start_time": "2023-06-25T12:18:22.284Z"
      },
      {
        "duration": 0,
        "start_time": "2023-06-25T12:18:22.285Z"
      },
      {
        "duration": 0,
        "start_time": "2023-06-25T12:18:22.287Z"
      },
      {
        "duration": 0,
        "start_time": "2023-06-25T12:18:22.288Z"
      },
      {
        "duration": 0,
        "start_time": "2023-06-25T12:18:22.289Z"
      },
      {
        "duration": 0,
        "start_time": "2023-06-25T12:18:22.290Z"
      },
      {
        "duration": 0,
        "start_time": "2023-06-25T12:18:22.302Z"
      },
      {
        "duration": 0,
        "start_time": "2023-06-25T12:18:22.303Z"
      },
      {
        "duration": 0,
        "start_time": "2023-06-25T12:18:22.304Z"
      },
      {
        "duration": 1787,
        "start_time": "2023-06-25T12:19:38.747Z"
      },
      {
        "duration": 831,
        "start_time": "2023-06-25T12:19:40.536Z"
      },
      {
        "duration": 36,
        "start_time": "2023-06-25T12:19:41.369Z"
      },
      {
        "duration": 260,
        "start_time": "2023-06-25T12:19:41.407Z"
      },
      {
        "duration": 43,
        "start_time": "2023-06-25T12:19:41.669Z"
      },
      {
        "duration": 1815,
        "start_time": "2023-06-25T12:40:19.354Z"
      },
      {
        "duration": 808,
        "start_time": "2023-06-25T12:40:21.171Z"
      },
      {
        "duration": 34,
        "start_time": "2023-06-25T12:40:21.980Z"
      },
      {
        "duration": 259,
        "start_time": "2023-06-25T12:40:22.016Z"
      },
      {
        "duration": 44,
        "start_time": "2023-06-25T12:40:22.277Z"
      },
      {
        "duration": 1816,
        "start_time": "2023-06-25T13:17:26.122Z"
      },
      {
        "duration": 836,
        "start_time": "2023-06-25T13:17:27.939Z"
      },
      {
        "duration": 36,
        "start_time": "2023-06-25T13:17:28.777Z"
      },
      {
        "duration": 276,
        "start_time": "2023-06-25T13:17:28.815Z"
      },
      {
        "duration": 45,
        "start_time": "2023-06-25T13:17:29.094Z"
      },
      {
        "duration": 59,
        "start_time": "2023-06-25T13:17:29.142Z"
      },
      {
        "duration": 21,
        "start_time": "2023-06-25T13:17:29.203Z"
      },
      {
        "duration": 1523,
        "start_time": "2023-06-25T13:17:29.226Z"
      },
      {
        "duration": 5550,
        "start_time": "2023-06-25T13:17:30.751Z"
      },
      {
        "duration": 15,
        "start_time": "2023-06-25T13:17:36.304Z"
      },
      {
        "duration": 4,
        "start_time": "2023-06-25T13:17:36.322Z"
      },
      {
        "duration": 271,
        "start_time": "2023-06-25T13:17:36.328Z"
      },
      {
        "duration": 45,
        "start_time": "2023-06-25T13:17:36.602Z"
      },
      {
        "duration": 7560,
        "start_time": "2023-06-25T13:17:36.649Z"
      },
      {
        "duration": 5,
        "start_time": "2023-06-25T13:17:44.211Z"
      },
      {
        "duration": 26,
        "start_time": "2023-06-25T13:17:44.218Z"
      },
      {
        "duration": 129,
        "start_time": "2023-06-25T13:17:44.246Z"
      },
      {
        "duration": 10,
        "start_time": "2023-06-25T13:17:44.376Z"
      },
      {
        "duration": 161,
        "start_time": "2023-06-25T13:17:44.402Z"
      },
      {
        "duration": 2033,
        "start_time": "2023-06-25T13:26:53.521Z"
      },
      {
        "duration": 906,
        "start_time": "2023-06-25T13:26:55.556Z"
      },
      {
        "duration": 50,
        "start_time": "2023-06-25T13:26:56.464Z"
      },
      {
        "duration": 265,
        "start_time": "2023-06-25T13:26:56.516Z"
      },
      {
        "duration": 53,
        "start_time": "2023-06-25T13:26:56.783Z"
      },
      {
        "duration": 37,
        "start_time": "2023-06-25T13:26:56.839Z"
      },
      {
        "duration": 40,
        "start_time": "2023-06-25T13:26:56.878Z"
      },
      {
        "duration": 1567,
        "start_time": "2023-06-25T13:26:56.934Z"
      },
      {
        "duration": 6318,
        "start_time": "2023-06-25T13:26:58.511Z"
      },
      {
        "duration": 19,
        "start_time": "2023-06-25T13:27:04.832Z"
      },
      {
        "duration": 16,
        "start_time": "2023-06-25T13:27:04.853Z"
      },
      {
        "duration": 198,
        "start_time": "2023-06-25T13:27:04.870Z"
      },
      {
        "duration": 52,
        "start_time": "2023-06-25T13:27:05.070Z"
      },
      {
        "duration": 7990,
        "start_time": "2023-06-25T13:27:05.129Z"
      },
      {
        "duration": 5,
        "start_time": "2023-06-25T13:27:13.126Z"
      },
      {
        "duration": 19,
        "start_time": "2023-06-25T13:27:13.133Z"
      },
      {
        "duration": 174,
        "start_time": "2023-06-25T13:27:13.154Z"
      },
      {
        "duration": 11,
        "start_time": "2023-06-25T13:27:13.331Z"
      },
      {
        "duration": 189,
        "start_time": "2023-06-25T13:27:13.344Z"
      },
      {
        "duration": 9,
        "start_time": "2023-06-25T13:31:57.335Z"
      },
      {
        "duration": 5108,
        "start_time": "2023-06-25T13:33:15.432Z"
      },
      {
        "duration": 1885,
        "start_time": "2023-06-25T13:34:00.358Z"
      },
      {
        "duration": 876,
        "start_time": "2023-06-25T13:34:02.245Z"
      },
      {
        "duration": 31,
        "start_time": "2023-06-25T13:34:03.123Z"
      },
      {
        "duration": 282,
        "start_time": "2023-06-25T13:34:03.156Z"
      },
      {
        "duration": 37,
        "start_time": "2023-06-25T13:34:03.439Z"
      },
      {
        "duration": 32,
        "start_time": "2023-06-25T13:34:03.477Z"
      },
      {
        "duration": 4777,
        "start_time": "2023-06-25T13:34:03.516Z"
      },
      {
        "duration": 0,
        "start_time": "2023-06-25T13:34:08.295Z"
      },
      {
        "duration": 0,
        "start_time": "2023-06-25T13:34:08.297Z"
      },
      {
        "duration": 0,
        "start_time": "2023-06-25T13:34:08.298Z"
      },
      {
        "duration": 0,
        "start_time": "2023-06-25T13:34:08.300Z"
      },
      {
        "duration": 0,
        "start_time": "2023-06-25T13:34:08.302Z"
      },
      {
        "duration": 0,
        "start_time": "2023-06-25T13:34:08.303Z"
      },
      {
        "duration": 0,
        "start_time": "2023-06-25T13:34:08.308Z"
      },
      {
        "duration": 0,
        "start_time": "2023-06-25T13:34:08.309Z"
      },
      {
        "duration": 0,
        "start_time": "2023-06-25T13:34:08.310Z"
      },
      {
        "duration": 0,
        "start_time": "2023-06-25T13:34:08.311Z"
      },
      {
        "duration": 0,
        "start_time": "2023-06-25T13:34:08.312Z"
      },
      {
        "duration": 199,
        "start_time": "2023-06-25T13:35:52.338Z"
      },
      {
        "duration": 1951,
        "start_time": "2023-06-25T13:37:18.026Z"
      },
      {
        "duration": 946,
        "start_time": "2023-06-25T13:37:19.979Z"
      },
      {
        "duration": 39,
        "start_time": "2023-06-25T13:37:20.930Z"
      },
      {
        "duration": 291,
        "start_time": "2023-06-25T13:37:20.972Z"
      },
      {
        "duration": 60,
        "start_time": "2023-06-25T13:37:21.265Z"
      },
      {
        "duration": 266,
        "start_time": "2023-06-25T13:37:21.330Z"
      },
      {
        "duration": 2162,
        "start_time": "2023-06-25T13:50:29.764Z"
      },
      {
        "duration": 1030,
        "start_time": "2023-06-25T13:50:31.929Z"
      },
      {
        "duration": 42,
        "start_time": "2023-06-25T13:50:32.961Z"
      },
      {
        "duration": 308,
        "start_time": "2023-06-25T13:50:33.006Z"
      },
      {
        "duration": 41,
        "start_time": "2023-06-25T13:50:33.320Z"
      },
      {
        "duration": 198,
        "start_time": "2023-06-25T13:50:33.363Z"
      },
      {
        "duration": 0,
        "start_time": "2023-06-25T13:50:33.564Z"
      },
      {
        "duration": 0,
        "start_time": "2023-06-25T13:50:33.566Z"
      },
      {
        "duration": 0,
        "start_time": "2023-06-25T13:50:33.567Z"
      },
      {
        "duration": 0,
        "start_time": "2023-06-25T13:50:33.568Z"
      },
      {
        "duration": 0,
        "start_time": "2023-06-25T13:50:33.569Z"
      },
      {
        "duration": 0,
        "start_time": "2023-06-25T13:50:33.570Z"
      },
      {
        "duration": 0,
        "start_time": "2023-06-25T13:50:33.571Z"
      },
      {
        "duration": 0,
        "start_time": "2023-06-25T13:50:33.573Z"
      },
      {
        "duration": 0,
        "start_time": "2023-06-25T13:50:33.574Z"
      },
      {
        "duration": 0,
        "start_time": "2023-06-25T13:50:33.575Z"
      },
      {
        "duration": 0,
        "start_time": "2023-06-25T13:50:33.576Z"
      },
      {
        "duration": 0,
        "start_time": "2023-06-25T13:50:33.577Z"
      },
      {
        "duration": 0,
        "start_time": "2023-06-25T13:50:33.578Z"
      },
      {
        "duration": 2036,
        "start_time": "2023-06-25T13:51:06.744Z"
      },
      {
        "duration": 1058,
        "start_time": "2023-06-25T13:51:08.783Z"
      },
      {
        "duration": 37,
        "start_time": "2023-06-25T13:51:09.844Z"
      },
      {
        "duration": 339,
        "start_time": "2023-06-25T13:51:09.883Z"
      },
      {
        "duration": 42,
        "start_time": "2023-06-25T13:51:10.232Z"
      },
      {
        "duration": 15,
        "start_time": "2023-06-25T13:51:10.277Z"
      },
      {
        "duration": 2965,
        "start_time": "2023-06-25T14:01:50.318Z"
      },
      {
        "duration": 843,
        "start_time": "2023-06-25T14:01:53.284Z"
      },
      {
        "duration": 30,
        "start_time": "2023-06-25T14:01:54.129Z"
      },
      {
        "duration": 304,
        "start_time": "2023-06-25T14:01:54.160Z"
      },
      {
        "duration": 47,
        "start_time": "2023-06-25T14:01:54.466Z"
      },
      {
        "duration": 12,
        "start_time": "2023-06-25T14:01:54.514Z"
      },
      {
        "duration": 4049,
        "start_time": "2023-06-25T14:01:54.527Z"
      },
      {
        "duration": 359,
        "start_time": "2023-06-25T14:01:58.578Z"
      },
      {
        "duration": 0,
        "start_time": "2023-06-25T14:01:58.938Z"
      },
      {
        "duration": 0,
        "start_time": "2023-06-25T14:01:58.939Z"
      },
      {
        "duration": 0,
        "start_time": "2023-06-25T14:01:58.940Z"
      },
      {
        "duration": 0,
        "start_time": "2023-06-25T14:01:58.941Z"
      },
      {
        "duration": 0,
        "start_time": "2023-06-25T14:01:58.942Z"
      },
      {
        "duration": 0,
        "start_time": "2023-06-25T14:01:58.943Z"
      },
      {
        "duration": 0,
        "start_time": "2023-06-25T14:01:58.944Z"
      },
      {
        "duration": 0,
        "start_time": "2023-06-25T14:01:58.945Z"
      },
      {
        "duration": 0,
        "start_time": "2023-06-25T14:01:58.946Z"
      },
      {
        "duration": 0,
        "start_time": "2023-06-25T14:01:58.947Z"
      },
      {
        "duration": 476,
        "start_time": "2023-06-25T14:03:28.757Z"
      },
      {
        "duration": 1887,
        "start_time": "2023-06-25T14:04:20.669Z"
      },
      {
        "duration": 832,
        "start_time": "2023-06-25T14:04:22.558Z"
      },
      {
        "duration": 35,
        "start_time": "2023-06-25T14:04:23.391Z"
      },
      {
        "duration": 278,
        "start_time": "2023-06-25T14:04:23.429Z"
      },
      {
        "duration": 39,
        "start_time": "2023-06-25T14:04:23.709Z"
      },
      {
        "duration": 11,
        "start_time": "2023-06-25T14:04:23.751Z"
      },
      {
        "duration": 1934,
        "start_time": "2023-06-25T14:07:40.236Z"
      },
      {
        "duration": 850,
        "start_time": "2023-06-25T14:07:42.172Z"
      },
      {
        "duration": 32,
        "start_time": "2023-06-25T14:07:43.023Z"
      },
      {
        "duration": 276,
        "start_time": "2023-06-25T14:07:43.056Z"
      },
      {
        "duration": 38,
        "start_time": "2023-06-25T14:07:43.335Z"
      },
      {
        "duration": 31,
        "start_time": "2023-06-25T14:07:43.375Z"
      },
      {
        "duration": 8286,
        "start_time": "2023-06-25T14:07:43.407Z"
      },
      {
        "duration": 0,
        "start_time": "2023-06-25T14:07:51.706Z"
      },
      {
        "duration": 1,
        "start_time": "2023-06-25T14:07:51.707Z"
      },
      {
        "duration": 0,
        "start_time": "2023-06-25T14:07:51.708Z"
      },
      {
        "duration": 0,
        "start_time": "2023-06-25T14:07:51.710Z"
      },
      {
        "duration": 0,
        "start_time": "2023-06-25T14:07:51.710Z"
      },
      {
        "duration": 0,
        "start_time": "2023-06-25T14:07:51.711Z"
      },
      {
        "duration": 0,
        "start_time": "2023-06-25T14:07:51.712Z"
      },
      {
        "duration": 0,
        "start_time": "2023-06-25T14:07:51.713Z"
      },
      {
        "duration": 0,
        "start_time": "2023-06-25T14:07:51.715Z"
      },
      {
        "duration": 0,
        "start_time": "2023-06-25T14:07:51.717Z"
      },
      {
        "duration": 1862,
        "start_time": "2023-06-25T14:08:23.626Z"
      },
      {
        "duration": 878,
        "start_time": "2023-06-25T14:08:25.490Z"
      },
      {
        "duration": 37,
        "start_time": "2023-06-25T14:08:26.370Z"
      },
      {
        "duration": 266,
        "start_time": "2023-06-25T14:08:26.412Z"
      },
      {
        "duration": 45,
        "start_time": "2023-06-25T14:08:26.680Z"
      },
      {
        "duration": 13,
        "start_time": "2023-06-25T14:08:26.727Z"
      },
      {
        "duration": 1870,
        "start_time": "2023-06-25T14:12:22.092Z"
      },
      {
        "duration": 930,
        "start_time": "2023-06-25T14:12:23.964Z"
      },
      {
        "duration": 37,
        "start_time": "2023-06-25T14:12:24.895Z"
      },
      {
        "duration": 302,
        "start_time": "2023-06-25T14:12:24.934Z"
      },
      {
        "duration": 37,
        "start_time": "2023-06-25T14:12:25.238Z"
      },
      {
        "duration": 29,
        "start_time": "2023-06-25T14:12:25.278Z"
      },
      {
        "duration": 2065,
        "start_time": "2023-06-25T14:45:45.148Z"
      },
      {
        "duration": 813,
        "start_time": "2023-06-25T14:45:47.215Z"
      },
      {
        "duration": 31,
        "start_time": "2023-06-25T14:45:48.030Z"
      },
      {
        "duration": 277,
        "start_time": "2023-06-25T14:45:48.064Z"
      },
      {
        "duration": 38,
        "start_time": "2023-06-25T14:45:48.343Z"
      },
      {
        "duration": 28,
        "start_time": "2023-06-25T14:45:48.383Z"
      },
      {
        "duration": 2514,
        "start_time": "2023-06-25T15:16:32.528Z"
      },
      {
        "duration": 898,
        "start_time": "2023-06-25T15:16:35.044Z"
      },
      {
        "duration": 36,
        "start_time": "2023-06-25T15:16:35.944Z"
      },
      {
        "duration": 288,
        "start_time": "2023-06-25T15:16:36.003Z"
      },
      {
        "duration": 50,
        "start_time": "2023-06-25T15:16:36.293Z"
      },
      {
        "duration": 78,
        "start_time": "2023-06-25T15:16:36.345Z"
      },
      {
        "duration": 1786,
        "start_time": "2023-06-25T15:29:22.487Z"
      },
      {
        "duration": 817,
        "start_time": "2023-06-25T15:29:24.275Z"
      },
      {
        "duration": 34,
        "start_time": "2023-06-25T15:29:25.093Z"
      },
      {
        "duration": 415,
        "start_time": "2023-06-25T15:29:25.129Z"
      },
      {
        "duration": 41,
        "start_time": "2023-06-25T15:29:25.547Z"
      },
      {
        "duration": 192,
        "start_time": "2023-06-25T15:29:25.603Z"
      },
      {
        "duration": 1136631,
        "start_time": "2023-06-25T15:29:25.797Z"
      },
      {
        "duration": 17,
        "start_time": "2023-06-25T15:48:22.430Z"
      },
      {
        "duration": 33,
        "start_time": "2023-06-25T15:48:22.449Z"
      },
      {
        "duration": 28,
        "start_time": "2023-06-25T15:48:22.484Z"
      },
      {
        "duration": 53,
        "start_time": "2023-06-25T15:48:22.514Z"
      },
      {
        "duration": 87,
        "start_time": "2023-06-25T15:48:22.569Z"
      },
      {
        "duration": 7219,
        "start_time": "2023-06-25T15:48:22.658Z"
      },
      {
        "duration": 5,
        "start_time": "2023-06-25T15:48:29.879Z"
      },
      {
        "duration": 17,
        "start_time": "2023-06-25T15:48:29.886Z"
      },
      {
        "duration": 175,
        "start_time": "2023-06-25T15:48:29.905Z"
      },
      {
        "duration": 9,
        "start_time": "2023-06-25T15:48:30.082Z"
      },
      {
        "duration": 166,
        "start_time": "2023-06-25T15:48:30.093Z"
      },
      {
        "duration": 1839,
        "start_time": "2023-06-25T15:52:30.586Z"
      },
      {
        "duration": 836,
        "start_time": "2023-06-25T15:52:32.429Z"
      },
      {
        "duration": 39,
        "start_time": "2023-06-25T15:52:33.267Z"
      },
      {
        "duration": 267,
        "start_time": "2023-06-25T15:52:33.308Z"
      },
      {
        "duration": 46,
        "start_time": "2023-06-25T15:52:33.578Z"
      },
      {
        "duration": 183,
        "start_time": "2023-06-25T15:52:33.626Z"
      },
      {
        "duration": 1168533,
        "start_time": "2023-06-25T15:52:33.810Z"
      },
      {
        "duration": 15,
        "start_time": "2023-06-25T16:12:02.345Z"
      },
      {
        "duration": 27,
        "start_time": "2023-06-25T16:12:02.362Z"
      },
      {
        "duration": 43,
        "start_time": "2023-06-25T16:12:02.391Z"
      },
      {
        "duration": 89,
        "start_time": "2023-06-25T16:12:02.435Z"
      },
      {
        "duration": 6690,
        "start_time": "2023-06-25T16:12:02.525Z"
      },
      {
        "duration": 4,
        "start_time": "2023-06-25T16:12:09.217Z"
      },
      {
        "duration": 6,
        "start_time": "2023-06-25T16:12:09.225Z"
      },
      {
        "duration": 150,
        "start_time": "2023-06-25T16:12:09.233Z"
      },
      {
        "duration": 222848,
        "start_time": "2023-06-25T16:12:09.385Z"
      },
      {
        "duration": 278158,
        "start_time": "2023-06-25T16:15:52.235Z"
      },
      {
        "duration": 228077,
        "start_time": "2023-06-25T16:20:30.402Z"
      },
      {
        "duration": 10,
        "start_time": "2023-06-25T16:24:18.481Z"
      },
      {
        "duration": 21,
        "start_time": "2023-06-25T16:24:18.509Z"
      },
      {
        "duration": 503,
        "start_time": "2023-06-25T16:27:18.239Z"
      }
    ],
    "kernelspec": {
      "display_name": "Python 3 (ipykernel)",
      "language": "python",
      "name": "python3"
    },
    "language_info": {
      "codemirror_mode": {
        "name": "ipython",
        "version": 3
      },
      "file_extension": ".py",
      "mimetype": "text/x-python",
      "name": "python",
      "nbconvert_exporter": "python",
      "pygments_lexer": "ipython3",
      "version": "3.9.5"
    },
    "toc": {
      "base_numbering": 1,
      "nav_menu": {},
      "number_sections": true,
      "sideBar": true,
      "skip_h1_title": true,
      "title_cell": "Содержание",
      "title_sidebar": "Contents",
      "toc_cell": true,
      "toc_position": {
        "height": "calc(100% - 180px)",
        "left": "10px",
        "top": "150px",
        "width": "302.391px"
      },
      "toc_section_display": true,
      "toc_window_display": true
    },
    "colab": {
      "provenance": []
    }
  },
  "nbformat": 4,
  "nbformat_minor": 0
}