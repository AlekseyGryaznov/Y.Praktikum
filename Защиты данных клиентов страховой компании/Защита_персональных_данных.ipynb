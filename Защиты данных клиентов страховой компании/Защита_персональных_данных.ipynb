{
  "cells": [
    {
      "cell_type": "markdown",
      "metadata": {
        "toc": true,
        "id": "-qHR3iKA6hNv"
      },
      "source": [
        "<h1>Содержание<span class=\"tocSkip\"></span></h1>\n",
        "<div class=\"toc\"><ul class=\"toc-item\"><li><span><a href=\"#Загрузка-данных\" data-toc-modified-id=\"Загрузка-данных-1\"><span class=\"toc-item-num\">1&nbsp;&nbsp;</span>Загрузка данных</a></span></li><li><span><a href=\"#Умножение-матриц\" data-toc-modified-id=\"Умножение-матриц-2\"><span class=\"toc-item-num\">2&nbsp;&nbsp;</span>Умножение матриц</a></span></li><li><span><a href=\"#Алгоритм-преобразования\" data-toc-modified-id=\"Алгоритм-преобразования-3\"><span class=\"toc-item-num\">3&nbsp;&nbsp;</span>Алгоритм преобразования</a></span></li><li><span><a href=\"#Проверка-алгоритма\" data-toc-modified-id=\"Проверка-алгоритма-4\"><span class=\"toc-item-num\">4&nbsp;&nbsp;</span>Проверка алгоритма</a></span></li><li><span><a href=\"#Чек-лист-проверки\" data-toc-modified-id=\"Чек-лист-проверки-5\"><span class=\"toc-item-num\">5&nbsp;&nbsp;</span>Чек-лист проверки</a></span></li></ul></div>"
      ]
    },
    {
      "cell_type": "markdown",
      "metadata": {
        "id": "39YA_1P66hNv"
      },
      "source": [
        "# Защита персональных данных клиентов"
      ]
    },
    {
      "cell_type": "markdown",
      "metadata": {
        "id": "LCNOQbTN6hNw"
      },
      "source": [
        "Вам нужно защитить данные клиентов страховой компании «Хоть потоп». Разработайте такой метод преобразования данных, чтобы по ним было сложно восстановить персональную информацию. Обоснуйте корректность его работы.\n",
        "\n",
        "Нужно защитить данные, чтобы при преобразовании качество моделей машинного обучения не ухудшилось. Подбирать наилучшую модель не требуется."
      ]
    },
    {
      "cell_type": "markdown",
      "metadata": {
        "id": "Hx-sIJ1N6hNw"
      },
      "source": [
        "## Загрузка данных"
      ]
    },
    {
      "cell_type": "code",
      "execution_count": null,
      "metadata": {
        "id": "9GMQi3Y16hNw"
      },
      "outputs": [],
      "source": [
        "import pandas as pd\n",
        "import numpy as np\n",
        "from sklearn.model_selection import train_test_split\n",
        "from sklearn.linear_model import LinearRegression\n",
        "from sklearn.metrics import r2_score"
      ]
    },
    {
      "cell_type": "code",
      "execution_count": null,
      "metadata": {
        "id": "dGUhYeND6hNy",
        "outputId": "9f71d705-7006-4556-d976-56837cc69a99"
      },
      "outputs": [
        {
          "data": {
            "text/html": [
              "<div>\n",
              "<style scoped>\n",
              "    .dataframe tbody tr th:only-of-type {\n",
              "        vertical-align: middle;\n",
              "    }\n",
              "\n",
              "    .dataframe tbody tr th {\n",
              "        vertical-align: top;\n",
              "    }\n",
              "\n",
              "    .dataframe thead th {\n",
              "        text-align: right;\n",
              "    }\n",
              "</style>\n",
              "<table border=\"1\" class=\"dataframe\">\n",
              "  <thead>\n",
              "    <tr style=\"text-align: right;\">\n",
              "      <th></th>\n",
              "      <th>Пол</th>\n",
              "      <th>Возраст</th>\n",
              "      <th>Зарплата</th>\n",
              "      <th>Члены семьи</th>\n",
              "      <th>Страховые выплаты</th>\n",
              "    </tr>\n",
              "  </thead>\n",
              "  <tbody>\n",
              "    <tr>\n",
              "      <th>0</th>\n",
              "      <td>1</td>\n",
              "      <td>41.0</td>\n",
              "      <td>49600.0</td>\n",
              "      <td>1</td>\n",
              "      <td>0</td>\n",
              "    </tr>\n",
              "    <tr>\n",
              "      <th>1</th>\n",
              "      <td>0</td>\n",
              "      <td>46.0</td>\n",
              "      <td>38000.0</td>\n",
              "      <td>1</td>\n",
              "      <td>1</td>\n",
              "    </tr>\n",
              "    <tr>\n",
              "      <th>2</th>\n",
              "      <td>0</td>\n",
              "      <td>29.0</td>\n",
              "      <td>21000.0</td>\n",
              "      <td>0</td>\n",
              "      <td>0</td>\n",
              "    </tr>\n",
              "    <tr>\n",
              "      <th>3</th>\n",
              "      <td>0</td>\n",
              "      <td>21.0</td>\n",
              "      <td>41700.0</td>\n",
              "      <td>2</td>\n",
              "      <td>0</td>\n",
              "    </tr>\n",
              "    <tr>\n",
              "      <th>4</th>\n",
              "      <td>1</td>\n",
              "      <td>28.0</td>\n",
              "      <td>26100.0</td>\n",
              "      <td>0</td>\n",
              "      <td>0</td>\n",
              "    </tr>\n",
              "    <tr>\n",
              "      <th>...</th>\n",
              "      <td>...</td>\n",
              "      <td>...</td>\n",
              "      <td>...</td>\n",
              "      <td>...</td>\n",
              "      <td>...</td>\n",
              "    </tr>\n",
              "    <tr>\n",
              "      <th>4995</th>\n",
              "      <td>0</td>\n",
              "      <td>28.0</td>\n",
              "      <td>35700.0</td>\n",
              "      <td>2</td>\n",
              "      <td>0</td>\n",
              "    </tr>\n",
              "    <tr>\n",
              "      <th>4996</th>\n",
              "      <td>0</td>\n",
              "      <td>34.0</td>\n",
              "      <td>52400.0</td>\n",
              "      <td>1</td>\n",
              "      <td>0</td>\n",
              "    </tr>\n",
              "    <tr>\n",
              "      <th>4997</th>\n",
              "      <td>0</td>\n",
              "      <td>20.0</td>\n",
              "      <td>33900.0</td>\n",
              "      <td>2</td>\n",
              "      <td>0</td>\n",
              "    </tr>\n",
              "    <tr>\n",
              "      <th>4998</th>\n",
              "      <td>1</td>\n",
              "      <td>22.0</td>\n",
              "      <td>32700.0</td>\n",
              "      <td>3</td>\n",
              "      <td>0</td>\n",
              "    </tr>\n",
              "    <tr>\n",
              "      <th>4999</th>\n",
              "      <td>1</td>\n",
              "      <td>28.0</td>\n",
              "      <td>40600.0</td>\n",
              "      <td>1</td>\n",
              "      <td>0</td>\n",
              "    </tr>\n",
              "  </tbody>\n",
              "</table>\n",
              "<p>5000 rows × 5 columns</p>\n",
              "</div>"
            ],
            "text/plain": [
              "      Пол  Возраст  Зарплата  Члены семьи  Страховые выплаты\n",
              "0       1     41.0   49600.0            1                  0\n",
              "1       0     46.0   38000.0            1                  1\n",
              "2       0     29.0   21000.0            0                  0\n",
              "3       0     21.0   41700.0            2                  0\n",
              "4       1     28.0   26100.0            0                  0\n",
              "...   ...      ...       ...          ...                ...\n",
              "4995    0     28.0   35700.0            2                  0\n",
              "4996    0     34.0   52400.0            1                  0\n",
              "4997    0     20.0   33900.0            2                  0\n",
              "4998    1     22.0   32700.0            3                  0\n",
              "4999    1     28.0   40600.0            1                  0\n",
              "\n",
              "[5000 rows x 5 columns]"
            ]
          },
          "execution_count": 2,
          "metadata": {},
          "output_type": "execute_result"
        }
      ],
      "source": [
        "df = pd.read_csv('/datasets/insurance.csv')\n",
        "df"
      ]
    },
    {
      "cell_type": "code",
      "execution_count": null,
      "metadata": {
        "id": "fASIlkne6hNz",
        "outputId": "a9b7e7c7-c6d9-49f4-a518-373c39998b5a"
      },
      "outputs": [
        {
          "name": "stdout",
          "output_type": "stream",
          "text": [
            "<class 'pandas.core.frame.DataFrame'>\n",
            "RangeIndex: 5000 entries, 0 to 4999\n",
            "Data columns (total 5 columns):\n",
            " #   Column             Non-Null Count  Dtype  \n",
            "---  ------             --------------  -----  \n",
            " 0   Пол                5000 non-null   int64  \n",
            " 1   Возраст            5000 non-null   float64\n",
            " 2   Зарплата           5000 non-null   float64\n",
            " 3   Члены семьи        5000 non-null   int64  \n",
            " 4   Страховые выплаты  5000 non-null   int64  \n",
            "dtypes: float64(2), int64(3)\n",
            "memory usage: 195.4 KB\n"
          ]
        }
      ],
      "source": [
        "df.info()"
      ]
    },
    {
      "cell_type": "markdown",
      "metadata": {
        "id": "vXXw7rgz6hNz"
      },
      "source": [
        "*Данные не имеют пропусков, предобработка не требуется*"
      ]
    },
    {
      "cell_type": "markdown",
      "metadata": {
        "id": "nyRi0UVa6hNz"
      },
      "source": [
        "## Умножение матриц"
      ]
    },
    {
      "cell_type": "markdown",
      "metadata": {
        "id": "LE6lsw5I6hNz"
      },
      "source": [
        "В этом задании вы можете записывать формулы в *Jupyter Notebook.*\n",
        "\n",
        "Чтобы записать формулу внутри текста, окружите её символами доллара \\\\$; если снаружи —  двойными символами \\\\$\\\\$. Эти формулы записываются на языке вёрстки *LaTeX.*\n",
        "\n",
        "Для примера мы записали формулы линейной регрессии. Можете их скопировать и отредактировать, чтобы решить задачу.\n",
        "\n",
        "Работать в *LaTeX* необязательно."
      ]
    },
    {
      "cell_type": "markdown",
      "metadata": {
        "id": "G5iylcvL6hNz"
      },
      "source": [
        "Обозначения:\n",
        "\n",
        "- $X$ — матрица признаков (нулевой столбец состоит из единиц)\n",
        "\n",
        "- $y$ — вектор целевого признака\n",
        "\n",
        "- $P$ — матрица, на которую умножаются признаки\n",
        "\n",
        "- $w$ — вектор весов линейной регрессии (нулевой элемент равен сдвигу)"
      ]
    },
    {
      "cell_type": "markdown",
      "metadata": {
        "id": "Vs3LnCrK6hNz"
      },
      "source": [
        "Предсказания:\n",
        "\n",
        "$$\n",
        "a = Xw\n",
        "$$\n",
        "\n",
        "Задача обучения:\n",
        "\n",
        "$$\n",
        "w = \\arg\\min_w MSE(Xw, y)\n",
        "$$\n",
        "\n",
        "Формула обучения:\n",
        "\n",
        "$$\n",
        "w = (X^T X)^{-1} X^T y\n",
        "$$"
      ]
    },
    {
      "cell_type": "markdown",
      "metadata": {
        "id": "z2uTg6Yp6hNz"
      },
      "source": [
        "**Ответ:**  Не изменится.\n",
        "\n",
        "**Обоснование:**\n",
        "\n",
        "\n",
        "$$\n",
        "w' = ((XP)^T XP)^{-1} (XP)^T y = (P^T X^T X P)^{-1} (XP)^T y = (P^T (X^T X) P)^{-1} P^T X^T y = P^{-1} (X^T X)^{-1} (P^T)^{-1} P^T X^T y=P^{-1}w\n",
        "$$\n",
        "$$\n",
        "a' = X\\cdot P\\cdot w' = X\\cdot P\\cdot P^{-1}w = X\\cdot w\n",
        "$$\n",
        "$$\n",
        "a' = a\n",
        "$$\n"
      ]
    },
    {
      "cell_type": "markdown",
      "metadata": {
        "id": "hsTlvFt26hN0"
      },
      "source": [
        "## Алгоритм преобразования"
      ]
    },
    {
      "cell_type": "markdown",
      "metadata": {
        "id": "zfQeT3Rs6hN0"
      },
      "source": [
        "**Алгоритм:**\n",
        "1.Создание рандомной матрицы\n",
        "2.Перемножение признаков на полученную матрицу\n",
        "3.Проверка метрики качетсва модели до и после преобразования"
      ]
    },
    {
      "cell_type": "markdown",
      "metadata": {
        "id": "tKxxivLt6hN0"
      },
      "source": [
        "*Разделим выборку на обучающую и тестовую*"
      ]
    },
    {
      "cell_type": "code",
      "execution_count": null,
      "metadata": {
        "id": "iJkesF1l6hN0"
      },
      "outputs": [],
      "source": [
        "features = df.drop('Страховые выплаты',axis=1)# отделяем признаки\n",
        "target = df['Страховые выплаты']# отделяем целевые признаки"
      ]
    },
    {
      "cell_type": "code",
      "execution_count": null,
      "metadata": {
        "id": "zoXsUVsG6hN0"
      },
      "outputs": [],
      "source": [
        "features_train, features_test, target_train, target_test = train_test_split(\n",
        "    features, target, test_size = 0.25, random_state=123) # Делим выборки на трейн и тест"
      ]
    },
    {
      "cell_type": "code",
      "execution_count": null,
      "metadata": {
        "id": "C7c4gX-a6hN0",
        "outputId": "5defb01b-38fd-439f-c469-4a1d3de933dd"
      },
      "outputs": [
        {
          "data": {
            "text/plain": [
              "0.43018469990932917"
            ]
          },
          "execution_count": 6,
          "metadata": {},
          "output_type": "execute_result"
        }
      ],
      "source": [
        "model = LinearRegression()# обучаем линейную регрессию на текущих данных\n",
        "model = model.fit(features_train, target_train)\n",
        "predictions = model.predict(features_test)\n",
        "r2_score(target_test, predictions)"
      ]
    },
    {
      "cell_type": "markdown",
      "metadata": {
        "id": "GJiHlpOl6hN1"
      },
      "source": [
        "*После обучения на исходных данных метрика r2=0.43*"
      ]
    },
    {
      "cell_type": "markdown",
      "metadata": {
        "id": "wGC2h9bi6hN1"
      },
      "source": [
        "*Преобразуем данный умножив признаки на матрицу*"
      ]
    },
    {
      "cell_type": "code",
      "execution_count": null,
      "metadata": {
        "id": "vTK4GSvA6hN1",
        "outputId": "55858e02-6bee-423f-cebe-6b5bd0e6438d"
      },
      "outputs": [
        {
          "data": {
            "text/plain": [
              "array([[-0.95426652,  1.74488973, -1.0987188 , -0.03447386],\n",
              "       [ 1.22676521, -2.61252861,  1.27756807,  2.10007119],\n",
              "       [ 1.41141158, -0.41510271, -0.14694593, -0.32552958],\n",
              "       [-0.93264061,  1.2148771 ,  0.54768141, -0.93285358]])"
            ]
          },
          "execution_count": 7,
          "metadata": {},
          "output_type": "execute_result"
        }
      ],
      "source": [
        "matrix = np.random.rand(4,4)# Создаем случайную матрицу размеров 4Х4\n",
        "np.linalg.inv(matrix)\n",
        "\n"
      ]
    },
    {
      "cell_type": "code",
      "execution_count": null,
      "metadata": {
        "id": "qK_OfRNq6hN1",
        "outputId": "bb2d292d-69e1-4de6-b0e9-655893d10160"
      },
      "outputs": [
        {
          "data": {
            "text/plain": [
              "array([[0.46613384, 0.34164932, 0.99429081, 0.40493749],\n",
              "       [0.91765506, 0.50888091, 0.74169438, 0.85287508],\n",
              "       [0.11730335, 0.49228373, 0.30950789, 0.99590443],\n",
              "       [0.79792548, 0.61017763, 0.15357527, 0.21859336]])"
            ]
          },
          "execution_count": 8,
          "metadata": {},
          "output_type": "execute_result"
        }
      ],
      "source": [
        "matrix"
      ]
    },
    {
      "cell_type": "markdown",
      "metadata": {
        "id": "wkGEjT9V6hN1"
      },
      "source": [
        "## Проверка алгоритма"
      ]
    },
    {
      "cell_type": "code",
      "execution_count": null,
      "metadata": {
        "id": "6hMiCG496hN1"
      },
      "outputs": [],
      "source": [
        "df_copy = df.copy()#Копирую исходные данные и повторно делим на тест и трейн\n",
        "features = df_copy.drop('Страховые выплаты',axis=1)\n",
        "target = df_copy['Страховые выплаты']\n"
      ]
    },
    {
      "cell_type": "code",
      "execution_count": null,
      "metadata": {
        "id": "hlB8TdyB6hN2"
      },
      "outputs": [],
      "source": [
        "tests = np.dot(features.values,matrix)#Умножаем признаки на матрицу\n",
        "tests_train, tests_test, target_train, target_test = train_test_split(tests, target,\n",
        "                                                                            test_size=0.25, random_state=12345)"
      ]
    },
    {
      "cell_type": "code",
      "execution_count": null,
      "metadata": {
        "id": "Uwn8q7IK6hN2"
      },
      "outputs": [],
      "source": [
        "model1 = LinearRegression()#Обучаем модель после преобразования\n",
        "model1 = model1.fit(tests_train, target_train)\n",
        "predictions1 = model1.predict(tests_test)"
      ]
    },
    {
      "cell_type": "code",
      "execution_count": null,
      "metadata": {
        "id": "bqNlygGC6hN2",
        "outputId": "263b9907-44a6-414f-980b-ff0bb15fa234"
      },
      "outputs": [
        {
          "data": {
            "text/plain": [
              "0.4352275712702627"
            ]
          },
          "execution_count": 12,
          "metadata": {},
          "output_type": "execute_result"
        }
      ],
      "source": [
        "r2_score(target_test, predictions1)"
      ]
    },
    {
      "cell_type": "markdown",
      "metadata": {
        "id": "llGMr5K46hN2"
      },
      "source": [
        "*После преобрзования метрика r2 почти не изменилась и тоже равна 0.43*"
      ]
    },
    {
      "cell_type": "markdown",
      "metadata": {
        "id": "rYeOr-oN6hN5"
      },
      "source": [
        "*Проверим данные на обратимость, для этого умножим кодированные данные, на обратную матрицу(ключ)*"
      ]
    },
    {
      "cell_type": "code",
      "execution_count": null,
      "metadata": {
        "id": "jAqlYN2Y6hN5",
        "outputId": "f45ff797-5b35-428c-daa9-c8cbb40a05e7"
      },
      "outputs": [
        {
          "data": {
            "text/html": [
              "<div>\n",
              "<style scoped>\n",
              "    .dataframe tbody tr th:only-of-type {\n",
              "        vertical-align: middle;\n",
              "    }\n",
              "\n",
              "    .dataframe tbody tr th {\n",
              "        vertical-align: top;\n",
              "    }\n",
              "\n",
              "    .dataframe thead th {\n",
              "        text-align: right;\n",
              "    }\n",
              "</style>\n",
              "<table border=\"1\" class=\"dataframe\">\n",
              "  <thead>\n",
              "    <tr style=\"text-align: right;\">\n",
              "      <th></th>\n",
              "      <th>0</th>\n",
              "      <th>1</th>\n",
              "      <th>2</th>\n",
              "      <th>3</th>\n",
              "    </tr>\n",
              "  </thead>\n",
              "  <tbody>\n",
              "    <tr>\n",
              "      <th>0</th>\n",
              "      <td>5857.134198</td>\n",
              "      <td>24439.089100</td>\n",
              "      <td>15383.148520</td>\n",
              "      <td>49432.451166</td>\n",
              "    </tr>\n",
              "    <tr>\n",
              "      <th>1</th>\n",
              "      <td>4500.537451</td>\n",
              "      <td>18730.800552</td>\n",
              "      <td>11795.571214</td>\n",
              "      <td>37883.819209</td>\n",
              "    </tr>\n",
              "    <tr>\n",
              "      <th>2</th>\n",
              "      <td>2489.982398</td>\n",
              "      <td>10352.715939</td>\n",
              "      <td>6521.174759</td>\n",
              "      <td>20938.726420</td>\n",
              "    </tr>\n",
              "    <tr>\n",
              "      <th>3</th>\n",
              "      <td>4912.416404</td>\n",
              "      <td>20540.138519</td>\n",
              "      <td>12922.361611</td>\n",
              "      <td>41547.562319</td>\n",
              "    </tr>\n",
              "    <tr>\n",
              "      <th>4</th>\n",
              "      <td>3087.777974</td>\n",
              "      <td>12863.195745</td>\n",
              "      <td>8099.917578</td>\n",
              "      <td>26017.391078</td>\n",
              "    </tr>\n",
              "    <tr>\n",
              "      <th>...</th>\n",
              "      <td>...</td>\n",
              "      <td>...</td>\n",
              "      <td>...</td>\n",
              "      <td>...</td>\n",
              "    </tr>\n",
              "    <tr>\n",
              "      <th>4995</th>\n",
              "      <td>4215.019875</td>\n",
              "      <td>17589.998288</td>\n",
              "      <td>11070.506151</td>\n",
              "      <td>35578.105861</td>\n",
              "    </tr>\n",
              "    <tr>\n",
              "      <th>4996</th>\n",
              "      <td>6178.693866</td>\n",
              "      <td>25813.579736</td>\n",
              "      <td>16243.584451</td>\n",
              "      <td>52214.608509</td>\n",
              "    </tr>\n",
              "    <tr>\n",
              "      <th>4997</th>\n",
              "      <td>3996.532600</td>\n",
              "      <td>16699.816521</td>\n",
              "      <td>10507.458400</td>\n",
              "      <td>33778.654885</td>\n",
              "    </tr>\n",
              "    <tr>\n",
              "      <th>4998</th>\n",
              "      <td>3858.867946</td>\n",
              "      <td>16111.045630</td>\n",
              "      <td>10138.680191</td>\n",
              "      <td>32585.898849</td>\n",
              "    </tr>\n",
              "    <tr>\n",
              "      <th>4999</th>\n",
              "      <td>4789.474510</td>\n",
              "      <td>20001.920051</td>\n",
              "      <td>12587.935512</td>\n",
              "      <td>40458.223915</td>\n",
              "    </tr>\n",
              "  </tbody>\n",
              "</table>\n",
              "<p>5000 rows × 4 columns</p>\n",
              "</div>"
            ],
            "text/plain": [
              "                0             1             2             3\n",
              "0     5857.134198  24439.089100  15383.148520  49432.451166\n",
              "1     4500.537451  18730.800552  11795.571214  37883.819209\n",
              "2     2489.982398  10352.715939   6521.174759  20938.726420\n",
              "3     4912.416404  20540.138519  12922.361611  41547.562319\n",
              "4     3087.777974  12863.195745   8099.917578  26017.391078\n",
              "...           ...           ...           ...           ...\n",
              "4995  4215.019875  17589.998288  11070.506151  35578.105861\n",
              "4996  6178.693866  25813.579736  16243.584451  52214.608509\n",
              "4997  3996.532600  16699.816521  10507.458400  33778.654885\n",
              "4998  3858.867946  16111.045630  10138.680191  32585.898849\n",
              "4999  4789.474510  20001.920051  12587.935512  40458.223915\n",
              "\n",
              "[5000 rows x 4 columns]"
            ]
          },
          "execution_count": 13,
          "metadata": {},
          "output_type": "execute_result"
        }
      ],
      "source": [
        "\n",
        "pd.DataFrame(tests)# Посмотрим преобразованнные данные"
      ]
    },
    {
      "cell_type": "code",
      "execution_count": null,
      "metadata": {
        "id": "a-C-CLJ66hN5",
        "outputId": "3e5e48e7-686a-44d7-984b-fc7b3ff33ba4"
      },
      "outputs": [
        {
          "data": {
            "text/html": [
              "<div>\n",
              "<style scoped>\n",
              "    .dataframe tbody tr th:only-of-type {\n",
              "        vertical-align: middle;\n",
              "    }\n",
              "\n",
              "    .dataframe tbody tr th {\n",
              "        vertical-align: top;\n",
              "    }\n",
              "\n",
              "    .dataframe thead th {\n",
              "        text-align: right;\n",
              "    }\n",
              "</style>\n",
              "<table border=\"1\" class=\"dataframe\">\n",
              "  <thead>\n",
              "    <tr style=\"text-align: right;\">\n",
              "      <th></th>\n",
              "      <th>Пол</th>\n",
              "      <th>Возраст</th>\n",
              "      <th>Зарплата</th>\n",
              "      <th>Члены семьи</th>\n",
              "    </tr>\n",
              "  </thead>\n",
              "  <tbody>\n",
              "    <tr>\n",
              "      <th>0</th>\n",
              "      <td>1</td>\n",
              "      <td>41.0</td>\n",
              "      <td>49600.0</td>\n",
              "      <td>1</td>\n",
              "    </tr>\n",
              "    <tr>\n",
              "      <th>1</th>\n",
              "      <td>0</td>\n",
              "      <td>46.0</td>\n",
              "      <td>38000.0</td>\n",
              "      <td>1</td>\n",
              "    </tr>\n",
              "    <tr>\n",
              "      <th>2</th>\n",
              "      <td>0</td>\n",
              "      <td>29.0</td>\n",
              "      <td>21000.0</td>\n",
              "      <td>0</td>\n",
              "    </tr>\n",
              "    <tr>\n",
              "      <th>3</th>\n",
              "      <td>0</td>\n",
              "      <td>21.0</td>\n",
              "      <td>41700.0</td>\n",
              "      <td>2</td>\n",
              "    </tr>\n",
              "    <tr>\n",
              "      <th>4</th>\n",
              "      <td>1</td>\n",
              "      <td>28.0</td>\n",
              "      <td>26100.0</td>\n",
              "      <td>0</td>\n",
              "    </tr>\n",
              "    <tr>\n",
              "      <th>...</th>\n",
              "      <td>...</td>\n",
              "      <td>...</td>\n",
              "      <td>...</td>\n",
              "      <td>...</td>\n",
              "    </tr>\n",
              "    <tr>\n",
              "      <th>4995</th>\n",
              "      <td>0</td>\n",
              "      <td>28.0</td>\n",
              "      <td>35700.0</td>\n",
              "      <td>2</td>\n",
              "    </tr>\n",
              "    <tr>\n",
              "      <th>4996</th>\n",
              "      <td>0</td>\n",
              "      <td>34.0</td>\n",
              "      <td>52400.0</td>\n",
              "      <td>1</td>\n",
              "    </tr>\n",
              "    <tr>\n",
              "      <th>4997</th>\n",
              "      <td>0</td>\n",
              "      <td>20.0</td>\n",
              "      <td>33900.0</td>\n",
              "      <td>2</td>\n",
              "    </tr>\n",
              "    <tr>\n",
              "      <th>4998</th>\n",
              "      <td>1</td>\n",
              "      <td>22.0</td>\n",
              "      <td>32700.0</td>\n",
              "      <td>3</td>\n",
              "    </tr>\n",
              "    <tr>\n",
              "      <th>4999</th>\n",
              "      <td>1</td>\n",
              "      <td>28.0</td>\n",
              "      <td>40600.0</td>\n",
              "      <td>1</td>\n",
              "    </tr>\n",
              "  </tbody>\n",
              "</table>\n",
              "<p>5000 rows × 4 columns</p>\n",
              "</div>"
            ],
            "text/plain": [
              "      Пол  Возраст  Зарплата  Члены семьи\n",
              "0       1     41.0   49600.0            1\n",
              "1       0     46.0   38000.0            1\n",
              "2       0     29.0   21000.0            0\n",
              "3       0     21.0   41700.0            2\n",
              "4       1     28.0   26100.0            0\n",
              "...   ...      ...       ...          ...\n",
              "4995    0     28.0   35700.0            2\n",
              "4996    0     34.0   52400.0            1\n",
              "4997    0     20.0   33900.0            2\n",
              "4998    1     22.0   32700.0            3\n",
              "4999    1     28.0   40600.0            1\n",
              "\n",
              "[5000 rows x 4 columns]"
            ]
          },
          "execution_count": 14,
          "metadata": {},
          "output_type": "execute_result"
        }
      ],
      "source": [
        "features# Посмотрим исходные данные"
      ]
    },
    {
      "cell_type": "code",
      "execution_count": null,
      "metadata": {
        "id": "g3Mxpu5W6hN6",
        "outputId": "b5260f94-2d6f-4e14-aa04-c4139b1c041a"
      },
      "outputs": [
        {
          "data": {
            "text/html": [
              "<div>\n",
              "<style scoped>\n",
              "    .dataframe tbody tr th:only-of-type {\n",
              "        vertical-align: middle;\n",
              "    }\n",
              "\n",
              "    .dataframe tbody tr th {\n",
              "        vertical-align: top;\n",
              "    }\n",
              "\n",
              "    .dataframe thead th {\n",
              "        text-align: right;\n",
              "    }\n",
              "</style>\n",
              "<table border=\"1\" class=\"dataframe\">\n",
              "  <thead>\n",
              "    <tr style=\"text-align: right;\">\n",
              "      <th></th>\n",
              "      <th>0</th>\n",
              "      <th>1</th>\n",
              "      <th>2</th>\n",
              "      <th>3</th>\n",
              "    </tr>\n",
              "  </thead>\n",
              "  <tbody>\n",
              "    <tr>\n",
              "      <th>0</th>\n",
              "      <td>1.000000e+00</td>\n",
              "      <td>41.0</td>\n",
              "      <td>49600.0</td>\n",
              "      <td>1.000000e+00</td>\n",
              "    </tr>\n",
              "    <tr>\n",
              "      <th>1</th>\n",
              "      <td>-1.889423e-12</td>\n",
              "      <td>46.0</td>\n",
              "      <td>38000.0</td>\n",
              "      <td>1.000000e+00</td>\n",
              "    </tr>\n",
              "    <tr>\n",
              "      <th>2</th>\n",
              "      <td>3.180666e-12</td>\n",
              "      <td>29.0</td>\n",
              "      <td>21000.0</td>\n",
              "      <td>5.956135e-12</td>\n",
              "    </tr>\n",
              "    <tr>\n",
              "      <th>3</th>\n",
              "      <td>-5.517851e-12</td>\n",
              "      <td>21.0</td>\n",
              "      <td>41700.0</td>\n",
              "      <td>2.000000e+00</td>\n",
              "    </tr>\n",
              "    <tr>\n",
              "      <th>4</th>\n",
              "      <td>1.000000e+00</td>\n",
              "      <td>28.0</td>\n",
              "      <td>26100.0</td>\n",
              "      <td>4.428912e-12</td>\n",
              "    </tr>\n",
              "    <tr>\n",
              "      <th>...</th>\n",
              "      <td>...</td>\n",
              "      <td>...</td>\n",
              "      <td>...</td>\n",
              "      <td>...</td>\n",
              "    </tr>\n",
              "    <tr>\n",
              "      <th>4995</th>\n",
              "      <td>-3.714888e-13</td>\n",
              "      <td>28.0</td>\n",
              "      <td>35700.0</td>\n",
              "      <td>2.000000e+00</td>\n",
              "    </tr>\n",
              "    <tr>\n",
              "      <th>4996</th>\n",
              "      <td>8.760971e-12</td>\n",
              "      <td>34.0</td>\n",
              "      <td>52400.0</td>\n",
              "      <td>1.000000e+00</td>\n",
              "    </tr>\n",
              "    <tr>\n",
              "      <th>4997</th>\n",
              "      <td>-1.198474e-12</td>\n",
              "      <td>20.0</td>\n",
              "      <td>33900.0</td>\n",
              "      <td>2.000000e+00</td>\n",
              "    </tr>\n",
              "    <tr>\n",
              "      <th>4998</th>\n",
              "      <td>1.000000e+00</td>\n",
              "      <td>22.0</td>\n",
              "      <td>32700.0</td>\n",
              "      <td>3.000000e+00</td>\n",
              "    </tr>\n",
              "    <tr>\n",
              "      <th>4999</th>\n",
              "      <td>1.000000e+00</td>\n",
              "      <td>28.0</td>\n",
              "      <td>40600.0</td>\n",
              "      <td>1.000000e+00</td>\n",
              "    </tr>\n",
              "  </tbody>\n",
              "</table>\n",
              "<p>5000 rows × 4 columns</p>\n",
              "</div>"
            ],
            "text/plain": [
              "                 0     1        2             3\n",
              "0     1.000000e+00  41.0  49600.0  1.000000e+00\n",
              "1    -1.889423e-12  46.0  38000.0  1.000000e+00\n",
              "2     3.180666e-12  29.0  21000.0  5.956135e-12\n",
              "3    -5.517851e-12  21.0  41700.0  2.000000e+00\n",
              "4     1.000000e+00  28.0  26100.0  4.428912e-12\n",
              "...            ...   ...      ...           ...\n",
              "4995 -3.714888e-13  28.0  35700.0  2.000000e+00\n",
              "4996  8.760971e-12  34.0  52400.0  1.000000e+00\n",
              "4997 -1.198474e-12  20.0  33900.0  2.000000e+00\n",
              "4998  1.000000e+00  22.0  32700.0  3.000000e+00\n",
              "4999  1.000000e+00  28.0  40600.0  1.000000e+00\n",
              "\n",
              "[5000 rows x 4 columns]"
            ]
          },
          "execution_count": 15,
          "metadata": {},
          "output_type": "execute_result"
        }
      ],
      "source": [
        "back = tests@np.linalg.inv(matrix)# Умножим преобразованнные данные на ключ(обратную матрицу), для получение исходных фичей\n",
        "pd.DataFrame(back)"
      ]
    },
    {
      "cell_type": "markdown",
      "metadata": {
        "id": "kB6nUe4R6hN6"
      },
      "source": [
        "После обратного преобразования, данные идентичны исходным"
      ]
    },
    {
      "cell_type": "markdown",
      "metadata": {
        "id": "gYaZDlvz6hN6"
      },
      "source": [
        "***В результате иследования доказанно что метрика R2 не меняется при умножении данных на матрицу***"
      ]
    }
  ],
  "metadata": {
    "ExecuteTimeLog": [
      {
        "duration": 178,
        "start_time": "2023-05-15T12:28:58.200Z"
      },
      {
        "duration": 82,
        "start_time": "2023-05-15T12:29:08.816Z"
      },
      {
        "duration": 267,
        "start_time": "2023-05-15T12:29:22.630Z"
      },
      {
        "duration": 483,
        "start_time": "2023-05-15T12:29:28.706Z"
      },
      {
        "duration": 85,
        "start_time": "2023-05-15T12:30:08.320Z"
      },
      {
        "duration": 45,
        "start_time": "2023-05-15T12:30:12.740Z"
      },
      {
        "duration": 9,
        "start_time": "2023-05-15T12:30:23.772Z"
      },
      {
        "duration": 13,
        "start_time": "2023-05-15T12:30:35.545Z"
      },
      {
        "duration": 1355,
        "start_time": "2023-05-17T09:51:17.019Z"
      },
      {
        "duration": 1175,
        "start_time": "2023-05-17T09:51:22.315Z"
      },
      {
        "duration": 125,
        "start_time": "2023-05-17T09:51:23.492Z"
      },
      {
        "duration": 24,
        "start_time": "2023-05-17T09:51:23.619Z"
      },
      {
        "duration": 102,
        "start_time": "2023-05-17T10:10:33.860Z"
      },
      {
        "duration": 11,
        "start_time": "2023-05-17T10:10:49.741Z"
      },
      {
        "duration": 4,
        "start_time": "2023-05-17T10:11:00.917Z"
      },
      {
        "duration": 6,
        "start_time": "2023-05-17T10:11:04.777Z"
      },
      {
        "duration": 13,
        "start_time": "2023-05-17T10:11:25.201Z"
      },
      {
        "duration": 13,
        "start_time": "2023-05-17T10:11:46.193Z"
      },
      {
        "duration": 10,
        "start_time": "2023-05-17T10:12:22.540Z"
      },
      {
        "duration": 4,
        "start_time": "2023-05-17T10:16:57.542Z"
      },
      {
        "duration": 7,
        "start_time": "2023-05-17T10:17:31.697Z"
      },
      {
        "duration": 6,
        "start_time": "2023-05-17T10:17:51.215Z"
      },
      {
        "duration": 10,
        "start_time": "2023-05-17T10:22:39.782Z"
      },
      {
        "duration": 57,
        "start_time": "2023-05-17T10:22:48.944Z"
      },
      {
        "duration": 6,
        "start_time": "2023-05-17T10:23:25.451Z"
      },
      {
        "duration": 13,
        "start_time": "2023-05-17T10:25:52.572Z"
      },
      {
        "duration": 6,
        "start_time": "2023-05-17T10:25:58.417Z"
      },
      {
        "duration": 6,
        "start_time": "2023-05-17T11:07:46.599Z"
      },
      {
        "duration": 11,
        "start_time": "2023-05-17T11:09:30.608Z"
      },
      {
        "duration": 3,
        "start_time": "2023-05-17T11:09:37.922Z"
      },
      {
        "duration": 3,
        "start_time": "2023-05-17T11:09:43.076Z"
      },
      {
        "duration": 10,
        "start_time": "2023-05-17T11:09:49.261Z"
      },
      {
        "duration": 3,
        "start_time": "2023-05-17T11:09:55.696Z"
      },
      {
        "duration": 11,
        "start_time": "2023-05-17T12:02:37.385Z"
      },
      {
        "duration": 11,
        "start_time": "2023-05-17T12:02:55.944Z"
      },
      {
        "duration": 10,
        "start_time": "2023-05-17T12:04:16.242Z"
      },
      {
        "duration": 10,
        "start_time": "2023-05-17T12:04:32.984Z"
      },
      {
        "duration": 1273,
        "start_time": "2023-05-17T12:05:00.855Z"
      },
      {
        "duration": 59,
        "start_time": "2023-05-17T12:05:02.131Z"
      },
      {
        "duration": 14,
        "start_time": "2023-05-17T12:05:02.192Z"
      },
      {
        "duration": 26,
        "start_time": "2023-05-17T12:05:02.208Z"
      },
      {
        "duration": 50,
        "start_time": "2023-05-17T12:05:02.237Z"
      },
      {
        "duration": 153,
        "start_time": "2023-05-17T12:05:02.290Z"
      },
      {
        "duration": 104,
        "start_time": "2023-05-17T12:05:02.446Z"
      },
      {
        "duration": 78,
        "start_time": "2023-05-17T12:05:02.553Z"
      },
      {
        "duration": 194,
        "start_time": "2023-05-17T12:05:02.634Z"
      },
      {
        "duration": 5,
        "start_time": "2023-05-17T12:07:37.647Z"
      },
      {
        "duration": 8,
        "start_time": "2023-05-17T12:08:42.838Z"
      },
      {
        "duration": 8,
        "start_time": "2023-05-17T12:09:05.650Z"
      },
      {
        "duration": 6,
        "start_time": "2023-05-17T12:09:38.288Z"
      },
      {
        "duration": 8,
        "start_time": "2023-05-17T12:09:46.546Z"
      },
      {
        "duration": 10,
        "start_time": "2023-05-17T12:10:06.885Z"
      },
      {
        "duration": 4,
        "start_time": "2023-05-17T12:10:07.701Z"
      },
      {
        "duration": 6,
        "start_time": "2023-05-17T12:10:08.399Z"
      },
      {
        "duration": 7,
        "start_time": "2023-05-17T12:10:40.986Z"
      },
      {
        "duration": 6,
        "start_time": "2023-05-17T12:10:46.096Z"
      },
      {
        "duration": 6,
        "start_time": "2023-05-17T12:27:59.756Z"
      },
      {
        "duration": 1227,
        "start_time": "2023-05-17T12:32:52.033Z"
      },
      {
        "duration": 53,
        "start_time": "2023-05-17T12:32:53.263Z"
      },
      {
        "duration": 15,
        "start_time": "2023-05-17T12:32:53.318Z"
      },
      {
        "duration": 5,
        "start_time": "2023-05-17T12:32:53.336Z"
      },
      {
        "duration": 11,
        "start_time": "2023-05-17T12:32:53.343Z"
      },
      {
        "duration": 20,
        "start_time": "2023-05-17T12:32:53.356Z"
      },
      {
        "duration": 52,
        "start_time": "2023-05-17T12:32:53.378Z"
      },
      {
        "duration": 6,
        "start_time": "2023-05-17T12:32:53.432Z"
      },
      {
        "duration": 85,
        "start_time": "2023-05-17T12:32:53.441Z"
      },
      {
        "duration": 7,
        "start_time": "2023-05-17T12:32:53.529Z"
      },
      {
        "duration": 17,
        "start_time": "2023-05-17T12:32:53.538Z"
      },
      {
        "duration": 13,
        "start_time": "2023-05-17T12:32:53.557Z"
      },
      {
        "duration": 1818,
        "start_time": "2023-05-17T18:16:56.477Z"
      },
      {
        "duration": 58,
        "start_time": "2023-05-17T18:16:58.297Z"
      },
      {
        "duration": 14,
        "start_time": "2023-05-17T18:16:58.358Z"
      },
      {
        "duration": 57,
        "start_time": "2023-05-17T18:16:58.375Z"
      },
      {
        "duration": 68,
        "start_time": "2023-05-17T18:16:58.435Z"
      },
      {
        "duration": 31,
        "start_time": "2023-05-17T18:16:58.517Z"
      },
      {
        "duration": 21,
        "start_time": "2023-05-17T18:16:58.550Z"
      },
      {
        "duration": 35,
        "start_time": "2023-05-17T18:16:58.574Z"
      },
      {
        "duration": 11,
        "start_time": "2023-05-17T18:16:58.612Z"
      },
      {
        "duration": 61,
        "start_time": "2023-05-17T18:16:58.634Z"
      },
      {
        "duration": 6,
        "start_time": "2023-05-17T18:16:58.701Z"
      },
      {
        "duration": 7,
        "start_time": "2023-05-17T18:16:58.709Z"
      },
      {
        "duration": 1032,
        "start_time": "2023-05-19T13:41:52.890Z"
      },
      {
        "duration": 108,
        "start_time": "2023-05-19T13:41:53.924Z"
      },
      {
        "duration": 12,
        "start_time": "2023-05-19T13:41:54.036Z"
      },
      {
        "duration": 5,
        "start_time": "2023-05-19T13:41:54.051Z"
      },
      {
        "duration": 10,
        "start_time": "2023-05-19T13:41:54.058Z"
      },
      {
        "duration": 11,
        "start_time": "2023-05-19T13:41:54.069Z"
      },
      {
        "duration": 7,
        "start_time": "2023-05-19T13:41:54.082Z"
      },
      {
        "duration": 9,
        "start_time": "2023-05-19T13:41:54.090Z"
      },
      {
        "duration": 81,
        "start_time": "2023-05-19T13:41:54.100Z"
      },
      {
        "duration": 7,
        "start_time": "2023-05-19T13:41:54.183Z"
      },
      {
        "duration": 86,
        "start_time": "2023-05-19T13:41:54.192Z"
      },
      {
        "duration": 4,
        "start_time": "2023-05-19T13:41:54.280Z"
      },
      {
        "duration": 4,
        "start_time": "2023-05-19T13:41:54.287Z"
      },
      {
        "duration": 13,
        "start_time": "2023-05-19T13:42:24.288Z"
      },
      {
        "duration": 6,
        "start_time": "2023-05-19T13:42:39.997Z"
      },
      {
        "duration": 6,
        "start_time": "2023-05-19T13:43:24.780Z"
      },
      {
        "duration": 6,
        "start_time": "2023-05-19T13:52:22.934Z"
      },
      {
        "duration": 16,
        "start_time": "2023-05-19T13:52:33.501Z"
      },
      {
        "duration": 14,
        "start_time": "2023-05-19T13:52:45.811Z"
      },
      {
        "duration": 5,
        "start_time": "2023-05-19T13:53:10.193Z"
      },
      {
        "duration": 6,
        "start_time": "2023-05-19T13:55:09.823Z"
      },
      {
        "duration": 6,
        "start_time": "2023-05-19T13:55:14.871Z"
      },
      {
        "duration": 3,
        "start_time": "2023-05-19T13:55:29.612Z"
      },
      {
        "duration": 7,
        "start_time": "2023-05-19T13:55:39.823Z"
      },
      {
        "duration": 281,
        "start_time": "2023-05-19T13:55:49.783Z"
      },
      {
        "duration": 10,
        "start_time": "2023-05-19T13:55:55.199Z"
      },
      {
        "duration": 17,
        "start_time": "2023-05-19T13:56:20.442Z"
      },
      {
        "duration": 11,
        "start_time": "2023-05-19T13:58:36.888Z"
      },
      {
        "duration": 1079,
        "start_time": "2023-05-19T14:09:04.225Z"
      },
      {
        "duration": 44,
        "start_time": "2023-05-19T14:09:05.306Z"
      },
      {
        "duration": 12,
        "start_time": "2023-05-19T14:09:05.352Z"
      },
      {
        "duration": 10,
        "start_time": "2023-05-19T14:09:05.366Z"
      },
      {
        "duration": 7,
        "start_time": "2023-05-19T14:09:05.380Z"
      },
      {
        "duration": 14,
        "start_time": "2023-05-19T14:09:05.389Z"
      },
      {
        "duration": 7,
        "start_time": "2023-05-19T14:09:05.406Z"
      },
      {
        "duration": 68,
        "start_time": "2023-05-19T14:09:05.415Z"
      },
      {
        "duration": 5,
        "start_time": "2023-05-19T14:09:05.485Z"
      },
      {
        "duration": 87,
        "start_time": "2023-05-19T14:09:05.492Z"
      },
      {
        "duration": 6,
        "start_time": "2023-05-19T14:09:05.582Z"
      },
      {
        "duration": 13,
        "start_time": "2023-05-19T14:09:05.590Z"
      },
      {
        "duration": 15,
        "start_time": "2023-05-19T14:09:05.605Z"
      },
      {
        "duration": 35,
        "start_time": "2023-05-19T14:09:05.623Z"
      },
      {
        "duration": 33,
        "start_time": "2023-05-19T14:09:05.660Z"
      },
      {
        "duration": 1351,
        "start_time": "2023-05-20T07:33:57.257Z"
      },
      {
        "duration": 56,
        "start_time": "2023-05-20T07:33:58.610Z"
      },
      {
        "duration": 16,
        "start_time": "2023-05-20T07:33:58.668Z"
      },
      {
        "duration": 3,
        "start_time": "2023-05-20T07:33:58.686Z"
      },
      {
        "duration": 15,
        "start_time": "2023-05-20T07:33:58.692Z"
      },
      {
        "duration": 13,
        "start_time": "2023-05-20T07:33:58.709Z"
      },
      {
        "duration": 18,
        "start_time": "2023-05-20T07:33:58.724Z"
      },
      {
        "duration": 77,
        "start_time": "2023-05-20T07:33:58.745Z"
      },
      {
        "duration": 95,
        "start_time": "2023-05-20T07:33:58.825Z"
      },
      {
        "duration": 21,
        "start_time": "2023-05-20T07:33:58.923Z"
      },
      {
        "duration": 8,
        "start_time": "2023-05-20T07:33:58.945Z"
      },
      {
        "duration": 10,
        "start_time": "2023-05-20T07:33:58.954Z"
      },
      {
        "duration": 24,
        "start_time": "2023-05-20T07:33:58.966Z"
      },
      {
        "duration": 19,
        "start_time": "2023-05-20T07:33:58.992Z"
      },
      {
        "duration": 38,
        "start_time": "2023-05-20T07:33:59.012Z"
      }
    ],
    "kernelspec": {
      "display_name": "Python 3 (ipykernel)",
      "language": "python",
      "name": "python3"
    },
    "language_info": {
      "codemirror_mode": {
        "name": "ipython",
        "version": 3
      },
      "file_extension": ".py",
      "mimetype": "text/x-python",
      "name": "python",
      "nbconvert_exporter": "python",
      "pygments_lexer": "ipython3",
      "version": "3.9.5"
    },
    "toc": {
      "base_numbering": 1,
      "nav_menu": {},
      "number_sections": true,
      "sideBar": true,
      "skip_h1_title": true,
      "title_cell": "Содержание",
      "title_sidebar": "Contents",
      "toc_cell": true,
      "toc_position": {},
      "toc_section_display": true,
      "toc_window_display": false
    },
    "colab": {
      "provenance": []
    }
  },
  "nbformat": 4,
  "nbformat_minor": 0
}