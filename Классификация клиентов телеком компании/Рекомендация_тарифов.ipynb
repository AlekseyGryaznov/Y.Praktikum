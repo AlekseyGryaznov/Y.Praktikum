{
  "cells": [
    {
      "cell_type": "markdown",
      "metadata": {
        "id": "ArmDjNxIcw_C"
      },
      "source": [
        "# Рекомендация тарифов"
      ]
    },
    {
      "cell_type": "markdown",
      "metadata": {
        "id": "1g_yl-6Qcw_C"
      },
      "source": [
        "В вашем распоряжении данные о поведении клиентов, которые уже перешли на эти тарифы (из проекта курса «Статистический анализ данных»). Нужно построить модель для задачи классификации, которая выберет подходящий тариф. Предобработка данных не понадобится — вы её уже сделали.\n",
        "\n",
        "Постройте модель с максимально большим значением *accuracy*. Чтобы сдать проект успешно, нужно довести долю правильных ответов по крайней мере до 0.75. Проверьте *accuracy* на тестовой выборке самостоятельно."
      ]
    },
    {
      "cell_type": "markdown",
      "metadata": {
        "id": "n-cAtLAxcw_D"
      },
      "source": [
        "## Откройте и изучите файл"
      ]
    },
    {
      "cell_type": "code",
      "execution_count": null,
      "metadata": {
        "id": "t2qhW8MRcw_D"
      },
      "outputs": [],
      "source": [
        "import pandas as pd\n",
        "import matplotlib.pyplot as plt\n",
        "from sklearn.model_selection import train_test_split\n",
        "from sklearn.tree import DecisionTreeClassifier\n",
        "from sklearn.ensemble import RandomForestClassifier\n",
        "from sklearn.linear_model import LogisticRegression\n",
        "from sklearn.metrics import accuracy_score\n",
        "from sklearn.dummy import DummyClassifier"
      ]
    },
    {
      "cell_type": "code",
      "execution_count": null,
      "metadata": {
        "scrolled": true,
        "id": "hEBnWS7Ecw_F",
        "outputId": "5d2232ea-7adc-40c0-86b8-c5dcaa117c1f"
      },
      "outputs": [
        {
          "data": {
            "text/html": [
              "<div>\n",
              "<style scoped>\n",
              "    .dataframe tbody tr th:only-of-type {\n",
              "        vertical-align: middle;\n",
              "    }\n",
              "\n",
              "    .dataframe tbody tr th {\n",
              "        vertical-align: top;\n",
              "    }\n",
              "\n",
              "    .dataframe thead th {\n",
              "        text-align: right;\n",
              "    }\n",
              "</style>\n",
              "<table border=\"1\" class=\"dataframe\">\n",
              "  <thead>\n",
              "    <tr style=\"text-align: right;\">\n",
              "      <th></th>\n",
              "      <th>calls</th>\n",
              "      <th>minutes</th>\n",
              "      <th>messages</th>\n",
              "      <th>mb_used</th>\n",
              "      <th>is_ultra</th>\n",
              "    </tr>\n",
              "  </thead>\n",
              "  <tbody>\n",
              "    <tr>\n",
              "      <th>0</th>\n",
              "      <td>40.0</td>\n",
              "      <td>311.90</td>\n",
              "      <td>83.0</td>\n",
              "      <td>19915.42</td>\n",
              "      <td>0</td>\n",
              "    </tr>\n",
              "    <tr>\n",
              "      <th>1</th>\n",
              "      <td>85.0</td>\n",
              "      <td>516.75</td>\n",
              "      <td>56.0</td>\n",
              "      <td>22696.96</td>\n",
              "      <td>0</td>\n",
              "    </tr>\n",
              "    <tr>\n",
              "      <th>2</th>\n",
              "      <td>77.0</td>\n",
              "      <td>467.66</td>\n",
              "      <td>86.0</td>\n",
              "      <td>21060.45</td>\n",
              "      <td>0</td>\n",
              "    </tr>\n",
              "    <tr>\n",
              "      <th>3</th>\n",
              "      <td>106.0</td>\n",
              "      <td>745.53</td>\n",
              "      <td>81.0</td>\n",
              "      <td>8437.39</td>\n",
              "      <td>1</td>\n",
              "    </tr>\n",
              "    <tr>\n",
              "      <th>4</th>\n",
              "      <td>66.0</td>\n",
              "      <td>418.74</td>\n",
              "      <td>1.0</td>\n",
              "      <td>14502.75</td>\n",
              "      <td>0</td>\n",
              "    </tr>\n",
              "    <tr>\n",
              "      <th>...</th>\n",
              "      <td>...</td>\n",
              "      <td>...</td>\n",
              "      <td>...</td>\n",
              "      <td>...</td>\n",
              "      <td>...</td>\n",
              "    </tr>\n",
              "    <tr>\n",
              "      <th>3209</th>\n",
              "      <td>122.0</td>\n",
              "      <td>910.98</td>\n",
              "      <td>20.0</td>\n",
              "      <td>35124.90</td>\n",
              "      <td>1</td>\n",
              "    </tr>\n",
              "    <tr>\n",
              "      <th>3210</th>\n",
              "      <td>25.0</td>\n",
              "      <td>190.36</td>\n",
              "      <td>0.0</td>\n",
              "      <td>3275.61</td>\n",
              "      <td>0</td>\n",
              "    </tr>\n",
              "    <tr>\n",
              "      <th>3211</th>\n",
              "      <td>97.0</td>\n",
              "      <td>634.44</td>\n",
              "      <td>70.0</td>\n",
              "      <td>13974.06</td>\n",
              "      <td>0</td>\n",
              "    </tr>\n",
              "    <tr>\n",
              "      <th>3212</th>\n",
              "      <td>64.0</td>\n",
              "      <td>462.32</td>\n",
              "      <td>90.0</td>\n",
              "      <td>31239.78</td>\n",
              "      <td>0</td>\n",
              "    </tr>\n",
              "    <tr>\n",
              "      <th>3213</th>\n",
              "      <td>80.0</td>\n",
              "      <td>566.09</td>\n",
              "      <td>6.0</td>\n",
              "      <td>29480.52</td>\n",
              "      <td>1</td>\n",
              "    </tr>\n",
              "  </tbody>\n",
              "</table>\n",
              "<p>3214 rows × 5 columns</p>\n",
              "</div>"
            ],
            "text/plain": [
              "      calls  minutes  messages   mb_used  is_ultra\n",
              "0      40.0   311.90      83.0  19915.42         0\n",
              "1      85.0   516.75      56.0  22696.96         0\n",
              "2      77.0   467.66      86.0  21060.45         0\n",
              "3     106.0   745.53      81.0   8437.39         1\n",
              "4      66.0   418.74       1.0  14502.75         0\n",
              "...     ...      ...       ...       ...       ...\n",
              "3209  122.0   910.98      20.0  35124.90         1\n",
              "3210   25.0   190.36       0.0   3275.61         0\n",
              "3211   97.0   634.44      70.0  13974.06         0\n",
              "3212   64.0   462.32      90.0  31239.78         0\n",
              "3213   80.0   566.09       6.0  29480.52         1\n",
              "\n",
              "[3214 rows x 5 columns]"
            ]
          },
          "execution_count": 2,
          "metadata": {},
          "output_type": "execute_result"
        }
      ],
      "source": [
        "df = pd.read_csv('/datasets/users_behavior.csv')\n",
        "df"
      ]
    },
    {
      "cell_type": "code",
      "execution_count": null,
      "metadata": {
        "id": "8aLBegCncw_F",
        "outputId": "8b3ee0a6-d2dd-4a14-e85f-747ad37bcaa7"
      },
      "outputs": [
        {
          "name": "stdout",
          "output_type": "stream",
          "text": [
            "<class 'pandas.core.frame.DataFrame'>\n",
            "RangeIndex: 3214 entries, 0 to 3213\n",
            "Data columns (total 5 columns):\n",
            " #   Column    Non-Null Count  Dtype  \n",
            "---  ------    --------------  -----  \n",
            " 0   calls     3214 non-null   float64\n",
            " 1   minutes   3214 non-null   float64\n",
            " 2   messages  3214 non-null   float64\n",
            " 3   mb_used   3214 non-null   float64\n",
            " 4   is_ultra  3214 non-null   int64  \n",
            "dtypes: float64(4), int64(1)\n",
            "memory usage: 125.7 KB\n"
          ]
        }
      ],
      "source": [
        "df.info()"
      ]
    },
    {
      "cell_type": "code",
      "execution_count": null,
      "metadata": {
        "scrolled": true,
        "id": "W_LPiUgmcw_G",
        "outputId": "5195e395-034a-469d-ce94-c0d7bc69b950"
      },
      "outputs": [
        {
          "data": {
            "text/plain": [
              "calls       0\n",
              "minutes     0\n",
              "messages    0\n",
              "mb_used     0\n",
              "is_ultra    0\n",
              "dtype: int64"
            ]
          },
          "execution_count": 4,
          "metadata": {},
          "output_type": "execute_result"
        }
      ],
      "source": [
        "df.isna().sum()"
      ]
    },
    {
      "cell_type": "markdown",
      "metadata": {
        "id": "K_lTDVeCcw_G"
      },
      "source": [
        "Проверили данные на пропуски, дополнительная предобработка не требуется."
      ]
    },
    {
      "cell_type": "markdown",
      "metadata": {
        "id": "t-hQxRzxcw_G"
      },
      "source": [
        "<div class=\"alert alert-info\">\n",
        "Привет Марат, будет здорово, если сбросишь ссылки где это можно почитать."
      ]
    },
    {
      "cell_type": "markdown",
      "metadata": {
        "id": "twkjk6iAcw_H"
      },
      "source": [
        "## Разбейте данные на выборки"
      ]
    },
    {
      "cell_type": "markdown",
      "metadata": {
        "id": "9I7KghZXcw_H"
      },
      "source": [
        "*Разделим выборку на обучающую, валидационную и тестовую в соотношении 3:1:1*"
      ]
    },
    {
      "cell_type": "code",
      "execution_count": null,
      "metadata": {
        "id": "4OiceSKXcw_H"
      },
      "outputs": [],
      "source": [
        "df_train,df_dol = train_test_split(df,test_size = 0.4,random_state = 12345)#Отдаем 60 процентов обучающей выборке"
      ]
    },
    {
      "cell_type": "code",
      "execution_count": null,
      "metadata": {
        "id": "O7STXeQFcw_H"
      },
      "outputs": [],
      "source": [
        "df_valid,df_test  = train_test_split(df_dol,test_size = 0.5,random_state = 12345)#оставшиеся 40 процентов данных делим между\n",
        "#валидационной выборкой и тестовой"
      ]
    },
    {
      "cell_type": "markdown",
      "metadata": {
        "id": "1PN4kkIHcw_H"
      },
      "source": [
        "Ниже проверяем как распределились данные"
      ]
    },
    {
      "cell_type": "code",
      "execution_count": null,
      "metadata": {
        "id": "03zk1K6ccw_H",
        "outputId": "e3dab8ec-a81b-4877-83eb-ba2f1c053e90"
      },
      "outputs": [
        {
          "data": {
            "text/html": [
              "<div>\n",
              "<style scoped>\n",
              "    .dataframe tbody tr th:only-of-type {\n",
              "        vertical-align: middle;\n",
              "    }\n",
              "\n",
              "    .dataframe tbody tr th {\n",
              "        vertical-align: top;\n",
              "    }\n",
              "\n",
              "    .dataframe thead th {\n",
              "        text-align: right;\n",
              "    }\n",
              "</style>\n",
              "<table border=\"1\" class=\"dataframe\">\n",
              "  <thead>\n",
              "    <tr style=\"text-align: right;\">\n",
              "      <th></th>\n",
              "      <th>calls</th>\n",
              "      <th>minutes</th>\n",
              "      <th>messages</th>\n",
              "      <th>mb_used</th>\n",
              "      <th>is_ultra</th>\n",
              "    </tr>\n",
              "  </thead>\n",
              "  <tbody>\n",
              "    <tr>\n",
              "      <th>3027</th>\n",
              "      <td>60.0</td>\n",
              "      <td>431.56</td>\n",
              "      <td>26.0</td>\n",
              "      <td>14751.26</td>\n",
              "      <td>0</td>\n",
              "    </tr>\n",
              "    <tr>\n",
              "      <th>434</th>\n",
              "      <td>33.0</td>\n",
              "      <td>265.17</td>\n",
              "      <td>59.0</td>\n",
              "      <td>17398.02</td>\n",
              "      <td>0</td>\n",
              "    </tr>\n",
              "    <tr>\n",
              "      <th>1226</th>\n",
              "      <td>52.0</td>\n",
              "      <td>341.83</td>\n",
              "      <td>68.0</td>\n",
              "      <td>15462.38</td>\n",
              "      <td>0</td>\n",
              "    </tr>\n",
              "    <tr>\n",
              "      <th>1054</th>\n",
              "      <td>42.0</td>\n",
              "      <td>226.18</td>\n",
              "      <td>21.0</td>\n",
              "      <td>13243.48</td>\n",
              "      <td>0</td>\n",
              "    </tr>\n",
              "    <tr>\n",
              "      <th>1842</th>\n",
              "      <td>30.0</td>\n",
              "      <td>198.42</td>\n",
              "      <td>0.0</td>\n",
              "      <td>8189.53</td>\n",
              "      <td>0</td>\n",
              "    </tr>\n",
              "    <tr>\n",
              "      <th>...</th>\n",
              "      <td>...</td>\n",
              "      <td>...</td>\n",
              "      <td>...</td>\n",
              "      <td>...</td>\n",
              "      <td>...</td>\n",
              "    </tr>\n",
              "    <tr>\n",
              "      <th>2817</th>\n",
              "      <td>12.0</td>\n",
              "      <td>86.62</td>\n",
              "      <td>22.0</td>\n",
              "      <td>36628.85</td>\n",
              "      <td>1</td>\n",
              "    </tr>\n",
              "    <tr>\n",
              "      <th>546</th>\n",
              "      <td>65.0</td>\n",
              "      <td>458.46</td>\n",
              "      <td>0.0</td>\n",
              "      <td>15214.25</td>\n",
              "      <td>1</td>\n",
              "    </tr>\n",
              "    <tr>\n",
              "      <th>382</th>\n",
              "      <td>144.0</td>\n",
              "      <td>906.18</td>\n",
              "      <td>0.0</td>\n",
              "      <td>25002.44</td>\n",
              "      <td>1</td>\n",
              "    </tr>\n",
              "    <tr>\n",
              "      <th>2177</th>\n",
              "      <td>38.0</td>\n",
              "      <td>301.27</td>\n",
              "      <td>37.0</td>\n",
              "      <td>28914.24</td>\n",
              "      <td>1</td>\n",
              "    </tr>\n",
              "    <tr>\n",
              "      <th>482</th>\n",
              "      <td>160.0</td>\n",
              "      <td>1084.05</td>\n",
              "      <td>95.0</td>\n",
              "      <td>36843.92</td>\n",
              "      <td>1</td>\n",
              "    </tr>\n",
              "  </tbody>\n",
              "</table>\n",
              "<p>1928 rows × 5 columns</p>\n",
              "</div>"
            ],
            "text/plain": [
              "      calls  minutes  messages   mb_used  is_ultra\n",
              "3027   60.0   431.56      26.0  14751.26         0\n",
              "434    33.0   265.17      59.0  17398.02         0\n",
              "1226   52.0   341.83      68.0  15462.38         0\n",
              "1054   42.0   226.18      21.0  13243.48         0\n",
              "1842   30.0   198.42       0.0   8189.53         0\n",
              "...     ...      ...       ...       ...       ...\n",
              "2817   12.0    86.62      22.0  36628.85         1\n",
              "546    65.0   458.46       0.0  15214.25         1\n",
              "382   144.0   906.18       0.0  25002.44         1\n",
              "2177   38.0   301.27      37.0  28914.24         1\n",
              "482   160.0  1084.05      95.0  36843.92         1\n",
              "\n",
              "[1928 rows x 5 columns]"
            ]
          },
          "execution_count": 7,
          "metadata": {},
          "output_type": "execute_result"
        }
      ],
      "source": [
        "df_train"
      ]
    },
    {
      "cell_type": "code",
      "execution_count": null,
      "metadata": {
        "id": "YtzD9V4_cw_H",
        "outputId": "4f93c4a2-4b7f-4140-8dcd-bf544dd399ab"
      },
      "outputs": [
        {
          "data": {
            "text/html": [
              "<div>\n",
              "<style scoped>\n",
              "    .dataframe tbody tr th:only-of-type {\n",
              "        vertical-align: middle;\n",
              "    }\n",
              "\n",
              "    .dataframe tbody tr th {\n",
              "        vertical-align: top;\n",
              "    }\n",
              "\n",
              "    .dataframe thead th {\n",
              "        text-align: right;\n",
              "    }\n",
              "</style>\n",
              "<table border=\"1\" class=\"dataframe\">\n",
              "  <thead>\n",
              "    <tr style=\"text-align: right;\">\n",
              "      <th></th>\n",
              "      <th>calls</th>\n",
              "      <th>minutes</th>\n",
              "      <th>messages</th>\n",
              "      <th>mb_used</th>\n",
              "      <th>is_ultra</th>\n",
              "    </tr>\n",
              "  </thead>\n",
              "  <tbody>\n",
              "    <tr>\n",
              "      <th>1386</th>\n",
              "      <td>92.0</td>\n",
              "      <td>536.96</td>\n",
              "      <td>18.0</td>\n",
              "      <td>20193.90</td>\n",
              "      <td>0</td>\n",
              "    </tr>\n",
              "    <tr>\n",
              "      <th>3124</th>\n",
              "      <td>40.0</td>\n",
              "      <td>286.57</td>\n",
              "      <td>17.0</td>\n",
              "      <td>17918.75</td>\n",
              "      <td>0</td>\n",
              "    </tr>\n",
              "    <tr>\n",
              "      <th>1956</th>\n",
              "      <td>81.0</td>\n",
              "      <td>531.22</td>\n",
              "      <td>56.0</td>\n",
              "      <td>17755.06</td>\n",
              "      <td>0</td>\n",
              "    </tr>\n",
              "    <tr>\n",
              "      <th>2286</th>\n",
              "      <td>67.0</td>\n",
              "      <td>460.76</td>\n",
              "      <td>27.0</td>\n",
              "      <td>16626.26</td>\n",
              "      <td>0</td>\n",
              "    </tr>\n",
              "    <tr>\n",
              "      <th>3077</th>\n",
              "      <td>22.0</td>\n",
              "      <td>120.09</td>\n",
              "      <td>16.0</td>\n",
              "      <td>9039.57</td>\n",
              "      <td>0</td>\n",
              "    </tr>\n",
              "    <tr>\n",
              "      <th>...</th>\n",
              "      <td>...</td>\n",
              "      <td>...</td>\n",
              "      <td>...</td>\n",
              "      <td>...</td>\n",
              "      <td>...</td>\n",
              "    </tr>\n",
              "    <tr>\n",
              "      <th>1999</th>\n",
              "      <td>56.0</td>\n",
              "      <td>398.45</td>\n",
              "      <td>4.0</td>\n",
              "      <td>23682.94</td>\n",
              "      <td>0</td>\n",
              "    </tr>\n",
              "    <tr>\n",
              "      <th>1023</th>\n",
              "      <td>76.0</td>\n",
              "      <td>601.10</td>\n",
              "      <td>0.0</td>\n",
              "      <td>17104.36</td>\n",
              "      <td>0</td>\n",
              "    </tr>\n",
              "    <tr>\n",
              "      <th>748</th>\n",
              "      <td>81.0</td>\n",
              "      <td>525.97</td>\n",
              "      <td>15.0</td>\n",
              "      <td>18878.91</td>\n",
              "      <td>0</td>\n",
              "    </tr>\n",
              "    <tr>\n",
              "      <th>1667</th>\n",
              "      <td>10.0</td>\n",
              "      <td>63.03</td>\n",
              "      <td>0.0</td>\n",
              "      <td>2568.00</td>\n",
              "      <td>1</td>\n",
              "    </tr>\n",
              "    <tr>\n",
              "      <th>3197</th>\n",
              "      <td>89.0</td>\n",
              "      <td>660.72</td>\n",
              "      <td>68.0</td>\n",
              "      <td>11711.54</td>\n",
              "      <td>0</td>\n",
              "    </tr>\n",
              "  </tbody>\n",
              "</table>\n",
              "<p>643 rows × 5 columns</p>\n",
              "</div>"
            ],
            "text/plain": [
              "      calls  minutes  messages   mb_used  is_ultra\n",
              "1386   92.0   536.96      18.0  20193.90         0\n",
              "3124   40.0   286.57      17.0  17918.75         0\n",
              "1956   81.0   531.22      56.0  17755.06         0\n",
              "2286   67.0   460.76      27.0  16626.26         0\n",
              "3077   22.0   120.09      16.0   9039.57         0\n",
              "...     ...      ...       ...       ...       ...\n",
              "1999   56.0   398.45       4.0  23682.94         0\n",
              "1023   76.0   601.10       0.0  17104.36         0\n",
              "748    81.0   525.97      15.0  18878.91         0\n",
              "1667   10.0    63.03       0.0   2568.00         1\n",
              "3197   89.0   660.72      68.0  11711.54         0\n",
              "\n",
              "[643 rows x 5 columns]"
            ]
          },
          "execution_count": 8,
          "metadata": {},
          "output_type": "execute_result"
        }
      ],
      "source": [
        "df_valid"
      ]
    },
    {
      "cell_type": "code",
      "execution_count": null,
      "metadata": {
        "id": "z56qBGvWcw_I",
        "outputId": "cfa7e1b0-edb3-49c7-a91c-7db45528748a"
      },
      "outputs": [
        {
          "data": {
            "text/html": [
              "<div>\n",
              "<style scoped>\n",
              "    .dataframe tbody tr th:only-of-type {\n",
              "        vertical-align: middle;\n",
              "    }\n",
              "\n",
              "    .dataframe tbody tr th {\n",
              "        vertical-align: top;\n",
              "    }\n",
              "\n",
              "    .dataframe thead th {\n",
              "        text-align: right;\n",
              "    }\n",
              "</style>\n",
              "<table border=\"1\" class=\"dataframe\">\n",
              "  <thead>\n",
              "    <tr style=\"text-align: right;\">\n",
              "      <th></th>\n",
              "      <th>calls</th>\n",
              "      <th>minutes</th>\n",
              "      <th>messages</th>\n",
              "      <th>mb_used</th>\n",
              "      <th>is_ultra</th>\n",
              "    </tr>\n",
              "  </thead>\n",
              "  <tbody>\n",
              "    <tr>\n",
              "      <th>160</th>\n",
              "      <td>61.0</td>\n",
              "      <td>495.11</td>\n",
              "      <td>8.0</td>\n",
              "      <td>10891.23</td>\n",
              "      <td>0</td>\n",
              "    </tr>\n",
              "    <tr>\n",
              "      <th>2498</th>\n",
              "      <td>80.0</td>\n",
              "      <td>555.04</td>\n",
              "      <td>28.0</td>\n",
              "      <td>28083.58</td>\n",
              "      <td>0</td>\n",
              "    </tr>\n",
              "    <tr>\n",
              "      <th>1748</th>\n",
              "      <td>87.0</td>\n",
              "      <td>697.23</td>\n",
              "      <td>0.0</td>\n",
              "      <td>8335.70</td>\n",
              "      <td>0</td>\n",
              "    </tr>\n",
              "    <tr>\n",
              "      <th>1816</th>\n",
              "      <td>41.0</td>\n",
              "      <td>275.80</td>\n",
              "      <td>9.0</td>\n",
              "      <td>10032.39</td>\n",
              "      <td>0</td>\n",
              "    </tr>\n",
              "    <tr>\n",
              "      <th>1077</th>\n",
              "      <td>60.0</td>\n",
              "      <td>428.49</td>\n",
              "      <td>20.0</td>\n",
              "      <td>29389.52</td>\n",
              "      <td>1</td>\n",
              "    </tr>\n",
              "    <tr>\n",
              "      <th>...</th>\n",
              "      <td>...</td>\n",
              "      <td>...</td>\n",
              "      <td>...</td>\n",
              "      <td>...</td>\n",
              "      <td>...</td>\n",
              "    </tr>\n",
              "    <tr>\n",
              "      <th>2401</th>\n",
              "      <td>55.0</td>\n",
              "      <td>446.06</td>\n",
              "      <td>79.0</td>\n",
              "      <td>26526.28</td>\n",
              "      <td>0</td>\n",
              "    </tr>\n",
              "    <tr>\n",
              "      <th>2928</th>\n",
              "      <td>102.0</td>\n",
              "      <td>742.65</td>\n",
              "      <td>58.0</td>\n",
              "      <td>16089.24</td>\n",
              "      <td>1</td>\n",
              "    </tr>\n",
              "    <tr>\n",
              "      <th>1985</th>\n",
              "      <td>52.0</td>\n",
              "      <td>349.94</td>\n",
              "      <td>42.0</td>\n",
              "      <td>12150.72</td>\n",
              "      <td>0</td>\n",
              "    </tr>\n",
              "    <tr>\n",
              "      <th>357</th>\n",
              "      <td>39.0</td>\n",
              "      <td>221.18</td>\n",
              "      <td>59.0</td>\n",
              "      <td>17865.23</td>\n",
              "      <td>0</td>\n",
              "    </tr>\n",
              "    <tr>\n",
              "      <th>2313</th>\n",
              "      <td>40.0</td>\n",
              "      <td>301.03</td>\n",
              "      <td>102.0</td>\n",
              "      <td>6057.63</td>\n",
              "      <td>0</td>\n",
              "    </tr>\n",
              "  </tbody>\n",
              "</table>\n",
              "<p>643 rows × 5 columns</p>\n",
              "</div>"
            ],
            "text/plain": [
              "      calls  minutes  messages   mb_used  is_ultra\n",
              "160    61.0   495.11       8.0  10891.23         0\n",
              "2498   80.0   555.04      28.0  28083.58         0\n",
              "1748   87.0   697.23       0.0   8335.70         0\n",
              "1816   41.0   275.80       9.0  10032.39         0\n",
              "1077   60.0   428.49      20.0  29389.52         1\n",
              "...     ...      ...       ...       ...       ...\n",
              "2401   55.0   446.06      79.0  26526.28         0\n",
              "2928  102.0   742.65      58.0  16089.24         1\n",
              "1985   52.0   349.94      42.0  12150.72         0\n",
              "357    39.0   221.18      59.0  17865.23         0\n",
              "2313   40.0   301.03     102.0   6057.63         0\n",
              "\n",
              "[643 rows x 5 columns]"
            ]
          },
          "execution_count": 9,
          "metadata": {},
          "output_type": "execute_result"
        }
      ],
      "source": [
        "df_test"
      ]
    },
    {
      "cell_type": "markdown",
      "metadata": {
        "id": "CyJDj9zTcw_I"
      },
      "source": [
        "## Исследуйте модели"
      ]
    },
    {
      "cell_type": "code",
      "execution_count": null,
      "metadata": {
        "id": "AOOnaQHUcw_I",
        "outputId": "05ed17ec-b5d0-41f0-b3f8-bf754a25ea07"
      },
      "outputs": [
        {
          "name": "stdout",
          "output_type": "stream",
          "text": [
            "max_depth 1 0.7542768273716952\n",
            "max_depth 2 0.7822706065318819\n",
            "max_depth 3 0.7853810264385692\n",
            "max_depth 4 0.7791601866251944\n",
            "max_depth 5 0.7791601866251944\n"
          ]
        }
      ],
      "source": [
        "#Исследуем решающее дерево\n",
        "features_train = df_train.drop(['is_ultra'], axis=1)\n",
        "target_train = df_train['is_ultra']\n",
        "features_valid = df_valid.drop(['is_ultra'], axis=1)\n",
        "target_valid = df_valid['is_ultra']\n",
        "max_depth = []\n",
        "accuracy = []\n",
        "for depth in range(1,6):\n",
        "    model = DecisionTreeClassifier(random_state = 12345,max_depth = depth)\n",
        "    model.fit(features_train,target_train)\n",
        "    predictions_valid = model.predict(features_valid)\n",
        "    max_depth.append(depth)\n",
        "    accuracy.append(accuracy_score(target_valid, predictions_valid))\n",
        "    print('max_depth', depth,accuracy_score(target_valid, predictions_valid))\n"
      ]
    },
    {
      "cell_type": "markdown",
      "metadata": {
        "id": "DYZFqyuhcw_I"
      },
      "source": [
        "Исходя из тестов видим, что лучшее accuracy имеет модель с максимальной глубиной 2 и 3"
      ]
    },
    {
      "cell_type": "code",
      "execution_count": null,
      "metadata": {
        "scrolled": true,
        "id": "rx1GRbs7cw_J",
        "outputId": "1dae4dbd-4373-4700-e3e3-9cacbc963349"
      },
      "outputs": [
        {
          "data": {
            "image/png": "[encoded data removed]",
            "text/plain": [
              "<Figure size 432x288 with 1 Axes>"
            ]
          },
          "metadata": {
            "needs_background": "light"
          },
          "output_type": "display_data"
        }
      ],
      "source": [
        "\n",
        "plt.plot(max_depth,accuracy)\n",
        "plt.title('Влияние глубины на точность')\n",
        "plt.xlabel('Глубина')\n",
        "plt.ylabel('Точность')\n",
        "plt.show()"
      ]
    },
    {
      "cell_type": "code",
      "execution_count": null,
      "metadata": {
        "id": "PHzeicJFcw_J",
        "outputId": "68dce157-e0cd-4a64-92f6-be60325cd84d"
      },
      "outputs": [
        {
          "name": "stdout",
          "output_type": "stream",
          "text": [
            "Глубина дерева: 7     Количество деревьев: 26   Качество: 0.807153965785381\n"
          ]
        }
      ],
      "source": [
        "#Исследуем случайный лес\n",
        "best_accuracy = 0\n",
        "best_depth = 0\n",
        "for est in range(1,100,5):\n",
        "    for depth in range(1,10):\n",
        "        model = RandomForestClassifier(random_state=12345, n_estimators=est,max_depth=depth)\n",
        "        model.fit(features_train,target_train)\n",
        "        result = model.predict(features_valid)\n",
        "        accuracy = model.score(features_valid, target_valid)\n",
        "        if accuracy > best_accuracy:\n",
        "                best_accuracy = accuracyм\n",
        "                best_depth = depth\n",
        "                best_est = est\n",
        "print(\"Глубина дерева:\", best_depth, \"Количество деревьев:\", best_est, \"Качество:\", best_accuracy)\n",
        "\n",
        ""
      ]
    },
    {
      "cell_type": "markdown",
      "metadata": {
        "id": "-2F96Dd5cw_J"
      },
      "source": [
        "При протестированных  значениях n_estimators(кол-ва деревьев) и глубина(max_depth) лучшие показатели accuracy = 0.80\n",
        "при параметрах: глубина = 7,кол-во деревьев = 26"
      ]
    },
    {
      "cell_type": "markdown",
      "metadata": {
        "id": "7EuR3ZCQcw_K"
      },
      "source": [
        "<div class=\"alert alert-info\">\n",
        "Добавил второй цикл, для гиперпараметра max_depth, метрики улучшились"
      ]
    },
    {
      "cell_type": "code",
      "execution_count": null,
      "metadata": {
        "id": "CX1WyvPrcw_K",
        "outputId": "926a94fa-291a-4d3b-ab0e-d9f0673306d0"
      },
      "outputs": [
        {
          "name": "stdout",
          "output_type": "stream",
          "text": [
            "accuracy =  0.7107309486780715\n"
          ]
        }
      ],
      "source": [
        "#Исследуем логистическую регрессию\n",
        "model = LogisticRegression(random_state=12345, solver='lbfgs', max_iter=1000)\n",
        "model.fit(features_train,target_train)\n",
        "logistic_result = model.predict(features_valid)\n",
        "print('accuracy = ', accuracy_score(target_valid, logistic_result))\n"
      ]
    },
    {
      "cell_type": "markdown",
      "metadata": {
        "id": "FlPDSCBFcw_M"
      },
      "source": [
        "Логистическая регрессия показывает самый низкий accuracy среди моделей"
      ]
    },
    {
      "cell_type": "markdown",
      "metadata": {
        "id": "rd-BudzDcw_M"
      },
      "source": [
        "В результате тестирования на валидной выборке лидерами по показателю точности является случайный лес и решающее дерево. Логистическая регрессия имеет самый низкий показатель точности."
      ]
    },
    {
      "cell_type": "markdown",
      "metadata": {
        "id": "TjZQEYDtcw_N"
      },
      "source": [
        "## Проверьте модель на тестовой выборке"
      ]
    },
    {
      "cell_type": "markdown",
      "metadata": {
        "id": "hbxMnIlacw_N"
      },
      "source": [
        "Подставляем самые удачные гиперпараметры и проверяем на тестовых данных"
      ]
    },
    {
      "cell_type": "code",
      "execution_count": null,
      "metadata": {
        "id": "5Zof-CQVcw_N",
        "outputId": "ceee6226-7541-47df-ff2c-71c35ddf2c26"
      },
      "outputs": [
        {
          "name": "stdout",
          "output_type": "stream",
          "text": [
            "Accuricy = 0.80248833592535\n"
          ]
        }
      ],
      "source": [
        "#Проверяем случайный лес\n",
        "model = RandomForestClassifier(random_state=12345, n_estimators=26,max_depth=7)\n",
        "model.fit(features_train,target_train)\n",
        "result_test = model.predict(features_test)\n",
        "print('Accuricy =',accuracy_score(target_test, result_test))"
      ]
    },
    {
      "cell_type": "markdown",
      "metadata": {
        "id": "LVYLI4P-cw_N"
      },
      "source": [
        "При проверке случайного леса на тестовой выборке,видим что качество метрики не упало и равняется 0.80"
      ]
    },
    {
      "cell_type": "markdown",
      "metadata": {
        "id": "QztQ_I_jcw_O"
      },
      "source": [
        "Для проверке модели на адекватность будем использовать DummyClassifier"
      ]
    },
    {
      "cell_type": "code",
      "execution_count": null,
      "metadata": {
        "id": "mLBN0vEncw_O",
        "outputId": "a646d880-8266-495a-f48a-2d67cdd0ea9f"
      },
      "outputs": [
        {
          "name": "stdout",
          "output_type": "stream",
          "text": [
            "Accuricy = 0.6842923794712286\n"
          ]
        }
      ],
      "source": [
        "dummy_clf = DummyClassifier(strategy=\"most_frequent\", random_state=12345)\n",
        "\n",
        "dummy_clf.fit(features_train,target_train)\n",
        "\n",
        "print('Accuricy =',dummy_clf.score(features_test, target_test))"
      ]
    },
    {
      "cell_type": "markdown",
      "metadata": {
        "id": "S7YvzROgcw_P"
      },
      "source": [
        "***Общие выводы:\n",
        "Было протестированны 3 модели(случайный лес, решающее дерево.логистическая регрессия)\n",
        "В результате тестов выяснили, что наилучшие показатели имеет случайный лес 0.80, при показатели n_estimators=26 и max_depth=7,\n",
        "В след по точности идет решающее дерево 0.78 при показатели max_depth=3.\n",
        "Логистическая регрессия имеет самый низкий показатель точности и не проходит проверку на адекватность, показатель accuracy равен\n",
        "показателю точности простого метода DummyClassifier.\n",
        "В работе необходимо использовать случайный лес в виду высокого показателя точности.***"
      ]
    }
  ],
  "metadata": {
    "ExecuteTimeLog": [
      {
        "duration": 49,
        "start_time": "2023-03-18T11:28:18.073Z"
      },
      {
        "duration": 428,
        "start_time": "2023-03-18T11:28:25.470Z"
      },
      {
        "duration": 139,
        "start_time": "2023-03-18T11:28:27.830Z"
      },
      {
        "duration": 11,
        "start_time": "2023-03-18T11:30:32.830Z"
      },
      {
        "duration": 31,
        "start_time": "2023-03-18T11:31:00.925Z"
      },
      {
        "duration": 6,
        "start_time": "2023-03-18T11:31:06.126Z"
      },
      {
        "duration": 7,
        "start_time": "2023-03-18T12:08:29.257Z"
      },
      {
        "duration": 766,
        "start_time": "2023-03-18T12:08:35.822Z"
      },
      {
        "duration": 39,
        "start_time": "2023-03-18T12:08:37.728Z"
      },
      {
        "duration": 41,
        "start_time": "2023-03-18T12:08:41.834Z"
      },
      {
        "duration": 6,
        "start_time": "2023-03-18T12:09:02.170Z"
      },
      {
        "duration": 5,
        "start_time": "2023-03-18T12:10:08.928Z"
      },
      {
        "duration": 13,
        "start_time": "2023-03-18T12:10:35.339Z"
      },
      {
        "duration": 4,
        "start_time": "2023-03-18T12:11:16.782Z"
      },
      {
        "duration": 5,
        "start_time": "2023-03-18T12:11:58.027Z"
      },
      {
        "duration": 14,
        "start_time": "2023-03-18T12:12:13.031Z"
      },
      {
        "duration": 12,
        "start_time": "2023-03-18T12:12:18.769Z"
      },
      {
        "duration": 13,
        "start_time": "2023-03-18T12:12:29.510Z"
      },
      {
        "duration": 5,
        "start_time": "2023-03-18T12:17:13.582Z"
      },
      {
        "duration": 6,
        "start_time": "2023-03-18T12:17:51.164Z"
      },
      {
        "duration": 19,
        "start_time": "2023-03-18T12:17:53.346Z"
      },
      {
        "duration": 13,
        "start_time": "2023-03-18T12:17:57.173Z"
      },
      {
        "duration": 13,
        "start_time": "2023-03-18T12:17:59.252Z"
      },
      {
        "duration": 1180,
        "start_time": "2023-03-18T12:26:28.808Z"
      },
      {
        "duration": 47,
        "start_time": "2023-03-18T12:26:29.990Z"
      },
      {
        "duration": 12,
        "start_time": "2023-03-18T12:26:30.039Z"
      },
      {
        "duration": 14,
        "start_time": "2023-03-18T12:26:30.052Z"
      },
      {
        "duration": 7,
        "start_time": "2023-03-18T12:26:30.068Z"
      },
      {
        "duration": 11,
        "start_time": "2023-03-18T12:26:30.076Z"
      },
      {
        "duration": 14,
        "start_time": "2023-03-18T12:26:30.089Z"
      },
      {
        "duration": 17,
        "start_time": "2023-03-18T12:26:30.105Z"
      },
      {
        "duration": 21,
        "start_time": "2023-03-18T12:26:30.124Z"
      },
      {
        "duration": 1083,
        "start_time": "2023-03-18T12:27:44.544Z"
      },
      {
        "duration": 49,
        "start_time": "2023-03-18T12:27:45.629Z"
      },
      {
        "duration": 9,
        "start_time": "2023-03-18T12:27:45.680Z"
      },
      {
        "duration": 10,
        "start_time": "2023-03-18T12:27:45.691Z"
      },
      {
        "duration": 6,
        "start_time": "2023-03-18T12:27:45.702Z"
      },
      {
        "duration": 6,
        "start_time": "2023-03-18T12:27:45.710Z"
      },
      {
        "duration": 14,
        "start_time": "2023-03-18T12:27:45.718Z"
      },
      {
        "duration": 13,
        "start_time": "2023-03-18T12:27:45.734Z"
      },
      {
        "duration": 13,
        "start_time": "2023-03-18T12:27:45.749Z"
      },
      {
        "duration": 4,
        "start_time": "2023-03-18T12:45:18.419Z"
      },
      {
        "duration": 12,
        "start_time": "2023-03-18T12:45:32.037Z"
      },
      {
        "duration": 5,
        "start_time": "2023-03-18T12:45:40.089Z"
      },
      {
        "duration": 1013,
        "start_time": "2023-03-18T12:55:02.644Z"
      },
      {
        "duration": 71,
        "start_time": "2023-03-18T12:55:38.093Z"
      },
      {
        "duration": 99,
        "start_time": "2023-03-18T12:55:47.136Z"
      },
      {
        "duration": 1139,
        "start_time": "2023-03-18T12:55:56.047Z"
      },
      {
        "duration": 48,
        "start_time": "2023-03-18T12:55:57.189Z"
      },
      {
        "duration": 14,
        "start_time": "2023-03-18T12:55:57.239Z"
      },
      {
        "duration": 16,
        "start_time": "2023-03-18T12:55:57.255Z"
      },
      {
        "duration": 5,
        "start_time": "2023-03-18T12:55:57.274Z"
      },
      {
        "duration": 6,
        "start_time": "2023-03-18T12:55:57.280Z"
      },
      {
        "duration": 14,
        "start_time": "2023-03-18T12:55:57.288Z"
      },
      {
        "duration": 15,
        "start_time": "2023-03-18T12:55:57.304Z"
      },
      {
        "duration": 13,
        "start_time": "2023-03-18T12:55:57.322Z"
      },
      {
        "duration": 117,
        "start_time": "2023-03-18T12:55:57.337Z"
      },
      {
        "duration": 12,
        "start_time": "2023-03-18T12:56:02.223Z"
      },
      {
        "duration": 33,
        "start_time": "2023-03-18T12:57:24.107Z"
      },
      {
        "duration": 92,
        "start_time": "2023-03-18T12:58:19.949Z"
      },
      {
        "duration": 80,
        "start_time": "2023-03-18T12:58:56.416Z"
      },
      {
        "duration": 33,
        "start_time": "2023-03-18T12:59:26.016Z"
      },
      {
        "duration": 45,
        "start_time": "2023-03-18T12:59:43.446Z"
      },
      {
        "duration": 33,
        "start_time": "2023-03-18T12:59:50.279Z"
      },
      {
        "duration": 36,
        "start_time": "2023-03-18T13:00:00.022Z"
      },
      {
        "duration": 1219,
        "start_time": "2023-03-18T13:10:40.463Z"
      },
      {
        "duration": 0,
        "start_time": "2023-03-18T13:10:41.685Z"
      },
      {
        "duration": 0,
        "start_time": "2023-03-18T13:10:41.687Z"
      },
      {
        "duration": 0,
        "start_time": "2023-03-18T13:10:41.688Z"
      },
      {
        "duration": 0,
        "start_time": "2023-03-18T13:10:41.690Z"
      },
      {
        "duration": 0,
        "start_time": "2023-03-18T13:10:41.691Z"
      },
      {
        "duration": 0,
        "start_time": "2023-03-18T13:10:41.693Z"
      },
      {
        "duration": 0,
        "start_time": "2023-03-18T13:10:41.694Z"
      },
      {
        "duration": 0,
        "start_time": "2023-03-18T13:10:41.696Z"
      },
      {
        "duration": 0,
        "start_time": "2023-03-18T13:10:41.697Z"
      },
      {
        "duration": 0,
        "start_time": "2023-03-18T13:10:41.698Z"
      },
      {
        "duration": 1428,
        "start_time": "2023-03-18T17:25:13.819Z"
      },
      {
        "duration": 0,
        "start_time": "2023-03-18T17:25:15.250Z"
      },
      {
        "duration": 0,
        "start_time": "2023-03-18T17:25:15.251Z"
      },
      {
        "duration": 0,
        "start_time": "2023-03-18T17:25:15.252Z"
      },
      {
        "duration": 0,
        "start_time": "2023-03-18T17:25:15.254Z"
      },
      {
        "duration": 0,
        "start_time": "2023-03-18T17:25:15.255Z"
      },
      {
        "duration": 0,
        "start_time": "2023-03-18T17:25:15.256Z"
      },
      {
        "duration": 0,
        "start_time": "2023-03-18T17:25:15.256Z"
      },
      {
        "duration": 0,
        "start_time": "2023-03-18T17:25:15.257Z"
      },
      {
        "duration": 0,
        "start_time": "2023-03-18T17:25:15.260Z"
      },
      {
        "duration": 0,
        "start_time": "2023-03-18T17:25:15.261Z"
      },
      {
        "duration": 72,
        "start_time": "2023-03-18T17:31:39.619Z"
      },
      {
        "duration": 1332,
        "start_time": "2023-03-18T17:31:51.433Z"
      },
      {
        "duration": 0,
        "start_time": "2023-03-18T17:31:52.767Z"
      },
      {
        "duration": 0,
        "start_time": "2023-03-18T17:31:52.769Z"
      },
      {
        "duration": 0,
        "start_time": "2023-03-18T17:31:52.770Z"
      },
      {
        "duration": 0,
        "start_time": "2023-03-18T17:31:52.772Z"
      },
      {
        "duration": 0,
        "start_time": "2023-03-18T17:31:52.773Z"
      },
      {
        "duration": 0,
        "start_time": "2023-03-18T17:31:52.774Z"
      },
      {
        "duration": 0,
        "start_time": "2023-03-18T17:31:52.776Z"
      },
      {
        "duration": 0,
        "start_time": "2023-03-18T17:31:52.792Z"
      },
      {
        "duration": 0,
        "start_time": "2023-03-18T17:31:52.793Z"
      },
      {
        "duration": 0,
        "start_time": "2023-03-18T17:31:52.794Z"
      },
      {
        "duration": 5,
        "start_time": "2023-03-18T17:32:48.920Z"
      },
      {
        "duration": 1242,
        "start_time": "2023-03-18T17:32:54.422Z"
      },
      {
        "duration": 72,
        "start_time": "2023-03-18T17:32:55.666Z"
      },
      {
        "duration": 12,
        "start_time": "2023-03-18T17:32:55.740Z"
      },
      {
        "duration": 8,
        "start_time": "2023-03-18T17:32:55.754Z"
      },
      {
        "duration": 8,
        "start_time": "2023-03-18T17:32:55.764Z"
      },
      {
        "duration": 13,
        "start_time": "2023-03-18T17:32:55.774Z"
      },
      {
        "duration": 35,
        "start_time": "2023-03-18T17:32:55.788Z"
      },
      {
        "duration": 21,
        "start_time": "2023-03-18T17:32:55.824Z"
      },
      {
        "duration": 15,
        "start_time": "2023-03-18T17:32:55.847Z"
      },
      {
        "duration": 52,
        "start_time": "2023-03-18T17:32:55.863Z"
      },
      {
        "duration": 101,
        "start_time": "2023-03-18T17:32:55.918Z"
      },
      {
        "duration": 98,
        "start_time": "2023-03-18T17:33:08.425Z"
      },
      {
        "duration": 99,
        "start_time": "2023-03-18T17:33:50.759Z"
      },
      {
        "duration": 284,
        "start_time": "2023-03-18T17:34:49.857Z"
      },
      {
        "duration": 100,
        "start_time": "2023-03-18T17:34:54.663Z"
      },
      {
        "duration": 114,
        "start_time": "2023-03-18T17:35:21.533Z"
      },
      {
        "duration": 138,
        "start_time": "2023-03-18T17:50:16.114Z"
      },
      {
        "duration": 111,
        "start_time": "2023-03-18T17:51:09.221Z"
      },
      {
        "duration": 424,
        "start_time": "2023-03-18T17:52:33.520Z"
      },
      {
        "duration": 343,
        "start_time": "2023-03-18T17:52:55.414Z"
      },
      {
        "duration": 303,
        "start_time": "2023-03-18T17:54:40.207Z"
      },
      {
        "duration": 1548,
        "start_time": "2023-03-19T09:25:23.627Z"
      },
      {
        "duration": 316,
        "start_time": "2023-03-19T09:25:25.183Z"
      },
      {
        "duration": 14,
        "start_time": "2023-03-19T09:25:25.501Z"
      },
      {
        "duration": 81,
        "start_time": "2023-03-19T09:25:25.516Z"
      },
      {
        "duration": 20,
        "start_time": "2023-03-19T09:25:25.601Z"
      },
      {
        "duration": 94,
        "start_time": "2023-03-19T09:25:25.624Z"
      },
      {
        "duration": 88,
        "start_time": "2023-03-19T09:25:25.720Z"
      },
      {
        "duration": 25,
        "start_time": "2023-03-19T09:25:25.813Z"
      },
      {
        "duration": 86,
        "start_time": "2023-03-19T09:25:25.840Z"
      },
      {
        "duration": 223,
        "start_time": "2023-03-19T09:25:25.932Z"
      },
      {
        "duration": 394,
        "start_time": "2023-03-19T09:25:26.156Z"
      },
      {
        "duration": 418,
        "start_time": "2023-03-19T09:25:26.552Z"
      },
      {
        "duration": 375,
        "start_time": "2023-03-19T09:26:32.508Z"
      },
      {
        "duration": 2348,
        "start_time": "2023-03-19T09:33:53.019Z"
      },
      {
        "duration": 783,
        "start_time": "2023-03-19T09:34:50.854Z"
      },
      {
        "duration": 12,
        "start_time": "2023-03-19T09:37:09.398Z"
      },
      {
        "duration": 1662,
        "start_time": "2023-03-19T09:37:18.913Z"
      },
      {
        "duration": 97,
        "start_time": "2023-03-19T09:37:20.578Z"
      },
      {
        "duration": 27,
        "start_time": "2023-03-19T09:37:20.683Z"
      },
      {
        "duration": 26,
        "start_time": "2023-03-19T09:37:20.716Z"
      },
      {
        "duration": 25,
        "start_time": "2023-03-19T09:37:20.750Z"
      },
      {
        "duration": 15,
        "start_time": "2023-03-19T09:37:20.780Z"
      },
      {
        "duration": 31,
        "start_time": "2023-03-19T09:37:20.800Z"
      },
      {
        "duration": 22,
        "start_time": "2023-03-19T09:37:20.837Z"
      },
      {
        "duration": 81,
        "start_time": "2023-03-19T09:37:20.864Z"
      },
      {
        "duration": 134,
        "start_time": "2023-03-19T09:37:20.952Z"
      },
      {
        "duration": 621,
        "start_time": "2023-03-19T09:37:21.093Z"
      },
      {
        "duration": 6,
        "start_time": "2023-03-19T09:37:21.720Z"
      },
      {
        "duration": 46,
        "start_time": "2023-03-19T09:40:14.215Z"
      },
      {
        "duration": 330,
        "start_time": "2023-03-19T09:41:56.982Z"
      },
      {
        "duration": 88,
        "start_time": "2023-03-19T09:51:03.190Z"
      },
      {
        "duration": 143,
        "start_time": "2023-03-19T09:51:19.170Z"
      },
      {
        "duration": 63,
        "start_time": "2023-03-19T09:52:29.587Z"
      },
      {
        "duration": 86,
        "start_time": "2023-03-19T09:52:41.951Z"
      },
      {
        "duration": 205,
        "start_time": "2023-03-19T09:53:24.660Z"
      },
      {
        "duration": 205,
        "start_time": "2023-03-19T09:53:40.046Z"
      },
      {
        "duration": 71,
        "start_time": "2023-03-19T09:54:12.298Z"
      },
      {
        "duration": 43,
        "start_time": "2023-03-19T09:54:19.401Z"
      },
      {
        "duration": 59,
        "start_time": "2023-03-19T09:54:30.850Z"
      },
      {
        "duration": 46,
        "start_time": "2023-03-19T09:54:38.899Z"
      },
      {
        "duration": 28,
        "start_time": "2023-03-19T10:49:49.091Z"
      },
      {
        "duration": 32,
        "start_time": "2023-03-19T10:49:55.703Z"
      },
      {
        "duration": 37,
        "start_time": "2023-03-19T10:50:02.761Z"
      },
      {
        "duration": 37,
        "start_time": "2023-03-19T10:52:39.154Z"
      },
      {
        "duration": 23,
        "start_time": "2023-03-19T10:52:42.899Z"
      },
      {
        "duration": 45,
        "start_time": "2023-03-19T10:53:05.542Z"
      },
      {
        "duration": 37,
        "start_time": "2023-03-19T10:53:14.807Z"
      },
      {
        "duration": 27,
        "start_time": "2023-03-19T10:54:57.383Z"
      },
      {
        "duration": 30,
        "start_time": "2023-03-19T11:08:29.269Z"
      },
      {
        "duration": 6,
        "start_time": "2023-03-19T11:23:47.793Z"
      },
      {
        "duration": 49,
        "start_time": "2023-03-19T11:31:20.224Z"
      },
      {
        "duration": 19,
        "start_time": "2023-03-19T11:31:49.403Z"
      },
      {
        "duration": 71,
        "start_time": "2023-03-19T11:37:35.514Z"
      },
      {
        "duration": 82,
        "start_time": "2023-03-19T11:41:09.157Z"
      },
      {
        "duration": 40,
        "start_time": "2023-03-19T11:42:21.382Z"
      },
      {
        "duration": 3,
        "start_time": "2023-03-19T12:39:00.525Z"
      },
      {
        "duration": 1606,
        "start_time": "2023-03-19T12:39:08.774Z"
      },
      {
        "duration": 83,
        "start_time": "2023-03-19T12:39:10.382Z"
      },
      {
        "duration": 51,
        "start_time": "2023-03-19T12:39:10.467Z"
      },
      {
        "duration": 85,
        "start_time": "2023-03-19T12:39:10.523Z"
      },
      {
        "duration": 15,
        "start_time": "2023-03-19T12:39:10.610Z"
      },
      {
        "duration": 66,
        "start_time": "2023-03-19T12:39:10.627Z"
      },
      {
        "duration": 52,
        "start_time": "2023-03-19T12:39:10.704Z"
      },
      {
        "duration": 85,
        "start_time": "2023-03-19T12:39:10.765Z"
      },
      {
        "duration": 172,
        "start_time": "2023-03-19T12:39:10.851Z"
      },
      {
        "duration": 157,
        "start_time": "2023-03-19T12:39:11.025Z"
      },
      {
        "duration": 533,
        "start_time": "2023-03-19T12:39:11.184Z"
      },
      {
        "duration": 41,
        "start_time": "2023-03-19T12:39:11.722Z"
      },
      {
        "duration": 83,
        "start_time": "2023-03-19T12:39:11.768Z"
      },
      {
        "duration": 101,
        "start_time": "2023-03-19T12:39:11.858Z"
      },
      {
        "duration": 48,
        "start_time": "2023-03-19T12:39:11.966Z"
      },
      {
        "duration": 25,
        "start_time": "2023-03-19T12:49:27.875Z"
      },
      {
        "duration": 54,
        "start_time": "2023-03-19T15:08:20.229Z"
      },
      {
        "duration": 1210,
        "start_time": "2023-03-19T15:08:28.335Z"
      },
      {
        "duration": 189,
        "start_time": "2023-03-19T15:08:29.547Z"
      },
      {
        "duration": 12,
        "start_time": "2023-03-19T15:08:29.738Z"
      },
      {
        "duration": 8,
        "start_time": "2023-03-19T15:08:29.752Z"
      },
      {
        "duration": 4,
        "start_time": "2023-03-19T15:08:29.762Z"
      },
      {
        "duration": 5,
        "start_time": "2023-03-19T15:08:29.768Z"
      },
      {
        "duration": 14,
        "start_time": "2023-03-19T15:08:29.775Z"
      },
      {
        "duration": 15,
        "start_time": "2023-03-19T15:08:29.791Z"
      },
      {
        "duration": 14,
        "start_time": "2023-03-19T15:08:29.808Z"
      },
      {
        "duration": 57,
        "start_time": "2023-03-19T15:08:29.824Z"
      },
      {
        "duration": 4056,
        "start_time": "2023-03-19T15:08:29.883Z"
      },
      {
        "duration": 26,
        "start_time": "2023-03-19T15:08:33.941Z"
      },
      {
        "duration": 17,
        "start_time": "2023-03-19T15:08:33.980Z"
      },
      {
        "duration": 55,
        "start_time": "2023-03-19T15:08:33.999Z"
      },
      {
        "duration": 52,
        "start_time": "2023-03-19T15:08:34.056Z"
      },
      {
        "duration": 7,
        "start_time": "2023-03-19T15:08:34.110Z"
      },
      {
        "duration": 91,
        "start_time": "2023-03-19T15:10:54.536Z"
      },
      {
        "duration": 219,
        "start_time": "2023-03-19T15:11:04.264Z"
      },
      {
        "duration": 6,
        "start_time": "2023-03-19T15:19:54.977Z"
      },
      {
        "duration": 28,
        "start_time": "2023-03-19T15:20:16.474Z"
      },
      {
        "duration": 267,
        "start_time": "2023-03-19T15:20:25.879Z"
      },
      {
        "duration": 16,
        "start_time": "2023-03-19T15:20:33.136Z"
      },
      {
        "duration": 2412,
        "start_time": "2023-03-19T15:35:06.082Z"
      },
      {
        "duration": 43,
        "start_time": "2023-03-19T15:35:08.496Z"
      },
      {
        "duration": 10,
        "start_time": "2023-03-19T15:35:08.541Z"
      },
      {
        "duration": 5,
        "start_time": "2023-03-19T15:35:08.553Z"
      },
      {
        "duration": 5,
        "start_time": "2023-03-19T15:35:08.559Z"
      },
      {
        "duration": 15,
        "start_time": "2023-03-19T15:35:08.565Z"
      },
      {
        "duration": 12,
        "start_time": "2023-03-19T15:35:08.582Z"
      },
      {
        "duration": 20,
        "start_time": "2023-03-19T15:35:08.595Z"
      },
      {
        "duration": 11,
        "start_time": "2023-03-19T15:35:08.617Z"
      },
      {
        "duration": 58,
        "start_time": "2023-03-19T15:35:08.629Z"
      },
      {
        "duration": 3951,
        "start_time": "2023-03-19T15:35:08.689Z"
      },
      {
        "duration": 19,
        "start_time": "2023-03-19T15:35:12.641Z"
      },
      {
        "duration": 23,
        "start_time": "2023-03-19T15:35:12.662Z"
      },
      {
        "duration": 198,
        "start_time": "2023-03-19T15:35:12.686Z"
      },
      {
        "duration": 17,
        "start_time": "2023-03-19T15:35:12.886Z"
      },
      {
        "duration": 4,
        "start_time": "2023-03-19T15:35:12.904Z"
      },
      {
        "duration": 1529,
        "start_time": "2023-03-20T14:57:09.813Z"
      },
      {
        "duration": 1186,
        "start_time": "2023-03-20T14:57:22.236Z"
      },
      {
        "duration": 102,
        "start_time": "2023-03-20T14:57:23.424Z"
      },
      {
        "duration": 12,
        "start_time": "2023-03-20T14:57:23.527Z"
      },
      {
        "duration": 8,
        "start_time": "2023-03-20T14:57:23.540Z"
      },
      {
        "duration": 25,
        "start_time": "2023-03-20T14:57:23.550Z"
      },
      {
        "duration": 9,
        "start_time": "2023-03-20T14:57:23.577Z"
      },
      {
        "duration": 23,
        "start_time": "2023-03-20T14:57:23.588Z"
      },
      {
        "duration": 15,
        "start_time": "2023-03-20T14:57:23.613Z"
      },
      {
        "duration": 19,
        "start_time": "2023-03-20T14:57:23.629Z"
      },
      {
        "duration": 41,
        "start_time": "2023-03-20T14:57:23.650Z"
      },
      {
        "duration": 375,
        "start_time": "2023-03-20T14:57:23.697Z"
      },
      {
        "duration": 0,
        "start_time": "2023-03-20T14:57:24.074Z"
      },
      {
        "duration": 0,
        "start_time": "2023-03-20T14:57:24.075Z"
      },
      {
        "duration": 0,
        "start_time": "2023-03-20T14:57:24.076Z"
      },
      {
        "duration": 0,
        "start_time": "2023-03-20T14:57:24.077Z"
      },
      {
        "duration": 0,
        "start_time": "2023-03-20T14:57:24.089Z"
      },
      {
        "duration": 0,
        "start_time": "2023-03-20T14:57:24.089Z"
      },
      {
        "duration": 17,
        "start_time": "2023-03-20T14:58:01.013Z"
      },
      {
        "duration": 8,
        "start_time": "2023-03-20T15:06:14.427Z"
      },
      {
        "duration": 10,
        "start_time": "2023-03-20T15:27:36.462Z"
      },
      {
        "duration": 9,
        "start_time": "2023-03-20T15:27:51.641Z"
      },
      {
        "duration": 13,
        "start_time": "2023-03-20T15:28:09.284Z"
      },
      {
        "duration": 61,
        "start_time": "2023-03-22T09:16:49.340Z"
      },
      {
        "duration": 1122,
        "start_time": "2023-03-22T09:16:59.953Z"
      },
      {
        "duration": 98,
        "start_time": "2023-03-22T09:17:01.077Z"
      },
      {
        "duration": 11,
        "start_time": "2023-03-22T09:17:01.176Z"
      },
      {
        "duration": 38,
        "start_time": "2023-03-22T09:17:01.190Z"
      },
      {
        "duration": 41,
        "start_time": "2023-03-22T09:17:01.230Z"
      },
      {
        "duration": 77,
        "start_time": "2023-03-22T09:17:01.273Z"
      },
      {
        "duration": 48,
        "start_time": "2023-03-22T09:17:01.356Z"
      },
      {
        "duration": 53,
        "start_time": "2023-03-22T09:17:01.405Z"
      },
      {
        "duration": 22,
        "start_time": "2023-03-22T09:17:01.460Z"
      },
      {
        "duration": 61,
        "start_time": "2023-03-22T09:17:01.485Z"
      },
      {
        "duration": 134,
        "start_time": "2023-03-22T09:17:01.549Z"
      },
      {
        "duration": 0,
        "start_time": "2023-03-22T09:17:01.685Z"
      },
      {
        "duration": 0,
        "start_time": "2023-03-22T09:17:01.686Z"
      },
      {
        "duration": 0,
        "start_time": "2023-03-22T09:17:01.688Z"
      },
      {
        "duration": 0,
        "start_time": "2023-03-22T09:17:01.689Z"
      },
      {
        "duration": 0,
        "start_time": "2023-03-22T09:17:01.691Z"
      },
      {
        "duration": 0,
        "start_time": "2023-03-22T09:17:01.692Z"
      },
      {
        "duration": 421,
        "start_time": "2023-03-22T09:17:44.472Z"
      },
      {
        "duration": 4135,
        "start_time": "2023-03-22T09:17:51.238Z"
      },
      {
        "duration": 51,
        "start_time": "2023-03-22T09:17:55.375Z"
      },
      {
        "duration": 12,
        "start_time": "2023-03-22T09:17:55.427Z"
      },
      {
        "duration": 20,
        "start_time": "2023-03-22T09:17:55.443Z"
      },
      {
        "duration": 5,
        "start_time": "2023-03-22T09:17:55.466Z"
      },
      {
        "duration": 16,
        "start_time": "2023-03-22T09:17:55.472Z"
      },
      {
        "duration": 21,
        "start_time": "2023-03-22T09:17:55.489Z"
      },
      {
        "duration": 19,
        "start_time": "2023-03-22T09:17:55.512Z"
      },
      {
        "duration": 34,
        "start_time": "2023-03-22T09:17:55.533Z"
      },
      {
        "duration": 45,
        "start_time": "2023-03-22T09:17:55.569Z"
      },
      {
        "duration": 159,
        "start_time": "2023-03-22T09:17:55.616Z"
      },
      {
        "duration": 4386,
        "start_time": "2023-03-22T09:17:55.777Z"
      },
      {
        "duration": 27,
        "start_time": "2023-03-22T09:18:00.165Z"
      },
      {
        "duration": 16,
        "start_time": "2023-03-22T09:18:00.194Z"
      },
      {
        "duration": 252,
        "start_time": "2023-03-22T09:18:00.212Z"
      },
      {
        "duration": 26,
        "start_time": "2023-03-22T09:18:00.465Z"
      },
      {
        "duration": 27,
        "start_time": "2023-03-22T09:18:00.492Z"
      },
      {
        "duration": 5,
        "start_time": "2023-03-22T09:19:56.460Z"
      },
      {
        "duration": 4,
        "start_time": "2023-03-22T09:20:50.087Z"
      },
      {
        "duration": 38,
        "start_time": "2023-03-22T09:21:26.822Z"
      },
      {
        "duration": 128,
        "start_time": "2023-03-22T09:21:30.440Z"
      },
      {
        "duration": 164,
        "start_time": "2023-03-22T09:23:00.754Z"
      },
      {
        "duration": 197,
        "start_time": "2023-03-22T09:23:18.909Z"
      },
      {
        "duration": 36,
        "start_time": "2023-03-22T09:27:48.589Z"
      },
      {
        "duration": 36,
        "start_time": "2023-03-22T09:28:25.949Z"
      },
      {
        "duration": 140,
        "start_time": "2023-03-22T09:28:40.218Z"
      },
      {
        "duration": 40,
        "start_time": "2023-03-22T09:34:01.842Z"
      },
      {
        "duration": 194,
        "start_time": "2023-03-22T09:34:13.953Z"
      },
      {
        "duration": 117,
        "start_time": "2023-03-22T09:34:27.972Z"
      },
      {
        "duration": 9,
        "start_time": "2023-03-22T09:34:36.382Z"
      },
      {
        "duration": 125,
        "start_time": "2023-03-22T09:35:58.456Z"
      },
      {
        "duration": 125,
        "start_time": "2023-03-22T09:36:16.780Z"
      },
      {
        "duration": 4,
        "start_time": "2023-03-22T09:36:24.975Z"
      },
      {
        "duration": 1482,
        "start_time": "2023-03-22T09:36:54.642Z"
      },
      {
        "duration": 64,
        "start_time": "2023-03-22T09:36:56.126Z"
      },
      {
        "duration": 13,
        "start_time": "2023-03-22T09:36:56.196Z"
      },
      {
        "duration": 8,
        "start_time": "2023-03-22T09:36:56.212Z"
      },
      {
        "duration": 7,
        "start_time": "2023-03-22T09:36:56.223Z"
      },
      {
        "duration": 9,
        "start_time": "2023-03-22T09:36:56.246Z"
      },
      {
        "duration": 16,
        "start_time": "2023-03-22T09:36:56.257Z"
      },
      {
        "duration": 18,
        "start_time": "2023-03-22T09:36:56.275Z"
      },
      {
        "duration": 20,
        "start_time": "2023-03-22T09:36:56.296Z"
      },
      {
        "duration": 46,
        "start_time": "2023-03-22T09:36:56.317Z"
      },
      {
        "duration": 148,
        "start_time": "2023-03-22T09:36:56.365Z"
      },
      {
        "duration": 4247,
        "start_time": "2023-03-22T09:36:56.515Z"
      },
      {
        "duration": 25,
        "start_time": "2023-03-22T09:37:00.763Z"
      },
      {
        "duration": 24,
        "start_time": "2023-03-22T09:37:00.789Z"
      },
      {
        "duration": 258,
        "start_time": "2023-03-22T09:37:00.815Z"
      },
      {
        "duration": 26,
        "start_time": "2023-03-22T09:37:01.074Z"
      },
      {
        "duration": 25,
        "start_time": "2023-03-22T09:37:01.102Z"
      },
      {
        "duration": 136,
        "start_time": "2023-03-22T09:37:02.574Z"
      },
      {
        "duration": 4,
        "start_time": "2023-03-22T09:37:05.722Z"
      },
      {
        "duration": 35,
        "start_time": "2023-03-22T09:39:51.312Z"
      },
      {
        "duration": 139,
        "start_time": "2023-03-22T09:39:57.222Z"
      },
      {
        "duration": 4,
        "start_time": "2023-03-22T09:39:59.867Z"
      },
      {
        "duration": 110,
        "start_time": "2023-03-22T09:40:36.112Z"
      },
      {
        "duration": 139,
        "start_time": "2023-03-22T09:43:39.827Z"
      },
      {
        "duration": 128,
        "start_time": "2023-03-22T09:43:51.685Z"
      },
      {
        "duration": 160,
        "start_time": "2023-03-22T09:44:03.554Z"
      },
      {
        "duration": 142,
        "start_time": "2023-03-22T09:44:15.779Z"
      },
      {
        "duration": 142,
        "start_time": "2023-03-22T09:44:29.336Z"
      },
      {
        "duration": 132,
        "start_time": "2023-03-22T09:45:20.150Z"
      },
      {
        "duration": 51,
        "start_time": "2023-03-22T09:47:42.749Z"
      },
      {
        "duration": 70,
        "start_time": "2023-03-22T09:47:56.216Z"
      },
      {
        "duration": 163,
        "start_time": "2023-03-22T09:48:00.620Z"
      },
      {
        "duration": 59,
        "start_time": "2023-03-22T09:48:05.381Z"
      },
      {
        "duration": 129,
        "start_time": "2023-03-22T09:48:19.923Z"
      },
      {
        "duration": 147,
        "start_time": "2023-03-22T09:48:38.723Z"
      },
      {
        "duration": 142,
        "start_time": "2023-03-22T09:49:00.980Z"
      },
      {
        "duration": 139,
        "start_time": "2023-03-22T09:49:45.718Z"
      },
      {
        "duration": 190,
        "start_time": "2023-03-22T09:50:19.048Z"
      },
      {
        "duration": 155,
        "start_time": "2023-03-22T09:50:29.935Z"
      },
      {
        "duration": 21220,
        "start_time": "2023-03-22T09:57:26.838Z"
      },
      {
        "duration": 17,
        "start_time": "2023-03-22T10:02:21.854Z"
      },
      {
        "duration": 23996,
        "start_time": "2023-03-22T10:02:40.494Z"
      },
      {
        "duration": 19,
        "start_time": "2023-03-22T10:03:38.319Z"
      },
      {
        "duration": 22984,
        "start_time": "2023-03-22T10:04:00.182Z"
      },
      {
        "duration": 0,
        "start_time": "2023-03-22T10:06:46.767Z"
      },
      {
        "duration": 24402,
        "start_time": "2023-03-22T10:07:01.029Z"
      },
      {
        "duration": 86,
        "start_time": "2023-03-22T12:02:25.459Z"
      }
    ],
    "kernelspec": {
      "display_name": "Python 3 (ipykernel)",
      "language": "python",
      "name": "python3"
    },
    "language_info": {
      "codemirror_mode": {
        "name": "ipython",
        "version": 3
      },
      "file_extension": ".py",
      "mimetype": "text/x-python",
      "name": "python",
      "nbconvert_exporter": "python",
      "pygments_lexer": "ipython3",
      "version": "3.9.5"
    },
    "toc": {
      "base_numbering": 1,
      "nav_menu": {},
      "number_sections": true,
      "sideBar": true,
      "skip_h1_title": true,
      "title_cell": "Table of Contents",
      "title_sidebar": "Contents",
      "toc_cell": false,
      "toc_position": {},
      "toc_section_display": true,
      "toc_window_display": false
    },
    "colab": {
      "provenance": []
    }
  },
  "nbformat": 4,
  "nbformat_minor": 0
}