{
  "cells": [
    {
      "cell_type": "markdown",
      "metadata": {
        "id": "flEyxBMlwm0f"
      },
      "source": [
        "# Выбор локации для скважины"
      ]
    },
    {
      "cell_type": "markdown",
      "metadata": {
        "id": "14lPtGnlwm0f"
      },
      "source": [
        "Допустим, вы работаете в добывающей компании «ГлавРосГосНефть». Нужно решить, где бурить новую скважину.\n",
        "\n",
        "Вам предоставлены пробы нефти в трёх регионах: в каждом 10 000 месторождений, где измерили качество нефти и объём её запасов. Постройте модель машинного обучения, которая поможет определить регион, где добыча принесёт наибольшую прибыль. Проанализируйте возможную прибыль и риски техникой *Bootstrap.*\n",
        "\n",
        "Шаги для выбора локации:\n",
        "\n",
        "- В избранном регионе ищут месторождения, для каждого определяют значения признаков;\n",
        "- Строят модель и оценивают объём запасов;\n",
        "- Выбирают месторождения с самым высокими оценками значений. Количество месторождений зависит от бюджета компании и стоимости разработки одной скважины;\n",
        "- Прибыль равна суммарной прибыли отобранных месторождений."
      ]
    },
    {
      "cell_type": "markdown",
      "metadata": {
        "id": "ly_aYLLHwm0g"
      },
      "source": [
        "## Загрузка и подготовка данных"
      ]
    },
    {
      "cell_type": "code",
      "execution_count": null,
      "metadata": {
        "id": "9ZesAMZgwm0g"
      },
      "outputs": [],
      "source": [
        "import pandas as pd\n",
        "import numpy as np\n",
        "import matplotlib.pyplot as plt\n",
        "from sklearn.model_selection import train_test_split\n",
        "from sklearn.linear_model import LinearRegression\n",
        "from sklearn.preprocessing import StandardScaler\n",
        "from sklearn.metrics import mean_squared_error\n"
      ]
    },
    {
      "cell_type": "code",
      "execution_count": null,
      "metadata": {
        "id": "T4IBuPkAwm0h"
      },
      "outputs": [],
      "source": [
        "df_first = pd.read_csv('/datasets/geo_data_0.csv')\n",
        "df_second = pd.read_csv('/datasets/geo_data_1.csv')\n",
        "df_third = pd.read_csv('/datasets/geo_data_2.csv')"
      ]
    },
    {
      "cell_type": "code",
      "execution_count": null,
      "metadata": {
        "id": "tFWvVU7Mwm0i",
        "outputId": "58489b1f-df93-4110-8566-f8536fbc1489"
      },
      "outputs": [
        {
          "data": {
            "text/html": [
              "<div>\n",
              "<style scoped>\n",
              "    .dataframe tbody tr th:only-of-type {\n",
              "        vertical-align: middle;\n",
              "    }\n",
              "\n",
              "    .dataframe tbody tr th {\n",
              "        vertical-align: top;\n",
              "    }\n",
              "\n",
              "    .dataframe thead th {\n",
              "        text-align: right;\n",
              "    }\n",
              "</style>\n",
              "<table border=\"1\" class=\"dataframe\">\n",
              "  <thead>\n",
              "    <tr style=\"text-align: right;\">\n",
              "      <th></th>\n",
              "      <th>id</th>\n",
              "      <th>f0</th>\n",
              "      <th>f1</th>\n",
              "      <th>f2</th>\n",
              "      <th>product</th>\n",
              "    </tr>\n",
              "  </thead>\n",
              "  <tbody>\n",
              "    <tr>\n",
              "      <th>0</th>\n",
              "      <td>txEyH</td>\n",
              "      <td>0.705745</td>\n",
              "      <td>-0.497823</td>\n",
              "      <td>1.221170</td>\n",
              "      <td>105.280062</td>\n",
              "    </tr>\n",
              "    <tr>\n",
              "      <th>1</th>\n",
              "      <td>2acmU</td>\n",
              "      <td>1.334711</td>\n",
              "      <td>-0.340164</td>\n",
              "      <td>4.365080</td>\n",
              "      <td>73.037750</td>\n",
              "    </tr>\n",
              "    <tr>\n",
              "      <th>2</th>\n",
              "      <td>409Wp</td>\n",
              "      <td>1.022732</td>\n",
              "      <td>0.151990</td>\n",
              "      <td>1.419926</td>\n",
              "      <td>85.265647</td>\n",
              "    </tr>\n",
              "    <tr>\n",
              "      <th>3</th>\n",
              "      <td>iJLyR</td>\n",
              "      <td>-0.032172</td>\n",
              "      <td>0.139033</td>\n",
              "      <td>2.978566</td>\n",
              "      <td>168.620776</td>\n",
              "    </tr>\n",
              "    <tr>\n",
              "      <th>4</th>\n",
              "      <td>Xdl7t</td>\n",
              "      <td>1.988431</td>\n",
              "      <td>0.155413</td>\n",
              "      <td>4.751769</td>\n",
              "      <td>154.036647</td>\n",
              "    </tr>\n",
              "  </tbody>\n",
              "</table>\n",
              "</div>"
            ],
            "text/plain": [
              "      id        f0        f1        f2     product\n",
              "0  txEyH  0.705745 -0.497823  1.221170  105.280062\n",
              "1  2acmU  1.334711 -0.340164  4.365080   73.037750\n",
              "2  409Wp  1.022732  0.151990  1.419926   85.265647\n",
              "3  iJLyR -0.032172  0.139033  2.978566  168.620776\n",
              "4  Xdl7t  1.988431  0.155413  4.751769  154.036647"
            ]
          },
          "execution_count": 3,
          "metadata": {},
          "output_type": "execute_result"
        }
      ],
      "source": [
        "df_first.head()"
      ]
    },
    {
      "cell_type": "code",
      "execution_count": null,
      "metadata": {
        "id": "jZ5h4prYwm0i",
        "outputId": "a8d51e1b-c937-4f69-a93e-27b7f688fc8b"
      },
      "outputs": [
        {
          "data": {
            "text/html": [
              "<div>\n",
              "<style scoped>\n",
              "    .dataframe tbody tr th:only-of-type {\n",
              "        vertical-align: middle;\n",
              "    }\n",
              "\n",
              "    .dataframe tbody tr th {\n",
              "        vertical-align: top;\n",
              "    }\n",
              "\n",
              "    .dataframe thead th {\n",
              "        text-align: right;\n",
              "    }\n",
              "</style>\n",
              "<table border=\"1\" class=\"dataframe\">\n",
              "  <thead>\n",
              "    <tr style=\"text-align: right;\">\n",
              "      <th></th>\n",
              "      <th>id</th>\n",
              "      <th>f0</th>\n",
              "      <th>f1</th>\n",
              "      <th>f2</th>\n",
              "      <th>product</th>\n",
              "    </tr>\n",
              "  </thead>\n",
              "  <tbody>\n",
              "    <tr>\n",
              "      <th>0</th>\n",
              "      <td>kBEdx</td>\n",
              "      <td>-15.001348</td>\n",
              "      <td>-8.276000</td>\n",
              "      <td>-0.005876</td>\n",
              "      <td>3.179103</td>\n",
              "    </tr>\n",
              "    <tr>\n",
              "      <th>1</th>\n",
              "      <td>62mP7</td>\n",
              "      <td>14.272088</td>\n",
              "      <td>-3.475083</td>\n",
              "      <td>0.999183</td>\n",
              "      <td>26.953261</td>\n",
              "    </tr>\n",
              "    <tr>\n",
              "      <th>2</th>\n",
              "      <td>vyE1P</td>\n",
              "      <td>6.263187</td>\n",
              "      <td>-5.948386</td>\n",
              "      <td>5.001160</td>\n",
              "      <td>134.766305</td>\n",
              "    </tr>\n",
              "    <tr>\n",
              "      <th>3</th>\n",
              "      <td>KcrkZ</td>\n",
              "      <td>-13.081196</td>\n",
              "      <td>-11.506057</td>\n",
              "      <td>4.999415</td>\n",
              "      <td>137.945408</td>\n",
              "    </tr>\n",
              "    <tr>\n",
              "      <th>4</th>\n",
              "      <td>AHL4O</td>\n",
              "      <td>12.702195</td>\n",
              "      <td>-8.147433</td>\n",
              "      <td>5.004363</td>\n",
              "      <td>134.766305</td>\n",
              "    </tr>\n",
              "  </tbody>\n",
              "</table>\n",
              "</div>"
            ],
            "text/plain": [
              "      id         f0         f1        f2     product\n",
              "0  kBEdx -15.001348  -8.276000 -0.005876    3.179103\n",
              "1  62mP7  14.272088  -3.475083  0.999183   26.953261\n",
              "2  vyE1P   6.263187  -5.948386  5.001160  134.766305\n",
              "3  KcrkZ -13.081196 -11.506057  4.999415  137.945408\n",
              "4  AHL4O  12.702195  -8.147433  5.004363  134.766305"
            ]
          },
          "execution_count": 4,
          "metadata": {},
          "output_type": "execute_result"
        }
      ],
      "source": [
        "df_second.head()"
      ]
    },
    {
      "cell_type": "code",
      "execution_count": null,
      "metadata": {
        "id": "NlXefkr6wm0j",
        "outputId": "018972ed-d5f7-451a-a60d-a0baa7bd5ef6"
      },
      "outputs": [
        {
          "data": {
            "text/html": [
              "<div>\n",
              "<style scoped>\n",
              "    .dataframe tbody tr th:only-of-type {\n",
              "        vertical-align: middle;\n",
              "    }\n",
              "\n",
              "    .dataframe tbody tr th {\n",
              "        vertical-align: top;\n",
              "    }\n",
              "\n",
              "    .dataframe thead th {\n",
              "        text-align: right;\n",
              "    }\n",
              "</style>\n",
              "<table border=\"1\" class=\"dataframe\">\n",
              "  <thead>\n",
              "    <tr style=\"text-align: right;\">\n",
              "      <th></th>\n",
              "      <th>id</th>\n",
              "      <th>f0</th>\n",
              "      <th>f1</th>\n",
              "      <th>f2</th>\n",
              "      <th>product</th>\n",
              "    </tr>\n",
              "  </thead>\n",
              "  <tbody>\n",
              "    <tr>\n",
              "      <th>0</th>\n",
              "      <td>fwXo0</td>\n",
              "      <td>-1.146987</td>\n",
              "      <td>0.963328</td>\n",
              "      <td>-0.828965</td>\n",
              "      <td>27.758673</td>\n",
              "    </tr>\n",
              "    <tr>\n",
              "      <th>1</th>\n",
              "      <td>WJtFt</td>\n",
              "      <td>0.262778</td>\n",
              "      <td>0.269839</td>\n",
              "      <td>-2.530187</td>\n",
              "      <td>56.069697</td>\n",
              "    </tr>\n",
              "    <tr>\n",
              "      <th>2</th>\n",
              "      <td>ovLUW</td>\n",
              "      <td>0.194587</td>\n",
              "      <td>0.289035</td>\n",
              "      <td>-5.586433</td>\n",
              "      <td>62.871910</td>\n",
              "    </tr>\n",
              "    <tr>\n",
              "      <th>3</th>\n",
              "      <td>q6cA6</td>\n",
              "      <td>2.236060</td>\n",
              "      <td>-0.553760</td>\n",
              "      <td>0.930038</td>\n",
              "      <td>114.572842</td>\n",
              "    </tr>\n",
              "    <tr>\n",
              "      <th>4</th>\n",
              "      <td>WPMUX</td>\n",
              "      <td>-0.515993</td>\n",
              "      <td>1.716266</td>\n",
              "      <td>5.899011</td>\n",
              "      <td>149.600746</td>\n",
              "    </tr>\n",
              "  </tbody>\n",
              "</table>\n",
              "</div>"
            ],
            "text/plain": [
              "      id        f0        f1        f2     product\n",
              "0  fwXo0 -1.146987  0.963328 -0.828965   27.758673\n",
              "1  WJtFt  0.262778  0.269839 -2.530187   56.069697\n",
              "2  ovLUW  0.194587  0.289035 -5.586433   62.871910\n",
              "3  q6cA6  2.236060 -0.553760  0.930038  114.572842\n",
              "4  WPMUX -0.515993  1.716266  5.899011  149.600746"
            ]
          },
          "execution_count": 5,
          "metadata": {},
          "output_type": "execute_result"
        }
      ],
      "source": [
        "df_third.head()"
      ]
    },
    {
      "cell_type": "code",
      "execution_count": null,
      "metadata": {
        "id": "xQRfhEBxwm0j",
        "outputId": "a3b9b405-3c57-451c-a05c-417a813c3014"
      },
      "outputs": [
        {
          "name": "stdout",
          "output_type": "stream",
          "text": [
            "<class 'pandas.core.frame.DataFrame'>\n",
            "RangeIndex: 100000 entries, 0 to 99999\n",
            "Data columns (total 5 columns):\n",
            " #   Column   Non-Null Count   Dtype  \n",
            "---  ------   --------------   -----  \n",
            " 0   id       100000 non-null  object \n",
            " 1   f0       100000 non-null  float64\n",
            " 2   f1       100000 non-null  float64\n",
            " 3   f2       100000 non-null  float64\n",
            " 4   product  100000 non-null  float64\n",
            "dtypes: float64(4), object(1)\n",
            "memory usage: 3.8+ MB\n"
          ]
        }
      ],
      "source": [
        "df_first.info()"
      ]
    },
    {
      "cell_type": "code",
      "execution_count": null,
      "metadata": {
        "id": "aemlJTHgwm0j",
        "outputId": "a680d217-1499-4838-853f-86fc1436d9f7"
      },
      "outputs": [
        {
          "name": "stdout",
          "output_type": "stream",
          "text": [
            "<class 'pandas.core.frame.DataFrame'>\n",
            "RangeIndex: 100000 entries, 0 to 99999\n",
            "Data columns (total 5 columns):\n",
            " #   Column   Non-Null Count   Dtype  \n",
            "---  ------   --------------   -----  \n",
            " 0   id       100000 non-null  object \n",
            " 1   f0       100000 non-null  float64\n",
            " 2   f1       100000 non-null  float64\n",
            " 3   f2       100000 non-null  float64\n",
            " 4   product  100000 non-null  float64\n",
            "dtypes: float64(4), object(1)\n",
            "memory usage: 3.8+ MB\n"
          ]
        }
      ],
      "source": [
        "df_second.info()"
      ]
    },
    {
      "cell_type": "code",
      "execution_count": null,
      "metadata": {
        "id": "IBoCmCqLwm0j",
        "outputId": "27595154-5d94-4f3d-bd8a-d1ce8ceb2879"
      },
      "outputs": [
        {
          "name": "stdout",
          "output_type": "stream",
          "text": [
            "<class 'pandas.core.frame.DataFrame'>\n",
            "RangeIndex: 100000 entries, 0 to 99999\n",
            "Data columns (total 5 columns):\n",
            " #   Column   Non-Null Count   Dtype  \n",
            "---  ------   --------------   -----  \n",
            " 0   id       100000 non-null  object \n",
            " 1   f0       100000 non-null  float64\n",
            " 2   f1       100000 non-null  float64\n",
            " 3   f2       100000 non-null  float64\n",
            " 4   product  100000 non-null  float64\n",
            "dtypes: float64(4), object(1)\n",
            "memory usage: 3.8+ MB\n"
          ]
        }
      ],
      "source": [
        "df_third.info()"
      ]
    },
    {
      "cell_type": "markdown",
      "metadata": {
        "id": "D8l4fWY7wm0k"
      },
      "source": [
        "*Проверяем данные на пропуски и дубликаты*"
      ]
    },
    {
      "cell_type": "code",
      "execution_count": null,
      "metadata": {
        "id": "NhzIVbbiwm0k",
        "outputId": "9e7bc45b-fb43-4c0c-b5ef-d150c484f1d0"
      },
      "outputs": [
        {
          "data": {
            "text/plain": [
              "id         0\n",
              "f0         0\n",
              "f1         0\n",
              "f2         0\n",
              "product    0\n",
              "dtype: int64"
            ]
          },
          "execution_count": 9,
          "metadata": {},
          "output_type": "execute_result"
        }
      ],
      "source": [
        "df_first.isna().sum()"
      ]
    },
    {
      "cell_type": "code",
      "execution_count": null,
      "metadata": {
        "id": "DEmQFTuIwm0k",
        "outputId": "23cc63f0-f1f9-4ae0-ca87-d45028919a96"
      },
      "outputs": [
        {
          "data": {
            "text/plain": [
              "id         0\n",
              "f0         0\n",
              "f1         0\n",
              "f2         0\n",
              "product    0\n",
              "dtype: int64"
            ]
          },
          "execution_count": 10,
          "metadata": {},
          "output_type": "execute_result"
        }
      ],
      "source": [
        "df_second.isna().sum()"
      ]
    },
    {
      "cell_type": "code",
      "execution_count": null,
      "metadata": {
        "id": "AEsPeWgPwm0k",
        "outputId": "23b90bed-1e85-4c26-dc66-fed19cdce46f"
      },
      "outputs": [
        {
          "data": {
            "text/plain": [
              "id         0\n",
              "f0         0\n",
              "f1         0\n",
              "f2         0\n",
              "product    0\n",
              "dtype: int64"
            ]
          },
          "execution_count": 11,
          "metadata": {},
          "output_type": "execute_result"
        }
      ],
      "source": [
        "df_third.isna().sum()"
      ]
    },
    {
      "cell_type": "code",
      "execution_count": null,
      "metadata": {
        "id": "_Vf-Ire5wm0k",
        "outputId": "bab1fd81-961a-43d8-9618-77f37e934426"
      },
      "outputs": [
        {
          "data": {
            "text/plain": [
              "0"
            ]
          },
          "execution_count": 12,
          "metadata": {},
          "output_type": "execute_result"
        }
      ],
      "source": [
        "df_first.duplicated().sum()"
      ]
    },
    {
      "cell_type": "code",
      "execution_count": null,
      "metadata": {
        "id": "JesgoGNkwm0k",
        "outputId": "79ecb1fa-7c5e-445f-c2fd-1178d46a27fd"
      },
      "outputs": [
        {
          "data": {
            "text/plain": [
              "0"
            ]
          },
          "execution_count": 13,
          "metadata": {},
          "output_type": "execute_result"
        }
      ],
      "source": [
        "df_second.duplicated().sum()"
      ]
    },
    {
      "cell_type": "code",
      "execution_count": null,
      "metadata": {
        "id": "-QTQZRXJwm0l",
        "outputId": "2a04a1be-338d-4ab0-eb37-7b5ec187cba1"
      },
      "outputs": [
        {
          "data": {
            "text/plain": [
              "0"
            ]
          },
          "execution_count": 14,
          "metadata": {},
          "output_type": "execute_result"
        }
      ],
      "source": [
        "df_third.duplicated().sum()"
      ]
    },
    {
      "cell_type": "markdown",
      "metadata": {
        "id": "PTg7jwAXwm0l"
      },
      "source": [
        "В данных нет пропусков и дублей. Далее удаляем столбец id,во всех датафреймах он имеет не подходящий тип данных и не нужен для обучения модели"
      ]
    },
    {
      "cell_type": "code",
      "execution_count": null,
      "metadata": {
        "scrolled": true,
        "id": "gg2WJ0b2wm0m"
      },
      "outputs": [],
      "source": [
        "df_first = df_first.drop(['id'],axis = 1)\n",
        "df_second = df_second.drop(['id'],axis = 1)\n",
        "df_third = df_third.drop(['id'],axis = 1)\n"
      ]
    },
    {
      "cell_type": "markdown",
      "metadata": {
        "id": "YFavrtg4wm0m"
      },
      "source": [
        "***Данные не имеют пропуской и дублей.Все данные имеют нужный тип(float). Для обучения модели принято решение удалить столбец id***"
      ]
    },
    {
      "cell_type": "markdown",
      "metadata": {
        "id": "N4ljtX-Nwm0n"
      },
      "source": [
        "## Обучение и проверка модели"
      ]
    },
    {
      "cell_type": "markdown",
      "metadata": {
        "id": "Xc13xINwwm0n"
      },
      "source": [
        "*Разобьем данные на обучающую и валидационную выборки в соотношении 75:25.*"
      ]
    },
    {
      "cell_type": "code",
      "execution_count": null,
      "metadata": {
        "id": "r1Ct8VX2wm0n"
      },
      "outputs": [],
      "source": [
        "fuatures_first = df_first.drop(['product'],axis = 1)#Выделяем признаки для выборок\n",
        "fuatures_second = df_second.drop(['product'],axis = 1)\n",
        "fuatures_third = df_third.drop(['product'],axis = 1)"
      ]
    },
    {
      "cell_type": "code",
      "execution_count": null,
      "metadata": {
        "id": "HFOVzMUWwm0n"
      },
      "outputs": [],
      "source": [
        "target_first = df_first['product']#Выделяем целевые признаки для выборок\n",
        "target_second= df_second['product']\n",
        "target_third = df_third['product']"
      ]
    },
    {
      "cell_type": "code",
      "execution_count": null,
      "metadata": {
        "id": "USKeoIupwm0n"
      },
      "outputs": [],
      "source": [
        "fuatures_firs_train,fuatures_first_valid,target_first_train,target_first_valid = train_test_split(\n",
        "fuatures_first,target_first, test_size = 0.25,random_state = 12345)"
      ]
    },
    {
      "cell_type": "code",
      "execution_count": null,
      "metadata": {
        "id": "LN_VJqS-wm0n"
      },
      "outputs": [],
      "source": [
        "fuatures_second_train,fuatures_second_valid,target_second_train,target_second_valid = train_test_split(\n",
        "fuatures_second,target_second, test_size = 0.25,random_state = 12345)"
      ]
    },
    {
      "cell_type": "code",
      "execution_count": null,
      "metadata": {
        "id": "pj_a4sH0wm0n"
      },
      "outputs": [],
      "source": [
        "fuatures_third_train,fuatures_third_valid,target_third_train,target_third_valid = train_test_split(\n",
        "fuatures_third,target_third, test_size = 0.25,random_state = 12345)"
      ]
    },
    {
      "cell_type": "markdown",
      "metadata": {
        "id": "LYaxeuTPwm0n"
      },
      "source": [
        "*Обучим модель с помощью линейной регрессии и сделаем предсказания на валидационной выборке. Посмотрим метрику RMSE и средний объем предсказанного сырья*"
      ]
    },
    {
      "cell_type": "code",
      "execution_count": null,
      "metadata": {
        "id": "24deQlW2wm0o",
        "outputId": "898f3ae9-0a8a-4196-c254-f945dc34b27b"
      },
      "outputs": [
        {
          "name": "stdout",
          "output_type": "stream",
          "text": [
            "RMSE= 37.5794217150813\n",
            "Средний запас предсказанного сырья  92.59256778438035\n"
          ]
        }
      ],
      "source": [
        "model_first = LinearRegression()#Предсказания для первого региона\n",
        "model_first.fit(fuatures_firs_train,target_first_train)\n",
        "predicted_valid_first = model_first.predict(fuatures_first_valid)\n",
        "mse_first = mean_squared_error(target_first_valid,predicted_valid_first)\n",
        "print('RMSE=',mse_first**0.5)\n",
        "print('Средний запас предсказанного сырья ',predicted_valid_first.mean())"
      ]
    },
    {
      "cell_type": "code",
      "execution_count": null,
      "metadata": {
        "id": "KY2pHlydwm0o",
        "outputId": "f10957ec-b600-4ad0-d50a-477f320a2873"
      },
      "outputs": [
        {
          "name": "stdout",
          "output_type": "stream",
          "text": [
            "RMSE= 0.893099286775617\n",
            "Средний запас предсказанного сырья  68.728546895446\n"
          ]
        }
      ],
      "source": [
        "model_second = LinearRegression()#Предсказания для второго региона\n",
        "model_second.fit(fuatures_second_train,target_second_train)\n",
        "predicted_valid_second = model_second.predict(fuatures_second_valid)\n",
        "mse_second = mean_squared_error(target_second_valid,predicted_valid_second)\n",
        "print('RMSE=',mse_second**0.5)\n",
        "print('Средний запас предсказанного сырья ',predicted_valid_second.mean())\n"
      ]
    },
    {
      "cell_type": "code",
      "execution_count": null,
      "metadata": {
        "id": "RdLtScdXwm0o",
        "outputId": "9753904a-3c8c-4c65-bf06-783b6bbc989c"
      },
      "outputs": [
        {
          "name": "stdout",
          "output_type": "stream",
          "text": [
            "RMSE= 40.02970873393434\n",
            "Средний запас предсказанного сырья  94.96504596800489\n"
          ]
        }
      ],
      "source": [
        "model_third = LinearRegression()#Предсказания для третьего региона\n",
        "model_third.fit(fuatures_third_train,target_third_train)\n",
        "predicted_valid_third = model_third.predict(fuatures_third_valid)\n",
        "mse_third = mean_squared_error(target_third_valid,predicted_valid_third)\n",
        "print('RMSE=',mse_third**0.5)\n",
        "print('Средний запас предсказанного сырья ',predicted_valid_third.mean())"
      ]
    },
    {
      "cell_type": "markdown",
      "metadata": {
        "id": "GR51Bw9hwm0o"
      },
      "source": [
        "*Проверим модели на адекватность. За основу провурки берем константную модель, которая предсказывает средние значения*"
      ]
    },
    {
      "cell_type": "code",
      "execution_count": null,
      "metadata": {
        "id": "Q1M9dgLnwm0o",
        "outputId": "8d7a9aad-2391-478c-ca2e-736f3ff436fa"
      },
      "outputs": [
        {
          "name": "stdout",
          "output_type": "stream",
          "text": [
            "RMSE: 44.289591053907365\n"
          ]
        }
      ],
      "source": [
        "predictions_first = pd.Series(target_first_train.mean(), index=target_first_valid.index)# Для первой модели\n",
        "mse = mean_squared_error(target_first_valid, predictions_first)\n",
        "rmse = mse**0.5#\n",
        "print(\"RMSE:\", rmse)\n",
        "\n"
      ]
    },
    {
      "cell_type": "code",
      "execution_count": null,
      "metadata": {
        "id": "hfzljkcdwm0o",
        "outputId": "9888320a-1f22-4d53-c382-1d728d4c1488"
      },
      "outputs": [
        {
          "name": "stdout",
          "output_type": "stream",
          "text": [
            "RMSE: 46.02144533725462\n"
          ]
        }
      ],
      "source": [
        "predictions_second = pd.Series(target_second_train.mean(), index=target_second_valid.index)# Для второй модели\n",
        "mse = mean_squared_error(target_second_valid, predictions_second)\n",
        "rmse = mse**0.5#\n",
        "print(\"RMSE:\", rmse)\n"
      ]
    },
    {
      "cell_type": "code",
      "execution_count": null,
      "metadata": {
        "id": "uYLsgWm7wm0t",
        "outputId": "5011d9d8-023d-44d2-82bf-5b83ddaf2501"
      },
      "outputs": [
        {
          "name": "stdout",
          "output_type": "stream",
          "text": [
            "RMSE: 44.90234968510566\n"
          ]
        }
      ],
      "source": [
        "predictions_third = pd.Series(target_third_train.mean(), index=target_third_valid.index)# Для третьей модели\n",
        "mse = mean_squared_error(target_third_valid, predictions_third)\n",
        "rmse = mse**0.5#\n",
        "print(\"RMSE:\", rmse)\n"
      ]
    },
    {
      "cell_type": "markdown",
      "metadata": {
        "id": "9aDR2Nswwm0u"
      },
      "source": [
        "***Как видно их метрики RMSE, самое малое отклонение от истинных ответов во втором регионе 0.89 баррелей от истинных запасов.\n",
        "Наибольшее кол-во предсказанных баррелей в третьем регионе.***\n"
      ]
    },
    {
      "cell_type": "markdown",
      "metadata": {
        "id": "vhetxKmgwm0u"
      },
      "source": [
        "## Подготовка к расчёту прибыли"
      ]
    },
    {
      "cell_type": "markdown",
      "metadata": {
        "id": "-dw9Kyhrwm0u"
      },
      "source": [
        "*Все ключевые значения для расчётов сохраним в отдельных переменных.*"
      ]
    },
    {
      "cell_type": "code",
      "execution_count": null,
      "metadata": {
        "id": "D8sB4k7fwm0u"
      },
      "outputs": [],
      "source": [
        "budget = 10000000000# Бюджет разработки месторождений\n",
        "income_per_barrel = 450000# Доход с одной тысячи баррелей\n",
        "best_for_development = 200# Число лучших точек для разработки"
      ]
    },
    {
      "cell_type": "markdown",
      "metadata": {
        "id": "2Uxq28uVwm0u"
      },
      "source": [
        "Рассчитайте достаточный объём сырья для безубыточной разработки новой скважины. Сравните полученный объём сырья со средним запасом в каждом регионе."
      ]
    },
    {
      "cell_type": "code",
      "execution_count": null,
      "metadata": {
        "id": "ShN13F-Fwm0u",
        "outputId": "b038561c-f2ba-48d9-d294-0b34f06a6fda"
      },
      "outputs": [
        {
          "data": {
            "text/plain": [
              "22222.222222222223"
            ]
          },
          "execution_count": 28,
          "metadata": {},
          "output_type": "execute_result"
        }
      ],
      "source": [
        "#Общий объем баррелей необходимых для выхода в точку безубыточности\n",
        "volume = budget/income_per_barrel\n",
        "volume"
      ]
    },
    {
      "cell_type": "code",
      "execution_count": null,
      "metadata": {
        "id": "jNrP8fr9wm0v",
        "outputId": "d62c3872-6ece-4220-c28d-c0396e89960d"
      },
      "outputs": [
        {
          "data": {
            "text/plain": [
              "111.11111111111111"
            ]
          },
          "execution_count": 29,
          "metadata": {},
          "output_type": "execute_result"
        }
      ],
      "source": [
        "#Объем баррелей необходимых для выхода в точку безубыточности, для одной скважины из 200 выбранных\n",
        "volume_200 = volume/best_for_development\n",
        "volume_200"
      ]
    },
    {
      "cell_type": "markdown",
      "metadata": {
        "id": "Sz0x6Q47wm0v"
      },
      "source": [
        "***Исходя из расчета выход в безубыточности начинается на отметку 22 223 000  баррелей, при этом одна точка добычи, должна давать обьем 111 тысяч беррелей***"
      ]
    },
    {
      "cell_type": "markdown",
      "metadata": {
        "id": "fRC0SB-awm0v"
      },
      "source": [
        "## Расчёт прибыли и рисков"
      ]
    },
    {
      "cell_type": "code",
      "execution_count": null,
      "metadata": {
        "id": "dSUfq6HQwm0v"
      },
      "outputs": [],
      "source": [
        "def profit_function(predict,target):\n",
        "    predict = pd.Series(predict, index=target.index)\n",
        "    number_of_points = 200\n",
        "    predict = predict.sort_values(ascending=False)\n",
        "    product_sum = target[predict.index][:number_of_points].sum()\n",
        "    return round((product_sum * income_per_barrel) - budget,2)"
      ]
    },
    {
      "cell_type": "code",
      "execution_count": null,
      "metadata": {
        "id": "GJx_iuSZwm0v",
        "outputId": "39c85256-3efd-4d45-d494-5dff17efde31"
      },
      "outputs": [
        {
          "name": "stdout",
          "output_type": "stream",
          "text": [
            "Прибыль с 200 скважин в первом регионе: 3320826043.14\n",
            "Прибыль с 200 скважин во втором регионе: 2415086696.68\n",
            "Прибыль с 200 скважин в третьем регионе: 2710349963.6\n"
          ]
        }
      ],
      "source": [
        "print('Прибыль с 200 скважин в первом регионе:',profit_function(predicted_valid_first,target_first_valid))\n",
        "print('Прибыль с 200 скважин во втором регионе:',profit_function(predicted_valid_second,target_second_valid))\n",
        "print('Прибыль с 200 скважин в третьем регионе:',profit_function(predicted_valid_third,target_third_valid))"
      ]
    },
    {
      "cell_type": "code",
      "execution_count": null,
      "metadata": {
        "id": "nLvCNgx3wm0w"
      },
      "outputs": [],
      "source": []
    },
    {
      "cell_type": "code",
      "execution_count": null,
      "metadata": {
        "id": "Li75HBZ-wm0w"
      },
      "outputs": [],
      "source": [
        "state = np.random.RandomState(12345)\n",
        "def confidence_interval(predict,target):\n",
        "    samples = []\n",
        "    predict = pd.Series(predict, index=target.index)\n",
        "    for i in range(1000):\n",
        "        predict_sample = predict.sample(n = 500, replace=True, random_state=state)\n",
        "        target_sample  = target[predict_sample.index]\n",
        "        samples.append(profit_function(predict_sample,target_sample))\n",
        "    samples = pd.Series(samples)\n",
        "    print(f'Средняя прибыль: {samples.mean():,.2f}')\n",
        "    print(samples.apply(lambda x: x < 0).sum()/len(samples)*100,\"%\")\n",
        "    lower = samples.quantile(0.025)\n",
        "    upper = samples.quantile(0.975)\n",
        "    return round(lower,2), round(upper,2)\n"
      ]
    },
    {
      "cell_type": "code",
      "execution_count": null,
      "metadata": {
        "id": "GD7PGMsVwm0w",
        "outputId": "361177fd-9abf-4c2b-ac92-0ee2fdeaf912"
      },
      "outputs": [
        {
          "name": "stdout",
          "output_type": "stream",
          "text": [
            "Для первого региона\n",
            "Средняя прибыль: 425,938,526.91\n",
            "6.0 %\n",
            "95% доверительный итервал для Нулевового региона лежит между: (-102090094.84, 947976353.36)\n"
          ]
        }
      ],
      "source": [
        "print('Для первого региона')\n",
        "print('95% доверительный итервал для Нулевового региона лежит между:',confidence_interval(predicted_valid_first,target_first_valid))\n",
        "\n"
      ]
    },
    {
      "cell_type": "code",
      "execution_count": null,
      "metadata": {
        "id": "n6B3XvRawm0w",
        "outputId": "c0a3d8dc-baa1-4803-d69b-5369e830cb8f"
      },
      "outputs": [
        {
          "name": "stdout",
          "output_type": "stream",
          "text": [
            "Для второго региона\n",
            "Средняя прибыль: 518,259,493.70\n",
            "0.3 %\n",
            "95% доверительный итервал для Нулевового региона лежит между: (128123231.43, 953612982.06)\n"
          ]
        }
      ],
      "source": [
        "print('Для второго региона')\n",
        "print('95% доверительный итервал для Нулевового региона лежит между:',confidence_interval(predicted_valid_second,target_second_valid))"
      ]
    },
    {
      "cell_type": "code",
      "execution_count": null,
      "metadata": {
        "id": "GIjVPX28wm0x",
        "outputId": "b92170b9-91ef-4163-b58e-8cf58d480d71"
      },
      "outputs": [
        {
          "name": "stdout",
          "output_type": "stream",
          "text": [
            "Для третьего региона\n",
            "Средняя прибыль: 420,194,005.34\n",
            "6.2 %\n",
            "95% доверительный итервал для Нулевового региона лежит между: (-115852609.16, 989629939.85)\n"
          ]
        }
      ],
      "source": [
        "print('Для третьего региона')\n",
        "print('95% доверительный итервал для Нулевового региона лежит между:',confidence_interval(predicted_valid_third,target_third_valid))"
      ]
    },
    {
      "cell_type": "markdown",
      "metadata": {
        "id": "OeCUMxzLwm0x"
      },
      "source": [
        "*** Общий вывод\n",
        "Исходя из общего анализа данных лучший регион для разработки- регион под номером два.\n",
        "Имеет самый низкий риск убытков менее 2,5%( фактическое значение 0.3%). Средняя прибыль 518,259,493.70.\n",
        "Доверительный интервал не лежит в отрицательных значениях.\n",
        "Выход на точку безубыточности от текущего бюджета на отметке 111-112 тысяч баррелей,с одной скважины.\n",
        "На втором регионе имеем лучшие показатель обучения модели RMSE=0.89%***"
      ]
    },
    {
      "cell_type": "code",
      "execution_count": null,
      "metadata": {
        "id": "U9F6qhv0wm0y"
      },
      "outputs": [],
      "source": []
    }
  ],
  "metadata": {
    "ExecuteTimeLog": [
      {
        "duration": 1663,
        "start_time": "2023-04-14T10:11:50.088Z"
      },
      {
        "duration": 487,
        "start_time": "2023-04-14T10:15:44.224Z"
      },
      {
        "duration": 174,
        "start_time": "2023-04-14T10:15:52.557Z"
      },
      {
        "duration": 500,
        "start_time": "2023-04-14T10:17:16.087Z"
      },
      {
        "duration": 9,
        "start_time": "2023-04-14T10:19:13.411Z"
      },
      {
        "duration": 14,
        "start_time": "2023-04-14T10:19:30.538Z"
      },
      {
        "duration": 9,
        "start_time": "2023-04-14T10:19:33.100Z"
      },
      {
        "duration": 12,
        "start_time": "2023-04-14T10:21:41.037Z"
      },
      {
        "duration": 11,
        "start_time": "2023-04-14T10:22:10.524Z"
      },
      {
        "duration": 10,
        "start_time": "2023-04-14T10:22:33.333Z"
      },
      {
        "duration": 15,
        "start_time": "2023-04-14T10:22:57.241Z"
      },
      {
        "duration": 17,
        "start_time": "2023-04-14T10:23:23.618Z"
      },
      {
        "duration": 15,
        "start_time": "2023-04-14T10:25:23.103Z"
      },
      {
        "duration": 111,
        "start_time": "2023-04-14T10:26:24.587Z"
      },
      {
        "duration": 12,
        "start_time": "2023-04-14T10:26:30.384Z"
      },
      {
        "duration": 287,
        "start_time": "2023-04-14T10:26:37.673Z"
      },
      {
        "duration": 81,
        "start_time": "2023-04-14T10:26:56.331Z"
      },
      {
        "duration": 62,
        "start_time": "2023-04-14T11:06:05.943Z"
      },
      {
        "duration": 1495,
        "start_time": "2023-04-14T11:06:14.674Z"
      },
      {
        "duration": 947,
        "start_time": "2023-04-14T11:06:16.170Z"
      },
      {
        "duration": 13,
        "start_time": "2023-04-14T11:06:17.119Z"
      },
      {
        "duration": 20,
        "start_time": "2023-04-14T11:06:17.134Z"
      },
      {
        "duration": 31,
        "start_time": "2023-04-14T11:06:17.157Z"
      },
      {
        "duration": 34,
        "start_time": "2023-04-14T11:06:17.197Z"
      },
      {
        "duration": 15,
        "start_time": "2023-04-14T11:06:17.233Z"
      },
      {
        "duration": 13,
        "start_time": "2023-04-14T11:06:17.249Z"
      },
      {
        "duration": 18,
        "start_time": "2023-04-14T11:06:17.264Z"
      },
      {
        "duration": 29,
        "start_time": "2023-04-14T11:06:17.283Z"
      },
      {
        "duration": 18,
        "start_time": "2023-04-14T11:06:17.314Z"
      },
      {
        "duration": 319,
        "start_time": "2023-04-14T11:06:17.334Z"
      },
      {
        "duration": 122,
        "start_time": "2023-04-14T11:06:30.605Z"
      },
      {
        "duration": 122,
        "start_time": "2023-04-14T11:07:15.271Z"
      },
      {
        "duration": 16,
        "start_time": "2023-04-14T11:07:25.059Z"
      },
      {
        "duration": 56,
        "start_time": "2023-04-14T11:11:55.947Z"
      },
      {
        "duration": 59,
        "start_time": "2023-04-14T11:12:12.707Z"
      },
      {
        "duration": 55,
        "start_time": "2023-04-14T11:12:27.150Z"
      },
      {
        "duration": 19,
        "start_time": "2023-04-14T11:13:48.897Z"
      },
      {
        "duration": 18,
        "start_time": "2023-04-14T11:14:12.119Z"
      },
      {
        "duration": 49,
        "start_time": "2023-04-14T11:14:16.923Z"
      },
      {
        "duration": 14,
        "start_time": "2023-04-14T11:14:21.737Z"
      },
      {
        "duration": 60,
        "start_time": "2023-04-14T11:15:51.939Z"
      },
      {
        "duration": 52,
        "start_time": "2023-04-14T11:15:56.778Z"
      },
      {
        "duration": 49,
        "start_time": "2023-04-14T11:16:01.132Z"
      },
      {
        "duration": 23,
        "start_time": "2023-04-14T11:24:44.113Z"
      },
      {
        "duration": 17,
        "start_time": "2023-04-14T11:25:52.714Z"
      },
      {
        "duration": 6,
        "start_time": "2023-04-14T11:25:59.011Z"
      },
      {
        "duration": 18,
        "start_time": "2023-04-14T11:26:11.551Z"
      },
      {
        "duration": 17,
        "start_time": "2023-04-14T11:26:23.742Z"
      },
      {
        "duration": 19,
        "start_time": "2023-04-14T11:26:41.525Z"
      },
      {
        "duration": 19,
        "start_time": "2023-04-14T11:26:48.827Z"
      },
      {
        "duration": 1362,
        "start_time": "2023-04-14T11:26:57.585Z"
      },
      {
        "duration": 368,
        "start_time": "2023-04-14T11:26:58.950Z"
      },
      {
        "duration": 12,
        "start_time": "2023-04-14T11:26:59.320Z"
      },
      {
        "duration": 8,
        "start_time": "2023-04-14T11:26:59.334Z"
      },
      {
        "duration": 8,
        "start_time": "2023-04-14T11:26:59.344Z"
      },
      {
        "duration": 14,
        "start_time": "2023-04-14T11:26:59.353Z"
      },
      {
        "duration": 17,
        "start_time": "2023-04-14T11:26:59.391Z"
      },
      {
        "duration": 13,
        "start_time": "2023-04-14T11:26:59.410Z"
      },
      {
        "duration": 9,
        "start_time": "2023-04-14T11:26:59.424Z"
      },
      {
        "duration": 8,
        "start_time": "2023-04-14T11:26:59.434Z"
      },
      {
        "duration": 9,
        "start_time": "2023-04-14T11:26:59.444Z"
      },
      {
        "duration": 81,
        "start_time": "2023-04-14T11:26:59.454Z"
      },
      {
        "duration": 40,
        "start_time": "2023-04-14T11:26:59.537Z"
      },
      {
        "duration": 49,
        "start_time": "2023-04-14T11:26:59.590Z"
      },
      {
        "duration": 134,
        "start_time": "2023-04-14T11:26:59.640Z"
      },
      {
        "duration": 20,
        "start_time": "2023-04-14T11:46:33.455Z"
      },
      {
        "duration": 1509,
        "start_time": "2023-04-14T11:46:43.167Z"
      },
      {
        "duration": 364,
        "start_time": "2023-04-14T11:46:44.678Z"
      },
      {
        "duration": 14,
        "start_time": "2023-04-14T11:46:45.044Z"
      },
      {
        "duration": 21,
        "start_time": "2023-04-14T11:46:45.060Z"
      },
      {
        "duration": 13,
        "start_time": "2023-04-14T11:46:45.083Z"
      },
      {
        "duration": 17,
        "start_time": "2023-04-14T11:46:45.098Z"
      },
      {
        "duration": 13,
        "start_time": "2023-04-14T11:46:45.116Z"
      },
      {
        "duration": 13,
        "start_time": "2023-04-14T11:46:45.131Z"
      },
      {
        "duration": 9,
        "start_time": "2023-04-14T11:46:45.146Z"
      },
      {
        "duration": 41,
        "start_time": "2023-04-14T11:46:45.156Z"
      },
      {
        "duration": 9,
        "start_time": "2023-04-14T11:46:45.198Z"
      },
      {
        "duration": 48,
        "start_time": "2023-04-14T11:46:45.208Z"
      },
      {
        "duration": 63,
        "start_time": "2023-04-14T11:46:45.258Z"
      },
      {
        "duration": 66,
        "start_time": "2023-04-14T11:46:45.324Z"
      },
      {
        "duration": 128,
        "start_time": "2023-04-14T11:46:45.392Z"
      },
      {
        "duration": 14,
        "start_time": "2023-04-14T11:46:57.441Z"
      },
      {
        "duration": 17,
        "start_time": "2023-04-14T12:06:54.182Z"
      },
      {
        "duration": 17,
        "start_time": "2023-04-14T12:07:13.079Z"
      },
      {
        "duration": 14,
        "start_time": "2023-04-14T13:31:59.007Z"
      },
      {
        "duration": 1437,
        "start_time": "2023-04-14T13:32:18.519Z"
      },
      {
        "duration": 555,
        "start_time": "2023-04-14T13:32:19.958Z"
      },
      {
        "duration": 19,
        "start_time": "2023-04-14T13:32:20.516Z"
      },
      {
        "duration": 13,
        "start_time": "2023-04-14T13:32:20.540Z"
      },
      {
        "duration": 18,
        "start_time": "2023-04-14T13:32:20.555Z"
      },
      {
        "duration": 42,
        "start_time": "2023-04-14T13:32:20.575Z"
      },
      {
        "duration": 16,
        "start_time": "2023-04-14T13:32:20.620Z"
      },
      {
        "duration": 13,
        "start_time": "2023-04-14T13:32:20.638Z"
      },
      {
        "duration": 12,
        "start_time": "2023-04-14T13:32:20.653Z"
      },
      {
        "duration": 39,
        "start_time": "2023-04-14T13:32:20.666Z"
      },
      {
        "duration": 14,
        "start_time": "2023-04-14T13:32:20.708Z"
      },
      {
        "duration": 53,
        "start_time": "2023-04-14T13:32:20.724Z"
      },
      {
        "duration": 69,
        "start_time": "2023-04-14T13:32:20.779Z"
      },
      {
        "duration": 53,
        "start_time": "2023-04-14T13:32:20.851Z"
      },
      {
        "duration": 7,
        "start_time": "2023-04-14T13:32:20.906Z"
      },
      {
        "duration": 119,
        "start_time": "2023-04-14T13:32:26.260Z"
      },
      {
        "duration": 12,
        "start_time": "2023-04-14T13:32:35.149Z"
      },
      {
        "duration": 19,
        "start_time": "2023-04-14T13:33:43.341Z"
      },
      {
        "duration": 19,
        "start_time": "2023-04-14T13:34:07.303Z"
      },
      {
        "duration": 51,
        "start_time": "2023-04-14T13:34:43.019Z"
      },
      {
        "duration": 15,
        "start_time": "2023-04-14T13:34:49.419Z"
      },
      {
        "duration": 1509,
        "start_time": "2023-04-14T13:34:58.687Z"
      },
      {
        "duration": 467,
        "start_time": "2023-04-14T13:35:00.200Z"
      },
      {
        "duration": 21,
        "start_time": "2023-04-14T13:35:00.669Z"
      },
      {
        "duration": 31,
        "start_time": "2023-04-14T13:35:00.692Z"
      },
      {
        "duration": 43,
        "start_time": "2023-04-14T13:35:00.726Z"
      },
      {
        "duration": 51,
        "start_time": "2023-04-14T13:35:00.771Z"
      },
      {
        "duration": 28,
        "start_time": "2023-04-14T13:35:00.824Z"
      },
      {
        "duration": 26,
        "start_time": "2023-04-14T13:35:00.854Z"
      },
      {
        "duration": 30,
        "start_time": "2023-04-14T13:35:00.882Z"
      },
      {
        "duration": 32,
        "start_time": "2023-04-14T13:35:00.913Z"
      },
      {
        "duration": 34,
        "start_time": "2023-04-14T13:35:00.947Z"
      },
      {
        "duration": 71,
        "start_time": "2023-04-14T13:35:00.983Z"
      },
      {
        "duration": 50,
        "start_time": "2023-04-14T13:35:01.056Z"
      },
      {
        "duration": 47,
        "start_time": "2023-04-14T13:35:01.114Z"
      },
      {
        "duration": 12,
        "start_time": "2023-04-14T13:35:01.162Z"
      },
      {
        "duration": 44,
        "start_time": "2023-04-14T13:35:01.175Z"
      },
      {
        "duration": 12,
        "start_time": "2023-04-14T13:35:12.816Z"
      },
      {
        "duration": 119,
        "start_time": "2023-04-14T13:35:23.350Z"
      },
      {
        "duration": 4,
        "start_time": "2023-04-14T13:42:48.402Z"
      },
      {
        "duration": 12,
        "start_time": "2023-04-14T13:42:59.749Z"
      },
      {
        "duration": 12,
        "start_time": "2023-04-14T13:44:09.522Z"
      },
      {
        "duration": 3,
        "start_time": "2023-04-14T13:51:54.693Z"
      },
      {
        "duration": 4,
        "start_time": "2023-04-14T13:52:34.994Z"
      },
      {
        "duration": 3,
        "start_time": "2023-04-14T13:52:59.821Z"
      },
      {
        "duration": 13,
        "start_time": "2023-04-14T14:05:28.130Z"
      },
      {
        "duration": 10,
        "start_time": "2023-04-14T14:05:36.719Z"
      },
      {
        "duration": 14,
        "start_time": "2023-04-14T14:12:55.041Z"
      },
      {
        "duration": 20,
        "start_time": "2023-04-14T14:13:30.465Z"
      },
      {
        "duration": 10,
        "start_time": "2023-04-14T14:14:40.617Z"
      },
      {
        "duration": 14,
        "start_time": "2023-04-14T14:14:52.129Z"
      },
      {
        "duration": 6,
        "start_time": "2023-04-14T14:15:26.719Z"
      },
      {
        "duration": 13,
        "start_time": "2023-04-14T14:15:44.874Z"
      },
      {
        "duration": 15,
        "start_time": "2023-04-14T14:17:15.210Z"
      },
      {
        "duration": 5,
        "start_time": "2023-04-14T14:17:29.541Z"
      },
      {
        "duration": 25,
        "start_time": "2023-04-14T14:25:45.584Z"
      },
      {
        "duration": 1518,
        "start_time": "2023-04-14T19:36:25.799Z"
      },
      {
        "duration": 1680,
        "start_time": "2023-04-14T19:36:27.319Z"
      },
      {
        "duration": 14,
        "start_time": "2023-04-14T19:36:29.003Z"
      },
      {
        "duration": 9,
        "start_time": "2023-04-14T19:36:29.020Z"
      },
      {
        "duration": 13,
        "start_time": "2023-04-14T19:36:29.030Z"
      },
      {
        "duration": 24,
        "start_time": "2023-04-14T19:36:29.045Z"
      },
      {
        "duration": 21,
        "start_time": "2023-04-14T19:36:29.070Z"
      },
      {
        "duration": 14,
        "start_time": "2023-04-14T19:36:29.092Z"
      },
      {
        "duration": 11,
        "start_time": "2023-04-14T19:36:29.108Z"
      },
      {
        "duration": 10,
        "start_time": "2023-04-14T19:36:29.121Z"
      },
      {
        "duration": 13,
        "start_time": "2023-04-14T19:36:29.133Z"
      },
      {
        "duration": 87,
        "start_time": "2023-04-14T19:36:29.148Z"
      },
      {
        "duration": 56,
        "start_time": "2023-04-14T19:36:29.238Z"
      },
      {
        "duration": 46,
        "start_time": "2023-04-14T19:36:29.296Z"
      },
      {
        "duration": 13,
        "start_time": "2023-04-14T19:36:29.343Z"
      },
      {
        "duration": 11,
        "start_time": "2023-04-14T19:36:29.357Z"
      },
      {
        "duration": 6,
        "start_time": "2023-04-14T19:36:29.388Z"
      },
      {
        "duration": 15,
        "start_time": "2023-04-14T19:36:29.396Z"
      },
      {
        "duration": 16,
        "start_time": "2023-04-14T19:36:29.412Z"
      },
      {
        "duration": 12,
        "start_time": "2023-04-14T19:36:29.430Z"
      },
      {
        "duration": 72,
        "start_time": "2023-04-14T19:43:12.125Z"
      },
      {
        "duration": 111,
        "start_time": "2023-04-14T19:44:58.808Z"
      },
      {
        "duration": 4,
        "start_time": "2023-04-14T19:46:04.107Z"
      },
      {
        "duration": 1414,
        "start_time": "2023-04-14T19:46:10.677Z"
      },
      {
        "duration": 399,
        "start_time": "2023-04-14T19:46:12.093Z"
      },
      {
        "duration": 18,
        "start_time": "2023-04-14T19:46:12.493Z"
      },
      {
        "duration": 11,
        "start_time": "2023-04-14T19:46:12.512Z"
      },
      {
        "duration": 17,
        "start_time": "2023-04-14T19:46:12.526Z"
      },
      {
        "duration": 31,
        "start_time": "2023-04-14T19:46:12.545Z"
      },
      {
        "duration": 21,
        "start_time": "2023-04-14T19:46:12.578Z"
      },
      {
        "duration": 13,
        "start_time": "2023-04-14T19:46:12.601Z"
      },
      {
        "duration": 9,
        "start_time": "2023-04-14T19:46:12.616Z"
      },
      {
        "duration": 15,
        "start_time": "2023-04-14T19:46:12.626Z"
      },
      {
        "duration": 9,
        "start_time": "2023-04-14T19:46:12.642Z"
      },
      {
        "duration": 78,
        "start_time": "2023-04-14T19:46:12.653Z"
      },
      {
        "duration": 56,
        "start_time": "2023-04-14T19:46:12.733Z"
      },
      {
        "duration": 49,
        "start_time": "2023-04-14T19:46:12.793Z"
      },
      {
        "duration": 12,
        "start_time": "2023-04-14T19:46:12.844Z"
      },
      {
        "duration": 32,
        "start_time": "2023-04-14T19:46:12.858Z"
      },
      {
        "duration": 20,
        "start_time": "2023-04-14T19:46:12.892Z"
      },
      {
        "duration": 17,
        "start_time": "2023-04-14T19:46:12.914Z"
      },
      {
        "duration": 20,
        "start_time": "2023-04-14T19:46:12.933Z"
      },
      {
        "duration": 17,
        "start_time": "2023-04-14T19:46:12.954Z"
      },
      {
        "duration": 7,
        "start_time": "2023-04-14T19:46:12.973Z"
      },
      {
        "duration": 3,
        "start_time": "2023-04-14T19:53:58.800Z"
      },
      {
        "duration": 125,
        "start_time": "2023-04-14T19:54:28.961Z"
      },
      {
        "duration": 16,
        "start_time": "2023-04-14T19:55:01.974Z"
      },
      {
        "duration": 25,
        "start_time": "2023-04-14T19:57:19.889Z"
      },
      {
        "duration": 3,
        "start_time": "2023-04-14T20:02:10.906Z"
      },
      {
        "duration": 1383,
        "start_time": "2023-04-14T20:02:37.137Z"
      },
      {
        "duration": 401,
        "start_time": "2023-04-14T20:02:38.522Z"
      },
      {
        "duration": 15,
        "start_time": "2023-04-14T20:02:38.925Z"
      },
      {
        "duration": 31,
        "start_time": "2023-04-14T20:02:38.942Z"
      },
      {
        "duration": 33,
        "start_time": "2023-04-14T20:02:38.975Z"
      },
      {
        "duration": 19,
        "start_time": "2023-04-14T20:02:39.010Z"
      },
      {
        "duration": 13,
        "start_time": "2023-04-14T20:02:39.031Z"
      },
      {
        "duration": 21,
        "start_time": "2023-04-14T20:02:39.045Z"
      },
      {
        "duration": 24,
        "start_time": "2023-04-14T20:02:39.067Z"
      },
      {
        "duration": 47,
        "start_time": "2023-04-14T20:02:39.093Z"
      },
      {
        "duration": 25,
        "start_time": "2023-04-14T20:02:39.142Z"
      },
      {
        "duration": 53,
        "start_time": "2023-04-14T20:02:39.169Z"
      },
      {
        "duration": 40,
        "start_time": "2023-04-14T20:02:39.224Z"
      },
      {
        "duration": 54,
        "start_time": "2023-04-14T20:02:39.266Z"
      },
      {
        "duration": 13,
        "start_time": "2023-04-14T20:02:39.322Z"
      },
      {
        "duration": 19,
        "start_time": "2023-04-14T20:02:39.337Z"
      },
      {
        "duration": 12,
        "start_time": "2023-04-14T20:02:39.358Z"
      },
      {
        "duration": 18,
        "start_time": "2023-04-14T20:02:39.371Z"
      },
      {
        "duration": 12,
        "start_time": "2023-04-14T20:02:39.391Z"
      },
      {
        "duration": 15,
        "start_time": "2023-04-14T20:02:39.405Z"
      },
      {
        "duration": 16,
        "start_time": "2023-04-14T20:02:39.422Z"
      },
      {
        "duration": 14,
        "start_time": "2023-04-14T20:05:11.838Z"
      },
      {
        "duration": 16,
        "start_time": "2023-04-14T20:07:41.917Z"
      },
      {
        "duration": 126,
        "start_time": "2023-04-14T20:13:28.481Z"
      },
      {
        "duration": 1357,
        "start_time": "2023-04-14T20:13:36.003Z"
      },
      {
        "duration": 388,
        "start_time": "2023-04-14T20:13:37.362Z"
      },
      {
        "duration": 15,
        "start_time": "2023-04-14T20:13:37.751Z"
      },
      {
        "duration": 9,
        "start_time": "2023-04-14T20:13:37.768Z"
      },
      {
        "duration": 9,
        "start_time": "2023-04-14T20:13:37.789Z"
      },
      {
        "duration": 20,
        "start_time": "2023-04-14T20:13:37.799Z"
      },
      {
        "duration": 14,
        "start_time": "2023-04-14T20:13:37.821Z"
      },
      {
        "duration": 14,
        "start_time": "2023-04-14T20:13:37.836Z"
      },
      {
        "duration": 37,
        "start_time": "2023-04-14T20:13:37.851Z"
      },
      {
        "duration": 10,
        "start_time": "2023-04-14T20:13:37.892Z"
      },
      {
        "duration": 11,
        "start_time": "2023-04-14T20:13:37.903Z"
      },
      {
        "duration": 46,
        "start_time": "2023-04-14T20:13:37.915Z"
      },
      {
        "duration": 47,
        "start_time": "2023-04-14T20:13:37.987Z"
      },
      {
        "duration": 61,
        "start_time": "2023-04-14T20:13:38.036Z"
      },
      {
        "duration": 13,
        "start_time": "2023-04-14T20:13:38.099Z"
      },
      {
        "duration": 15,
        "start_time": "2023-04-14T20:13:38.114Z"
      },
      {
        "duration": 10,
        "start_time": "2023-04-14T20:13:38.130Z"
      },
      {
        "duration": 21,
        "start_time": "2023-04-14T20:13:38.142Z"
      },
      {
        "duration": 17,
        "start_time": "2023-04-14T20:13:38.164Z"
      },
      {
        "duration": 14,
        "start_time": "2023-04-14T20:13:38.187Z"
      },
      {
        "duration": 272,
        "start_time": "2023-04-14T20:13:38.202Z"
      },
      {
        "duration": 0,
        "start_time": "2023-04-14T20:13:38.475Z"
      },
      {
        "duration": 0,
        "start_time": "2023-04-14T20:13:38.477Z"
      },
      {
        "duration": 0,
        "start_time": "2023-04-14T20:13:38.487Z"
      },
      {
        "duration": 16,
        "start_time": "2023-04-14T20:14:26.726Z"
      },
      {
        "duration": 17,
        "start_time": "2023-04-14T20:15:38.641Z"
      },
      {
        "duration": 19,
        "start_time": "2023-04-14T20:15:55.037Z"
      },
      {
        "duration": 78,
        "start_time": "2023-04-14T20:42:51.582Z"
      },
      {
        "duration": 20,
        "start_time": "2023-04-14T20:42:57.062Z"
      },
      {
        "duration": 16,
        "start_time": "2023-04-14T20:44:34.944Z"
      },
      {
        "duration": 18,
        "start_time": "2023-04-14T20:44:52.303Z"
      },
      {
        "duration": 6,
        "start_time": "2023-04-14T20:49:31.783Z"
      },
      {
        "duration": 11,
        "start_time": "2023-04-14T20:50:10.668Z"
      },
      {
        "duration": 9,
        "start_time": "2023-04-14T20:55:32.197Z"
      },
      {
        "duration": 10,
        "start_time": "2023-04-14T20:56:14.550Z"
      },
      {
        "duration": 15,
        "start_time": "2023-04-14T21:01:58.305Z"
      },
      {
        "duration": 14,
        "start_time": "2023-04-14T21:03:09.917Z"
      },
      {
        "duration": 4,
        "start_time": "2023-04-14T21:03:25.502Z"
      },
      {
        "duration": 13,
        "start_time": "2023-04-14T21:03:48.290Z"
      },
      {
        "duration": 6,
        "start_time": "2023-04-14T21:05:21.047Z"
      },
      {
        "duration": 6,
        "start_time": "2023-04-14T21:07:23.883Z"
      },
      {
        "duration": 6,
        "start_time": "2023-04-14T21:07:27.459Z"
      },
      {
        "duration": 6,
        "start_time": "2023-04-14T21:10:51.246Z"
      },
      {
        "duration": 1523,
        "start_time": "2023-04-20T09:10:03.518Z"
      },
      {
        "duration": 3020,
        "start_time": "2023-04-20T09:10:05.043Z"
      },
      {
        "duration": 20,
        "start_time": "2023-04-20T09:10:08.065Z"
      },
      {
        "duration": 12,
        "start_time": "2023-04-20T09:10:08.088Z"
      },
      {
        "duration": 18,
        "start_time": "2023-04-20T09:10:08.102Z"
      },
      {
        "duration": 20,
        "start_time": "2023-04-20T09:10:08.122Z"
      },
      {
        "duration": 31,
        "start_time": "2023-04-20T09:10:08.144Z"
      },
      {
        "duration": 19,
        "start_time": "2023-04-20T09:10:08.177Z"
      },
      {
        "duration": 21,
        "start_time": "2023-04-20T09:10:08.197Z"
      },
      {
        "duration": 9,
        "start_time": "2023-04-20T09:10:08.221Z"
      },
      {
        "duration": 37,
        "start_time": "2023-04-20T09:10:08.232Z"
      },
      {
        "duration": 59,
        "start_time": "2023-04-20T09:10:08.271Z"
      },
      {
        "duration": 67,
        "start_time": "2023-04-20T09:10:08.332Z"
      },
      {
        "duration": 43,
        "start_time": "2023-04-20T09:10:08.401Z"
      },
      {
        "duration": 20,
        "start_time": "2023-04-20T09:10:08.446Z"
      },
      {
        "duration": 18,
        "start_time": "2023-04-20T09:10:08.468Z"
      },
      {
        "duration": 13,
        "start_time": "2023-04-20T09:10:08.488Z"
      },
      {
        "duration": 16,
        "start_time": "2023-04-20T09:10:08.502Z"
      },
      {
        "duration": 14,
        "start_time": "2023-04-20T09:10:08.520Z"
      },
      {
        "duration": 27,
        "start_time": "2023-04-20T09:10:08.536Z"
      },
      {
        "duration": 32,
        "start_time": "2023-04-20T09:10:08.566Z"
      },
      {
        "duration": 106,
        "start_time": "2023-04-20T09:10:08.664Z"
      },
      {
        "duration": 217,
        "start_time": "2023-04-20T09:10:08.772Z"
      },
      {
        "duration": 76,
        "start_time": "2023-04-20T09:10:08.994Z"
      },
      {
        "duration": 12,
        "start_time": "2023-04-20T09:10:09.075Z"
      },
      {
        "duration": 9,
        "start_time": "2023-04-20T09:10:09.089Z"
      },
      {
        "duration": 1626,
        "start_time": "2023-04-20T12:46:58.803Z"
      },
      {
        "duration": 548,
        "start_time": "2023-04-20T12:47:00.431Z"
      },
      {
        "duration": 20,
        "start_time": "2023-04-20T12:47:00.984Z"
      },
      {
        "duration": 64,
        "start_time": "2023-04-20T12:47:01.007Z"
      },
      {
        "duration": 70,
        "start_time": "2023-04-20T12:47:01.074Z"
      },
      {
        "duration": 69,
        "start_time": "2023-04-20T12:47:01.147Z"
      },
      {
        "duration": 73,
        "start_time": "2023-04-20T12:47:01.219Z"
      },
      {
        "duration": 43,
        "start_time": "2023-04-20T12:47:01.294Z"
      },
      {
        "duration": 51,
        "start_time": "2023-04-20T12:47:01.339Z"
      },
      {
        "duration": 47,
        "start_time": "2023-04-20T12:47:01.392Z"
      },
      {
        "duration": 41,
        "start_time": "2023-04-20T12:47:01.441Z"
      },
      {
        "duration": 103,
        "start_time": "2023-04-20T12:47:01.485Z"
      },
      {
        "duration": 57,
        "start_time": "2023-04-20T12:47:01.590Z"
      },
      {
        "duration": 73,
        "start_time": "2023-04-20T12:47:01.650Z"
      },
      {
        "duration": 17,
        "start_time": "2023-04-20T12:47:01.725Z"
      },
      {
        "duration": 36,
        "start_time": "2023-04-20T12:47:01.744Z"
      },
      {
        "duration": 65,
        "start_time": "2023-04-20T12:47:01.783Z"
      },
      {
        "duration": 74,
        "start_time": "2023-04-20T12:47:01.852Z"
      },
      {
        "duration": 24,
        "start_time": "2023-04-20T12:47:01.930Z"
      },
      {
        "duration": 39,
        "start_time": "2023-04-20T12:47:01.956Z"
      },
      {
        "duration": 74,
        "start_time": "2023-04-20T12:47:01.998Z"
      },
      {
        "duration": 194,
        "start_time": "2023-04-20T12:47:02.073Z"
      },
      {
        "duration": 141,
        "start_time": "2023-04-20T12:47:02.275Z"
      },
      {
        "duration": 44,
        "start_time": "2023-04-20T12:47:02.421Z"
      },
      {
        "duration": 17,
        "start_time": "2023-04-20T12:47:02.468Z"
      },
      {
        "duration": 33,
        "start_time": "2023-04-20T12:47:02.490Z"
      },
      {
        "duration": 6,
        "start_time": "2023-04-20T12:49:38.580Z"
      },
      {
        "duration": 5,
        "start_time": "2023-04-20T12:50:31.300Z"
      },
      {
        "duration": 5,
        "start_time": "2023-04-20T12:50:59.490Z"
      },
      {
        "duration": 8,
        "start_time": "2023-04-20T13:24:48.179Z"
      },
      {
        "duration": 6,
        "start_time": "2023-04-20T13:30:09.692Z"
      },
      {
        "duration": 6,
        "start_time": "2023-04-20T13:30:47.654Z"
      },
      {
        "duration": 6,
        "start_time": "2023-04-20T13:30:51.426Z"
      },
      {
        "duration": 22,
        "start_time": "2023-04-20T13:31:22.912Z"
      },
      {
        "duration": 33,
        "start_time": "2023-04-20T13:31:34.392Z"
      },
      {
        "duration": 40,
        "start_time": "2023-04-20T13:32:02.754Z"
      },
      {
        "duration": 5,
        "start_time": "2023-04-20T13:32:22.446Z"
      },
      {
        "duration": 5,
        "start_time": "2023-04-20T13:32:24.750Z"
      },
      {
        "duration": 19,
        "start_time": "2023-04-20T13:32:27.091Z"
      },
      {
        "duration": 6,
        "start_time": "2023-04-20T16:06:03.691Z"
      },
      {
        "duration": 4,
        "start_time": "2023-04-20T16:20:55.916Z"
      },
      {
        "duration": 3,
        "start_time": "2023-04-20T16:36:31.382Z"
      },
      {
        "duration": 4,
        "start_time": "2023-04-20T16:36:50.714Z"
      },
      {
        "duration": 3,
        "start_time": "2023-04-20T16:40:04.144Z"
      },
      {
        "duration": 2,
        "start_time": "2023-04-20T16:40:09.697Z"
      },
      {
        "duration": 4,
        "start_time": "2023-04-20T16:40:14.813Z"
      },
      {
        "duration": 1447,
        "start_time": "2023-04-20T19:11:35.504Z"
      },
      {
        "duration": 1612,
        "start_time": "2023-04-20T19:11:36.953Z"
      },
      {
        "duration": 14,
        "start_time": "2023-04-20T19:11:38.567Z"
      },
      {
        "duration": 8,
        "start_time": "2023-04-20T19:11:38.583Z"
      },
      {
        "duration": 9,
        "start_time": "2023-04-20T19:11:38.593Z"
      },
      {
        "duration": 24,
        "start_time": "2023-04-20T19:11:38.604Z"
      },
      {
        "duration": 14,
        "start_time": "2023-04-20T19:11:38.630Z"
      },
      {
        "duration": 22,
        "start_time": "2023-04-20T19:11:38.646Z"
      },
      {
        "duration": 25,
        "start_time": "2023-04-20T19:11:38.670Z"
      },
      {
        "duration": 14,
        "start_time": "2023-04-20T19:11:38.696Z"
      },
      {
        "duration": 14,
        "start_time": "2023-04-20T19:11:38.712Z"
      },
      {
        "duration": 66,
        "start_time": "2023-04-20T19:11:38.728Z"
      },
      {
        "duration": 43,
        "start_time": "2023-04-20T19:11:38.795Z"
      },
      {
        "duration": 45,
        "start_time": "2023-04-20T19:11:38.855Z"
      },
      {
        "duration": 12,
        "start_time": "2023-04-20T19:11:38.902Z"
      },
      {
        "duration": 42,
        "start_time": "2023-04-20T19:11:38.915Z"
      },
      {
        "duration": 4,
        "start_time": "2023-04-20T19:11:38.958Z"
      },
      {
        "duration": 16,
        "start_time": "2023-04-20T19:11:38.964Z"
      },
      {
        "duration": 12,
        "start_time": "2023-04-20T19:11:38.982Z"
      },
      {
        "duration": 13,
        "start_time": "2023-04-20T19:11:38.996Z"
      },
      {
        "duration": 49,
        "start_time": "2023-04-20T19:11:39.010Z"
      },
      {
        "duration": 105,
        "start_time": "2023-04-20T19:11:39.061Z"
      },
      {
        "duration": 95,
        "start_time": "2023-04-20T19:11:39.168Z"
      },
      {
        "duration": 96,
        "start_time": "2023-04-20T19:11:39.264Z"
      },
      {
        "duration": 94,
        "start_time": "2023-04-20T19:11:39.363Z"
      },
      {
        "duration": 7,
        "start_time": "2023-04-20T19:11:39.459Z"
      },
      {
        "duration": 17,
        "start_time": "2023-04-20T19:11:39.468Z"
      },
      {
        "duration": 14,
        "start_time": "2023-04-20T19:11:39.487Z"
      },
      {
        "duration": 8,
        "start_time": "2023-04-20T19:11:39.503Z"
      },
      {
        "duration": 79,
        "start_time": "2023-04-20T19:12:29.278Z"
      },
      {
        "duration": 9,
        "start_time": "2023-04-21T14:08:19.677Z"
      },
      {
        "duration": 3,
        "start_time": "2023-04-21T14:13:38.386Z"
      },
      {
        "duration": 43,
        "start_time": "2023-04-21T14:15:08.788Z"
      },
      {
        "duration": 1632,
        "start_time": "2023-04-21T14:15:20.681Z"
      },
      {
        "duration": 727,
        "start_time": "2023-04-21T14:15:22.315Z"
      },
      {
        "duration": 14,
        "start_time": "2023-04-21T14:15:23.043Z"
      },
      {
        "duration": 30,
        "start_time": "2023-04-21T14:15:23.058Z"
      },
      {
        "duration": 25,
        "start_time": "2023-04-21T14:15:23.091Z"
      },
      {
        "duration": 37,
        "start_time": "2023-04-21T14:15:23.118Z"
      },
      {
        "duration": 19,
        "start_time": "2023-04-21T14:15:23.156Z"
      },
      {
        "duration": 22,
        "start_time": "2023-04-21T14:15:23.176Z"
      },
      {
        "duration": 20,
        "start_time": "2023-04-21T14:15:23.199Z"
      },
      {
        "duration": 18,
        "start_time": "2023-04-21T14:15:23.221Z"
      },
      {
        "duration": 30,
        "start_time": "2023-04-21T14:15:23.240Z"
      },
      {
        "duration": 62,
        "start_time": "2023-04-21T14:15:23.271Z"
      },
      {
        "duration": 43,
        "start_time": "2023-04-21T14:15:23.335Z"
      },
      {
        "duration": 48,
        "start_time": "2023-04-21T14:15:23.384Z"
      },
      {
        "duration": 13,
        "start_time": "2023-04-21T14:15:23.434Z"
      },
      {
        "duration": 24,
        "start_time": "2023-04-21T14:15:23.449Z"
      },
      {
        "duration": 14,
        "start_time": "2023-04-21T14:15:23.475Z"
      },
      {
        "duration": 26,
        "start_time": "2023-04-21T14:15:23.490Z"
      },
      {
        "duration": 21,
        "start_time": "2023-04-21T14:15:23.518Z"
      },
      {
        "duration": 20,
        "start_time": "2023-04-21T14:15:23.541Z"
      },
      {
        "duration": 31,
        "start_time": "2023-04-21T14:15:23.563Z"
      },
      {
        "duration": 199,
        "start_time": "2023-04-21T14:15:23.596Z"
      },
      {
        "duration": 193,
        "start_time": "2023-04-21T14:15:23.799Z"
      },
      {
        "duration": 193,
        "start_time": "2023-04-21T14:15:23.994Z"
      },
      {
        "duration": 33,
        "start_time": "2023-04-21T14:15:24.189Z"
      },
      {
        "duration": 13,
        "start_time": "2023-04-21T14:15:24.224Z"
      },
      {
        "duration": 14,
        "start_time": "2023-04-21T14:15:24.239Z"
      },
      {
        "duration": 16,
        "start_time": "2023-04-21T14:15:24.254Z"
      },
      {
        "duration": 36,
        "start_time": "2023-04-21T14:15:24.271Z"
      },
      {
        "duration": 30,
        "start_time": "2023-04-21T14:15:24.309Z"
      },
      {
        "duration": 45,
        "start_time": "2023-04-21T14:15:24.341Z"
      },
      {
        "duration": 464,
        "start_time": "2023-04-21T14:19:51.937Z"
      },
      {
        "duration": 7,
        "start_time": "2023-04-21T14:19:59.352Z"
      },
      {
        "duration": 8,
        "start_time": "2023-04-21T14:20:06.804Z"
      },
      {
        "duration": 4,
        "start_time": "2023-04-21T14:20:37.583Z"
      },
      {
        "duration": 7,
        "start_time": "2023-04-21T14:20:40.543Z"
      },
      {
        "duration": 3,
        "start_time": "2023-04-21T14:20:43.670Z"
      },
      {
        "duration": 7,
        "start_time": "2023-04-21T14:20:47.109Z"
      },
      {
        "duration": 15,
        "start_time": "2023-04-21T14:22:03.167Z"
      },
      {
        "duration": 22,
        "start_time": "2023-04-21T14:22:50.477Z"
      },
      {
        "duration": 112,
        "start_time": "2023-04-21T16:24:51.124Z"
      },
      {
        "duration": 3,
        "start_time": "2023-04-21T16:25:21.399Z"
      },
      {
        "duration": 1428,
        "start_time": "2023-04-21T16:25:27.553Z"
      },
      {
        "duration": 400,
        "start_time": "2023-04-21T16:25:28.984Z"
      },
      {
        "duration": 15,
        "start_time": "2023-04-21T16:25:29.385Z"
      },
      {
        "duration": 9,
        "start_time": "2023-04-21T16:25:29.402Z"
      },
      {
        "duration": 12,
        "start_time": "2023-04-21T16:25:29.413Z"
      },
      {
        "duration": 20,
        "start_time": "2023-04-21T16:25:29.426Z"
      },
      {
        "duration": 49,
        "start_time": "2023-04-21T16:25:29.448Z"
      },
      {
        "duration": 16,
        "start_time": "2023-04-21T16:25:29.499Z"
      },
      {
        "duration": 15,
        "start_time": "2023-04-21T16:25:29.517Z"
      },
      {
        "duration": 13,
        "start_time": "2023-04-21T16:25:29.534Z"
      },
      {
        "duration": 41,
        "start_time": "2023-04-21T16:25:29.548Z"
      },
      {
        "duration": 48,
        "start_time": "2023-04-21T16:25:29.591Z"
      },
      {
        "duration": 71,
        "start_time": "2023-04-21T16:25:29.641Z"
      },
      {
        "duration": 51,
        "start_time": "2023-04-21T16:25:29.716Z"
      },
      {
        "duration": 26,
        "start_time": "2023-04-21T16:25:29.770Z"
      },
      {
        "duration": 63,
        "start_time": "2023-04-21T16:25:29.798Z"
      },
      {
        "duration": 14,
        "start_time": "2023-04-21T16:25:29.863Z"
      },
      {
        "duration": 26,
        "start_time": "2023-04-21T16:25:29.878Z"
      },
      {
        "duration": 15,
        "start_time": "2023-04-21T16:25:29.906Z"
      },
      {
        "duration": 15,
        "start_time": "2023-04-21T16:25:29.923Z"
      },
      {
        "duration": 57,
        "start_time": "2023-04-21T16:25:29.939Z"
      },
      {
        "duration": 100,
        "start_time": "2023-04-21T16:25:30.084Z"
      },
      {
        "duration": 198,
        "start_time": "2023-04-21T16:25:30.187Z"
      },
      {
        "duration": 139,
        "start_time": "2023-04-21T16:25:30.388Z"
      },
      {
        "duration": 33,
        "start_time": "2023-04-21T16:25:30.530Z"
      },
      {
        "duration": 60,
        "start_time": "2023-04-21T16:25:30.566Z"
      },
      {
        "duration": 52,
        "start_time": "2023-04-21T16:25:30.628Z"
      },
      {
        "duration": 49,
        "start_time": "2023-04-21T16:25:30.683Z"
      },
      {
        "duration": 31,
        "start_time": "2023-04-21T16:25:30.734Z"
      },
      {
        "duration": 56,
        "start_time": "2023-04-21T16:25:30.767Z"
      },
      {
        "duration": 74,
        "start_time": "2023-04-21T16:25:30.826Z"
      },
      {
        "duration": 18,
        "start_time": "2023-04-21T16:25:30.902Z"
      },
      {
        "duration": 6,
        "start_time": "2023-04-21T16:25:37.760Z"
      },
      {
        "duration": 105,
        "start_time": "2023-04-21T16:27:55.847Z"
      },
      {
        "duration": 5,
        "start_time": "2023-04-21T16:28:15.979Z"
      },
      {
        "duration": 24,
        "start_time": "2023-04-21T16:28:18.644Z"
      },
      {
        "duration": 6,
        "start_time": "2023-04-21T17:02:53.767Z"
      },
      {
        "duration": 12,
        "start_time": "2023-04-21T17:02:57.120Z"
      },
      {
        "duration": 5,
        "start_time": "2023-04-21T17:06:13.911Z"
      },
      {
        "duration": 17,
        "start_time": "2023-04-21T17:06:17.382Z"
      },
      {
        "duration": 5,
        "start_time": "2023-04-21T17:12:24.994Z"
      },
      {
        "duration": 12,
        "start_time": "2023-04-21T17:12:27.408Z"
      },
      {
        "duration": 20,
        "start_time": "2023-04-21T17:20:34.041Z"
      },
      {
        "duration": 12,
        "start_time": "2023-04-21T17:38:10.499Z"
      },
      {
        "duration": 6,
        "start_time": "2023-04-21T17:42:49.786Z"
      },
      {
        "duration": 5,
        "start_time": "2023-04-21T17:42:58.892Z"
      },
      {
        "duration": 14,
        "start_time": "2023-04-21T17:43:05.983Z"
      },
      {
        "duration": 6,
        "start_time": "2023-04-21T17:43:20.713Z"
      },
      {
        "duration": 5,
        "start_time": "2023-04-21T17:45:08.683Z"
      },
      {
        "duration": 16,
        "start_time": "2023-04-21T17:45:24.847Z"
      },
      {
        "duration": 6,
        "start_time": "2023-04-21T17:45:42.803Z"
      },
      {
        "duration": 13,
        "start_time": "2023-04-21T17:45:45.610Z"
      },
      {
        "duration": 5,
        "start_time": "2023-04-21T17:46:13.641Z"
      },
      {
        "duration": 11,
        "start_time": "2023-04-21T17:46:17.246Z"
      },
      {
        "duration": 6,
        "start_time": "2023-04-21T17:46:30.011Z"
      },
      {
        "duration": 13,
        "start_time": "2023-04-21T17:46:52.480Z"
      },
      {
        "duration": 5,
        "start_time": "2023-04-21T17:47:11.778Z"
      },
      {
        "duration": 12,
        "start_time": "2023-04-21T17:47:14.043Z"
      },
      {
        "duration": 5,
        "start_time": "2023-04-21T17:47:25.218Z"
      },
      {
        "duration": 6,
        "start_time": "2023-04-21T17:47:46.028Z"
      },
      {
        "duration": 18,
        "start_time": "2023-04-21T17:47:48.196Z"
      },
      {
        "duration": 5,
        "start_time": "2023-04-21T17:47:53.906Z"
      },
      {
        "duration": 5,
        "start_time": "2023-04-21T17:48:00.349Z"
      },
      {
        "duration": 4,
        "start_time": "2023-04-21T17:48:13.451Z"
      },
      {
        "duration": 12,
        "start_time": "2023-04-21T17:48:29.333Z"
      },
      {
        "duration": 1504,
        "start_time": "2023-04-22T11:00:15.239Z"
      },
      {
        "duration": 1697,
        "start_time": "2023-04-22T11:00:16.745Z"
      },
      {
        "duration": 28,
        "start_time": "2023-04-22T11:00:18.443Z"
      },
      {
        "duration": 10,
        "start_time": "2023-04-22T11:00:18.473Z"
      },
      {
        "duration": 21,
        "start_time": "2023-04-22T11:00:18.485Z"
      },
      {
        "duration": 34,
        "start_time": "2023-04-22T11:00:18.508Z"
      },
      {
        "duration": 22,
        "start_time": "2023-04-22T11:00:18.544Z"
      },
      {
        "duration": 15,
        "start_time": "2023-04-22T11:00:18.568Z"
      },
      {
        "duration": 9,
        "start_time": "2023-04-22T11:00:18.585Z"
      },
      {
        "duration": 12,
        "start_time": "2023-04-22T11:00:18.595Z"
      },
      {
        "duration": 11,
        "start_time": "2023-04-22T11:00:18.608Z"
      },
      {
        "duration": 79,
        "start_time": "2023-04-22T11:00:18.621Z"
      },
      {
        "duration": 61,
        "start_time": "2023-04-22T11:00:18.701Z"
      },
      {
        "duration": 51,
        "start_time": "2023-04-22T11:00:18.765Z"
      },
      {
        "duration": 12,
        "start_time": "2023-04-22T11:00:18.817Z"
      },
      {
        "duration": 25,
        "start_time": "2023-04-22T11:00:18.831Z"
      },
      {
        "duration": 25,
        "start_time": "2023-04-22T11:00:18.857Z"
      },
      {
        "duration": 37,
        "start_time": "2023-04-22T11:00:18.884Z"
      },
      {
        "duration": 60,
        "start_time": "2023-04-22T11:00:18.923Z"
      },
      {
        "duration": 26,
        "start_time": "2023-04-22T11:00:18.985Z"
      },
      {
        "duration": 44,
        "start_time": "2023-04-22T11:00:19.012Z"
      },
      {
        "duration": 106,
        "start_time": "2023-04-22T11:00:19.058Z"
      },
      {
        "duration": 101,
        "start_time": "2023-04-22T11:00:19.166Z"
      },
      {
        "duration": 94,
        "start_time": "2023-04-22T11:00:19.272Z"
      },
      {
        "duration": 7,
        "start_time": "2023-04-22T11:00:19.368Z"
      },
      {
        "duration": 8,
        "start_time": "2023-04-22T11:00:19.461Z"
      },
      {
        "duration": 15,
        "start_time": "2023-04-22T11:00:19.473Z"
      },
      {
        "duration": 30,
        "start_time": "2023-04-22T11:00:19.491Z"
      },
      {
        "duration": 11,
        "start_time": "2023-04-22T11:00:19.522Z"
      },
      {
        "duration": 36,
        "start_time": "2023-04-22T11:00:19.535Z"
      },
      {
        "duration": 20,
        "start_time": "2023-04-22T11:00:19.573Z"
      },
      {
        "duration": 5,
        "start_time": "2023-04-22T11:00:19.595Z"
      },
      {
        "duration": 113,
        "start_time": "2023-04-22T11:00:19.602Z"
      },
      {
        "duration": 15,
        "start_time": "2023-04-22T11:11:17.741Z"
      },
      {
        "duration": 13,
        "start_time": "2023-04-22T11:36:04.914Z"
      },
      {
        "duration": 1414,
        "start_time": "2023-04-22T11:36:14.931Z"
      },
      {
        "duration": 347,
        "start_time": "2023-04-22T11:36:16.347Z"
      },
      {
        "duration": 15,
        "start_time": "2023-04-22T11:36:16.696Z"
      },
      {
        "duration": 9,
        "start_time": "2023-04-22T11:36:16.713Z"
      },
      {
        "duration": 10,
        "start_time": "2023-04-22T11:36:16.724Z"
      },
      {
        "duration": 28,
        "start_time": "2023-04-22T11:36:16.736Z"
      },
      {
        "duration": 13,
        "start_time": "2023-04-22T11:36:16.765Z"
      },
      {
        "duration": 13,
        "start_time": "2023-04-22T11:36:16.779Z"
      },
      {
        "duration": 15,
        "start_time": "2023-04-22T11:36:16.793Z"
      },
      {
        "duration": 8,
        "start_time": "2023-04-22T11:36:16.810Z"
      },
      {
        "duration": 38,
        "start_time": "2023-04-22T11:36:16.819Z"
      },
      {
        "duration": 47,
        "start_time": "2023-04-22T11:36:16.858Z"
      },
      {
        "duration": 59,
        "start_time": "2023-04-22T11:36:16.907Z"
      },
      {
        "duration": 47,
        "start_time": "2023-04-22T11:36:16.969Z"
      },
      {
        "duration": 12,
        "start_time": "2023-04-22T11:36:17.018Z"
      },
      {
        "duration": 30,
        "start_time": "2023-04-22T11:36:17.032Z"
      },
      {
        "duration": 18,
        "start_time": "2023-04-22T11:36:17.063Z"
      },
      {
        "duration": 33,
        "start_time": "2023-04-22T11:36:17.082Z"
      },
      {
        "duration": 12,
        "start_time": "2023-04-22T11:36:17.117Z"
      },
      {
        "duration": 12,
        "start_time": "2023-04-22T11:36:17.131Z"
      },
      {
        "duration": 23,
        "start_time": "2023-04-22T11:36:17.145Z"
      },
      {
        "duration": 100,
        "start_time": "2023-04-22T11:36:17.260Z"
      },
      {
        "duration": 195,
        "start_time": "2023-04-22T11:36:17.362Z"
      },
      {
        "duration": 96,
        "start_time": "2023-04-22T11:36:17.559Z"
      },
      {
        "duration": 5,
        "start_time": "2023-04-22T11:36:17.657Z"
      },
      {
        "duration": 4,
        "start_time": "2023-04-22T11:36:17.664Z"
      },
      {
        "duration": 2,
        "start_time": "2023-04-22T11:36:17.670Z"
      },
      {
        "duration": 6,
        "start_time": "2023-04-22T11:36:17.673Z"
      },
      {
        "duration": 4,
        "start_time": "2023-04-22T11:36:17.681Z"
      },
      {
        "duration": 9,
        "start_time": "2023-04-22T11:36:17.686Z"
      },
      {
        "duration": 20,
        "start_time": "2023-04-22T11:36:17.696Z"
      },
      {
        "duration": 124,
        "start_time": "2023-04-22T11:36:17.717Z"
      },
      {
        "duration": 15,
        "start_time": "2023-04-22T11:42:41.230Z"
      },
      {
        "duration": 15,
        "start_time": "2023-04-22T11:43:29.379Z"
      },
      {
        "duration": 13,
        "start_time": "2023-04-22T11:43:33.800Z"
      },
      {
        "duration": 1293,
        "start_time": "2023-04-22T11:43:49.312Z"
      },
      {
        "duration": 397,
        "start_time": "2023-04-22T11:43:50.607Z"
      },
      {
        "duration": 16,
        "start_time": "2023-04-22T11:43:51.006Z"
      },
      {
        "duration": 11,
        "start_time": "2023-04-22T11:43:51.025Z"
      },
      {
        "duration": 24,
        "start_time": "2023-04-22T11:43:51.038Z"
      },
      {
        "duration": 18,
        "start_time": "2023-04-22T11:43:51.064Z"
      },
      {
        "duration": 14,
        "start_time": "2023-04-22T11:43:51.084Z"
      },
      {
        "duration": 29,
        "start_time": "2023-04-22T11:43:51.100Z"
      },
      {
        "duration": 29,
        "start_time": "2023-04-22T11:43:51.131Z"
      },
      {
        "duration": 11,
        "start_time": "2023-04-22T11:43:51.163Z"
      },
      {
        "duration": 9,
        "start_time": "2023-04-22T11:43:51.176Z"
      },
      {
        "duration": 74,
        "start_time": "2023-04-22T11:43:51.187Z"
      },
      {
        "duration": 47,
        "start_time": "2023-04-22T11:43:51.262Z"
      },
      {
        "duration": 67,
        "start_time": "2023-04-22T11:43:51.311Z"
      },
      {
        "duration": 13,
        "start_time": "2023-04-22T11:43:51.379Z"
      },
      {
        "duration": 12,
        "start_time": "2023-04-22T11:43:51.393Z"
      },
      {
        "duration": 15,
        "start_time": "2023-04-22T11:43:51.406Z"
      },
      {
        "duration": 16,
        "start_time": "2023-04-22T11:43:51.423Z"
      },
      {
        "duration": 26,
        "start_time": "2023-04-22T11:43:51.441Z"
      },
      {
        "duration": 14,
        "start_time": "2023-04-22T11:43:51.469Z"
      },
      {
        "duration": 74,
        "start_time": "2023-04-22T11:43:51.485Z"
      },
      {
        "duration": 108,
        "start_time": "2023-04-22T11:43:51.561Z"
      },
      {
        "duration": 188,
        "start_time": "2023-04-22T11:43:51.671Z"
      },
      {
        "duration": 96,
        "start_time": "2023-04-22T11:43:51.861Z"
      },
      {
        "duration": 7,
        "start_time": "2023-04-22T11:43:51.959Z"
      },
      {
        "duration": 90,
        "start_time": "2023-04-22T11:43:51.968Z"
      },
      {
        "duration": 2,
        "start_time": "2023-04-22T11:43:52.060Z"
      },
      {
        "duration": 13,
        "start_time": "2023-04-22T11:43:52.067Z"
      },
      {
        "duration": 20,
        "start_time": "2023-04-22T11:43:52.082Z"
      },
      {
        "duration": 6,
        "start_time": "2023-04-22T11:43:52.104Z"
      },
      {
        "duration": 29,
        "start_time": "2023-04-22T11:43:52.111Z"
      },
      {
        "duration": 133,
        "start_time": "2023-04-22T11:43:52.142Z"
      },
      {
        "duration": 15,
        "start_time": "2023-04-22T11:44:02.248Z"
      },
      {
        "duration": 15,
        "start_time": "2023-04-22T11:44:23.497Z"
      },
      {
        "duration": 23,
        "start_time": "2023-04-22T11:49:01.953Z"
      },
      {
        "duration": 22,
        "start_time": "2023-04-22T11:49:25.665Z"
      },
      {
        "duration": 3,
        "start_time": "2023-04-22T12:24:02.006Z"
      },
      {
        "duration": 25,
        "start_time": "2023-04-22T12:24:06.027Z"
      },
      {
        "duration": 15,
        "start_time": "2023-04-22T12:24:16.608Z"
      },
      {
        "duration": 1205,
        "start_time": "2023-04-22T12:24:27.915Z"
      },
      {
        "duration": 347,
        "start_time": "2023-04-22T12:24:29.122Z"
      },
      {
        "duration": 15,
        "start_time": "2023-04-22T12:24:29.471Z"
      },
      {
        "duration": 9,
        "start_time": "2023-04-22T12:24:29.487Z"
      },
      {
        "duration": 10,
        "start_time": "2023-04-22T12:24:29.498Z"
      },
      {
        "duration": 14,
        "start_time": "2023-04-22T12:24:29.509Z"
      },
      {
        "duration": 40,
        "start_time": "2023-04-22T12:24:29.525Z"
      },
      {
        "duration": 13,
        "start_time": "2023-04-22T12:24:29.566Z"
      },
      {
        "duration": 8,
        "start_time": "2023-04-22T12:24:29.581Z"
      },
      {
        "duration": 9,
        "start_time": "2023-04-22T12:24:29.591Z"
      },
      {
        "duration": 8,
        "start_time": "2023-04-22T12:24:29.602Z"
      },
      {
        "duration": 77,
        "start_time": "2023-04-22T12:24:29.612Z"
      },
      {
        "duration": 41,
        "start_time": "2023-04-22T12:24:29.691Z"
      },
      {
        "duration": 63,
        "start_time": "2023-04-22T12:24:29.735Z"
      },
      {
        "duration": 12,
        "start_time": "2023-04-22T12:24:29.799Z"
      },
      {
        "duration": 9,
        "start_time": "2023-04-22T12:24:29.813Z"
      },
      {
        "duration": 4,
        "start_time": "2023-04-22T12:24:29.824Z"
      },
      {
        "duration": 31,
        "start_time": "2023-04-22T12:24:29.830Z"
      },
      {
        "duration": 13,
        "start_time": "2023-04-22T12:24:29.862Z"
      },
      {
        "duration": 12,
        "start_time": "2023-04-22T12:24:29.876Z"
      },
      {
        "duration": 68,
        "start_time": "2023-04-22T12:24:29.890Z"
      },
      {
        "duration": 103,
        "start_time": "2023-04-22T12:24:29.960Z"
      },
      {
        "duration": 192,
        "start_time": "2023-04-22T12:24:30.065Z"
      },
      {
        "duration": 94,
        "start_time": "2023-04-22T12:24:30.262Z"
      },
      {
        "duration": 38,
        "start_time": "2023-04-22T12:24:30.358Z"
      },
      {
        "duration": 34,
        "start_time": "2023-04-22T12:24:30.398Z"
      },
      {
        "duration": 53,
        "start_time": "2023-04-22T12:24:30.434Z"
      },
      {
        "duration": 56,
        "start_time": "2023-04-22T12:24:30.488Z"
      },
      {
        "duration": 38,
        "start_time": "2023-04-22T12:24:30.546Z"
      },
      {
        "duration": 50,
        "start_time": "2023-04-22T12:24:30.586Z"
      },
      {
        "duration": 58,
        "start_time": "2023-04-22T12:24:30.638Z"
      },
      {
        "duration": 3,
        "start_time": "2023-04-22T12:24:30.698Z"
      },
      {
        "duration": 158,
        "start_time": "2023-04-22T12:24:30.703Z"
      },
      {
        "duration": 14,
        "start_time": "2023-04-22T12:25:03.524Z"
      },
      {
        "duration": 3,
        "start_time": "2023-04-22T12:29:58.222Z"
      },
      {
        "duration": 15,
        "start_time": "2023-04-22T12:30:03.502Z"
      },
      {
        "duration": 3,
        "start_time": "2023-04-22T12:30:53.190Z"
      },
      {
        "duration": 14,
        "start_time": "2023-04-22T12:30:55.929Z"
      },
      {
        "duration": 1290,
        "start_time": "2023-04-22T12:31:11.534Z"
      },
      {
        "duration": 373,
        "start_time": "2023-04-22T12:31:12.825Z"
      },
      {
        "duration": 20,
        "start_time": "2023-04-22T12:31:13.200Z"
      },
      {
        "duration": 9,
        "start_time": "2023-04-22T12:31:13.223Z"
      },
      {
        "duration": 23,
        "start_time": "2023-04-22T12:31:13.234Z"
      },
      {
        "duration": 15,
        "start_time": "2023-04-22T12:31:13.259Z"
      },
      {
        "duration": 14,
        "start_time": "2023-04-22T12:31:13.275Z"
      },
      {
        "duration": 33,
        "start_time": "2023-04-22T12:31:13.291Z"
      },
      {
        "duration": 8,
        "start_time": "2023-04-22T12:31:13.326Z"
      },
      {
        "duration": 42,
        "start_time": "2023-04-22T12:31:13.336Z"
      },
      {
        "duration": 22,
        "start_time": "2023-04-22T12:31:13.381Z"
      },
      {
        "duration": 61,
        "start_time": "2023-04-22T12:31:13.405Z"
      },
      {
        "duration": 61,
        "start_time": "2023-04-22T12:31:13.469Z"
      },
      {
        "duration": 63,
        "start_time": "2023-04-22T12:31:13.533Z"
      },
      {
        "duration": 14,
        "start_time": "2023-04-22T12:31:13.598Z"
      },
      {
        "duration": 15,
        "start_time": "2023-04-22T12:31:13.614Z"
      },
      {
        "duration": 12,
        "start_time": "2023-04-22T12:31:13.630Z"
      },
      {
        "duration": 19,
        "start_time": "2023-04-22T12:31:13.643Z"
      },
      {
        "duration": 16,
        "start_time": "2023-04-22T12:31:13.664Z"
      },
      {
        "duration": 16,
        "start_time": "2023-04-22T12:31:13.682Z"
      },
      {
        "duration": 64,
        "start_time": "2023-04-22T12:31:13.700Z"
      },
      {
        "duration": 109,
        "start_time": "2023-04-22T12:31:13.765Z"
      },
      {
        "duration": 181,
        "start_time": "2023-04-22T12:31:13.876Z"
      },
      {
        "duration": 96,
        "start_time": "2023-04-22T12:31:14.060Z"
      },
      {
        "duration": 8,
        "start_time": "2023-04-22T12:31:14.158Z"
      },
      {
        "duration": 7,
        "start_time": "2023-04-22T12:31:14.169Z"
      },
      {
        "duration": 14,
        "start_time": "2023-04-22T12:31:14.178Z"
      },
      {
        "duration": 6,
        "start_time": "2023-04-22T12:31:14.194Z"
      },
      {
        "duration": 6,
        "start_time": "2023-04-22T12:31:14.201Z"
      },
      {
        "duration": 6,
        "start_time": "2023-04-22T12:31:14.208Z"
      },
      {
        "duration": 42,
        "start_time": "2023-04-22T12:31:14.216Z"
      },
      {
        "duration": 3,
        "start_time": "2023-04-22T12:31:14.259Z"
      },
      {
        "duration": 108,
        "start_time": "2023-04-22T12:31:14.264Z"
      },
      {
        "duration": 20,
        "start_time": "2023-04-22T12:34:53.052Z"
      },
      {
        "duration": 16,
        "start_time": "2023-04-22T12:35:31.174Z"
      },
      {
        "duration": 18,
        "start_time": "2023-04-22T12:35:55.167Z"
      },
      {
        "duration": 25,
        "start_time": "2023-04-22T12:36:56.871Z"
      },
      {
        "duration": 22,
        "start_time": "2023-04-22T12:50:49.376Z"
      },
      {
        "duration": 25,
        "start_time": "2023-04-22T12:53:28.682Z"
      },
      {
        "duration": 1252,
        "start_time": "2023-04-22T14:48:54.746Z"
      },
      {
        "duration": 344,
        "start_time": "2023-04-22T14:48:56.000Z"
      },
      {
        "duration": 16,
        "start_time": "2023-04-22T14:48:56.345Z"
      },
      {
        "duration": 9,
        "start_time": "2023-04-22T14:48:56.363Z"
      },
      {
        "duration": 12,
        "start_time": "2023-04-22T14:48:56.373Z"
      },
      {
        "duration": 13,
        "start_time": "2023-04-22T14:48:56.387Z"
      },
      {
        "duration": 12,
        "start_time": "2023-04-22T14:48:56.402Z"
      },
      {
        "duration": 12,
        "start_time": "2023-04-22T14:48:56.415Z"
      },
      {
        "duration": 8,
        "start_time": "2023-04-22T14:48:56.456Z"
      },
      {
        "duration": 9,
        "start_time": "2023-04-22T14:48:56.466Z"
      },
      {
        "duration": 8,
        "start_time": "2023-04-22T14:48:56.477Z"
      },
      {
        "duration": 71,
        "start_time": "2023-04-22T14:48:56.486Z"
      },
      {
        "duration": 43,
        "start_time": "2023-04-22T14:48:56.559Z"
      },
      {
        "duration": 64,
        "start_time": "2023-04-22T14:48:56.603Z"
      },
      {
        "duration": 11,
        "start_time": "2023-04-22T14:48:56.670Z"
      },
      {
        "duration": 9,
        "start_time": "2023-04-22T14:48:56.683Z"
      },
      {
        "duration": 5,
        "start_time": "2023-04-22T14:48:56.694Z"
      },
      {
        "duration": 14,
        "start_time": "2023-04-22T14:48:56.700Z"
      },
      {
        "duration": 13,
        "start_time": "2023-04-22T14:48:56.716Z"
      },
      {
        "duration": 35,
        "start_time": "2023-04-22T14:48:56.731Z"
      },
      {
        "duration": 17,
        "start_time": "2023-04-22T14:48:56.768Z"
      },
      {
        "duration": 175,
        "start_time": "2023-04-22T14:48:56.786Z"
      },
      {
        "duration": 96,
        "start_time": "2023-04-22T14:48:56.963Z"
      },
      {
        "duration": 96,
        "start_time": "2023-04-22T14:48:57.063Z"
      },
      {
        "duration": 95,
        "start_time": "2023-04-22T14:48:57.161Z"
      },
      {
        "duration": 5,
        "start_time": "2023-04-22T14:48:57.258Z"
      },
      {
        "duration": 2,
        "start_time": "2023-04-22T14:48:57.265Z"
      },
      {
        "duration": 4,
        "start_time": "2023-04-22T14:48:57.270Z"
      },
      {
        "duration": 5,
        "start_time": "2023-04-22T14:48:57.275Z"
      },
      {
        "duration": 3,
        "start_time": "2023-04-22T14:48:57.282Z"
      },
      {
        "duration": 14,
        "start_time": "2023-04-22T14:48:57.286Z"
      },
      {
        "duration": 148,
        "start_time": "2023-04-22T14:48:57.302Z"
      },
      {
        "duration": 3,
        "start_time": "2023-04-22T14:52:44.921Z"
      },
      {
        "duration": 12,
        "start_time": "2023-04-22T14:52:46.110Z"
      },
      {
        "duration": 3,
        "start_time": "2023-04-22T14:56:27.887Z"
      },
      {
        "duration": 4,
        "start_time": "2023-04-22T14:56:32.684Z"
      },
      {
        "duration": 3,
        "start_time": "2023-04-22T14:56:38.339Z"
      },
      {
        "duration": 12,
        "start_time": "2023-04-22T14:56:41.342Z"
      },
      {
        "duration": 11,
        "start_time": "2023-04-22T14:56:42.234Z"
      },
      {
        "duration": 4,
        "start_time": "2023-04-22T14:57:15.103Z"
      },
      {
        "duration": 12,
        "start_time": "2023-04-22T14:57:18.750Z"
      },
      {
        "duration": 3,
        "start_time": "2023-04-22T14:58:16.761Z"
      },
      {
        "duration": 22,
        "start_time": "2023-04-22T14:58:17.625Z"
      },
      {
        "duration": 19,
        "start_time": "2023-04-22T14:58:32.516Z"
      },
      {
        "duration": 24,
        "start_time": "2023-04-22T14:58:43.707Z"
      },
      {
        "duration": 3,
        "start_time": "2023-04-22T14:59:10.549Z"
      },
      {
        "duration": 22,
        "start_time": "2023-04-22T14:59:15.202Z"
      },
      {
        "duration": 3,
        "start_time": "2023-04-22T15:00:15.074Z"
      },
      {
        "duration": 12,
        "start_time": "2023-04-22T15:00:20.489Z"
      },
      {
        "duration": 3,
        "start_time": "2023-04-22T15:02:40.613Z"
      },
      {
        "duration": 12,
        "start_time": "2023-04-22T15:02:41.491Z"
      },
      {
        "duration": 9,
        "start_time": "2023-04-22T15:03:52.557Z"
      },
      {
        "duration": 4,
        "start_time": "2023-04-22T15:04:20.878Z"
      },
      {
        "duration": 3,
        "start_time": "2023-04-22T15:15:57.032Z"
      },
      {
        "duration": 22,
        "start_time": "2023-04-22T15:15:57.892Z"
      },
      {
        "duration": 3,
        "start_time": "2023-04-22T15:16:54.924Z"
      },
      {
        "duration": 22,
        "start_time": "2023-04-22T15:16:57.702Z"
      },
      {
        "duration": 1359,
        "start_time": "2023-04-22T15:17:10.441Z"
      },
      {
        "duration": 15,
        "start_time": "2023-04-22T15:17:36.316Z"
      },
      {
        "duration": 1288,
        "start_time": "2023-04-22T15:17:40.409Z"
      },
      {
        "duration": 60,
        "start_time": "2023-04-22T16:07:01.552Z"
      },
      {
        "duration": 1423,
        "start_time": "2023-04-22T16:07:13.551Z"
      },
      {
        "duration": 1514,
        "start_time": "2023-04-22T16:08:21.437Z"
      },
      {
        "duration": 1280,
        "start_time": "2023-04-22T16:08:47.921Z"
      },
      {
        "duration": 5,
        "start_time": "2023-04-22T16:09:14.342Z"
      },
      {
        "duration": 2765,
        "start_time": "2023-04-22T16:09:19.290Z"
      },
      {
        "duration": 2604,
        "start_time": "2023-04-22T16:09:38.619Z"
      },
      {
        "duration": 1334,
        "start_time": "2023-04-22T16:09:48.623Z"
      },
      {
        "duration": 1470,
        "start_time": "2023-04-22T16:09:50.708Z"
      },
      {
        "duration": 54,
        "start_time": "2023-04-22T16:10:33.980Z"
      },
      {
        "duration": 51,
        "start_time": "2023-04-22T16:10:43.892Z"
      },
      {
        "duration": 57,
        "start_time": "2023-04-22T16:10:50.401Z"
      },
      {
        "duration": 1388,
        "start_time": "2023-04-22T16:11:04.916Z"
      },
      {
        "duration": 5,
        "start_time": "2023-04-22T16:25:18.149Z"
      },
      {
        "duration": 1305,
        "start_time": "2023-04-22T16:25:20.808Z"
      },
      {
        "duration": 5,
        "start_time": "2023-04-22T16:29:48.640Z"
      },
      {
        "duration": 1354,
        "start_time": "2023-04-22T16:29:49.306Z"
      },
      {
        "duration": 5,
        "start_time": "2023-04-22T16:30:13.730Z"
      },
      {
        "duration": 1317,
        "start_time": "2023-04-22T16:30:15.636Z"
      },
      {
        "duration": 6,
        "start_time": "2023-04-22T16:30:30.484Z"
      },
      {
        "duration": 1337,
        "start_time": "2023-04-22T16:30:32.598Z"
      },
      {
        "duration": 5,
        "start_time": "2023-04-22T16:32:03.681Z"
      },
      {
        "duration": 1312,
        "start_time": "2023-04-22T16:32:09.903Z"
      },
      {
        "duration": 1350,
        "start_time": "2023-04-22T16:32:29.749Z"
      },
      {
        "duration": 4,
        "start_time": "2023-04-22T16:39:32.422Z"
      },
      {
        "duration": 16,
        "start_time": "2023-04-22T16:39:33.947Z"
      },
      {
        "duration": 5,
        "start_time": "2023-04-22T16:39:53.129Z"
      },
      {
        "duration": 1399,
        "start_time": "2023-04-22T16:39:54.105Z"
      },
      {
        "duration": 5,
        "start_time": "2023-04-22T16:41:19.035Z"
      },
      {
        "duration": 1371,
        "start_time": "2023-04-22T16:41:19.919Z"
      },
      {
        "duration": 5,
        "start_time": "2023-04-22T16:41:31.185Z"
      },
      {
        "duration": 1301,
        "start_time": "2023-04-22T16:41:31.618Z"
      },
      {
        "duration": 5,
        "start_time": "2023-04-22T16:41:58.455Z"
      },
      {
        "duration": 1343,
        "start_time": "2023-04-22T16:41:59.269Z"
      },
      {
        "duration": 5,
        "start_time": "2023-04-22T16:45:19.864Z"
      },
      {
        "duration": 1314,
        "start_time": "2023-04-22T16:45:20.574Z"
      },
      {
        "duration": 1310,
        "start_time": "2023-04-22T16:45:34.798Z"
      },
      {
        "duration": 1273,
        "start_time": "2023-04-22T16:45:39.395Z"
      },
      {
        "duration": 5,
        "start_time": "2023-04-22T16:54:04.267Z"
      },
      {
        "duration": 1435,
        "start_time": "2023-04-22T16:54:05.307Z"
      },
      {
        "duration": 4,
        "start_time": "2023-04-22T16:54:30.328Z"
      },
      {
        "duration": 5,
        "start_time": "2023-04-22T16:54:37.009Z"
      },
      {
        "duration": 1309,
        "start_time": "2023-04-22T16:54:38.206Z"
      },
      {
        "duration": 1455,
        "start_time": "2023-04-22T16:54:51.601Z"
      },
      {
        "duration": 1331,
        "start_time": "2023-04-22T16:54:54.898Z"
      },
      {
        "duration": 6,
        "start_time": "2023-04-22T16:55:40.263Z"
      },
      {
        "duration": 1283,
        "start_time": "2023-04-22T16:55:42.378Z"
      },
      {
        "duration": 5,
        "start_time": "2023-04-22T16:55:57.724Z"
      },
      {
        "duration": 1323,
        "start_time": "2023-04-22T16:55:58.742Z"
      },
      {
        "duration": 1257,
        "start_time": "2023-04-22T16:56:08.745Z"
      },
      {
        "duration": 1392,
        "start_time": "2023-04-22T16:56:12.771Z"
      },
      {
        "duration": 1294,
        "start_time": "2023-04-23T08:23:09.150Z"
      },
      {
        "duration": 1526,
        "start_time": "2023-04-23T08:23:10.446Z"
      },
      {
        "duration": 14,
        "start_time": "2023-04-23T08:23:11.974Z"
      },
      {
        "duration": 12,
        "start_time": "2023-04-23T08:23:11.989Z"
      },
      {
        "duration": 13,
        "start_time": "2023-04-23T08:23:12.003Z"
      },
      {
        "duration": 15,
        "start_time": "2023-04-23T08:23:12.017Z"
      },
      {
        "duration": 12,
        "start_time": "2023-04-23T08:23:12.034Z"
      },
      {
        "duration": 12,
        "start_time": "2023-04-23T08:23:12.048Z"
      },
      {
        "duration": 9,
        "start_time": "2023-04-23T08:23:12.061Z"
      },
      {
        "duration": 30,
        "start_time": "2023-04-23T08:23:12.071Z"
      },
      {
        "duration": 8,
        "start_time": "2023-04-23T08:23:12.102Z"
      },
      {
        "duration": 40,
        "start_time": "2023-04-23T08:23:12.112Z"
      },
      {
        "duration": 62,
        "start_time": "2023-04-23T08:23:12.154Z"
      },
      {
        "duration": 38,
        "start_time": "2023-04-23T08:23:12.217Z"
      },
      {
        "duration": 10,
        "start_time": "2023-04-23T08:23:12.257Z"
      },
      {
        "duration": 25,
        "start_time": "2023-04-23T08:23:12.269Z"
      },
      {
        "duration": 6,
        "start_time": "2023-04-23T08:23:12.296Z"
      },
      {
        "duration": 13,
        "start_time": "2023-04-23T08:23:12.304Z"
      },
      {
        "duration": 12,
        "start_time": "2023-04-23T08:23:12.318Z"
      },
      {
        "duration": 23,
        "start_time": "2023-04-23T08:23:12.331Z"
      },
      {
        "duration": 39,
        "start_time": "2023-04-23T08:23:12.356Z"
      },
      {
        "duration": 100,
        "start_time": "2023-04-23T08:23:12.397Z"
      },
      {
        "duration": 99,
        "start_time": "2023-04-23T08:23:12.501Z"
      },
      {
        "duration": 101,
        "start_time": "2023-04-23T08:23:12.602Z"
      },
      {
        "duration": 6,
        "start_time": "2023-04-23T08:23:12.793Z"
      },
      {
        "duration": 16,
        "start_time": "2023-04-23T08:23:12.800Z"
      },
      {
        "duration": 3,
        "start_time": "2023-04-23T08:23:12.817Z"
      },
      {
        "duration": 6,
        "start_time": "2023-04-23T08:23:12.822Z"
      },
      {
        "duration": 5,
        "start_time": "2023-04-23T08:23:12.830Z"
      },
      {
        "duration": 4,
        "start_time": "2023-04-23T08:23:12.837Z"
      },
      {
        "duration": 20,
        "start_time": "2023-04-23T08:23:12.842Z"
      },
      {
        "duration": 30,
        "start_time": "2023-04-23T08:23:12.864Z"
      },
      {
        "duration": 1332,
        "start_time": "2023-04-23T08:23:12.895Z"
      },
      {
        "duration": 1260,
        "start_time": "2023-04-23T08:23:14.229Z"
      },
      {
        "duration": 1246,
        "start_time": "2023-04-23T08:23:15.494Z"
      },
      {
        "duration": 5,
        "start_time": "2023-04-23T08:24:11.840Z"
      },
      {
        "duration": 1290,
        "start_time": "2023-04-23T08:24:13.805Z"
      },
      {
        "duration": 1189,
        "start_time": "2023-04-23T08:24:21.206Z"
      },
      {
        "duration": 1195,
        "start_time": "2023-04-23T08:25:36.026Z"
      },
      {
        "duration": 326,
        "start_time": "2023-04-23T08:25:37.223Z"
      },
      {
        "duration": 13,
        "start_time": "2023-04-23T08:25:37.550Z"
      },
      {
        "duration": 8,
        "start_time": "2023-04-23T08:25:37.564Z"
      },
      {
        "duration": 21,
        "start_time": "2023-04-23T08:25:37.574Z"
      },
      {
        "duration": 13,
        "start_time": "2023-04-23T08:25:37.596Z"
      },
      {
        "duration": 11,
        "start_time": "2023-04-23T08:25:37.610Z"
      },
      {
        "duration": 12,
        "start_time": "2023-04-23T08:25:37.623Z"
      },
      {
        "duration": 8,
        "start_time": "2023-04-23T08:25:37.636Z"
      },
      {
        "duration": 8,
        "start_time": "2023-04-23T08:25:37.645Z"
      },
      {
        "duration": 44,
        "start_time": "2023-04-23T08:25:37.654Z"
      },
      {
        "duration": 39,
        "start_time": "2023-04-23T08:25:37.700Z"
      },
      {
        "duration": 37,
        "start_time": "2023-04-23T08:25:37.740Z"
      },
      {
        "duration": 39,
        "start_time": "2023-04-23T08:25:37.794Z"
      },
      {
        "duration": 10,
        "start_time": "2023-04-23T08:25:37.834Z"
      },
      {
        "duration": 9,
        "start_time": "2023-04-23T08:25:37.846Z"
      },
      {
        "duration": 4,
        "start_time": "2023-04-23T08:25:37.856Z"
      },
      {
        "duration": 32,
        "start_time": "2023-04-23T08:25:37.862Z"
      },
      {
        "duration": 11,
        "start_time": "2023-04-23T08:25:37.896Z"
      },
      {
        "duration": 11,
        "start_time": "2023-04-23T08:25:37.908Z"
      },
      {
        "duration": 75,
        "start_time": "2023-04-23T08:25:37.921Z"
      },
      {
        "duration": 105,
        "start_time": "2023-04-23T08:25:38.000Z"
      },
      {
        "duration": 91,
        "start_time": "2023-04-23T08:25:38.107Z"
      },
      {
        "duration": 96,
        "start_time": "2023-04-23T08:25:38.199Z"
      },
      {
        "duration": 98,
        "start_time": "2023-04-23T08:25:38.296Z"
      },
      {
        "duration": 5,
        "start_time": "2023-04-23T08:25:38.396Z"
      },
      {
        "duration": 3,
        "start_time": "2023-04-23T08:25:38.402Z"
      },
      {
        "duration": 7,
        "start_time": "2023-04-23T08:25:38.406Z"
      },
      {
        "duration": 4,
        "start_time": "2023-04-23T08:25:38.414Z"
      },
      {
        "duration": 4,
        "start_time": "2023-04-23T08:25:38.419Z"
      },
      {
        "duration": 19,
        "start_time": "2023-04-23T08:25:38.424Z"
      },
      {
        "duration": 4,
        "start_time": "2023-04-23T08:25:38.444Z"
      },
      {
        "duration": 1223,
        "start_time": "2023-04-23T08:25:38.450Z"
      },
      {
        "duration": 1147,
        "start_time": "2023-04-23T08:25:39.674Z"
      },
      {
        "duration": 1177,
        "start_time": "2023-04-23T08:25:40.822Z"
      },
      {
        "duration": 5,
        "start_time": "2023-04-23T08:26:31.156Z"
      },
      {
        "duration": 1231,
        "start_time": "2023-04-23T08:26:32.073Z"
      },
      {
        "duration": 1209,
        "start_time": "2023-04-23T08:26:38.713Z"
      },
      {
        "duration": 1192,
        "start_time": "2023-04-23T08:26:42.655Z"
      },
      {
        "duration": 1236,
        "start_time": "2023-04-23T08:45:30.793Z"
      },
      {
        "duration": 1271,
        "start_time": "2023-04-23T08:45:36.558Z"
      },
      {
        "duration": 1214,
        "start_time": "2023-04-23T08:45:42.539Z"
      },
      {
        "duration": 1273,
        "start_time": "2023-04-23T08:45:49.392Z"
      },
      {
        "duration": 1266,
        "start_time": "2023-04-23T08:46:01.284Z"
      },
      {
        "duration": 1223,
        "start_time": "2023-04-23T08:46:10.124Z"
      },
      {
        "duration": 345,
        "start_time": "2023-04-23T08:46:11.349Z"
      },
      {
        "duration": 14,
        "start_time": "2023-04-23T08:46:11.696Z"
      },
      {
        "duration": 8,
        "start_time": "2023-04-23T08:46:11.712Z"
      },
      {
        "duration": 10,
        "start_time": "2023-04-23T08:46:11.722Z"
      },
      {
        "duration": 15,
        "start_time": "2023-04-23T08:46:11.734Z"
      },
      {
        "duration": 12,
        "start_time": "2023-04-23T08:46:11.751Z"
      },
      {
        "duration": 35,
        "start_time": "2023-04-23T08:46:11.765Z"
      },
      {
        "duration": 8,
        "start_time": "2023-04-23T08:46:11.802Z"
      },
      {
        "duration": 9,
        "start_time": "2023-04-23T08:46:11.811Z"
      },
      {
        "duration": 7,
        "start_time": "2023-04-23T08:46:11.821Z"
      },
      {
        "duration": 74,
        "start_time": "2023-04-23T08:46:11.830Z"
      },
      {
        "duration": 37,
        "start_time": "2023-04-23T08:46:11.906Z"
      },
      {
        "duration": 63,
        "start_time": "2023-04-23T08:46:11.947Z"
      },
      {
        "duration": 12,
        "start_time": "2023-04-23T08:46:12.012Z"
      },
      {
        "duration": 13,
        "start_time": "2023-04-23T08:46:12.026Z"
      },
      {
        "duration": 7,
        "start_time": "2023-04-23T08:46:12.040Z"
      },
      {
        "duration": 12,
        "start_time": "2023-04-23T08:46:12.049Z"
      },
      {
        "duration": 11,
        "start_time": "2023-04-23T08:46:12.062Z"
      },
      {
        "duration": 12,
        "start_time": "2023-04-23T08:46:12.093Z"
      },
      {
        "duration": 16,
        "start_time": "2023-04-23T08:46:12.108Z"
      },
      {
        "duration": 174,
        "start_time": "2023-04-23T08:46:12.125Z"
      },
      {
        "duration": 99,
        "start_time": "2023-04-23T08:46:12.301Z"
      },
      {
        "duration": 5,
        "start_time": "2023-04-23T08:46:12.402Z"
      },
      {
        "duration": 86,
        "start_time": "2023-04-23T08:46:12.409Z"
      },
      {
        "duration": 8,
        "start_time": "2023-04-23T08:46:12.497Z"
      },
      {
        "duration": 88,
        "start_time": "2023-04-23T08:46:12.507Z"
      },
      {
        "duration": 4,
        "start_time": "2023-04-23T08:46:12.598Z"
      },
      {
        "duration": 4,
        "start_time": "2023-04-23T08:46:12.604Z"
      },
      {
        "duration": 5,
        "start_time": "2023-04-23T08:46:12.609Z"
      },
      {
        "duration": 25,
        "start_time": "2023-04-23T08:46:12.615Z"
      },
      {
        "duration": 6,
        "start_time": "2023-04-23T08:46:12.641Z"
      },
      {
        "duration": 1285,
        "start_time": "2023-04-23T08:46:12.649Z"
      },
      {
        "duration": 1340,
        "start_time": "2023-04-23T08:46:13.935Z"
      },
      {
        "duration": 1263,
        "start_time": "2023-04-23T08:46:15.277Z"
      },
      {
        "duration": 6,
        "start_time": "2023-04-23T09:02:01.923Z"
      },
      {
        "duration": 1198,
        "start_time": "2023-04-23T09:02:02.686Z"
      },
      {
        "duration": 1237,
        "start_time": "2023-04-23T09:02:29.027Z"
      },
      {
        "duration": 1194,
        "start_time": "2023-04-23T09:02:34.653Z"
      },
      {
        "duration": 5,
        "start_time": "2023-04-23T11:04:06.370Z"
      },
      {
        "duration": 1322,
        "start_time": "2023-04-23T11:04:07.562Z"
      },
      {
        "duration": 1403,
        "start_time": "2023-04-23T11:04:21.276Z"
      },
      {
        "duration": 1338,
        "start_time": "2023-04-23T11:04:27.215Z"
      },
      {
        "duration": 1266,
        "start_time": "2023-04-23T11:07:37.610Z"
      },
      {
        "duration": 1337,
        "start_time": "2023-04-23T11:07:51.490Z"
      },
      {
        "duration": 1245,
        "start_time": "2023-04-23T11:08:03.984Z"
      },
      {
        "duration": 317,
        "start_time": "2023-04-23T11:08:05.231Z"
      },
      {
        "duration": 15,
        "start_time": "2023-04-23T11:08:05.552Z"
      },
      {
        "duration": 8,
        "start_time": "2023-04-23T11:08:05.569Z"
      },
      {
        "duration": 22,
        "start_time": "2023-04-23T11:08:05.578Z"
      },
      {
        "duration": 15,
        "start_time": "2023-04-23T11:08:05.601Z"
      },
      {
        "duration": 12,
        "start_time": "2023-04-23T11:08:05.617Z"
      },
      {
        "duration": 11,
        "start_time": "2023-04-23T11:08:05.630Z"
      },
      {
        "duration": 10,
        "start_time": "2023-04-23T11:08:05.643Z"
      },
      {
        "duration": 7,
        "start_time": "2023-04-23T11:08:05.654Z"
      },
      {
        "duration": 37,
        "start_time": "2023-04-23T11:08:05.662Z"
      },
      {
        "duration": 40,
        "start_time": "2023-04-23T11:08:05.701Z"
      },
      {
        "duration": 51,
        "start_time": "2023-04-23T11:08:05.744Z"
      },
      {
        "duration": 39,
        "start_time": "2023-04-23T11:08:05.797Z"
      },
      {
        "duration": 10,
        "start_time": "2023-04-23T11:08:05.838Z"
      },
      {
        "duration": 15,
        "start_time": "2023-04-23T11:08:05.850Z"
      },
      {
        "duration": 6,
        "start_time": "2023-04-23T11:08:05.866Z"
      },
      {
        "duration": 23,
        "start_time": "2023-04-23T11:08:05.873Z"
      },
      {
        "duration": 11,
        "start_time": "2023-04-23T11:08:05.898Z"
      },
      {
        "duration": 16,
        "start_time": "2023-04-23T11:08:05.911Z"
      },
      {
        "duration": 16,
        "start_time": "2023-04-23T11:08:05.929Z"
      },
      {
        "duration": 151,
        "start_time": "2023-04-23T11:08:05.946Z"
      },
      {
        "duration": 110,
        "start_time": "2023-04-23T11:08:06.099Z"
      },
      {
        "duration": 6,
        "start_time": "2023-04-23T11:08:06.296Z"
      },
      {
        "duration": 98,
        "start_time": "2023-04-23T11:08:06.303Z"
      },
      {
        "duration": 5,
        "start_time": "2023-04-23T11:08:06.402Z"
      },
      {
        "duration": 2,
        "start_time": "2023-04-23T11:08:06.408Z"
      },
      {
        "duration": 5,
        "start_time": "2023-04-23T11:08:06.412Z"
      },
      {
        "duration": 7,
        "start_time": "2023-04-23T11:08:06.419Z"
      },
      {
        "duration": 7,
        "start_time": "2023-04-23T11:08:06.427Z"
      },
      {
        "duration": 18,
        "start_time": "2023-04-23T11:08:06.435Z"
      },
      {
        "duration": 4,
        "start_time": "2023-04-23T11:08:06.455Z"
      },
      {
        "duration": 1360,
        "start_time": "2023-04-23T11:08:06.461Z"
      },
      {
        "duration": 1187,
        "start_time": "2023-04-23T11:08:07.823Z"
      },
      {
        "duration": 1296,
        "start_time": "2023-04-23T11:08:09.011Z"
      },
      {
        "duration": 1201,
        "start_time": "2023-04-23T11:09:42.936Z"
      },
      {
        "duration": 344,
        "start_time": "2023-04-23T11:09:44.139Z"
      },
      {
        "duration": 18,
        "start_time": "2023-04-23T11:09:44.485Z"
      },
      {
        "duration": 20,
        "start_time": "2023-04-23T11:09:44.504Z"
      },
      {
        "duration": 17,
        "start_time": "2023-04-23T11:09:44.525Z"
      },
      {
        "duration": 14,
        "start_time": "2023-04-23T11:09:44.543Z"
      },
      {
        "duration": 12,
        "start_time": "2023-04-23T11:09:44.558Z"
      },
      {
        "duration": 13,
        "start_time": "2023-04-23T11:09:44.571Z"
      },
      {
        "duration": 8,
        "start_time": "2023-04-23T11:09:44.595Z"
      },
      {
        "duration": 9,
        "start_time": "2023-04-23T11:09:44.606Z"
      },
      {
        "duration": 9,
        "start_time": "2023-04-23T11:09:44.616Z"
      },
      {
        "duration": 45,
        "start_time": "2023-04-23T11:09:44.626Z"
      },
      {
        "duration": 58,
        "start_time": "2023-04-23T11:09:44.673Z"
      },
      {
        "duration": 39,
        "start_time": "2023-04-23T11:09:44.733Z"
      },
      {
        "duration": 26,
        "start_time": "2023-04-23T11:09:44.774Z"
      },
      {
        "duration": 22,
        "start_time": "2023-04-23T11:09:44.802Z"
      },
      {
        "duration": 4,
        "start_time": "2023-04-23T11:09:44.825Z"
      },
      {
        "duration": 15,
        "start_time": "2023-04-23T11:09:44.831Z"
      },
      {
        "duration": 12,
        "start_time": "2023-04-23T11:09:44.847Z"
      },
      {
        "duration": 11,
        "start_time": "2023-04-23T11:09:44.861Z"
      },
      {
        "duration": 31,
        "start_time": "2023-04-23T11:09:44.873Z"
      },
      {
        "duration": 98,
        "start_time": "2023-04-23T11:09:44.905Z"
      },
      {
        "duration": 106,
        "start_time": "2023-04-23T11:09:45.094Z"
      },
      {
        "duration": 5,
        "start_time": "2023-04-23T11:09:45.202Z"
      },
      {
        "duration": 6,
        "start_time": "2023-04-23T11:09:45.296Z"
      },
      {
        "duration": 95,
        "start_time": "2023-04-23T11:09:45.304Z"
      },
      {
        "duration": 3,
        "start_time": "2023-04-23T11:09:45.400Z"
      },
      {
        "duration": 3,
        "start_time": "2023-04-23T11:09:45.407Z"
      },
      {
        "duration": 10,
        "start_time": "2023-04-23T11:09:45.412Z"
      },
      {
        "duration": 5,
        "start_time": "2023-04-23T11:09:45.423Z"
      },
      {
        "duration": 28,
        "start_time": "2023-04-23T11:09:45.429Z"
      },
      {
        "duration": 5,
        "start_time": "2023-04-23T11:09:45.458Z"
      },
      {
        "duration": 1319,
        "start_time": "2023-04-23T11:09:45.464Z"
      },
      {
        "duration": 1338,
        "start_time": "2023-04-23T11:09:46.784Z"
      },
      {
        "duration": 1356,
        "start_time": "2023-04-23T11:09:48.123Z"
      },
      {
        "duration": 1204,
        "start_time": "2023-04-23T11:10:59.044Z"
      },
      {
        "duration": 4,
        "start_time": "2023-04-23T11:11:21.726Z"
      },
      {
        "duration": 1252,
        "start_time": "2023-04-23T11:11:22.345Z"
      },
      {
        "duration": 1218,
        "start_time": "2023-04-23T11:11:41.250Z"
      },
      {
        "duration": 1248,
        "start_time": "2023-04-23T11:11:49.658Z"
      },
      {
        "duration": 1219,
        "start_time": "2023-04-23T11:11:59.434Z"
      },
      {
        "duration": 1218,
        "start_time": "2023-04-23T11:26:02.605Z"
      },
      {
        "duration": 354,
        "start_time": "2023-04-23T11:26:03.824Z"
      },
      {
        "duration": 26,
        "start_time": "2023-04-23T11:26:04.183Z"
      },
      {
        "duration": 12,
        "start_time": "2023-04-23T11:26:04.212Z"
      },
      {
        "duration": 13,
        "start_time": "2023-04-23T11:26:04.226Z"
      },
      {
        "duration": 23,
        "start_time": "2023-04-23T11:26:04.240Z"
      },
      {
        "duration": 41,
        "start_time": "2023-04-23T11:26:04.265Z"
      },
      {
        "duration": 12,
        "start_time": "2023-04-23T11:26:04.308Z"
      },
      {
        "duration": 8,
        "start_time": "2023-04-23T11:26:04.322Z"
      },
      {
        "duration": 8,
        "start_time": "2023-04-23T11:26:04.331Z"
      },
      {
        "duration": 9,
        "start_time": "2023-04-23T11:26:04.340Z"
      },
      {
        "duration": 80,
        "start_time": "2023-04-23T11:26:04.351Z"
      },
      {
        "duration": 42,
        "start_time": "2023-04-23T11:26:04.435Z"
      },
      {
        "duration": 44,
        "start_time": "2023-04-23T11:26:04.494Z"
      },
      {
        "duration": 12,
        "start_time": "2023-04-23T11:26:04.539Z"
      },
      {
        "duration": 10,
        "start_time": "2023-04-23T11:26:04.553Z"
      },
      {
        "duration": 4,
        "start_time": "2023-04-23T11:26:04.565Z"
      },
      {
        "duration": 30,
        "start_time": "2023-04-23T11:26:04.571Z"
      },
      {
        "duration": 13,
        "start_time": "2023-04-23T11:26:04.603Z"
      },
      {
        "duration": 12,
        "start_time": "2023-04-23T11:26:04.618Z"
      },
      {
        "duration": 65,
        "start_time": "2023-04-23T11:26:04.632Z"
      },
      {
        "duration": 105,
        "start_time": "2023-04-23T11:26:04.699Z"
      },
      {
        "duration": 192,
        "start_time": "2023-04-23T11:26:04.806Z"
      },
      {
        "duration": 7,
        "start_time": "2023-04-23T11:26:04.999Z"
      },
      {
        "duration": 96,
        "start_time": "2023-04-23T11:26:05.099Z"
      },
      {
        "duration": 13,
        "start_time": "2023-04-23T11:26:05.196Z"
      },
      {
        "duration": 13,
        "start_time": "2023-04-23T11:26:05.211Z"
      },
      {
        "duration": 17,
        "start_time": "2023-04-23T11:26:05.225Z"
      },
      {
        "duration": 14,
        "start_time": "2023-04-23T11:26:05.243Z"
      },
      {
        "duration": 13,
        "start_time": "2023-04-23T11:26:05.258Z"
      },
      {
        "duration": 24,
        "start_time": "2023-04-23T11:26:05.272Z"
      },
      {
        "duration": 5,
        "start_time": "2023-04-23T11:26:05.297Z"
      },
      {
        "duration": 1272,
        "start_time": "2023-04-23T11:26:05.303Z"
      },
      {
        "duration": 1395,
        "start_time": "2023-04-23T11:26:06.576Z"
      },
      {
        "duration": 1321,
        "start_time": "2023-04-23T11:26:07.973Z"
      }
    ],
    "kernelspec": {
      "display_name": "Python 3 (ipykernel)",
      "language": "python",
      "name": "python3"
    },
    "language_info": {
      "codemirror_mode": {
        "name": "ipython",
        "version": 3
      },
      "file_extension": ".py",
      "mimetype": "text/x-python",
      "name": "python",
      "nbconvert_exporter": "python",
      "pygments_lexer": "ipython3",
      "version": "3.9.5"
    },
    "toc": {
      "base_numbering": 1,
      "nav_menu": {},
      "number_sections": true,
      "sideBar": true,
      "skip_h1_title": true,
      "title_cell": "Table of Contents",
      "title_sidebar": "Contents",
      "toc_cell": false,
      "toc_position": {},
      "toc_section_display": true,
      "toc_window_display": false
    },
    "colab": {
      "provenance": []
    }
  },
  "nbformat": 4,
  "nbformat_minor": 0
}