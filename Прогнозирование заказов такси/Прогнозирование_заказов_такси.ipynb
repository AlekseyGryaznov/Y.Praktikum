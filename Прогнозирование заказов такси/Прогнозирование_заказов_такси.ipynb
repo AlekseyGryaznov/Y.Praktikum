{
  "cells": [
    {
      "cell_type": "markdown",
      "metadata": {
        "toc": true,
        "id": "JOLoLkx7BmIi"
      },
      "source": [
        "<h1>Содержание<span class=\"tocSkip\"></span></h1>\n",
        "<div class=\"toc\"><ul class=\"toc-item\"><li><span><a href=\"#Подготовка\" data-toc-modified-id=\"Подготовка-1\"><span class=\"toc-item-num\">1&nbsp;&nbsp;</span>Подготовка</a></span></li><li><span><a href=\"#Анализ\" data-toc-modified-id=\"Анализ-2\"><span class=\"toc-item-num\">2&nbsp;&nbsp;</span>Анализ</a></span></li><li><span><a href=\"#Обучение\" data-toc-modified-id=\"Обучение-3\"><span class=\"toc-item-num\">3&nbsp;&nbsp;</span>Обучение</a></span></li><li><span><a href=\"#Тестирование\" data-toc-modified-id=\"Тестирование-4\"><span class=\"toc-item-num\">4&nbsp;&nbsp;</span>Тестирование</a></span></li><li><span><a href=\"#Чек-лист-проверки\" data-toc-modified-id=\"Чек-лист-проверки-5\"><span class=\"toc-item-num\">5&nbsp;&nbsp;</span>Чек-лист проверки</a></span></li></ul></div>"
      ]
    },
    {
      "cell_type": "markdown",
      "metadata": {
        "id": "WC4gi6Z0BmIl"
      },
      "source": [
        "#  Прогнозирование заказов такси"
      ]
    },
    {
      "cell_type": "markdown",
      "metadata": {
        "id": "xiZLjoyBBmIl"
      },
      "source": [
        "Компания «Чётенькое такси» собрала исторические данные о заказах такси в аэропортах. Чтобы привлекать больше водителей в период пиковой нагрузки, нужно спрогнозировать количество заказов такси на следующий час. Постройте модель для такого предсказания.\n",
        "\n",
        "Значение метрики *RMSE* на тестовой выборке должно быть не больше 48.\n",
        "\n",
        "Вам нужно:\n",
        "\n",
        "1. Загрузить данные и выполнить их ресемплирование по одному часу.\n",
        "2. Проанализировать данные.\n",
        "3. Обучить разные модели с различными гиперпараметрами. Сделать тестовую выборку размером 10% от исходных данных.\n",
        "4. Проверить данные на тестовой выборке и сделать выводы.\n",
        "\n",
        "\n",
        "Данные лежат в файле `taxi.csv`. Количество заказов находится в столбце `num_orders` (от англ. *number of orders*, «число заказов»)."
      ]
    },
    {
      "cell_type": "markdown",
      "metadata": {
        "id": "r_N5hxsDBmIn"
      },
      "source": [
        "## Подготовка"
      ]
    },
    {
      "cell_type": "code",
      "execution_count": null,
      "metadata": {
        "id": "xH0fSY6UBmIn"
      },
      "outputs": [],
      "source": [
        "import pandas as pd\n",
        "import numpy as np\n",
        "import matplotlib.pyplot as plt\n",
        "from sklearn.model_selection import train_test_split\n",
        "from sklearn.linear_model import LinearRegression\n",
        "from sklearn.metrics import mean_absolute_error\n",
        "from statsmodels.tsa.seasonal import seasonal_decompose\n",
        "from sklearn.metrics import mean_squared_error\n",
        "from sklearn.ensemble import RandomForestRegressor\n",
        "from catboost import CatBoostRegressor\n",
        "import lightgbm as lgb\n",
        "import time\n",
        "from statsmodels.graphics import tsaplots"
      ]
    },
    {
      "cell_type": "code",
      "execution_count": null,
      "metadata": {
        "id": "Ni66tPjJBmIo",
        "outputId": "49600bf5-7649-4d98-bb51-6cfa6118bde8"
      },
      "outputs": [
        {
          "data": {
            "text/html": [
              "<div>\n",
              "<style scoped>\n",
              "    .dataframe tbody tr th:only-of-type {\n",
              "        vertical-align: middle;\n",
              "    }\n",
              "\n",
              "    .dataframe tbody tr th {\n",
              "        vertical-align: top;\n",
              "    }\n",
              "\n",
              "    .dataframe thead th {\n",
              "        text-align: right;\n",
              "    }\n",
              "</style>\n",
              "<table border=\"1\" class=\"dataframe\">\n",
              "  <thead>\n",
              "    <tr style=\"text-align: right;\">\n",
              "      <th></th>\n",
              "      <th>num_orders</th>\n",
              "    </tr>\n",
              "    <tr>\n",
              "      <th>datetime</th>\n",
              "      <th></th>\n",
              "    </tr>\n",
              "  </thead>\n",
              "  <tbody>\n",
              "    <tr>\n",
              "      <th>2018-03-01 00:00:00</th>\n",
              "      <td>9</td>\n",
              "    </tr>\n",
              "    <tr>\n",
              "      <th>2018-03-01 00:10:00</th>\n",
              "      <td>14</td>\n",
              "    </tr>\n",
              "    <tr>\n",
              "      <th>2018-03-01 00:20:00</th>\n",
              "      <td>28</td>\n",
              "    </tr>\n",
              "    <tr>\n",
              "      <th>2018-03-01 00:30:00</th>\n",
              "      <td>20</td>\n",
              "    </tr>\n",
              "    <tr>\n",
              "      <th>2018-03-01 00:40:00</th>\n",
              "      <td>32</td>\n",
              "    </tr>\n",
              "    <tr>\n",
              "      <th>...</th>\n",
              "      <td>...</td>\n",
              "    </tr>\n",
              "    <tr>\n",
              "      <th>2018-08-31 23:10:00</th>\n",
              "      <td>32</td>\n",
              "    </tr>\n",
              "    <tr>\n",
              "      <th>2018-08-31 23:20:00</th>\n",
              "      <td>24</td>\n",
              "    </tr>\n",
              "    <tr>\n",
              "      <th>2018-08-31 23:30:00</th>\n",
              "      <td>27</td>\n",
              "    </tr>\n",
              "    <tr>\n",
              "      <th>2018-08-31 23:40:00</th>\n",
              "      <td>39</td>\n",
              "    </tr>\n",
              "    <tr>\n",
              "      <th>2018-08-31 23:50:00</th>\n",
              "      <td>53</td>\n",
              "    </tr>\n",
              "  </tbody>\n",
              "</table>\n",
              "<p>26496 rows × 1 columns</p>\n",
              "</div>"
            ],
            "text/plain": [
              "                     num_orders\n",
              "datetime                       \n",
              "2018-03-01 00:00:00           9\n",
              "2018-03-01 00:10:00          14\n",
              "2018-03-01 00:20:00          28\n",
              "2018-03-01 00:30:00          20\n",
              "2018-03-01 00:40:00          32\n",
              "...                         ...\n",
              "2018-08-31 23:10:00          32\n",
              "2018-08-31 23:20:00          24\n",
              "2018-08-31 23:30:00          27\n",
              "2018-08-31 23:40:00          39\n",
              "2018-08-31 23:50:00          53\n",
              "\n",
              "[26496 rows x 1 columns]"
            ]
          },
          "execution_count": 2,
          "metadata": {},
          "output_type": "execute_result"
        }
      ],
      "source": [
        "df = pd.read_csv('/datasets/taxi.csv',index_col=[0],parse_dates = [0])\n",
        "df.sort_index(inplace=True)\n",
        "df"
      ]
    },
    {
      "cell_type": "code",
      "execution_count": null,
      "metadata": {
        "id": "1dASveL-BmIp",
        "outputId": "e143a722-f7d4-4bba-f005-05835ad095e0"
      },
      "outputs": [
        {
          "name": "stdout",
          "output_type": "stream",
          "text": [
            "<class 'pandas.core.frame.DataFrame'>\n",
            "DatetimeIndex: 26496 entries, 2018-03-01 00:00:00 to 2018-08-31 23:50:00\n",
            "Data columns (total 1 columns):\n",
            " #   Column      Non-Null Count  Dtype\n",
            "---  ------      --------------  -----\n",
            " 0   num_orders  26496 non-null  int64\n",
            "dtypes: int64(1)\n",
            "memory usage: 414.0 KB\n"
          ]
        }
      ],
      "source": [
        "df.info()"
      ]
    },
    {
      "cell_type": "markdown",
      "metadata": {
        "id": "M-weAQVKBmIp"
      },
      "source": [
        "Проверим данные на пропуски"
      ]
    },
    {
      "cell_type": "code",
      "execution_count": null,
      "metadata": {
        "id": "yIRBtiJrBmIp",
        "outputId": "bccb99e4-feec-4999-d94b-c7d5d02d509a"
      },
      "outputs": [
        {
          "data": {
            "text/plain": [
              "num_orders    0\n",
              "dtype: int64"
            ]
          },
          "execution_count": 4,
          "metadata": {},
          "output_type": "execute_result"
        }
      ],
      "source": [
        "df.isna().sum()"
      ]
    },
    {
      "cell_type": "markdown",
      "metadata": {
        "id": "_SjMMuYMBmIp"
      },
      "source": [
        "Выполним ресемплирование данных по 1му часу"
      ]
    },
    {
      "cell_type": "code",
      "execution_count": null,
      "metadata": {
        "id": "jB845uxcBmIq"
      },
      "outputs": [],
      "source": [
        "df = df.resample('1H').sum()"
      ]
    },
    {
      "cell_type": "code",
      "execution_count": null,
      "metadata": {
        "id": "5w_dDVG1BmIq",
        "outputId": "e990fdaf-2eb1-4b6b-d5c6-0e660e7eb485"
      },
      "outputs": [
        {
          "data": {
            "text/plain": [
              "<AxesSubplot:xlabel='datetime'>"
            ]
          },
          "execution_count": 6,
          "metadata": {},
          "output_type": "execute_result"
        },
        {
          "data": {
            "image/png": "[encoded data removed]",
            "text/plain": [
              "<Figure size 720x576 with 1 Axes>"
            ]
          },
          "metadata": {
            "needs_background": "light"
          },
          "output_type": "display_data"
        }
      ],
      "source": [
        "\n",
        "df.plot(figsize=(10,8))"
      ]
    },
    {
      "cell_type": "markdown",
      "metadata": {
        "id": "6PmI93e1BmIq"
      },
      "source": [
        "***Вывод:\n",
        "Представлены данные за период март-сентябрь 2018 годаю.\n",
        "Пропусков в данных не имеется.\n",
        "Данные сгруппированы(ресемплированны) периодом в 1 час.\n",
        "Из графика видим сезонность в летние месяцы( в августе в пиковое часы, кол-во заказов в два раза выше, чем  в весенние месяцы). Среднее пиковое значение в районе 200 заказанных такси в час.***"
      ]
    },
    {
      "cell_type": "markdown",
      "metadata": {
        "id": "GwZoIT0lBmIr"
      },
      "source": [
        "## Анализ"
      ]
    },
    {
      "cell_type": "markdown",
      "metadata": {
        "id": "1wfe1eumBmIr"
      },
      "source": [
        "Посмотрим тренд, сезонность и шумы"
      ]
    },
    {
      "cell_type": "code",
      "execution_count": null,
      "metadata": {
        "id": "MsqQoIaHBmIr"
      },
      "outputs": [],
      "source": [
        "decomposed = seasonal_decompose(df)"
      ]
    },
    {
      "cell_type": "code",
      "execution_count": null,
      "metadata": {
        "id": "Bdc5F_boBmIr",
        "outputId": "ae86cedc-8162-48c1-fcff-a4d8df425664"
      },
      "outputs": [
        {
          "data": {
            "text/plain": [
              "Text(0.5, 1.0, 'Trend')"
            ]
          },
          "execution_count": 8,
          "metadata": {},
          "output_type": "execute_result"
        },
        {
          "data": {
            "image/png": "[encoded data removed]",
            "text/plain": [
              "<Figure size 720x576 with 1 Axes>"
            ]
          },
          "metadata": {
            "needs_background": "light"
          },
          "output_type": "display_data"
        }
      ],
      "source": [
        "plt.figure(figsize=(10,8))\n",
        "plt.subplot(311)\n",
        "decomposed.trend.plot(ax=plt.gca())\n",
        "plt.title('Trend')"
      ]
    },
    {
      "cell_type": "code",
      "execution_count": null,
      "metadata": {
        "id": "aJftzltNBmIr",
        "outputId": "9349a10f-f097-4068-b1ef-ae3dd5ff19ef"
      },
      "outputs": [
        {
          "data": {
            "image/png": "[encoded data removed]",
            "text/plain": [
              "<Figure size 720x576 with 1 Axes>"
            ]
          },
          "metadata": {
            "needs_background": "light"
          },
          "output_type": "display_data"
        }
      ],
      "source": [
        "plt.figure(figsize=(10,8))\n",
        "plt.subplot(312)\n",
        "decomposed.seasonal.plot(ax = plt.gca())\n",
        "plt.title('Сезонность')\n",
        "plt.tight_layout()"
      ]
    },
    {
      "cell_type": "markdown",
      "metadata": {
        "id": "rTpXP5emBmIr"
      },
      "source": [
        "Уменьшим временной интервал до 1го дня, что бы можно было увидеть сезонность внутри дня"
      ]
    },
    {
      "cell_type": "code",
      "execution_count": null,
      "metadata": {
        "id": "zK5FunA2BmIr",
        "outputId": "4a9f7378-25f1-4c00-e1c3-136ff8461b2b"
      },
      "outputs": [
        {
          "data": {
            "text/plain": [
              "Text(0.5, 1.0, 'Seasonality')"
            ]
          },
          "execution_count": 10,
          "metadata": {},
          "output_type": "execute_result"
        },
        {
          "data": {
            "image/png": "[encoded data removed]",
            "text/plain": [
              "<Figure size 1008x288 with 1 Axes>"
            ]
          },
          "metadata": {
            "needs_background": "light"
          },
          "output_type": "display_data"
        }
      ],
      "source": [
        "decomposed = seasonal_decompose(df['2018-08-29':'2018-08-31'])\n",
        "decomposed.seasonal.plot(figsize=(14, 4))\n",
        "plt.title('Seasonality')"
      ]
    },
    {
      "cell_type": "markdown",
      "metadata": {
        "id": "zV8SmNGcBmIs"
      },
      "source": [
        "Посмотрим сезонность внутри недели"
      ]
    },
    {
      "cell_type": "code",
      "execution_count": null,
      "metadata": {
        "scrolled": true,
        "id": "uMiBAJjABmIs",
        "outputId": "b7b6fb8a-4773-4f44-8431-5f2b449c7b37"
      },
      "outputs": [
        {
          "data": {
            "text/plain": [
              "Text(0.5, 1.0, 'Seasonality')"
            ]
          },
          "execution_count": 11,
          "metadata": {},
          "output_type": "execute_result"
        },
        {
          "data": {
            "image/png": "[encoded data removed]",
            "text/plain": [
              "<Figure size 1008x288 with 1 Axes>"
            ]
          },
          "metadata": {
            "needs_background": "light"
          },
          "output_type": "display_data"
        }
      ],
      "source": [
        "df1 = df.copy()\n",
        "df1 = df1.resample('1D').sum()\n",
        "decomposed = seasonal_decompose(df1['2018-08-01':'2018-08-31'])\n",
        "decomposed.seasonal.plot(figsize=(14, 4))\n",
        "plt.title('Seasonality')"
      ]
    },
    {
      "cell_type": "markdown",
      "metadata": {
        "id": "GrmvKSKrBmIs"
      },
      "source": [
        "График сезонности показывает, что ночью с 00:00 число заказов начинает снижаться и самое малое колличество заказов около 6:00, далее наблюдается рост вплоть до полуночи.\n",
        "Самый высокий спрос на такси в пятницу и понедельник"
      ]
    },
    {
      "cell_type": "code",
      "execution_count": null,
      "metadata": {
        "id": "7vWHCh6PBmIs",
        "outputId": "927578da-f0a0-4658-d842-ee27d675270b"
      },
      "outputs": [
        {
          "data": {
            "image/png": "[encoded data removed]",
            "text/plain": [
              "<Figure size 720x576 with 1 Axes>"
            ]
          },
          "metadata": {
            "needs_background": "light"
          },
          "output_type": "display_data"
        }
      ],
      "source": [
        "\n",
        "plt.figure(figsize=(10,8))\n",
        "plt.subplot(313)\n",
        "decomposed.resid.plot(ax=plt.gca())# < напишите код здесь >\n",
        "plt.title('Residuals')\n",
        "plt.tight_layout()"
      ]
    },
    {
      "cell_type": "markdown",
      "metadata": {
        "id": "GSJXo5TBBmIv"
      },
      "source": [
        "*Визуально на графике тренда видно что временной ряд не стационарен(среднее и дисперсия меняется с течением времени)*"
      ]
    },
    {
      "cell_type": "markdown",
      "metadata": {
        "id": "nR3_hCGYBmIv"
      },
      "source": [
        "Проведем тест Дики-Фуллера.\n",
        "H 0 : Временной ряд является нестационарным. Другими словами, он имеет некоторую структуру, зависящую от времени, и не имеет постоянной дисперсии во времени.\n",
        "\n",
        "H A : временной ряд является стационарным.\n",
        "\n",
        "Если p-значение из теста меньше некоторого уровня значимости (например, α = 0,05), то мы можем отвергнуть нулевую гипотезу и сделать вывод, что временной ряд является стационарным."
      ]
    },
    {
      "cell_type": "code",
      "execution_count": null,
      "metadata": {
        "id": "Jsg3adMPBmIv",
        "outputId": "98ee5841-cf34-49e8-d6af-940781c3f746"
      },
      "outputs": [
        {
          "name": "stdout",
          "output_type": "stream",
          "text": [
            "P_value =  0.028940051402612906\n",
            "Критерий ряда -3.0689242890279558\n",
            "Критерий 5% -2.8621993540813637\n"
          ]
        }
      ],
      "source": [
        "from statsmodels. tsa.stattools import adfuller\n",
        "test = adfuller(df['num_orders'])\n",
        "print('P_value = ',test[1])\n",
        "print(f'Критерий ряда {test[0]}\\nКритерий 5% {test[4][\"5%\"]}')"
      ]
    },
    {
      "cell_type": "markdown",
      "metadata": {
        "id": "V8S8TW4zBmIv"
      },
      "source": [
        "*Исходя из теста, видим что процесс стационарный. С вероятностью ошибки первого рода равной 5% (на грани)*"
      ]
    },
    {
      "cell_type": "markdown",
      "metadata": {
        "id": "cdyHeQT3BmIw"
      },
      "source": [
        "## Обучение"
      ]
    },
    {
      "cell_type": "markdown",
      "metadata": {
        "id": "dzYzi25sBmIw"
      },
      "source": [
        "Посмотрим график автокорреляции, для подбора параметра lag"
      ]
    },
    {
      "cell_type": "code",
      "execution_count": null,
      "metadata": {
        "scrolled": true,
        "id": "VvClqzhgBmIw",
        "outputId": "a42cc558-bfce-4203-df8f-d4fbab9542c8"
      },
      "outputs": [
        {
          "data": {
            "image/png": "[encoded data removed]",
            "text/plain": [
              "<Figure size 432x288 with 1 Axes>"
            ]
          },
          "metadata": {
            "needs_background": "light"
          },
          "output_type": "display_data"
        }
      ],
      "source": [
        "# импортируем автокорреляционную функцию (ACF)\n",
        "from statsmodels.graphics.tsaplots import plot_acf\n",
        "\n",
        "# применим функцию к нашему набору данных\n",
        "\n",
        "plot_acf(df)\n",
        "plt.show()"
      ]
    },
    {
      "cell_type": "markdown",
      "metadata": {
        "id": "4LYLSVaSBmIx"
      },
      "source": [
        "Как видим из графика, лаг 24 коррелирует сильнее всего к исходному ряду\n"
      ]
    },
    {
      "cell_type": "markdown",
      "metadata": {
        "id": "gAS1MT8yBmIx"
      },
      "source": [
        "*Создадим признаки для горизонта прогнозирования в один шаг.*"
      ]
    },
    {
      "cell_type": "code",
      "execution_count": null,
      "metadata": {
        "id": "w8OUVICxBmIx"
      },
      "outputs": [],
      "source": [
        "def make_features(df, max_lag, rolling_mean_size):\n",
        "    df['dayofweek'] = df.index.dayofweek\n",
        "    df['hour'] = df.index.hour\n",
        "    for lag in range(1, max_lag + 1):\n",
        "        df['lag_{}'.format(lag)] = df['num_orders'].shift(lag)\n",
        "    df['rolling_mean'] = df['num_orders'].shift().rolling(rolling_mean_size).mean()\n",
        ""
      ]
    },
    {
      "cell_type": "code",
      "execution_count": null,
      "metadata": {
        "id": "BukHGiDoBmIx"
      },
      "outputs": [],
      "source": [
        "make_features(df, 24, 24)"
      ]
    },
    {
      "cell_type": "markdown",
      "metadata": {
        "id": "heKunq3uBmIy"
      },
      "source": [
        "Разделим данные на trein,test,valid. Тестовой выборке отдадим 10% данных,60% на обучение, 30% на валидацию."
      ]
    },
    {
      "cell_type": "code",
      "execution_count": null,
      "metadata": {
        "id": "JUCJ48AQBmIy"
      },
      "outputs": [],
      "source": [
        "train, test = train_test_split(df, shuffle=False, test_size=0.1)\n",
        "train = train.dropna()\n",
        "train, valid = train_test_split(train, shuffle=False, test_size=0.3)\n",
        "\n",
        "\n",
        "features_train = train.drop(['num_orders'],axis = 1)# < напишите код здесь >\n",
        "target_train = train['num_orders']\n",
        "features_test = test.drop(['num_orders'],axis = 1)# < напишите код здесь >\n",
        "target_test = test['num_orders']\n",
        "features_valid = valid.drop(['num_orders'],axis = 1)\n",
        "target_valid = valid['num_orders']"
      ]
    },
    {
      "cell_type": "markdown",
      "metadata": {
        "id": "IP0eG8boBmIy"
      },
      "source": [
        "*Обучим модели*"
      ]
    },
    {
      "cell_type": "markdown",
      "metadata": {
        "id": "LckVpDnPBmIz"
      },
      "source": [
        "Линейная регрессия"
      ]
    },
    {
      "cell_type": "code",
      "execution_count": null,
      "metadata": {
        "id": "OUXoP9v9BmIz",
        "outputId": "65d2f79e-8f78-4fd2-a2e7-f7143b799a1d"
      },
      "outputs": [
        {
          "name": "stdout",
          "output_type": "stream",
          "text": [
            "RMSE на валидной выборке 31.344788302906583\n",
            "CPU times: user 108 ms, sys: 153 ms, total: 261 ms\n",
            "Wall time: 140 ms\n"
          ]
        }
      ],
      "source": [
        "%%time\n",
        "lr = LinearRegression()\n",
        "lr.fit(features_train, target_train)\n",
        "predicted_train = lr.predict(features_train)\n",
        "predictions_valid = lr.predict(features_valid)\n",
        "print('RMSE на валидной выборке',mean_squared_error(predictions_valid, target_valid)**.5)"
      ]
    },
    {
      "cell_type": "markdown",
      "metadata": {
        "id": "-5JT54lMBmIz"
      },
      "source": [
        "RMSE линейной регрессии на валидной выборке 31.3"
      ]
    },
    {
      "cell_type": "code",
      "execution_count": null,
      "metadata": {
        "id": "SYRwhGvQBmIz",
        "outputId": "20fbe7d0-4b1d-42e0-b40b-aab4a841eb50"
      },
      "outputs": [
        {
          "name": "stdout",
          "output_type": "stream",
          "text": [
            "Глубина дерева: 3 n_estimators: 1 RMSE 38.657276249471316\n",
            "Глубина дерева: 4 n_estimators: 1 RMSE 36.22822477332495\n",
            "Глубина дерева: 5 n_estimators: 1 RMSE 37.27647007090783\n",
            "Глубина дерева: 3 n_estimators: 21 RMSE 37.49301103419672\n",
            "Глубина дерева: 4 n_estimators: 21 RMSE 35.337096627456\n",
            "Глубина дерева: 5 n_estimators: 21 RMSE 34.298715557563895\n",
            "Глубина дерева: 3 n_estimators: 41 RMSE 37.42451700207333\n",
            "Глубина дерева: 4 n_estimators: 41 RMSE 35.29742006265898\n",
            "Глубина дерева: 5 n_estimators: 41 RMSE 34.09320992656639\n",
            "Глубина дерева: 3 n_estimators: 61 RMSE 37.220312878450244\n",
            "Глубина дерева: 4 n_estimators: 61 RMSE 35.35396504046194\n",
            "Глубина дерева: 5 n_estimators: 61 RMSE 34.009060065063636\n",
            "Глубина дерева: 3 n_estimators: 81 RMSE 37.17766978487433\n",
            "Глубина дерева: 4 n_estimators: 81 RMSE 35.31283566383305\n",
            "Глубина дерева: 5 n_estimators: 81 RMSE 34.015203623187574\n",
            "Глубина дерева: 3 n_estimators: 101 RMSE 37.27996262423024\n",
            "Глубина дерева: 4 n_estimators: 101 RMSE 35.42434436612809\n",
            "Глубина дерева: 5 n_estimators: 101 RMSE 34.18792983195687\n",
            "Глубина дерева: 3 n_estimators: 121 RMSE 37.12014098153679\n",
            "Глубина дерева: 4 n_estimators: 121 RMSE 35.42903283481121\n",
            "Глубина дерева: 5 n_estimators: 121 RMSE 34.11468311370905\n",
            "Глубина дерева: 3 n_estimators: 141 RMSE 37.09401415428511\n",
            "Глубина дерева: 4 n_estimators: 141 RMSE 35.3525694357858\n",
            "Глубина дерева: 5 n_estimators: 141 RMSE 34.03206592420911\n",
            "Глубина дерева: 3 n_estimators: 161 RMSE 37.08012185933848\n",
            "Глубина дерева: 4 n_estimators: 161 RMSE 35.305438285295324\n",
            "Глубина дерева: 5 n_estimators: 161 RMSE 33.95633784810309\n",
            "Глубина дерева: 3 n_estimators: 181 RMSE 37.048302958613185\n",
            "Глубина дерева: 4 n_estimators: 181 RMSE 35.29051716236773\n",
            "Глубина дерева: 5 n_estimators: 181 RMSE 33.87163567912102\n",
            "Глубина дерева: 3 n_estimators: 201 RMSE 37.02752153562473\n",
            "Глубина дерева: 4 n_estimators: 201 RMSE 35.33128155035041\n",
            "Глубина дерева: 5 n_estimators: 201 RMSE 33.87776820846034\n",
            "CPU times: user 37.1 s, sys: 125 ms, total: 37.2 s\n",
            "Wall time: 37.4 s\n"
          ]
        }
      ],
      "source": [
        "%%time\n",
        "for est in range(1, 202, 20):\n",
        "    for depth in range(3, 6):\n",
        "        model_forest = RandomForestRegressor(random_state=12345, n_estimators= est,max_depth=depth)\n",
        "        model_forest.fit(features_train, target_train)\n",
        "        predictions_forest_valid = model_forest.predict(features_valid)\n",
        "        print(\"Глубина дерева:\", depth,'n_estimators:',est,'RMSE',mean_squared_error(predictions_forest_valid, target_valid)**.5)\n"
      ]
    },
    {
      "cell_type": "markdown",
      "metadata": {
        "id": "nbO8gBN8BmI0"
      },
      "source": [
        "Лучший показатель RMSE 34.00  у случайного леса при гиперпараметрах Глубина дерева: 5 n_estimators: 61\n"
      ]
    },
    {
      "cell_type": "markdown",
      "metadata": {
        "id": "WlM4ehH6BmI0"
      },
      "source": [
        "Модель CatBoost"
      ]
    },
    {
      "cell_type": "code",
      "execution_count": null,
      "metadata": {
        "id": "-JvLjwDMBmI0",
        "outputId": "9317e8f3-b6f2-47b9-e60e-7de610bc55e3"
      },
      "outputs": [
        {
          "name": "stdout",
          "output_type": "stream",
          "text": [
            "CPU times: user 3 µs, sys: 0 ns, total: 3 µs\n",
            "Wall time: 6.2 µs\n",
            "RMSE валидационной выборки  30.879088953977732\n"
          ]
        }
      ],
      "source": [
        "%time\n",
        "cat = CatBoostRegressor(n_estimators=30,\n",
        "                       loss_function='RMSE',\n",
        "                       learning_rate=0.4,\n",
        "                       depth=3,\n",
        "                       task_type='CPU',\n",
        "                       random_state=42,\n",
        "                       verbose=False)\n",
        "cat.fit(features_train, target_train)\n",
        "predicted_valid = cat.predict(features_valid)\n",
        "print(\"RMSE валидационной выборки \", mean_squared_error(target_valid, predicted_valid) ** 0.5)"
      ]
    },
    {
      "cell_type": "markdown",
      "metadata": {
        "id": "6N69P7-WBmI0"
      },
      "source": [
        "*RMSE модели CatBoostRegressor = 30.87*"
      ]
    },
    {
      "cell_type": "markdown",
      "metadata": {
        "id": "RQNQx2XGBmI0"
      },
      "source": [
        "Модель LightGBM"
      ]
    },
    {
      "cell_type": "code",
      "execution_count": null,
      "metadata": {
        "id": "YGgA4BS1BmI1",
        "outputId": "0ef91f85-10d6-41c6-9dd7-0cbb79dff30b"
      },
      "outputs": [
        {
          "name": "stdout",
          "output_type": "stream",
          "text": [
            "max_depth: 1 num_leaves: 30 rmse 34.468040116972396\n",
            "max_depth: 1 num_leaves: 60 rmse 34.468040116972396\n",
            "max_depth: 1 num_leaves: 90 rmse 34.468040116972396\n",
            "max_depth: 1 num_leaves: 120 rmse 34.468040116972396\n",
            "max_depth: 4 num_leaves: 30 rmse 30.370163389867464\n",
            "max_depth: 4 num_leaves: 60 rmse 30.370163389867464\n",
            "max_depth: 4 num_leaves: 90 rmse 30.370163389867464\n",
            "max_depth: 4 num_leaves: 120 rmse 30.370163389867464\n",
            "max_depth: 7 num_leaves: 30 rmse 30.593921189908507\n",
            "max_depth: 7 num_leaves: 60 rmse 30.985988104124814\n",
            "max_depth: 7 num_leaves: 90 rmse 30.913601766956397\n",
            "max_depth: 7 num_leaves: 120 rmse 30.913601766956397\n",
            "CPU times: user 24min 37s, sys: 9.65 s, total: 24min 46s\n",
            "Wall time: 24min 57s\n"
          ]
        }
      ],
      "source": [
        "%%time\n",
        "for depth in range(1, 9, 3):\n",
        "    for num in range(30, 121, 30):\n",
        "        model = lgb.LGBMRegressor(max_depth = depth,num_leaves= num,random_state=12345)\n",
        "        model.fit(features_train, target_train)\n",
        "        predictions_train = model.predict(features_valid)\n",
        "        print(\"max_depth:\", depth,'num_leaves:',num,'rmse',mean_squared_error(target_valid, predictions_train)**0.5)"
      ]
    },
    {
      "cell_type": "markdown",
      "metadata": {
        "id": "kNoHc00NBmI1"
      },
      "source": [
        "*Лучший показатель rmse 30.3 модели LightGBM, при гиперпараметрах max_depth: 4 num_leaves: 30*\n"
      ]
    },
    {
      "cell_type": "markdown",
      "metadata": {
        "id": "AGx8eCq3BmI1"
      },
      "source": [
        "Сравним модели"
      ]
    },
    {
      "cell_type": "code",
      "execution_count": null,
      "metadata": {
        "id": "lIKshILxBmI1",
        "outputId": "ead83421-41a0-494b-ba36-555155b6836d"
      },
      "outputs": [
        {
          "data": {
            "text/html": [
              "<div>\n",
              "<style scoped>\n",
              "    .dataframe tbody tr th:only-of-type {\n",
              "        vertical-align: middle;\n",
              "    }\n",
              "\n",
              "    .dataframe tbody tr th {\n",
              "        vertical-align: top;\n",
              "    }\n",
              "\n",
              "    .dataframe thead th {\n",
              "        text-align: right;\n",
              "    }\n",
              "</style>\n",
              "<table border=\"1\" class=\"dataframe\">\n",
              "  <thead>\n",
              "    <tr style=\"text-align: right;\">\n",
              "      <th></th>\n",
              "      <th>Модель</th>\n",
              "      <th>RMSE</th>\n",
              "    </tr>\n",
              "  </thead>\n",
              "  <tbody>\n",
              "    <tr>\n",
              "      <th>0</th>\n",
              "      <td>LightGBM</td>\n",
              "      <td>30.37</td>\n",
              "    </tr>\n",
              "    <tr>\n",
              "      <th>1</th>\n",
              "      <td>CatBoostRegressor</td>\n",
              "      <td>30.87</td>\n",
              "    </tr>\n",
              "    <tr>\n",
              "      <th>2</th>\n",
              "      <td>Линейная регрессия</td>\n",
              "      <td>31.30</td>\n",
              "    </tr>\n",
              "    <tr>\n",
              "      <th>3</th>\n",
              "      <td>Случайный лес</td>\n",
              "      <td>34.00</td>\n",
              "    </tr>\n",
              "  </tbody>\n",
              "</table>\n",
              "</div>"
            ],
            "text/plain": [
              "               Модель   RMSE\n",
              "0            LightGBM  30.37\n",
              "1   CatBoostRegressor  30.87\n",
              "2  Линейная регрессия  31.30\n",
              "3       Случайный лес  34.00"
            ]
          },
          "execution_count": 22,
          "metadata": {},
          "output_type": "execute_result"
        }
      ],
      "source": [
        "analysis = [[ 'Случайный лес', 34.00],\n",
        "            [ 'Линейная регрессия', 31.3],\n",
        "            ['CatBoostRegressor', 30.87],\n",
        "            ['LightGBM', 30.37]]\n",
        "columns = ['Модель','RMSE']\n",
        "analysis_data = pd.DataFrame(data=analysis, columns=columns)\n",
        "analysis_data.sort_values(by='RMSE', axis=0).reset_index(drop=True)"
      ]
    },
    {
      "cell_type": "markdown",
      "metadata": {
        "id": "LoNK8jdYBmI1"
      },
      "source": [
        "***Лучший показатель RMSE имеет модель LightGBM 30.37. Протестируем модели на тестовых данных***"
      ]
    },
    {
      "cell_type": "markdown",
      "metadata": {
        "id": "m9V2Nq7-BmI1"
      },
      "source": [
        "## Тестирование"
      ]
    },
    {
      "cell_type": "markdown",
      "metadata": {
        "id": "XpbHaFQbBmI2"
      },
      "source": [
        "Тестируем линейную регрессию"
      ]
    },
    {
      "cell_type": "code",
      "execution_count": null,
      "metadata": {
        "id": "63WuND6FBmI2",
        "outputId": "46c665d1-cd7a-4d18-dbbb-4765beb0d017"
      },
      "outputs": [
        {
          "name": "stdout",
          "output_type": "stream",
          "text": [
            "RMSE на тестовой выборке 46.919835935517575\n",
            "CPU times: user 22.1 ms, sys: 91 µs, total: 22.2 ms\n",
            "Wall time: 70.8 ms\n"
          ]
        }
      ],
      "source": [
        "%%time\n",
        "lr = LinearRegression()\n",
        "lr.fit(features_train, target_train)\n",
        "predicted_test = lr.predict(features_test)\n",
        "print('RMSE на тестовой выборке',mean_squared_error(predicted_test, target_test)**.5)\n"
      ]
    },
    {
      "cell_type": "markdown",
      "metadata": {
        "id": "ASwO5VIlBmI2"
      },
      "source": [
        "*RMSE на тестовой выборке =  46.91 у Линейной регресси.*"
      ]
    },
    {
      "cell_type": "markdown",
      "metadata": {
        "id": "3BFtQEroBmI2"
      },
      "source": [
        "Тестируем случайный лес на подобранных гиперпараметрах"
      ]
    },
    {
      "cell_type": "code",
      "execution_count": null,
      "metadata": {
        "id": "EZ03PY6HBmI2",
        "outputId": "1edd4e27-8abb-401c-e435-e4f207ed5663"
      },
      "outputs": [
        {
          "name": "stdout",
          "output_type": "stream",
          "text": [
            "RMSE 63.853729442097475\n",
            "CPU times: user 850 ms, sys: 24.2 ms, total: 874 ms\n",
            "Wall time: 915 ms\n"
          ]
        }
      ],
      "source": [
        "%%time\n",
        "model_forest = RandomForestRegressor(random_state=12345, n_estimators= 61,max_depth=5)\n",
        "model_forest.fit(features_train, target_train)\n",
        "predictions_forest_test = model_forest.predict(features_test)\n",
        "print('RMSE',mean_squared_error(target_test,predictions_forest_test)**.5)"
      ]
    },
    {
      "cell_type": "markdown",
      "metadata": {
        "id": "-JnJHNtIBmI2"
      },
      "source": [
        "*RMSE на тестовой выборке = 63.85 у случайного леса.*"
      ]
    },
    {
      "cell_type": "code",
      "execution_count": null,
      "metadata": {
        "id": "roCAgTH1BmI2",
        "outputId": "ddb7db30-ccf1-470d-e9aa-0c4cd63fd7b1"
      },
      "outputs": [
        {
          "name": "stdout",
          "output_type": "stream",
          "text": [
            "CPU times: user 2 µs, sys: 0 ns, total: 2 µs\n",
            "Wall time: 5.72 µs\n",
            "RMSE тестовой выборки  55.159926425288894\n"
          ]
        }
      ],
      "source": [
        "%time\n",
        "cat = CatBoostRegressor(n_estimators=30,\n",
        "                       loss_function='RMSE',\n",
        "                       learning_rate=0.4,\n",
        "                       depth=3,\n",
        "                       task_type='CPU',\n",
        "                       random_state=42,\n",
        "                       verbose=False)\n",
        "cat.fit(features_train, target_train)\n",
        "predicted_test = cat.predict(features_test)\n",
        "print(\"RMSE тестовой выборки \", mean_squared_error(target_test, predicted_test) ** 0.5)"
      ]
    },
    {
      "cell_type": "markdown",
      "metadata": {
        "id": "TXHXBWgRBmI3"
      },
      "source": [
        "\n",
        "*RMSE на тестовой выборке = 55.1 у CatBoost.*"
      ]
    },
    {
      "cell_type": "code",
      "execution_count": null,
      "metadata": {
        "id": "FejwY3tBBmI3",
        "outputId": "50e7ce6b-040a-4b24-b57d-e9bf26260409"
      },
      "outputs": [
        {
          "name": "stdout",
          "output_type": "stream",
          "text": [
            "rmse 55.774698471394025\n",
            "CPU times: user 1min 25s, sys: 492 ms, total: 1min 25s\n",
            "Wall time: 1min 26s\n"
          ]
        }
      ],
      "source": [
        "%%time\n",
        "model = lgb.LGBMRegressor(max_depth = 4,num_leaves= 30,random_state=12345)\n",
        "model.fit(features_train, target_train)\n",
        "predictions_test = model.predict(features_test)\n",
        "print('rmse',mean_squared_error(target_test, predictions_test)**0.5)"
      ]
    },
    {
      "cell_type": "markdown",
      "metadata": {
        "id": "48kXGc71BmI3"
      },
      "source": [
        "RMSE на тестовой выборке = 55.77 у LightGBM."
      ]
    },
    {
      "cell_type": "markdown",
      "metadata": {
        "id": "eNj-CXPPBmI3"
      },
      "source": [
        "*Линейная регрессия ведет себя лучше остальных моделей на тестовых данных. Показатель RMSE = 46.91. Остальные модели не проходят по метрике исходя из условий задачи. Метрика выше 48!*"
      ]
    },
    {
      "cell_type": "markdown",
      "metadata": {
        "id": "OqVsfC_9BmI3"
      },
      "source": [
        "***В ходе проекта подготовили данные для работы с числовыми рядами.\n",
        "Обучили модели Линейная регрессия,LightGB,CatBoostRegressor,Случайный лес. Лучшие показатель RMSE = 46.84 имеет Линейная регрессия. Выбираем данную модель для использования в работе***\n",
        "\n"
      ]
    }
  ],
  "metadata": {
    "ExecuteTimeLog": [
      {
        "duration": 1061,
        "start_time": "2023-06-08T10:02:42.893Z"
      },
      {
        "duration": 150,
        "start_time": "2023-06-08T10:03:26.383Z"
      },
      {
        "duration": 15,
        "start_time": "2023-06-08T10:03:35.742Z"
      },
      {
        "duration": 47,
        "start_time": "2023-06-08T10:05:51.157Z"
      },
      {
        "duration": 10,
        "start_time": "2023-06-08T10:05:51.929Z"
      },
      {
        "duration": 9,
        "start_time": "2023-06-08T10:07:23.833Z"
      },
      {
        "duration": 2,
        "start_time": "2023-06-08T10:11:24.920Z"
      },
      {
        "duration": 9,
        "start_time": "2023-06-08T10:11:31.145Z"
      },
      {
        "duration": 12,
        "start_time": "2023-06-08T10:11:34.218Z"
      },
      {
        "duration": 54,
        "start_time": "2023-06-08T10:14:03.818Z"
      },
      {
        "duration": 15,
        "start_time": "2023-06-08T10:14:09.348Z"
      },
      {
        "duration": 52,
        "start_time": "2023-06-08T10:14:42.342Z"
      },
      {
        "duration": 10,
        "start_time": "2023-06-08T10:14:49.844Z"
      },
      {
        "duration": 113,
        "start_time": "2023-06-08T10:15:04.982Z"
      },
      {
        "duration": 7,
        "start_time": "2023-06-08T10:15:14.101Z"
      },
      {
        "duration": 10,
        "start_time": "2023-06-08T10:17:56.208Z"
      },
      {
        "duration": 6,
        "start_time": "2023-06-08T10:18:08.990Z"
      },
      {
        "duration": 3,
        "start_time": "2023-06-08T10:20:01.677Z"
      },
      {
        "duration": 12,
        "start_time": "2023-06-08T10:22:12.073Z"
      },
      {
        "duration": 9,
        "start_time": "2023-06-08T10:22:20.532Z"
      },
      {
        "duration": 1126,
        "start_time": "2023-06-08T10:22:25.809Z"
      },
      {
        "duration": 61,
        "start_time": "2023-06-08T10:22:26.937Z"
      },
      {
        "duration": 10,
        "start_time": "2023-06-08T10:22:27.000Z"
      },
      {
        "duration": 6,
        "start_time": "2023-06-08T10:22:27.012Z"
      },
      {
        "duration": 18,
        "start_time": "2023-06-08T10:22:27.019Z"
      },
      {
        "duration": 662,
        "start_time": "2023-06-08T10:27:36.676Z"
      },
      {
        "duration": 4,
        "start_time": "2023-06-08T10:29:20.905Z"
      },
      {
        "duration": 1340,
        "start_time": "2023-06-08T10:29:26.028Z"
      },
      {
        "duration": 58,
        "start_time": "2023-06-08T10:29:27.370Z"
      },
      {
        "duration": 10,
        "start_time": "2023-06-08T10:29:27.431Z"
      },
      {
        "duration": 5,
        "start_time": "2023-06-08T10:29:27.443Z"
      },
      {
        "duration": 18,
        "start_time": "2023-06-08T10:29:27.449Z"
      },
      {
        "duration": 261,
        "start_time": "2023-06-08T10:29:27.468Z"
      },
      {
        "duration": 45,
        "start_time": "2023-06-08T10:30:18.011Z"
      },
      {
        "duration": 58,
        "start_time": "2023-06-08T10:30:23.981Z"
      },
      {
        "duration": 229,
        "start_time": "2023-06-08T10:30:56.834Z"
      },
      {
        "duration": 240,
        "start_time": "2023-06-08T10:31:02.677Z"
      },
      {
        "duration": 326,
        "start_time": "2023-06-08T10:31:09.230Z"
      },
      {
        "duration": 121,
        "start_time": "2023-06-08T13:20:54.363Z"
      },
      {
        "duration": 20,
        "start_time": "2023-06-08T13:21:39.907Z"
      },
      {
        "duration": 1289,
        "start_time": "2023-06-08T13:21:59.106Z"
      },
      {
        "duration": 68,
        "start_time": "2023-06-08T13:22:00.397Z"
      },
      {
        "duration": 12,
        "start_time": "2023-06-08T13:22:00.466Z"
      },
      {
        "duration": 45,
        "start_time": "2023-06-08T13:22:00.480Z"
      },
      {
        "duration": 53,
        "start_time": "2023-06-08T13:22:00.527Z"
      },
      {
        "duration": 333,
        "start_time": "2023-06-08T13:22:00.582Z"
      },
      {
        "duration": 113,
        "start_time": "2023-06-08T13:31:46.205Z"
      },
      {
        "duration": 105,
        "start_time": "2023-06-08T13:31:52.298Z"
      },
      {
        "duration": 8,
        "start_time": "2023-06-08T13:31:59.828Z"
      },
      {
        "duration": 275,
        "start_time": "2023-06-08T13:32:00.562Z"
      },
      {
        "duration": 83,
        "start_time": "2023-06-08T13:33:43.524Z"
      },
      {
        "duration": 181,
        "start_time": "2023-06-08T13:43:12.238Z"
      },
      {
        "duration": 200,
        "start_time": "2023-06-08T13:43:35.020Z"
      },
      {
        "duration": 206,
        "start_time": "2023-06-08T13:43:39.551Z"
      },
      {
        "duration": 192,
        "start_time": "2023-06-08T13:43:47.383Z"
      },
      {
        "duration": 764,
        "start_time": "2023-06-08T14:18:06.175Z"
      },
      {
        "duration": 529,
        "start_time": "2023-06-08T14:18:41.376Z"
      },
      {
        "duration": 660,
        "start_time": "2023-06-08T14:18:47.073Z"
      },
      {
        "duration": 453,
        "start_time": "2023-06-08T14:18:52.112Z"
      },
      {
        "duration": 9,
        "start_time": "2023-06-08T14:21:22.196Z"
      },
      {
        "duration": 50,
        "start_time": "2023-06-08T19:10:27.094Z"
      },
      {
        "duration": 1789,
        "start_time": "2023-06-08T19:10:34.507Z"
      },
      {
        "duration": 220,
        "start_time": "2023-06-08T19:10:36.298Z"
      },
      {
        "duration": 17,
        "start_time": "2023-06-08T19:10:36.521Z"
      },
      {
        "duration": 8,
        "start_time": "2023-06-08T19:10:36.540Z"
      },
      {
        "duration": 18,
        "start_time": "2023-06-08T19:10:36.551Z"
      },
      {
        "duration": 322,
        "start_time": "2023-06-08T19:10:36.572Z"
      },
      {
        "duration": 8,
        "start_time": "2023-06-08T19:10:36.896Z"
      },
      {
        "duration": 223,
        "start_time": "2023-06-08T19:10:36.906Z"
      },
      {
        "duration": 478,
        "start_time": "2023-06-08T19:10:37.131Z"
      },
      {
        "duration": 338,
        "start_time": "2023-06-08T19:10:37.610Z"
      },
      {
        "duration": 768,
        "start_time": "2023-06-08T19:10:37.950Z"
      },
      {
        "duration": 97,
        "start_time": "2023-06-08T19:10:48.335Z"
      },
      {
        "duration": 368,
        "start_time": "2023-06-08T19:10:59.998Z"
      },
      {
        "duration": 1101,
        "start_time": "2023-06-08T19:22:23.993Z"
      },
      {
        "duration": 924,
        "start_time": "2023-06-08T19:22:43.771Z"
      },
      {
        "duration": 596,
        "start_time": "2023-06-08T19:23:46.707Z"
      },
      {
        "duration": 576,
        "start_time": "2023-06-08T19:23:59.249Z"
      },
      {
        "duration": 596,
        "start_time": "2023-06-08T19:24:04.129Z"
      },
      {
        "duration": 606,
        "start_time": "2023-06-08T19:24:22.290Z"
      },
      {
        "duration": 76,
        "start_time": "2023-06-08T19:39:22.152Z"
      },
      {
        "duration": 6684,
        "start_time": "2023-06-08T19:39:57.698Z"
      },
      {
        "duration": 92,
        "start_time": "2023-06-08T19:40:04.389Z"
      },
      {
        "duration": 7925,
        "start_time": "2023-06-08T19:40:12.470Z"
      },
      {
        "duration": 7162,
        "start_time": "2023-06-08T19:40:53.516Z"
      },
      {
        "duration": 109,
        "start_time": "2023-06-08T19:41:20.200Z"
      },
      {
        "duration": 5211,
        "start_time": "2023-06-08T19:41:35.021Z"
      },
      {
        "duration": 7767,
        "start_time": "2023-06-08T19:41:56.258Z"
      },
      {
        "duration": 8,
        "start_time": "2023-06-08T19:42:26.241Z"
      },
      {
        "duration": 8613,
        "start_time": "2023-06-08T19:42:36.311Z"
      },
      {
        "duration": 118,
        "start_time": "2023-06-08T19:51:38.111Z"
      },
      {
        "duration": 95,
        "start_time": "2023-06-08T19:51:43.923Z"
      },
      {
        "duration": 102,
        "start_time": "2023-06-08T19:51:46.716Z"
      },
      {
        "duration": 8282,
        "start_time": "2023-06-08T19:52:01.001Z"
      },
      {
        "duration": 114,
        "start_time": "2023-06-08T19:59:09.219Z"
      },
      {
        "duration": 1866,
        "start_time": "2023-06-09T09:36:45.266Z"
      },
      {
        "duration": 122,
        "start_time": "2023-06-09T09:36:47.134Z"
      },
      {
        "duration": 9,
        "start_time": "2023-06-09T09:36:47.258Z"
      },
      {
        "duration": 6,
        "start_time": "2023-06-09T09:36:47.269Z"
      },
      {
        "duration": 12,
        "start_time": "2023-06-09T09:36:47.277Z"
      },
      {
        "duration": 249,
        "start_time": "2023-06-09T09:36:47.290Z"
      },
      {
        "duration": 7,
        "start_time": "2023-06-09T09:36:47.541Z"
      },
      {
        "duration": 188,
        "start_time": "2023-06-09T09:36:47.550Z"
      },
      {
        "duration": 422,
        "start_time": "2023-06-09T09:36:47.739Z"
      },
      {
        "duration": 304,
        "start_time": "2023-06-09T09:36:48.164Z"
      },
      {
        "duration": 1552,
        "start_time": "2023-06-09T09:36:48.469Z"
      },
      {
        "duration": 4,
        "start_time": "2023-06-09T11:05:18.555Z"
      },
      {
        "duration": 2317,
        "start_time": "2023-06-09T11:05:47.461Z"
      },
      {
        "duration": 2063,
        "start_time": "2023-06-09T11:06:15.743Z"
      },
      {
        "duration": 14,
        "start_time": "2023-06-09T11:06:30.891Z"
      },
      {
        "duration": 12,
        "start_time": "2023-06-09T11:15:20.187Z"
      },
      {
        "duration": 12,
        "start_time": "2023-06-09T11:15:37.207Z"
      },
      {
        "duration": 1464,
        "start_time": "2023-06-09T11:15:46.207Z"
      },
      {
        "duration": 57,
        "start_time": "2023-06-09T11:15:47.673Z"
      },
      {
        "duration": 10,
        "start_time": "2023-06-09T11:15:47.731Z"
      },
      {
        "duration": 44,
        "start_time": "2023-06-09T11:15:47.743Z"
      },
      {
        "duration": 72,
        "start_time": "2023-06-09T11:15:47.788Z"
      },
      {
        "duration": 310,
        "start_time": "2023-06-09T11:15:47.861Z"
      },
      {
        "duration": 7,
        "start_time": "2023-06-09T11:15:48.174Z"
      },
      {
        "duration": 194,
        "start_time": "2023-06-09T11:15:48.183Z"
      },
      {
        "duration": 415,
        "start_time": "2023-06-09T11:15:48.378Z"
      },
      {
        "duration": 288,
        "start_time": "2023-06-09T11:15:48.796Z"
      },
      {
        "duration": 1733,
        "start_time": "2023-06-09T11:15:49.086Z"
      },
      {
        "duration": 102,
        "start_time": "2023-06-09T11:15:50.824Z"
      },
      {
        "duration": 14,
        "start_time": "2023-06-09T11:18:53.269Z"
      },
      {
        "duration": 15,
        "start_time": "2023-06-09T11:19:14.629Z"
      },
      {
        "duration": 1543,
        "start_time": "2023-06-09T11:19:22.127Z"
      },
      {
        "duration": 57,
        "start_time": "2023-06-09T11:19:23.672Z"
      },
      {
        "duration": 10,
        "start_time": "2023-06-09T11:19:23.732Z"
      },
      {
        "duration": 8,
        "start_time": "2023-06-09T11:19:23.744Z"
      },
      {
        "duration": 10,
        "start_time": "2023-06-09T11:19:23.753Z"
      },
      {
        "duration": 273,
        "start_time": "2023-06-09T11:19:23.765Z"
      },
      {
        "duration": 8,
        "start_time": "2023-06-09T11:19:24.039Z"
      },
      {
        "duration": 195,
        "start_time": "2023-06-09T11:19:24.048Z"
      },
      {
        "duration": 402,
        "start_time": "2023-06-09T11:19:24.245Z"
      },
      {
        "duration": 328,
        "start_time": "2023-06-09T11:19:24.649Z"
      },
      {
        "duration": 2243,
        "start_time": "2023-06-09T11:19:24.979Z"
      },
      {
        "duration": 194,
        "start_time": "2023-06-09T11:19:27.224Z"
      },
      {
        "duration": 12,
        "start_time": "2023-06-09T11:19:48.564Z"
      },
      {
        "duration": 12,
        "start_time": "2023-06-09T11:25:17.452Z"
      },
      {
        "duration": 4,
        "start_time": "2023-06-09T12:49:54.182Z"
      },
      {
        "duration": 143,
        "start_time": "2023-06-09T13:40:40.500Z"
      },
      {
        "duration": 7,
        "start_time": "2023-06-09T13:41:00.260Z"
      },
      {
        "duration": 15,
        "start_time": "2023-06-09T13:41:11.387Z"
      },
      {
        "duration": 21,
        "start_time": "2023-06-09T13:41:23.613Z"
      },
      {
        "duration": 15,
        "start_time": "2023-06-09T13:42:45.261Z"
      },
      {
        "duration": 9,
        "start_time": "2023-06-09T13:45:23.631Z"
      },
      {
        "duration": 21,
        "start_time": "2023-06-09T13:45:24.801Z"
      },
      {
        "duration": 17,
        "start_time": "2023-06-09T13:45:30.545Z"
      },
      {
        "duration": 28,
        "start_time": "2023-06-09T13:45:33.160Z"
      },
      {
        "duration": 12,
        "start_time": "2023-06-09T13:47:09.354Z"
      },
      {
        "duration": 8,
        "start_time": "2023-06-09T13:47:18.166Z"
      },
      {
        "duration": 15,
        "start_time": "2023-06-09T13:47:19.377Z"
      },
      {
        "duration": 17,
        "start_time": "2023-06-09T13:47:23.710Z"
      },
      {
        "duration": 16,
        "start_time": "2023-06-09T13:47:31.143Z"
      },
      {
        "duration": 15,
        "start_time": "2023-06-09T13:47:35.593Z"
      },
      {
        "duration": 16,
        "start_time": "2023-06-09T13:48:02.906Z"
      },
      {
        "duration": 21,
        "start_time": "2023-06-09T13:50:10.146Z"
      },
      {
        "duration": 21,
        "start_time": "2023-06-09T13:50:13.347Z"
      },
      {
        "duration": 6,
        "start_time": "2023-06-09T13:51:33.228Z"
      },
      {
        "duration": 1305,
        "start_time": "2023-06-09T13:51:40.536Z"
      },
      {
        "duration": 59,
        "start_time": "2023-06-09T13:51:41.843Z"
      },
      {
        "duration": 9,
        "start_time": "2023-06-09T13:51:41.903Z"
      },
      {
        "duration": 28,
        "start_time": "2023-06-09T13:51:41.914Z"
      },
      {
        "duration": 15,
        "start_time": "2023-06-09T13:51:41.944Z"
      },
      {
        "duration": 255,
        "start_time": "2023-06-09T13:51:41.960Z"
      },
      {
        "duration": 8,
        "start_time": "2023-06-09T13:51:42.217Z"
      },
      {
        "duration": 186,
        "start_time": "2023-06-09T13:51:42.226Z"
      },
      {
        "duration": 378,
        "start_time": "2023-06-09T13:51:42.416Z"
      },
      {
        "duration": 288,
        "start_time": "2023-06-09T13:51:42.795Z"
      },
      {
        "duration": 937,
        "start_time": "2023-06-09T13:51:43.084Z"
      },
      {
        "duration": 7,
        "start_time": "2023-06-09T13:51:44.023Z"
      },
      {
        "duration": 191,
        "start_time": "2023-06-09T13:51:44.031Z"
      },
      {
        "duration": 10,
        "start_time": "2023-06-09T13:51:44.224Z"
      },
      {
        "duration": 1328,
        "start_time": "2023-06-09T15:05:10.383Z"
      },
      {
        "duration": 58,
        "start_time": "2023-06-09T15:05:11.713Z"
      },
      {
        "duration": 9,
        "start_time": "2023-06-09T15:05:11.775Z"
      },
      {
        "duration": 90,
        "start_time": "2023-06-09T15:05:11.785Z"
      },
      {
        "duration": 38,
        "start_time": "2023-06-09T15:05:11.876Z"
      },
      {
        "duration": 264,
        "start_time": "2023-06-09T15:05:11.916Z"
      },
      {
        "duration": 7,
        "start_time": "2023-06-09T15:05:12.181Z"
      },
      {
        "duration": 205,
        "start_time": "2023-06-09T15:05:12.190Z"
      },
      {
        "duration": 407,
        "start_time": "2023-06-09T15:05:12.397Z"
      },
      {
        "duration": 312,
        "start_time": "2023-06-09T15:05:12.806Z"
      },
      {
        "duration": 1500,
        "start_time": "2023-06-09T15:05:13.121Z"
      },
      {
        "duration": 4,
        "start_time": "2023-06-09T15:05:14.623Z"
      },
      {
        "duration": 122,
        "start_time": "2023-06-09T15:05:14.715Z"
      },
      {
        "duration": 12,
        "start_time": "2023-06-09T15:05:14.838Z"
      },
      {
        "duration": 202,
        "start_time": "2023-06-09T15:08:08.567Z"
      },
      {
        "duration": 1357,
        "start_time": "2023-06-09T15:09:35.356Z"
      },
      {
        "duration": 65,
        "start_time": "2023-06-09T15:09:36.717Z"
      },
      {
        "duration": 13,
        "start_time": "2023-06-09T15:09:36.784Z"
      },
      {
        "duration": 52,
        "start_time": "2023-06-09T15:09:36.799Z"
      },
      {
        "duration": 18,
        "start_time": "2023-06-09T15:09:36.854Z"
      },
      {
        "duration": 291,
        "start_time": "2023-06-09T15:09:36.874Z"
      },
      {
        "duration": 6,
        "start_time": "2023-06-09T15:09:37.167Z"
      },
      {
        "duration": 202,
        "start_time": "2023-06-09T15:09:37.175Z"
      },
      {
        "duration": 429,
        "start_time": "2023-06-09T15:09:37.378Z"
      },
      {
        "duration": 364,
        "start_time": "2023-06-09T15:09:37.809Z"
      },
      {
        "duration": 2141,
        "start_time": "2023-06-09T15:09:38.175Z"
      },
      {
        "duration": 6,
        "start_time": "2023-06-09T15:09:40.325Z"
      },
      {
        "duration": 111,
        "start_time": "2023-06-09T15:09:40.333Z"
      },
      {
        "duration": 7,
        "start_time": "2023-06-09T15:09:40.447Z"
      },
      {
        "duration": 222,
        "start_time": "2023-06-09T15:09:40.455Z"
      },
      {
        "duration": 95,
        "start_time": "2023-06-09T15:13:16.605Z"
      },
      {
        "duration": 113,
        "start_time": "2023-06-09T15:13:32.744Z"
      },
      {
        "duration": 4,
        "start_time": "2023-06-09T15:13:41.368Z"
      },
      {
        "duration": 1486,
        "start_time": "2023-06-09T15:13:56.695Z"
      },
      {
        "duration": 63,
        "start_time": "2023-06-09T15:13:58.183Z"
      },
      {
        "duration": 10,
        "start_time": "2023-06-09T15:13:58.247Z"
      },
      {
        "duration": 10,
        "start_time": "2023-06-09T15:13:58.258Z"
      },
      {
        "duration": 12,
        "start_time": "2023-06-09T15:13:58.270Z"
      },
      {
        "duration": 284,
        "start_time": "2023-06-09T15:13:58.284Z"
      },
      {
        "duration": 9,
        "start_time": "2023-06-09T15:13:58.569Z"
      },
      {
        "duration": 221,
        "start_time": "2023-06-09T15:13:58.580Z"
      },
      {
        "duration": 412,
        "start_time": "2023-06-09T15:13:58.804Z"
      },
      {
        "duration": 375,
        "start_time": "2023-06-09T15:13:59.218Z"
      },
      {
        "duration": 1633,
        "start_time": "2023-06-09T15:13:59.594Z"
      },
      {
        "duration": 5,
        "start_time": "2023-06-09T15:14:01.229Z"
      },
      {
        "duration": 109,
        "start_time": "2023-06-09T15:14:01.316Z"
      },
      {
        "duration": 45,
        "start_time": "2023-06-09T15:14:01.427Z"
      },
      {
        "duration": 244,
        "start_time": "2023-06-09T15:14:01.473Z"
      },
      {
        "duration": 89,
        "start_time": "2023-06-09T15:22:44.913Z"
      },
      {
        "duration": 1380,
        "start_time": "2023-06-09T15:22:52.713Z"
      },
      {
        "duration": 71,
        "start_time": "2023-06-09T15:22:54.094Z"
      },
      {
        "duration": 10,
        "start_time": "2023-06-09T15:22:54.166Z"
      },
      {
        "duration": 9,
        "start_time": "2023-06-09T15:22:54.178Z"
      },
      {
        "duration": 11,
        "start_time": "2023-06-09T15:22:54.188Z"
      },
      {
        "duration": 266,
        "start_time": "2023-06-09T15:22:54.200Z"
      },
      {
        "duration": 7,
        "start_time": "2023-06-09T15:22:54.468Z"
      },
      {
        "duration": 193,
        "start_time": "2023-06-09T15:22:54.476Z"
      },
      {
        "duration": 420,
        "start_time": "2023-06-09T15:22:54.671Z"
      },
      {
        "duration": 348,
        "start_time": "2023-06-09T15:22:55.093Z"
      },
      {
        "duration": 2473,
        "start_time": "2023-06-09T15:22:55.443Z"
      },
      {
        "duration": 12,
        "start_time": "2023-06-09T15:22:57.919Z"
      },
      {
        "duration": 114,
        "start_time": "2023-06-09T15:22:57.933Z"
      },
      {
        "duration": 98,
        "start_time": "2023-06-09T15:22:58.049Z"
      },
      {
        "duration": 0,
        "start_time": "2023-06-09T15:22:58.149Z"
      },
      {
        "duration": 10,
        "start_time": "2023-06-09T15:23:15.973Z"
      },
      {
        "duration": 10,
        "start_time": "2023-06-09T15:23:28.505Z"
      },
      {
        "duration": 13,
        "start_time": "2023-06-09T15:23:42.983Z"
      },
      {
        "duration": 15,
        "start_time": "2023-06-09T15:23:45.557Z"
      },
      {
        "duration": 13,
        "start_time": "2023-06-09T15:23:55.958Z"
      },
      {
        "duration": 9,
        "start_time": "2023-06-09T15:25:10.832Z"
      },
      {
        "duration": 28,
        "start_time": "2023-06-09T15:28:11.804Z"
      },
      {
        "duration": 278,
        "start_time": "2023-06-09T15:33:21.809Z"
      },
      {
        "duration": 3086,
        "start_time": "2023-06-09T15:33:27.905Z"
      },
      {
        "duration": 7996,
        "start_time": "2023-06-09T15:46:06.313Z"
      },
      {
        "duration": 10959,
        "start_time": "2023-06-09T15:46:52.550Z"
      },
      {
        "duration": 1393,
        "start_time": "2023-06-09T16:10:51.249Z"
      },
      {
        "duration": 55,
        "start_time": "2023-06-09T16:10:52.643Z"
      },
      {
        "duration": 9,
        "start_time": "2023-06-09T16:10:52.700Z"
      },
      {
        "duration": 8,
        "start_time": "2023-06-09T16:10:52.710Z"
      },
      {
        "duration": 26,
        "start_time": "2023-06-09T16:10:52.720Z"
      },
      {
        "duration": 244,
        "start_time": "2023-06-09T16:10:52.747Z"
      },
      {
        "duration": 7,
        "start_time": "2023-06-09T16:10:52.992Z"
      },
      {
        "duration": 291,
        "start_time": "2023-06-09T16:10:53.000Z"
      },
      {
        "duration": 325,
        "start_time": "2023-06-09T16:10:53.293Z"
      },
      {
        "duration": 336,
        "start_time": "2023-06-09T16:10:53.620Z"
      },
      {
        "duration": 1674,
        "start_time": "2023-06-09T16:10:53.957Z"
      },
      {
        "duration": 85,
        "start_time": "2023-06-09T16:10:55.633Z"
      },
      {
        "duration": 122,
        "start_time": "2023-06-09T16:10:55.722Z"
      },
      {
        "duration": 26,
        "start_time": "2023-06-09T16:10:55.846Z"
      },
      {
        "duration": 42,
        "start_time": "2023-06-09T16:10:55.874Z"
      },
      {
        "duration": 10689,
        "start_time": "2023-06-09T16:10:55.918Z"
      },
      {
        "duration": 2099,
        "start_time": "2023-06-09T16:20:12.559Z"
      },
      {
        "duration": 1288,
        "start_time": "2023-06-09T16:20:29.663Z"
      },
      {
        "duration": 767,
        "start_time": "2023-06-09T16:20:37.163Z"
      },
      {
        "duration": 818,
        "start_time": "2023-06-09T16:20:43.364Z"
      },
      {
        "duration": 626,
        "start_time": "2023-06-09T16:20:50.062Z"
      },
      {
        "duration": 787,
        "start_time": "2023-06-09T16:20:57.200Z"
      },
      {
        "duration": 773,
        "start_time": "2023-06-09T16:21:01.796Z"
      },
      {
        "duration": 10,
        "start_time": "2023-06-09T16:24:46.030Z"
      },
      {
        "duration": 158,
        "start_time": "2023-06-09T16:26:23.429Z"
      },
      {
        "duration": 11,
        "start_time": "2023-06-09T16:26:57.513Z"
      },
      {
        "duration": 10,
        "start_time": "2023-06-09T16:27:33.510Z"
      },
      {
        "duration": 1413,
        "start_time": "2023-06-09T16:31:39.771Z"
      },
      {
        "duration": 56,
        "start_time": "2023-06-09T16:31:41.186Z"
      },
      {
        "duration": 8,
        "start_time": "2023-06-09T16:31:41.244Z"
      },
      {
        "duration": 4,
        "start_time": "2023-06-09T16:31:41.253Z"
      },
      {
        "duration": 12,
        "start_time": "2023-06-09T16:31:41.259Z"
      },
      {
        "duration": 252,
        "start_time": "2023-06-09T16:31:41.273Z"
      },
      {
        "duration": 7,
        "start_time": "2023-06-09T16:31:41.530Z"
      },
      {
        "duration": 287,
        "start_time": "2023-06-09T16:31:41.539Z"
      },
      {
        "duration": 359,
        "start_time": "2023-06-09T16:31:41.828Z"
      },
      {
        "duration": 297,
        "start_time": "2023-06-09T16:31:42.189Z"
      },
      {
        "duration": 1146,
        "start_time": "2023-06-09T16:31:42.487Z"
      },
      {
        "duration": 8,
        "start_time": "2023-06-09T16:31:43.716Z"
      },
      {
        "duration": 108,
        "start_time": "2023-06-09T16:31:43.726Z"
      },
      {
        "duration": 9,
        "start_time": "2023-06-09T16:31:43.837Z"
      },
      {
        "duration": 15,
        "start_time": "2023-06-09T16:31:43.847Z"
      },
      {
        "duration": 10123,
        "start_time": "2023-06-09T16:31:43.864Z"
      },
      {
        "duration": 668,
        "start_time": "2023-06-09T16:31:53.988Z"
      },
      {
        "duration": 3766,
        "start_time": "2023-06-09T16:31:54.658Z"
      },
      {
        "duration": 12,
        "start_time": "2023-06-09T16:31:58.429Z"
      },
      {
        "duration": 266,
        "start_time": "2023-06-09T16:35:43.828Z"
      },
      {
        "duration": 1389,
        "start_time": "2023-06-09T16:36:19.530Z"
      },
      {
        "duration": 62,
        "start_time": "2023-06-09T16:36:20.921Z"
      },
      {
        "duration": 9,
        "start_time": "2023-06-09T16:36:20.984Z"
      },
      {
        "duration": 9,
        "start_time": "2023-06-09T16:36:20.995Z"
      },
      {
        "duration": 9,
        "start_time": "2023-06-09T16:36:21.006Z"
      },
      {
        "duration": 254,
        "start_time": "2023-06-09T16:36:21.016Z"
      },
      {
        "duration": 9,
        "start_time": "2023-06-09T16:36:21.272Z"
      },
      {
        "duration": 290,
        "start_time": "2023-06-09T16:36:21.282Z"
      },
      {
        "duration": 334,
        "start_time": "2023-06-09T16:36:21.574Z"
      },
      {
        "duration": 325,
        "start_time": "2023-06-09T16:36:21.910Z"
      },
      {
        "duration": 3316,
        "start_time": "2023-06-09T16:36:22.237Z"
      },
      {
        "duration": 5,
        "start_time": "2023-06-09T16:36:25.622Z"
      },
      {
        "duration": 129,
        "start_time": "2023-06-09T16:36:25.630Z"
      },
      {
        "duration": 25,
        "start_time": "2023-06-09T16:36:25.761Z"
      },
      {
        "duration": 41,
        "start_time": "2023-06-09T16:36:25.788Z"
      },
      {
        "duration": 10539,
        "start_time": "2023-06-09T16:36:25.830Z"
      },
      {
        "duration": 696,
        "start_time": "2023-06-09T16:36:36.370Z"
      },
      {
        "duration": 655363,
        "start_time": "2023-06-09T16:36:37.067Z"
      },
      {
        "duration": 15,
        "start_time": "2023-06-09T16:47:32.433Z"
      },
      {
        "duration": 83,
        "start_time": "2023-06-09T16:51:12.845Z"
      },
      {
        "duration": 9,
        "start_time": "2023-06-09T16:52:07.562Z"
      },
      {
        "duration": 8,
        "start_time": "2023-06-09T16:56:19.906Z"
      },
      {
        "duration": 344,
        "start_time": "2023-06-09T17:02:33.180Z"
      },
      {
        "duration": 160,
        "start_time": "2023-06-09T17:03:02.812Z"
      },
      {
        "duration": 81,
        "start_time": "2023-06-09T17:04:13.827Z"
      },
      {
        "duration": 685,
        "start_time": "2023-06-09T17:06:07.245Z"
      },
      {
        "duration": 156,
        "start_time": "2023-06-09T17:06:43.899Z"
      },
      {
        "duration": 837,
        "start_time": "2023-06-09T17:11:01.002Z"
      },
      {
        "duration": 117,
        "start_time": "2023-06-09T17:11:18.192Z"
      },
      {
        "duration": 89,
        "start_time": "2023-06-09T17:11:32.570Z"
      },
      {
        "duration": 112,
        "start_time": "2023-06-09T17:11:53.030Z"
      },
      {
        "duration": 220,
        "start_time": "2023-06-09T17:13:46.973Z"
      },
      {
        "duration": 1429,
        "start_time": "2023-06-09T17:14:03.931Z"
      },
      {
        "duration": 56,
        "start_time": "2023-06-09T17:14:05.362Z"
      },
      {
        "duration": 16,
        "start_time": "2023-06-09T17:14:05.420Z"
      },
      {
        "duration": 36,
        "start_time": "2023-06-09T17:14:05.438Z"
      },
      {
        "duration": 58,
        "start_time": "2023-06-09T17:14:05.476Z"
      },
      {
        "duration": 353,
        "start_time": "2023-06-09T17:14:05.535Z"
      },
      {
        "duration": 9,
        "start_time": "2023-06-09T17:14:05.889Z"
      },
      {
        "duration": 310,
        "start_time": "2023-06-09T17:14:05.899Z"
      },
      {
        "duration": 334,
        "start_time": "2023-06-09T17:14:06.210Z"
      },
      {
        "duration": 331,
        "start_time": "2023-06-09T17:14:06.545Z"
      },
      {
        "duration": 1637,
        "start_time": "2023-06-09T17:14:06.878Z"
      },
      {
        "duration": 89,
        "start_time": "2023-06-09T17:14:08.527Z"
      },
      {
        "duration": 19,
        "start_time": "2023-06-09T17:14:08.623Z"
      },
      {
        "duration": 11,
        "start_time": "2023-06-09T17:14:08.644Z"
      },
      {
        "duration": 68,
        "start_time": "2023-06-09T17:14:08.657Z"
      },
      {
        "duration": 10094,
        "start_time": "2023-06-09T17:14:08.727Z"
      },
      {
        "duration": 732,
        "start_time": "2023-06-09T17:14:18.823Z"
      },
      {
        "duration": 9,
        "start_time": "2023-06-09T17:14:19.556Z"
      },
      {
        "duration": 33,
        "start_time": "2023-06-09T17:14:19.566Z"
      },
      {
        "duration": 223,
        "start_time": "2023-06-09T17:14:19.600Z"
      },
      {
        "duration": 593,
        "start_time": "2023-06-09T17:14:19.824Z"
      },
      {
        "duration": 14009,
        "start_time": "2023-06-09T17:14:20.421Z"
      },
      {
        "duration": 25274,
        "start_time": "2023-06-09T17:16:07.744Z"
      },
      {
        "duration": 1724,
        "start_time": "2023-06-09T17:16:40.998Z"
      },
      {
        "duration": 4579,
        "start_time": "2023-06-09T17:16:48.338Z"
      },
      {
        "duration": 34051,
        "start_time": "2023-06-09T17:17:04.465Z"
      },
      {
        "duration": 4685,
        "start_time": "2023-06-09T17:17:45.735Z"
      },
      {
        "duration": 1396,
        "start_time": "2023-06-09T17:19:42.987Z"
      },
      {
        "duration": 57,
        "start_time": "2023-06-09T17:19:44.385Z"
      },
      {
        "duration": 8,
        "start_time": "2023-06-09T17:19:44.444Z"
      },
      {
        "duration": 5,
        "start_time": "2023-06-09T17:19:44.454Z"
      },
      {
        "duration": 34,
        "start_time": "2023-06-09T17:19:44.460Z"
      },
      {
        "duration": 258,
        "start_time": "2023-06-09T17:19:44.495Z"
      },
      {
        "duration": 7,
        "start_time": "2023-06-09T17:19:44.755Z"
      },
      {
        "duration": 263,
        "start_time": "2023-06-09T17:19:44.763Z"
      },
      {
        "duration": 371,
        "start_time": "2023-06-09T17:19:45.028Z"
      },
      {
        "duration": 362,
        "start_time": "2023-06-09T17:19:45.402Z"
      },
      {
        "duration": 1353,
        "start_time": "2023-06-09T17:19:45.766Z"
      },
      {
        "duration": 6,
        "start_time": "2023-06-09T17:19:47.121Z"
      },
      {
        "duration": 103,
        "start_time": "2023-06-09T17:19:47.135Z"
      },
      {
        "duration": 23,
        "start_time": "2023-06-09T17:19:47.316Z"
      },
      {
        "duration": 77,
        "start_time": "2023-06-09T17:19:47.341Z"
      },
      {
        "duration": 13015,
        "start_time": "2023-06-09T17:19:47.420Z"
      },
      {
        "duration": 903,
        "start_time": "2023-06-09T17:20:00.436Z"
      },
      {
        "duration": 8,
        "start_time": "2023-06-09T17:20:01.341Z"
      },
      {
        "duration": 89,
        "start_time": "2023-06-09T17:20:01.350Z"
      },
      {
        "duration": 322,
        "start_time": "2023-06-09T17:20:01.440Z"
      },
      {
        "duration": 1646,
        "start_time": "2023-06-09T17:20:01.764Z"
      },
      {
        "duration": 15715,
        "start_time": "2023-06-09T17:20:03.412Z"
      },
      {
        "duration": 1571,
        "start_time": "2023-06-10T10:47:32.203Z"
      },
      {
        "duration": 164,
        "start_time": "2023-06-10T10:47:33.776Z"
      },
      {
        "duration": 12,
        "start_time": "2023-06-10T10:47:33.942Z"
      },
      {
        "duration": 4,
        "start_time": "2023-06-10T10:47:33.956Z"
      },
      {
        "duration": 11,
        "start_time": "2023-06-10T10:47:33.962Z"
      },
      {
        "duration": 263,
        "start_time": "2023-06-10T10:47:33.974Z"
      },
      {
        "duration": 7,
        "start_time": "2023-06-10T10:47:34.239Z"
      },
      {
        "duration": 277,
        "start_time": "2023-06-10T10:47:34.247Z"
      },
      {
        "duration": 397,
        "start_time": "2023-06-10T10:47:34.526Z"
      },
      {
        "duration": 326,
        "start_time": "2023-06-10T10:47:34.925Z"
      },
      {
        "duration": 3069,
        "start_time": "2023-06-10T10:47:35.253Z"
      },
      {
        "duration": 7,
        "start_time": "2023-06-10T10:47:38.407Z"
      },
      {
        "duration": 105,
        "start_time": "2023-06-10T10:47:38.416Z"
      },
      {
        "duration": 13,
        "start_time": "2023-06-10T10:47:38.523Z"
      },
      {
        "duration": 191,
        "start_time": "2023-06-10T10:47:38.537Z"
      },
      {
        "duration": 31852,
        "start_time": "2023-06-10T10:47:38.731Z"
      },
      {
        "duration": 566,
        "start_time": "2023-06-10T10:48:10.586Z"
      },
      {
        "duration": 10,
        "start_time": "2023-06-10T10:48:11.153Z"
      },
      {
        "duration": 52,
        "start_time": "2023-06-10T10:48:11.164Z"
      },
      {
        "duration": 643,
        "start_time": "2023-06-10T10:48:11.220Z"
      },
      {
        "duration": 539,
        "start_time": "2023-06-10T10:48:11.865Z"
      },
      {
        "duration": 217116,
        "start_time": "2023-06-10T10:48:12.406Z"
      },
      {
        "duration": 1342,
        "start_time": "2023-06-10T10:53:05.499Z"
      },
      {
        "duration": 53,
        "start_time": "2023-06-10T10:53:06.842Z"
      },
      {
        "duration": 13,
        "start_time": "2023-06-10T10:53:06.897Z"
      },
      {
        "duration": 10,
        "start_time": "2023-06-10T10:53:06.915Z"
      },
      {
        "duration": 17,
        "start_time": "2023-06-10T10:53:06.927Z"
      },
      {
        "duration": 254,
        "start_time": "2023-06-10T10:53:06.945Z"
      },
      {
        "duration": 19,
        "start_time": "2023-06-10T10:53:07.201Z"
      },
      {
        "duration": 278,
        "start_time": "2023-06-10T10:53:07.224Z"
      },
      {
        "duration": 380,
        "start_time": "2023-06-10T10:53:07.504Z"
      },
      {
        "duration": 300,
        "start_time": "2023-06-10T10:53:07.886Z"
      },
      {
        "duration": 4039,
        "start_time": "2023-06-10T10:53:08.188Z"
      },
      {
        "duration": 6,
        "start_time": "2023-06-10T10:53:12.229Z"
      },
      {
        "duration": 119,
        "start_time": "2023-06-10T10:53:12.310Z"
      },
      {
        "duration": 15,
        "start_time": "2023-06-10T10:53:12.433Z"
      },
      {
        "duration": 159,
        "start_time": "2023-06-10T10:53:12.450Z"
      },
      {
        "duration": 31640,
        "start_time": "2023-06-10T10:53:12.612Z"
      },
      {
        "duration": 613,
        "start_time": "2023-06-10T10:53:44.253Z"
      },
      {
        "duration": 8,
        "start_time": "2023-06-10T10:53:44.868Z"
      },
      {
        "duration": 34,
        "start_time": "2023-06-10T10:53:44.878Z"
      },
      {
        "duration": 669,
        "start_time": "2023-06-10T10:53:44.913Z"
      },
      {
        "duration": 460,
        "start_time": "2023-06-10T10:53:45.584Z"
      },
      {
        "duration": 1313,
        "start_time": "2023-06-10T10:55:09.457Z"
      },
      {
        "duration": 58,
        "start_time": "2023-06-10T10:55:10.772Z"
      },
      {
        "duration": 8,
        "start_time": "2023-06-10T10:55:10.832Z"
      },
      {
        "duration": 9,
        "start_time": "2023-06-10T10:55:10.842Z"
      },
      {
        "duration": 46,
        "start_time": "2023-06-10T10:55:10.853Z"
      },
      {
        "duration": 288,
        "start_time": "2023-06-10T10:55:10.901Z"
      },
      {
        "duration": 21,
        "start_time": "2023-06-10T10:55:11.190Z"
      },
      {
        "duration": 333,
        "start_time": "2023-06-10T10:55:11.213Z"
      },
      {
        "duration": 340,
        "start_time": "2023-06-10T10:55:11.549Z"
      },
      {
        "duration": 286,
        "start_time": "2023-06-10T10:55:11.891Z"
      },
      {
        "duration": 3931,
        "start_time": "2023-06-10T10:55:12.179Z"
      },
      {
        "duration": 10,
        "start_time": "2023-06-10T10:55:16.115Z"
      },
      {
        "duration": 106,
        "start_time": "2023-06-10T10:55:16.129Z"
      },
      {
        "duration": 14,
        "start_time": "2023-06-10T10:55:16.237Z"
      },
      {
        "duration": 77,
        "start_time": "2023-06-10T10:55:16.253Z"
      },
      {
        "duration": 32187,
        "start_time": "2023-06-10T10:55:16.332Z"
      },
      {
        "duration": 608,
        "start_time": "2023-06-10T10:55:48.520Z"
      },
      {
        "duration": 9,
        "start_time": "2023-06-10T10:55:49.130Z"
      },
      {
        "duration": 84,
        "start_time": "2023-06-10T10:55:49.140Z"
      },
      {
        "duration": 572,
        "start_time": "2023-06-10T10:55:49.228Z"
      },
      {
        "duration": 515,
        "start_time": "2023-06-10T10:55:49.801Z"
      },
      {
        "duration": 243814,
        "start_time": "2023-06-10T10:55:50.317Z"
      },
      {
        "duration": 1372,
        "start_time": "2023-06-10T11:00:09.492Z"
      },
      {
        "duration": 57,
        "start_time": "2023-06-10T11:00:10.866Z"
      },
      {
        "duration": 9,
        "start_time": "2023-06-10T11:00:10.925Z"
      },
      {
        "duration": 27,
        "start_time": "2023-06-10T11:00:10.935Z"
      },
      {
        "duration": 18,
        "start_time": "2023-06-10T11:00:10.964Z"
      },
      {
        "duration": 243,
        "start_time": "2023-06-10T11:00:10.983Z"
      },
      {
        "duration": 7,
        "start_time": "2023-06-10T11:00:11.228Z"
      },
      {
        "duration": 306,
        "start_time": "2023-06-10T11:00:11.237Z"
      },
      {
        "duration": 335,
        "start_time": "2023-06-10T11:00:11.544Z"
      },
      {
        "duration": 295,
        "start_time": "2023-06-10T11:00:11.881Z"
      },
      {
        "duration": 2646,
        "start_time": "2023-06-10T11:00:12.178Z"
      },
      {
        "duration": 86,
        "start_time": "2023-06-10T11:00:14.825Z"
      },
      {
        "duration": 95,
        "start_time": "2023-06-10T11:00:14.913Z"
      },
      {
        "duration": 14,
        "start_time": "2023-06-10T11:00:15.011Z"
      },
      {
        "duration": 86,
        "start_time": "2023-06-10T11:00:15.027Z"
      },
      {
        "duration": 12413,
        "start_time": "2023-06-10T11:00:15.114Z"
      },
      {
        "duration": 495,
        "start_time": "2023-06-10T11:00:27.528Z"
      },
      {
        "duration": 9,
        "start_time": "2023-06-10T11:00:28.025Z"
      },
      {
        "duration": 23,
        "start_time": "2023-06-10T11:00:28.037Z"
      },
      {
        "duration": 295,
        "start_time": "2023-06-10T11:00:28.061Z"
      },
      {
        "duration": 450,
        "start_time": "2023-06-10T11:00:28.357Z"
      },
      {
        "duration": 1312,
        "start_time": "2023-06-10T11:01:20.979Z"
      },
      {
        "duration": 69,
        "start_time": "2023-06-10T11:01:22.293Z"
      },
      {
        "duration": 9,
        "start_time": "2023-06-10T11:01:22.364Z"
      },
      {
        "duration": 6,
        "start_time": "2023-06-10T11:01:22.374Z"
      },
      {
        "duration": 14,
        "start_time": "2023-06-10T11:01:22.384Z"
      },
      {
        "duration": 315,
        "start_time": "2023-06-10T11:01:22.400Z"
      },
      {
        "duration": 13,
        "start_time": "2023-06-10T11:01:22.717Z"
      },
      {
        "duration": 281,
        "start_time": "2023-06-10T11:01:22.733Z"
      },
      {
        "duration": 362,
        "start_time": "2023-06-10T11:01:23.015Z"
      },
      {
        "duration": 347,
        "start_time": "2023-06-10T11:01:23.379Z"
      },
      {
        "duration": 2096,
        "start_time": "2023-06-10T11:01:23.727Z"
      },
      {
        "duration": 5,
        "start_time": "2023-06-10T11:01:25.827Z"
      },
      {
        "duration": 105,
        "start_time": "2023-06-10T11:01:25.908Z"
      },
      {
        "duration": 14,
        "start_time": "2023-06-10T11:01:26.017Z"
      },
      {
        "duration": 182,
        "start_time": "2023-06-10T11:01:26.032Z"
      },
      {
        "duration": 31725,
        "start_time": "2023-06-10T11:01:26.216Z"
      },
      {
        "duration": 536,
        "start_time": "2023-06-10T11:01:57.942Z"
      },
      {
        "duration": 9,
        "start_time": "2023-06-10T11:01:58.479Z"
      },
      {
        "duration": 219,
        "start_time": "2023-06-10T11:01:58.490Z"
      },
      {
        "duration": 480,
        "start_time": "2023-06-10T11:01:58.714Z"
      },
      {
        "duration": 446,
        "start_time": "2023-06-10T11:01:59.196Z"
      },
      {
        "duration": 242891,
        "start_time": "2023-06-10T11:01:59.644Z"
      },
      {
        "duration": 1318,
        "start_time": "2023-06-10T11:10:16.368Z"
      },
      {
        "duration": 60,
        "start_time": "2023-06-10T11:10:17.689Z"
      },
      {
        "duration": 10,
        "start_time": "2023-06-10T11:10:17.751Z"
      },
      {
        "duration": 5,
        "start_time": "2023-06-10T11:10:17.762Z"
      },
      {
        "duration": 8,
        "start_time": "2023-06-10T11:10:17.769Z"
      },
      {
        "duration": 267,
        "start_time": "2023-06-10T11:10:17.778Z"
      },
      {
        "duration": 7,
        "start_time": "2023-06-10T11:10:18.046Z"
      },
      {
        "duration": 281,
        "start_time": "2023-06-10T11:10:18.054Z"
      },
      {
        "duration": 351,
        "start_time": "2023-06-10T11:10:18.336Z"
      },
      {
        "duration": 291,
        "start_time": "2023-06-10T11:10:18.689Z"
      },
      {
        "duration": 2546,
        "start_time": "2023-06-10T11:10:18.981Z"
      },
      {
        "duration": 85,
        "start_time": "2023-06-10T11:10:21.529Z"
      },
      {
        "duration": 101,
        "start_time": "2023-06-10T11:10:21.620Z"
      },
      {
        "duration": 16,
        "start_time": "2023-06-10T11:10:21.725Z"
      },
      {
        "duration": 172,
        "start_time": "2023-06-10T11:10:21.742Z"
      },
      {
        "duration": 32204,
        "start_time": "2023-06-10T11:10:21.918Z"
      },
      {
        "duration": 572,
        "start_time": "2023-06-10T11:10:54.123Z"
      },
      {
        "duration": 1077334,
        "start_time": "2023-06-10T11:10:54.697Z"
      },
      {
        "duration": 10,
        "start_time": "2023-06-10T11:28:52.036Z"
      },
      {
        "duration": 164,
        "start_time": "2023-06-10T11:28:52.048Z"
      },
      {
        "duration": 543,
        "start_time": "2023-06-10T11:28:52.308Z"
      },
      {
        "duration": 538,
        "start_time": "2023-06-10T11:28:52.853Z"
      },
      {
        "duration": 7328,
        "start_time": "2023-06-10T11:28:53.393Z"
      },
      {
        "duration": 8,
        "start_time": "2023-06-10T11:50:26.243Z"
      },
      {
        "duration": 550,
        "start_time": "2023-06-10T11:52:49.468Z"
      },
      {
        "duration": 98,
        "start_time": "2023-06-10T12:25:41.209Z"
      },
      {
        "duration": 1311,
        "start_time": "2023-06-10T12:26:22.302Z"
      },
      {
        "duration": 51,
        "start_time": "2023-06-10T12:26:23.616Z"
      },
      {
        "duration": 10,
        "start_time": "2023-06-10T12:26:23.669Z"
      },
      {
        "duration": 6,
        "start_time": "2023-06-10T12:26:23.681Z"
      },
      {
        "duration": 13,
        "start_time": "2023-06-10T12:26:23.689Z"
      },
      {
        "duration": 245,
        "start_time": "2023-06-10T12:26:23.705Z"
      },
      {
        "duration": 6,
        "start_time": "2023-06-10T12:26:23.952Z"
      },
      {
        "duration": 267,
        "start_time": "2023-06-10T12:26:23.960Z"
      },
      {
        "duration": 339,
        "start_time": "2023-06-10T12:26:24.229Z"
      },
      {
        "duration": 300,
        "start_time": "2023-06-10T12:26:24.570Z"
      },
      {
        "duration": 1442,
        "start_time": "2023-06-10T12:26:24.872Z"
      },
      {
        "duration": 96,
        "start_time": "2023-06-10T12:26:26.315Z"
      },
      {
        "duration": 107,
        "start_time": "2023-06-10T12:26:26.417Z"
      },
      {
        "duration": 12,
        "start_time": "2023-06-10T12:26:26.526Z"
      },
      {
        "duration": 172,
        "start_time": "2023-06-10T12:26:26.539Z"
      },
      {
        "duration": 30369,
        "start_time": "2023-06-10T12:26:26.712Z"
      },
      {
        "duration": 633,
        "start_time": "2023-06-10T12:26:57.082Z"
      },
      {
        "duration": 6193,
        "start_time": "2023-06-10T12:26:57.717Z"
      },
      {
        "duration": 10,
        "start_time": "2023-06-10T12:27:03.911Z"
      },
      {
        "duration": 85,
        "start_time": "2023-06-10T12:27:03.923Z"
      },
      {
        "duration": 593,
        "start_time": "2023-06-10T12:27:04.010Z"
      },
      {
        "duration": 456,
        "start_time": "2023-06-10T12:27:04.606Z"
      },
      {
        "duration": 549,
        "start_time": "2023-06-10T12:27:05.063Z"
      },
      {
        "duration": 3242,
        "start_time": "2023-06-10T16:55:35.658Z"
      },
      {
        "duration": 204,
        "start_time": "2023-06-10T16:55:38.904Z"
      },
      {
        "duration": 19,
        "start_time": "2023-06-10T16:55:39.110Z"
      },
      {
        "duration": 7,
        "start_time": "2023-06-10T16:55:39.136Z"
      },
      {
        "duration": 19,
        "start_time": "2023-06-10T16:55:39.146Z"
      },
      {
        "duration": 386,
        "start_time": "2023-06-10T16:55:39.167Z"
      },
      {
        "duration": 12,
        "start_time": "2023-06-10T16:55:39.555Z"
      },
      {
        "duration": 479,
        "start_time": "2023-06-10T16:55:39.569Z"
      },
      {
        "duration": 554,
        "start_time": "2023-06-10T16:55:40.051Z"
      },
      {
        "duration": 399,
        "start_time": "2023-06-10T16:55:40.607Z"
      },
      {
        "duration": 5426,
        "start_time": "2023-06-10T16:55:41.008Z"
      },
      {
        "duration": 219,
        "start_time": "2023-06-10T16:57:27.630Z"
      },
      {
        "duration": 5822,
        "start_time": "2023-06-10T16:59:15.123Z"
      },
      {
        "duration": 7082,
        "start_time": "2023-06-10T16:59:48.751Z"
      },
      {
        "duration": 1587,
        "start_time": "2023-06-11T19:39:43.016Z"
      },
      {
        "duration": 285,
        "start_time": "2023-06-11T19:39:44.605Z"
      },
      {
        "duration": 10,
        "start_time": "2023-06-11T19:39:44.892Z"
      },
      {
        "duration": 5,
        "start_time": "2023-06-11T19:39:44.903Z"
      },
      {
        "duration": 10,
        "start_time": "2023-06-11T19:39:44.910Z"
      },
      {
        "duration": 287,
        "start_time": "2023-06-11T19:39:44.921Z"
      },
      {
        "duration": 7,
        "start_time": "2023-06-11T19:39:45.210Z"
      },
      {
        "duration": 266,
        "start_time": "2023-06-11T19:39:45.219Z"
      },
      {
        "duration": 406,
        "start_time": "2023-06-11T19:39:45.486Z"
      },
      {
        "duration": 332,
        "start_time": "2023-06-11T19:39:45.894Z"
      },
      {
        "duration": 2052,
        "start_time": "2023-06-11T19:39:46.228Z"
      },
      {
        "duration": 96,
        "start_time": "2023-06-11T19:39:48.282Z"
      },
      {
        "duration": 113,
        "start_time": "2023-06-11T19:39:48.381Z"
      },
      {
        "duration": 14,
        "start_time": "2023-06-11T19:39:48.497Z"
      },
      {
        "duration": 167,
        "start_time": "2023-06-11T19:39:48.512Z"
      },
      {
        "duration": 610,
        "start_time": "2023-06-11T19:39:48.681Z"
      },
      {
        "duration": 9,
        "start_time": "2023-06-11T19:39:49.293Z"
      },
      {
        "duration": 170,
        "start_time": "2023-06-11T19:39:49.304Z"
      },
      {
        "duration": 602,
        "start_time": "2023-06-11T19:39:49.476Z"
      },
      {
        "duration": 457,
        "start_time": "2023-06-11T19:39:50.080Z"
      },
      {
        "duration": 747,
        "start_time": "2023-06-11T19:39:50.539Z"
      },
      {
        "duration": 1440,
        "start_time": "2023-06-11T19:44:16.436Z"
      },
      {
        "duration": 56,
        "start_time": "2023-06-11T19:44:17.878Z"
      },
      {
        "duration": 11,
        "start_time": "2023-06-11T19:44:17.936Z"
      },
      {
        "duration": 6,
        "start_time": "2023-06-11T19:44:17.949Z"
      },
      {
        "duration": 9,
        "start_time": "2023-06-11T19:44:17.957Z"
      },
      {
        "duration": 274,
        "start_time": "2023-06-11T19:44:17.976Z"
      },
      {
        "duration": 7,
        "start_time": "2023-06-11T19:44:18.252Z"
      },
      {
        "duration": 293,
        "start_time": "2023-06-11T19:44:18.260Z"
      },
      {
        "duration": 334,
        "start_time": "2023-06-11T19:44:18.555Z"
      },
      {
        "duration": 341,
        "start_time": "2023-06-11T19:44:18.891Z"
      },
      {
        "duration": 2247,
        "start_time": "2023-06-11T19:44:19.233Z"
      },
      {
        "duration": 95,
        "start_time": "2023-06-11T19:44:21.482Z"
      },
      {
        "duration": 23,
        "start_time": "2023-06-11T19:44:21.676Z"
      },
      {
        "duration": 14,
        "start_time": "2023-06-11T19:44:21.700Z"
      },
      {
        "duration": 165,
        "start_time": "2023-06-11T19:44:21.715Z"
      },
      {
        "duration": 697,
        "start_time": "2023-06-11T19:44:21.882Z"
      },
      {
        "duration": 10,
        "start_time": "2023-06-11T19:44:22.581Z"
      },
      {
        "duration": 88,
        "start_time": "2023-06-11T19:44:22.592Z"
      },
      {
        "duration": 692,
        "start_time": "2023-06-11T19:44:22.683Z"
      },
      {
        "duration": 455,
        "start_time": "2023-06-11T19:44:23.377Z"
      },
      {
        "duration": 942,
        "start_time": "2023-06-11T19:44:23.833Z"
      },
      {
        "duration": 278,
        "start_time": "2023-06-11T19:48:31.989Z"
      },
      {
        "duration": 103,
        "start_time": "2023-06-11T19:49:31.310Z"
      },
      {
        "duration": 8,
        "start_time": "2023-06-11T19:49:42.750Z"
      },
      {
        "duration": 104,
        "start_time": "2023-06-11T19:49:46.603Z"
      },
      {
        "duration": 111,
        "start_time": "2023-06-11T19:50:02.091Z"
      },
      {
        "duration": 9,
        "start_time": "2023-06-11T19:50:36.035Z"
      },
      {
        "duration": 102,
        "start_time": "2023-06-11T19:52:39.640Z"
      },
      {
        "duration": 109,
        "start_time": "2023-06-11T19:53:00.417Z"
      },
      {
        "duration": 176,
        "start_time": "2023-06-11T19:53:06.655Z"
      },
      {
        "duration": 100,
        "start_time": "2023-06-11T19:53:49.328Z"
      },
      {
        "duration": 102,
        "start_time": "2023-06-11T19:59:26.910Z"
      },
      {
        "duration": 1404,
        "start_time": "2023-06-11T19:59:38.269Z"
      },
      {
        "duration": 54,
        "start_time": "2023-06-11T19:59:39.674Z"
      },
      {
        "duration": 9,
        "start_time": "2023-06-11T19:59:39.730Z"
      },
      {
        "duration": 6,
        "start_time": "2023-06-11T19:59:39.740Z"
      },
      {
        "duration": 8,
        "start_time": "2023-06-11T19:59:39.748Z"
      },
      {
        "duration": 259,
        "start_time": "2023-06-11T19:59:39.757Z"
      },
      {
        "duration": 8,
        "start_time": "2023-06-11T19:59:40.017Z"
      },
      {
        "duration": 297,
        "start_time": "2023-06-11T19:59:40.026Z"
      },
      {
        "duration": 337,
        "start_time": "2023-06-11T19:59:40.325Z"
      },
      {
        "duration": 319,
        "start_time": "2023-06-11T19:59:40.664Z"
      },
      {
        "duration": 1895,
        "start_time": "2023-06-11T19:59:40.985Z"
      },
      {
        "duration": 458,
        "start_time": "2023-06-11T19:59:42.883Z"
      },
      {
        "duration": 4,
        "start_time": "2023-06-11T19:59:43.343Z"
      },
      {
        "duration": 41,
        "start_time": "2023-06-11T19:59:43.349Z"
      },
      {
        "duration": 14,
        "start_time": "2023-06-11T19:59:43.391Z"
      },
      {
        "duration": 76,
        "start_time": "2023-06-11T19:59:43.407Z"
      },
      {
        "duration": 627,
        "start_time": "2023-06-11T19:59:43.580Z"
      },
      {
        "duration": 12,
        "start_time": "2023-06-11T19:59:44.209Z"
      },
      {
        "duration": 57,
        "start_time": "2023-06-11T19:59:44.223Z"
      },
      {
        "duration": 668,
        "start_time": "2023-06-11T19:59:44.284Z"
      },
      {
        "duration": 448,
        "start_time": "2023-06-11T19:59:44.954Z"
      },
      {
        "duration": 974,
        "start_time": "2023-06-11T19:59:45.404Z"
      },
      {
        "duration": 203,
        "start_time": "2023-06-11T20:03:42.851Z"
      },
      {
        "duration": 1334,
        "start_time": "2023-06-11T20:03:50.319Z"
      },
      {
        "duration": 54,
        "start_time": "2023-06-11T20:03:51.655Z"
      },
      {
        "duration": 12,
        "start_time": "2023-06-11T20:03:51.711Z"
      },
      {
        "duration": 7,
        "start_time": "2023-06-11T20:03:51.726Z"
      },
      {
        "duration": 13,
        "start_time": "2023-06-11T20:03:51.734Z"
      },
      {
        "duration": 272,
        "start_time": "2023-06-11T20:03:51.749Z"
      },
      {
        "duration": 8,
        "start_time": "2023-06-11T20:03:52.022Z"
      },
      {
        "duration": 316,
        "start_time": "2023-06-11T20:03:52.031Z"
      },
      {
        "duration": 337,
        "start_time": "2023-06-11T20:03:52.349Z"
      },
      {
        "duration": 330,
        "start_time": "2023-06-11T20:03:52.689Z"
      },
      {
        "duration": 2156,
        "start_time": "2023-06-11T20:03:53.020Z"
      },
      {
        "duration": 398,
        "start_time": "2023-06-11T20:03:55.178Z"
      },
      {
        "duration": 5,
        "start_time": "2023-06-11T20:03:55.579Z"
      },
      {
        "duration": 31,
        "start_time": "2023-06-11T20:03:55.586Z"
      },
      {
        "duration": 13,
        "start_time": "2023-06-11T20:03:55.618Z"
      },
      {
        "duration": 245,
        "start_time": "2023-06-11T20:03:55.633Z"
      },
      {
        "duration": 543,
        "start_time": "2023-06-11T20:03:55.880Z"
      },
      {
        "duration": 10,
        "start_time": "2023-06-11T20:03:56.424Z"
      },
      {
        "duration": 40,
        "start_time": "2023-06-11T20:03:56.436Z"
      },
      {
        "duration": 570,
        "start_time": "2023-06-11T20:03:56.575Z"
      },
      {
        "duration": 429,
        "start_time": "2023-06-11T20:03:57.146Z"
      },
      {
        "duration": 2909,
        "start_time": "2023-06-11T20:03:57.577Z"
      },
      {
        "duration": 60,
        "start_time": "2023-06-11T20:08:01.704Z"
      },
      {
        "duration": 1415,
        "start_time": "2023-06-11T20:08:08.089Z"
      },
      {
        "duration": 57,
        "start_time": "2023-06-11T20:08:09.506Z"
      },
      {
        "duration": 10,
        "start_time": "2023-06-11T20:08:09.565Z"
      },
      {
        "duration": 6,
        "start_time": "2023-06-11T20:08:09.576Z"
      },
      {
        "duration": 9,
        "start_time": "2023-06-11T20:08:09.585Z"
      },
      {
        "duration": 280,
        "start_time": "2023-06-11T20:08:09.596Z"
      },
      {
        "duration": 7,
        "start_time": "2023-06-11T20:08:09.878Z"
      },
      {
        "duration": 281,
        "start_time": "2023-06-11T20:08:09.886Z"
      },
      {
        "duration": 383,
        "start_time": "2023-06-11T20:08:10.169Z"
      },
      {
        "duration": 355,
        "start_time": "2023-06-11T20:08:10.554Z"
      },
      {
        "duration": 2565,
        "start_time": "2023-06-11T20:08:10.911Z"
      },
      {
        "duration": 118,
        "start_time": "2023-06-11T20:08:13.479Z"
      },
      {
        "duration": 0,
        "start_time": "2023-06-11T20:08:13.599Z"
      },
      {
        "duration": 0,
        "start_time": "2023-06-11T20:08:13.600Z"
      },
      {
        "duration": 0,
        "start_time": "2023-06-11T20:08:13.602Z"
      },
      {
        "duration": 0,
        "start_time": "2023-06-11T20:08:13.603Z"
      },
      {
        "duration": 0,
        "start_time": "2023-06-11T20:08:13.604Z"
      },
      {
        "duration": 0,
        "start_time": "2023-06-11T20:08:13.605Z"
      },
      {
        "duration": 0,
        "start_time": "2023-06-11T20:08:13.606Z"
      },
      {
        "duration": 0,
        "start_time": "2023-06-11T20:08:13.608Z"
      },
      {
        "duration": 0,
        "start_time": "2023-06-11T20:08:13.609Z"
      },
      {
        "duration": 0,
        "start_time": "2023-06-11T20:08:13.609Z"
      },
      {
        "duration": 300,
        "start_time": "2023-06-11T20:17:14.249Z"
      },
      {
        "duration": 266,
        "start_time": "2023-06-11T20:32:39.782Z"
      },
      {
        "duration": 271,
        "start_time": "2023-06-11T20:49:13.161Z"
      },
      {
        "duration": 334,
        "start_time": "2023-06-11T20:56:56.680Z"
      },
      {
        "duration": 234,
        "start_time": "2023-06-11T20:57:42.090Z"
      },
      {
        "duration": 147,
        "start_time": "2023-06-11T21:01:34.968Z"
      },
      {
        "duration": 3,
        "start_time": "2023-06-11T21:12:58.581Z"
      },
      {
        "duration": 6,
        "start_time": "2023-06-11T21:14:01.083Z"
      },
      {
        "duration": 209,
        "start_time": "2023-06-11T21:14:27.939Z"
      },
      {
        "duration": 5,
        "start_time": "2023-06-11T21:23:37.248Z"
      },
      {
        "duration": 2516,
        "start_time": "2023-06-11T21:25:05.319Z"
      },
      {
        "duration": 58,
        "start_time": "2023-06-11T21:25:07.837Z"
      },
      {
        "duration": 12,
        "start_time": "2023-06-11T21:25:07.897Z"
      },
      {
        "duration": 6,
        "start_time": "2023-06-11T21:25:07.911Z"
      },
      {
        "duration": 13,
        "start_time": "2023-06-11T21:25:07.919Z"
      },
      {
        "duration": 294,
        "start_time": "2023-06-11T21:25:07.933Z"
      },
      {
        "duration": 9,
        "start_time": "2023-06-11T21:25:08.229Z"
      },
      {
        "duration": 302,
        "start_time": "2023-06-11T21:25:08.240Z"
      },
      {
        "duration": 347,
        "start_time": "2023-06-11T21:25:08.543Z"
      },
      {
        "duration": 163,
        "start_time": "2023-06-11T21:25:08.891Z"
      },
      {
        "duration": 234,
        "start_time": "2023-06-11T21:25:09.056Z"
      },
      {
        "duration": 335,
        "start_time": "2023-06-11T21:25:09.292Z"
      },
      {
        "duration": 3449,
        "start_time": "2023-06-11T21:25:09.630Z"
      },
      {
        "duration": 371,
        "start_time": "2023-06-11T21:25:13.083Z"
      },
      {
        "duration": 4,
        "start_time": "2023-06-11T21:25:13.455Z"
      },
      {
        "duration": 35,
        "start_time": "2023-06-11T21:25:13.460Z"
      },
      {
        "duration": 15,
        "start_time": "2023-06-11T21:25:13.496Z"
      },
      {
        "duration": 164,
        "start_time": "2023-06-11T21:25:13.512Z"
      },
      {
        "duration": 35000,
        "start_time": "2023-06-11T21:25:13.678Z"
      },
      {
        "duration": 494,
        "start_time": "2023-06-11T21:25:48.680Z"
      },
      {
        "duration": 529724,
        "start_time": "2023-06-11T21:25:49.175Z"
      },
      {
        "duration": 84,
        "start_time": "2023-06-11T21:34:38.901Z"
      },
      {
        "duration": 96,
        "start_time": "2023-06-11T21:34:38.988Z"
      },
      {
        "duration": 729,
        "start_time": "2023-06-11T21:34:39.088Z"
      },
      {
        "duration": 475,
        "start_time": "2023-06-11T21:34:39.819Z"
      },
      {
        "duration": 11285,
        "start_time": "2023-06-11T21:34:40.296Z"
      },
      {
        "duration": 1494,
        "start_time": "2023-06-11T21:39:15.719Z"
      },
      {
        "duration": 55,
        "start_time": "2023-06-11T21:39:17.215Z"
      },
      {
        "duration": 18,
        "start_time": "2023-06-11T21:39:17.272Z"
      },
      {
        "duration": 6,
        "start_time": "2023-06-11T21:39:17.292Z"
      },
      {
        "duration": 10,
        "start_time": "2023-06-11T21:39:17.300Z"
      },
      {
        "duration": 303,
        "start_time": "2023-06-11T21:39:17.311Z"
      },
      {
        "duration": 7,
        "start_time": "2023-06-11T21:39:17.616Z"
      },
      {
        "duration": 306,
        "start_time": "2023-06-11T21:39:17.624Z"
      },
      {
        "duration": 348,
        "start_time": "2023-06-11T21:39:17.932Z"
      },
      {
        "duration": 180,
        "start_time": "2023-06-11T21:39:18.282Z"
      },
      {
        "duration": 246,
        "start_time": "2023-06-11T21:39:18.464Z"
      },
      {
        "duration": 331,
        "start_time": "2023-06-11T21:39:18.711Z"
      },
      {
        "duration": 2031,
        "start_time": "2023-06-11T21:39:19.044Z"
      },
      {
        "duration": 348,
        "start_time": "2023-06-11T21:39:21.083Z"
      },
      {
        "duration": 4,
        "start_time": "2023-06-11T21:39:21.433Z"
      },
      {
        "duration": 36,
        "start_time": "2023-06-11T21:39:21.439Z"
      },
      {
        "duration": 14,
        "start_time": "2023-06-11T21:39:21.476Z"
      },
      {
        "duration": 193,
        "start_time": "2023-06-11T21:39:21.492Z"
      },
      {
        "duration": 36868,
        "start_time": "2023-06-11T21:39:21.688Z"
      },
      {
        "duration": 554,
        "start_time": "2023-06-11T21:39:58.558Z"
      },
      {
        "duration": 91771,
        "start_time": "2023-06-11T21:39:59.113Z"
      },
      {
        "duration": 13,
        "start_time": "2023-06-11T21:41:30.886Z"
      },
      {
        "duration": 89,
        "start_time": "2023-06-11T21:41:30.901Z"
      },
      {
        "duration": 619,
        "start_time": "2023-06-11T21:41:31.074Z"
      },
      {
        "duration": 595,
        "start_time": "2023-06-11T21:41:31.695Z"
      },
      {
        "duration": 12002,
        "start_time": "2023-06-11T21:41:32.292Z"
      },
      {
        "duration": 13,
        "start_time": "2023-06-11T22:07:01.552Z"
      },
      {
        "duration": 840,
        "start_time": "2023-06-11T22:09:23.755Z"
      },
      {
        "duration": 107788,
        "start_time": "2023-06-11T22:11:47.195Z"
      },
      {
        "duration": 1526,
        "start_time": "2023-06-11T22:14:51.841Z"
      },
      {
        "duration": 63,
        "start_time": "2023-06-11T22:14:53.370Z"
      },
      {
        "duration": 10,
        "start_time": "2023-06-11T22:14:53.435Z"
      },
      {
        "duration": 26,
        "start_time": "2023-06-11T22:14:53.446Z"
      },
      {
        "duration": 42,
        "start_time": "2023-06-11T22:14:53.474Z"
      },
      {
        "duration": 270,
        "start_time": "2023-06-11T22:14:53.518Z"
      },
      {
        "duration": 10,
        "start_time": "2023-06-11T22:14:53.790Z"
      },
      {
        "duration": 389,
        "start_time": "2023-06-11T22:14:53.802Z"
      },
      {
        "duration": 398,
        "start_time": "2023-06-11T22:14:54.193Z"
      },
      {
        "duration": 170,
        "start_time": "2023-06-11T22:14:54.592Z"
      },
      {
        "duration": 254,
        "start_time": "2023-06-11T22:14:54.763Z"
      },
      {
        "duration": 332,
        "start_time": "2023-06-11T22:14:55.019Z"
      },
      {
        "duration": 5740,
        "start_time": "2023-06-11T22:14:55.353Z"
      },
      {
        "duration": 454,
        "start_time": "2023-06-11T22:15:01.099Z"
      },
      {
        "duration": 4,
        "start_time": "2023-06-11T22:15:01.554Z"
      },
      {
        "duration": 55,
        "start_time": "2023-06-11T22:15:01.560Z"
      },
      {
        "duration": 64,
        "start_time": "2023-06-11T22:15:01.616Z"
      },
      {
        "duration": 218,
        "start_time": "2023-06-11T22:15:01.684Z"
      },
      {
        "duration": 37363,
        "start_time": "2023-06-11T22:15:01.978Z"
      },
      {
        "duration": 553,
        "start_time": "2023-06-11T22:15:39.343Z"
      },
      {
        "duration": 1497985,
        "start_time": "2023-06-11T22:15:39.898Z"
      },
      {
        "duration": 14,
        "start_time": "2023-06-11T22:40:37.885Z"
      },
      {
        "duration": 176,
        "start_time": "2023-06-11T22:40:37.901Z"
      },
      {
        "duration": 920,
        "start_time": "2023-06-11T22:40:38.082Z"
      },
      {
        "duration": 638,
        "start_time": "2023-06-11T22:40:39.004Z"
      },
      {
        "duration": 86444,
        "start_time": "2023-06-11T22:40:39.644Z"
      },
      {
        "duration": 61,
        "start_time": "2023-06-11T22:45:27.516Z"
      }
    ],
    "kernelspec": {
      "display_name": "Python 3 (ipykernel)",
      "language": "python",
      "name": "python3"
    },
    "language_info": {
      "codemirror_mode": {
        "name": "ipython",
        "version": 3
      },
      "file_extension": ".py",
      "mimetype": "text/x-python",
      "name": "python",
      "nbconvert_exporter": "python",
      "pygments_lexer": "ipython3",
      "version": "3.9.5"
    },
    "toc": {
      "base_numbering": 1,
      "nav_menu": {},
      "number_sections": true,
      "sideBar": true,
      "skip_h1_title": true,
      "title_cell": "Содержание",
      "title_sidebar": "Contents",
      "toc_cell": true,
      "toc_position": {},
      "toc_section_display": true,
      "toc_window_display": true
    },
    "colab": {
      "provenance": []
    }
  },
  "nbformat": 4,
  "nbformat_minor": 0
}