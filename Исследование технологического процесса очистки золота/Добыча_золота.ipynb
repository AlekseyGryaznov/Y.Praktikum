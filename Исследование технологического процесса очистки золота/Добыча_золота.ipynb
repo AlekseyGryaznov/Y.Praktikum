{
  "cells": [
    {
      "cell_type": "markdown",
      "metadata": {
        "toc": true,
        "id": "3-kGWauG0oCB"
      },
      "source": [
        "<h1>Содержание<span class=\"tocSkip\"></span></h1>\n",
        "<div class=\"toc\"><ul class=\"toc-item\"><li><span><a href=\"#Подготовка-данных\" data-toc-modified-id=\"Подготовка-данных-1\"><span class=\"toc-item-num\">1&nbsp;&nbsp;</span>Подготовка данных</a></span></li><li><span><a href=\"#Анализ-данных\" data-toc-modified-id=\"Анализ-данных-2\"><span class=\"toc-item-num\">2&nbsp;&nbsp;</span>Анализ данных</a></span></li><li><span><a href=\"#Модель\" data-toc-modified-id=\"Модель-3\"><span class=\"toc-item-num\">3&nbsp;&nbsp;</span>Модель</a></span></li></ul></div>"
      ]
    },
    {
      "cell_type": "markdown",
      "metadata": {
        "id": "ojtb_z8M0oCC"
      },
      "source": [
        "# Восстановление золота из руды"
      ]
    },
    {
      "cell_type": "markdown",
      "metadata": {
        "id": "izaNWymA0oCC"
      },
      "source": [
        "Подготовьте прототип модели машинного обучения для «Цифры». Компания разрабатывает решения для эффективной работы промышленных предприятий.\n",
        "\n",
        "Модель должна предсказать коэффициент восстановления золота из золотосодержащей руды. Используйте данные с параметрами добычи и очистки.\n",
        "\n",
        "Модель поможет оптимизировать производство, чтобы не запускать предприятие с убыточными характеристиками.\n",
        "\n",
        "Вам нужно:\n",
        "\n",
        "1. Подготовить данные;\n",
        "2. Провести исследовательский анализ данных;\n",
        "3. Построить и обучить модель.\n",
        "\n",
        "Чтобы выполнить проект, обращайтесь к библиотекам *pandas*, *matplotlib* и *sklearn.* Вам поможет их документация."
      ]
    },
    {
      "cell_type": "markdown",
      "metadata": {
        "id": "w5eME1rF0oCC"
      },
      "source": [
        "## Подготовка данных"
      ]
    },
    {
      "cell_type": "code",
      "execution_count": null,
      "metadata": {
        "id": "Md2JS8t40oCD"
      },
      "outputs": [],
      "source": [
        "import pandas as pd\n",
        "import numpy as np\n",
        "import matplotlib.pyplot as plt\n",
        "import seaborn as sns\n",
        "import warnings\n",
        "from sklearn.tree import DecisionTreeRegressor\n",
        "from sklearn.ensemble import RandomForestRegressor\n",
        "from sklearn.linear_model import LinearRegression\n",
        "from sklearn.model_selection import cross_val_score\n",
        "from sklearn.metrics import fbeta_score, make_scorer,mean_absolute_error\n",
        "\n",
        "from tqdm import tqdm"
      ]
    },
    {
      "cell_type": "markdown",
      "metadata": {
        "id": "gfZ-re5O0oCE"
      },
      "source": [
        "*1.1. Откройте файлы и изучите их.*"
      ]
    },
    {
      "cell_type": "code",
      "execution_count": null,
      "metadata": {
        "id": "nL1yrBPy0oCF"
      },
      "outputs": [],
      "source": [
        "df_train = pd.read_csv('/datasets/gold_recovery_train_new.csv')\n",
        "df_test = pd.read_csv('/datasets/gold_recovery_test_new.csv')\n",
        "df_full = pd.read_csv('/datasets/gold_recovery_full_new.csv')"
      ]
    },
    {
      "cell_type": "code",
      "execution_count": null,
      "metadata": {
        "id": "iBfpLwYW0oCF",
        "outputId": "c88fb778-375e-4f2e-e8e2-f1afe4ee5b96"
      },
      "outputs": [
        {
          "name": "stdout",
          "output_type": "stream",
          "text": [
            "<class 'pandas.core.frame.DataFrame'>\n",
            "RangeIndex: 5290 entries, 0 to 5289\n",
            "Data columns (total 53 columns):\n",
            " #   Column                                      Non-Null Count  Dtype  \n",
            "---  ------                                      --------------  -----  \n",
            " 0   date                                        5290 non-null   object \n",
            " 1   primary_cleaner.input.sulfate               5286 non-null   float64\n",
            " 2   primary_cleaner.input.depressant            5285 non-null   float64\n",
            " 3   primary_cleaner.input.feed_size             5290 non-null   float64\n",
            " 4   primary_cleaner.input.xanthate              5286 non-null   float64\n",
            " 5   primary_cleaner.state.floatbank8_a_air      5290 non-null   float64\n",
            " 6   primary_cleaner.state.floatbank8_a_level    5290 non-null   float64\n",
            " 7   primary_cleaner.state.floatbank8_b_air      5290 non-null   float64\n",
            " 8   primary_cleaner.state.floatbank8_b_level    5290 non-null   float64\n",
            " 9   primary_cleaner.state.floatbank8_c_air      5290 non-null   float64\n",
            " 10  primary_cleaner.state.floatbank8_c_level    5290 non-null   float64\n",
            " 11  primary_cleaner.state.floatbank8_d_air      5290 non-null   float64\n",
            " 12  primary_cleaner.state.floatbank8_d_level    5290 non-null   float64\n",
            " 13  rougher.input.feed_ag                       5290 non-null   float64\n",
            " 14  rougher.input.feed_pb                       5290 non-null   float64\n",
            " 15  rougher.input.feed_rate                     5287 non-null   float64\n",
            " 16  rougher.input.feed_size                     5289 non-null   float64\n",
            " 17  rougher.input.feed_sol                      5269 non-null   float64\n",
            " 18  rougher.input.feed_au                       5290 non-null   float64\n",
            " 19  rougher.input.floatbank10_sulfate           5285 non-null   float64\n",
            " 20  rougher.input.floatbank10_xanthate          5290 non-null   float64\n",
            " 21  rougher.input.floatbank11_sulfate           5282 non-null   float64\n",
            " 22  rougher.input.floatbank11_xanthate          5265 non-null   float64\n",
            " 23  rougher.state.floatbank10_a_air             5290 non-null   float64\n",
            " 24  rougher.state.floatbank10_a_level           5290 non-null   float64\n",
            " 25  rougher.state.floatbank10_b_air             5290 non-null   float64\n",
            " 26  rougher.state.floatbank10_b_level           5290 non-null   float64\n",
            " 27  rougher.state.floatbank10_c_air             5290 non-null   float64\n",
            " 28  rougher.state.floatbank10_c_level           5290 non-null   float64\n",
            " 29  rougher.state.floatbank10_d_air             5290 non-null   float64\n",
            " 30  rougher.state.floatbank10_d_level           5290 non-null   float64\n",
            " 31  rougher.state.floatbank10_e_air             5290 non-null   float64\n",
            " 32  rougher.state.floatbank10_e_level           5290 non-null   float64\n",
            " 33  rougher.state.floatbank10_f_air             5290 non-null   float64\n",
            " 34  rougher.state.floatbank10_f_level           5290 non-null   float64\n",
            " 35  secondary_cleaner.state.floatbank2_a_air    5287 non-null   float64\n",
            " 36  secondary_cleaner.state.floatbank2_a_level  5290 non-null   float64\n",
            " 37  secondary_cleaner.state.floatbank2_b_air    5288 non-null   float64\n",
            " 38  secondary_cleaner.state.floatbank2_b_level  5290 non-null   float64\n",
            " 39  secondary_cleaner.state.floatbank3_a_air    5281 non-null   float64\n",
            " 40  secondary_cleaner.state.floatbank3_a_level  5290 non-null   float64\n",
            " 41  secondary_cleaner.state.floatbank3_b_air    5290 non-null   float64\n",
            " 42  secondary_cleaner.state.floatbank3_b_level  5290 non-null   float64\n",
            " 43  secondary_cleaner.state.floatbank4_a_air    5290 non-null   float64\n",
            " 44  secondary_cleaner.state.floatbank4_a_level  5290 non-null   float64\n",
            " 45  secondary_cleaner.state.floatbank4_b_air    5290 non-null   float64\n",
            " 46  secondary_cleaner.state.floatbank4_b_level  5290 non-null   float64\n",
            " 47  secondary_cleaner.state.floatbank5_a_air    5290 non-null   float64\n",
            " 48  secondary_cleaner.state.floatbank5_a_level  5290 non-null   float64\n",
            " 49  secondary_cleaner.state.floatbank5_b_air    5290 non-null   float64\n",
            " 50  secondary_cleaner.state.floatbank5_b_level  5290 non-null   float64\n",
            " 51  secondary_cleaner.state.floatbank6_a_air    5290 non-null   float64\n",
            " 52  secondary_cleaner.state.floatbank6_a_level  5290 non-null   float64\n",
            "dtypes: float64(52), object(1)\n",
            "memory usage: 2.1+ MB\n"
          ]
        }
      ],
      "source": [
        "df_test.info()"
      ]
    },
    {
      "cell_type": "code",
      "execution_count": null,
      "metadata": {
        "id": "FK-yV_SJ0oCF",
        "outputId": "7b7598c4-d66d-4bcd-8224-0eaaea14352b"
      },
      "outputs": [
        {
          "name": "stdout",
          "output_type": "stream",
          "text": [
            "<class 'pandas.core.frame.DataFrame'>\n",
            "RangeIndex: 19439 entries, 0 to 19438\n",
            "Data columns (total 87 columns):\n",
            " #   Column                                              Non-Null Count  Dtype  \n",
            "---  ------                                              --------------  -----  \n",
            " 0   date                                                19439 non-null  object \n",
            " 1   final.output.concentrate_ag                         19438 non-null  float64\n",
            " 2   final.output.concentrate_pb                         19438 non-null  float64\n",
            " 3   final.output.concentrate_sol                        19228 non-null  float64\n",
            " 4   final.output.concentrate_au                         19439 non-null  float64\n",
            " 5   final.output.recovery                               19439 non-null  float64\n",
            " 6   final.output.tail_ag                                19438 non-null  float64\n",
            " 7   final.output.tail_pb                                19338 non-null  float64\n",
            " 8   final.output.tail_sol                               19433 non-null  float64\n",
            " 9   final.output.tail_au                                19439 non-null  float64\n",
            " 10  primary_cleaner.input.sulfate                       19415 non-null  float64\n",
            " 11  primary_cleaner.input.depressant                    19402 non-null  float64\n",
            " 12  primary_cleaner.input.feed_size                     19439 non-null  float64\n",
            " 13  primary_cleaner.input.xanthate                      19335 non-null  float64\n",
            " 14  primary_cleaner.output.concentrate_ag               19439 non-null  float64\n",
            " 15  primary_cleaner.output.concentrate_pb               19323 non-null  float64\n",
            " 16  primary_cleaner.output.concentrate_sol              19069 non-null  float64\n",
            " 17  primary_cleaner.output.concentrate_au               19439 non-null  float64\n",
            " 18  primary_cleaner.output.tail_ag                      19435 non-null  float64\n",
            " 19  primary_cleaner.output.tail_pb                      19418 non-null  float64\n",
            " 20  primary_cleaner.output.tail_sol                     19377 non-null  float64\n",
            " 21  primary_cleaner.output.tail_au                      19439 non-null  float64\n",
            " 22  primary_cleaner.state.floatbank8_a_air              19435 non-null  float64\n",
            " 23  primary_cleaner.state.floatbank8_a_level            19438 non-null  float64\n",
            " 24  primary_cleaner.state.floatbank8_b_air              19435 non-null  float64\n",
            " 25  primary_cleaner.state.floatbank8_b_level            19438 non-null  float64\n",
            " 26  primary_cleaner.state.floatbank8_c_air              19437 non-null  float64\n",
            " 27  primary_cleaner.state.floatbank8_c_level            19438 non-null  float64\n",
            " 28  primary_cleaner.state.floatbank8_d_air              19436 non-null  float64\n",
            " 29  primary_cleaner.state.floatbank8_d_level            19438 non-null  float64\n",
            " 30  rougher.calculation.sulfate_to_au_concentrate       19437 non-null  float64\n",
            " 31  rougher.calculation.floatbank10_sulfate_to_au_feed  19437 non-null  float64\n",
            " 32  rougher.calculation.floatbank11_sulfate_to_au_feed  19437 non-null  float64\n",
            " 33  rougher.calculation.au_pb_ratio                     19439 non-null  float64\n",
            " 34  rougher.input.feed_ag                               19439 non-null  float64\n",
            " 35  rougher.input.feed_pb                               19339 non-null  float64\n",
            " 36  rougher.input.feed_rate                             19428 non-null  float64\n",
            " 37  rougher.input.feed_size                             19294 non-null  float64\n",
            " 38  rougher.input.feed_sol                              19340 non-null  float64\n",
            " 39  rougher.input.feed_au                               19439 non-null  float64\n",
            " 40  rougher.input.floatbank10_sulfate                   19405 non-null  float64\n",
            " 41  rougher.input.floatbank10_xanthate                  19431 non-null  float64\n",
            " 42  rougher.input.floatbank11_sulfate                   19395 non-null  float64\n",
            " 43  rougher.input.floatbank11_xanthate                  18986 non-null  float64\n",
            " 44  rougher.output.concentrate_ag                       19439 non-null  float64\n",
            " 45  rougher.output.concentrate_pb                       19439 non-null  float64\n",
            " 46  rougher.output.concentrate_sol                      19416 non-null  float64\n",
            " 47  rougher.output.concentrate_au                       19439 non-null  float64\n",
            " 48  rougher.output.recovery                             19439 non-null  float64\n",
            " 49  rougher.output.tail_ag                              19438 non-null  float64\n",
            " 50  rougher.output.tail_pb                              19439 non-null  float64\n",
            " 51  rougher.output.tail_sol                             19439 non-null  float64\n",
            " 52  rougher.output.tail_au                              19439 non-null  float64\n",
            " 53  rougher.state.floatbank10_a_air                     19438 non-null  float64\n",
            " 54  rougher.state.floatbank10_a_level                   19438 non-null  float64\n",
            " 55  rougher.state.floatbank10_b_air                     19438 non-null  float64\n",
            " 56  rougher.state.floatbank10_b_level                   19438 non-null  float64\n",
            " 57  rougher.state.floatbank10_c_air                     19438 non-null  float64\n",
            " 58  rougher.state.floatbank10_c_level                   19438 non-null  float64\n",
            " 59  rougher.state.floatbank10_d_air                     19439 non-null  float64\n",
            " 60  rougher.state.floatbank10_d_level                   19439 non-null  float64\n",
            " 61  rougher.state.floatbank10_e_air                     19003 non-null  float64\n",
            " 62  rougher.state.floatbank10_e_level                   19439 non-null  float64\n",
            " 63  rougher.state.floatbank10_f_air                     19439 non-null  float64\n",
            " 64  rougher.state.floatbank10_f_level                   19439 non-null  float64\n",
            " 65  secondary_cleaner.output.tail_ag                    19437 non-null  float64\n",
            " 66  secondary_cleaner.output.tail_pb                    19427 non-null  float64\n",
            " 67  secondary_cleaner.output.tail_sol                   17691 non-null  float64\n",
            " 68  secondary_cleaner.output.tail_au                    19439 non-null  float64\n",
            " 69  secondary_cleaner.state.floatbank2_a_air            19219 non-null  float64\n",
            " 70  secondary_cleaner.state.floatbank2_a_level          19438 non-null  float64\n",
            " 71  secondary_cleaner.state.floatbank2_b_air            19416 non-null  float64\n",
            " 72  secondary_cleaner.state.floatbank2_b_level          19438 non-null  float64\n",
            " 73  secondary_cleaner.state.floatbank3_a_air            19426 non-null  float64\n",
            " 74  secondary_cleaner.state.floatbank3_a_level          19438 non-null  float64\n",
            " 75  secondary_cleaner.state.floatbank3_b_air            19438 non-null  float64\n",
            " 76  secondary_cleaner.state.floatbank3_b_level          19438 non-null  float64\n",
            " 77  secondary_cleaner.state.floatbank4_a_air            19433 non-null  float64\n",
            " 78  secondary_cleaner.state.floatbank4_a_level          19438 non-null  float64\n",
            " 79  secondary_cleaner.state.floatbank4_b_air            19438 non-null  float64\n",
            " 80  secondary_cleaner.state.floatbank4_b_level          19438 non-null  float64\n",
            " 81  secondary_cleaner.state.floatbank5_a_air            19438 non-null  float64\n",
            " 82  secondary_cleaner.state.floatbank5_a_level          19438 non-null  float64\n",
            " 83  secondary_cleaner.state.floatbank5_b_air            19438 non-null  float64\n",
            " 84  secondary_cleaner.state.floatbank5_b_level          19438 non-null  float64\n",
            " 85  secondary_cleaner.state.floatbank6_a_air            19437 non-null  float64\n",
            " 86  secondary_cleaner.state.floatbank6_a_level          19438 non-null  float64\n",
            "dtypes: float64(86), object(1)\n",
            "memory usage: 12.9+ MB\n"
          ]
        }
      ],
      "source": [
        "df_full.info()"
      ]
    },
    {
      "cell_type": "code",
      "execution_count": null,
      "metadata": {
        "id": "L34XPaeO0oCG",
        "outputId": "39eafadc-8922-4bca-8fe8-8c1d076d005c"
      },
      "outputs": [
        {
          "name": "stdout",
          "output_type": "stream",
          "text": [
            "<class 'pandas.core.frame.DataFrame'>\n",
            "RangeIndex: 14149 entries, 0 to 14148\n",
            "Data columns (total 87 columns):\n",
            " #   Column                                              Non-Null Count  Dtype  \n",
            "---  ------                                              --------------  -----  \n",
            " 0   date                                                14149 non-null  object \n",
            " 1   final.output.concentrate_ag                         14148 non-null  float64\n",
            " 2   final.output.concentrate_pb                         14148 non-null  float64\n",
            " 3   final.output.concentrate_sol                        13938 non-null  float64\n",
            " 4   final.output.concentrate_au                         14149 non-null  float64\n",
            " 5   final.output.recovery                               14149 non-null  float64\n",
            " 6   final.output.tail_ag                                14149 non-null  float64\n",
            " 7   final.output.tail_pb                                14049 non-null  float64\n",
            " 8   final.output.tail_sol                               14144 non-null  float64\n",
            " 9   final.output.tail_au                                14149 non-null  float64\n",
            " 10  primary_cleaner.input.sulfate                       14129 non-null  float64\n",
            " 11  primary_cleaner.input.depressant                    14117 non-null  float64\n",
            " 12  primary_cleaner.input.feed_size                     14149 non-null  float64\n",
            " 13  primary_cleaner.input.xanthate                      14049 non-null  float64\n",
            " 14  primary_cleaner.output.concentrate_ag               14149 non-null  float64\n",
            " 15  primary_cleaner.output.concentrate_pb               14063 non-null  float64\n",
            " 16  primary_cleaner.output.concentrate_sol              13863 non-null  float64\n",
            " 17  primary_cleaner.output.concentrate_au               14149 non-null  float64\n",
            " 18  primary_cleaner.output.tail_ag                      14148 non-null  float64\n",
            " 19  primary_cleaner.output.tail_pb                      14134 non-null  float64\n",
            " 20  primary_cleaner.output.tail_sol                     14103 non-null  float64\n",
            " 21  primary_cleaner.output.tail_au                      14149 non-null  float64\n",
            " 22  primary_cleaner.state.floatbank8_a_air              14145 non-null  float64\n",
            " 23  primary_cleaner.state.floatbank8_a_level            14148 non-null  float64\n",
            " 24  primary_cleaner.state.floatbank8_b_air              14145 non-null  float64\n",
            " 25  primary_cleaner.state.floatbank8_b_level            14148 non-null  float64\n",
            " 26  primary_cleaner.state.floatbank8_c_air              14147 non-null  float64\n",
            " 27  primary_cleaner.state.floatbank8_c_level            14148 non-null  float64\n",
            " 28  primary_cleaner.state.floatbank8_d_air              14146 non-null  float64\n",
            " 29  primary_cleaner.state.floatbank8_d_level            14148 non-null  float64\n",
            " 30  rougher.calculation.sulfate_to_au_concentrate       14148 non-null  float64\n",
            " 31  rougher.calculation.floatbank10_sulfate_to_au_feed  14148 non-null  float64\n",
            " 32  rougher.calculation.floatbank11_sulfate_to_au_feed  14148 non-null  float64\n",
            " 33  rougher.calculation.au_pb_ratio                     14149 non-null  float64\n",
            " 34  rougher.input.feed_ag                               14149 non-null  float64\n",
            " 35  rougher.input.feed_pb                               14049 non-null  float64\n",
            " 36  rougher.input.feed_rate                             14141 non-null  float64\n",
            " 37  rougher.input.feed_size                             14005 non-null  float64\n",
            " 38  rougher.input.feed_sol                              14071 non-null  float64\n",
            " 39  rougher.input.feed_au                               14149 non-null  float64\n",
            " 40  rougher.input.floatbank10_sulfate                   14120 non-null  float64\n",
            " 41  rougher.input.floatbank10_xanthate                  14141 non-null  float64\n",
            " 42  rougher.input.floatbank11_sulfate                   14113 non-null  float64\n",
            " 43  rougher.input.floatbank11_xanthate                  13721 non-null  float64\n",
            " 44  rougher.output.concentrate_ag                       14149 non-null  float64\n",
            " 45  rougher.output.concentrate_pb                       14149 non-null  float64\n",
            " 46  rougher.output.concentrate_sol                      14127 non-null  float64\n",
            " 47  rougher.output.concentrate_au                       14149 non-null  float64\n",
            " 48  rougher.output.recovery                             14149 non-null  float64\n",
            " 49  rougher.output.tail_ag                              14148 non-null  float64\n",
            " 50  rougher.output.tail_pb                              14149 non-null  float64\n",
            " 51  rougher.output.tail_sol                             14149 non-null  float64\n",
            " 52  rougher.output.tail_au                              14149 non-null  float64\n",
            " 53  rougher.state.floatbank10_a_air                     14148 non-null  float64\n",
            " 54  rougher.state.floatbank10_a_level                   14148 non-null  float64\n",
            " 55  rougher.state.floatbank10_b_air                     14148 non-null  float64\n",
            " 56  rougher.state.floatbank10_b_level                   14148 non-null  float64\n",
            " 57  rougher.state.floatbank10_c_air                     14148 non-null  float64\n",
            " 58  rougher.state.floatbank10_c_level                   14148 non-null  float64\n",
            " 59  rougher.state.floatbank10_d_air                     14149 non-null  float64\n",
            " 60  rougher.state.floatbank10_d_level                   14149 non-null  float64\n",
            " 61  rougher.state.floatbank10_e_air                     13713 non-null  float64\n",
            " 62  rougher.state.floatbank10_e_level                   14149 non-null  float64\n",
            " 63  rougher.state.floatbank10_f_air                     14149 non-null  float64\n",
            " 64  rougher.state.floatbank10_f_level                   14149 non-null  float64\n",
            " 65  secondary_cleaner.output.tail_ag                    14147 non-null  float64\n",
            " 66  secondary_cleaner.output.tail_pb                    14139 non-null  float64\n",
            " 67  secondary_cleaner.output.tail_sol                   12544 non-null  float64\n",
            " 68  secondary_cleaner.output.tail_au                    14149 non-null  float64\n",
            " 69  secondary_cleaner.state.floatbank2_a_air            13932 non-null  float64\n",
            " 70  secondary_cleaner.state.floatbank2_a_level          14148 non-null  float64\n",
            " 71  secondary_cleaner.state.floatbank2_b_air            14128 non-null  float64\n",
            " 72  secondary_cleaner.state.floatbank2_b_level          14148 non-null  float64\n",
            " 73  secondary_cleaner.state.floatbank3_a_air            14145 non-null  float64\n",
            " 74  secondary_cleaner.state.floatbank3_a_level          14148 non-null  float64\n",
            " 75  secondary_cleaner.state.floatbank3_b_air            14148 non-null  float64\n",
            " 76  secondary_cleaner.state.floatbank3_b_level          14148 non-null  float64\n",
            " 77  secondary_cleaner.state.floatbank4_a_air            14143 non-null  float64\n",
            " 78  secondary_cleaner.state.floatbank4_a_level          14148 non-null  float64\n",
            " 79  secondary_cleaner.state.floatbank4_b_air            14148 non-null  float64\n",
            " 80  secondary_cleaner.state.floatbank4_b_level          14148 non-null  float64\n",
            " 81  secondary_cleaner.state.floatbank5_a_air            14148 non-null  float64\n",
            " 82  secondary_cleaner.state.floatbank5_a_level          14148 non-null  float64\n",
            " 83  secondary_cleaner.state.floatbank5_b_air            14148 non-null  float64\n",
            " 84  secondary_cleaner.state.floatbank5_b_level          14148 non-null  float64\n",
            " 85  secondary_cleaner.state.floatbank6_a_air            14147 non-null  float64\n",
            " 86  secondary_cleaner.state.floatbank6_a_level          14148 non-null  float64\n",
            "dtypes: float64(86), object(1)\n",
            "memory usage: 9.4+ MB\n"
          ]
        }
      ],
      "source": [
        "df_train.info()"
      ]
    },
    {
      "cell_type": "markdown",
      "metadata": {
        "id": "syf3c_x40oCG"
      },
      "source": [
        "***1.2. Проверим, что эффективность обогащения рассчитана правильно. Вычислим её на обучающей выборке для признака rougher.output.recovery. Найдите MAE между вашими расчётами и значением признака.***"
      ]
    },
    {
      "cell_type": "markdown",
      "metadata": {
        "id": "LnLN_5Lz0oCG"
      },
      "source": [
        "*Для расчета будем использовать формулу приведенную ниже.*"
      ]
    },
    {
      "cell_type": "markdown",
      "metadata": {
        "id": "_cQa7x870oCG"
      },
      "source": [
        "![image.png](attachment:image.png)"
      ]
    },
    {
      "cell_type": "markdown",
      "metadata": {
        "id": "kRhL9NVd0oCG"
      },
      "source": [
        "где:\n",
        "C — доля золота в концентрате после флотации/очистки;\n",
        "F — доля золота в сырье/концентрате до флотации/очистки;\n",
        "T — доля золота в отвальных хвостах после флотации/очистки."
      ]
    },
    {
      "cell_type": "code",
      "execution_count": null,
      "metadata": {
        "id": "N5sGpE7K0oCG"
      },
      "outputs": [],
      "source": [
        "c = df_train['rougher.output.concentrate_au']\n",
        "f = df_train['rougher.input.feed_au']\n",
        "t = df_train['rougher.output.tail_au']"
      ]
    },
    {
      "cell_type": "code",
      "execution_count": null,
      "metadata": {
        "id": "6RckAhyc0oCH"
      },
      "outputs": [],
      "source": [
        "recovery = (c*(f-t))/(f*(c-t))*100"
      ]
    },
    {
      "cell_type": "code",
      "execution_count": null,
      "metadata": {
        "id": "xGZqWnyH0oCH",
        "outputId": "11ae250c-45fc-4021-a7fe-dc8825b943f7"
      },
      "outputs": [
        {
          "data": {
            "text/plain": [
              "0        87.107763\n",
              "1        86.843261\n",
              "2        86.842308\n",
              "3        87.226430\n",
              "4        86.688794\n",
              "           ...    \n",
              "14144    89.574376\n",
              "14145    87.724007\n",
              "14146    88.890579\n",
              "14147    89.858126\n",
              "14148    89.514960\n",
              "Length: 14149, dtype: float64"
            ]
          },
          "execution_count": 8,
          "metadata": {},
          "output_type": "execute_result"
        }
      ],
      "source": [
        "recovery"
      ]
    },
    {
      "cell_type": "code",
      "execution_count": null,
      "metadata": {
        "id": "qsjbRshq0oCH",
        "outputId": "bc89de32-fd4c-45bd-bf84-e5b1e6ebe296"
      },
      "outputs": [
        {
          "data": {
            "text/plain": [
              "0        87.107763\n",
              "1        86.843261\n",
              "2        86.842308\n",
              "3        87.226430\n",
              "4        86.688794\n",
              "           ...    \n",
              "14144    89.574376\n",
              "14145    87.724007\n",
              "14146    88.890579\n",
              "14147    89.858126\n",
              "14148    89.514960\n",
              "Name: rougher.output.recovery, Length: 14149, dtype: float64"
            ]
          },
          "execution_count": 9,
          "metadata": {},
          "output_type": "execute_result"
        }
      ],
      "source": [
        "df_train['rougher.output.recovery']"
      ]
    },
    {
      "cell_type": "code",
      "execution_count": null,
      "metadata": {
        "id": "TRhGxURK0oCH",
        "outputId": "40c5e406-0b76-4b7e-812f-0ff0c8d32f87"
      },
      "outputs": [
        {
          "data": {
            "text/plain": [
              "9.73512347450521e-15"
            ]
          },
          "execution_count": 10,
          "metadata": {},
          "output_type": "execute_result"
        }
      ],
      "source": [
        "target = df_train['rougher.output.recovery']\n",
        "\n",
        "\n",
        "mean_absolute_error(df_train['rougher.output.recovery'], recovery)"
      ]
    },
    {
      "cell_type": "markdown",
      "metadata": {
        "id": "Mp238pek0oCH"
      },
      "source": [
        "*При визуальном сравнение, а так же отталкиваясь от значения МАЕ, можно сделать вывод, что значение эффективность обогащения рассчитана правильно*"
      ]
    },
    {
      "cell_type": "markdown",
      "metadata": {
        "id": "hzhS2e1X0oCI"
      },
      "source": [
        "***1.3. Проанализируйте признаки, недоступные в тестовой выборке. Что это за параметры? К какому типу относятся?***"
      ]
    },
    {
      "cell_type": "code",
      "execution_count": null,
      "metadata": {
        "id": "HHhBe3BV0oCI",
        "outputId": "c255e1e6-a7ec-4323-a129-897b8f6753b1"
      },
      "outputs": [
        {
          "data": {
            "text/plain": [
              "['final.output.concentrate_ag',\n",
              " 'final.output.concentrate_au',\n",
              " 'final.output.concentrate_pb',\n",
              " 'final.output.concentrate_sol',\n",
              " 'final.output.recovery',\n",
              " 'final.output.tail_ag',\n",
              " 'final.output.tail_au',\n",
              " 'final.output.tail_pb',\n",
              " 'final.output.tail_sol',\n",
              " 'primary_cleaner.output.concentrate_ag',\n",
              " 'primary_cleaner.output.concentrate_au',\n",
              " 'primary_cleaner.output.concentrate_pb',\n",
              " 'primary_cleaner.output.concentrate_sol',\n",
              " 'primary_cleaner.output.tail_ag',\n",
              " 'primary_cleaner.output.tail_au',\n",
              " 'primary_cleaner.output.tail_pb',\n",
              " 'primary_cleaner.output.tail_sol',\n",
              " 'rougher.calculation.au_pb_ratio',\n",
              " 'rougher.calculation.floatbank10_sulfate_to_au_feed',\n",
              " 'rougher.calculation.floatbank11_sulfate_to_au_feed',\n",
              " 'rougher.calculation.sulfate_to_au_concentrate',\n",
              " 'rougher.output.concentrate_ag',\n",
              " 'rougher.output.concentrate_au',\n",
              " 'rougher.output.concentrate_pb',\n",
              " 'rougher.output.concentrate_sol',\n",
              " 'rougher.output.recovery',\n",
              " 'rougher.output.tail_ag',\n",
              " 'rougher.output.tail_au',\n",
              " 'rougher.output.tail_pb',\n",
              " 'rougher.output.tail_sol',\n",
              " 'secondary_cleaner.output.tail_ag',\n",
              " 'secondary_cleaner.output.tail_au',\n",
              " 'secondary_cleaner.output.tail_pb',\n",
              " 'secondary_cleaner.output.tail_sol']"
            ]
          },
          "execution_count": 11,
          "metadata": {},
          "output_type": "execute_result"
        }
      ],
      "source": [
        "df_test_cols = list(df_train.columns.difference(df_test.columns))\n",
        "df_test_cols"
      ]
    },
    {
      "cell_type": "markdown",
      "metadata": {
        "id": "EZ5zsugr0oCI"
      },
      "source": [
        "*В тестовой выборке недоступны признаки, которые получаются после флотации. Иными словами доступны только данные получаемые на входе до очистки сырья. Так же не доступны целевые признаки ['rougher.output.recovery','final.output.recovery']*"
      ]
    },
    {
      "cell_type": "markdown",
      "metadata": {
        "id": "hKqIbt8z0oCI"
      },
      "source": [
        "***1.4. Проведите предобработку данных.***"
      ]
    },
    {
      "cell_type": "markdown",
      "metadata": {
        "id": "gK90sGyC0oCI"
      },
      "source": [
        "Проверим пропуски в данных"
      ]
    },
    {
      "cell_type": "code",
      "execution_count": null,
      "metadata": {
        "id": "5FDKk3kF0oCI",
        "outputId": "f604384d-e173-4c4f-d64e-02c6624c25fb"
      },
      "outputs": [
        {
          "data": {
            "text/plain": [
              "date                                            0\n",
              "final.output.concentrate_ag                     1\n",
              "final.output.concentrate_pb                     1\n",
              "final.output.concentrate_sol                  211\n",
              "final.output.concentrate_au                     0\n",
              "                                             ... \n",
              "secondary_cleaner.state.floatbank5_a_level      1\n",
              "secondary_cleaner.state.floatbank5_b_air        1\n",
              "secondary_cleaner.state.floatbank5_b_level      1\n",
              "secondary_cleaner.state.floatbank6_a_air        2\n",
              "secondary_cleaner.state.floatbank6_a_level      1\n",
              "Length: 87, dtype: int64"
            ]
          },
          "execution_count": 12,
          "metadata": {},
          "output_type": "execute_result"
        }
      ],
      "source": [
        "df_train.isna().sum()"
      ]
    },
    {
      "cell_type": "code",
      "execution_count": null,
      "metadata": {
        "id": "e5yWnGCl0oCI",
        "outputId": "1f54192d-4feb-474b-f481-32ad29d7bc04"
      },
      "outputs": [
        {
          "data": {
            "text/plain": [
              "date                                           0\n",
              "primary_cleaner.input.sulfate                  4\n",
              "primary_cleaner.input.depressant               5\n",
              "primary_cleaner.input.feed_size                0\n",
              "primary_cleaner.input.xanthate                 4\n",
              "primary_cleaner.state.floatbank8_a_air         0\n",
              "primary_cleaner.state.floatbank8_a_level       0\n",
              "primary_cleaner.state.floatbank8_b_air         0\n",
              "primary_cleaner.state.floatbank8_b_level       0\n",
              "primary_cleaner.state.floatbank8_c_air         0\n",
              "primary_cleaner.state.floatbank8_c_level       0\n",
              "primary_cleaner.state.floatbank8_d_air         0\n",
              "primary_cleaner.state.floatbank8_d_level       0\n",
              "rougher.input.feed_ag                          0\n",
              "rougher.input.feed_pb                          0\n",
              "rougher.input.feed_rate                        3\n",
              "rougher.input.feed_size                        1\n",
              "rougher.input.feed_sol                        21\n",
              "rougher.input.feed_au                          0\n",
              "rougher.input.floatbank10_sulfate              5\n",
              "rougher.input.floatbank10_xanthate             0\n",
              "rougher.input.floatbank11_sulfate              8\n",
              "rougher.input.floatbank11_xanthate            25\n",
              "rougher.state.floatbank10_a_air                0\n",
              "rougher.state.floatbank10_a_level              0\n",
              "rougher.state.floatbank10_b_air                0\n",
              "rougher.state.floatbank10_b_level              0\n",
              "rougher.state.floatbank10_c_air                0\n",
              "rougher.state.floatbank10_c_level              0\n",
              "rougher.state.floatbank10_d_air                0\n",
              "rougher.state.floatbank10_d_level              0\n",
              "rougher.state.floatbank10_e_air                0\n",
              "rougher.state.floatbank10_e_level              0\n",
              "rougher.state.floatbank10_f_air                0\n",
              "rougher.state.floatbank10_f_level              0\n",
              "secondary_cleaner.state.floatbank2_a_air       3\n",
              "secondary_cleaner.state.floatbank2_a_level     0\n",
              "secondary_cleaner.state.floatbank2_b_air       2\n",
              "secondary_cleaner.state.floatbank2_b_level     0\n",
              "secondary_cleaner.state.floatbank3_a_air       9\n",
              "secondary_cleaner.state.floatbank3_a_level     0\n",
              "secondary_cleaner.state.floatbank3_b_air       0\n",
              "secondary_cleaner.state.floatbank3_b_level     0\n",
              "secondary_cleaner.state.floatbank4_a_air       0\n",
              "secondary_cleaner.state.floatbank4_a_level     0\n",
              "secondary_cleaner.state.floatbank4_b_air       0\n",
              "secondary_cleaner.state.floatbank4_b_level     0\n",
              "secondary_cleaner.state.floatbank5_a_air       0\n",
              "secondary_cleaner.state.floatbank5_a_level     0\n",
              "secondary_cleaner.state.floatbank5_b_air       0\n",
              "secondary_cleaner.state.floatbank5_b_level     0\n",
              "secondary_cleaner.state.floatbank6_a_air       0\n",
              "secondary_cleaner.state.floatbank6_a_level     0\n",
              "dtype: int64"
            ]
          },
          "execution_count": 13,
          "metadata": {},
          "output_type": "execute_result"
        }
      ],
      "source": [
        "df_test.isna().sum()"
      ]
    },
    {
      "cell_type": "code",
      "execution_count": null,
      "metadata": {
        "id": "2u6FitAb0oCJ",
        "outputId": "bcd14032-958c-41cb-ab54-80578b28f90b"
      },
      "outputs": [
        {
          "data": {
            "text/plain": [
              "date                                            0\n",
              "final.output.concentrate_ag                     1\n",
              "final.output.concentrate_pb                     1\n",
              "final.output.concentrate_sol                  211\n",
              "final.output.concentrate_au                     0\n",
              "                                             ... \n",
              "secondary_cleaner.state.floatbank5_a_level      1\n",
              "secondary_cleaner.state.floatbank5_b_air        1\n",
              "secondary_cleaner.state.floatbank5_b_level      1\n",
              "secondary_cleaner.state.floatbank6_a_air        2\n",
              "secondary_cleaner.state.floatbank6_a_level      1\n",
              "Length: 87, dtype: int64"
            ]
          },
          "execution_count": 14,
          "metadata": {},
          "output_type": "execute_result"
        }
      ],
      "source": [
        "df_full.isna().sum()"
      ]
    },
    {
      "cell_type": "markdown",
      "metadata": {
        "id": "ML3ENVq00oCJ"
      },
      "source": [
        "Так как данные индексируются датой, заполнинить пропуски можно методами pandas: ffill / bfill / интерполяция, - это вполне уместно."
      ]
    },
    {
      "cell_type": "code",
      "execution_count": null,
      "metadata": {
        "id": "JoMz8lTy0oCJ"
      },
      "outputs": [],
      "source": [
        "df_train = df_train.fillna(method ='ffill')\n",
        "df_full = df_full.ffill(axis = 0)\n",
        "df_test = df_test.ffill(axis = 0)"
      ]
    },
    {
      "cell_type": "markdown",
      "metadata": {
        "id": "EoA4EHyn0oCL"
      },
      "source": [
        "***По итогу первой части была проведена предобработка данных(были очищены пропуски).\n",
        "Проверил правильность подсчета целевого признака rougher.output.recovery.Проверил какие столбцы недоступны для тестовой выборки.Заполнены пропуски***"
      ]
    },
    {
      "cell_type": "markdown",
      "metadata": {
        "id": "gFGouNgp0oCM"
      },
      "source": [
        "## Анализ данных"
      ]
    },
    {
      "cell_type": "markdown",
      "metadata": {
        "id": "S3lPjUzC0oCM"
      },
      "source": [
        "*2.1. Посмотрите, как меняется концентрация металлов (Au, Ag, Pb) на различных этапах очистки. Опишите выводы.*"
      ]
    },
    {
      "cell_type": "code",
      "execution_count": null,
      "metadata": {
        "id": "5QLqLorP0oCM",
        "outputId": "c31c6226-c248-46d6-d269-5773b7399d7f"
      },
      "outputs": [
        {
          "data": {
            "image/png": "[encoded data removed]",
            "text/plain": [
              "<Figure size 864x648 with 1 Axes>"
            ]
          },
          "metadata": {
            "needs_background": "light"
          },
          "output_type": "display_data"
        }
      ],
      "source": [
        "plt.figure(figsize=[12,9])\n",
        "plt.hist(df_train['rougher.input.feed_au'], bins=100, label = 'Начальная концентрация', alpha= 0.5)\n",
        "plt.hist(df_train['final.output.concentrate_au'], bins=100, label = 'Финальная концентрация золота', alpha= 0.5)\n",
        "plt.hist(df_train['primary_cleaner.output.concentrate_au'], bins=100, label = 'Концентрация золота после первичной очистки ', alpha= 0.5)\n",
        "plt.hist(df_train['rougher.output.concentrate_au'], bins=100, label = 'Флотация', alpha= 0.5)\n",
        "\n",
        "plt.xlim([0, 55])\n",
        "plt.ylim([0, 1000])\n",
        "\n",
        "plt.xlabel(\"Концентрация золота на выходе этапов\")\n",
        "plt.ylabel(\"Количество результатов\")\n",
        "\n",
        "plt.legend(loc='upper left', fontsize='x-large')\n",
        "\n",
        "plt.title(\"Гистограмма распределения концентрации золота\")\n",
        "plt.show()"
      ]
    },
    {
      "cell_type": "markdown",
      "metadata": {
        "id": "oXATbJU50oCM"
      },
      "source": [
        "*Как видно из графика, концентрация золота растет с каждой стадией. Цель тех процесса увеличение концентрации золота*"
      ]
    },
    {
      "cell_type": "code",
      "execution_count": null,
      "metadata": {
        "scrolled": false,
        "id": "XNI5ow5W0oCM",
        "outputId": "368522ff-931d-4765-a731-046a547cf3e4"
      },
      "outputs": [
        {
          "data": {
            "image/png": "[encoded data removed]",
            "text/plain": [
              "<Figure size 864x648 with 1 Axes>"
            ]
          },
          "metadata": {
            "needs_background": "light"
          },
          "output_type": "display_data"
        }
      ],
      "source": [
        "plt.figure(figsize=[12,9])\n",
        "plt.hist(df_train['rougher.input.feed_ag'], bins=100, label = 'Начальная концентрация', alpha= 0.5)\n",
        "plt.hist(df_train['final.output.concentrate_ag'], bins=100, label = 'Финальная концентрация серебра', alpha= 0.5)\n",
        "plt.hist(df_train['primary_cleaner.output.concentrate_ag'], bins=100, label = 'Концентрация серебра после первичной очистки', alpha= 0.5)\n",
        "plt.hist(df_train['rougher.output.concentrate_ag'], bins=100, label = 'Флотация', alpha= 0.5)\n",
        "\n",
        "plt.xlim([0, 30])\n",
        "plt.ylim([0, 900])\n",
        "\n",
        "plt.xlabel(\"Концентрация серебра на выходе этапов\")\n",
        "plt.ylabel(\"Количество результатов\")\n",
        "\n",
        "plt.legend(loc='upper left', fontsize='x-large')\n",
        "\n",
        "plt.title(\"Гистограмма распределения концентрации серебра\")\n",
        "plt.show()"
      ]
    },
    {
      "cell_type": "markdown",
      "metadata": {
        "id": "Wnhl9VO50oCN"
      },
      "source": [
        "*Концентрация серебра падает с каждым этапом очистки. Самая большая концентрация на этапе флотации*"
      ]
    },
    {
      "cell_type": "code",
      "execution_count": null,
      "metadata": {
        "id": "3BVHbfFG0oCN",
        "outputId": "4733ccff-0cec-4a6b-81f9-0bf2f77a3666"
      },
      "outputs": [
        {
          "data": {
            "image/png": "[encoded data removed]",
            "text/plain": [
              "<Figure size 864x648 with 1 Axes>"
            ]
          },
          "metadata": {
            "needs_background": "light"
          },
          "output_type": "display_data"
        }
      ],
      "source": [
        "plt.figure(figsize=[12,9])\n",
        "plt.hist(df_train['rougher.input.feed_pb'], bins=100, label = 'Начальная концентрация', alpha= 0.5)\n",
        "plt.hist(df_train['final.output.concentrate_pb'], bins=100, label = 'Финальная концентрация свинца', alpha= 0.5)\n",
        "plt.hist(df_train['primary_cleaner.output.concentrate_pb'], bins=100, label = 'Концентрация свинца после первичной очистки', alpha= 0.5)\n",
        "plt.hist(df_train['rougher.output.concentrate_pb'], bins=100, label = 'Флотация', alpha= 0.5)\n",
        "plt.xlim([0, 20])\n",
        "plt.ylim([0, 900])\n",
        "\n",
        "plt.xlabel(\"Концентрация свинца на выходе этапов\")\n",
        "plt.ylabel(\"Количество результатов\")\n",
        "\n",
        "plt.legend(loc='upper left', fontsize='x-large')\n",
        "\n",
        "plt.title(\"Гистограмма распределения концентрации свинца\")\n",
        "plt.show()"
      ]
    },
    {
      "cell_type": "markdown",
      "metadata": {
        "id": "Yyt4BPUK0oCN"
      },
      "source": [
        "*Концентрация свинца вырастает после первичной очистки и падает на финальной стадии.*\n"
      ]
    },
    {
      "cell_type": "markdown",
      "metadata": {
        "id": "-FZaYVzX0oCO"
      },
      "source": [
        "*2.2.  Сравните распределения размеров гранул сырья на обучающей и тестовой выборках. Если распределения сильно отличаются друг от друга, оценка модели будет неправильной.*"
      ]
    },
    {
      "cell_type": "code",
      "execution_count": null,
      "metadata": {
        "id": "bAi37hD30oCO",
        "outputId": "10a16dcf-2768-4d8e-a460-27b48bd5d5e3"
      },
      "outputs": [
        {
          "data": {
            "image/png": "[encoded data removed]",
            "text/plain": [
              "<Figure size 864x648 with 1 Axes>"
            ]
          },
          "metadata": {
            "needs_background": "light"
          },
          "output_type": "display_data"
        }
      ],
      "source": [
        "plt.figure(figsize=[12,9])\n",
        "\n",
        "plt.hist(df_train['rougher.input.feed_size'], bins=100, label = 'Размер сырья на обучающей выборке', alpha= 0.5)\n",
        "plt.hist(df_test['rougher.input.feed_size'], bins=100, label = 'Размер сырья на тестовой выборке', alpha= 0.5)\n",
        "plt.xlim([0,500 ])\n",
        "plt.ylim([0, 900])\n",
        "\n",
        "plt.xlabel(\"Размер сырья на тестовой и обучающей выборках\")\n",
        "plt.ylabel(\"Количество результатов\")\n",
        "\n",
        "plt.legend(loc='upper left', fontsize='x-large')\n",
        "\n",
        "plt.title(\"Гистограмма размера сырья при флотации\")\n",
        "plt.show()"
      ]
    },
    {
      "cell_type": "code",
      "execution_count": null,
      "metadata": {
        "id": "Prsc6oKs0oCO",
        "outputId": "e24b5888-e512-4a12-b9b5-d0193e409716"
      },
      "outputs": [
        {
          "data": {
            "image/png": "[encoded data removed]",
            "text/plain": [
              "<Figure size 864x504 with 1 Axes>"
            ]
          },
          "metadata": {
            "needs_background": "light"
          },
          "output_type": "display_data"
        }
      ],
      "source": [
        "plt.figure(figsize=[12,7])\n",
        "\n",
        "sns.kdeplot(df_train['rougher.input.feed_size'],color='red',shade=True)\n",
        "sns.kdeplot(df_test['rougher.input.feed_size'],color='blue')\n",
        "plt.xlabel(\"Размер сырья на тестовой и обучающей выборках\")\n",
        "plt.ylabel(\"Плотность\")\n",
        "plt.legend (('Размер сырья на тестовой выборке', 'Размер сырья на обучающей выборке'))\n",
        "plt.title(\"Плотность распределения размера сырья при флотации\")\n",
        "plt.show()"
      ]
    },
    {
      "cell_type": "code",
      "execution_count": null,
      "metadata": {
        "id": "ZJhsLChL0oCO",
        "outputId": "582a2245-857d-40c3-b0f9-beabfe4dcf82"
      },
      "outputs": [
        {
          "data": {
            "image/png": "[encoded data removed]",
            "text/plain": [
              "<Figure size 864x504 with 1 Axes>"
            ]
          },
          "metadata": {
            "needs_background": "light"
          },
          "output_type": "display_data"
        }
      ],
      "source": [
        "plt.figure(figsize=[12,7])\n",
        "\n",
        "sns.kdeplot(df_train['primary_cleaner.input.feed_size'],color='red',shade=True)\n",
        "sns.kdeplot(df_test['primary_cleaner.input.feed_size'],color='blue')\n",
        "plt.xlabel(\"Размер сырья на тестовой и обучающей выборках\")\n",
        "plt.ylabel(\"Плотность\")\n",
        "plt.legend (('Размер сырья на тестовой выборке', 'Размер сырья на обучающей выборке'))\n",
        "plt.title(\"Плотность распределения размера сырья после первичной очистки\")\n",
        "plt.show()"
      ]
    },
    {
      "cell_type": "code",
      "execution_count": null,
      "metadata": {
        "id": "SgM_BtIp0oCO",
        "outputId": "ee452f42-a630-4f80-f3e9-f4a229d86db2"
      },
      "outputs": [
        {
          "name": "stderr",
          "output_type": "stream",
          "text": [
            "/opt/conda/lib/python3.9/site-packages/seaborn/_decorators.py:36: FutureWarning: Pass the following variable as a keyword arg: x. From version 0.12, the only valid positional argument will be `data`, and passing other arguments without an explicit keyword will result in an error or misinterpretation.\n",
            "  warnings.warn(\n"
          ]
        },
        {
          "data": {
            "image/png": "[encoded data removed]",
            "text/plain": [
              "<Figure size 720x504 with 1 Axes>"
            ]
          },
          "metadata": {
            "needs_background": "light"
          },
          "output_type": "display_data"
        }
      ],
      "source": [
        "plt.figure(figsize=(10,7))\n",
        "sns.boxplot(df_train['rougher.input.feed_size'])\n",
        "plt.title('Диаграмма размаха обучающей выборки')\n",
        "plt.xlabel('Размер гранул на обучающей выборке')\n",
        "plt.xlim(9, 100)\n",
        "plt.show()\n",
        "#warnings.simplefilter('ignore')"
      ]
    },
    {
      "cell_type": "code",
      "execution_count": null,
      "metadata": {
        "id": "HmfC_Xgk0oCP",
        "outputId": "9d5108e9-f654-42dd-9d99-2435edb6d3c9"
      },
      "outputs": [
        {
          "name": "stderr",
          "output_type": "stream",
          "text": [
            "/opt/conda/lib/python3.9/site-packages/seaborn/_decorators.py:36: FutureWarning: Pass the following variable as a keyword arg: x. From version 0.12, the only valid positional argument will be `data`, and passing other arguments without an explicit keyword will result in an error or misinterpretation.\n",
            "  warnings.warn(\n"
          ]
        },
        {
          "data": {
            "image/png": "[encoded data removed]",
            "text/plain": [
              "<Figure size 720x504 with 1 Axes>"
            ]
          },
          "metadata": {
            "needs_background": "light"
          },
          "output_type": "display_data"
        }
      ],
      "source": [
        "plt.figure(figsize=(10,7))\n",
        "sns.boxplot(df_test['rougher.input.feed_size'])\n",
        "plt.title('Диаграмма размаха тестовой выборки')\n",
        "plt.xlabel('Размер гранул на тестовой выборке')\n",
        "plt.xlim(0, 100)\n",
        "plt.show()\n",
        "#warnings.simplefilter('ignore')"
      ]
    },
    {
      "cell_type": "markdown",
      "metadata": {
        "id": "1MlsgJBh0oCP"
      },
      "source": [
        "***Размеры гранул сырья на обучающей и тестовой выборках похожи, имеются выбросы после значения 100 на этапе флотации, и выбросы после значения 10 на этапе первой очистки .***"
      ]
    },
    {
      "cell_type": "markdown",
      "metadata": {
        "id": "iQEm17pU0oCQ"
      },
      "source": [
        "*2.3. Исследуйте суммарную концентрацию всех веществ на разных стадиях: в сырье, в черновом и финальном концентратах.*"
      ]
    },
    {
      "cell_type": "code",
      "execution_count": null,
      "metadata": {
        "id": "1qx18dM90oCQ"
      },
      "outputs": [],
      "source": [
        "rougher_input_feed_sum =(df_train['rougher.input.feed_ag']+\n",
        "                         df_train['rougher.input.feed_au']+\n",
        "                         df_train['rougher.input.feed_pb']+\n",
        "                         df_train['rougher.input.feed_sol'])\n",
        "\n",
        "final_output_concentrate_sum = (df_train['final.output.concentrate_ag']+\n",
        "                            df_train['final.output.concentrate_au']+\n",
        "                            df_train['final.output.concentrate_pb']+\n",
        "                            df_train['final.output.concentrate_sol'])\n",
        "primary_cleaner_output_concentrate_sum =(df_train['primary_cleaner.output.concentrate_ag']+\n",
        "                                     df_train['primary_cleaner.output.concentrate_au']+\n",
        "                                     df_train['primary_cleaner.output.concentrate_pb']+\n",
        "                                     df_train['primary_cleaner.output.concentrate_sol'])\n",
        "\n",
        "rougher_output_concentrate_sum = (df_train['rougher.output.concentrate_ag']+\n",
        "                                  df_train['rougher.output.concentrate_au']+\n",
        "                                  df_train['rougher.output.concentrate_pb']+\n",
        "                                  df_train['rougher.output.concentrate_sol'])"
      ]
    },
    {
      "cell_type": "code",
      "execution_count": null,
      "metadata": {
        "id": "sPIaANiC0oCR",
        "outputId": "a975dbb7-2266-47e3-d173-07531bd6967a"
      },
      "outputs": [
        {
          "data": {
            "image/png": "[encoded data removed]",
            "text/plain": [
              "<Figure size 864x648 with 1 Axes>"
            ]
          },
          "metadata": {
            "needs_background": "light"
          },
          "output_type": "display_data"
        }
      ],
      "source": [
        "plt.figure(figsize=[12,9])\n",
        "plt.hist(rougher_input_feed_sum, bins=100, label = 'Начальная cумарная концентрация вещества концентрация', alpha= 0.5)\n",
        "plt.hist(final_output_concentrate_sum, bins=100, label = 'Сумарная концентрация вещества на выходе', alpha= 0.5)\n",
        "plt.hist(primary_cleaner_output_concentrate_sum, bins=100, label = 'Концентрация после первычной очистки', alpha= 0.5)\n",
        "plt.hist(rougher_output_concentrate_sum, bins=100, label = 'Сумарная концентрация на флотации', alpha= 0.5)\n",
        "\n",
        "\n",
        "plt.xlabel(\"Концентрации металлов на разных этапах\")\n",
        "plt.ylabel(\"Количество результатов\")\n",
        "\n",
        "plt.legend(loc='upper left', fontsize='x-large')\n",
        "\n",
        "plt.title(\"Гистограмма суммарной концентрации всех веществ на разных стадиях \")\n",
        "plt.show()"
      ]
    },
    {
      "cell_type": "markdown",
      "metadata": {
        "id": "zDxNhVRS0oCR"
      },
      "source": [
        "*Суммарная концентрация металов на этапе флотации самоя высокая. После первичной концентрация металов падает, и вырастает после финальной очистки. Исходя из графика видим ряд случаев, когда концентрация нулевая, случай является аномальным, удалим из выборки нулевые значения*"
      ]
    },
    {
      "cell_type": "code",
      "execution_count": null,
      "metadata": {
        "id": "XqDXcNIE0oCR",
        "outputId": "10926804-1cfd-417b-8f02-9256d383211b"
      },
      "outputs": [
        {
          "data": {
            "text/html": [
              "<div>\n",
              "<style scoped>\n",
              "    .dataframe tbody tr th:only-of-type {\n",
              "        vertical-align: middle;\n",
              "    }\n",
              "\n",
              "    .dataframe tbody tr th {\n",
              "        vertical-align: top;\n",
              "    }\n",
              "\n",
              "    .dataframe thead th {\n",
              "        text-align: right;\n",
              "    }\n",
              "</style>\n",
              "<table border=\"1\" class=\"dataframe\">\n",
              "  <thead>\n",
              "    <tr style=\"text-align: right;\">\n",
              "      <th></th>\n",
              "      <th>date</th>\n",
              "      <th>final.output.concentrate_ag</th>\n",
              "      <th>final.output.concentrate_pb</th>\n",
              "      <th>final.output.concentrate_sol</th>\n",
              "      <th>final.output.concentrate_au</th>\n",
              "      <th>final.output.recovery</th>\n",
              "      <th>final.output.tail_ag</th>\n",
              "      <th>final.output.tail_pb</th>\n",
              "      <th>final.output.tail_sol</th>\n",
              "      <th>final.output.tail_au</th>\n",
              "      <th>...</th>\n",
              "      <th>secondary_cleaner.state.floatbank4_a_air</th>\n",
              "      <th>secondary_cleaner.state.floatbank4_a_level</th>\n",
              "      <th>secondary_cleaner.state.floatbank4_b_air</th>\n",
              "      <th>secondary_cleaner.state.floatbank4_b_level</th>\n",
              "      <th>secondary_cleaner.state.floatbank5_a_air</th>\n",
              "      <th>secondary_cleaner.state.floatbank5_a_level</th>\n",
              "      <th>secondary_cleaner.state.floatbank5_b_air</th>\n",
              "      <th>secondary_cleaner.state.floatbank5_b_level</th>\n",
              "      <th>secondary_cleaner.state.floatbank6_a_air</th>\n",
              "      <th>secondary_cleaner.state.floatbank6_a_level</th>\n",
              "    </tr>\n",
              "  </thead>\n",
              "  <tbody>\n",
              "  </tbody>\n",
              "</table>\n",
              "<p>0 rows × 87 columns</p>\n",
              "</div>"
            ],
            "text/plain": [
              "Empty DataFrame\n",
              "Columns: [date, final.output.concentrate_ag, final.output.concentrate_pb, final.output.concentrate_sol, final.output.concentrate_au, final.output.recovery, final.output.tail_ag, final.output.tail_pb, final.output.tail_sol, final.output.tail_au, primary_cleaner.input.sulfate, primary_cleaner.input.depressant, primary_cleaner.input.feed_size, primary_cleaner.input.xanthate, primary_cleaner.output.concentrate_ag, primary_cleaner.output.concentrate_pb, primary_cleaner.output.concentrate_sol, primary_cleaner.output.concentrate_au, primary_cleaner.output.tail_ag, primary_cleaner.output.tail_pb, primary_cleaner.output.tail_sol, primary_cleaner.output.tail_au, primary_cleaner.state.floatbank8_a_air, primary_cleaner.state.floatbank8_a_level, primary_cleaner.state.floatbank8_b_air, primary_cleaner.state.floatbank8_b_level, primary_cleaner.state.floatbank8_c_air, primary_cleaner.state.floatbank8_c_level, primary_cleaner.state.floatbank8_d_air, primary_cleaner.state.floatbank8_d_level, rougher.calculation.sulfate_to_au_concentrate, rougher.calculation.floatbank10_sulfate_to_au_feed, rougher.calculation.floatbank11_sulfate_to_au_feed, rougher.calculation.au_pb_ratio, rougher.input.feed_ag, rougher.input.feed_pb, rougher.input.feed_rate, rougher.input.feed_size, rougher.input.feed_sol, rougher.input.feed_au, rougher.input.floatbank10_sulfate, rougher.input.floatbank10_xanthate, rougher.input.floatbank11_sulfate, rougher.input.floatbank11_xanthate, rougher.output.concentrate_ag, rougher.output.concentrate_pb, rougher.output.concentrate_sol, rougher.output.concentrate_au, rougher.output.recovery, rougher.output.tail_ag, rougher.output.tail_pb, rougher.output.tail_sol, rougher.output.tail_au, rougher.state.floatbank10_a_air, rougher.state.floatbank10_a_level, rougher.state.floatbank10_b_air, rougher.state.floatbank10_b_level, rougher.state.floatbank10_c_air, rougher.state.floatbank10_c_level, rougher.state.floatbank10_d_air, rougher.state.floatbank10_d_level, rougher.state.floatbank10_e_air, rougher.state.floatbank10_e_level, rougher.state.floatbank10_f_air, rougher.state.floatbank10_f_level, secondary_cleaner.output.tail_ag, secondary_cleaner.output.tail_pb, secondary_cleaner.output.tail_sol, secondary_cleaner.output.tail_au, secondary_cleaner.state.floatbank2_a_air, secondary_cleaner.state.floatbank2_a_level, secondary_cleaner.state.floatbank2_b_air, secondary_cleaner.state.floatbank2_b_level, secondary_cleaner.state.floatbank3_a_air, secondary_cleaner.state.floatbank3_a_level, secondary_cleaner.state.floatbank3_b_air, secondary_cleaner.state.floatbank3_b_level, secondary_cleaner.state.floatbank4_a_air, secondary_cleaner.state.floatbank4_a_level, secondary_cleaner.state.floatbank4_b_air, secondary_cleaner.state.floatbank4_b_level, secondary_cleaner.state.floatbank5_a_air, secondary_cleaner.state.floatbank5_a_level, secondary_cleaner.state.floatbank5_b_air, secondary_cleaner.state.floatbank5_b_level, secondary_cleaner.state.floatbank6_a_air, secondary_cleaner.state.floatbank6_a_level]\n",
              "Index: []\n",
              "\n",
              "[0 rows x 87 columns]"
            ]
          },
          "execution_count": 26,
          "metadata": {},
          "output_type": "execute_result"
        }
      ],
      "source": [
        "\n",
        "df_train = (df_train[(df_train['primary_cleaner.output.concentrate_au'] > 1)&\n",
        "            (df_train['primary_cleaner.output.concentrate_ag'] > 1)&\n",
        "            (df_train['primary_cleaner.output.concentrate_pb'] > 1)&\n",
        "            (df_train['primary_cleaner.output.concentrate_sol'] > 1)])\n",
        "\n",
        "df_train = (df_train[(df_train['rougher.input.feed_au'] > 1)&\n",
        "            (df_train['rougher.input.feed_ag'] > 1)&\n",
        "            (df_train['rougher.input.feed_pb'] > 1)&\n",
        "            (df_train['rougher.input.feed_sol'] > 1)])\n",
        "\n",
        "df_train = (df_train[(df_train['final.output.concentrate_ag'] > 1)&\n",
        "            (df_train['final.output.concentrate_au'] > 1)&\n",
        "            (df_train['final.output.concentrate_pb'] > 1)&\n",
        "            (df_train['final.output.concentrate_sol'] > 1)])\n",
        "\n",
        "df_train = (df_train[(df_train['rougher.output.concentrate_ag'] > 1)&\n",
        "            (df_train['rougher.output.concentrate_au'] > 1)&\n",
        "            (df_train['rougher.output.concentrate_pb'] > 1)&\n",
        "            (df_train['rougher.output.concentrate_sol'] > 1)])\n",
        "\n",
        "\n",
        "df_train[df_train['primary_cleaner.output.concentrate_sol'] == 0].head()\n"
      ]
    },
    {
      "cell_type": "markdown",
      "metadata": {
        "id": "Le1fcv0K0oCS"
      },
      "source": [
        "**Вывод:\n",
        "Концентрация золота растет с каждым этапом этапом.\n",
        "Концентрация серебра напротив падает с каждым этапом.\n",
        "Концентрация свинца падает на первом этапе и вновь растет после финальной очистки.\n",
        "Отсюда видим не прямолинейный график сумарной концентрации металов по стадиям.\n",
        "Размер гранул тестовой и обучающей выборки сопостовим.**"
      ]
    },
    {
      "cell_type": "markdown",
      "metadata": {
        "id": "MbxuFFHt0oCS"
      },
      "source": [
        "## Модель"
      ]
    },
    {
      "cell_type": "markdown",
      "metadata": {
        "id": "p5yI0vaE0oCS"
      },
      "source": [
        "*3.1. Напишите функцию для вычисления итоговой sMAPE.*"
      ]
    },
    {
      "cell_type": "markdown",
      "metadata": {
        "id": "rv52Tj780oCS"
      },
      "source": [
        "![image.png](attachment:image.png)"
      ]
    },
    {
      "cell_type": "markdown",
      "metadata": {
        "id": "6Ajh3qSj0oCS"
      },
      "source": [
        "![image.png](attachment:image.png)"
      ]
    },
    {
      "cell_type": "raw",
      "metadata": {
        "id": "9IIrmy5N0oCT"
      },
      "source": [
        "def smape(target, predictions):\n",
        "    return 100/len(target) * sum(2*abs(target - predictions) / (abs(target)+abs(predictions)))\n",
        "\n",
        "def end_smape(rougher_smape, final_smape):\n",
        "    return 0.25 * rougher_smape + 0.75 * final_smape"
      ]
    },
    {
      "cell_type": "code",
      "execution_count": null,
      "metadata": {
        "id": "Y5Xj6MK70oCT"
      },
      "outputs": [],
      "source": [
        "def smape(target, predictions):\n",
        "    return 1/len(target) * np.sum(2 * np.abs(\n",
        "       target - predictions) / (np.abs(target) + np.abs(predictions))*100)\n",
        "def end_smape(rougher, final):\n",
        "    return 0.25*rougher + 0.75*final"
      ]
    },
    {
      "cell_type": "markdown",
      "metadata": {
        "id": "okaZuqa00oCT"
      },
      "source": [
        "*3.2. Обучите разные модели и оцените их качество кросс-валидацией. Выберите лучшую модель и проверьте её на тестовой выборке. Опишите выводы.*"
      ]
    },
    {
      "cell_type": "markdown",
      "metadata": {
        "id": "WskNxFiE0oCT"
      },
      "source": [
        "*Для начала подготовим даннык к машинному обучение(для этого удаляем из обучающей выборки столбцы, которые отсутствуют в тестовой). Далее добавляем в тестовую выборку целевые признаки из df_full по индексам.*\n"
      ]
    },
    {
      "cell_type": "code",
      "execution_count": null,
      "metadata": {
        "id": "zJbjJMpP0oCT"
      },
      "outputs": [],
      "source": [
        "df_train1=df_train.copy()\n",
        "df_train1.drop(['final.output.concentrate_ag',\n",
        " 'final.output.concentrate_au',\n",
        " 'final.output.concentrate_pb',\n",
        " 'final.output.concentrate_sol',\n",
        " 'final.output.tail_ag',\n",
        " 'final.output.tail_au',\n",
        " 'final.output.tail_pb',\n",
        " 'final.output.tail_sol',\n",
        " 'primary_cleaner.output.concentrate_ag',\n",
        " 'primary_cleaner.output.concentrate_au',\n",
        " 'primary_cleaner.output.concentrate_pb',\n",
        " 'primary_cleaner.output.concentrate_sol',\n",
        " 'primary_cleaner.output.tail_ag',\n",
        " 'primary_cleaner.output.tail_au',\n",
        " 'primary_cleaner.output.tail_pb',\n",
        " 'primary_cleaner.output.tail_sol',\n",
        " 'rougher.calculation.au_pb_ratio',\n",
        " 'rougher.calculation.floatbank10_sulfate_to_au_feed',\n",
        " 'rougher.calculation.floatbank11_sulfate_to_au_feed',\n",
        " 'rougher.calculation.sulfate_to_au_concentrate',\n",
        " 'rougher.output.concentrate_ag',\n",
        " 'rougher.output.concentrate_au',\n",
        " 'rougher.output.concentrate_pb',\n",
        " 'rougher.output.concentrate_sol',\n",
        " 'rougher.output.tail_ag',\n",
        " 'rougher.output.tail_au',\n",
        " 'rougher.output.tail_pb',\n",
        " 'rougher.output.tail_sol',\n",
        " 'secondary_cleaner.output.tail_ag',\n",
        " 'secondary_cleaner.output.tail_au',\n",
        " 'secondary_cleaner.output.tail_pb',\n",
        " 'secondary_cleaner.output.tail_sol'],axis = 1,inplace = True)\n"
      ]
    },
    {
      "cell_type": "code",
      "execution_count": null,
      "metadata": {
        "id": "i3-O-4ZD0oCU"
      },
      "outputs": [],
      "source": [
        "df_test = df_test.set_index('date')#Преобразуем столбец с временеи в индекс и по индексу добавляем целевой признак в df_test\n",
        "df_full = df_full.set_index('date')#Из df_full\n",
        "df_train1 = df_train1.set_index('date')\n",
        "\n",
        "df_test = df_test.join(df_full[['rougher.output.recovery','final.output.recovery']])"
      ]
    },
    {
      "cell_type": "code",
      "execution_count": null,
      "metadata": {
        "scrolled": true,
        "id": "da6--ypB0oCU",
        "outputId": "4a74ea24-8fa0-4b1d-e8d6-1b809301c991"
      },
      "outputs": [
        {
          "data": {
            "text/plain": [
              "date\n",
              "2016-09-01 00:59:59    89.993421\n",
              "2016-09-01 01:59:59    88.089657\n",
              "2016-09-01 02:59:59    88.412756\n",
              "2016-09-01 03:59:59    87.360133\n",
              "2016-09-01 04:59:59    83.236367\n",
              "                         ...    \n",
              "2017-12-31 19:59:59    95.172585\n",
              "2017-12-31 20:59:59    94.575036\n",
              "2017-12-31 21:59:59    93.018138\n",
              "2017-12-31 22:59:59    92.599042\n",
              "2017-12-31 23:59:59    91.177695\n",
              "Name: rougher.output.recovery, Length: 5290, dtype: float64"
            ]
          },
          "execution_count": 30,
          "metadata": {},
          "output_type": "execute_result"
        }
      ],
      "source": [
        "df_test['rougher.output.recovery']"
      ]
    },
    {
      "cell_type": "code",
      "execution_count": null,
      "metadata": {
        "id": "wXB-kGYG0oCU",
        "outputId": "e6488d43-33e5-48c9-ea47-13e2069244f5"
      },
      "outputs": [
        {
          "data": {
            "text/plain": [
              "date\n",
              "2016-01-15 00:00:00    87.107763\n",
              "2016-01-15 01:00:00    86.843261\n",
              "2016-01-15 02:00:00    86.842308\n",
              "2016-01-15 03:00:00    87.226430\n",
              "2016-01-15 04:00:00    86.688794\n",
              "                         ...    \n",
              "2018-08-18 06:59:59    89.574376\n",
              "2018-08-18 07:59:59    87.724007\n",
              "2018-08-18 08:59:59    88.890579\n",
              "2018-08-18 09:59:59    89.858126\n",
              "2018-08-18 10:59:59    89.514960\n",
              "Name: rougher.output.recovery, Length: 13304, dtype: float64"
            ]
          },
          "execution_count": 31,
          "metadata": {},
          "output_type": "execute_result"
        }
      ],
      "source": [
        "df_train1['rougher.output.recovery']"
      ]
    },
    {
      "cell_type": "code",
      "execution_count": null,
      "metadata": {
        "id": "zv1bhIdU0oCV"
      },
      "outputs": [],
      "source": [
        "#Делим выборки на features и target\n",
        "features_train = df_train1.drop(['rougher.output.recovery','final.output.recovery'],axis = 1)\n",
        "target_train_r = df_train1['rougher.output.recovery']\n",
        "target_train_f = df_train1['final.output.recovery']\n",
        "\n",
        "features_test = df_test.drop(['rougher.output.recovery','final.output.recovery'],axis = 1)\n",
        "target_test_r = df_test['rougher.output.recovery']\n",
        "target_test_f = df_test['final.output.recovery']"
      ]
    },
    {
      "cell_type": "code",
      "execution_count": null,
      "metadata": {
        "id": "RDy9mtS50oCV"
      },
      "outputs": [],
      "source": [
        "scorer = make_scorer(smape,greater_is_better=False)"
      ]
    },
    {
      "cell_type": "code",
      "execution_count": null,
      "metadata": {
        "id": "avBbYvg60oCV",
        "outputId": "e047d825-d08d-4ebe-a68e-9b596e09840d"
      },
      "outputs": [
        {
          "name": "stdout",
          "output_type": "stream",
          "text": [
            "Фиинальный smape, для линейной регрессии 9.82786784526745\n"
          ]
        }
      ],
      "source": [
        "#Обучаем линейную регрессию\n",
        "model_linear_r = LinearRegression()\n",
        "model_linear_r.fit(features_train,target_train_r)\n",
        "scores_linear_r = cross_val_score(model_linear_r, features_train,target_train_r, cv=5,scoring = scorer)\n",
        "scores_r = scores_linear_r.mean()\n",
        "\n",
        "model_linear_f = LinearRegression()\n",
        "model_linear_f.fit(features_train,target_train_f)\n",
        "scores_linear_f = cross_val_score(model_linear_f, features_train,target_train_f, cv=5,scoring = scorer)\n",
        "scores_f = scores_linear_f.mean()\n",
        "print('Фиинальный smape, для линейной регрессии',abs(end_smape(scores_r,scores_f)))"
      ]
    },
    {
      "cell_type": "markdown",
      "metadata": {
        "id": "tiaTJTcL0oCW"
      },
      "source": [
        "*Метрика smape для линейной регрессии 9.82786784526745*"
      ]
    },
    {
      "cell_type": "markdown",
      "metadata": {
        "id": "LJ4Ud4o50oCW"
      },
      "source": [
        "<div class=\"alert alert-info\">\n",
        "Попробовал поменять количество фолдов, качество сильно падает. По крайней мере у регрессси."
      ]
    },
    {
      "cell_type": "code",
      "execution_count": null,
      "metadata": {
        "id": "mf9Qw_eM0oCW",
        "outputId": "bc9ea5e7-5a2c-44e0-f573-e9e580209dcc"
      },
      "outputs": [
        {
          "name": "stdout",
          "output_type": "stream",
          "text": [
            "depth = 1 Фиинальный smape, для случайного леса 8.851761050340075\n",
            "depth = 2 Фиинальный smape, для случайного леса 8.668306845936076\n",
            "depth = 3 Фиинальный smape, для случайного леса 8.572466663890657\n",
            "depth = 4 Фиинальный smape, для случайного леса 9.001779546701542\n",
            "depth = 5 Фиинальный smape, для случайного леса 8.82399298545447\n",
            "depth = 6 Фиинальный smape, для случайного леса 9.382378565912587\n",
            "depth = 7 Фиинальный smape, для случайного леса 10.10071085992681\n",
            "depth = 8 Фиинальный smape, для случайного леса 10.864589068680832\n",
            "depth = 9 Фиинальный smape, для случайного леса 10.668941422104133\n",
            "depth = 10 Фиинальный smape, для случайного леса 11.695148762798585\n",
            "depth = 11 Фиинальный smape, для случайного леса 11.716435912669848\n",
            "depth = 12 Фиинальный smape, для случайного леса 12.019716501055402\n",
            "depth = 13 Фиинальный smape, для случайного леса 11.521276617590019\n",
            "depth = 14 Фиинальный smape, для случайного леса 13.848702077666365\n",
            "CPU times: user 1min 5s, sys: 73.8 ms, total: 1min 5s\n",
            "Wall time: 1min 5s\n"
          ]
        }
      ],
      "source": [
        "\n",
        "%%time\n",
        "scorer = make_scorer(smape)\n",
        "for depth in range(1,15):\n",
        "    model_tree_r = DecisionTreeRegressor(random_state=12345,max_depth=depth)# Обучаем деревья решений\n",
        "    model_tree_f = DecisionTreeRegressor(random_state=12345,max_depth=depth)\n",
        "    model_tree_r.fit(features_train,target_train_r)\n",
        "    model_tree_f.fit(features_train,target_train_f)\n",
        "    scores_tree_r = cross_val_score(model_tree_r, features_train,target_train_r, cv=5,scoring = scorer)\n",
        "    scores_tree_f = cross_val_score(model_tree_f, features_train,target_train_f, cv=5,scoring = scorer)\n",
        "    scores_mean_tree_r = scores_tree_r.mean()\n",
        "    scores_mean_tree_f=  scores_tree_f.mean()\n",
        "    print('depth =',depth,'Фиинальный smape, для случайного леса',abs(end_smape(scores_mean_tree_r,scores_mean_tree_f)))"
      ]
    },
    {
      "cell_type": "markdown",
      "metadata": {
        "id": "8R3sfJm80oCW"
      },
      "source": [
        "*Лучшая метрика smape = 8.572466663890657. При глубине деревьев max_depth = 3*"
      ]
    },
    {
      "cell_type": "code",
      "execution_count": null,
      "metadata": {
        "id": "iPYlIV5I0oCW",
        "outputId": "7a260751-c29c-49aa-8221-b2c3db6146f5"
      },
      "outputs": [
        {
          "name": "stdout",
          "output_type": "stream",
          "text": [
            "Глубина дерева: 3 n_estimators: 1 8.597951214508019\n",
            "Глубина дерева: 4 n_estimators: 1 8.725070563850826\n",
            "Глубина дерева: 5 n_estimators: 1 8.894267058339876\n",
            "Глубина дерева: 3 n_estimators: 31 8.300028131852441\n",
            "Глубина дерева: 4 n_estimators: 31 8.154000637121298\n",
            "Глубина дерева: 5 n_estimators: 31 8.188859849384063\n",
            "Глубина дерева: 3 n_estimators: 61 8.276434884388042\n",
            "Глубина дерева: 4 n_estimators: 61 8.094192729280724\n",
            "Глубина дерева: 5 n_estimators: 61 8.114332697920476\n",
            "Глубина дерева: 3 n_estimators: 91 8.291599013331826\n",
            "Глубина дерева: 4 n_estimators: 91 8.116908520918328\n",
            "Глубина дерева: 5 n_estimators: 91 8.15505040652125\n",
            "Глубина дерева: 3 n_estimators: 121 8.27873398771872\n",
            "Глубина дерева: 4 n_estimators: 121 8.112376402071023\n",
            "Глубина дерева: 5 n_estimators: 121 8.143701787521739\n",
            "Глубина дерева: 3 n_estimators: 151 8.282201307320367\n",
            "Глубина дерева: 4 n_estimators: 151 8.118977418816613\n",
            "Глубина дерева: 5 n_estimators: 151 8.153481854133314\n",
            "CPU times: user 38min 39s, sys: 3.17 s, total: 38min 42s\n",
            "Wall time: 38min 45s\n"
          ]
        }
      ],
      "source": [
        "%%time\n",
        "for est in range(1, 181, 30):\n",
        "    for depth in range(3, 6):\n",
        "        model_forest_r = RandomForestRegressor(random_state=12345, n_estimators= est,max_depth=depth)\n",
        "        model_forest_f = RandomForestRegressor(random_state=12345, n_estimators= est,max_depth=depth)\n",
        "        model_forest_r.fit(features_train,target_train_r)\n",
        "        model_forest_f.fit(features_train,target_train_f)\n",
        "        scores_forest_r = cross_val_score(model_forest_r, features_train,target_train_r, cv=5,scoring = scorer)\n",
        "        scores_forest_f = cross_val_score(model_forest_f, features_train,target_train_f, cv=5,scoring = scorer)\n",
        "        scores_mean_forest_r = scores_forest_r.mean()\n",
        "        scores_mean_forest_f=  scores_forest_f.mean()\n",
        "        print(\"Глубина дерева:\", depth,'n_estimators:',est,abs(end_smape(scores_mean_forest_r,scores_mean_forest_f)))"
      ]
    },
    {
      "cell_type": "markdown",
      "metadata": {
        "id": "0QyyBLmx0oCX"
      },
      "source": [
        "*Лучший smape=8.094192729280724 при гиперпараметрах :Глубина дерева: 4 n_estimators: 61*"
      ]
    },
    {
      "cell_type": "markdown",
      "metadata": {
        "id": "riCK8RvA0oCX"
      },
      "source": [
        "*По итогам тестов лучшая модель случайный лес с параметрами:Глубина дерева: 4 n_estimators: 61\n",
        "smape=8.094192729280724*"
      ]
    },
    {
      "cell_type": "markdown",
      "metadata": {
        "id": "rmaH9fG70oCX"
      },
      "source": [
        "*Проверим лучшую ммодель случайного леса на тестовой выборке*"
      ]
    },
    {
      "cell_type": "code",
      "execution_count": null,
      "metadata": {
        "id": "4jYGNNBY0oCY",
        "outputId": "3d7d7413-d0e4-4bce-d7d8-6c9067c1a386"
      },
      "outputs": [
        {
          "name": "stdout",
          "output_type": "stream",
          "text": [
            "Финальный smape, для случайного леса 9.450291948959002\n"
          ]
        }
      ],
      "source": [
        "final_model_r = RandomForestRegressor(random_state=12345, n_estimators= 64,max_depth=4)\n",
        "final_model_f = RandomForestRegressor(random_state=12345, n_estimators= 61,max_depth=4)\n",
        "final_model_r.fit(features_train,target_train_r)\n",
        "pred_r = final_model_r.predict(features_test)\n",
        "final_model_f.fit(features_train,target_train_f)\n",
        "pred_f = final_model_f.predict(features_test)\n",
        "smape_r = smape(target_test_r, pred_r).mean()\n",
        "smape_f = smape(target_test_f, pred_f).mean()\n",
        "\n",
        "print('Финальный smape, для случайного леса', end_smape(smape_r,smape_f))"
      ]
    },
    {
      "cell_type": "markdown",
      "metadata": {
        "id": "rA9HCy-N0oCY"
      },
      "source": [
        "*Проверим модели на адекватность используя константную модель*"
      ]
    },
    {
      "cell_type": "code",
      "execution_count": null,
      "metadata": {
        "id": "dQLlOuwd0oCY",
        "outputId": "9513c75a-2a24-47f2-9f97-8c94e46ce894"
      },
      "outputs": [
        {
          "name": "stdout",
          "output_type": "stream",
          "text": [
            "Итоговое sMAPE для DummyRegressor: 9.74499284619471\n"
          ]
        }
      ],
      "source": [
        "from sklearn.dummy import DummyRegressor\n",
        "dummy_model_r = DummyRegressor(strategy=\"mean\")\n",
        "dummy_model_f = DummyRegressor(strategy=\"mean\")\n",
        "dummy_model_r.fit(features_train, target_train_r)\n",
        "dummy_model_f.fit(features_train, target_train_f)\n",
        "test_predictions_r = dummy_model_r.predict(features_test)\n",
        "test_predictions_f = dummy_model_f.predict(features_test)\n",
        "sm_rougher = smape(target_test_r, test_predictions_r).mean()\n",
        "sm_final = smape(target_test_f, test_predictions_f).mean()\n",
        "\n",
        "print('Итоговое sMAPE для DummyRegressor:',end_smape(sm_rougher,sm_final))"
      ]
    },
    {
      "cell_type": "markdown",
      "metadata": {
        "id": "mGC1VReE0oCY"
      },
      "source": [
        "*Итоговая модель работает лучше константной на тестовых данных*"
      ]
    },
    {
      "cell_type": "markdown",
      "metadata": {
        "id": "_x6osDAG0oCZ"
      },
      "source": [
        "***Исходя из небольшой разницы между констатной моделью sMAPE для DummyRegressor: 9.74499284619471 и модели случайного леса sMAPE = 9.450291948959002, в реальной работе использовать модель проблематично( очень низкая скорость работы модели+метрика не кардинально отличается от константной)***"
      ]
    }
  ],
  "metadata": {
    "ExecuteTimeLog": [
      {
        "duration": 399,
        "start_time": "2023-04-26T09:24:51.043Z"
      },
      {
        "duration": 66,
        "start_time": "2023-04-26T09:25:42.601Z"
      },
      {
        "duration": 48,
        "start_time": "2023-04-26T09:25:49.560Z"
      },
      {
        "duration": 428,
        "start_time": "2023-04-26T09:25:55.736Z"
      },
      {
        "duration": 315,
        "start_time": "2023-04-26T09:26:05.698Z"
      },
      {
        "duration": 700,
        "start_time": "2023-04-26T09:26:54.966Z"
      },
      {
        "duration": 2295,
        "start_time": "2023-04-26T09:27:29.563Z"
      },
      {
        "duration": 30,
        "start_time": "2023-04-26T09:27:39.279Z"
      },
      {
        "duration": 27,
        "start_time": "2023-04-26T09:27:54.040Z"
      },
      {
        "duration": 18,
        "start_time": "2023-04-26T09:28:57.368Z"
      },
      {
        "duration": 24,
        "start_time": "2023-04-26T09:29:17.215Z"
      },
      {
        "duration": 16,
        "start_time": "2023-04-26T09:29:48.800Z"
      },
      {
        "duration": 12,
        "start_time": "2023-04-26T09:30:49.352Z"
      },
      {
        "duration": 18,
        "start_time": "2023-04-26T09:31:23.802Z"
      },
      {
        "duration": 185,
        "start_time": "2023-04-26T09:50:20.304Z"
      },
      {
        "duration": 1421,
        "start_time": "2023-04-26T09:51:47.828Z"
      },
      {
        "duration": 6,
        "start_time": "2023-04-26T09:51:55.585Z"
      },
      {
        "duration": 4,
        "start_time": "2023-04-26T10:17:24.079Z"
      },
      {
        "duration": 2,
        "start_time": "2023-04-26T10:17:47.865Z"
      },
      {
        "duration": 7,
        "start_time": "2023-04-26T10:21:44.849Z"
      },
      {
        "duration": 6,
        "start_time": "2023-04-26T10:21:53.116Z"
      },
      {
        "duration": 101,
        "start_time": "2023-04-26T10:32:49.167Z"
      },
      {
        "duration": 12,
        "start_time": "2023-04-26T10:40:49.139Z"
      },
      {
        "duration": 7,
        "start_time": "2023-04-26T10:41:07.307Z"
      },
      {
        "duration": 10,
        "start_time": "2023-04-26T10:41:32.446Z"
      },
      {
        "duration": 6,
        "start_time": "2023-04-26T10:41:43.395Z"
      },
      {
        "duration": 5,
        "start_time": "2023-04-26T10:41:53.701Z"
      },
      {
        "duration": 7,
        "start_time": "2023-04-26T10:41:55.411Z"
      },
      {
        "duration": 415,
        "start_time": "2023-04-26T10:42:45.564Z"
      },
      {
        "duration": 832,
        "start_time": "2023-04-26T10:42:45.981Z"
      },
      {
        "duration": 24,
        "start_time": "2023-04-26T10:42:46.814Z"
      },
      {
        "duration": 16,
        "start_time": "2023-04-26T10:42:46.840Z"
      },
      {
        "duration": 31,
        "start_time": "2023-04-26T10:42:46.858Z"
      },
      {
        "duration": 3,
        "start_time": "2023-04-26T10:42:46.891Z"
      },
      {
        "duration": 12,
        "start_time": "2023-04-26T10:42:46.896Z"
      },
      {
        "duration": 26,
        "start_time": "2023-04-26T10:42:46.910Z"
      },
      {
        "duration": 26,
        "start_time": "2023-04-26T10:42:46.938Z"
      },
      {
        "duration": 4,
        "start_time": "2023-04-26T10:44:54.732Z"
      },
      {
        "duration": 81,
        "start_time": "2023-04-26T10:49:31.259Z"
      },
      {
        "duration": 7,
        "start_time": "2023-04-26T10:49:39.458Z"
      },
      {
        "duration": 6,
        "start_time": "2023-04-26T10:51:35.969Z"
      },
      {
        "duration": 160,
        "start_time": "2023-04-26T11:04:05.940Z"
      },
      {
        "duration": 3,
        "start_time": "2023-04-26T15:30:30.986Z"
      },
      {
        "duration": 8,
        "start_time": "2023-04-26T15:30:38.965Z"
      },
      {
        "duration": 145,
        "start_time": "2023-04-26T15:31:31.771Z"
      },
      {
        "duration": 7,
        "start_time": "2023-04-26T15:31:36.992Z"
      },
      {
        "duration": 5,
        "start_time": "2023-04-26T15:32:26.547Z"
      },
      {
        "duration": 7,
        "start_time": "2023-04-26T15:33:05.533Z"
      },
      {
        "duration": 7,
        "start_time": "2023-04-26T15:33:22.184Z"
      },
      {
        "duration": 6,
        "start_time": "2023-04-26T15:33:30.471Z"
      },
      {
        "duration": 5,
        "start_time": "2023-04-26T15:33:37.231Z"
      },
      {
        "duration": 7,
        "start_time": "2023-04-26T15:33:41.644Z"
      },
      {
        "duration": 12,
        "start_time": "2023-04-26T15:49:40.777Z"
      },
      {
        "duration": 431,
        "start_time": "2023-04-27T10:30:03.112Z"
      },
      {
        "duration": 2396,
        "start_time": "2023-04-27T10:30:03.545Z"
      },
      {
        "duration": 22,
        "start_time": "2023-04-27T10:30:05.943Z"
      },
      {
        "duration": 17,
        "start_time": "2023-04-27T10:30:05.967Z"
      },
      {
        "duration": 27,
        "start_time": "2023-04-27T10:30:05.994Z"
      },
      {
        "duration": 3,
        "start_time": "2023-04-27T10:30:06.024Z"
      },
      {
        "duration": 16,
        "start_time": "2023-04-27T10:30:06.029Z"
      },
      {
        "duration": 38,
        "start_time": "2023-04-27T10:30:06.047Z"
      },
      {
        "duration": 35,
        "start_time": "2023-04-27T10:30:06.088Z"
      },
      {
        "duration": 25,
        "start_time": "2023-04-27T10:30:06.125Z"
      },
      {
        "duration": 13,
        "start_time": "2023-04-27T11:23:26.539Z"
      },
      {
        "duration": 28,
        "start_time": "2023-04-27T11:23:40.291Z"
      },
      {
        "duration": 13,
        "start_time": "2023-04-27T11:23:45.422Z"
      },
      {
        "duration": 23,
        "start_time": "2023-04-27T11:33:12.677Z"
      },
      {
        "duration": 21,
        "start_time": "2023-04-27T11:33:18.030Z"
      },
      {
        "duration": 47,
        "start_time": "2023-04-27T11:49:51.377Z"
      },
      {
        "duration": 13,
        "start_time": "2023-04-27T11:50:08.426Z"
      },
      {
        "duration": 24,
        "start_time": "2023-04-27T11:50:18.336Z"
      },
      {
        "duration": 32,
        "start_time": "2023-04-27T11:53:07.218Z"
      },
      {
        "duration": 21,
        "start_time": "2023-04-27T11:53:17.782Z"
      },
      {
        "duration": 19,
        "start_time": "2023-04-27T11:55:56.217Z"
      },
      {
        "duration": 65,
        "start_time": "2023-04-27T15:48:08.681Z"
      },
      {
        "duration": 7,
        "start_time": "2023-04-27T15:49:30.516Z"
      },
      {
        "duration": 3,
        "start_time": "2023-04-27T15:49:50.542Z"
      },
      {
        "duration": 7,
        "start_time": "2023-04-27T15:50:06.952Z"
      },
      {
        "duration": 7,
        "start_time": "2023-04-27T15:51:24.425Z"
      },
      {
        "duration": 9,
        "start_time": "2023-04-27T15:51:51.959Z"
      },
      {
        "duration": 9,
        "start_time": "2023-04-27T15:52:01.874Z"
      },
      {
        "duration": 7,
        "start_time": "2023-04-27T15:52:11.147Z"
      },
      {
        "duration": 7,
        "start_time": "2023-04-27T15:52:13.900Z"
      },
      {
        "duration": 6,
        "start_time": "2023-04-27T15:52:39.742Z"
      },
      {
        "duration": 8,
        "start_time": "2023-04-27T15:53:30.735Z"
      },
      {
        "duration": 401,
        "start_time": "2023-04-27T15:54:10.198Z"
      },
      {
        "duration": 683,
        "start_time": "2023-04-27T15:54:10.601Z"
      },
      {
        "duration": 15,
        "start_time": "2023-04-27T15:54:11.285Z"
      },
      {
        "duration": 17,
        "start_time": "2023-04-27T15:54:11.301Z"
      },
      {
        "duration": 16,
        "start_time": "2023-04-27T15:54:11.320Z"
      },
      {
        "duration": 2,
        "start_time": "2023-04-27T15:54:11.338Z"
      },
      {
        "duration": 12,
        "start_time": "2023-04-27T15:54:11.342Z"
      },
      {
        "duration": 10,
        "start_time": "2023-04-27T15:54:11.355Z"
      },
      {
        "duration": 31,
        "start_time": "2023-04-27T15:54:11.366Z"
      },
      {
        "duration": 8,
        "start_time": "2023-04-27T15:54:11.398Z"
      },
      {
        "duration": 11,
        "start_time": "2023-04-27T15:54:11.408Z"
      },
      {
        "duration": 6,
        "start_time": "2023-04-27T15:54:11.421Z"
      },
      {
        "duration": 14,
        "start_time": "2023-04-27T15:54:11.428Z"
      },
      {
        "duration": 63,
        "start_time": "2023-04-27T15:54:11.444Z"
      },
      {
        "duration": 11,
        "start_time": "2023-04-27T15:54:26.844Z"
      },
      {
        "duration": 15,
        "start_time": "2023-04-27T15:54:38.696Z"
      },
      {
        "duration": 42,
        "start_time": "2023-04-27T15:55:38.657Z"
      },
      {
        "duration": 13,
        "start_time": "2023-04-27T15:55:49.832Z"
      },
      {
        "duration": 14,
        "start_time": "2023-04-27T15:56:00.541Z"
      },
      {
        "duration": 23,
        "start_time": "2023-04-27T15:56:13.233Z"
      },
      {
        "duration": 20,
        "start_time": "2023-04-27T15:59:49.516Z"
      },
      {
        "duration": 5,
        "start_time": "2023-04-27T16:00:19.799Z"
      },
      {
        "duration": 8,
        "start_time": "2023-04-27T16:00:45.556Z"
      },
      {
        "duration": 19,
        "start_time": "2023-04-27T16:01:01.118Z"
      },
      {
        "duration": 426,
        "start_time": "2023-04-28T12:46:07.338Z"
      },
      {
        "duration": 2906,
        "start_time": "2023-04-28T12:46:07.766Z"
      },
      {
        "duration": 14,
        "start_time": "2023-04-28T12:46:10.674Z"
      },
      {
        "duration": 18,
        "start_time": "2023-04-28T12:46:10.689Z"
      },
      {
        "duration": 15,
        "start_time": "2023-04-28T12:46:10.709Z"
      },
      {
        "duration": 3,
        "start_time": "2023-04-28T12:46:10.725Z"
      },
      {
        "duration": 6,
        "start_time": "2023-04-28T12:46:10.729Z"
      },
      {
        "duration": 20,
        "start_time": "2023-04-28T12:46:10.737Z"
      },
      {
        "duration": 6,
        "start_time": "2023-04-28T12:46:10.758Z"
      },
      {
        "duration": 6,
        "start_time": "2023-04-28T12:46:10.765Z"
      },
      {
        "duration": 10,
        "start_time": "2023-04-28T12:46:10.772Z"
      },
      {
        "duration": 6,
        "start_time": "2023-04-28T12:46:10.783Z"
      },
      {
        "duration": 9,
        "start_time": "2023-04-28T12:46:10.790Z"
      },
      {
        "duration": 56,
        "start_time": "2023-04-28T12:46:10.801Z"
      },
      {
        "duration": 192,
        "start_time": "2023-04-28T13:49:36.878Z"
      },
      {
        "duration": 13,
        "start_time": "2023-04-28T13:53:31.461Z"
      },
      {
        "duration": 6145,
        "start_time": "2023-04-28T13:55:20.247Z"
      },
      {
        "duration": 172,
        "start_time": "2023-04-28T13:55:35.009Z"
      },
      {
        "duration": 127,
        "start_time": "2023-04-28T13:55:38.450Z"
      },
      {
        "duration": 23,
        "start_time": "2023-04-28T15:02:19.852Z"
      },
      {
        "duration": 105,
        "start_time": "2023-04-28T15:02:43.546Z"
      },
      {
        "duration": 4,
        "start_time": "2023-04-28T15:02:46.987Z"
      },
      {
        "duration": 2,
        "start_time": "2023-04-28T15:05:33.518Z"
      },
      {
        "duration": 591,
        "start_time": "2023-04-28T15:05:40.586Z"
      },
      {
        "duration": 684,
        "start_time": "2023-04-28T15:05:41.179Z"
      },
      {
        "duration": 14,
        "start_time": "2023-04-28T15:05:41.865Z"
      },
      {
        "duration": 16,
        "start_time": "2023-04-28T15:05:41.880Z"
      },
      {
        "duration": 16,
        "start_time": "2023-04-28T15:05:41.898Z"
      },
      {
        "duration": 3,
        "start_time": "2023-04-28T15:05:41.916Z"
      },
      {
        "duration": 32,
        "start_time": "2023-04-28T15:05:41.920Z"
      },
      {
        "duration": 12,
        "start_time": "2023-04-28T15:05:41.954Z"
      },
      {
        "duration": 15,
        "start_time": "2023-04-28T15:05:41.967Z"
      },
      {
        "duration": 9,
        "start_time": "2023-04-28T15:05:41.983Z"
      },
      {
        "duration": 25,
        "start_time": "2023-04-28T15:05:41.993Z"
      },
      {
        "duration": 6,
        "start_time": "2023-04-28T15:05:42.019Z"
      },
      {
        "duration": 11,
        "start_time": "2023-04-28T15:05:42.026Z"
      },
      {
        "duration": 24,
        "start_time": "2023-04-28T15:05:42.039Z"
      },
      {
        "duration": 4,
        "start_time": "2023-04-28T15:05:42.065Z"
      },
      {
        "duration": 76,
        "start_time": "2023-04-28T15:06:23.669Z"
      },
      {
        "duration": 489,
        "start_time": "2023-04-28T15:08:02.621Z"
      },
      {
        "duration": 499,
        "start_time": "2023-04-28T15:08:46.880Z"
      },
      {
        "duration": 490,
        "start_time": "2023-04-28T15:09:00.284Z"
      },
      {
        "duration": 539,
        "start_time": "2023-04-28T15:14:26.047Z"
      },
      {
        "duration": 485,
        "start_time": "2023-04-28T15:14:32.342Z"
      },
      {
        "duration": 487,
        "start_time": "2023-04-28T15:14:59.599Z"
      },
      {
        "duration": 568,
        "start_time": "2023-04-28T15:15:37.090Z"
      },
      {
        "duration": 478,
        "start_time": "2023-04-28T15:16:35.115Z"
      },
      {
        "duration": 466,
        "start_time": "2023-04-28T15:17:03.516Z"
      },
      {
        "duration": 558,
        "start_time": "2023-04-28T15:17:35.831Z"
      },
      {
        "duration": 476,
        "start_time": "2023-04-28T15:18:08.445Z"
      },
      {
        "duration": 469,
        "start_time": "2023-04-28T15:19:51.483Z"
      },
      {
        "duration": 556,
        "start_time": "2023-04-28T15:20:03.243Z"
      },
      {
        "duration": 8,
        "start_time": "2023-04-28T15:21:34.600Z"
      },
      {
        "duration": 1262,
        "start_time": "2023-04-28T15:21:46.741Z"
      },
      {
        "duration": 8,
        "start_time": "2023-04-28T15:21:54.501Z"
      },
      {
        "duration": 5,
        "start_time": "2023-04-28T15:23:34.140Z"
      },
      {
        "duration": 9,
        "start_time": "2023-04-28T15:23:49.006Z"
      },
      {
        "duration": 501,
        "start_time": "2023-04-28T15:24:19.701Z"
      },
      {
        "duration": 820,
        "start_time": "2023-04-29T22:02:45.258Z"
      },
      {
        "duration": 1857,
        "start_time": "2023-04-29T22:02:46.081Z"
      },
      {
        "duration": 16,
        "start_time": "2023-04-29T22:02:47.940Z"
      },
      {
        "duration": 17,
        "start_time": "2023-04-29T22:02:47.957Z"
      },
      {
        "duration": 23,
        "start_time": "2023-04-29T22:02:47.976Z"
      },
      {
        "duration": 3,
        "start_time": "2023-04-29T22:02:48.001Z"
      },
      {
        "duration": 8,
        "start_time": "2023-04-29T22:02:48.006Z"
      },
      {
        "duration": 10,
        "start_time": "2023-04-29T22:02:48.015Z"
      },
      {
        "duration": 8,
        "start_time": "2023-04-29T22:02:48.026Z"
      },
      {
        "duration": 10,
        "start_time": "2023-04-29T22:02:48.036Z"
      },
      {
        "duration": 41,
        "start_time": "2023-04-29T22:02:48.048Z"
      },
      {
        "duration": 11,
        "start_time": "2023-04-29T22:02:48.091Z"
      },
      {
        "duration": 10,
        "start_time": "2023-04-29T22:02:48.104Z"
      },
      {
        "duration": 25,
        "start_time": "2023-04-29T22:02:48.116Z"
      },
      {
        "duration": 687,
        "start_time": "2023-04-29T22:02:48.142Z"
      },
      {
        "duration": 8,
        "start_time": "2023-04-29T22:02:48.831Z"
      },
      {
        "duration": 4,
        "start_time": "2023-04-29T22:03:42.543Z"
      },
      {
        "duration": 527,
        "start_time": "2023-04-29T22:04:48.713Z"
      },
      {
        "duration": 528,
        "start_time": "2023-04-29T22:05:46.242Z"
      },
      {
        "duration": 611,
        "start_time": "2023-04-29T22:06:19.726Z"
      },
      {
        "duration": 524,
        "start_time": "2023-04-29T22:06:35.590Z"
      },
      {
        "duration": 532,
        "start_time": "2023-04-29T22:07:38.641Z"
      },
      {
        "duration": 605,
        "start_time": "2023-04-29T22:08:45.153Z"
      },
      {
        "duration": 539,
        "start_time": "2023-04-29T22:09:16.481Z"
      },
      {
        "duration": 540,
        "start_time": "2023-04-29T22:10:13.408Z"
      },
      {
        "duration": 635,
        "start_time": "2023-04-29T22:10:22.864Z"
      },
      {
        "duration": 576,
        "start_time": "2023-04-29T22:10:29.901Z"
      },
      {
        "duration": 684,
        "start_time": "2023-04-29T22:10:56.583Z"
      },
      {
        "duration": 579,
        "start_time": "2023-04-29T22:11:04.607Z"
      },
      {
        "duration": 551,
        "start_time": "2023-04-29T22:11:28.581Z"
      },
      {
        "duration": 663,
        "start_time": "2023-04-29T22:11:35.810Z"
      },
      {
        "duration": 719,
        "start_time": "2023-04-29T22:11:43.634Z"
      },
      {
        "duration": 558,
        "start_time": "2023-04-29T22:11:49.515Z"
      },
      {
        "duration": 384,
        "start_time": "2023-04-29T22:13:31.471Z"
      },
      {
        "duration": 552,
        "start_time": "2023-04-29T22:13:52.410Z"
      },
      {
        "duration": 946,
        "start_time": "2023-04-30T10:45:30.179Z"
      },
      {
        "duration": 2686,
        "start_time": "2023-04-30T10:45:31.135Z"
      },
      {
        "duration": 22,
        "start_time": "2023-04-30T10:45:33.830Z"
      },
      {
        "duration": 16,
        "start_time": "2023-04-30T10:45:33.854Z"
      },
      {
        "duration": 40,
        "start_time": "2023-04-30T10:45:33.871Z"
      },
      {
        "duration": 10,
        "start_time": "2023-04-30T10:45:33.915Z"
      },
      {
        "duration": 14,
        "start_time": "2023-04-30T10:45:33.927Z"
      },
      {
        "duration": 9,
        "start_time": "2023-04-30T10:45:33.944Z"
      },
      {
        "duration": 7,
        "start_time": "2023-04-30T10:45:33.955Z"
      },
      {
        "duration": 7,
        "start_time": "2023-04-30T10:45:33.964Z"
      },
      {
        "duration": 10,
        "start_time": "2023-04-30T10:45:33.972Z"
      },
      {
        "duration": 6,
        "start_time": "2023-04-30T10:45:33.983Z"
      },
      {
        "duration": 11,
        "start_time": "2023-04-30T10:45:33.990Z"
      },
      {
        "duration": 31,
        "start_time": "2023-04-30T10:45:34.003Z"
      },
      {
        "duration": 699,
        "start_time": "2023-04-30T10:45:34.035Z"
      },
      {
        "duration": 763,
        "start_time": "2023-04-30T10:45:34.740Z"
      },
      {
        "duration": 685,
        "start_time": "2023-04-30T10:45:35.505Z"
      },
      {
        "duration": 95,
        "start_time": "2023-04-30T11:07:15.421Z"
      },
      {
        "duration": 11,
        "start_time": "2023-04-30T11:07:32.944Z"
      },
      {
        "duration": 149,
        "start_time": "2023-04-30T11:07:51.023Z"
      },
      {
        "duration": 10,
        "start_time": "2023-04-30T11:08:21.823Z"
      },
      {
        "duration": 683,
        "start_time": "2023-04-30T11:15:26.380Z"
      },
      {
        "duration": 1777,
        "start_time": "2023-04-30T11:16:57.731Z"
      },
      {
        "duration": 814,
        "start_time": "2023-04-30T11:18:03.925Z"
      },
      {
        "duration": 890,
        "start_time": "2023-04-30T11:18:15.565Z"
      },
      {
        "duration": 752,
        "start_time": "2023-04-30T11:18:40.779Z"
      },
      {
        "duration": 564,
        "start_time": "2023-04-30T11:19:26.086Z"
      },
      {
        "duration": 646,
        "start_time": "2023-04-30T11:19:51.757Z"
      },
      {
        "duration": 21,
        "start_time": "2023-04-30T11:20:10.630Z"
      },
      {
        "duration": 702,
        "start_time": "2023-04-30T11:20:26.260Z"
      },
      {
        "duration": 580,
        "start_time": "2023-04-30T11:21:43.771Z"
      },
      {
        "duration": 603,
        "start_time": "2023-04-30T11:23:39.180Z"
      },
      {
        "duration": 14,
        "start_time": "2023-04-30T11:25:43.921Z"
      },
      {
        "duration": 13,
        "start_time": "2023-04-30T11:32:22.878Z"
      },
      {
        "duration": 1447,
        "start_time": "2023-04-30T11:32:51.525Z"
      },
      {
        "duration": 939,
        "start_time": "2023-04-30T11:32:52.977Z"
      },
      {
        "duration": 22,
        "start_time": "2023-04-30T11:32:53.918Z"
      },
      {
        "duration": 32,
        "start_time": "2023-04-30T11:32:53.946Z"
      },
      {
        "duration": 30,
        "start_time": "2023-04-30T11:32:53.980Z"
      },
      {
        "duration": 14,
        "start_time": "2023-04-30T11:32:54.013Z"
      },
      {
        "duration": 13,
        "start_time": "2023-04-30T11:32:54.034Z"
      },
      {
        "duration": 22,
        "start_time": "2023-04-30T11:32:54.053Z"
      },
      {
        "duration": 7,
        "start_time": "2023-04-30T11:32:54.078Z"
      },
      {
        "duration": 25,
        "start_time": "2023-04-30T11:32:54.087Z"
      },
      {
        "duration": 14,
        "start_time": "2023-04-30T11:32:54.115Z"
      },
      {
        "duration": 19,
        "start_time": "2023-04-30T11:32:54.131Z"
      },
      {
        "duration": 15,
        "start_time": "2023-04-30T11:32:54.155Z"
      },
      {
        "duration": 31,
        "start_time": "2023-04-30T11:32:54.175Z"
      },
      {
        "duration": 775,
        "start_time": "2023-04-30T11:32:54.213Z"
      },
      {
        "duration": 832,
        "start_time": "2023-04-30T11:32:54.990Z"
      },
      {
        "duration": 897,
        "start_time": "2023-04-30T11:32:55.824Z"
      },
      {
        "duration": 623,
        "start_time": "2023-04-30T11:32:56.723Z"
      },
      {
        "duration": 16,
        "start_time": "2023-04-30T11:32:57.358Z"
      },
      {
        "duration": 16,
        "start_time": "2023-04-30T11:32:57.380Z"
      },
      {
        "duration": 30,
        "start_time": "2023-04-30T11:32:57.403Z"
      },
      {
        "duration": 148,
        "start_time": "2023-04-30T11:32:57.435Z"
      },
      {
        "duration": 150,
        "start_time": "2023-04-30T11:34:05.798Z"
      },
      {
        "duration": 140,
        "start_time": "2023-04-30T11:34:53.430Z"
      },
      {
        "duration": 122,
        "start_time": "2023-04-30T11:35:17.545Z"
      },
      {
        "duration": 206,
        "start_time": "2023-04-30T11:35:29.925Z"
      },
      {
        "duration": 136,
        "start_time": "2023-04-30T11:36:05.295Z"
      },
      {
        "duration": 118,
        "start_time": "2023-04-30T11:36:27.767Z"
      },
      {
        "duration": 147,
        "start_time": "2023-04-30T11:36:33.228Z"
      },
      {
        "duration": 142,
        "start_time": "2023-04-30T11:37:40.335Z"
      },
      {
        "duration": 190,
        "start_time": "2023-04-30T11:37:52.087Z"
      },
      {
        "duration": 1499,
        "start_time": "2023-04-30T11:38:22.680Z"
      },
      {
        "duration": 1161,
        "start_time": "2023-04-30T11:38:24.185Z"
      },
      {
        "duration": 27,
        "start_time": "2023-04-30T11:38:25.348Z"
      },
      {
        "duration": 40,
        "start_time": "2023-04-30T11:38:25.379Z"
      },
      {
        "duration": 53,
        "start_time": "2023-04-30T11:38:25.429Z"
      },
      {
        "duration": 8,
        "start_time": "2023-04-30T11:38:25.501Z"
      },
      {
        "duration": 17,
        "start_time": "2023-04-30T11:38:25.511Z"
      },
      {
        "duration": 32,
        "start_time": "2023-04-30T11:38:25.530Z"
      },
      {
        "duration": 18,
        "start_time": "2023-04-30T11:38:25.564Z"
      },
      {
        "duration": 10,
        "start_time": "2023-04-30T11:38:25.585Z"
      },
      {
        "duration": 27,
        "start_time": "2023-04-30T11:38:25.602Z"
      },
      {
        "duration": 27,
        "start_time": "2023-04-30T11:38:25.632Z"
      },
      {
        "duration": 14,
        "start_time": "2023-04-30T11:38:25.663Z"
      },
      {
        "duration": 31,
        "start_time": "2023-04-30T11:38:25.681Z"
      },
      {
        "duration": 794,
        "start_time": "2023-04-30T11:38:25.714Z"
      },
      {
        "duration": 802,
        "start_time": "2023-04-30T11:38:26.515Z"
      },
      {
        "duration": 894,
        "start_time": "2023-04-30T11:38:27.322Z"
      },
      {
        "duration": 598,
        "start_time": "2023-04-30T11:38:28.218Z"
      },
      {
        "duration": 13,
        "start_time": "2023-04-30T11:38:28.821Z"
      },
      {
        "duration": 13,
        "start_time": "2023-04-30T11:38:28.839Z"
      },
      {
        "duration": 7,
        "start_time": "2023-04-30T11:38:28.854Z"
      },
      {
        "duration": 120,
        "start_time": "2023-04-30T11:38:28.863Z"
      },
      {
        "duration": 142,
        "start_time": "2023-04-30T11:38:28.986Z"
      },
      {
        "duration": 138,
        "start_time": "2023-04-30T11:38:37.826Z"
      },
      {
        "duration": 133,
        "start_time": "2023-04-30T11:38:45.511Z"
      },
      {
        "duration": 238,
        "start_time": "2023-04-30T11:39:23.321Z"
      },
      {
        "duration": 101,
        "start_time": "2023-04-30T11:57:01.977Z"
      },
      {
        "duration": 135,
        "start_time": "2023-04-30T12:02:47.446Z"
      },
      {
        "duration": 14,
        "start_time": "2023-04-30T12:03:10.232Z"
      },
      {
        "duration": 26,
        "start_time": "2023-04-30T12:03:19.221Z"
      },
      {
        "duration": 11,
        "start_time": "2023-04-30T12:11:33.716Z"
      },
      {
        "duration": 7,
        "start_time": "2023-04-30T12:14:58.116Z"
      },
      {
        "duration": 8,
        "start_time": "2023-04-30T12:15:07.774Z"
      },
      {
        "duration": 7,
        "start_time": "2023-04-30T12:48:16.249Z"
      },
      {
        "duration": 714,
        "start_time": "2023-04-30T12:49:07.675Z"
      },
      {
        "duration": 719,
        "start_time": "2023-04-30T12:49:32.665Z"
      },
      {
        "duration": 952,
        "start_time": "2023-04-30T14:52:48.571Z"
      },
      {
        "duration": 867,
        "start_time": "2023-04-30T15:00:30.532Z"
      },
      {
        "duration": 796,
        "start_time": "2023-04-30T15:09:16.119Z"
      },
      {
        "duration": 4,
        "start_time": "2023-04-30T16:07:44.387Z"
      },
      {
        "duration": 1328,
        "start_time": "2023-04-30T20:32:20.385Z"
      },
      {
        "duration": 3240,
        "start_time": "2023-04-30T20:32:21.716Z"
      },
      {
        "duration": 15,
        "start_time": "2023-04-30T20:32:24.957Z"
      },
      {
        "duration": 33,
        "start_time": "2023-04-30T20:32:24.974Z"
      },
      {
        "duration": 22,
        "start_time": "2023-04-30T20:32:25.009Z"
      },
      {
        "duration": 15,
        "start_time": "2023-04-30T20:32:25.033Z"
      },
      {
        "duration": 26,
        "start_time": "2023-04-30T20:32:25.050Z"
      },
      {
        "duration": 45,
        "start_time": "2023-04-30T20:32:25.078Z"
      },
      {
        "duration": 26,
        "start_time": "2023-04-30T20:32:25.125Z"
      },
      {
        "duration": 35,
        "start_time": "2023-04-30T20:32:25.152Z"
      },
      {
        "duration": 21,
        "start_time": "2023-04-30T20:32:25.188Z"
      },
      {
        "duration": 30,
        "start_time": "2023-04-30T20:32:25.211Z"
      },
      {
        "duration": 26,
        "start_time": "2023-04-30T20:32:25.242Z"
      },
      {
        "duration": 40,
        "start_time": "2023-04-30T20:32:25.271Z"
      },
      {
        "duration": 591,
        "start_time": "2023-04-30T20:32:25.313Z"
      },
      {
        "duration": 620,
        "start_time": "2023-04-30T20:32:25.906Z"
      },
      {
        "duration": 542,
        "start_time": "2023-04-30T20:32:26.529Z"
      },
      {
        "duration": 410,
        "start_time": "2023-04-30T20:32:27.073Z"
      },
      {
        "duration": 8,
        "start_time": "2023-04-30T20:32:27.485Z"
      },
      {
        "duration": 16,
        "start_time": "2023-04-30T20:32:27.495Z"
      },
      {
        "duration": 98,
        "start_time": "2023-04-30T20:32:27.512Z"
      },
      {
        "duration": 104,
        "start_time": "2023-04-30T20:32:27.612Z"
      },
      {
        "duration": 6,
        "start_time": "2023-04-30T20:32:27.717Z"
      },
      {
        "duration": 635,
        "start_time": "2023-04-30T20:32:27.725Z"
      },
      {
        "duration": 3,
        "start_time": "2023-04-30T20:32:28.362Z"
      },
      {
        "duration": 104,
        "start_time": "2023-04-30T20:47:52.458Z"
      },
      {
        "duration": 4,
        "start_time": "2023-04-30T20:48:03.236Z"
      },
      {
        "duration": 3,
        "start_time": "2023-04-30T20:48:38.963Z"
      },
      {
        "duration": 27,
        "start_time": "2023-04-30T20:48:47.605Z"
      },
      {
        "duration": 16,
        "start_time": "2023-04-30T20:49:03.751Z"
      },
      {
        "duration": 10,
        "start_time": "2023-04-30T20:49:31.863Z"
      },
      {
        "duration": 3,
        "start_time": "2023-04-30T20:49:54.399Z"
      },
      {
        "duration": 6,
        "start_time": "2023-04-30T20:50:01.241Z"
      },
      {
        "duration": 5,
        "start_time": "2023-04-30T20:50:11.357Z"
      },
      {
        "duration": 1228,
        "start_time": "2023-04-30T20:50:28.572Z"
      },
      {
        "duration": 769,
        "start_time": "2023-04-30T20:50:29.803Z"
      },
      {
        "duration": 34,
        "start_time": "2023-04-30T20:50:30.574Z"
      },
      {
        "duration": 36,
        "start_time": "2023-04-30T20:50:30.611Z"
      },
      {
        "duration": 28,
        "start_time": "2023-04-30T20:50:30.650Z"
      },
      {
        "duration": 25,
        "start_time": "2023-04-30T20:50:30.680Z"
      },
      {
        "duration": 32,
        "start_time": "2023-04-30T20:50:30.707Z"
      },
      {
        "duration": 29,
        "start_time": "2023-04-30T20:50:30.741Z"
      },
      {
        "duration": 37,
        "start_time": "2023-04-30T20:50:30.772Z"
      },
      {
        "duration": 31,
        "start_time": "2023-04-30T20:50:30.811Z"
      },
      {
        "duration": 58,
        "start_time": "2023-04-30T20:50:30.844Z"
      },
      {
        "duration": 18,
        "start_time": "2023-04-30T20:50:30.904Z"
      },
      {
        "duration": 32,
        "start_time": "2023-04-30T20:50:30.924Z"
      },
      {
        "duration": 65,
        "start_time": "2023-04-30T20:50:30.957Z"
      },
      {
        "duration": 590,
        "start_time": "2023-04-30T20:50:31.023Z"
      },
      {
        "duration": 633,
        "start_time": "2023-04-30T20:50:31.615Z"
      },
      {
        "duration": 676,
        "start_time": "2023-04-30T20:50:32.250Z"
      },
      {
        "duration": 430,
        "start_time": "2023-04-30T20:50:32.927Z"
      },
      {
        "duration": 10,
        "start_time": "2023-04-30T20:50:33.358Z"
      },
      {
        "duration": 23,
        "start_time": "2023-04-30T20:50:33.369Z"
      },
      {
        "duration": 116,
        "start_time": "2023-04-30T20:50:33.394Z"
      },
      {
        "duration": 116,
        "start_time": "2023-04-30T20:50:33.511Z"
      },
      {
        "duration": 6,
        "start_time": "2023-04-30T20:50:33.629Z"
      },
      {
        "duration": 669,
        "start_time": "2023-04-30T20:50:33.637Z"
      },
      {
        "duration": 2,
        "start_time": "2023-04-30T20:50:34.308Z"
      },
      {
        "duration": 111,
        "start_time": "2023-04-30T20:50:34.312Z"
      },
      {
        "duration": 0,
        "start_time": "2023-04-30T20:50:34.425Z"
      },
      {
        "duration": 19,
        "start_time": "2023-04-30T20:50:39.841Z"
      },
      {
        "duration": 12,
        "start_time": "2023-04-30T20:50:57.408Z"
      },
      {
        "duration": 13,
        "start_time": "2023-04-30T20:55:56.078Z"
      },
      {
        "duration": 15,
        "start_time": "2023-04-30T21:02:07.570Z"
      },
      {
        "duration": 16,
        "start_time": "2023-04-30T21:02:42.441Z"
      },
      {
        "duration": 11,
        "start_time": "2023-04-30T21:08:37.476Z"
      },
      {
        "duration": 3,
        "start_time": "2023-04-30T21:09:12.923Z"
      },
      {
        "duration": 9,
        "start_time": "2023-04-30T21:09:29.920Z"
      },
      {
        "duration": 10,
        "start_time": "2023-04-30T21:09:52.459Z"
      },
      {
        "duration": 8,
        "start_time": "2023-04-30T21:10:03.292Z"
      },
      {
        "duration": 5,
        "start_time": "2023-04-30T21:13:25.501Z"
      },
      {
        "duration": 18,
        "start_time": "2023-04-30T21:13:42.788Z"
      },
      {
        "duration": 16,
        "start_time": "2023-04-30T21:17:13.970Z"
      },
      {
        "duration": 45,
        "start_time": "2023-04-30T21:18:19.946Z"
      },
      {
        "duration": 37,
        "start_time": "2023-04-30T21:19:00.768Z"
      },
      {
        "duration": 15,
        "start_time": "2023-04-30T21:19:29.312Z"
      },
      {
        "duration": 9,
        "start_time": "2023-04-30T21:20:35.335Z"
      },
      {
        "duration": 20,
        "start_time": "2023-04-30T21:20:51.998Z"
      },
      {
        "duration": 39,
        "start_time": "2023-04-30T21:21:00.259Z"
      },
      {
        "duration": 27,
        "start_time": "2023-04-30T21:21:15.335Z"
      },
      {
        "duration": 30,
        "start_time": "2023-04-30T21:21:37.904Z"
      },
      {
        "duration": 28,
        "start_time": "2023-04-30T21:21:45.921Z"
      },
      {
        "duration": 1246,
        "start_time": "2023-05-01T13:44:51.160Z"
      },
      {
        "duration": 3076,
        "start_time": "2023-05-01T13:44:52.408Z"
      },
      {
        "duration": 14,
        "start_time": "2023-05-01T13:44:55.485Z"
      },
      {
        "duration": 26,
        "start_time": "2023-05-01T13:44:55.502Z"
      },
      {
        "duration": 15,
        "start_time": "2023-05-01T13:44:55.530Z"
      },
      {
        "duration": 14,
        "start_time": "2023-05-01T13:44:55.547Z"
      },
      {
        "duration": 9,
        "start_time": "2023-05-01T13:44:55.562Z"
      },
      {
        "duration": 12,
        "start_time": "2023-05-01T13:44:55.572Z"
      },
      {
        "duration": 14,
        "start_time": "2023-05-01T13:44:55.585Z"
      },
      {
        "duration": 15,
        "start_time": "2023-05-01T13:44:55.601Z"
      },
      {
        "duration": 16,
        "start_time": "2023-05-01T13:44:55.617Z"
      },
      {
        "duration": 8,
        "start_time": "2023-05-01T13:44:55.635Z"
      },
      {
        "duration": 22,
        "start_time": "2023-05-01T13:44:55.645Z"
      },
      {
        "duration": 36,
        "start_time": "2023-05-01T13:44:55.668Z"
      },
      {
        "duration": 539,
        "start_time": "2023-05-01T13:44:55.706Z"
      },
      {
        "duration": 626,
        "start_time": "2023-05-01T13:44:56.247Z"
      },
      {
        "duration": 609,
        "start_time": "2023-05-01T13:44:56.874Z"
      },
      {
        "duration": 390,
        "start_time": "2023-05-01T13:44:57.485Z"
      },
      {
        "duration": 8,
        "start_time": "2023-05-01T13:44:57.878Z"
      },
      {
        "duration": 14,
        "start_time": "2023-05-01T13:44:57.888Z"
      },
      {
        "duration": 106,
        "start_time": "2023-05-01T13:44:57.903Z"
      },
      {
        "duration": 110,
        "start_time": "2023-05-01T13:44:58.013Z"
      },
      {
        "duration": 13,
        "start_time": "2023-05-01T13:44:58.124Z"
      },
      {
        "duration": 572,
        "start_time": "2023-05-01T13:44:58.138Z"
      },
      {
        "duration": 4,
        "start_time": "2023-05-01T13:44:58.711Z"
      },
      {
        "duration": 47,
        "start_time": "2023-05-01T13:44:58.716Z"
      },
      {
        "duration": 31,
        "start_time": "2023-05-01T13:44:58.765Z"
      },
      {
        "duration": 4,
        "start_time": "2023-05-01T13:44:58.800Z"
      },
      {
        "duration": 1465,
        "start_time": "2023-05-01T13:49:03.846Z"
      },
      {
        "duration": 1165,
        "start_time": "2023-05-01T13:49:12.410Z"
      },
      {
        "duration": 672,
        "start_time": "2023-05-01T13:49:13.577Z"
      },
      {
        "duration": 13,
        "start_time": "2023-05-01T13:49:14.251Z"
      },
      {
        "duration": 16,
        "start_time": "2023-05-01T13:49:14.265Z"
      },
      {
        "duration": 15,
        "start_time": "2023-05-01T13:49:14.283Z"
      },
      {
        "duration": 2,
        "start_time": "2023-05-01T13:49:14.300Z"
      },
      {
        "duration": 31,
        "start_time": "2023-05-01T13:49:14.304Z"
      },
      {
        "duration": 7,
        "start_time": "2023-05-01T13:49:14.336Z"
      },
      {
        "duration": 9,
        "start_time": "2023-05-01T13:49:14.344Z"
      },
      {
        "duration": 9,
        "start_time": "2023-05-01T13:49:14.354Z"
      },
      {
        "duration": 12,
        "start_time": "2023-05-01T13:49:14.364Z"
      },
      {
        "duration": 5,
        "start_time": "2023-05-01T13:49:14.378Z"
      },
      {
        "duration": 12,
        "start_time": "2023-05-01T13:49:14.384Z"
      },
      {
        "duration": 45,
        "start_time": "2023-05-01T13:49:14.398Z"
      },
      {
        "duration": 527,
        "start_time": "2023-05-01T13:49:14.444Z"
      },
      {
        "duration": 530,
        "start_time": "2023-05-01T13:49:14.973Z"
      },
      {
        "duration": 597,
        "start_time": "2023-05-01T13:49:15.505Z"
      },
      {
        "duration": 389,
        "start_time": "2023-05-01T13:49:16.103Z"
      },
      {
        "duration": 8,
        "start_time": "2023-05-01T13:49:16.493Z"
      },
      {
        "duration": 7,
        "start_time": "2023-05-01T13:49:16.502Z"
      },
      {
        "duration": 106,
        "start_time": "2023-05-01T13:49:16.511Z"
      },
      {
        "duration": 101,
        "start_time": "2023-05-01T13:49:16.618Z"
      },
      {
        "duration": 18,
        "start_time": "2023-05-01T13:49:16.721Z"
      },
      {
        "duration": 671,
        "start_time": "2023-05-01T13:49:16.742Z"
      },
      {
        "duration": 3,
        "start_time": "2023-05-01T13:49:17.415Z"
      },
      {
        "duration": 48,
        "start_time": "2023-05-01T13:49:17.419Z"
      },
      {
        "duration": 1428,
        "start_time": "2023-05-01T13:49:17.468Z"
      },
      {
        "duration": 0,
        "start_time": "2023-05-01T13:49:18.897Z"
      },
      {
        "duration": 26,
        "start_time": "2023-05-01T13:49:28.906Z"
      },
      {
        "duration": 7,
        "start_time": "2023-05-01T13:50:14.133Z"
      },
      {
        "duration": 4,
        "start_time": "2023-05-01T13:51:21.417Z"
      },
      {
        "duration": 5,
        "start_time": "2023-05-01T13:52:00.049Z"
      },
      {
        "duration": 31,
        "start_time": "2023-05-01T14:07:11.406Z"
      },
      {
        "duration": 9,
        "start_time": "2023-05-01T14:13:11.342Z"
      },
      {
        "duration": 1216,
        "start_time": "2023-05-01T14:13:46.311Z"
      },
      {
        "duration": 703,
        "start_time": "2023-05-01T14:13:47.529Z"
      },
      {
        "duration": 16,
        "start_time": "2023-05-01T14:13:48.234Z"
      },
      {
        "duration": 27,
        "start_time": "2023-05-01T14:13:48.252Z"
      },
      {
        "duration": 29,
        "start_time": "2023-05-01T14:13:48.280Z"
      },
      {
        "duration": 17,
        "start_time": "2023-05-01T14:13:48.311Z"
      },
      {
        "duration": 31,
        "start_time": "2023-05-01T14:13:48.329Z"
      },
      {
        "duration": 34,
        "start_time": "2023-05-01T14:13:48.362Z"
      },
      {
        "duration": 23,
        "start_time": "2023-05-01T14:13:48.398Z"
      },
      {
        "duration": 23,
        "start_time": "2023-05-01T14:13:48.425Z"
      },
      {
        "duration": 38,
        "start_time": "2023-05-01T14:13:48.450Z"
      },
      {
        "duration": 18,
        "start_time": "2023-05-01T14:13:48.489Z"
      },
      {
        "duration": 24,
        "start_time": "2023-05-01T14:13:48.509Z"
      },
      {
        "duration": 29,
        "start_time": "2023-05-01T14:13:48.535Z"
      },
      {
        "duration": 581,
        "start_time": "2023-05-01T14:13:48.566Z"
      },
      {
        "duration": 584,
        "start_time": "2023-05-01T14:13:49.149Z"
      },
      {
        "duration": 624,
        "start_time": "2023-05-01T14:13:49.735Z"
      },
      {
        "duration": 391,
        "start_time": "2023-05-01T14:13:50.360Z"
      },
      {
        "duration": 8,
        "start_time": "2023-05-01T14:13:50.752Z"
      },
      {
        "duration": 14,
        "start_time": "2023-05-01T14:13:50.761Z"
      },
      {
        "duration": 98,
        "start_time": "2023-05-01T14:13:50.776Z"
      },
      {
        "duration": 93,
        "start_time": "2023-05-01T14:13:50.876Z"
      },
      {
        "duration": 6,
        "start_time": "2023-05-01T14:13:50.971Z"
      },
      {
        "duration": 577,
        "start_time": "2023-05-01T14:13:50.978Z"
      },
      {
        "duration": 4,
        "start_time": "2023-05-01T14:13:51.556Z"
      },
      {
        "duration": 45,
        "start_time": "2023-05-01T14:13:51.561Z"
      },
      {
        "duration": 33,
        "start_time": "2023-05-01T14:13:51.607Z"
      },
      {
        "duration": 3,
        "start_time": "2023-05-01T14:13:51.643Z"
      },
      {
        "duration": 8,
        "start_time": "2023-05-01T14:13:51.648Z"
      },
      {
        "duration": 162,
        "start_time": "2023-05-01T14:13:51.658Z"
      },
      {
        "duration": 8,
        "start_time": "2023-05-01T14:17:19.194Z"
      },
      {
        "duration": 9,
        "start_time": "2023-05-01T14:19:01.427Z"
      },
      {
        "duration": 32,
        "start_time": "2023-05-01T14:19:17.254Z"
      },
      {
        "duration": 9,
        "start_time": "2023-05-01T14:19:26.882Z"
      },
      {
        "duration": 20,
        "start_time": "2023-05-01T14:19:58.531Z"
      },
      {
        "duration": 2474,
        "start_time": "2023-05-01T14:20:20.303Z"
      },
      {
        "duration": 1776,
        "start_time": "2023-05-01T14:20:26.618Z"
      },
      {
        "duration": 6,
        "start_time": "2023-05-01T14:20:44.084Z"
      },
      {
        "duration": 31,
        "start_time": "2023-05-01T14:20:48.291Z"
      },
      {
        "duration": 13,
        "start_time": "2023-05-01T14:40:29.473Z"
      },
      {
        "duration": 13,
        "start_time": "2023-05-01T14:42:15.824Z"
      },
      {
        "duration": 44,
        "start_time": "2023-05-01T14:42:23.732Z"
      },
      {
        "duration": 12,
        "start_time": "2023-05-01T14:46:41.335Z"
      },
      {
        "duration": 25,
        "start_time": "2023-05-01T14:54:50.115Z"
      },
      {
        "duration": 26,
        "start_time": "2023-05-01T14:54:56.902Z"
      },
      {
        "duration": 9,
        "start_time": "2023-05-01T17:56:21.582Z"
      },
      {
        "duration": 1089,
        "start_time": "2023-05-01T17:56:34.630Z"
      },
      {
        "duration": 670,
        "start_time": "2023-05-01T17:56:35.721Z"
      },
      {
        "duration": 13,
        "start_time": "2023-05-01T17:56:36.395Z"
      },
      {
        "duration": 27,
        "start_time": "2023-05-01T17:56:36.410Z"
      },
      {
        "duration": 13,
        "start_time": "2023-05-01T17:56:36.439Z"
      },
      {
        "duration": 2,
        "start_time": "2023-05-01T17:56:36.454Z"
      },
      {
        "duration": 9,
        "start_time": "2023-05-01T17:56:36.458Z"
      },
      {
        "duration": 20,
        "start_time": "2023-05-01T17:56:36.469Z"
      },
      {
        "duration": 19,
        "start_time": "2023-05-01T17:56:36.490Z"
      },
      {
        "duration": 8,
        "start_time": "2023-05-01T17:56:36.512Z"
      },
      {
        "duration": 16,
        "start_time": "2023-05-01T17:56:36.522Z"
      },
      {
        "duration": 15,
        "start_time": "2023-05-01T17:56:36.539Z"
      },
      {
        "duration": 32,
        "start_time": "2023-05-01T17:56:36.558Z"
      },
      {
        "duration": 27,
        "start_time": "2023-05-01T17:56:36.592Z"
      },
      {
        "duration": 571,
        "start_time": "2023-05-01T17:56:36.621Z"
      },
      {
        "duration": 529,
        "start_time": "2023-05-01T17:56:37.194Z"
      },
      {
        "duration": 606,
        "start_time": "2023-05-01T17:56:37.724Z"
      },
      {
        "duration": 397,
        "start_time": "2023-05-01T17:56:38.333Z"
      },
      {
        "duration": 8,
        "start_time": "2023-05-01T17:56:38.732Z"
      },
      {
        "duration": 11,
        "start_time": "2023-05-01T17:56:38.741Z"
      },
      {
        "duration": 94,
        "start_time": "2023-05-01T17:56:38.754Z"
      },
      {
        "duration": 104,
        "start_time": "2023-05-01T17:56:38.850Z"
      },
      {
        "duration": 6,
        "start_time": "2023-05-01T17:56:38.956Z"
      },
      {
        "duration": 614,
        "start_time": "2023-05-01T17:56:38.964Z"
      },
      {
        "duration": 3,
        "start_time": "2023-05-01T17:56:39.580Z"
      },
      {
        "duration": 24,
        "start_time": "2023-05-01T17:56:39.584Z"
      },
      {
        "duration": 29,
        "start_time": "2023-05-01T17:56:39.609Z"
      },
      {
        "duration": 44,
        "start_time": "2023-05-01T17:56:39.640Z"
      },
      {
        "duration": 72,
        "start_time": "2023-05-01T17:56:39.686Z"
      },
      {
        "duration": 8,
        "start_time": "2023-05-01T17:57:55.431Z"
      },
      {
        "duration": 8,
        "start_time": "2023-05-01T17:59:16.600Z"
      },
      {
        "duration": 6,
        "start_time": "2023-05-01T17:59:35.256Z"
      },
      {
        "duration": 8,
        "start_time": "2023-05-01T18:00:42.085Z"
      },
      {
        "duration": 247,
        "start_time": "2023-05-01T18:05:17.525Z"
      },
      {
        "duration": 1344,
        "start_time": "2023-05-01T18:05:22.649Z"
      },
      {
        "duration": 702,
        "start_time": "2023-05-01T18:05:23.995Z"
      },
      {
        "duration": 15,
        "start_time": "2023-05-01T18:05:24.698Z"
      },
      {
        "duration": 29,
        "start_time": "2023-05-01T18:05:24.714Z"
      },
      {
        "duration": 15,
        "start_time": "2023-05-01T18:05:24.746Z"
      },
      {
        "duration": 3,
        "start_time": "2023-05-01T18:05:24.763Z"
      },
      {
        "duration": 30,
        "start_time": "2023-05-01T18:05:24.768Z"
      },
      {
        "duration": 13,
        "start_time": "2023-05-01T18:05:24.800Z"
      },
      {
        "duration": 27,
        "start_time": "2023-05-01T18:05:24.815Z"
      },
      {
        "duration": 11,
        "start_time": "2023-05-01T18:05:24.844Z"
      },
      {
        "duration": 23,
        "start_time": "2023-05-01T18:05:24.856Z"
      },
      {
        "duration": 6,
        "start_time": "2023-05-01T18:05:24.881Z"
      },
      {
        "duration": 23,
        "start_time": "2023-05-01T18:05:24.888Z"
      },
      {
        "duration": 23,
        "start_time": "2023-05-01T18:05:24.914Z"
      },
      {
        "duration": 595,
        "start_time": "2023-05-01T18:05:24.939Z"
      },
      {
        "duration": 560,
        "start_time": "2023-05-01T18:05:25.535Z"
      },
      {
        "duration": 565,
        "start_time": "2023-05-01T18:05:26.097Z"
      },
      {
        "duration": 586,
        "start_time": "2023-05-01T18:05:26.664Z"
      },
      {
        "duration": 9,
        "start_time": "2023-05-01T18:05:27.251Z"
      },
      {
        "duration": 7,
        "start_time": "2023-05-01T18:05:27.261Z"
      },
      {
        "duration": 96,
        "start_time": "2023-05-01T18:05:27.269Z"
      },
      {
        "duration": 101,
        "start_time": "2023-05-01T18:05:27.367Z"
      },
      {
        "duration": 7,
        "start_time": "2023-05-01T18:05:27.470Z"
      },
      {
        "duration": 537,
        "start_time": "2023-05-01T18:05:27.479Z"
      },
      {
        "duration": 4,
        "start_time": "2023-05-01T18:05:28.018Z"
      },
      {
        "duration": 23,
        "start_time": "2023-05-01T18:05:28.023Z"
      },
      {
        "duration": 5,
        "start_time": "2023-05-01T18:05:28.048Z"
      },
      {
        "duration": 31,
        "start_time": "2023-05-01T18:05:28.054Z"
      },
      {
        "duration": 11,
        "start_time": "2023-05-01T18:05:28.087Z"
      },
      {
        "duration": 113,
        "start_time": "2023-05-01T18:19:11.296Z"
      },
      {
        "duration": 1331,
        "start_time": "2023-05-01T18:20:13.677Z"
      },
      {
        "duration": 704,
        "start_time": "2023-05-01T18:20:15.009Z"
      },
      {
        "duration": 14,
        "start_time": "2023-05-01T18:20:15.714Z"
      },
      {
        "duration": 21,
        "start_time": "2023-05-01T18:20:15.735Z"
      },
      {
        "duration": 16,
        "start_time": "2023-05-01T18:20:15.758Z"
      },
      {
        "duration": 4,
        "start_time": "2023-05-01T18:20:15.776Z"
      },
      {
        "duration": 12,
        "start_time": "2023-05-01T18:20:15.781Z"
      },
      {
        "duration": 12,
        "start_time": "2023-05-01T18:20:15.795Z"
      },
      {
        "duration": 28,
        "start_time": "2023-05-01T18:20:15.809Z"
      },
      {
        "duration": 9,
        "start_time": "2023-05-01T18:20:15.840Z"
      },
      {
        "duration": 17,
        "start_time": "2023-05-01T18:20:15.851Z"
      },
      {
        "duration": 8,
        "start_time": "2023-05-01T18:20:15.870Z"
      },
      {
        "duration": 16,
        "start_time": "2023-05-01T18:20:15.880Z"
      },
      {
        "duration": 56,
        "start_time": "2023-05-01T18:20:15.897Z"
      },
      {
        "duration": 672,
        "start_time": "2023-05-01T18:20:15.955Z"
      },
      {
        "duration": 612,
        "start_time": "2023-05-01T18:20:16.633Z"
      },
      {
        "duration": 613,
        "start_time": "2023-05-01T18:20:17.247Z"
      },
      {
        "duration": 561,
        "start_time": "2023-05-01T18:20:17.861Z"
      },
      {
        "duration": 13,
        "start_time": "2023-05-01T18:20:18.425Z"
      },
      {
        "duration": 28,
        "start_time": "2023-05-01T18:20:18.439Z"
      },
      {
        "duration": 107,
        "start_time": "2023-05-01T18:20:18.469Z"
      },
      {
        "duration": 106,
        "start_time": "2023-05-01T18:20:18.578Z"
      },
      {
        "duration": 9,
        "start_time": "2023-05-01T18:20:18.686Z"
      },
      {
        "duration": 560,
        "start_time": "2023-05-01T18:20:18.696Z"
      },
      {
        "duration": 4,
        "start_time": "2023-05-01T18:20:19.259Z"
      },
      {
        "duration": 39,
        "start_time": "2023-05-01T18:20:19.265Z"
      },
      {
        "duration": 13,
        "start_time": "2023-05-01T18:20:19.306Z"
      },
      {
        "duration": 57,
        "start_time": "2023-05-01T18:20:19.322Z"
      },
      {
        "duration": 10,
        "start_time": "2023-05-01T18:20:19.381Z"
      },
      {
        "duration": 121,
        "start_time": "2023-05-01T18:20:19.393Z"
      },
      {
        "duration": 268,
        "start_time": "2023-05-01T18:21:15.264Z"
      },
      {
        "duration": 144,
        "start_time": "2023-05-01T18:21:49.598Z"
      },
      {
        "duration": 248,
        "start_time": "2023-05-01T18:24:09.700Z"
      },
      {
        "duration": 495,
        "start_time": "2023-05-01T18:26:13.544Z"
      },
      {
        "duration": 228,
        "start_time": "2023-05-01T18:26:51.306Z"
      },
      {
        "duration": 1971,
        "start_time": "2023-05-01T18:27:43.273Z"
      },
      {
        "duration": 301,
        "start_time": "2023-05-01T18:28:26.434Z"
      },
      {
        "duration": 2182,
        "start_time": "2023-05-01T18:28:35.056Z"
      },
      {
        "duration": 176,
        "start_time": "2023-05-01T19:05:28.359Z"
      },
      {
        "duration": 10,
        "start_time": "2023-05-01T19:09:47.354Z"
      },
      {
        "duration": 208,
        "start_time": "2023-05-01T19:10:25.532Z"
      },
      {
        "duration": 2339,
        "start_time": "2023-05-01T19:27:28.302Z"
      },
      {
        "duration": 9,
        "start_time": "2023-05-01T20:24:33.697Z"
      },
      {
        "duration": 9,
        "start_time": "2023-05-01T20:28:21.299Z"
      },
      {
        "duration": 1360,
        "start_time": "2023-05-01T20:29:42.045Z"
      },
      {
        "duration": 693,
        "start_time": "2023-05-01T20:29:43.407Z"
      },
      {
        "duration": 14,
        "start_time": "2023-05-01T20:29:44.102Z"
      },
      {
        "duration": 24,
        "start_time": "2023-05-01T20:29:44.122Z"
      },
      {
        "duration": 21,
        "start_time": "2023-05-01T20:29:44.148Z"
      },
      {
        "duration": 19,
        "start_time": "2023-05-01T20:29:44.171Z"
      },
      {
        "duration": 31,
        "start_time": "2023-05-01T20:29:44.192Z"
      },
      {
        "duration": 28,
        "start_time": "2023-05-01T20:29:44.224Z"
      },
      {
        "duration": 31,
        "start_time": "2023-05-01T20:29:44.253Z"
      },
      {
        "duration": 18,
        "start_time": "2023-05-01T20:29:44.285Z"
      },
      {
        "duration": 36,
        "start_time": "2023-05-01T20:29:44.304Z"
      },
      {
        "duration": 24,
        "start_time": "2023-05-01T20:29:44.342Z"
      },
      {
        "duration": 40,
        "start_time": "2023-05-01T20:29:44.369Z"
      },
      {
        "duration": 28,
        "start_time": "2023-05-01T20:29:44.414Z"
      },
      {
        "duration": 554,
        "start_time": "2023-05-01T20:29:44.443Z"
      },
      {
        "duration": 517,
        "start_time": "2023-05-01T20:29:44.998Z"
      },
      {
        "duration": 538,
        "start_time": "2023-05-01T20:29:45.516Z"
      },
      {
        "duration": 559,
        "start_time": "2023-05-01T20:29:46.056Z"
      },
      {
        "duration": 19,
        "start_time": "2023-05-01T20:29:46.616Z"
      },
      {
        "duration": 11,
        "start_time": "2023-05-01T20:29:46.637Z"
      },
      {
        "duration": 123,
        "start_time": "2023-05-01T20:29:46.650Z"
      },
      {
        "duration": 108,
        "start_time": "2023-05-01T20:29:46.775Z"
      },
      {
        "duration": 8,
        "start_time": "2023-05-01T20:29:46.884Z"
      },
      {
        "duration": 516,
        "start_time": "2023-05-01T20:29:46.893Z"
      },
      {
        "duration": 3,
        "start_time": "2023-05-01T20:29:47.411Z"
      },
      {
        "duration": 21,
        "start_time": "2023-05-01T20:29:47.415Z"
      },
      {
        "duration": 3,
        "start_time": "2023-05-01T20:29:47.438Z"
      },
      {
        "duration": 28,
        "start_time": "2023-05-01T20:29:47.443Z"
      },
      {
        "duration": 11,
        "start_time": "2023-05-01T20:29:47.472Z"
      },
      {
        "duration": 2049,
        "start_time": "2023-05-01T20:29:47.485Z"
      },
      {
        "duration": 2129,
        "start_time": "2023-05-01T20:34:53.409Z"
      },
      {
        "duration": 2303,
        "start_time": "2023-05-01T20:39:58.530Z"
      },
      {
        "duration": 3,
        "start_time": "2023-05-01T20:41:13.002Z"
      },
      {
        "duration": 78,
        "start_time": "2023-05-01T20:50:24.935Z"
      },
      {
        "duration": 90,
        "start_time": "2023-05-01T20:50:37.781Z"
      },
      {
        "duration": 4,
        "start_time": "2023-05-01T20:50:42.588Z"
      },
      {
        "duration": 1520,
        "start_time": "2023-05-01T20:50:49.112Z"
      },
      {
        "duration": 758,
        "start_time": "2023-05-01T20:50:50.634Z"
      },
      {
        "duration": 16,
        "start_time": "2023-05-01T20:50:51.393Z"
      },
      {
        "duration": 31,
        "start_time": "2023-05-01T20:50:51.411Z"
      },
      {
        "duration": 21,
        "start_time": "2023-05-01T20:50:51.445Z"
      },
      {
        "duration": 3,
        "start_time": "2023-05-01T20:50:51.468Z"
      },
      {
        "duration": 17,
        "start_time": "2023-05-01T20:50:51.472Z"
      },
      {
        "duration": 9,
        "start_time": "2023-05-01T20:50:51.491Z"
      },
      {
        "duration": 17,
        "start_time": "2023-05-01T20:50:51.502Z"
      },
      {
        "duration": 6,
        "start_time": "2023-05-01T20:50:51.533Z"
      },
      {
        "duration": 23,
        "start_time": "2023-05-01T20:50:51.542Z"
      },
      {
        "duration": 7,
        "start_time": "2023-05-01T20:50:51.567Z"
      },
      {
        "duration": 18,
        "start_time": "2023-05-01T20:50:51.575Z"
      },
      {
        "duration": 38,
        "start_time": "2023-05-01T20:50:51.595Z"
      },
      {
        "duration": 722,
        "start_time": "2023-05-01T20:50:51.635Z"
      },
      {
        "duration": 612,
        "start_time": "2023-05-01T20:50:52.359Z"
      },
      {
        "duration": 646,
        "start_time": "2023-05-01T20:50:52.973Z"
      },
      {
        "duration": 625,
        "start_time": "2023-05-01T20:50:53.621Z"
      },
      {
        "duration": 10,
        "start_time": "2023-05-01T20:50:54.249Z"
      },
      {
        "duration": 9,
        "start_time": "2023-05-01T20:50:54.261Z"
      },
      {
        "duration": 127,
        "start_time": "2023-05-01T20:50:54.272Z"
      },
      {
        "duration": 122,
        "start_time": "2023-05-01T20:50:54.402Z"
      },
      {
        "duration": 12,
        "start_time": "2023-05-01T20:50:54.526Z"
      },
      {
        "duration": 639,
        "start_time": "2023-05-01T20:50:54.540Z"
      },
      {
        "duration": 4,
        "start_time": "2023-05-01T20:50:55.181Z"
      },
      {
        "duration": 21,
        "start_time": "2023-05-01T20:50:55.187Z"
      },
      {
        "duration": 8,
        "start_time": "2023-05-01T20:50:55.210Z"
      },
      {
        "duration": 41,
        "start_time": "2023-05-01T20:50:55.221Z"
      },
      {
        "duration": 11,
        "start_time": "2023-05-01T20:50:55.264Z"
      },
      {
        "duration": 2258,
        "start_time": "2023-05-01T20:50:55.277Z"
      },
      {
        "duration": 2509,
        "start_time": "2023-05-01T20:50:57.537Z"
      },
      {
        "duration": 85,
        "start_time": "2023-05-01T20:51:00.049Z"
      },
      {
        "duration": 111,
        "start_time": "2023-05-01T20:55:24.616Z"
      },
      {
        "duration": 101,
        "start_time": "2023-05-01T20:55:30.687Z"
      },
      {
        "duration": 4215,
        "start_time": "2023-05-01T20:55:35.021Z"
      },
      {
        "duration": 1964,
        "start_time": "2023-05-02T08:23:00.536Z"
      },
      {
        "duration": 1961,
        "start_time": "2023-05-02T08:23:02.504Z"
      },
      {
        "duration": 16,
        "start_time": "2023-05-02T08:23:04.467Z"
      },
      {
        "duration": 29,
        "start_time": "2023-05-02T08:23:04.486Z"
      },
      {
        "duration": 19,
        "start_time": "2023-05-02T08:23:04.519Z"
      },
      {
        "duration": 4,
        "start_time": "2023-05-02T08:23:04.539Z"
      },
      {
        "duration": 11,
        "start_time": "2023-05-02T08:23:04.544Z"
      },
      {
        "duration": 32,
        "start_time": "2023-05-02T08:23:04.557Z"
      },
      {
        "duration": 22,
        "start_time": "2023-05-02T08:23:04.592Z"
      },
      {
        "duration": 8,
        "start_time": "2023-05-02T08:23:04.616Z"
      },
      {
        "duration": 19,
        "start_time": "2023-05-02T08:23:04.626Z"
      },
      {
        "duration": 8,
        "start_time": "2023-05-02T08:23:04.646Z"
      },
      {
        "duration": 11,
        "start_time": "2023-05-02T08:23:04.656Z"
      },
      {
        "duration": 28,
        "start_time": "2023-05-02T08:23:04.688Z"
      },
      {
        "duration": 772,
        "start_time": "2023-05-02T08:23:04.717Z"
      },
      {
        "duration": 686,
        "start_time": "2023-05-02T08:23:05.491Z"
      },
      {
        "duration": 743,
        "start_time": "2023-05-02T08:23:06.179Z"
      },
      {
        "duration": 937,
        "start_time": "2023-05-02T08:23:06.930Z"
      },
      {
        "duration": 21,
        "start_time": "2023-05-02T08:23:07.870Z"
      },
      {
        "duration": 34,
        "start_time": "2023-05-02T08:23:07.894Z"
      },
      {
        "duration": 122,
        "start_time": "2023-05-02T08:23:07.931Z"
      },
      {
        "duration": 188,
        "start_time": "2023-05-02T08:23:08.055Z"
      },
      {
        "duration": 7,
        "start_time": "2023-05-02T08:23:08.245Z"
      },
      {
        "duration": 665,
        "start_time": "2023-05-02T08:23:08.254Z"
      },
      {
        "duration": 4,
        "start_time": "2023-05-02T08:23:08.921Z"
      },
      {
        "duration": 20,
        "start_time": "2023-05-02T08:23:08.927Z"
      },
      {
        "duration": 15,
        "start_time": "2023-05-02T08:23:08.949Z"
      },
      {
        "duration": 69,
        "start_time": "2023-05-02T08:23:08.966Z"
      },
      {
        "duration": 14,
        "start_time": "2023-05-02T08:23:09.037Z"
      },
      {
        "duration": 4938,
        "start_time": "2023-05-02T08:23:09.054Z"
      },
      {
        "duration": 1514,
        "start_time": "2023-05-02T08:30:48.401Z"
      },
      {
        "duration": 125393,
        "start_time": "2023-05-02T08:31:12.023Z"
      },
      {
        "duration": 131224,
        "start_time": "2023-05-02T08:41:58.368Z"
      },
      {
        "duration": 7,
        "start_time": "2023-05-02T08:44:09.601Z"
      },
      {
        "duration": 4,
        "start_time": "2023-05-02T08:45:04.769Z"
      },
      {
        "duration": 153,
        "start_time": "2023-05-02T08:58:07.248Z"
      },
      {
        "duration": 957,
        "start_time": "2023-05-02T08:59:12.617Z"
      },
      {
        "duration": 116015,
        "start_time": "2023-05-02T09:00:49.714Z"
      },
      {
        "duration": 1442,
        "start_time": "2023-05-02T09:23:46.744Z"
      },
      {
        "duration": 708,
        "start_time": "2023-05-02T09:23:48.189Z"
      },
      {
        "duration": 16,
        "start_time": "2023-05-02T09:23:48.899Z"
      },
      {
        "duration": 22,
        "start_time": "2023-05-02T09:23:48.918Z"
      },
      {
        "duration": 19,
        "start_time": "2023-05-02T09:23:48.943Z"
      },
      {
        "duration": 3,
        "start_time": "2023-05-02T09:23:48.990Z"
      },
      {
        "duration": 10,
        "start_time": "2023-05-02T09:23:48.995Z"
      },
      {
        "duration": 16,
        "start_time": "2023-05-02T09:23:49.007Z"
      },
      {
        "duration": 8,
        "start_time": "2023-05-02T09:23:49.025Z"
      },
      {
        "duration": 6,
        "start_time": "2023-05-02T09:23:49.035Z"
      },
      {
        "duration": 27,
        "start_time": "2023-05-02T09:23:49.043Z"
      },
      {
        "duration": 40,
        "start_time": "2023-05-02T09:23:49.071Z"
      },
      {
        "duration": 13,
        "start_time": "2023-05-02T09:23:49.113Z"
      },
      {
        "duration": 26,
        "start_time": "2023-05-02T09:23:49.129Z"
      },
      {
        "duration": 734,
        "start_time": "2023-05-02T09:23:49.157Z"
      },
      {
        "duration": 769,
        "start_time": "2023-05-02T09:23:49.893Z"
      },
      {
        "duration": 650,
        "start_time": "2023-05-02T09:23:50.665Z"
      },
      {
        "duration": 722,
        "start_time": "2023-05-02T09:23:51.317Z"
      },
      {
        "duration": 10,
        "start_time": "2023-05-02T09:23:52.041Z"
      },
      {
        "duration": 18,
        "start_time": "2023-05-02T09:23:52.053Z"
      },
      {
        "duration": 124,
        "start_time": "2023-05-02T09:23:52.072Z"
      },
      {
        "duration": 131,
        "start_time": "2023-05-02T09:23:52.197Z"
      },
      {
        "duration": 6,
        "start_time": "2023-05-02T09:23:52.330Z"
      },
      {
        "duration": 647,
        "start_time": "2023-05-02T09:23:52.338Z"
      },
      {
        "duration": 3,
        "start_time": "2023-05-02T09:23:52.987Z"
      },
      {
        "duration": 17,
        "start_time": "2023-05-02T09:23:52.992Z"
      },
      {
        "duration": 4,
        "start_time": "2023-05-02T09:23:53.011Z"
      },
      {
        "duration": 32,
        "start_time": "2023-05-02T09:23:53.017Z"
      },
      {
        "duration": 43,
        "start_time": "2023-05-02T09:23:53.050Z"
      },
      {
        "duration": 4901,
        "start_time": "2023-05-02T09:23:53.095Z"
      },
      {
        "duration": 115158,
        "start_time": "2023-05-02T09:23:58.001Z"
      },
      {
        "duration": 1612,
        "start_time": "2023-05-02T09:36:04.878Z"
      },
      {
        "duration": 675,
        "start_time": "2023-05-02T09:36:06.493Z"
      },
      {
        "duration": 19,
        "start_time": "2023-05-02T09:36:07.170Z"
      },
      {
        "duration": 28,
        "start_time": "2023-05-02T09:36:07.191Z"
      },
      {
        "duration": 20,
        "start_time": "2023-05-02T09:36:07.222Z"
      },
      {
        "duration": 3,
        "start_time": "2023-05-02T09:36:07.244Z"
      },
      {
        "duration": 17,
        "start_time": "2023-05-02T09:36:07.249Z"
      },
      {
        "duration": 26,
        "start_time": "2023-05-02T09:36:07.268Z"
      },
      {
        "duration": 14,
        "start_time": "2023-05-02T09:36:07.296Z"
      },
      {
        "duration": 13,
        "start_time": "2023-05-02T09:36:07.312Z"
      },
      {
        "duration": 14,
        "start_time": "2023-05-02T09:36:07.327Z"
      },
      {
        "duration": 16,
        "start_time": "2023-05-02T09:36:07.343Z"
      },
      {
        "duration": 42,
        "start_time": "2023-05-02T09:36:07.361Z"
      },
      {
        "duration": 43,
        "start_time": "2023-05-02T09:36:07.406Z"
      },
      {
        "duration": 718,
        "start_time": "2023-05-02T09:36:07.451Z"
      },
      {
        "duration": 658,
        "start_time": "2023-05-02T09:36:08.171Z"
      },
      {
        "duration": 723,
        "start_time": "2023-05-02T09:36:08.832Z"
      },
      {
        "duration": 637,
        "start_time": "2023-05-02T09:36:09.557Z"
      },
      {
        "duration": 10,
        "start_time": "2023-05-02T09:36:10.196Z"
      },
      {
        "duration": 19,
        "start_time": "2023-05-02T09:36:10.207Z"
      },
      {
        "duration": 139,
        "start_time": "2023-05-02T09:36:10.228Z"
      },
      {
        "duration": 160,
        "start_time": "2023-05-02T09:36:10.369Z"
      },
      {
        "duration": 10,
        "start_time": "2023-05-02T09:36:10.532Z"
      },
      {
        "duration": 748,
        "start_time": "2023-05-02T09:36:10.547Z"
      },
      {
        "duration": 4,
        "start_time": "2023-05-02T09:36:11.297Z"
      },
      {
        "duration": 36,
        "start_time": "2023-05-02T09:36:11.303Z"
      },
      {
        "duration": 20,
        "start_time": "2023-05-02T09:36:11.341Z"
      },
      {
        "duration": 39,
        "start_time": "2023-05-02T09:36:11.363Z"
      },
      {
        "duration": 14,
        "start_time": "2023-05-02T09:36:11.403Z"
      },
      {
        "duration": 5670,
        "start_time": "2023-05-02T09:36:11.419Z"
      },
      {
        "duration": 115621,
        "start_time": "2023-05-02T09:36:17.092Z"
      },
      {
        "duration": 1527,
        "start_time": "2023-05-02T09:45:34.664Z"
      },
      {
        "duration": 664,
        "start_time": "2023-05-02T09:45:36.194Z"
      },
      {
        "duration": 19,
        "start_time": "2023-05-02T09:45:36.860Z"
      },
      {
        "duration": 19,
        "start_time": "2023-05-02T09:45:36.889Z"
      },
      {
        "duration": 18,
        "start_time": "2023-05-02T09:45:36.911Z"
      },
      {
        "duration": 3,
        "start_time": "2023-05-02T09:45:36.931Z"
      },
      {
        "duration": 23,
        "start_time": "2023-05-02T09:45:36.936Z"
      },
      {
        "duration": 28,
        "start_time": "2023-05-02T09:45:36.961Z"
      },
      {
        "duration": 8,
        "start_time": "2023-05-02T09:45:36.991Z"
      },
      {
        "duration": 11,
        "start_time": "2023-05-02T09:45:37.000Z"
      },
      {
        "duration": 15,
        "start_time": "2023-05-02T09:45:37.013Z"
      },
      {
        "duration": 7,
        "start_time": "2023-05-02T09:45:37.029Z"
      },
      {
        "duration": 19,
        "start_time": "2023-05-02T09:45:37.038Z"
      },
      {
        "duration": 49,
        "start_time": "2023-05-02T09:45:37.060Z"
      },
      {
        "duration": 706,
        "start_time": "2023-05-02T09:45:37.111Z"
      },
      {
        "duration": 633,
        "start_time": "2023-05-02T09:45:37.819Z"
      },
      {
        "duration": 673,
        "start_time": "2023-05-02T09:45:38.455Z"
      },
      {
        "duration": 653,
        "start_time": "2023-05-02T09:45:39.130Z"
      },
      {
        "duration": 11,
        "start_time": "2023-05-02T09:45:39.785Z"
      },
      {
        "duration": 21,
        "start_time": "2023-05-02T09:45:39.798Z"
      },
      {
        "duration": 122,
        "start_time": "2023-05-02T09:45:39.821Z"
      },
      {
        "duration": 136,
        "start_time": "2023-05-02T09:45:39.945Z"
      },
      {
        "duration": 9,
        "start_time": "2023-05-02T09:45:40.090Z"
      },
      {
        "duration": 837,
        "start_time": "2023-05-02T09:45:40.102Z"
      },
      {
        "duration": 4,
        "start_time": "2023-05-02T09:45:40.941Z"
      },
      {
        "duration": 37,
        "start_time": "2023-05-02T09:45:40.946Z"
      },
      {
        "duration": 28,
        "start_time": "2023-05-02T09:45:40.985Z"
      },
      {
        "duration": 42,
        "start_time": "2023-05-02T09:45:41.015Z"
      },
      {
        "duration": 14,
        "start_time": "2023-05-02T09:45:41.059Z"
      },
      {
        "duration": 4618,
        "start_time": "2023-05-02T09:45:41.076Z"
      },
      {
        "duration": 114428,
        "start_time": "2023-05-02T09:45:45.696Z"
      },
      {
        "duration": 772885,
        "start_time": "2023-05-02T09:47:40.126Z"
      },
      {
        "duration": 237,
        "start_time": "2023-05-02T14:48:16.511Z"
      },
      {
        "duration": 1703,
        "start_time": "2023-05-02T14:54:53.151Z"
      },
      {
        "duration": 892,
        "start_time": "2023-05-02T14:54:54.857Z"
      },
      {
        "duration": 61,
        "start_time": "2023-05-02T14:54:55.751Z"
      },
      {
        "duration": 31,
        "start_time": "2023-05-02T14:54:55.816Z"
      },
      {
        "duration": 48,
        "start_time": "2023-05-02T14:54:55.850Z"
      },
      {
        "duration": 12,
        "start_time": "2023-05-02T14:54:55.902Z"
      },
      {
        "duration": 10,
        "start_time": "2023-05-02T14:54:55.916Z"
      },
      {
        "duration": 17,
        "start_time": "2023-05-02T14:54:55.929Z"
      },
      {
        "duration": 27,
        "start_time": "2023-05-02T14:54:55.948Z"
      },
      {
        "duration": 6,
        "start_time": "2023-05-02T14:54:55.978Z"
      },
      {
        "duration": 20,
        "start_time": "2023-05-02T14:54:55.986Z"
      },
      {
        "duration": 15,
        "start_time": "2023-05-02T14:54:56.008Z"
      },
      {
        "duration": 13,
        "start_time": "2023-05-02T14:54:56.025Z"
      },
      {
        "duration": 50,
        "start_time": "2023-05-02T14:54:56.040Z"
      },
      {
        "duration": 845,
        "start_time": "2023-05-02T14:54:56.092Z"
      },
      {
        "duration": 675,
        "start_time": "2023-05-02T14:54:56.938Z"
      },
      {
        "duration": 734,
        "start_time": "2023-05-02T14:54:57.615Z"
      },
      {
        "duration": 696,
        "start_time": "2023-05-02T14:54:58.351Z"
      },
      {
        "duration": 13,
        "start_time": "2023-05-02T14:54:59.049Z"
      },
      {
        "duration": 26,
        "start_time": "2023-05-02T14:54:59.064Z"
      },
      {
        "duration": 134,
        "start_time": "2023-05-02T14:54:59.093Z"
      },
      {
        "duration": 149,
        "start_time": "2023-05-02T14:54:59.229Z"
      },
      {
        "duration": 12,
        "start_time": "2023-05-02T14:54:59.380Z"
      },
      {
        "duration": 691,
        "start_time": "2023-05-02T14:54:59.395Z"
      },
      {
        "duration": 6,
        "start_time": "2023-05-02T14:55:00.088Z"
      },
      {
        "duration": 37,
        "start_time": "2023-05-02T14:55:00.100Z"
      },
      {
        "duration": 33,
        "start_time": "2023-05-02T14:55:00.139Z"
      },
      {
        "duration": 66,
        "start_time": "2023-05-02T14:55:00.175Z"
      },
      {
        "duration": 15,
        "start_time": "2023-05-02T14:55:00.243Z"
      },
      {
        "duration": 12539,
        "start_time": "2023-05-02T14:55:00.260Z"
      },
      {
        "duration": 122182,
        "start_time": "2023-05-02T14:55:12.802Z"
      },
      {
        "duration": 1828,
        "start_time": "2023-05-02T15:08:48.180Z"
      },
      {
        "duration": 1123,
        "start_time": "2023-05-02T15:08:50.011Z"
      },
      {
        "duration": 26,
        "start_time": "2023-05-02T15:08:51.137Z"
      },
      {
        "duration": 51,
        "start_time": "2023-05-02T15:08:51.167Z"
      },
      {
        "duration": 35,
        "start_time": "2023-05-02T15:08:51.222Z"
      },
      {
        "duration": 5,
        "start_time": "2023-05-02T15:08:51.259Z"
      },
      {
        "duration": 14,
        "start_time": "2023-05-02T15:08:51.266Z"
      },
      {
        "duration": 11,
        "start_time": "2023-05-02T15:08:51.289Z"
      },
      {
        "duration": 12,
        "start_time": "2023-05-02T15:08:51.303Z"
      },
      {
        "duration": 11,
        "start_time": "2023-05-02T15:08:51.320Z"
      },
      {
        "duration": 15,
        "start_time": "2023-05-02T15:08:51.333Z"
      },
      {
        "duration": 10,
        "start_time": "2023-05-02T15:08:51.350Z"
      },
      {
        "duration": 50,
        "start_time": "2023-05-02T15:08:51.362Z"
      },
      {
        "duration": 29,
        "start_time": "2023-05-02T15:08:51.416Z"
      },
      {
        "duration": 964,
        "start_time": "2023-05-02T15:08:51.447Z"
      },
      {
        "duration": 741,
        "start_time": "2023-05-02T15:08:52.415Z"
      },
      {
        "duration": 682,
        "start_time": "2023-05-02T15:08:53.157Z"
      },
      {
        "duration": 743,
        "start_time": "2023-05-02T15:08:53.841Z"
      },
      {
        "duration": 14,
        "start_time": "2023-05-02T15:08:54.608Z"
      },
      {
        "duration": 10,
        "start_time": "2023-05-02T15:08:54.625Z"
      },
      {
        "duration": 142,
        "start_time": "2023-05-02T15:08:54.637Z"
      },
      {
        "duration": 150,
        "start_time": "2023-05-02T15:08:54.781Z"
      },
      {
        "duration": 7,
        "start_time": "2023-05-02T15:08:54.933Z"
      },
      {
        "duration": 786,
        "start_time": "2023-05-02T15:08:54.941Z"
      },
      {
        "duration": 4,
        "start_time": "2023-05-02T15:08:55.729Z"
      },
      {
        "duration": 22,
        "start_time": "2023-05-02T15:08:55.791Z"
      },
      {
        "duration": 5,
        "start_time": "2023-05-02T15:08:55.815Z"
      },
      {
        "duration": 36,
        "start_time": "2023-05-02T15:08:55.822Z"
      },
      {
        "duration": 13,
        "start_time": "2023-05-02T15:08:55.860Z"
      },
      {
        "duration": 7216,
        "start_time": "2023-05-02T15:08:55.875Z"
      },
      {
        "duration": 125334,
        "start_time": "2023-05-02T15:09:03.094Z"
      },
      {
        "duration": 300616,
        "start_time": "2023-05-02T15:27:31.733Z"
      },
      {
        "duration": 789658,
        "start_time": "2023-05-02T15:32:32.351Z"
      },
      {
        "duration": 163,
        "start_time": "2023-05-02T15:48:25.885Z"
      },
      {
        "duration": 9,
        "start_time": "2023-05-02T15:49:56.966Z"
      },
      {
        "duration": 7,
        "start_time": "2023-05-02T15:51:19.549Z"
      },
      {
        "duration": 7,
        "start_time": "2023-05-02T15:51:58.223Z"
      },
      {
        "duration": 790782,
        "start_time": "2023-05-02T15:52:14.438Z"
      },
      {
        "duration": 16,
        "start_time": "2023-05-02T16:49:41.180Z"
      },
      {
        "duration": 13,
        "start_time": "2023-05-02T16:51:04.118Z"
      },
      {
        "duration": 54,
        "start_time": "2023-05-02T16:52:53.117Z"
      },
      {
        "duration": 13,
        "start_time": "2023-05-02T17:07:35.925Z"
      },
      {
        "duration": 18,
        "start_time": "2023-05-02T17:08:28.342Z"
      },
      {
        "duration": 4,
        "start_time": "2023-05-02T17:10:49.708Z"
      },
      {
        "duration": 16,
        "start_time": "2023-05-02T17:12:16.853Z"
      },
      {
        "duration": 11,
        "start_time": "2023-05-02T17:15:01.868Z"
      },
      {
        "duration": 14,
        "start_time": "2023-05-02T17:17:02.763Z"
      },
      {
        "duration": 5,
        "start_time": "2023-05-02T17:17:16.167Z"
      },
      {
        "duration": 5,
        "start_time": "2023-05-02T17:17:23.184Z"
      },
      {
        "duration": 4,
        "start_time": "2023-05-02T17:23:10.937Z"
      },
      {
        "duration": 6,
        "start_time": "2023-05-02T17:23:20.006Z"
      },
      {
        "duration": 600,
        "start_time": "2023-05-02T17:38:59.234Z"
      },
      {
        "duration": 603,
        "start_time": "2023-05-02T17:40:49.580Z"
      },
      {
        "duration": 785,
        "start_time": "2023-05-02T17:42:42.685Z"
      },
      {
        "duration": 616,
        "start_time": "2023-05-02T17:48:14.230Z"
      },
      {
        "duration": 68,
        "start_time": "2023-05-02T18:15:50.740Z"
      },
      {
        "duration": 1541,
        "start_time": "2023-05-02T18:33:49.819Z"
      },
      {
        "duration": 1488,
        "start_time": "2023-05-02T18:34:21.331Z"
      },
      {
        "duration": 1437,
        "start_time": "2023-05-02T18:35:08.355Z"
      },
      {
        "duration": 1406,
        "start_time": "2023-05-02T18:37:52.976Z"
      },
      {
        "duration": 1367,
        "start_time": "2023-05-02T18:38:54.174Z"
      },
      {
        "duration": 1604,
        "start_time": "2023-05-02T18:41:29.077Z"
      },
      {
        "duration": 1537,
        "start_time": "2023-05-02T18:41:55.707Z"
      },
      {
        "duration": 51,
        "start_time": "2023-05-02T18:42:37.176Z"
      },
      {
        "duration": 30,
        "start_time": "2023-05-02T18:43:06.652Z"
      },
      {
        "duration": 10,
        "start_time": "2023-05-02T19:00:34.557Z"
      },
      {
        "duration": 38,
        "start_time": "2023-05-02T19:01:09.775Z"
      },
      {
        "duration": 15,
        "start_time": "2023-05-02T19:01:33.320Z"
      },
      {
        "duration": 12,
        "start_time": "2023-05-02T19:02:08.103Z"
      },
      {
        "duration": 12,
        "start_time": "2023-05-02T19:02:40.116Z"
      },
      {
        "duration": 1567,
        "start_time": "2023-05-02T19:02:56.204Z"
      },
      {
        "duration": 944,
        "start_time": "2023-05-02T19:02:57.774Z"
      },
      {
        "duration": 18,
        "start_time": "2023-05-02T19:02:58.720Z"
      },
      {
        "duration": 24,
        "start_time": "2023-05-02T19:02:58.740Z"
      },
      {
        "duration": 39,
        "start_time": "2023-05-02T19:02:58.767Z"
      },
      {
        "duration": 3,
        "start_time": "2023-05-02T19:02:58.808Z"
      },
      {
        "duration": 11,
        "start_time": "2023-05-02T19:02:58.812Z"
      },
      {
        "duration": 10,
        "start_time": "2023-05-02T19:02:58.825Z"
      },
      {
        "duration": 17,
        "start_time": "2023-05-02T19:02:58.837Z"
      },
      {
        "duration": 15,
        "start_time": "2023-05-02T19:02:58.855Z"
      },
      {
        "duration": 12,
        "start_time": "2023-05-02T19:02:58.892Z"
      },
      {
        "duration": 11,
        "start_time": "2023-05-02T19:02:58.906Z"
      },
      {
        "duration": 9,
        "start_time": "2023-05-02T19:02:58.918Z"
      },
      {
        "duration": 21,
        "start_time": "2023-05-02T19:02:58.931Z"
      },
      {
        "duration": 48,
        "start_time": "2023-05-02T19:02:58.953Z"
      },
      {
        "duration": 761,
        "start_time": "2023-05-02T19:02:59.003Z"
      },
      {
        "duration": 780,
        "start_time": "2023-05-02T19:02:59.766Z"
      },
      {
        "duration": 765,
        "start_time": "2023-05-02T19:03:00.548Z"
      },
      {
        "duration": 721,
        "start_time": "2023-05-02T19:03:01.315Z"
      },
      {
        "duration": 11,
        "start_time": "2023-05-02T19:03:02.038Z"
      },
      {
        "duration": 31,
        "start_time": "2023-05-02T19:03:02.051Z"
      },
      {
        "duration": 135,
        "start_time": "2023-05-02T19:03:02.083Z"
      },
      {
        "duration": 138,
        "start_time": "2023-05-02T19:03:02.219Z"
      },
      {
        "duration": 8,
        "start_time": "2023-05-02T19:03:02.359Z"
      },
      {
        "duration": 672,
        "start_time": "2023-05-02T19:03:02.369Z"
      },
      {
        "duration": 6,
        "start_time": "2023-05-02T19:03:03.043Z"
      },
      {
        "duration": 15,
        "start_time": "2023-05-02T19:03:03.051Z"
      },
      {
        "duration": 49,
        "start_time": "2023-05-02T19:03:03.068Z"
      },
      {
        "duration": 12,
        "start_time": "2023-05-02T19:03:03.119Z"
      },
      {
        "duration": 66,
        "start_time": "2023-05-02T19:03:03.133Z"
      },
      {
        "duration": 9206,
        "start_time": "2023-05-02T19:03:03.205Z"
      },
      {
        "duration": 1728,
        "start_time": "2023-05-02T19:04:03.315Z"
      },
      {
        "duration": 785,
        "start_time": "2023-05-02T19:04:05.045Z"
      },
      {
        "duration": 20,
        "start_time": "2023-05-02T19:04:05.833Z"
      },
      {
        "duration": 41,
        "start_time": "2023-05-02T19:04:05.855Z"
      },
      {
        "duration": 28,
        "start_time": "2023-05-02T19:04:05.913Z"
      },
      {
        "duration": 4,
        "start_time": "2023-05-02T19:04:05.944Z"
      },
      {
        "duration": 25,
        "start_time": "2023-05-02T19:04:05.950Z"
      },
      {
        "duration": 34,
        "start_time": "2023-05-02T19:04:05.978Z"
      },
      {
        "duration": 17,
        "start_time": "2023-05-02T19:04:06.015Z"
      },
      {
        "duration": 17,
        "start_time": "2023-05-02T19:04:06.035Z"
      },
      {
        "duration": 15,
        "start_time": "2023-05-02T19:04:06.054Z"
      },
      {
        "duration": 43,
        "start_time": "2023-05-02T19:04:06.071Z"
      },
      {
        "duration": 12,
        "start_time": "2023-05-02T19:04:06.118Z"
      },
      {
        "duration": 17,
        "start_time": "2023-05-02T19:04:06.132Z"
      },
      {
        "duration": 68,
        "start_time": "2023-05-02T19:04:06.151Z"
      },
      {
        "duration": 1063,
        "start_time": "2023-05-02T19:04:06.221Z"
      },
      {
        "duration": 730,
        "start_time": "2023-05-02T19:04:07.286Z"
      },
      {
        "duration": 726,
        "start_time": "2023-05-02T19:04:08.019Z"
      },
      {
        "duration": 752,
        "start_time": "2023-05-02T19:04:08.748Z"
      },
      {
        "duration": 15,
        "start_time": "2023-05-02T19:04:09.502Z"
      },
      {
        "duration": 10,
        "start_time": "2023-05-02T19:04:09.520Z"
      },
      {
        "duration": 143,
        "start_time": "2023-05-02T19:04:09.532Z"
      },
      {
        "duration": 160,
        "start_time": "2023-05-02T19:04:09.678Z"
      },
      {
        "duration": 8,
        "start_time": "2023-05-02T19:04:09.840Z"
      },
      {
        "duration": 872,
        "start_time": "2023-05-02T19:04:09.850Z"
      },
      {
        "duration": 5,
        "start_time": "2023-05-02T19:04:10.726Z"
      },
      {
        "duration": 18,
        "start_time": "2023-05-02T19:04:10.734Z"
      },
      {
        "duration": 58,
        "start_time": "2023-05-02T19:04:10.755Z"
      },
      {
        "duration": 16,
        "start_time": "2023-05-02T19:04:10.815Z"
      },
      {
        "duration": 60,
        "start_time": "2023-05-02T19:04:10.835Z"
      },
      {
        "duration": 12007,
        "start_time": "2023-05-02T19:04:10.897Z"
      },
      {
        "duration": 121881,
        "start_time": "2023-05-02T19:04:22.912Z"
      },
      {
        "duration": 814185,
        "start_time": "2023-05-02T19:06:24.796Z"
      },
      {
        "duration": 33,
        "start_time": "2023-05-02T19:19:58.983Z"
      },
      {
        "duration": 1909,
        "start_time": "2023-05-02T19:19:59.018Z"
      },
      {
        "duration": 32,
        "start_time": "2023-05-02T19:20:34.729Z"
      },
      {
        "duration": 43,
        "start_time": "2023-05-02T19:20:44.282Z"
      },
      {
        "duration": 44,
        "start_time": "2023-05-02T19:21:16.115Z"
      },
      {
        "duration": 10,
        "start_time": "2023-05-02T19:21:27.961Z"
      },
      {
        "duration": 49,
        "start_time": "2023-05-02T19:21:40.053Z"
      },
      {
        "duration": 50,
        "start_time": "2023-05-02T19:21:42.897Z"
      },
      {
        "duration": 12,
        "start_time": "2023-05-02T19:22:00.461Z"
      },
      {
        "duration": 48,
        "start_time": "2023-05-02T19:22:06.748Z"
      },
      {
        "duration": 31,
        "start_time": "2023-05-02T19:22:14.906Z"
      },
      {
        "duration": 66,
        "start_time": "2023-05-02T19:22:58.281Z"
      },
      {
        "duration": 51,
        "start_time": "2023-05-02T19:23:29.184Z"
      },
      {
        "duration": 17,
        "start_time": "2023-05-02T19:23:42.946Z"
      },
      {
        "duration": 1637,
        "start_time": "2023-05-02T19:24:27.709Z"
      },
      {
        "duration": 769,
        "start_time": "2023-05-02T19:24:29.349Z"
      },
      {
        "duration": 18,
        "start_time": "2023-05-02T19:24:30.120Z"
      },
      {
        "duration": 21,
        "start_time": "2023-05-02T19:24:30.141Z"
      },
      {
        "duration": 50,
        "start_time": "2023-05-02T19:24:30.164Z"
      },
      {
        "duration": 7,
        "start_time": "2023-05-02T19:24:30.217Z"
      },
      {
        "duration": 21,
        "start_time": "2023-05-02T19:24:30.226Z"
      },
      {
        "duration": 12,
        "start_time": "2023-05-02T19:24:30.250Z"
      },
      {
        "duration": 37,
        "start_time": "2023-05-02T19:24:30.264Z"
      },
      {
        "duration": 41,
        "start_time": "2023-05-02T19:24:30.309Z"
      },
      {
        "duration": 29,
        "start_time": "2023-05-02T19:24:30.352Z"
      },
      {
        "duration": 51,
        "start_time": "2023-05-02T19:24:30.383Z"
      },
      {
        "duration": 60,
        "start_time": "2023-05-02T19:24:30.435Z"
      },
      {
        "duration": 31,
        "start_time": "2023-05-02T19:24:30.498Z"
      },
      {
        "duration": 38,
        "start_time": "2023-05-02T19:24:30.530Z"
      },
      {
        "duration": 848,
        "start_time": "2023-05-02T19:24:30.571Z"
      },
      {
        "duration": 733,
        "start_time": "2023-05-02T19:24:31.421Z"
      },
      {
        "duration": 709,
        "start_time": "2023-05-02T19:24:32.156Z"
      },
      {
        "duration": 695,
        "start_time": "2023-05-02T19:24:32.867Z"
      },
      {
        "duration": 10,
        "start_time": "2023-05-02T19:24:33.564Z"
      },
      {
        "duration": 13,
        "start_time": "2023-05-02T19:24:33.588Z"
      },
      {
        "duration": 128,
        "start_time": "2023-05-02T19:24:33.602Z"
      },
      {
        "duration": 134,
        "start_time": "2023-05-02T19:24:33.732Z"
      },
      {
        "duration": 7,
        "start_time": "2023-05-02T19:24:33.868Z"
      },
      {
        "duration": 735,
        "start_time": "2023-05-02T19:24:33.892Z"
      },
      {
        "duration": 4,
        "start_time": "2023-05-02T19:24:34.630Z"
      },
      {
        "duration": 15,
        "start_time": "2023-05-02T19:24:34.636Z"
      },
      {
        "duration": 61,
        "start_time": "2023-05-02T19:24:34.655Z"
      },
      {
        "duration": 15,
        "start_time": "2023-05-02T19:24:34.718Z"
      },
      {
        "duration": 66,
        "start_time": "2023-05-02T19:24:34.735Z"
      },
      {
        "duration": 6206,
        "start_time": "2023-05-02T19:24:34.803Z"
      },
      {
        "duration": 76661,
        "start_time": "2023-05-02T19:24:41.012Z"
      },
      {
        "duration": 25,
        "start_time": "2023-05-02T19:25:57.675Z"
      },
      {
        "duration": 926,
        "start_time": "2023-05-02T19:25:57.704Z"
      },
      {
        "duration": 41,
        "start_time": "2023-05-02T19:26:46.474Z"
      },
      {
        "duration": 45,
        "start_time": "2023-05-02T19:26:53.813Z"
      },
      {
        "duration": 54,
        "start_time": "2023-05-02T19:27:00.987Z"
      },
      {
        "duration": 1986,
        "start_time": "2023-05-02T19:27:19.566Z"
      },
      {
        "duration": 1655,
        "start_time": "2023-05-02T19:27:51.778Z"
      },
      {
        "duration": 748,
        "start_time": "2023-05-02T19:27:53.436Z"
      },
      {
        "duration": 25,
        "start_time": "2023-05-02T19:27:54.186Z"
      },
      {
        "duration": 21,
        "start_time": "2023-05-02T19:27:54.214Z"
      },
      {
        "duration": 19,
        "start_time": "2023-05-02T19:27:54.237Z"
      },
      {
        "duration": 41,
        "start_time": "2023-05-02T19:27:54.258Z"
      },
      {
        "duration": 12,
        "start_time": "2023-05-02T19:27:54.301Z"
      },
      {
        "duration": 16,
        "start_time": "2023-05-02T19:27:54.316Z"
      },
      {
        "duration": 12,
        "start_time": "2023-05-02T19:27:54.334Z"
      },
      {
        "duration": 7,
        "start_time": "2023-05-02T19:27:54.349Z"
      },
      {
        "duration": 6,
        "start_time": "2023-05-02T19:27:54.358Z"
      },
      {
        "duration": 43,
        "start_time": "2023-05-02T19:27:54.366Z"
      },
      {
        "duration": 8,
        "start_time": "2023-05-02T19:27:54.411Z"
      },
      {
        "duration": 12,
        "start_time": "2023-05-02T19:27:54.421Z"
      },
      {
        "duration": 63,
        "start_time": "2023-05-02T19:27:54.435Z"
      },
      {
        "duration": 819,
        "start_time": "2023-05-02T19:27:54.502Z"
      },
      {
        "duration": 745,
        "start_time": "2023-05-02T19:27:55.324Z"
      },
      {
        "duration": 712,
        "start_time": "2023-05-02T19:27:56.071Z"
      },
      {
        "duration": 675,
        "start_time": "2023-05-02T19:27:56.790Z"
      },
      {
        "duration": 10,
        "start_time": "2023-05-02T19:27:57.467Z"
      },
      {
        "duration": 17,
        "start_time": "2023-05-02T19:27:57.491Z"
      },
      {
        "duration": 121,
        "start_time": "2023-05-02T19:27:57.510Z"
      },
      {
        "duration": 185,
        "start_time": "2023-05-02T19:27:57.634Z"
      },
      {
        "duration": 8,
        "start_time": "2023-05-02T19:27:57.821Z"
      },
      {
        "duration": 699,
        "start_time": "2023-05-02T19:27:57.831Z"
      },
      {
        "duration": 4,
        "start_time": "2023-05-02T19:27:58.533Z"
      },
      {
        "duration": 16,
        "start_time": "2023-05-02T19:27:58.539Z"
      },
      {
        "duration": 51,
        "start_time": "2023-05-02T19:27:58.559Z"
      },
      {
        "duration": 12,
        "start_time": "2023-05-02T19:27:58.613Z"
      },
      {
        "duration": 7595,
        "start_time": "2023-05-02T19:27:58.627Z"
      },
      {
        "duration": 77306,
        "start_time": "2023-05-02T19:28:06.225Z"
      },
      {
        "duration": 507758,
        "start_time": "2023-05-02T19:29:23.534Z"
      },
      {
        "duration": 17,
        "start_time": "2023-05-02T19:37:51.295Z"
      },
      {
        "duration": 1551,
        "start_time": "2023-05-02T21:00:28.062Z"
      },
      {
        "duration": 767,
        "start_time": "2023-05-02T21:00:29.615Z"
      },
      {
        "duration": 24,
        "start_time": "2023-05-02T21:00:30.384Z"
      },
      {
        "duration": 40,
        "start_time": "2023-05-02T21:00:30.411Z"
      },
      {
        "duration": 45,
        "start_time": "2023-05-02T21:00:30.453Z"
      },
      {
        "duration": 23,
        "start_time": "2023-05-02T21:00:30.503Z"
      },
      {
        "duration": 46,
        "start_time": "2023-05-02T21:00:30.529Z"
      },
      {
        "duration": 33,
        "start_time": "2023-05-02T21:00:30.577Z"
      },
      {
        "duration": 44,
        "start_time": "2023-05-02T21:00:30.612Z"
      },
      {
        "duration": 54,
        "start_time": "2023-05-02T21:00:30.659Z"
      },
      {
        "duration": 34,
        "start_time": "2023-05-02T21:00:30.715Z"
      },
      {
        "duration": 49,
        "start_time": "2023-05-02T21:00:30.751Z"
      },
      {
        "duration": 36,
        "start_time": "2023-05-02T21:00:30.801Z"
      },
      {
        "duration": 40,
        "start_time": "2023-05-02T21:00:30.839Z"
      },
      {
        "duration": 67,
        "start_time": "2023-05-02T21:00:30.880Z"
      },
      {
        "duration": 733,
        "start_time": "2023-05-02T21:00:30.949Z"
      },
      {
        "duration": 649,
        "start_time": "2023-05-02T21:00:31.685Z"
      },
      {
        "duration": 658,
        "start_time": "2023-05-02T21:00:32.336Z"
      },
      {
        "duration": 641,
        "start_time": "2023-05-02T21:00:33.005Z"
      },
      {
        "duration": 9,
        "start_time": "2023-05-02T21:00:33.648Z"
      },
      {
        "duration": 8,
        "start_time": "2023-05-02T21:00:33.659Z"
      },
      {
        "duration": 157,
        "start_time": "2023-05-02T21:00:33.669Z"
      },
      {
        "duration": 135,
        "start_time": "2023-05-02T21:00:33.828Z"
      },
      {
        "duration": 9,
        "start_time": "2023-05-02T21:00:33.965Z"
      },
      {
        "duration": 660,
        "start_time": "2023-05-02T21:00:33.976Z"
      },
      {
        "duration": 3,
        "start_time": "2023-05-02T21:00:34.638Z"
      },
      {
        "duration": 16,
        "start_time": "2023-05-02T21:00:34.643Z"
      },
      {
        "duration": 49,
        "start_time": "2023-05-02T21:00:34.663Z"
      },
      {
        "duration": 11,
        "start_time": "2023-05-02T21:00:34.713Z"
      },
      {
        "duration": 4870,
        "start_time": "2023-05-02T21:00:34.726Z"
      },
      {
        "duration": 73806,
        "start_time": "2023-05-02T21:00:39.598Z"
      },
      {
        "duration": 1549,
        "start_time": "2023-05-02T21:25:34.731Z"
      },
      {
        "duration": 744,
        "start_time": "2023-05-02T21:25:36.282Z"
      },
      {
        "duration": 20,
        "start_time": "2023-05-02T21:25:37.027Z"
      },
      {
        "duration": 39,
        "start_time": "2023-05-02T21:25:37.050Z"
      },
      {
        "duration": 18,
        "start_time": "2023-05-02T21:25:37.091Z"
      },
      {
        "duration": 3,
        "start_time": "2023-05-02T21:25:37.111Z"
      },
      {
        "duration": 11,
        "start_time": "2023-05-02T21:25:37.115Z"
      },
      {
        "duration": 8,
        "start_time": "2023-05-02T21:25:37.128Z"
      },
      {
        "duration": 25,
        "start_time": "2023-05-02T21:25:37.138Z"
      },
      {
        "duration": 28,
        "start_time": "2023-05-02T21:25:37.167Z"
      },
      {
        "duration": 9,
        "start_time": "2023-05-02T21:25:37.197Z"
      },
      {
        "duration": 16,
        "start_time": "2023-05-02T21:25:37.207Z"
      },
      {
        "duration": 9,
        "start_time": "2023-05-02T21:25:37.226Z"
      },
      {
        "duration": 58,
        "start_time": "2023-05-02T21:25:37.237Z"
      },
      {
        "duration": 37,
        "start_time": "2023-05-02T21:25:37.297Z"
      },
      {
        "duration": 735,
        "start_time": "2023-05-02T21:25:37.336Z"
      },
      {
        "duration": 630,
        "start_time": "2023-05-02T21:25:38.073Z"
      },
      {
        "duration": 639,
        "start_time": "2023-05-02T21:25:38.705Z"
      },
      {
        "duration": 652,
        "start_time": "2023-05-02T21:25:39.346Z"
      },
      {
        "duration": 11,
        "start_time": "2023-05-02T21:25:40.000Z"
      },
      {
        "duration": 25,
        "start_time": "2023-05-02T21:25:40.013Z"
      },
      {
        "duration": 137,
        "start_time": "2023-05-02T21:25:40.041Z"
      },
      {
        "duration": 157,
        "start_time": "2023-05-02T21:25:40.189Z"
      },
      {
        "duration": 9,
        "start_time": "2023-05-02T21:25:40.349Z"
      },
      {
        "duration": 665,
        "start_time": "2023-05-02T21:25:40.360Z"
      },
      {
        "duration": 5,
        "start_time": "2023-05-02T21:25:41.028Z"
      },
      {
        "duration": 21,
        "start_time": "2023-05-02T21:25:41.036Z"
      },
      {
        "duration": 49,
        "start_time": "2023-05-02T21:25:41.061Z"
      },
      {
        "duration": 10,
        "start_time": "2023-05-02T21:25:41.112Z"
      },
      {
        "duration": 3766,
        "start_time": "2023-05-02T21:25:41.124Z"
      },
      {
        "duration": 70853,
        "start_time": "2023-05-02T21:25:44.892Z"
      },
      {
        "duration": 1744,
        "start_time": "2023-05-03T06:50:45.654Z"
      },
      {
        "duration": 3005,
        "start_time": "2023-05-03T06:50:47.400Z"
      },
      {
        "duration": 15,
        "start_time": "2023-05-03T06:50:50.408Z"
      },
      {
        "duration": 38,
        "start_time": "2023-05-03T06:50:50.424Z"
      },
      {
        "duration": 112,
        "start_time": "2023-05-03T06:50:50.465Z"
      },
      {
        "duration": 144,
        "start_time": "2023-05-03T06:50:50.579Z"
      },
      {
        "duration": 99,
        "start_time": "2023-05-03T06:50:50.725Z"
      },
      {
        "duration": 12,
        "start_time": "2023-05-03T06:50:50.826Z"
      },
      {
        "duration": 14,
        "start_time": "2023-05-03T06:50:50.839Z"
      },
      {
        "duration": 8,
        "start_time": "2023-05-03T06:50:50.855Z"
      },
      {
        "duration": 8,
        "start_time": "2023-05-03T06:50:50.865Z"
      },
      {
        "duration": 23,
        "start_time": "2023-05-03T06:50:50.875Z"
      },
      {
        "duration": 9,
        "start_time": "2023-05-03T06:50:50.900Z"
      },
      {
        "duration": 12,
        "start_time": "2023-05-03T06:50:50.912Z"
      },
      {
        "duration": 35,
        "start_time": "2023-05-03T06:50:50.925Z"
      },
      {
        "duration": 680,
        "start_time": "2023-05-03T06:50:50.962Z"
      },
      {
        "duration": 569,
        "start_time": "2023-05-03T06:50:51.644Z"
      },
      {
        "duration": 606,
        "start_time": "2023-05-03T06:50:52.215Z"
      },
      {
        "duration": 605,
        "start_time": "2023-05-03T06:50:52.822Z"
      },
      {
        "duration": 10,
        "start_time": "2023-05-03T06:50:53.428Z"
      },
      {
        "duration": 36,
        "start_time": "2023-05-03T06:50:53.439Z"
      },
      {
        "duration": 118,
        "start_time": "2023-05-03T06:50:53.476Z"
      },
      {
        "duration": 113,
        "start_time": "2023-05-03T06:50:53.600Z"
      },
      {
        "duration": 8,
        "start_time": "2023-05-03T06:50:53.715Z"
      },
      {
        "duration": 674,
        "start_time": "2023-05-03T06:50:53.725Z"
      },
      {
        "duration": 5,
        "start_time": "2023-05-03T06:50:54.401Z"
      },
      {
        "duration": 51,
        "start_time": "2023-05-03T06:50:54.407Z"
      },
      {
        "duration": 132,
        "start_time": "2023-05-03T06:50:54.460Z"
      },
      {
        "duration": 12,
        "start_time": "2023-05-03T06:50:54.594Z"
      },
      {
        "duration": 4492,
        "start_time": "2023-05-03T06:50:54.608Z"
      },
      {
        "duration": 72685,
        "start_time": "2023-05-03T06:50:59.104Z"
      },
      {
        "duration": 1327557,
        "start_time": "2023-05-03T06:52:11.797Z"
      },
      {
        "duration": 9,
        "start_time": "2023-05-03T07:14:19.356Z"
      },
      {
        "duration": 6339,
        "start_time": "2023-05-03T07:26:22.600Z"
      },
      {
        "duration": 7681,
        "start_time": "2023-05-03T07:27:00.702Z"
      },
      {
        "duration": 116,
        "start_time": "2023-05-03T07:27:48.005Z"
      },
      {
        "duration": 7739,
        "start_time": "2023-05-03T07:28:21.973Z"
      },
      {
        "duration": 2210,
        "start_time": "2023-05-03T16:26:59.580Z"
      },
      {
        "duration": 652,
        "start_time": "2023-05-03T16:27:01.793Z"
      },
      {
        "duration": 15,
        "start_time": "2023-05-03T16:27:02.447Z"
      },
      {
        "duration": 17,
        "start_time": "2023-05-03T16:27:02.465Z"
      },
      {
        "duration": 37,
        "start_time": "2023-05-03T16:27:02.483Z"
      },
      {
        "duration": 3,
        "start_time": "2023-05-03T16:27:02.522Z"
      },
      {
        "duration": 25,
        "start_time": "2023-05-03T16:27:02.527Z"
      },
      {
        "duration": 9,
        "start_time": "2023-05-03T16:27:02.554Z"
      },
      {
        "duration": 18,
        "start_time": "2023-05-03T16:27:02.564Z"
      },
      {
        "duration": 19,
        "start_time": "2023-05-03T16:27:02.584Z"
      },
      {
        "duration": 5,
        "start_time": "2023-05-03T16:27:02.605Z"
      },
      {
        "duration": 8,
        "start_time": "2023-05-03T16:27:03.050Z"
      },
      {
        "duration": 8,
        "start_time": "2023-05-03T16:27:03.230Z"
      },
      {
        "duration": 10,
        "start_time": "2023-05-03T16:27:03.372Z"
      },
      {
        "duration": 21,
        "start_time": "2023-05-03T16:27:03.645Z"
      },
      {
        "duration": 592,
        "start_time": "2023-05-03T16:27:04.679Z"
      },
      {
        "duration": 575,
        "start_time": "2023-05-03T16:27:05.273Z"
      },
      {
        "duration": 562,
        "start_time": "2023-05-03T16:27:05.850Z"
      },
      {
        "duration": 596,
        "start_time": "2023-05-03T16:27:06.414Z"
      },
      {
        "duration": 10,
        "start_time": "2023-05-03T16:27:07.012Z"
      },
      {
        "duration": 10,
        "start_time": "2023-05-03T16:27:07.024Z"
      },
      {
        "duration": 126,
        "start_time": "2023-05-03T16:27:07.037Z"
      },
      {
        "duration": 117,
        "start_time": "2023-05-03T16:27:07.164Z"
      },
      {
        "duration": 115,
        "start_time": "2023-05-03T16:27:17.209Z"
      },
      {
        "duration": 2088,
        "start_time": "2023-05-03T16:27:25.691Z"
      },
      {
        "duration": 672,
        "start_time": "2023-05-03T16:27:27.781Z"
      },
      {
        "duration": 15,
        "start_time": "2023-05-03T16:27:28.456Z"
      },
      {
        "duration": 16,
        "start_time": "2023-05-03T16:27:28.474Z"
      },
      {
        "duration": 31,
        "start_time": "2023-05-03T16:27:28.492Z"
      },
      {
        "duration": 3,
        "start_time": "2023-05-03T16:27:28.524Z"
      },
      {
        "duration": 12,
        "start_time": "2023-05-03T16:27:28.528Z"
      },
      {
        "duration": 15,
        "start_time": "2023-05-03T16:27:28.541Z"
      },
      {
        "duration": 12,
        "start_time": "2023-05-03T16:27:28.557Z"
      },
      {
        "duration": 11,
        "start_time": "2023-05-03T16:27:28.571Z"
      },
      {
        "duration": 14,
        "start_time": "2023-05-03T16:27:28.584Z"
      },
      {
        "duration": 15,
        "start_time": "2023-05-03T16:27:28.599Z"
      },
      {
        "duration": 8,
        "start_time": "2023-05-03T16:27:28.618Z"
      },
      {
        "duration": 16,
        "start_time": "2023-05-03T16:27:28.627Z"
      },
      {
        "duration": 30,
        "start_time": "2023-05-03T16:27:28.645Z"
      },
      {
        "duration": 609,
        "start_time": "2023-05-03T16:27:28.699Z"
      },
      {
        "duration": 549,
        "start_time": "2023-05-03T16:27:29.310Z"
      },
      {
        "duration": 553,
        "start_time": "2023-05-03T16:27:29.861Z"
      },
      {
        "duration": 543,
        "start_time": "2023-05-03T16:27:30.418Z"
      },
      {
        "duration": 7,
        "start_time": "2023-05-03T16:27:30.963Z"
      },
      {
        "duration": 24,
        "start_time": "2023-05-03T16:27:30.972Z"
      },
      {
        "duration": 138,
        "start_time": "2023-05-03T16:27:30.997Z"
      },
      {
        "duration": 118,
        "start_time": "2023-05-03T16:27:31.137Z"
      },
      {
        "duration": 7,
        "start_time": "2023-05-03T16:27:31.258Z"
      },
      {
        "duration": 578,
        "start_time": "2023-05-03T16:27:31.267Z"
      },
      {
        "duration": 4,
        "start_time": "2023-05-03T16:31:21.633Z"
      },
      {
        "duration": 4,
        "start_time": "2023-05-03T16:31:30.582Z"
      },
      {
        "duration": 1503,
        "start_time": "2023-05-04T09:04:23.418Z"
      },
      {
        "duration": 3165,
        "start_time": "2023-05-04T09:04:24.923Z"
      },
      {
        "duration": 14,
        "start_time": "2023-05-04T09:04:28.090Z"
      },
      {
        "duration": 21,
        "start_time": "2023-05-04T09:04:28.105Z"
      },
      {
        "duration": 16,
        "start_time": "2023-05-04T09:04:28.129Z"
      },
      {
        "duration": 2,
        "start_time": "2023-05-04T09:04:28.147Z"
      },
      {
        "duration": 9,
        "start_time": "2023-05-04T09:04:28.151Z"
      },
      {
        "duration": 32,
        "start_time": "2023-05-04T09:04:28.161Z"
      },
      {
        "duration": 18,
        "start_time": "2023-05-04T09:04:28.195Z"
      },
      {
        "duration": 6,
        "start_time": "2023-05-04T09:04:28.215Z"
      },
      {
        "duration": 8,
        "start_time": "2023-05-04T09:04:28.223Z"
      },
      {
        "duration": 12,
        "start_time": "2023-05-04T09:04:28.232Z"
      },
      {
        "duration": 6,
        "start_time": "2023-05-04T09:04:28.245Z"
      },
      {
        "duration": 17,
        "start_time": "2023-05-04T09:04:28.253Z"
      },
      {
        "duration": 41,
        "start_time": "2023-05-04T09:04:28.271Z"
      },
      {
        "duration": 574,
        "start_time": "2023-05-04T09:04:28.314Z"
      },
      {
        "duration": 549,
        "start_time": "2023-05-04T09:04:28.890Z"
      },
      {
        "duration": 535,
        "start_time": "2023-05-04T09:04:29.440Z"
      },
      {
        "duration": 506,
        "start_time": "2023-05-04T09:04:29.977Z"
      },
      {
        "duration": 9,
        "start_time": "2023-05-04T09:04:30.485Z"
      },
      {
        "duration": 31,
        "start_time": "2023-05-04T09:04:30.496Z"
      },
      {
        "duration": 132,
        "start_time": "2023-05-04T09:04:30.528Z"
      },
      {
        "duration": 153,
        "start_time": "2023-05-04T09:04:30.662Z"
      },
      {
        "duration": 9,
        "start_time": "2023-05-04T09:04:30.817Z"
      },
      {
        "duration": 605,
        "start_time": "2023-05-04T09:04:30.827Z"
      },
      {
        "duration": 3,
        "start_time": "2023-05-04T09:04:31.434Z"
      },
      {
        "duration": 48,
        "start_time": "2023-05-04T09:04:31.438Z"
      },
      {
        "duration": 48,
        "start_time": "2023-05-04T09:04:31.488Z"
      },
      {
        "duration": 21,
        "start_time": "2023-05-04T09:04:31.537Z"
      },
      {
        "duration": 41,
        "start_time": "2023-05-04T09:04:31.560Z"
      },
      {
        "duration": 3189,
        "start_time": "2023-05-04T09:04:31.602Z"
      },
      {
        "duration": 72041,
        "start_time": "2023-05-04T09:04:34.792Z"
      },
      {
        "duration": 7538,
        "start_time": "2023-05-04T09:05:46.835Z"
      },
      {
        "duration": 7,
        "start_time": "2023-05-04T09:05:54.374Z"
      },
      {
        "duration": 2884,
        "start_time": "2023-05-04T09:09:47.695Z"
      },
      {
        "duration": 626,
        "start_time": "2023-05-04T09:10:30.269Z"
      },
      {
        "duration": 547,
        "start_time": "2023-05-04T09:14:44.852Z"
      },
      {
        "duration": 626,
        "start_time": "2023-05-04T09:14:58.085Z"
      },
      {
        "duration": 633,
        "start_time": "2023-05-04T09:15:21.831Z"
      },
      {
        "duration": 700,
        "start_time": "2023-05-04T09:16:42.588Z"
      },
      {
        "duration": 184,
        "start_time": "2023-05-04T09:37:31.314Z"
      },
      {
        "duration": 143,
        "start_time": "2023-05-04T09:37:51.647Z"
      },
      {
        "duration": 122,
        "start_time": "2023-05-04T09:37:55.558Z"
      },
      {
        "duration": 112,
        "start_time": "2023-05-04T09:38:10.264Z"
      },
      {
        "duration": 116,
        "start_time": "2023-05-04T09:38:16.238Z"
      },
      {
        "duration": 296,
        "start_time": "2023-05-04T09:38:26.106Z"
      },
      {
        "duration": 308,
        "start_time": "2023-05-04T09:39:07.504Z"
      },
      {
        "duration": 357,
        "start_time": "2023-05-04T09:39:21.936Z"
      },
      {
        "duration": 504,
        "start_time": "2023-05-04T09:39:35.923Z"
      },
      {
        "duration": 313,
        "start_time": "2023-05-04T09:39:57.563Z"
      },
      {
        "duration": 266,
        "start_time": "2023-05-04T09:40:08.195Z"
      },
      {
        "duration": 342,
        "start_time": "2023-05-04T09:40:44.671Z"
      },
      {
        "duration": 420,
        "start_time": "2023-05-04T09:41:24.740Z"
      },
      {
        "duration": 357,
        "start_time": "2023-05-04T09:42:25.296Z"
      },
      {
        "duration": 402,
        "start_time": "2023-05-04T09:42:55.353Z"
      },
      {
        "duration": 353,
        "start_time": "2023-05-04T09:43:20.698Z"
      },
      {
        "duration": 346,
        "start_time": "2023-05-04T09:43:42.996Z"
      },
      {
        "duration": 354,
        "start_time": "2023-05-04T09:44:07.495Z"
      },
      {
        "duration": 451,
        "start_time": "2023-05-04T09:44:17.535Z"
      },
      {
        "duration": 4,
        "start_time": "2023-05-04T09:44:25.183Z"
      },
      {
        "duration": 103,
        "start_time": "2023-05-04T09:44:31.606Z"
      },
      {
        "duration": 419,
        "start_time": "2023-05-04T09:44:41.709Z"
      },
      {
        "duration": 353,
        "start_time": "2023-05-04T09:44:46.892Z"
      },
      {
        "duration": 419,
        "start_time": "2023-05-04T09:44:57.139Z"
      },
      {
        "duration": 375,
        "start_time": "2023-05-04T09:45:56.042Z"
      },
      {
        "duration": 537,
        "start_time": "2023-05-04T09:46:08.712Z"
      },
      {
        "duration": 375,
        "start_time": "2023-05-04T09:47:08.726Z"
      },
      {
        "duration": 498,
        "start_time": "2023-05-04T09:48:25.563Z"
      },
      {
        "duration": 442,
        "start_time": "2023-05-04T09:49:36.058Z"
      },
      {
        "duration": 354,
        "start_time": "2023-05-04T09:50:19.411Z"
      },
      {
        "duration": 356,
        "start_time": "2023-05-04T09:50:34.216Z"
      },
      {
        "duration": 416,
        "start_time": "2023-05-04T09:50:49.323Z"
      },
      {
        "duration": 437,
        "start_time": "2023-05-04T09:56:37.062Z"
      },
      {
        "duration": 392,
        "start_time": "2023-05-04T09:56:51.827Z"
      },
      {
        "duration": 362,
        "start_time": "2023-05-04T09:57:19.398Z"
      },
      {
        "duration": 348,
        "start_time": "2023-05-04T10:01:38.063Z"
      },
      {
        "duration": 722,
        "start_time": "2023-05-04T10:01:58.495Z"
      },
      {
        "duration": 378,
        "start_time": "2023-05-04T10:07:27.109Z"
      },
      {
        "duration": 424,
        "start_time": "2023-05-04T10:09:44.272Z"
      },
      {
        "duration": 73,
        "start_time": "2023-05-04T10:16:02.416Z"
      },
      {
        "duration": 10,
        "start_time": "2023-05-04T10:22:36.590Z"
      },
      {
        "duration": 577,
        "start_time": "2023-05-04T10:25:33.318Z"
      },
      {
        "duration": 712,
        "start_time": "2023-05-04T10:27:22.319Z"
      },
      {
        "duration": 15,
        "start_time": "2023-05-04T10:52:00.975Z"
      },
      {
        "duration": 3,
        "start_time": "2023-05-04T10:58:39.296Z"
      },
      {
        "duration": 3,
        "start_time": "2023-05-04T10:58:50.096Z"
      },
      {
        "duration": 3,
        "start_time": "2023-05-04T10:59:08.223Z"
      },
      {
        "duration": 19,
        "start_time": "2023-05-04T10:59:37.364Z"
      },
      {
        "duration": 12,
        "start_time": "2023-05-04T11:00:22.568Z"
      },
      {
        "duration": 1622,
        "start_time": "2023-05-04T11:02:26.420Z"
      },
      {
        "duration": 13,
        "start_time": "2023-05-04T11:02:46.334Z"
      },
      {
        "duration": 37,
        "start_time": "2023-05-04T11:13:56.953Z"
      },
      {
        "duration": 38,
        "start_time": "2023-05-04T11:15:22.906Z"
      },
      {
        "duration": 115,
        "start_time": "2023-05-04T11:16:04.419Z"
      },
      {
        "duration": 34,
        "start_time": "2023-05-04T11:16:11.690Z"
      },
      {
        "duration": 24,
        "start_time": "2023-05-04T11:16:28.248Z"
      },
      {
        "duration": 34,
        "start_time": "2023-05-04T11:16:44.981Z"
      },
      {
        "duration": 81,
        "start_time": "2023-05-04T11:16:56.464Z"
      },
      {
        "duration": 31,
        "start_time": "2023-05-04T11:17:06.756Z"
      },
      {
        "duration": 31,
        "start_time": "2023-05-04T11:17:15.458Z"
      },
      {
        "duration": 32,
        "start_time": "2023-05-04T11:18:56.439Z"
      },
      {
        "duration": 32,
        "start_time": "2023-05-04T11:22:19.509Z"
      },
      {
        "duration": 44,
        "start_time": "2023-05-04T11:22:25.047Z"
      },
      {
        "duration": 31,
        "start_time": "2023-05-04T11:22:51.990Z"
      },
      {
        "duration": 29,
        "start_time": "2023-05-04T11:23:15.417Z"
      },
      {
        "duration": 31,
        "start_time": "2023-05-04T11:27:53.807Z"
      },
      {
        "duration": 37,
        "start_time": "2023-05-04T11:28:07.884Z"
      },
      {
        "duration": 12,
        "start_time": "2023-05-04T11:29:03.783Z"
      },
      {
        "duration": 11,
        "start_time": "2023-05-04T11:29:13.618Z"
      },
      {
        "duration": 12,
        "start_time": "2023-05-04T11:29:23.353Z"
      },
      {
        "duration": 18,
        "start_time": "2023-05-04T11:30:30.640Z"
      },
      {
        "duration": 114,
        "start_time": "2023-05-04T11:34:47.853Z"
      },
      {
        "duration": 386,
        "start_time": "2023-05-04T11:35:04.720Z"
      },
      {
        "duration": 98,
        "start_time": "2023-05-04T11:35:37.904Z"
      },
      {
        "duration": 126,
        "start_time": "2023-05-04T11:36:22.955Z"
      },
      {
        "duration": 73,
        "start_time": "2023-05-04T11:36:27.920Z"
      },
      {
        "duration": 17,
        "start_time": "2023-05-04T11:36:45.108Z"
      },
      {
        "duration": 25,
        "start_time": "2023-05-04T11:39:03.481Z"
      },
      {
        "duration": 24,
        "start_time": "2023-05-04T11:39:15.213Z"
      },
      {
        "duration": 22,
        "start_time": "2023-05-04T11:39:28.192Z"
      },
      {
        "duration": 30,
        "start_time": "2023-05-04T11:39:56.162Z"
      },
      {
        "duration": 72,
        "start_time": "2023-05-04T11:43:56.972Z"
      },
      {
        "duration": 25,
        "start_time": "2023-05-04T13:41:24.194Z"
      },
      {
        "duration": 1423,
        "start_time": "2023-05-04T13:41:33.735Z"
      },
      {
        "duration": 697,
        "start_time": "2023-05-04T13:41:35.160Z"
      },
      {
        "duration": 23,
        "start_time": "2023-05-04T13:41:35.858Z"
      },
      {
        "duration": 25,
        "start_time": "2023-05-04T13:41:35.883Z"
      },
      {
        "duration": 16,
        "start_time": "2023-05-04T13:41:35.910Z"
      },
      {
        "duration": 3,
        "start_time": "2023-05-04T13:41:35.928Z"
      },
      {
        "duration": 13,
        "start_time": "2023-05-04T13:41:35.933Z"
      },
      {
        "duration": 12,
        "start_time": "2023-05-04T13:41:35.947Z"
      },
      {
        "duration": 10,
        "start_time": "2023-05-04T13:41:35.972Z"
      },
      {
        "duration": 16,
        "start_time": "2023-05-04T13:41:35.985Z"
      },
      {
        "duration": 6,
        "start_time": "2023-05-04T13:41:36.003Z"
      },
      {
        "duration": 10,
        "start_time": "2023-05-04T13:41:36.010Z"
      },
      {
        "duration": 16,
        "start_time": "2023-05-04T13:41:36.021Z"
      },
      {
        "duration": 12,
        "start_time": "2023-05-04T13:41:36.038Z"
      },
      {
        "duration": 37,
        "start_time": "2023-05-04T13:41:36.052Z"
      },
      {
        "duration": 832,
        "start_time": "2023-05-04T13:41:36.091Z"
      },
      {
        "duration": 710,
        "start_time": "2023-05-04T13:41:36.925Z"
      },
      {
        "duration": 788,
        "start_time": "2023-05-04T13:41:37.637Z"
      },
      {
        "duration": 443,
        "start_time": "2023-05-04T13:41:38.427Z"
      },
      {
        "duration": 462,
        "start_time": "2023-05-04T13:41:38.871Z"
      },
      {
        "duration": 599,
        "start_time": "2023-05-04T13:41:39.334Z"
      },
      {
        "duration": 116,
        "start_time": "2023-05-04T13:41:39.936Z"
      },
      {
        "duration": 151,
        "start_time": "2023-05-04T13:41:40.057Z"
      },
      {
        "duration": 10,
        "start_time": "2023-05-04T13:41:40.210Z"
      },
      {
        "duration": 825,
        "start_time": "2023-05-04T13:41:40.222Z"
      },
      {
        "duration": 1162,
        "start_time": "2023-05-04T13:41:41.048Z"
      },
      {
        "duration": 0,
        "start_time": "2023-05-04T13:41:42.213Z"
      },
      {
        "duration": 0,
        "start_time": "2023-05-04T13:41:42.214Z"
      },
      {
        "duration": 0,
        "start_time": "2023-05-04T13:41:42.215Z"
      },
      {
        "duration": 0,
        "start_time": "2023-05-04T13:41:42.216Z"
      },
      {
        "duration": 0,
        "start_time": "2023-05-04T13:41:42.217Z"
      },
      {
        "duration": 0,
        "start_time": "2023-05-04T13:41:42.218Z"
      },
      {
        "duration": 0,
        "start_time": "2023-05-04T13:41:42.219Z"
      },
      {
        "duration": 0,
        "start_time": "2023-05-04T13:41:42.220Z"
      },
      {
        "duration": 0,
        "start_time": "2023-05-04T13:41:42.222Z"
      },
      {
        "duration": 1044,
        "start_time": "2023-05-04T13:42:40.556Z"
      },
      {
        "duration": 912,
        "start_time": "2023-05-04T13:42:47.580Z"
      },
      {
        "duration": 1420,
        "start_time": "2023-05-04T13:43:27.183Z"
      },
      {
        "duration": 614,
        "start_time": "2023-05-04T13:43:28.604Z"
      },
      {
        "duration": 13,
        "start_time": "2023-05-04T13:43:29.220Z"
      },
      {
        "duration": 18,
        "start_time": "2023-05-04T13:43:29.235Z"
      },
      {
        "duration": 30,
        "start_time": "2023-05-04T13:43:29.254Z"
      },
      {
        "duration": 3,
        "start_time": "2023-05-04T13:43:29.285Z"
      },
      {
        "duration": 7,
        "start_time": "2023-05-04T13:43:29.289Z"
      },
      {
        "duration": 18,
        "start_time": "2023-05-04T13:43:29.297Z"
      },
      {
        "duration": 9,
        "start_time": "2023-05-04T13:43:29.317Z"
      },
      {
        "duration": 11,
        "start_time": "2023-05-04T13:43:29.329Z"
      },
      {
        "duration": 26,
        "start_time": "2023-05-04T13:43:29.341Z"
      },
      {
        "duration": 21,
        "start_time": "2023-05-04T13:43:29.368Z"
      },
      {
        "duration": 7,
        "start_time": "2023-05-04T13:43:29.391Z"
      },
      {
        "duration": 10,
        "start_time": "2023-05-04T13:43:29.400Z"
      },
      {
        "duration": 20,
        "start_time": "2023-05-04T13:43:29.412Z"
      },
      {
        "duration": 652,
        "start_time": "2023-05-04T13:43:29.434Z"
      },
      {
        "duration": 614,
        "start_time": "2023-05-04T13:43:30.088Z"
      },
      {
        "duration": 715,
        "start_time": "2023-05-04T13:43:30.703Z"
      },
      {
        "duration": 383,
        "start_time": "2023-05-04T13:43:31.420Z"
      },
      {
        "duration": 467,
        "start_time": "2023-05-04T13:43:31.805Z"
      },
      {
        "duration": 416,
        "start_time": "2023-05-04T13:43:32.273Z"
      },
      {
        "duration": 106,
        "start_time": "2023-05-04T13:43:32.690Z"
      },
      {
        "duration": 111,
        "start_time": "2023-05-04T13:43:32.798Z"
      },
      {
        "duration": 8,
        "start_time": "2023-05-04T13:43:32.910Z"
      },
      {
        "duration": 716,
        "start_time": "2023-05-04T13:43:32.919Z"
      },
      {
        "duration": 871,
        "start_time": "2023-05-04T13:43:33.637Z"
      },
      {
        "duration": 0,
        "start_time": "2023-05-04T13:43:34.510Z"
      },
      {
        "duration": 0,
        "start_time": "2023-05-04T13:43:34.511Z"
      },
      {
        "duration": 0,
        "start_time": "2023-05-04T13:43:34.512Z"
      },
      {
        "duration": 0,
        "start_time": "2023-05-04T13:43:34.513Z"
      },
      {
        "duration": 0,
        "start_time": "2023-05-04T13:43:34.514Z"
      },
      {
        "duration": 0,
        "start_time": "2023-05-04T13:43:34.515Z"
      },
      {
        "duration": 0,
        "start_time": "2023-05-04T13:43:34.516Z"
      },
      {
        "duration": 0,
        "start_time": "2023-05-04T13:43:34.518Z"
      },
      {
        "duration": 0,
        "start_time": "2023-05-04T13:43:34.519Z"
      },
      {
        "duration": 831,
        "start_time": "2023-05-04T13:45:18.783Z"
      },
      {
        "duration": 7,
        "start_time": "2023-05-04T13:45:40.890Z"
      },
      {
        "duration": 1175,
        "start_time": "2023-05-04T13:45:59.790Z"
      },
      {
        "duration": 857,
        "start_time": "2023-05-04T13:46:49.987Z"
      },
      {
        "duration": 1032,
        "start_time": "2023-05-04T13:47:29.898Z"
      },
      {
        "duration": 1756,
        "start_time": "2023-05-04T13:48:03.630Z"
      },
      {
        "duration": 3,
        "start_time": "2023-05-04T13:50:22.350Z"
      },
      {
        "duration": 4,
        "start_time": "2023-05-04T13:52:23.846Z"
      },
      {
        "duration": 4,
        "start_time": "2023-05-04T13:55:10.792Z"
      },
      {
        "duration": 88,
        "start_time": "2023-05-04T13:55:51.586Z"
      },
      {
        "duration": 15,
        "start_time": "2023-05-04T13:59:06.030Z"
      },
      {
        "duration": 12,
        "start_time": "2023-05-04T13:59:16.862Z"
      },
      {
        "duration": 14,
        "start_time": "2023-05-04T13:59:30.210Z"
      },
      {
        "duration": 61,
        "start_time": "2023-05-04T14:00:30.903Z"
      },
      {
        "duration": 15,
        "start_time": "2023-05-04T14:00:39.792Z"
      },
      {
        "duration": 81,
        "start_time": "2023-05-04T14:01:26.118Z"
      },
      {
        "duration": 125,
        "start_time": "2023-05-04T14:01:33.306Z"
      },
      {
        "duration": 1758,
        "start_time": "2023-05-04T14:02:26.796Z"
      },
      {
        "duration": 681,
        "start_time": "2023-05-04T14:02:28.555Z"
      },
      {
        "duration": 16,
        "start_time": "2023-05-04T14:02:29.238Z"
      },
      {
        "duration": 34,
        "start_time": "2023-05-04T14:02:29.256Z"
      },
      {
        "duration": 16,
        "start_time": "2023-05-04T14:02:29.293Z"
      },
      {
        "duration": 3,
        "start_time": "2023-05-04T14:02:29.311Z"
      },
      {
        "duration": 10,
        "start_time": "2023-05-04T14:02:29.315Z"
      },
      {
        "duration": 14,
        "start_time": "2023-05-04T14:02:29.327Z"
      },
      {
        "duration": 30,
        "start_time": "2023-05-04T14:02:29.343Z"
      },
      {
        "duration": 180,
        "start_time": "2023-05-04T14:02:29.375Z"
      },
      {
        "duration": 18,
        "start_time": "2023-05-04T14:02:29.557Z"
      },
      {
        "duration": 34,
        "start_time": "2023-05-04T14:02:29.578Z"
      },
      {
        "duration": 10,
        "start_time": "2023-05-04T14:02:29.614Z"
      },
      {
        "duration": 13,
        "start_time": "2023-05-04T14:02:29.629Z"
      },
      {
        "duration": 43,
        "start_time": "2023-05-04T14:02:29.644Z"
      },
      {
        "duration": 749,
        "start_time": "2023-05-04T14:02:29.689Z"
      },
      {
        "duration": 684,
        "start_time": "2023-05-04T14:02:30.441Z"
      },
      {
        "duration": 739,
        "start_time": "2023-05-04T14:02:31.127Z"
      },
      {
        "duration": 362,
        "start_time": "2023-05-04T14:02:31.869Z"
      },
      {
        "duration": 435,
        "start_time": "2023-05-04T14:02:32.232Z"
      },
      {
        "duration": 436,
        "start_time": "2023-05-04T14:02:32.669Z"
      },
      {
        "duration": 110,
        "start_time": "2023-05-04T14:02:33.107Z"
      },
      {
        "duration": 117,
        "start_time": "2023-05-04T14:02:33.219Z"
      },
      {
        "duration": 7,
        "start_time": "2023-05-04T14:02:33.338Z"
      },
      {
        "duration": 705,
        "start_time": "2023-05-04T14:02:33.347Z"
      },
      {
        "duration": 120,
        "start_time": "2023-05-04T14:02:34.054Z"
      },
      {
        "duration": 0,
        "start_time": "2023-05-04T14:02:34.176Z"
      },
      {
        "duration": 0,
        "start_time": "2023-05-04T14:02:34.177Z"
      },
      {
        "duration": 0,
        "start_time": "2023-05-04T14:02:34.178Z"
      },
      {
        "duration": 0,
        "start_time": "2023-05-04T14:02:34.179Z"
      },
      {
        "duration": 0,
        "start_time": "2023-05-04T14:02:34.180Z"
      },
      {
        "duration": 0,
        "start_time": "2023-05-04T14:02:34.181Z"
      },
      {
        "duration": 0,
        "start_time": "2023-05-04T14:02:34.182Z"
      },
      {
        "duration": 0,
        "start_time": "2023-05-04T14:02:34.183Z"
      },
      {
        "duration": 0,
        "start_time": "2023-05-04T14:02:34.183Z"
      },
      {
        "duration": 4,
        "start_time": "2023-05-04T14:09:06.067Z"
      },
      {
        "duration": 4,
        "start_time": "2023-05-04T14:09:28.160Z"
      },
      {
        "duration": 4,
        "start_time": "2023-05-04T14:10:11.649Z"
      },
      {
        "duration": 8,
        "start_time": "2023-05-04T14:10:32.017Z"
      },
      {
        "duration": 11,
        "start_time": "2023-05-04T14:12:29.213Z"
      },
      {
        "duration": 18,
        "start_time": "2023-05-04T14:12:44.618Z"
      },
      {
        "duration": 1507,
        "start_time": "2023-05-04T14:12:55.172Z"
      },
      {
        "duration": 638,
        "start_time": "2023-05-04T14:12:56.681Z"
      },
      {
        "duration": 14,
        "start_time": "2023-05-04T14:12:57.320Z"
      },
      {
        "duration": 18,
        "start_time": "2023-05-04T14:12:57.336Z"
      },
      {
        "duration": 29,
        "start_time": "2023-05-04T14:12:57.356Z"
      },
      {
        "duration": 4,
        "start_time": "2023-05-04T14:12:57.387Z"
      },
      {
        "duration": 17,
        "start_time": "2023-05-04T14:12:57.393Z"
      },
      {
        "duration": 17,
        "start_time": "2023-05-04T14:12:57.411Z"
      },
      {
        "duration": 27,
        "start_time": "2023-05-04T14:12:57.430Z"
      },
      {
        "duration": 13,
        "start_time": "2023-05-04T14:12:57.459Z"
      },
      {
        "duration": 19,
        "start_time": "2023-05-04T14:12:57.473Z"
      },
      {
        "duration": 27,
        "start_time": "2023-05-04T14:12:57.494Z"
      },
      {
        "duration": 6,
        "start_time": "2023-05-04T14:12:57.522Z"
      },
      {
        "duration": 12,
        "start_time": "2023-05-04T14:12:57.529Z"
      },
      {
        "duration": 22,
        "start_time": "2023-05-04T14:12:57.543Z"
      },
      {
        "duration": 643,
        "start_time": "2023-05-04T14:12:57.566Z"
      },
      {
        "duration": 580,
        "start_time": "2023-05-04T14:12:58.210Z"
      },
      {
        "duration": 684,
        "start_time": "2023-05-04T14:12:58.792Z"
      },
      {
        "duration": 369,
        "start_time": "2023-05-04T14:12:59.478Z"
      },
      {
        "duration": 430,
        "start_time": "2023-05-04T14:12:59.848Z"
      },
      {
        "duration": 553,
        "start_time": "2023-05-04T14:13:00.279Z"
      },
      {
        "duration": 107,
        "start_time": "2023-05-04T14:13:00.834Z"
      },
      {
        "duration": 107,
        "start_time": "2023-05-04T14:13:00.943Z"
      },
      {
        "duration": 7,
        "start_time": "2023-05-04T14:13:01.052Z"
      },
      {
        "duration": 759,
        "start_time": "2023-05-04T14:13:01.060Z"
      },
      {
        "duration": 18,
        "start_time": "2023-05-04T14:13:01.821Z"
      },
      {
        "duration": 36,
        "start_time": "2023-05-04T14:13:01.841Z"
      },
      {
        "duration": 53,
        "start_time": "2023-05-04T14:13:01.880Z"
      },
      {
        "duration": 49,
        "start_time": "2023-05-04T14:13:01.935Z"
      },
      {
        "duration": 27,
        "start_time": "2023-05-04T14:13:01.986Z"
      },
      {
        "duration": 40,
        "start_time": "2023-05-04T14:13:02.015Z"
      },
      {
        "duration": 3121,
        "start_time": "2023-05-04T14:13:02.057Z"
      },
      {
        "duration": 1482,
        "start_time": "2023-05-04T14:14:20.037Z"
      },
      {
        "duration": 618,
        "start_time": "2023-05-04T14:14:21.521Z"
      },
      {
        "duration": 14,
        "start_time": "2023-05-04T14:14:22.140Z"
      },
      {
        "duration": 63,
        "start_time": "2023-05-04T14:14:22.156Z"
      },
      {
        "duration": 16,
        "start_time": "2023-05-04T14:14:22.220Z"
      },
      {
        "duration": 3,
        "start_time": "2023-05-04T14:14:22.238Z"
      },
      {
        "duration": 18,
        "start_time": "2023-05-04T14:14:22.243Z"
      },
      {
        "duration": 12,
        "start_time": "2023-05-04T14:14:22.263Z"
      },
      {
        "duration": 6,
        "start_time": "2023-05-04T14:14:22.277Z"
      },
      {
        "duration": 6,
        "start_time": "2023-05-04T14:14:22.285Z"
      },
      {
        "duration": 12,
        "start_time": "2023-05-04T14:14:22.293Z"
      },
      {
        "duration": 19,
        "start_time": "2023-05-04T14:14:22.306Z"
      },
      {
        "duration": 6,
        "start_time": "2023-05-04T14:14:22.326Z"
      },
      {
        "duration": 14,
        "start_time": "2023-05-04T14:14:22.333Z"
      },
      {
        "duration": 34,
        "start_time": "2023-05-04T14:14:22.348Z"
      },
      {
        "duration": 658,
        "start_time": "2023-05-04T14:14:22.384Z"
      },
      {
        "duration": 580,
        "start_time": "2023-05-04T14:14:23.044Z"
      },
      {
        "duration": 666,
        "start_time": "2023-05-04T14:14:23.625Z"
      },
      {
        "duration": 382,
        "start_time": "2023-05-04T14:14:24.293Z"
      },
      {
        "duration": 395,
        "start_time": "2023-05-04T14:14:24.677Z"
      },
      {
        "duration": 413,
        "start_time": "2023-05-04T14:14:25.073Z"
      },
      {
        "duration": 101,
        "start_time": "2023-05-04T14:14:25.488Z"
      },
      {
        "duration": 152,
        "start_time": "2023-05-04T14:14:25.591Z"
      },
      {
        "duration": 11,
        "start_time": "2023-05-04T14:14:25.744Z"
      },
      {
        "duration": 814,
        "start_time": "2023-05-04T14:14:25.757Z"
      },
      {
        "duration": 19,
        "start_time": "2023-05-04T14:14:26.573Z"
      },
      {
        "duration": 3,
        "start_time": "2023-05-04T14:14:26.594Z"
      },
      {
        "duration": 25,
        "start_time": "2023-05-04T14:14:26.601Z"
      },
      {
        "duration": 27,
        "start_time": "2023-05-04T14:14:26.628Z"
      },
      {
        "duration": 20,
        "start_time": "2023-05-04T14:14:26.657Z"
      },
      {
        "duration": 6,
        "start_time": "2023-05-04T14:14:26.678Z"
      },
      {
        "duration": 3089,
        "start_time": "2023-05-04T14:14:26.685Z"
      },
      {
        "duration": 70387,
        "start_time": "2023-05-04T14:14:29.777Z"
      },
      {
        "duration": 7531,
        "start_time": "2023-05-04T14:15:40.166Z"
      },
      {
        "duration": 7,
        "start_time": "2023-05-04T14:15:47.699Z"
      },
      {
        "duration": 297,
        "start_time": "2023-05-04T14:19:06.290Z"
      },
      {
        "duration": 27,
        "start_time": "2023-05-04T14:20:06.013Z"
      },
      {
        "duration": 29,
        "start_time": "2023-05-04T14:20:19.901Z"
      },
      {
        "duration": 1815,
        "start_time": "2023-05-04T14:20:27.784Z"
      },
      {
        "duration": 737,
        "start_time": "2023-05-04T14:20:29.601Z"
      },
      {
        "duration": 15,
        "start_time": "2023-05-04T14:20:30.340Z"
      },
      {
        "duration": 70,
        "start_time": "2023-05-04T14:20:30.357Z"
      },
      {
        "duration": 48,
        "start_time": "2023-05-04T14:20:30.428Z"
      },
      {
        "duration": 37,
        "start_time": "2023-05-04T14:20:30.478Z"
      },
      {
        "duration": 46,
        "start_time": "2023-05-04T14:20:30.516Z"
      },
      {
        "duration": 40,
        "start_time": "2023-05-04T14:20:30.563Z"
      },
      {
        "duration": 46,
        "start_time": "2023-05-04T14:20:30.604Z"
      },
      {
        "duration": 35,
        "start_time": "2023-05-04T14:20:30.653Z"
      },
      {
        "duration": 41,
        "start_time": "2023-05-04T14:20:30.690Z"
      },
      {
        "duration": 67,
        "start_time": "2023-05-04T14:20:30.732Z"
      },
      {
        "duration": 40,
        "start_time": "2023-05-04T14:20:30.801Z"
      },
      {
        "duration": 24,
        "start_time": "2023-05-04T14:20:30.843Z"
      },
      {
        "duration": 46,
        "start_time": "2023-05-04T14:20:30.869Z"
      },
      {
        "duration": 692,
        "start_time": "2023-05-04T14:20:30.917Z"
      },
      {
        "duration": 622,
        "start_time": "2023-05-04T14:20:31.610Z"
      },
      {
        "duration": 726,
        "start_time": "2023-05-04T14:20:32.233Z"
      },
      {
        "duration": 416,
        "start_time": "2023-05-04T14:20:32.960Z"
      },
      {
        "duration": 411,
        "start_time": "2023-05-04T14:20:33.378Z"
      },
      {
        "duration": 412,
        "start_time": "2023-05-04T14:20:33.791Z"
      },
      {
        "duration": 115,
        "start_time": "2023-05-04T14:20:34.204Z"
      },
      {
        "duration": 120,
        "start_time": "2023-05-04T14:20:34.321Z"
      },
      {
        "duration": 9,
        "start_time": "2023-05-04T14:20:34.442Z"
      },
      {
        "duration": 728,
        "start_time": "2023-05-04T14:20:34.453Z"
      },
      {
        "duration": 37,
        "start_time": "2023-05-04T14:20:35.183Z"
      },
      {
        "duration": 3,
        "start_time": "2023-05-04T14:20:35.222Z"
      },
      {
        "duration": 10,
        "start_time": "2023-05-04T14:20:35.227Z"
      },
      {
        "duration": 41,
        "start_time": "2023-05-04T14:20:35.239Z"
      },
      {
        "duration": 10,
        "start_time": "2023-05-04T14:20:35.282Z"
      },
      {
        "duration": 2,
        "start_time": "2023-05-04T14:20:35.294Z"
      },
      {
        "duration": 3393,
        "start_time": "2023-05-04T14:20:35.298Z"
      },
      {
        "duration": 68714,
        "start_time": "2023-05-04T14:20:38.693Z"
      },
      {
        "duration": 7283,
        "start_time": "2023-05-04T14:21:47.409Z"
      },
      {
        "duration": 7,
        "start_time": "2023-05-04T14:21:54.694Z"
      },
      {
        "duration": 2798,
        "start_time": "2023-05-04T14:24:47.331Z"
      },
      {
        "duration": 27,
        "start_time": "2023-05-04T14:25:46.727Z"
      },
      {
        "duration": 1632,
        "start_time": "2023-05-04T14:25:54.355Z"
      },
      {
        "duration": 10,
        "start_time": "2023-05-04T14:30:05.280Z"
      },
      {
        "duration": 1494,
        "start_time": "2023-05-04T14:34:10.341Z"
      },
      {
        "duration": 651,
        "start_time": "2023-05-04T14:34:11.836Z"
      },
      {
        "duration": 15,
        "start_time": "2023-05-04T14:34:12.488Z"
      },
      {
        "duration": 16,
        "start_time": "2023-05-04T14:34:12.505Z"
      },
      {
        "duration": 16,
        "start_time": "2023-05-04T14:34:12.522Z"
      },
      {
        "duration": 2,
        "start_time": "2023-05-04T14:34:12.539Z"
      },
      {
        "duration": 30,
        "start_time": "2023-05-04T14:34:12.542Z"
      },
      {
        "duration": 9,
        "start_time": "2023-05-04T14:34:12.574Z"
      },
      {
        "duration": 12,
        "start_time": "2023-05-04T14:34:12.584Z"
      },
      {
        "duration": 11,
        "start_time": "2023-05-04T14:34:12.598Z"
      },
      {
        "duration": 4,
        "start_time": "2023-05-04T14:34:12.610Z"
      },
      {
        "duration": 17,
        "start_time": "2023-05-04T14:34:12.615Z"
      },
      {
        "duration": 5,
        "start_time": "2023-05-04T14:34:12.633Z"
      },
      {
        "duration": 8,
        "start_time": "2023-05-04T14:34:12.640Z"
      },
      {
        "duration": 42,
        "start_time": "2023-05-04T14:34:12.649Z"
      },
      {
        "duration": 687,
        "start_time": "2023-05-04T14:34:12.693Z"
      },
      {
        "duration": 631,
        "start_time": "2023-05-04T14:34:13.382Z"
      },
      {
        "duration": 746,
        "start_time": "2023-05-04T14:34:14.014Z"
      },
      {
        "duration": 400,
        "start_time": "2023-05-04T14:34:14.762Z"
      },
      {
        "duration": 520,
        "start_time": "2023-05-04T14:34:15.164Z"
      },
      {
        "duration": 571,
        "start_time": "2023-05-04T14:34:15.687Z"
      },
      {
        "duration": 107,
        "start_time": "2023-05-04T14:34:16.260Z"
      },
      {
        "duration": 104,
        "start_time": "2023-05-04T14:34:16.371Z"
      },
      {
        "duration": 7,
        "start_time": "2023-05-04T14:34:16.477Z"
      },
      {
        "duration": 712,
        "start_time": "2023-05-04T14:34:16.486Z"
      },
      {
        "duration": 33,
        "start_time": "2023-05-04T14:34:17.199Z"
      },
      {
        "duration": 2,
        "start_time": "2023-05-04T14:34:17.234Z"
      },
      {
        "duration": 8,
        "start_time": "2023-05-04T14:34:17.239Z"
      },
      {
        "duration": 35,
        "start_time": "2023-05-04T14:34:17.248Z"
      },
      {
        "duration": 25,
        "start_time": "2023-05-04T14:34:17.285Z"
      },
      {
        "duration": 7,
        "start_time": "2023-05-04T14:34:17.311Z"
      },
      {
        "duration": 8,
        "start_time": "2023-05-04T14:34:17.320Z"
      },
      {
        "duration": 2444,
        "start_time": "2023-05-04T14:34:17.329Z"
      },
      {
        "duration": 66754,
        "start_time": "2023-05-04T14:34:19.779Z"
      },
      {
        "duration": 7078,
        "start_time": "2023-05-04T14:35:26.534Z"
      },
      {
        "duration": 8,
        "start_time": "2023-05-04T14:35:33.614Z"
      },
      {
        "duration": 121,
        "start_time": "2023-05-04T14:40:07.210Z"
      },
      {
        "duration": 11,
        "start_time": "2023-05-04T14:40:34.173Z"
      },
      {
        "duration": 1347,
        "start_time": "2023-05-04T14:41:13.286Z"
      },
      {
        "duration": 654,
        "start_time": "2023-05-04T14:41:14.634Z"
      },
      {
        "duration": 13,
        "start_time": "2023-05-04T14:41:15.290Z"
      },
      {
        "duration": 38,
        "start_time": "2023-05-04T14:41:15.305Z"
      },
      {
        "duration": 15,
        "start_time": "2023-05-04T14:41:15.345Z"
      },
      {
        "duration": 3,
        "start_time": "2023-05-04T14:41:15.363Z"
      },
      {
        "duration": 29,
        "start_time": "2023-05-04T14:41:15.367Z"
      },
      {
        "duration": 32,
        "start_time": "2023-05-04T14:41:15.397Z"
      },
      {
        "duration": 39,
        "start_time": "2023-05-04T14:41:15.431Z"
      },
      {
        "duration": 26,
        "start_time": "2023-05-04T14:41:15.472Z"
      },
      {
        "duration": 12,
        "start_time": "2023-05-04T14:41:15.499Z"
      },
      {
        "duration": 12,
        "start_time": "2023-05-04T14:41:15.512Z"
      },
      {
        "duration": 7,
        "start_time": "2023-05-04T14:41:15.525Z"
      },
      {
        "duration": 9,
        "start_time": "2023-05-04T14:41:15.534Z"
      },
      {
        "duration": 22,
        "start_time": "2023-05-04T14:41:15.544Z"
      },
      {
        "duration": 745,
        "start_time": "2023-05-04T14:41:15.567Z"
      },
      {
        "duration": 600,
        "start_time": "2023-05-04T14:41:16.313Z"
      },
      {
        "duration": 719,
        "start_time": "2023-05-04T14:41:16.914Z"
      },
      {
        "duration": 382,
        "start_time": "2023-05-04T14:41:17.634Z"
      },
      {
        "duration": 468,
        "start_time": "2023-05-04T14:41:18.018Z"
      },
      {
        "duration": 419,
        "start_time": "2023-05-04T14:41:18.488Z"
      },
      {
        "duration": 100,
        "start_time": "2023-05-04T14:41:18.908Z"
      },
      {
        "duration": 113,
        "start_time": "2023-05-04T14:41:19.010Z"
      },
      {
        "duration": 6,
        "start_time": "2023-05-04T14:41:19.125Z"
      },
      {
        "duration": 688,
        "start_time": "2023-05-04T14:41:19.132Z"
      },
      {
        "duration": 36,
        "start_time": "2023-05-04T14:41:19.821Z"
      },
      {
        "duration": 3,
        "start_time": "2023-05-04T14:41:19.859Z"
      },
      {
        "duration": 11,
        "start_time": "2023-05-04T14:41:19.871Z"
      },
      {
        "duration": 135,
        "start_time": "2023-05-04T14:41:19.884Z"
      },
      {
        "duration": 0,
        "start_time": "2023-05-04T14:41:20.020Z"
      },
      {
        "duration": 0,
        "start_time": "2023-05-04T14:41:20.021Z"
      },
      {
        "duration": 0,
        "start_time": "2023-05-04T14:41:20.023Z"
      },
      {
        "duration": 0,
        "start_time": "2023-05-04T14:41:20.024Z"
      },
      {
        "duration": 0,
        "start_time": "2023-05-04T14:41:20.024Z"
      },
      {
        "duration": 0,
        "start_time": "2023-05-04T14:41:20.026Z"
      },
      {
        "duration": 10,
        "start_time": "2023-05-04T14:44:51.084Z"
      },
      {
        "duration": 10,
        "start_time": "2023-05-04T14:45:21.729Z"
      },
      {
        "duration": 13,
        "start_time": "2023-05-04T14:45:35.817Z"
      },
      {
        "duration": 1326,
        "start_time": "2023-05-04T14:46:51.205Z"
      },
      {
        "duration": 669,
        "start_time": "2023-05-04T14:46:52.533Z"
      },
      {
        "duration": 13,
        "start_time": "2023-05-04T14:46:53.204Z"
      },
      {
        "duration": 26,
        "start_time": "2023-05-04T14:46:53.219Z"
      },
      {
        "duration": 14,
        "start_time": "2023-05-04T14:46:53.246Z"
      },
      {
        "duration": 11,
        "start_time": "2023-05-04T14:46:53.261Z"
      },
      {
        "duration": 11,
        "start_time": "2023-05-04T14:46:53.273Z"
      },
      {
        "duration": 23,
        "start_time": "2023-05-04T14:46:53.285Z"
      },
      {
        "duration": 16,
        "start_time": "2023-05-04T14:46:53.310Z"
      },
      {
        "duration": 19,
        "start_time": "2023-05-04T14:46:53.328Z"
      },
      {
        "duration": 32,
        "start_time": "2023-05-04T14:46:53.349Z"
      },
      {
        "duration": 20,
        "start_time": "2023-05-04T14:46:53.382Z"
      },
      {
        "duration": 13,
        "start_time": "2023-05-04T14:46:53.403Z"
      },
      {
        "duration": 34,
        "start_time": "2023-05-04T14:46:53.417Z"
      },
      {
        "duration": 24,
        "start_time": "2023-05-04T14:46:53.452Z"
      },
      {
        "duration": 642,
        "start_time": "2023-05-04T14:46:53.478Z"
      },
      {
        "duration": 582,
        "start_time": "2023-05-04T14:46:54.121Z"
      },
      {
        "duration": 680,
        "start_time": "2023-05-04T14:46:54.705Z"
      },
      {
        "duration": 387,
        "start_time": "2023-05-04T14:46:55.387Z"
      },
      {
        "duration": 417,
        "start_time": "2023-05-04T14:46:55.775Z"
      },
      {
        "duration": 399,
        "start_time": "2023-05-04T14:46:56.194Z"
      },
      {
        "duration": 101,
        "start_time": "2023-05-04T14:46:56.595Z"
      },
      {
        "duration": 108,
        "start_time": "2023-05-04T14:46:56.697Z"
      },
      {
        "duration": 6,
        "start_time": "2023-05-04T14:46:56.807Z"
      },
      {
        "duration": 699,
        "start_time": "2023-05-04T14:46:56.814Z"
      },
      {
        "duration": 33,
        "start_time": "2023-05-04T14:46:57.514Z"
      },
      {
        "duration": 28,
        "start_time": "2023-05-04T14:46:57.548Z"
      },
      {
        "duration": 25,
        "start_time": "2023-05-04T14:46:57.579Z"
      },
      {
        "duration": 44,
        "start_time": "2023-05-04T14:46:57.606Z"
      },
      {
        "duration": 8,
        "start_time": "2023-05-04T14:46:57.651Z"
      },
      {
        "duration": 34,
        "start_time": "2023-05-04T14:46:57.660Z"
      },
      {
        "duration": 118,
        "start_time": "2023-05-04T14:48:21.815Z"
      },
      {
        "duration": 1446,
        "start_time": "2023-05-04T14:48:28.495Z"
      },
      {
        "duration": 666,
        "start_time": "2023-05-04T14:48:29.943Z"
      },
      {
        "duration": 17,
        "start_time": "2023-05-04T14:48:30.611Z"
      },
      {
        "duration": 36,
        "start_time": "2023-05-04T14:48:30.630Z"
      },
      {
        "duration": 24,
        "start_time": "2023-05-04T14:48:30.668Z"
      },
      {
        "duration": 12,
        "start_time": "2023-05-04T14:48:30.694Z"
      },
      {
        "duration": 41,
        "start_time": "2023-05-04T14:48:30.708Z"
      },
      {
        "duration": 33,
        "start_time": "2023-05-04T14:48:30.752Z"
      },
      {
        "duration": 35,
        "start_time": "2023-05-04T14:48:30.787Z"
      },
      {
        "duration": 36,
        "start_time": "2023-05-04T14:48:30.825Z"
      },
      {
        "duration": 27,
        "start_time": "2023-05-04T14:48:30.862Z"
      },
      {
        "duration": 34,
        "start_time": "2023-05-04T14:48:30.891Z"
      },
      {
        "duration": 29,
        "start_time": "2023-05-04T14:48:30.927Z"
      },
      {
        "duration": 32,
        "start_time": "2023-05-04T14:48:30.958Z"
      },
      {
        "duration": 47,
        "start_time": "2023-05-04T14:48:30.992Z"
      },
      {
        "duration": 713,
        "start_time": "2023-05-04T14:48:31.041Z"
      },
      {
        "duration": 604,
        "start_time": "2023-05-04T14:48:31.755Z"
      },
      {
        "duration": 718,
        "start_time": "2023-05-04T14:48:32.360Z"
      },
      {
        "duration": 378,
        "start_time": "2023-05-04T14:48:33.080Z"
      },
      {
        "duration": 422,
        "start_time": "2023-05-04T14:48:33.459Z"
      },
      {
        "duration": 404,
        "start_time": "2023-05-04T14:48:33.883Z"
      },
      {
        "duration": 101,
        "start_time": "2023-05-04T14:48:34.289Z"
      },
      {
        "duration": 107,
        "start_time": "2023-05-04T14:48:34.391Z"
      },
      {
        "duration": 7,
        "start_time": "2023-05-04T14:48:34.500Z"
      },
      {
        "duration": 684,
        "start_time": "2023-05-04T14:48:34.508Z"
      },
      {
        "duration": 33,
        "start_time": "2023-05-04T14:48:35.193Z"
      },
      {
        "duration": 3,
        "start_time": "2023-05-04T14:48:35.228Z"
      },
      {
        "duration": 12,
        "start_time": "2023-05-04T14:48:35.233Z"
      },
      {
        "duration": 140,
        "start_time": "2023-05-04T14:48:35.247Z"
      },
      {
        "duration": 0,
        "start_time": "2023-05-04T14:48:35.388Z"
      },
      {
        "duration": 0,
        "start_time": "2023-05-04T14:48:35.389Z"
      },
      {
        "duration": 11,
        "start_time": "2023-05-04T14:52:42.946Z"
      },
      {
        "duration": 1364,
        "start_time": "2023-05-04T14:52:54.045Z"
      },
      {
        "duration": 653,
        "start_time": "2023-05-04T14:52:55.411Z"
      },
      {
        "duration": 16,
        "start_time": "2023-05-04T14:52:56.066Z"
      },
      {
        "duration": 16,
        "start_time": "2023-05-04T14:52:56.084Z"
      },
      {
        "duration": 16,
        "start_time": "2023-05-04T14:52:56.102Z"
      },
      {
        "duration": 23,
        "start_time": "2023-05-04T14:52:56.119Z"
      },
      {
        "duration": 24,
        "start_time": "2023-05-04T14:52:56.143Z"
      },
      {
        "duration": 14,
        "start_time": "2023-05-04T14:52:56.169Z"
      },
      {
        "duration": 18,
        "start_time": "2023-05-04T14:52:56.185Z"
      },
      {
        "duration": 24,
        "start_time": "2023-05-04T14:52:56.204Z"
      },
      {
        "duration": 12,
        "start_time": "2023-05-04T14:52:56.229Z"
      },
      {
        "duration": 27,
        "start_time": "2023-05-04T14:52:56.242Z"
      },
      {
        "duration": 8,
        "start_time": "2023-05-04T14:52:56.271Z"
      },
      {
        "duration": 9,
        "start_time": "2023-05-04T14:52:56.282Z"
      },
      {
        "duration": 21,
        "start_time": "2023-05-04T14:52:56.292Z"
      },
      {
        "duration": 752,
        "start_time": "2023-05-04T14:52:56.315Z"
      },
      {
        "duration": 641,
        "start_time": "2023-05-04T14:52:57.068Z"
      },
      {
        "duration": 744,
        "start_time": "2023-05-04T14:52:57.710Z"
      },
      {
        "duration": 420,
        "start_time": "2023-05-04T14:52:58.456Z"
      },
      {
        "duration": 429,
        "start_time": "2023-05-04T14:52:58.878Z"
      },
      {
        "duration": 408,
        "start_time": "2023-05-04T14:52:59.309Z"
      },
      {
        "duration": 111,
        "start_time": "2023-05-04T14:52:59.719Z"
      },
      {
        "duration": 118,
        "start_time": "2023-05-04T14:52:59.831Z"
      },
      {
        "duration": 6,
        "start_time": "2023-05-04T14:52:59.951Z"
      },
      {
        "duration": 719,
        "start_time": "2023-05-04T14:52:59.959Z"
      },
      {
        "duration": 35,
        "start_time": "2023-05-04T14:53:00.680Z"
      },
      {
        "duration": 44,
        "start_time": "2023-05-04T14:53:00.717Z"
      },
      {
        "duration": 94,
        "start_time": "2023-05-04T14:53:00.762Z"
      },
      {
        "duration": 72,
        "start_time": "2023-05-04T14:53:00.858Z"
      },
      {
        "duration": 29,
        "start_time": "2023-05-04T14:53:00.931Z"
      },
      {
        "duration": 23,
        "start_time": "2023-05-04T14:53:00.961Z"
      },
      {
        "duration": 145,
        "start_time": "2023-05-04T14:54:19.429Z"
      },
      {
        "duration": 9,
        "start_time": "2023-05-04T14:54:40.206Z"
      },
      {
        "duration": 1404,
        "start_time": "2023-05-04T14:54:49.384Z"
      },
      {
        "duration": 680,
        "start_time": "2023-05-04T14:54:50.790Z"
      },
      {
        "duration": 19,
        "start_time": "2023-05-04T14:54:51.472Z"
      },
      {
        "duration": 28,
        "start_time": "2023-05-04T14:54:51.493Z"
      },
      {
        "duration": 22,
        "start_time": "2023-05-04T14:54:51.524Z"
      },
      {
        "duration": 3,
        "start_time": "2023-05-04T14:54:51.549Z"
      },
      {
        "duration": 31,
        "start_time": "2023-05-04T14:54:51.553Z"
      },
      {
        "duration": 20,
        "start_time": "2023-05-04T14:54:51.586Z"
      },
      {
        "duration": 18,
        "start_time": "2023-05-04T14:54:51.607Z"
      },
      {
        "duration": 15,
        "start_time": "2023-05-04T14:54:51.627Z"
      },
      {
        "duration": 19,
        "start_time": "2023-05-04T14:54:51.644Z"
      },
      {
        "duration": 46,
        "start_time": "2023-05-04T14:54:51.665Z"
      },
      {
        "duration": 15,
        "start_time": "2023-05-04T14:54:51.713Z"
      },
      {
        "duration": 26,
        "start_time": "2023-05-04T14:54:51.730Z"
      },
      {
        "duration": 57,
        "start_time": "2023-05-04T14:54:51.757Z"
      },
      {
        "duration": 681,
        "start_time": "2023-05-04T14:54:51.815Z"
      },
      {
        "duration": 627,
        "start_time": "2023-05-04T14:54:52.497Z"
      },
      {
        "duration": 707,
        "start_time": "2023-05-04T14:54:53.126Z"
      },
      {
        "duration": 379,
        "start_time": "2023-05-04T14:54:53.834Z"
      },
      {
        "duration": 454,
        "start_time": "2023-05-04T14:54:54.215Z"
      },
      {
        "duration": 435,
        "start_time": "2023-05-04T14:54:54.670Z"
      },
      {
        "duration": 102,
        "start_time": "2023-05-04T14:54:55.107Z"
      },
      {
        "duration": 105,
        "start_time": "2023-05-04T14:54:55.211Z"
      },
      {
        "duration": 7,
        "start_time": "2023-05-04T14:54:55.318Z"
      },
      {
        "duration": 742,
        "start_time": "2023-05-04T14:54:55.327Z"
      },
      {
        "duration": 49,
        "start_time": "2023-05-04T14:54:56.071Z"
      },
      {
        "duration": 4,
        "start_time": "2023-05-04T14:54:56.121Z"
      },
      {
        "duration": 20,
        "start_time": "2023-05-04T14:54:56.127Z"
      },
      {
        "duration": 34,
        "start_time": "2023-05-04T14:54:56.149Z"
      },
      {
        "duration": 15,
        "start_time": "2023-05-04T14:54:56.185Z"
      },
      {
        "duration": 17,
        "start_time": "2023-05-04T14:54:56.202Z"
      },
      {
        "duration": 5,
        "start_time": "2023-05-04T14:56:10.579Z"
      },
      {
        "duration": 7,
        "start_time": "2023-05-04T14:56:31.828Z"
      },
      {
        "duration": 1585,
        "start_time": "2023-05-04T15:09:51.134Z"
      },
      {
        "duration": 641,
        "start_time": "2023-05-04T15:09:52.721Z"
      },
      {
        "duration": 16,
        "start_time": "2023-05-04T15:09:53.363Z"
      },
      {
        "duration": 40,
        "start_time": "2023-05-04T15:09:53.380Z"
      },
      {
        "duration": 14,
        "start_time": "2023-05-04T15:09:53.422Z"
      },
      {
        "duration": 2,
        "start_time": "2023-05-04T15:09:53.438Z"
      },
      {
        "duration": 12,
        "start_time": "2023-05-04T15:09:53.441Z"
      },
      {
        "duration": 13,
        "start_time": "2023-05-04T15:09:53.454Z"
      },
      {
        "duration": 39,
        "start_time": "2023-05-04T15:09:53.468Z"
      },
      {
        "duration": 41,
        "start_time": "2023-05-04T15:09:53.509Z"
      },
      {
        "duration": 16,
        "start_time": "2023-05-04T15:09:53.552Z"
      },
      {
        "duration": 21,
        "start_time": "2023-05-04T15:09:53.570Z"
      },
      {
        "duration": 16,
        "start_time": "2023-05-04T15:09:53.593Z"
      },
      {
        "duration": 9,
        "start_time": "2023-05-04T15:09:53.611Z"
      },
      {
        "duration": 20,
        "start_time": "2023-05-04T15:09:53.621Z"
      },
      {
        "duration": 645,
        "start_time": "2023-05-04T15:09:53.643Z"
      },
      {
        "duration": 601,
        "start_time": "2023-05-04T15:09:54.290Z"
      },
      {
        "duration": 695,
        "start_time": "2023-05-04T15:09:54.893Z"
      },
      {
        "duration": 368,
        "start_time": "2023-05-04T15:09:55.589Z"
      },
      {
        "duration": 464,
        "start_time": "2023-05-04T15:09:55.958Z"
      },
      {
        "duration": 453,
        "start_time": "2023-05-04T15:09:56.424Z"
      },
      {
        "duration": 101,
        "start_time": "2023-05-04T15:09:56.879Z"
      },
      {
        "duration": 107,
        "start_time": "2023-05-04T15:09:56.981Z"
      },
      {
        "duration": 6,
        "start_time": "2023-05-04T15:09:57.089Z"
      },
      {
        "duration": 675,
        "start_time": "2023-05-04T15:09:57.097Z"
      },
      {
        "duration": 31,
        "start_time": "2023-05-04T15:09:57.773Z"
      },
      {
        "duration": 3,
        "start_time": "2023-05-04T15:09:57.806Z"
      },
      {
        "duration": 18,
        "start_time": "2023-05-04T15:09:57.810Z"
      },
      {
        "duration": 135,
        "start_time": "2023-05-04T15:09:57.830Z"
      },
      {
        "duration": 0,
        "start_time": "2023-05-04T15:09:57.967Z"
      },
      {
        "duration": 0,
        "start_time": "2023-05-04T15:09:57.971Z"
      },
      {
        "duration": 0,
        "start_time": "2023-05-04T15:09:57.972Z"
      },
      {
        "duration": 0,
        "start_time": "2023-05-04T15:09:57.973Z"
      },
      {
        "duration": 9,
        "start_time": "2023-05-04T15:10:31.739Z"
      },
      {
        "duration": 1305,
        "start_time": "2023-05-04T15:10:39.707Z"
      },
      {
        "duration": 633,
        "start_time": "2023-05-04T15:10:41.014Z"
      },
      {
        "duration": 14,
        "start_time": "2023-05-04T15:10:41.649Z"
      },
      {
        "duration": 22,
        "start_time": "2023-05-04T15:10:41.664Z"
      },
      {
        "duration": 15,
        "start_time": "2023-05-04T15:10:41.687Z"
      },
      {
        "duration": 2,
        "start_time": "2023-05-04T15:10:41.703Z"
      },
      {
        "duration": 6,
        "start_time": "2023-05-04T15:10:41.706Z"
      },
      {
        "duration": 6,
        "start_time": "2023-05-04T15:10:41.713Z"
      },
      {
        "duration": 5,
        "start_time": "2023-05-04T15:10:41.720Z"
      },
      {
        "duration": 4,
        "start_time": "2023-05-04T15:10:41.728Z"
      },
      {
        "duration": 39,
        "start_time": "2023-05-04T15:10:41.733Z"
      },
      {
        "duration": 7,
        "start_time": "2023-05-04T15:10:41.774Z"
      },
      {
        "duration": 11,
        "start_time": "2023-05-04T15:10:41.783Z"
      },
      {
        "duration": 7,
        "start_time": "2023-05-04T15:10:41.796Z"
      },
      {
        "duration": 20,
        "start_time": "2023-05-04T15:10:41.805Z"
      },
      {
        "duration": 646,
        "start_time": "2023-05-04T15:10:41.826Z"
      },
      {
        "duration": 588,
        "start_time": "2023-05-04T15:10:42.473Z"
      },
      {
        "duration": 668,
        "start_time": "2023-05-04T15:10:43.062Z"
      },
      {
        "duration": 366,
        "start_time": "2023-05-04T15:10:43.731Z"
      },
      {
        "duration": 375,
        "start_time": "2023-05-04T15:10:44.099Z"
      },
      {
        "duration": 416,
        "start_time": "2023-05-04T15:10:44.476Z"
      },
      {
        "duration": 102,
        "start_time": "2023-05-04T15:10:44.893Z"
      },
      {
        "duration": 107,
        "start_time": "2023-05-04T15:10:44.996Z"
      },
      {
        "duration": 6,
        "start_time": "2023-05-04T15:10:45.105Z"
      },
      {
        "duration": 696,
        "start_time": "2023-05-04T15:10:45.112Z"
      },
      {
        "duration": 33,
        "start_time": "2023-05-04T15:10:45.809Z"
      },
      {
        "duration": 3,
        "start_time": "2023-05-04T15:10:45.844Z"
      },
      {
        "duration": 28,
        "start_time": "2023-05-04T15:10:45.849Z"
      },
      {
        "duration": 21,
        "start_time": "2023-05-04T15:10:45.878Z"
      },
      {
        "duration": 8,
        "start_time": "2023-05-04T15:10:45.900Z"
      },
      {
        "duration": 22,
        "start_time": "2023-05-04T15:10:45.909Z"
      },
      {
        "duration": 37,
        "start_time": "2023-05-04T15:10:45.932Z"
      },
      {
        "duration": 23,
        "start_time": "2023-05-04T15:10:45.971Z"
      },
      {
        "duration": 113,
        "start_time": "2023-05-04T15:12:09.361Z"
      },
      {
        "duration": 1629,
        "start_time": "2023-05-04T15:12:14.262Z"
      },
      {
        "duration": 728,
        "start_time": "2023-05-04T15:12:15.892Z"
      },
      {
        "duration": 14,
        "start_time": "2023-05-04T15:12:16.622Z"
      },
      {
        "duration": 15,
        "start_time": "2023-05-04T15:12:16.638Z"
      },
      {
        "duration": 15,
        "start_time": "2023-05-04T15:12:16.671Z"
      },
      {
        "duration": 26,
        "start_time": "2023-05-04T15:12:16.687Z"
      },
      {
        "duration": 50,
        "start_time": "2023-05-04T15:12:16.715Z"
      },
      {
        "duration": 22,
        "start_time": "2023-05-04T15:12:16.766Z"
      },
      {
        "duration": 10,
        "start_time": "2023-05-04T15:12:16.789Z"
      },
      {
        "duration": 7,
        "start_time": "2023-05-04T15:12:16.801Z"
      },
      {
        "duration": 6,
        "start_time": "2023-05-04T15:12:16.810Z"
      },
      {
        "duration": 10,
        "start_time": "2023-05-04T15:12:16.818Z"
      },
      {
        "duration": 6,
        "start_time": "2023-05-04T15:12:16.829Z"
      },
      {
        "duration": 13,
        "start_time": "2023-05-04T15:12:16.836Z"
      },
      {
        "duration": 21,
        "start_time": "2023-05-04T15:12:16.850Z"
      },
      {
        "duration": 623,
        "start_time": "2023-05-04T15:12:16.873Z"
      },
      {
        "duration": 576,
        "start_time": "2023-05-04T15:12:17.497Z"
      },
      {
        "duration": 707,
        "start_time": "2023-05-04T15:12:18.075Z"
      },
      {
        "duration": 376,
        "start_time": "2023-05-04T15:12:18.783Z"
      },
      {
        "duration": 415,
        "start_time": "2023-05-04T15:12:19.161Z"
      },
      {
        "duration": 406,
        "start_time": "2023-05-04T15:12:19.578Z"
      },
      {
        "duration": 100,
        "start_time": "2023-05-04T15:12:19.986Z"
      },
      {
        "duration": 105,
        "start_time": "2023-05-04T15:12:20.088Z"
      },
      {
        "duration": 7,
        "start_time": "2023-05-04T15:12:20.195Z"
      },
      {
        "duration": 747,
        "start_time": "2023-05-04T15:12:20.203Z"
      },
      {
        "duration": 41,
        "start_time": "2023-05-04T15:12:20.952Z"
      },
      {
        "duration": 19,
        "start_time": "2023-05-04T15:12:20.994Z"
      },
      {
        "duration": 17,
        "start_time": "2023-05-04T15:12:21.016Z"
      },
      {
        "duration": 36,
        "start_time": "2023-05-04T15:12:21.034Z"
      },
      {
        "duration": 29,
        "start_time": "2023-05-04T15:12:21.072Z"
      },
      {
        "duration": 31,
        "start_time": "2023-05-04T15:12:21.103Z"
      },
      {
        "duration": 83,
        "start_time": "2023-05-04T15:12:21.136Z"
      },
      {
        "duration": 61,
        "start_time": "2023-05-04T15:12:21.220Z"
      },
      {
        "duration": 2,
        "start_time": "2023-05-04T15:16:00.785Z"
      },
      {
        "duration": 3048,
        "start_time": "2023-05-04T15:16:11.725Z"
      },
      {
        "duration": 2487,
        "start_time": "2023-05-04T15:16:30.890Z"
      },
      {
        "duration": 2243,
        "start_time": "2023-05-04T15:17:46.038Z"
      },
      {
        "duration": 3158,
        "start_time": "2023-05-04T15:17:54.515Z"
      },
      {
        "duration": 502,
        "start_time": "2023-05-04T15:18:50.811Z"
      },
      {
        "duration": 1446,
        "start_time": "2023-05-04T15:19:50.256Z"
      },
      {
        "duration": 626,
        "start_time": "2023-05-04T15:19:51.704Z"
      },
      {
        "duration": 13,
        "start_time": "2023-05-04T15:19:52.332Z"
      },
      {
        "duration": 26,
        "start_time": "2023-05-04T15:19:52.347Z"
      },
      {
        "duration": 14,
        "start_time": "2023-05-04T15:19:52.374Z"
      },
      {
        "duration": 3,
        "start_time": "2023-05-04T15:19:52.389Z"
      },
      {
        "duration": 10,
        "start_time": "2023-05-04T15:19:52.393Z"
      },
      {
        "duration": 17,
        "start_time": "2023-05-04T15:19:52.404Z"
      },
      {
        "duration": 7,
        "start_time": "2023-05-04T15:19:52.422Z"
      },
      {
        "duration": 17,
        "start_time": "2023-05-04T15:19:52.431Z"
      },
      {
        "duration": 6,
        "start_time": "2023-05-04T15:19:52.449Z"
      },
      {
        "duration": 23,
        "start_time": "2023-05-04T15:19:52.456Z"
      },
      {
        "duration": 20,
        "start_time": "2023-05-04T15:19:52.481Z"
      },
      {
        "duration": 11,
        "start_time": "2023-05-04T15:19:52.503Z"
      },
      {
        "duration": 46,
        "start_time": "2023-05-04T15:19:52.516Z"
      },
      {
        "duration": 677,
        "start_time": "2023-05-04T15:19:52.563Z"
      },
      {
        "duration": 595,
        "start_time": "2023-05-04T15:19:53.241Z"
      },
      {
        "duration": 663,
        "start_time": "2023-05-04T15:19:53.838Z"
      },
      {
        "duration": 381,
        "start_time": "2023-05-04T15:19:54.502Z"
      },
      {
        "duration": 376,
        "start_time": "2023-05-04T15:19:54.885Z"
      },
      {
        "duration": 434,
        "start_time": "2023-05-04T15:19:55.263Z"
      },
      {
        "duration": 111,
        "start_time": "2023-05-04T15:19:55.699Z"
      },
      {
        "duration": 109,
        "start_time": "2023-05-04T15:19:55.811Z"
      },
      {
        "duration": 9,
        "start_time": "2023-05-04T15:19:55.922Z"
      },
      {
        "duration": 751,
        "start_time": "2023-05-04T15:19:55.933Z"
      },
      {
        "duration": 36,
        "start_time": "2023-05-04T15:19:56.685Z"
      },
      {
        "duration": 5,
        "start_time": "2023-05-04T15:19:56.722Z"
      },
      {
        "duration": 12,
        "start_time": "2023-05-04T15:19:56.731Z"
      },
      {
        "duration": 40,
        "start_time": "2023-05-04T15:19:56.745Z"
      },
      {
        "duration": 5,
        "start_time": "2023-05-04T15:19:56.786Z"
      },
      {
        "duration": 10,
        "start_time": "2023-05-04T15:19:56.793Z"
      },
      {
        "duration": 8,
        "start_time": "2023-05-04T15:19:56.804Z"
      },
      {
        "duration": 7,
        "start_time": "2023-05-04T15:19:56.814Z"
      },
      {
        "duration": 3851,
        "start_time": "2023-05-04T15:19:56.822Z"
      },
      {
        "duration": 66512,
        "start_time": "2023-05-04T15:20:00.675Z"
      },
      {
        "duration": 1332,
        "start_time": "2023-05-04T15:27:56.991Z"
      },
      {
        "duration": 640,
        "start_time": "2023-05-04T15:27:58.325Z"
      },
      {
        "duration": 15,
        "start_time": "2023-05-04T15:27:58.966Z"
      },
      {
        "duration": 29,
        "start_time": "2023-05-04T15:27:58.983Z"
      },
      {
        "duration": 14,
        "start_time": "2023-05-04T15:27:59.014Z"
      },
      {
        "duration": 3,
        "start_time": "2023-05-04T15:27:59.030Z"
      },
      {
        "duration": 7,
        "start_time": "2023-05-04T15:27:59.034Z"
      },
      {
        "duration": 14,
        "start_time": "2023-05-04T15:27:59.042Z"
      },
      {
        "duration": 14,
        "start_time": "2023-05-04T15:27:59.058Z"
      },
      {
        "duration": 5,
        "start_time": "2023-05-04T15:27:59.074Z"
      },
      {
        "duration": 18,
        "start_time": "2023-05-04T15:27:59.080Z"
      },
      {
        "duration": 16,
        "start_time": "2023-05-04T15:27:59.099Z"
      },
      {
        "duration": 15,
        "start_time": "2023-05-04T15:27:59.116Z"
      },
      {
        "duration": 10,
        "start_time": "2023-05-04T15:27:59.134Z"
      },
      {
        "duration": 41,
        "start_time": "2023-05-04T15:27:59.145Z"
      },
      {
        "duration": 636,
        "start_time": "2023-05-04T15:27:59.188Z"
      },
      {
        "duration": 611,
        "start_time": "2023-05-04T15:27:59.825Z"
      },
      {
        "duration": 705,
        "start_time": "2023-05-04T15:28:00.438Z"
      },
      {
        "duration": 379,
        "start_time": "2023-05-04T15:28:01.145Z"
      },
      {
        "duration": 469,
        "start_time": "2023-05-04T15:28:01.526Z"
      },
      {
        "duration": 399,
        "start_time": "2023-05-04T15:28:01.997Z"
      },
      {
        "duration": 103,
        "start_time": "2023-05-04T15:28:02.398Z"
      },
      {
        "duration": 109,
        "start_time": "2023-05-04T15:28:02.502Z"
      },
      {
        "duration": 7,
        "start_time": "2023-05-04T15:28:02.612Z"
      },
      {
        "duration": 708,
        "start_time": "2023-05-04T15:28:02.620Z"
      },
      {
        "duration": 31,
        "start_time": "2023-05-04T15:28:03.330Z"
      },
      {
        "duration": 9,
        "start_time": "2023-05-04T15:28:03.363Z"
      },
      {
        "duration": 9,
        "start_time": "2023-05-04T15:28:03.373Z"
      },
      {
        "duration": 22,
        "start_time": "2023-05-04T15:28:03.384Z"
      },
      {
        "duration": 10,
        "start_time": "2023-05-04T15:28:03.408Z"
      },
      {
        "duration": 17,
        "start_time": "2023-05-04T15:28:03.420Z"
      },
      {
        "duration": 12,
        "start_time": "2023-05-04T15:28:03.438Z"
      },
      {
        "duration": 5,
        "start_time": "2023-05-04T15:28:03.452Z"
      },
      {
        "duration": 2816,
        "start_time": "2023-05-04T15:28:03.458Z"
      },
      {
        "duration": 65410,
        "start_time": "2023-05-04T15:28:06.275Z"
      },
      {
        "duration": 1352,
        "start_time": "2023-05-04T15:33:14.369Z"
      },
      {
        "duration": 632,
        "start_time": "2023-05-04T15:33:15.723Z"
      },
      {
        "duration": 16,
        "start_time": "2023-05-04T15:33:16.356Z"
      },
      {
        "duration": 16,
        "start_time": "2023-05-04T15:33:16.374Z"
      },
      {
        "duration": 15,
        "start_time": "2023-05-04T15:33:16.392Z"
      },
      {
        "duration": 3,
        "start_time": "2023-05-04T15:33:16.409Z"
      },
      {
        "duration": 12,
        "start_time": "2023-05-04T15:33:16.414Z"
      },
      {
        "duration": 9,
        "start_time": "2023-05-04T15:33:16.427Z"
      },
      {
        "duration": 38,
        "start_time": "2023-05-04T15:33:16.437Z"
      },
      {
        "duration": 18,
        "start_time": "2023-05-04T15:33:16.477Z"
      },
      {
        "duration": 19,
        "start_time": "2023-05-04T15:33:16.497Z"
      },
      {
        "duration": 17,
        "start_time": "2023-05-04T15:33:16.517Z"
      },
      {
        "duration": 6,
        "start_time": "2023-05-04T15:33:16.535Z"
      },
      {
        "duration": 21,
        "start_time": "2023-05-04T15:33:16.543Z"
      },
      {
        "duration": 21,
        "start_time": "2023-05-04T15:33:16.566Z"
      },
      {
        "duration": 682,
        "start_time": "2023-05-04T15:33:16.589Z"
      },
      {
        "duration": 566,
        "start_time": "2023-05-04T15:33:17.272Z"
      },
      {
        "duration": 701,
        "start_time": "2023-05-04T15:33:17.839Z"
      },
      {
        "duration": 373,
        "start_time": "2023-05-04T15:33:18.541Z"
      },
      {
        "duration": 457,
        "start_time": "2023-05-04T15:33:18.916Z"
      },
      {
        "duration": 426,
        "start_time": "2023-05-04T15:33:19.375Z"
      },
      {
        "duration": 109,
        "start_time": "2023-05-04T15:33:19.803Z"
      },
      {
        "duration": 103,
        "start_time": "2023-05-04T15:33:19.914Z"
      },
      {
        "duration": 8,
        "start_time": "2023-05-04T15:33:20.019Z"
      },
      {
        "duration": 695,
        "start_time": "2023-05-04T15:33:20.028Z"
      },
      {
        "duration": 37,
        "start_time": "2023-05-04T15:33:20.724Z"
      },
      {
        "duration": 19,
        "start_time": "2023-05-04T15:33:20.762Z"
      },
      {
        "duration": 18,
        "start_time": "2023-05-04T15:33:20.785Z"
      },
      {
        "duration": 38,
        "start_time": "2023-05-04T15:33:20.805Z"
      },
      {
        "duration": 6,
        "start_time": "2023-05-04T15:33:20.845Z"
      },
      {
        "duration": 26,
        "start_time": "2023-05-04T15:33:20.852Z"
      },
      {
        "duration": 10,
        "start_time": "2023-05-04T15:33:20.880Z"
      },
      {
        "duration": 8,
        "start_time": "2023-05-04T15:33:20.891Z"
      },
      {
        "duration": 2477,
        "start_time": "2023-05-04T15:33:20.901Z"
      },
      {
        "duration": 65616,
        "start_time": "2023-05-04T15:33:23.382Z"
      },
      {
        "duration": 2325315,
        "start_time": "2023-05-04T15:34:29.000Z"
      },
      {
        "duration": 7351,
        "start_time": "2023-05-04T16:13:14.317Z"
      },
      {
        "duration": 7,
        "start_time": "2023-05-04T16:13:21.669Z"
      },
      {
        "duration": 147,
        "start_time": "2023-05-04T16:19:00.888Z"
      },
      {
        "duration": 21373,
        "start_time": "2023-05-04T16:19:46.133Z"
      }
    ],
    "kernelspec": {
      "display_name": "Python 3 (ipykernel)",
      "language": "python",
      "name": "python3"
    },
    "language_info": {
      "codemirror_mode": {
        "name": "ipython",
        "version": 3
      },
      "file_extension": ".py",
      "mimetype": "text/x-python",
      "name": "python",
      "nbconvert_exporter": "python",
      "pygments_lexer": "ipython3",
      "version": "3.9.5"
    },
    "toc": {
      "base_numbering": 1,
      "nav_menu": {},
      "number_sections": true,
      "sideBar": true,
      "skip_h1_title": true,
      "title_cell": "Содержание",
      "title_sidebar": "Contents",
      "toc_cell": true,
      "toc_position": {
        "height": "calc(100% - 180px)",
        "left": "10px",
        "top": "150px",
        "width": "290.875px"
      },
      "toc_section_display": true,
      "toc_window_display": true
    },
    "colab": {
      "provenance": []
    }
  },
  "nbformat": 4,
  "nbformat_minor": 0
}