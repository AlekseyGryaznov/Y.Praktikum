{
  "cells": [
    {
      "cell_type": "markdown",
      "metadata": {
        "id": "OpkCyyuY73b-"
      },
      "source": [
        "# Определение стоимости автомобилей"
      ]
    },
    {
      "cell_type": "markdown",
      "metadata": {
        "id": "eDmTXLCF73b-"
      },
      "source": [
        "Сервис по продаже автомобилей с пробегом «Не бит, не крашен» разрабатывает приложение для привлечения новых клиентов. В нём можно быстро узнать рыночную стоимость своего автомобиля. В вашем распоряжении исторические данные: технические характеристики, комплектации и цены автомобилей. Вам нужно построить модель для определения стоимости.\n",
        "\n",
        "Заказчику важны:\n",
        "\n",
        "- качество предсказания;\n",
        "- скорость предсказания;\n",
        "- время обучения."
      ]
    },
    {
      "cell_type": "markdown",
      "metadata": {
        "id": "nncIElFz73b_"
      },
      "source": [
        "## Подготовка данных"
      ]
    },
    {
      "cell_type": "code",
      "execution_count": null,
      "metadata": {
        "colab": {
          "base_uri": "https://localhost:8080/"
        },
        "id": "_7tmZUU773b_",
        "outputId": "36c7010d-e0d2-4658-d2a0-265f618afb95"
      },
      "outputs": [
        {
          "output_type": "stream",
          "name": "stdout",
          "text": [
            "Requirement already satisfied: lightgbm in /usr/local/lib/python3.10/dist-packages (3.3.5)\n",
            "Requirement already satisfied: wheel in /usr/local/lib/python3.10/dist-packages (from lightgbm) (0.40.0)\n",
            "Requirement already satisfied: numpy in /usr/local/lib/python3.10/dist-packages (from lightgbm) (1.22.4)\n",
            "Requirement already satisfied: scipy in /usr/local/lib/python3.10/dist-packages (from lightgbm) (1.10.1)\n",
            "Requirement already satisfied: scikit-learn!=0.22.0 in /usr/local/lib/python3.10/dist-packages (from lightgbm) (1.2.2)\n",
            "Requirement already satisfied: joblib>=1.1.1 in /usr/local/lib/python3.10/dist-packages (from scikit-learn!=0.22.0->lightgbm) (1.2.0)\n",
            "Requirement already satisfied: threadpoolctl>=2.0.0 in /usr/local/lib/python3.10/dist-packages (from scikit-learn!=0.22.0->lightgbm) (3.1.0)\n"
          ]
        }
      ],
      "source": [
        "!pip install lightgbm"
      ]
    },
    {
      "cell_type": "code",
      "execution_count": null,
      "metadata": {
        "id": "fYqZk2Gw73cB"
      },
      "outputs": [],
      "source": [
        "import pandas as pd\n",
        "import numpy as np\n",
        "import matplotlib.pyplot as plt\n",
        "import warnings\n",
        "import time\n",
        "from sklearn.preprocessing import OrdinalEncoder\n",
        "from sklearn.model_selection import train_test_split\n",
        "from sklearn.preprocessing import StandardScaler\n",
        "from sklearn.linear_model import LinearRegression\n",
        "from sklearn.metrics import mean_squared_error\n",
        "from sklearn.ensemble import RandomForestRegressor\n",
        "from sklearn.model_selection import GridSearchCV\n",
        "\n",
        "import lightgbm as lgb\n",
        "from tqdm import tqdm"
      ]
    },
    {
      "cell_type": "code",
      "source": [],
      "metadata": {
        "id": "xAIV-72D9zBk"
      },
      "execution_count": null,
      "outputs": []
    },
    {
      "cell_type": "code",
      "execution_count": null,
      "metadata": {
        "colab": {
          "base_uri": "https://localhost:8080/",
          "height": 443
        },
        "id": "iwG_uiUh73cC",
        "outputId": "8ccb808c-4707-4f14-cc0d-4869d7851dad"
      },
      "outputs": [
        {
          "output_type": "execute_result",
          "data": {
            "text/plain": [
              "           DateCrawled  Price VehicleType  RegistrationYear Gearbox  Power  \\\n",
              "0  2016-03-24 11:52:17    480         NaN              1993  manual      0   \n",
              "1  2016-03-24 10:58:45  18300       coupe              2011  manual    190   \n",
              "2  2016-03-14 12:52:21   9800         suv              2004    auto    163   \n",
              "3  2016-03-17 16:54:04   1500       small              2001  manual     75   \n",
              "4  2016-03-31 17:25:20   3600       small              2008  manual     69   \n",
              "\n",
              "   Model  Kilometer  RegistrationMonth  FuelType       Brand Repaired  \\\n",
              "0   golf     150000                  0    petrol  volkswagen      NaN   \n",
              "1    NaN     125000                  5  gasoline        audi      yes   \n",
              "2  grand     125000                  8  gasoline        jeep      NaN   \n",
              "3   golf     150000                  6    petrol  volkswagen       no   \n",
              "4  fabia      90000                  7  gasoline       skoda       no   \n",
              "\n",
              "           DateCreated  NumberOfPictures  PostalCode             LastSeen  \n",
              "0  2016-03-24 00:00:00               0.0     70435.0  2016-04-07 03:16:57  \n",
              "1  2016-03-24 00:00:00               0.0     66954.0  2016-04-07 01:46:50  \n",
              "2  2016-03-14 00:00:00               0.0     90480.0  2016-04-05 12:47:46  \n",
              "3  2016-03-17 00:00:00               0.0     91074.0  2016-03-17 17:40:17  \n",
              "4  2016-03-31 00:00:00               0.0     60437.0  2016-04-06 10:17:21  "
            ],
            "text/html": [
              "\n",
              "  <div id=\"df-dc1ba20b-a3db-478b-960c-046c9800bcd8\">\n",
              "    <div class=\"colab-df-container\">\n",
              "      <div>\n",
              "<style scoped>\n",
              "    .dataframe tbody tr th:only-of-type {\n",
              "        vertical-align: middle;\n",
              "    }\n",
              "\n",
              "    .dataframe tbody tr th {\n",
              "        vertical-align: top;\n",
              "    }\n",
              "\n",
              "    .dataframe thead th {\n",
              "        text-align: right;\n",
              "    }\n",
              "</style>\n",
              "<table border=\"1\" class=\"dataframe\">\n",
              "  <thead>\n",
              "    <tr style=\"text-align: right;\">\n",
              "      <th></th>\n",
              "      <th>DateCrawled</th>\n",
              "      <th>Price</th>\n",
              "      <th>VehicleType</th>\n",
              "      <th>RegistrationYear</th>\n",
              "      <th>Gearbox</th>\n",
              "      <th>Power</th>\n",
              "      <th>Model</th>\n",
              "      <th>Kilometer</th>\n",
              "      <th>RegistrationMonth</th>\n",
              "      <th>FuelType</th>\n",
              "      <th>Brand</th>\n",
              "      <th>Repaired</th>\n",
              "      <th>DateCreated</th>\n",
              "      <th>NumberOfPictures</th>\n",
              "      <th>PostalCode</th>\n",
              "      <th>LastSeen</th>\n",
              "    </tr>\n",
              "  </thead>\n",
              "  <tbody>\n",
              "    <tr>\n",
              "      <th>0</th>\n",
              "      <td>2016-03-24 11:52:17</td>\n",
              "      <td>480</td>\n",
              "      <td>NaN</td>\n",
              "      <td>1993</td>\n",
              "      <td>manual</td>\n",
              "      <td>0</td>\n",
              "      <td>golf</td>\n",
              "      <td>150000</td>\n",
              "      <td>0</td>\n",
              "      <td>petrol</td>\n",
              "      <td>volkswagen</td>\n",
              "      <td>NaN</td>\n",
              "      <td>2016-03-24 00:00:00</td>\n",
              "      <td>0.0</td>\n",
              "      <td>70435.0</td>\n",
              "      <td>2016-04-07 03:16:57</td>\n",
              "    </tr>\n",
              "    <tr>\n",
              "      <th>1</th>\n",
              "      <td>2016-03-24 10:58:45</td>\n",
              "      <td>18300</td>\n",
              "      <td>coupe</td>\n",
              "      <td>2011</td>\n",
              "      <td>manual</td>\n",
              "      <td>190</td>\n",
              "      <td>NaN</td>\n",
              "      <td>125000</td>\n",
              "      <td>5</td>\n",
              "      <td>gasoline</td>\n",
              "      <td>audi</td>\n",
              "      <td>yes</td>\n",
              "      <td>2016-03-24 00:00:00</td>\n",
              "      <td>0.0</td>\n",
              "      <td>66954.0</td>\n",
              "      <td>2016-04-07 01:46:50</td>\n",
              "    </tr>\n",
              "    <tr>\n",
              "      <th>2</th>\n",
              "      <td>2016-03-14 12:52:21</td>\n",
              "      <td>9800</td>\n",
              "      <td>suv</td>\n",
              "      <td>2004</td>\n",
              "      <td>auto</td>\n",
              "      <td>163</td>\n",
              "      <td>grand</td>\n",
              "      <td>125000</td>\n",
              "      <td>8</td>\n",
              "      <td>gasoline</td>\n",
              "      <td>jeep</td>\n",
              "      <td>NaN</td>\n",
              "      <td>2016-03-14 00:00:00</td>\n",
              "      <td>0.0</td>\n",
              "      <td>90480.0</td>\n",
              "      <td>2016-04-05 12:47:46</td>\n",
              "    </tr>\n",
              "    <tr>\n",
              "      <th>3</th>\n",
              "      <td>2016-03-17 16:54:04</td>\n",
              "      <td>1500</td>\n",
              "      <td>small</td>\n",
              "      <td>2001</td>\n",
              "      <td>manual</td>\n",
              "      <td>75</td>\n",
              "      <td>golf</td>\n",
              "      <td>150000</td>\n",
              "      <td>6</td>\n",
              "      <td>petrol</td>\n",
              "      <td>volkswagen</td>\n",
              "      <td>no</td>\n",
              "      <td>2016-03-17 00:00:00</td>\n",
              "      <td>0.0</td>\n",
              "      <td>91074.0</td>\n",
              "      <td>2016-03-17 17:40:17</td>\n",
              "    </tr>\n",
              "    <tr>\n",
              "      <th>4</th>\n",
              "      <td>2016-03-31 17:25:20</td>\n",
              "      <td>3600</td>\n",
              "      <td>small</td>\n",
              "      <td>2008</td>\n",
              "      <td>manual</td>\n",
              "      <td>69</td>\n",
              "      <td>fabia</td>\n",
              "      <td>90000</td>\n",
              "      <td>7</td>\n",
              "      <td>gasoline</td>\n",
              "      <td>skoda</td>\n",
              "      <td>no</td>\n",
              "      <td>2016-03-31 00:00:00</td>\n",
              "      <td>0.0</td>\n",
              "      <td>60437.0</td>\n",
              "      <td>2016-04-06 10:17:21</td>\n",
              "    </tr>\n",
              "  </tbody>\n",
              "</table>\n",
              "</div>\n",
              "      <button class=\"colab-df-convert\" onclick=\"convertToInteractive('df-dc1ba20b-a3db-478b-960c-046c9800bcd8')\"\n",
              "              title=\"Convert this dataframe to an interactive table.\"\n",
              "              style=\"display:none;\">\n",
              "        \n",
              "  <svg xmlns=\"http://www.w3.org/2000/svg\" height=\"24px\"viewBox=\"0 0 24 24\"\n",
              "       width=\"24px\">\n",
              "    <path d=\"M0 0h24v24H0V0z\" fill=\"none\"/>\n",
              "    <path d=\"M18.56 5.44l.94 2.06.94-2.06 2.06-.94-2.06-.94-.94-2.06-.94 2.06-2.06.94zm-11 1L8.5 8.5l.94-2.06 2.06-.94-2.06-.94L8.5 2.5l-.94 2.06-2.06.94zm10 10l.94 2.06.94-2.06 2.06-.94-2.06-.94-.94-2.06-.94 2.06-2.06.94z\"/><path d=\"M17.41 7.96l-1.37-1.37c-.4-.4-.92-.59-1.43-.59-.52 0-1.04.2-1.43.59L10.3 9.45l-7.72 7.72c-.78.78-.78 2.05 0 2.83L4 21.41c.39.39.9.59 1.41.59.51 0 1.02-.2 1.41-.59l7.78-7.78 2.81-2.81c.8-.78.8-2.07 0-2.86zM5.41 20L4 18.59l7.72-7.72 1.47 1.35L5.41 20z\"/>\n",
              "  </svg>\n",
              "      </button>\n",
              "      \n",
              "  <style>\n",
              "    .colab-df-container {\n",
              "      display:flex;\n",
              "      flex-wrap:wrap;\n",
              "      gap: 12px;\n",
              "    }\n",
              "\n",
              "    .colab-df-convert {\n",
              "      background-color: #E8F0FE;\n",
              "      border: none;\n",
              "      border-radius: 50%;\n",
              "      cursor: pointer;\n",
              "      display: none;\n",
              "      fill: #1967D2;\n",
              "      height: 32px;\n",
              "      padding: 0 0 0 0;\n",
              "      width: 32px;\n",
              "    }\n",
              "\n",
              "    .colab-df-convert:hover {\n",
              "      background-color: #E2EBFA;\n",
              "      box-shadow: 0px 1px 2px rgba(60, 64, 67, 0.3), 0px 1px 3px 1px rgba(60, 64, 67, 0.15);\n",
              "      fill: #174EA6;\n",
              "    }\n",
              "\n",
              "    [theme=dark] .colab-df-convert {\n",
              "      background-color: #3B4455;\n",
              "      fill: #D2E3FC;\n",
              "    }\n",
              "\n",
              "    [theme=dark] .colab-df-convert:hover {\n",
              "      background-color: #434B5C;\n",
              "      box-shadow: 0px 1px 3px 1px rgba(0, 0, 0, 0.15);\n",
              "      filter: drop-shadow(0px 1px 2px rgba(0, 0, 0, 0.3));\n",
              "      fill: #FFFFFF;\n",
              "    }\n",
              "  </style>\n",
              "\n",
              "      <script>\n",
              "        const buttonEl =\n",
              "          document.querySelector('#df-dc1ba20b-a3db-478b-960c-046c9800bcd8 button.colab-df-convert');\n",
              "        buttonEl.style.display =\n",
              "          google.colab.kernel.accessAllowed ? 'block' : 'none';\n",
              "\n",
              "        async function convertToInteractive(key) {\n",
              "          const element = document.querySelector('#df-dc1ba20b-a3db-478b-960c-046c9800bcd8');\n",
              "          const dataTable =\n",
              "            await google.colab.kernel.invokeFunction('convertToInteractive',\n",
              "                                                     [key], {});\n",
              "          if (!dataTable) return;\n",
              "\n",
              "          const docLinkHtml = 'Like what you see? Visit the ' +\n",
              "            '<a target=\"_blank\" href=https://colab.research.google.com/notebooks/data_table.ipynb>data table notebook</a>'\n",
              "            + ' to learn more about interactive tables.';\n",
              "          element.innerHTML = '';\n",
              "          dataTable['output_type'] = 'display_data';\n",
              "          await google.colab.output.renderOutput(dataTable, element);\n",
              "          const docLink = document.createElement('div');\n",
              "          docLink.innerHTML = docLinkHtml;\n",
              "          element.appendChild(docLink);\n",
              "        }\n",
              "      </script>\n",
              "    </div>\n",
              "  </div>\n",
              "  "
            ]
          },
          "metadata": {},
          "execution_count": 7
        }
      ],
      "source": [
        "df = pd.read_csv('/autos.csv')\n",
        "df.head(5)"
      ]
    },
    {
      "cell_type": "markdown",
      "metadata": {
        "id": "4czVVHd573cC"
      },
      "source": [
        "*Признаки\n",
        "DateCrawled — дата скачивания анкеты из базы\n",
        "VehicleType — тип автомобильного кузова\n",
        "RegistrationYear — год регистрации автомобиля\n",
        "Gearbox — тип коробки передач\n",
        "Power — мощность (л. с.)\n",
        "Model — модель автомобиля\n",
        "Kilometer — пробег (км)\n",
        "RegistrationMonth — месяц регистрации автомобиля\n",
        "FuelType — тип топлива\n",
        "Brand — марка автомобиля\n",
        "Repaired — была машина в ремонте или нет\n",
        "DateCreated — дата создания анкеты\n",
        "NumberOfPictures — количество фотографий автомобиля\n",
        "PostalCode — почтовый индекс владельца анкеты (пользователя)\n",
        "LastSeen — дата последней активности пользователя*"
      ]
    },
    {
      "cell_type": "code",
      "execution_count": null,
      "metadata": {
        "colab": {
          "base_uri": "https://localhost:8080/",
          "height": 423
        },
        "id": "DzjHjH1f73cC",
        "outputId": "5ee21a44-be94-4d03-b77a-5672fa06fdd8"
      },
      "outputs": [
        {
          "output_type": "execute_result",
          "data": {
            "text/plain": [
              "        NumberOfPictures  PostalCode          DateCrawled  \\\n",
              "0                    0.0     70435.0  2016-03-24 11:52:17   \n",
              "1                    0.0     66954.0  2016-03-24 10:58:45   \n",
              "2                    0.0     90480.0  2016-03-14 12:52:21   \n",
              "3                    0.0     91074.0  2016-03-17 16:54:04   \n",
              "4                    0.0     60437.0  2016-03-31 17:25:20   \n",
              "...                  ...         ...                  ...   \n",
              "192666               0.0     80689.0  2016-03-14 13:52:10   \n",
              "192667               0.0     36208.0  2016-03-28 14:56:24   \n",
              "192668               0.0     58706.0  2016-03-23 23:52:36   \n",
              "192669               0.0     48351.0  2016-03-08 23:36:19   \n",
              "192670               NaN         NaN  2016-03-26 16:53:28   \n",
              "\n",
              "                   LastSeen          DateCrawled  \n",
              "0       2016-04-07 03:16:57  2016-03-24 11:52:17  \n",
              "1       2016-04-07 01:46:50  2016-03-24 10:58:45  \n",
              "2       2016-04-05 12:47:46  2016-03-14 12:52:21  \n",
              "3       2016-03-17 17:40:17  2016-03-17 16:54:04  \n",
              "4       2016-04-06 10:17:21  2016-03-31 17:25:20  \n",
              "...                     ...                  ...  \n",
              "192666  2016-03-14 13:52:10  2016-03-14 13:52:10  \n",
              "192667  2016-04-04 17:18:28  2016-03-28 14:56:24  \n",
              "192668  2016-03-28 14:47:35  2016-03-23 23:52:36  \n",
              "192669  2016-04-03 03:49:50  2016-03-08 23:36:19  \n",
              "192670                  NaN  2016-03-26 16:53:28  \n",
              "\n",
              "[192671 rows x 5 columns]"
            ],
            "text/html": [
              "\n",
              "  <div id=\"df-40d207d6-bde0-4ff9-b2c6-ad0387df27cc\">\n",
              "    <div class=\"colab-df-container\">\n",
              "      <div>\n",
              "<style scoped>\n",
              "    .dataframe tbody tr th:only-of-type {\n",
              "        vertical-align: middle;\n",
              "    }\n",
              "\n",
              "    .dataframe tbody tr th {\n",
              "        vertical-align: top;\n",
              "    }\n",
              "\n",
              "    .dataframe thead th {\n",
              "        text-align: right;\n",
              "    }\n",
              "</style>\n",
              "<table border=\"1\" class=\"dataframe\">\n",
              "  <thead>\n",
              "    <tr style=\"text-align: right;\">\n",
              "      <th></th>\n",
              "      <th>NumberOfPictures</th>\n",
              "      <th>PostalCode</th>\n",
              "      <th>DateCrawled</th>\n",
              "      <th>LastSeen</th>\n",
              "      <th>DateCrawled</th>\n",
              "    </tr>\n",
              "  </thead>\n",
              "  <tbody>\n",
              "    <tr>\n",
              "      <th>0</th>\n",
              "      <td>0.0</td>\n",
              "      <td>70435.0</td>\n",
              "      <td>2016-03-24 11:52:17</td>\n",
              "      <td>2016-04-07 03:16:57</td>\n",
              "      <td>2016-03-24 11:52:17</td>\n",
              "    </tr>\n",
              "    <tr>\n",
              "      <th>1</th>\n",
              "      <td>0.0</td>\n",
              "      <td>66954.0</td>\n",
              "      <td>2016-03-24 10:58:45</td>\n",
              "      <td>2016-04-07 01:46:50</td>\n",
              "      <td>2016-03-24 10:58:45</td>\n",
              "    </tr>\n",
              "    <tr>\n",
              "      <th>2</th>\n",
              "      <td>0.0</td>\n",
              "      <td>90480.0</td>\n",
              "      <td>2016-03-14 12:52:21</td>\n",
              "      <td>2016-04-05 12:47:46</td>\n",
              "      <td>2016-03-14 12:52:21</td>\n",
              "    </tr>\n",
              "    <tr>\n",
              "      <th>3</th>\n",
              "      <td>0.0</td>\n",
              "      <td>91074.0</td>\n",
              "      <td>2016-03-17 16:54:04</td>\n",
              "      <td>2016-03-17 17:40:17</td>\n",
              "      <td>2016-03-17 16:54:04</td>\n",
              "    </tr>\n",
              "    <tr>\n",
              "      <th>4</th>\n",
              "      <td>0.0</td>\n",
              "      <td>60437.0</td>\n",
              "      <td>2016-03-31 17:25:20</td>\n",
              "      <td>2016-04-06 10:17:21</td>\n",
              "      <td>2016-03-31 17:25:20</td>\n",
              "    </tr>\n",
              "    <tr>\n",
              "      <th>...</th>\n",
              "      <td>...</td>\n",
              "      <td>...</td>\n",
              "      <td>...</td>\n",
              "      <td>...</td>\n",
              "      <td>...</td>\n",
              "    </tr>\n",
              "    <tr>\n",
              "      <th>192666</th>\n",
              "      <td>0.0</td>\n",
              "      <td>80689.0</td>\n",
              "      <td>2016-03-14 13:52:10</td>\n",
              "      <td>2016-03-14 13:52:10</td>\n",
              "      <td>2016-03-14 13:52:10</td>\n",
              "    </tr>\n",
              "    <tr>\n",
              "      <th>192667</th>\n",
              "      <td>0.0</td>\n",
              "      <td>36208.0</td>\n",
              "      <td>2016-03-28 14:56:24</td>\n",
              "      <td>2016-04-04 17:18:28</td>\n",
              "      <td>2016-03-28 14:56:24</td>\n",
              "    </tr>\n",
              "    <tr>\n",
              "      <th>192668</th>\n",
              "      <td>0.0</td>\n",
              "      <td>58706.0</td>\n",
              "      <td>2016-03-23 23:52:36</td>\n",
              "      <td>2016-03-28 14:47:35</td>\n",
              "      <td>2016-03-23 23:52:36</td>\n",
              "    </tr>\n",
              "    <tr>\n",
              "      <th>192669</th>\n",
              "      <td>0.0</td>\n",
              "      <td>48351.0</td>\n",
              "      <td>2016-03-08 23:36:19</td>\n",
              "      <td>2016-04-03 03:49:50</td>\n",
              "      <td>2016-03-08 23:36:19</td>\n",
              "    </tr>\n",
              "    <tr>\n",
              "      <th>192670</th>\n",
              "      <td>NaN</td>\n",
              "      <td>NaN</td>\n",
              "      <td>2016-03-26 16:53:28</td>\n",
              "      <td>NaN</td>\n",
              "      <td>2016-03-26 16:53:28</td>\n",
              "    </tr>\n",
              "  </tbody>\n",
              "</table>\n",
              "<p>192671 rows × 5 columns</p>\n",
              "</div>\n",
              "      <button class=\"colab-df-convert\" onclick=\"convertToInteractive('df-40d207d6-bde0-4ff9-b2c6-ad0387df27cc')\"\n",
              "              title=\"Convert this dataframe to an interactive table.\"\n",
              "              style=\"display:none;\">\n",
              "        \n",
              "  <svg xmlns=\"http://www.w3.org/2000/svg\" height=\"24px\"viewBox=\"0 0 24 24\"\n",
              "       width=\"24px\">\n",
              "    <path d=\"M0 0h24v24H0V0z\" fill=\"none\"/>\n",
              "    <path d=\"M18.56 5.44l.94 2.06.94-2.06 2.06-.94-2.06-.94-.94-2.06-.94 2.06-2.06.94zm-11 1L8.5 8.5l.94-2.06 2.06-.94-2.06-.94L8.5 2.5l-.94 2.06-2.06.94zm10 10l.94 2.06.94-2.06 2.06-.94-2.06-.94-.94-2.06-.94 2.06-2.06.94z\"/><path d=\"M17.41 7.96l-1.37-1.37c-.4-.4-.92-.59-1.43-.59-.52 0-1.04.2-1.43.59L10.3 9.45l-7.72 7.72c-.78.78-.78 2.05 0 2.83L4 21.41c.39.39.9.59 1.41.59.51 0 1.02-.2 1.41-.59l7.78-7.78 2.81-2.81c.8-.78.8-2.07 0-2.86zM5.41 20L4 18.59l7.72-7.72 1.47 1.35L5.41 20z\"/>\n",
              "  </svg>\n",
              "      </button>\n",
              "      \n",
              "  <style>\n",
              "    .colab-df-container {\n",
              "      display:flex;\n",
              "      flex-wrap:wrap;\n",
              "      gap: 12px;\n",
              "    }\n",
              "\n",
              "    .colab-df-convert {\n",
              "      background-color: #E8F0FE;\n",
              "      border: none;\n",
              "      border-radius: 50%;\n",
              "      cursor: pointer;\n",
              "      display: none;\n",
              "      fill: #1967D2;\n",
              "      height: 32px;\n",
              "      padding: 0 0 0 0;\n",
              "      width: 32px;\n",
              "    }\n",
              "\n",
              "    .colab-df-convert:hover {\n",
              "      background-color: #E2EBFA;\n",
              "      box-shadow: 0px 1px 2px rgba(60, 64, 67, 0.3), 0px 1px 3px 1px rgba(60, 64, 67, 0.15);\n",
              "      fill: #174EA6;\n",
              "    }\n",
              "\n",
              "    [theme=dark] .colab-df-convert {\n",
              "      background-color: #3B4455;\n",
              "      fill: #D2E3FC;\n",
              "    }\n",
              "\n",
              "    [theme=dark] .colab-df-convert:hover {\n",
              "      background-color: #434B5C;\n",
              "      box-shadow: 0px 1px 3px 1px rgba(0, 0, 0, 0.15);\n",
              "      filter: drop-shadow(0px 1px 2px rgba(0, 0, 0, 0.3));\n",
              "      fill: #FFFFFF;\n",
              "    }\n",
              "  </style>\n",
              "\n",
              "      <script>\n",
              "        const buttonEl =\n",
              "          document.querySelector('#df-40d207d6-bde0-4ff9-b2c6-ad0387df27cc button.colab-df-convert');\n",
              "        buttonEl.style.display =\n",
              "          google.colab.kernel.accessAllowed ? 'block' : 'none';\n",
              "\n",
              "        async function convertToInteractive(key) {\n",
              "          const element = document.querySelector('#df-40d207d6-bde0-4ff9-b2c6-ad0387df27cc');\n",
              "          const dataTable =\n",
              "            await google.colab.kernel.invokeFunction('convertToInteractive',\n",
              "                                                     [key], {});\n",
              "          if (!dataTable) return;\n",
              "\n",
              "          const docLinkHtml = 'Like what you see? Visit the ' +\n",
              "            '<a target=\"_blank\" href=https://colab.research.google.com/notebooks/data_table.ipynb>data table notebook</a>'\n",
              "            + ' to learn more about interactive tables.';\n",
              "          element.innerHTML = '';\n",
              "          dataTable['output_type'] = 'display_data';\n",
              "          await google.colab.output.renderOutput(dataTable, element);\n",
              "          const docLink = document.createElement('div');\n",
              "          docLink.innerHTML = docLinkHtml;\n",
              "          element.appendChild(docLink);\n",
              "        }\n",
              "      </script>\n",
              "    </div>\n",
              "  </div>\n",
              "  "
            ]
          },
          "metadata": {},
          "execution_count": 8
        }
      ],
      "source": [
        "df[['NumberOfPictures', 'PostalCode', 'DateCrawled', 'LastSeen','DateCrawled']]"
      ]
    },
    {
      "cell_type": "markdown",
      "metadata": {
        "id": "5jbRwFD573cC"
      },
      "source": [
        "Удаляем столбцы которые не бедет учавствовать в анализе\n",
        "DateCrawled — дата скачивания анкеты из базы\n",
        "LastSeen — дата последней активности пользователя\n",
        "DateCreated — дата создания анкеты\n",
        "PostalCode — почтовый индекс владельца анкеты (пользователя)\n",
        "NumberOfPictures — количество фотографий автомобиля.\n",
        "Данные стобцы не несут важных данных для машинного обучения, дата публикации, индекс, и активности людей, не влияют на конечную стоимость авто. По данным даты не возможно восстановить прорущеные данные, а значит столбцы не требуются для дальнейшей работы"
      ]
    },
    {
      "cell_type": "code",
      "execution_count": null,
      "metadata": {
        "id": "V4JzGx0o73cC"
      },
      "outputs": [],
      "source": [
        "df = df.drop(['NumberOfPictures', 'PostalCode', 'DateCrawled', 'LastSeen','DateCrawled'], axis=1)"
      ]
    },
    {
      "cell_type": "markdown",
      "metadata": {
        "id": "zDetzeUw73cD"
      },
      "source": [
        "*Проверим дубликаты*"
      ]
    },
    {
      "cell_type": "code",
      "execution_count": null,
      "metadata": {
        "colab": {
          "base_uri": "https://localhost:8080/"
        },
        "id": "soQ-UfL773cD",
        "outputId": "4a57cb3d-966c-450d-aed8-0a6978d0941b"
      },
      "outputs": [
        {
          "output_type": "execute_result",
          "data": {
            "text/plain": [
              "3563"
            ]
          },
          "metadata": {},
          "execution_count": 10
        }
      ],
      "source": [
        "df.duplicated().sum()\n"
      ]
    },
    {
      "cell_type": "markdown",
      "metadata": {
        "id": "G3rEB2s273cD"
      },
      "source": [
        "Имеются дебликаты 11834 шт, удалим их"
      ]
    },
    {
      "cell_type": "code",
      "execution_count": null,
      "metadata": {
        "id": "qmwzmvDI73cD"
      },
      "outputs": [],
      "source": [
        "df= df.drop_duplicates()"
      ]
    },
    {
      "cell_type": "code",
      "execution_count": null,
      "metadata": {
        "colab": {
          "base_uri": "https://localhost:8080/"
        },
        "id": "O9xrERPi73cE",
        "outputId": "dac6e9dd-63d4-45c4-8e82-e09732603001"
      },
      "outputs": [
        {
          "output_type": "stream",
          "name": "stdout",
          "text": [
            "<class 'pandas.core.frame.DataFrame'>\n",
            "Int64Index: 189108 entries, 0 to 192670\n",
            "Data columns (total 12 columns):\n",
            " #   Column             Non-Null Count   Dtype \n",
            "---  ------             --------------   ----- \n",
            " 0   Price              189108 non-null  int64 \n",
            " 1   VehicleType        168894 non-null  object\n",
            " 2   RegistrationYear   189108 non-null  int64 \n",
            " 3   Gearbox            178590 non-null  object\n",
            " 4   Power              189108 non-null  int64 \n",
            " 5   Model              178425 non-null  object\n",
            " 6   Kilometer          189108 non-null  int64 \n",
            " 7   RegistrationMonth  189108 non-null  int64 \n",
            " 8   FuelType           171270 non-null  object\n",
            " 9   Brand              189108 non-null  object\n",
            " 10  Repaired           150800 non-null  object\n",
            " 11  DateCreated        189108 non-null  object\n",
            "dtypes: int64(5), object(7)\n",
            "memory usage: 18.8+ MB\n"
          ]
        }
      ],
      "source": [
        "df.info()"
      ]
    },
    {
      "cell_type": "code",
      "execution_count": null,
      "metadata": {
        "scrolled": true,
        "colab": {
          "base_uri": "https://localhost:8080/"
        },
        "id": "qolZzrIV73cE",
        "outputId": "e34ed683-f93a-4e06-9e2d-40f7c9817461"
      },
      "outputs": [
        {
          "output_type": "execute_result",
          "data": {
            "text/plain": [
              "Price                    0\n",
              "VehicleType          20214\n",
              "RegistrationYear         0\n",
              "Gearbox              10518\n",
              "Power                    0\n",
              "Model                10683\n",
              "Kilometer                0\n",
              "RegistrationMonth        0\n",
              "FuelType             17838\n",
              "Brand                    0\n",
              "Repaired             38308\n",
              "DateCreated              0\n",
              "dtype: int64"
            ]
          },
          "metadata": {},
          "execution_count": 13
        }
      ],
      "source": [
        "df.isna().sum()"
      ]
    },
    {
      "cell_type": "markdown",
      "metadata": {
        "id": "nz-yr3-D73cE"
      },
      "source": [
        "Имеются пропуски в данных:\n",
        "VehicleType          37490 тип автомобильного кузова\n",
        "Gearbox              19833 тип коробки передач\n",
        "Model                19705 модель автомобиля\n",
        "FuelType             32895 тип топлива\n",
        "Repaired             71154 была машина в ремонте или нет"
      ]
    },
    {
      "cell_type": "markdown",
      "metadata": {
        "id": "b2mI6cfd73cE"
      },
      "source": [
        "Далее займемся очисткой данных от пропусков\n"
      ]
    },
    {
      "cell_type": "markdown",
      "metadata": {
        "id": "SRL1lBhL73cE"
      },
      "source": [
        "Заменим пропуски в столбце тип кузова модой. Половину значений заменяю через группировку, остаток уже без группировки. Если\n",
        "удалять значения получится слишком большой процент потери исходных данных"
      ]
    },
    {
      "cell_type": "code",
      "execution_count": null,
      "metadata": {
        "colab": {
          "base_uri": "https://localhost:8080/"
        },
        "id": "GMffMrqy73cE",
        "outputId": "b90befee-ab5b-4f4f-d5fd-f04dc31132d8"
      },
      "outputs": [
        {
          "output_type": "stream",
          "name": "stderr",
          "text": [
            "<ipython-input-14-89c2b65fcb95>:1: FutureWarning: Not prepending group keys to the result index of transform-like apply. In the future, the group keys will be included in the index, regardless of whether the applied function returns a like-indexed object.\n",
            "To preserve the previous behavior, use\n",
            "\n",
            "\t>>> .groupby(..., group_keys=False)\n",
            "\n",
            "To adopt the future behavior and silence this warning, use \n",
            "\n",
            "\t>>> .groupby(..., group_keys=True)\n",
            "  df['VehicleType'] = df.groupby('Model')['RegistrationYear'].apply(lambda x: x.fillna(x.mode()[0]))\n"
          ]
        },
        {
          "output_type": "execute_result",
          "data": {
            "text/plain": [
              "0"
            ]
          },
          "metadata": {},
          "execution_count": 14
        }
      ],
      "source": [
        "df['VehicleType'] = df.groupby('Model')['RegistrationYear'].apply(lambda x: x.fillna(x.mode()[0]))\n",
        "df[\"VehicleType\"] = df[\"VehicleType\"].fillna(df[\"VehicleType\"].mode().values[0])\n",
        "df[\"VehicleType\"].isna().sum()"
      ]
    },
    {
      "cell_type": "markdown",
      "metadata": {
        "id": "pmekUdqH73cF"
      },
      "source": [
        "В колонке информация о ремонте заполняем пропуски на unknown. Предполлогаю что либо пропуск возникает по причине того что авто\n",
        "не было в ремонте(бито), либо такую информацию просто не указали в объявление, либо в случае если информация подтягивается\n",
        "из баз ГАИ автоматически, она отсутствует. Более логично проставить вместо пропусков unknown"
      ]
    },
    {
      "cell_type": "code",
      "execution_count": null,
      "metadata": {
        "colab": {
          "base_uri": "https://localhost:8080/"
        },
        "id": "aZSgwYUb73cF",
        "outputId": "87846e40-852c-43e1-c81b-de995efbc0f2"
      },
      "outputs": [
        {
          "output_type": "execute_result",
          "data": {
            "text/plain": [
              "0"
            ]
          },
          "metadata": {},
          "execution_count": 15
        }
      ],
      "source": [
        "\n",
        "df['Repaired'] = df['Repaired'].fillna('unknown')\n",
        "df['Repaired'].isna().sum()"
      ]
    },
    {
      "cell_type": "markdown",
      "metadata": {
        "id": "NeP4Mi5G73cF"
      },
      "source": [
        "Заменим пропуски в столбце тип топлива модой"
      ]
    },
    {
      "cell_type": "code",
      "execution_count": null,
      "metadata": {
        "colab": {
          "base_uri": "https://localhost:8080/"
        },
        "id": "HpPvSc2873cF",
        "outputId": "b6a090f7-c9ac-4b32-fe8e-7533bf98aa25"
      },
      "outputs": [
        {
          "output_type": "execute_result",
          "data": {
            "text/plain": [
              "0"
            ]
          },
          "metadata": {},
          "execution_count": 16
        }
      ],
      "source": [
        "\n",
        "df['FuelType'] = df['FuelType'].fillna(df['FuelType'].mode().values[0])\n",
        "df['FuelType'].isna().sum()"
      ]
    },
    {
      "cell_type": "markdown",
      "metadata": {
        "id": "vh14oCui73cK"
      },
      "source": [
        "Заменим пропуски в столбце тип коробки передач модой"
      ]
    },
    {
      "cell_type": "code",
      "execution_count": null,
      "metadata": {
        "colab": {
          "base_uri": "https://localhost:8080/"
        },
        "id": "hKs_8l-P73cK",
        "outputId": "3f7d054f-b892-4367-e051-04dd594dcdbe"
      },
      "outputs": [
        {
          "output_type": "execute_result",
          "data": {
            "text/plain": [
              "0"
            ]
          },
          "metadata": {},
          "execution_count": 17
        }
      ],
      "source": [
        "df['Gearbox'] = df['Gearbox'].fillna(df['Gearbox'].mode().values[0])\n",
        "df['Gearbox'].isna().sum()"
      ]
    },
    {
      "cell_type": "markdown",
      "metadata": {
        "id": "4nBJ0jZD73cL"
      },
      "source": [
        "Пропуски в столбце модель авто заменяем на заглушку unknown"
      ]
    },
    {
      "cell_type": "code",
      "execution_count": null,
      "metadata": {
        "colab": {
          "base_uri": "https://localhost:8080/"
        },
        "id": "clm3jSt-73cL",
        "outputId": "1430f819-3115-4ce0-db3f-5acea7275ec0"
      },
      "outputs": [
        {
          "output_type": "execute_result",
          "data": {
            "text/plain": [
              "0"
            ]
          },
          "metadata": {},
          "execution_count": 18
        }
      ],
      "source": [
        "\n",
        "df['Model'] = df['Model'].fillna('unknown')\n",
        "\n",
        "df['Model'].isna().sum()"
      ]
    },
    {
      "cell_type": "markdown",
      "metadata": {
        "id": "SCPceFK773cM"
      },
      "source": [
        "*Проверяем данные на аномалии*"
      ]
    },
    {
      "cell_type": "code",
      "execution_count": null,
      "metadata": {
        "colab": {
          "base_uri": "https://localhost:8080/",
          "height": 300
        },
        "id": "KO58dw2n73cM",
        "outputId": "6db9a842-44dc-4b72-d963-c1b2a80d707f"
      },
      "outputs": [
        {
          "output_type": "execute_result",
          "data": {
            "text/plain": [
              "               Price    VehicleType  RegistrationYear          Power  \\\n",
              "count  189108.000000  189108.000000     189108.000000  189108.000000   \n",
              "mean     4421.289501    2003.682303       2004.233401     110.037217   \n",
              "std      4529.192094      67.478609         91.603040     190.246600   \n",
              "min         0.000000    1000.000000       1000.000000       0.000000   \n",
              "25%      1001.000000    1999.000000       1999.000000      68.000000   \n",
              "50%      2700.000000    2003.000000       2003.000000     105.000000   \n",
              "75%      6400.000000    2007.000000       2008.000000     141.000000   \n",
              "max     20000.000000    9999.000000       9999.000000   19211.000000   \n",
              "\n",
              "           Kilometer  RegistrationMonth  \n",
              "count  189108.000000      189108.000000  \n",
              "mean   128173.583349           5.699521  \n",
              "std     37901.296732           3.727700  \n",
              "min      5000.000000           0.000000  \n",
              "25%    125000.000000           3.000000  \n",
              "50%    150000.000000           6.000000  \n",
              "75%    150000.000000           9.000000  \n",
              "max    150000.000000          12.000000  "
            ],
            "text/html": [
              "\n",
              "  <div id=\"df-1e81c6a0-5519-4bbf-9ad9-a7f78a49ea5f\">\n",
              "    <div class=\"colab-df-container\">\n",
              "      <div>\n",
              "<style scoped>\n",
              "    .dataframe tbody tr th:only-of-type {\n",
              "        vertical-align: middle;\n",
              "    }\n",
              "\n",
              "    .dataframe tbody tr th {\n",
              "        vertical-align: top;\n",
              "    }\n",
              "\n",
              "    .dataframe thead th {\n",
              "        text-align: right;\n",
              "    }\n",
              "</style>\n",
              "<table border=\"1\" class=\"dataframe\">\n",
              "  <thead>\n",
              "    <tr style=\"text-align: right;\">\n",
              "      <th></th>\n",
              "      <th>Price</th>\n",
              "      <th>VehicleType</th>\n",
              "      <th>RegistrationYear</th>\n",
              "      <th>Power</th>\n",
              "      <th>Kilometer</th>\n",
              "      <th>RegistrationMonth</th>\n",
              "    </tr>\n",
              "  </thead>\n",
              "  <tbody>\n",
              "    <tr>\n",
              "      <th>count</th>\n",
              "      <td>189108.000000</td>\n",
              "      <td>189108.000000</td>\n",
              "      <td>189108.000000</td>\n",
              "      <td>189108.000000</td>\n",
              "      <td>189108.000000</td>\n",
              "      <td>189108.000000</td>\n",
              "    </tr>\n",
              "    <tr>\n",
              "      <th>mean</th>\n",
              "      <td>4421.289501</td>\n",
              "      <td>2003.682303</td>\n",
              "      <td>2004.233401</td>\n",
              "      <td>110.037217</td>\n",
              "      <td>128173.583349</td>\n",
              "      <td>5.699521</td>\n",
              "    </tr>\n",
              "    <tr>\n",
              "      <th>std</th>\n",
              "      <td>4529.192094</td>\n",
              "      <td>67.478609</td>\n",
              "      <td>91.603040</td>\n",
              "      <td>190.246600</td>\n",
              "      <td>37901.296732</td>\n",
              "      <td>3.727700</td>\n",
              "    </tr>\n",
              "    <tr>\n",
              "      <th>min</th>\n",
              "      <td>0.000000</td>\n",
              "      <td>1000.000000</td>\n",
              "      <td>1000.000000</td>\n",
              "      <td>0.000000</td>\n",
              "      <td>5000.000000</td>\n",
              "      <td>0.000000</td>\n",
              "    </tr>\n",
              "    <tr>\n",
              "      <th>25%</th>\n",
              "      <td>1001.000000</td>\n",
              "      <td>1999.000000</td>\n",
              "      <td>1999.000000</td>\n",
              "      <td>68.000000</td>\n",
              "      <td>125000.000000</td>\n",
              "      <td>3.000000</td>\n",
              "    </tr>\n",
              "    <tr>\n",
              "      <th>50%</th>\n",
              "      <td>2700.000000</td>\n",
              "      <td>2003.000000</td>\n",
              "      <td>2003.000000</td>\n",
              "      <td>105.000000</td>\n",
              "      <td>150000.000000</td>\n",
              "      <td>6.000000</td>\n",
              "    </tr>\n",
              "    <tr>\n",
              "      <th>75%</th>\n",
              "      <td>6400.000000</td>\n",
              "      <td>2007.000000</td>\n",
              "      <td>2008.000000</td>\n",
              "      <td>141.000000</td>\n",
              "      <td>150000.000000</td>\n",
              "      <td>9.000000</td>\n",
              "    </tr>\n",
              "    <tr>\n",
              "      <th>max</th>\n",
              "      <td>20000.000000</td>\n",
              "      <td>9999.000000</td>\n",
              "      <td>9999.000000</td>\n",
              "      <td>19211.000000</td>\n",
              "      <td>150000.000000</td>\n",
              "      <td>12.000000</td>\n",
              "    </tr>\n",
              "  </tbody>\n",
              "</table>\n",
              "</div>\n",
              "      <button class=\"colab-df-convert\" onclick=\"convertToInteractive('df-1e81c6a0-5519-4bbf-9ad9-a7f78a49ea5f')\"\n",
              "              title=\"Convert this dataframe to an interactive table.\"\n",
              "              style=\"display:none;\">\n",
              "        \n",
              "  <svg xmlns=\"http://www.w3.org/2000/svg\" height=\"24px\"viewBox=\"0 0 24 24\"\n",
              "       width=\"24px\">\n",
              "    <path d=\"M0 0h24v24H0V0z\" fill=\"none\"/>\n",
              "    <path d=\"M18.56 5.44l.94 2.06.94-2.06 2.06-.94-2.06-.94-.94-2.06-.94 2.06-2.06.94zm-11 1L8.5 8.5l.94-2.06 2.06-.94-2.06-.94L8.5 2.5l-.94 2.06-2.06.94zm10 10l.94 2.06.94-2.06 2.06-.94-2.06-.94-.94-2.06-.94 2.06-2.06.94z\"/><path d=\"M17.41 7.96l-1.37-1.37c-.4-.4-.92-.59-1.43-.59-.52 0-1.04.2-1.43.59L10.3 9.45l-7.72 7.72c-.78.78-.78 2.05 0 2.83L4 21.41c.39.39.9.59 1.41.59.51 0 1.02-.2 1.41-.59l7.78-7.78 2.81-2.81c.8-.78.8-2.07 0-2.86zM5.41 20L4 18.59l7.72-7.72 1.47 1.35L5.41 20z\"/>\n",
              "  </svg>\n",
              "      </button>\n",
              "      \n",
              "  <style>\n",
              "    .colab-df-container {\n",
              "      display:flex;\n",
              "      flex-wrap:wrap;\n",
              "      gap: 12px;\n",
              "    }\n",
              "\n",
              "    .colab-df-convert {\n",
              "      background-color: #E8F0FE;\n",
              "      border: none;\n",
              "      border-radius: 50%;\n",
              "      cursor: pointer;\n",
              "      display: none;\n",
              "      fill: #1967D2;\n",
              "      height: 32px;\n",
              "      padding: 0 0 0 0;\n",
              "      width: 32px;\n",
              "    }\n",
              "\n",
              "    .colab-df-convert:hover {\n",
              "      background-color: #E2EBFA;\n",
              "      box-shadow: 0px 1px 2px rgba(60, 64, 67, 0.3), 0px 1px 3px 1px rgba(60, 64, 67, 0.15);\n",
              "      fill: #174EA6;\n",
              "    }\n",
              "\n",
              "    [theme=dark] .colab-df-convert {\n",
              "      background-color: #3B4455;\n",
              "      fill: #D2E3FC;\n",
              "    }\n",
              "\n",
              "    [theme=dark] .colab-df-convert:hover {\n",
              "      background-color: #434B5C;\n",
              "      box-shadow: 0px 1px 3px 1px rgba(0, 0, 0, 0.15);\n",
              "      filter: drop-shadow(0px 1px 2px rgba(0, 0, 0, 0.3));\n",
              "      fill: #FFFFFF;\n",
              "    }\n",
              "  </style>\n",
              "\n",
              "      <script>\n",
              "        const buttonEl =\n",
              "          document.querySelector('#df-1e81c6a0-5519-4bbf-9ad9-a7f78a49ea5f button.colab-df-convert');\n",
              "        buttonEl.style.display =\n",
              "          google.colab.kernel.accessAllowed ? 'block' : 'none';\n",
              "\n",
              "        async function convertToInteractive(key) {\n",
              "          const element = document.querySelector('#df-1e81c6a0-5519-4bbf-9ad9-a7f78a49ea5f');\n",
              "          const dataTable =\n",
              "            await google.colab.kernel.invokeFunction('convertToInteractive',\n",
              "                                                     [key], {});\n",
              "          if (!dataTable) return;\n",
              "\n",
              "          const docLinkHtml = 'Like what you see? Visit the ' +\n",
              "            '<a target=\"_blank\" href=https://colab.research.google.com/notebooks/data_table.ipynb>data table notebook</a>'\n",
              "            + ' to learn more about interactive tables.';\n",
              "          element.innerHTML = '';\n",
              "          dataTable['output_type'] = 'display_data';\n",
              "          await google.colab.output.renderOutput(dataTable, element);\n",
              "          const docLink = document.createElement('div');\n",
              "          docLink.innerHTML = docLinkHtml;\n",
              "          element.appendChild(docLink);\n",
              "        }\n",
              "      </script>\n",
              "    </div>\n",
              "  </div>\n",
              "  "
            ]
          },
          "metadata": {},
          "execution_count": 19
        }
      ],
      "source": [
        "df.describe()"
      ]
    },
    {
      "cell_type": "code",
      "execution_count": null,
      "metadata": {
        "scrolled": true,
        "colab": {
          "base_uri": "https://localhost:8080/",
          "height": 485
        },
        "id": "bWDt1IM_73cM",
        "outputId": "84c9a488-e869-48c8-9a8f-88e70a13063d"
      },
      "outputs": [
        {
          "output_type": "execute_result",
          "data": {
            "text/plain": [
              "Text(0.5, 1.0, 'Гистограмма года выпуска авто')"
            ]
          },
          "metadata": {},
          "execution_count": 20
        },
        {
          "output_type": "display_data",
          "data": {
            "text/plain": [
              "<Figure size 1000x500 with 1 Axes>"
            ],
            "image/png": "[encoded data removed]"
          },
          "metadata": {}
        }
      ],
      "source": [
        "\n",
        "plt.figure(figsize=[10,5])\n",
        "\n",
        "plt.hist(df['RegistrationYear'],bins=2000)\n",
        "plt.xlim([1890, 2023])\n",
        "plt.title('Гистограмма года выпуска авто')\n"
      ]
    },
    {
      "cell_type": "markdown",
      "metadata": {
        "id": "hDeuY6Sa73cN"
      },
      "source": [
        "При взгляде на гистограмму год  выпуска видим аномалии, соответсвенно задаем актуальные значения периода. Нижняя граница после 1980 года.\n",
        "Верхняя до 2016(год регисрации анкет, машины не могут быть позже данного года выпуска)"
      ]
    },
    {
      "cell_type": "code",
      "execution_count": null,
      "metadata": {
        "id": "1t99ABMQ73cN"
      },
      "outputs": [],
      "source": [
        "df = df.loc[(df['RegistrationYear']>1980) &(df['RegistrationYear']<=2016)]"
      ]
    },
    {
      "cell_type": "code",
      "execution_count": null,
      "metadata": {
        "colab": {
          "base_uri": "https://localhost:8080/",
          "height": 485
        },
        "id": "GbkduGA973cO",
        "outputId": "356f4b7b-cb22-41d1-b593-999aad271d4d"
      },
      "outputs": [
        {
          "output_type": "execute_result",
          "data": {
            "text/plain": [
              "Text(0.5, 1.0, 'Гистограмма мощности авто')"
            ]
          },
          "metadata": {},
          "execution_count": 22
        },
        {
          "output_type": "display_data",
          "data": {
            "text/plain": [
              "<Figure size 1000x500 with 1 Axes>"
            ],
            "image/png": "[encoded data removed]"
          },
          "metadata": {}
        }
      ],
      "source": [
        "plt.figure(figsize=[10,5])\n",
        "\n",
        "plt.hist(df['Power'],bins=200)\n",
        "plt.xlim([0, 2000])\n",
        "plt.title('Гистограмма мощности авто')\n",
        "\n"
      ]
    },
    {
      "cell_type": "markdown",
      "metadata": {
        "id": "Z9RaDWt_73cO"
      },
      "source": [
        "При взгляде на данные видны аномалии, есть значения выше 1000 л.с. При этом в списке нет моделей машин, которые могут иметь\n",
        "такую мощность, например тягочи, спортивные машины и т.д. Делаем вывод что такая аномалия взялась из за лишнего нуля.\n",
        "Данные необходимо преобразовать поделив значение выше 1000 л.с на 10. И в работу берем значения больше 0 л.с"
      ]
    },
    {
      "cell_type": "code",
      "execution_count": null,
      "metadata": {
        "id": "JfIydftk73cO"
      },
      "outputs": [],
      "source": [
        "\n",
        "df.loc[df['Power'] > 1000, 'Power'] = df.loc[df['Power'] > 1000, 'Power'] / 10\n",
        "df = df.loc[df['Power']>0]"
      ]
    },
    {
      "cell_type": "code",
      "execution_count": null,
      "metadata": {
        "colab": {
          "base_uri": "https://localhost:8080/"
        },
        "id": "lGbkvqA-73cP",
        "outputId": "707ea518-b790-42fc-cdbe-b37cf973698d"
      },
      "outputs": [
        {
          "output_type": "execute_result",
          "data": {
            "text/plain": [
              "0        3383\n",
              "500      2378\n",
              "1500     2333\n",
              "1200     1950\n",
              "2500     1933\n",
              "         ... \n",
              "4477        1\n",
              "9410        1\n",
              "3393        1\n",
              "11760       1\n",
              "2359        1\n",
              "Name: Price, Length: 2872, dtype: int64"
            ]
          },
          "metadata": {},
          "execution_count": 24
        }
      ],
      "source": [
        "#Убираем нулевые значения цены авто\n",
        "df['Price'].value_counts()"
      ]
    },
    {
      "cell_type": "code",
      "execution_count": null,
      "metadata": {
        "id": "Q_dkwjV573cP"
      },
      "outputs": [],
      "source": [
        "df = df.loc[df['Price']>0]"
      ]
    },
    {
      "cell_type": "markdown",
      "metadata": {
        "id": "pxqRoiZp73cP"
      },
      "source": [
        "***По итогу предобработки данных очистил пропуски в данных, удалил дубликаты, поработал с аномалиями данных***"
      ]
    },
    {
      "cell_type": "markdown",
      "metadata": {
        "id": "TBmqwTxP73cP"
      },
      "source": [
        "*Далее подготовим данные к обучению. Разделим выборку,преобразуем категориальные признаки в колличественные, масштабируем данные*"
      ]
    },
    {
      "cell_type": "markdown",
      "metadata": {
        "id": "1timZnu373cQ"
      },
      "source": [
        "Кодируем данные техникой OHE"
      ]
    },
    {
      "cell_type": "code",
      "execution_count": null,
      "metadata": {
        "colab": {
          "base_uri": "https://localhost:8080/",
          "height": 289
        },
        "id": "i_YqbgLj73cQ",
        "outputId": "f9138c9d-206b-40ee-a40c-d055b55e7a8c"
      },
      "outputs": [
        {
          "output_type": "execute_result",
          "data": {
            "text/plain": [
              "   Price  RegistrationYear  Power  Kilometer  RegistrationMonth  \\\n",
              "1  18300              2011  190.0     125000                  5   \n",
              "2   9800              2004  163.0     125000                  8   \n",
              "3   1500              2001   75.0     150000                  6   \n",
              "\n",
              "           DateCreated  VehicleType_1982.0  VehicleType_1983.0  \\\n",
              "1  2016-03-24 00:00:00                   0                   0   \n",
              "2  2016-03-14 00:00:00                   0                   0   \n",
              "3  2016-03-17 00:00:00                   0                   0   \n",
              "\n",
              "   VehicleType_1984.0  VehicleType_1985.0  ...  Brand_smart  \\\n",
              "1                   0                   0  ...            0   \n",
              "2                   0                   0  ...            0   \n",
              "3                   0                   0  ...            0   \n",
              "\n",
              "   Brand_sonstige_autos  Brand_subaru  Brand_suzuki  Brand_toyota  \\\n",
              "1                     0             0             0             0   \n",
              "2                     0             0             0             0   \n",
              "3                     0             0             0             0   \n",
              "\n",
              "   Brand_trabant  Brand_volkswagen  Brand_volvo  Repaired_unknown  \\\n",
              "1              0                 0            0                 0   \n",
              "2              0                 0            0                 1   \n",
              "3              0                 1            0                 0   \n",
              "\n",
              "   Repaired_yes  \n",
              "1             1  \n",
              "2             0  \n",
              "3             0  \n",
              "\n",
              "[3 rows x 337 columns]"
            ],
            "text/html": [
              "\n",
              "  <div id=\"df-edc75c45-02c4-4ea4-a700-f5e0a7403a2a\">\n",
              "    <div class=\"colab-df-container\">\n",
              "      <div>\n",
              "<style scoped>\n",
              "    .dataframe tbody tr th:only-of-type {\n",
              "        vertical-align: middle;\n",
              "    }\n",
              "\n",
              "    .dataframe tbody tr th {\n",
              "        vertical-align: top;\n",
              "    }\n",
              "\n",
              "    .dataframe thead th {\n",
              "        text-align: right;\n",
              "    }\n",
              "</style>\n",
              "<table border=\"1\" class=\"dataframe\">\n",
              "  <thead>\n",
              "    <tr style=\"text-align: right;\">\n",
              "      <th></th>\n",
              "      <th>Price</th>\n",
              "      <th>RegistrationYear</th>\n",
              "      <th>Power</th>\n",
              "      <th>Kilometer</th>\n",
              "      <th>RegistrationMonth</th>\n",
              "      <th>DateCreated</th>\n",
              "      <th>VehicleType_1982.0</th>\n",
              "      <th>VehicleType_1983.0</th>\n",
              "      <th>VehicleType_1984.0</th>\n",
              "      <th>VehicleType_1985.0</th>\n",
              "      <th>...</th>\n",
              "      <th>Brand_smart</th>\n",
              "      <th>Brand_sonstige_autos</th>\n",
              "      <th>Brand_subaru</th>\n",
              "      <th>Brand_suzuki</th>\n",
              "      <th>Brand_toyota</th>\n",
              "      <th>Brand_trabant</th>\n",
              "      <th>Brand_volkswagen</th>\n",
              "      <th>Brand_volvo</th>\n",
              "      <th>Repaired_unknown</th>\n",
              "      <th>Repaired_yes</th>\n",
              "    </tr>\n",
              "  </thead>\n",
              "  <tbody>\n",
              "    <tr>\n",
              "      <th>1</th>\n",
              "      <td>18300</td>\n",
              "      <td>2011</td>\n",
              "      <td>190.0</td>\n",
              "      <td>125000</td>\n",
              "      <td>5</td>\n",
              "      <td>2016-03-24 00:00:00</td>\n",
              "      <td>0</td>\n",
              "      <td>0</td>\n",
              "      <td>0</td>\n",
              "      <td>0</td>\n",
              "      <td>...</td>\n",
              "      <td>0</td>\n",
              "      <td>0</td>\n",
              "      <td>0</td>\n",
              "      <td>0</td>\n",
              "      <td>0</td>\n",
              "      <td>0</td>\n",
              "      <td>0</td>\n",
              "      <td>0</td>\n",
              "      <td>0</td>\n",
              "      <td>1</td>\n",
              "    </tr>\n",
              "    <tr>\n",
              "      <th>2</th>\n",
              "      <td>9800</td>\n",
              "      <td>2004</td>\n",
              "      <td>163.0</td>\n",
              "      <td>125000</td>\n",
              "      <td>8</td>\n",
              "      <td>2016-03-14 00:00:00</td>\n",
              "      <td>0</td>\n",
              "      <td>0</td>\n",
              "      <td>0</td>\n",
              "      <td>0</td>\n",
              "      <td>...</td>\n",
              "      <td>0</td>\n",
              "      <td>0</td>\n",
              "      <td>0</td>\n",
              "      <td>0</td>\n",
              "      <td>0</td>\n",
              "      <td>0</td>\n",
              "      <td>0</td>\n",
              "      <td>0</td>\n",
              "      <td>1</td>\n",
              "      <td>0</td>\n",
              "    </tr>\n",
              "    <tr>\n",
              "      <th>3</th>\n",
              "      <td>1500</td>\n",
              "      <td>2001</td>\n",
              "      <td>75.0</td>\n",
              "      <td>150000</td>\n",
              "      <td>6</td>\n",
              "      <td>2016-03-17 00:00:00</td>\n",
              "      <td>0</td>\n",
              "      <td>0</td>\n",
              "      <td>0</td>\n",
              "      <td>0</td>\n",
              "      <td>...</td>\n",
              "      <td>0</td>\n",
              "      <td>0</td>\n",
              "      <td>0</td>\n",
              "      <td>0</td>\n",
              "      <td>0</td>\n",
              "      <td>0</td>\n",
              "      <td>1</td>\n",
              "      <td>0</td>\n",
              "      <td>0</td>\n",
              "      <td>0</td>\n",
              "    </tr>\n",
              "  </tbody>\n",
              "</table>\n",
              "<p>3 rows × 337 columns</p>\n",
              "</div>\n",
              "      <button class=\"colab-df-convert\" onclick=\"convertToInteractive('df-edc75c45-02c4-4ea4-a700-f5e0a7403a2a')\"\n",
              "              title=\"Convert this dataframe to an interactive table.\"\n",
              "              style=\"display:none;\">\n",
              "        \n",
              "  <svg xmlns=\"http://www.w3.org/2000/svg\" height=\"24px\"viewBox=\"0 0 24 24\"\n",
              "       width=\"24px\">\n",
              "    <path d=\"M0 0h24v24H0V0z\" fill=\"none\"/>\n",
              "    <path d=\"M18.56 5.44l.94 2.06.94-2.06 2.06-.94-2.06-.94-.94-2.06-.94 2.06-2.06.94zm-11 1L8.5 8.5l.94-2.06 2.06-.94-2.06-.94L8.5 2.5l-.94 2.06-2.06.94zm10 10l.94 2.06.94-2.06 2.06-.94-2.06-.94-.94-2.06-.94 2.06-2.06.94z\"/><path d=\"M17.41 7.96l-1.37-1.37c-.4-.4-.92-.59-1.43-.59-.52 0-1.04.2-1.43.59L10.3 9.45l-7.72 7.72c-.78.78-.78 2.05 0 2.83L4 21.41c.39.39.9.59 1.41.59.51 0 1.02-.2 1.41-.59l7.78-7.78 2.81-2.81c.8-.78.8-2.07 0-2.86zM5.41 20L4 18.59l7.72-7.72 1.47 1.35L5.41 20z\"/>\n",
              "  </svg>\n",
              "      </button>\n",
              "      \n",
              "  <style>\n",
              "    .colab-df-container {\n",
              "      display:flex;\n",
              "      flex-wrap:wrap;\n",
              "      gap: 12px;\n",
              "    }\n",
              "\n",
              "    .colab-df-convert {\n",
              "      background-color: #E8F0FE;\n",
              "      border: none;\n",
              "      border-radius: 50%;\n",
              "      cursor: pointer;\n",
              "      display: none;\n",
              "      fill: #1967D2;\n",
              "      height: 32px;\n",
              "      padding: 0 0 0 0;\n",
              "      width: 32px;\n",
              "    }\n",
              "\n",
              "    .colab-df-convert:hover {\n",
              "      background-color: #E2EBFA;\n",
              "      box-shadow: 0px 1px 2px rgba(60, 64, 67, 0.3), 0px 1px 3px 1px rgba(60, 64, 67, 0.15);\n",
              "      fill: #174EA6;\n",
              "    }\n",
              "\n",
              "    [theme=dark] .colab-df-convert {\n",
              "      background-color: #3B4455;\n",
              "      fill: #D2E3FC;\n",
              "    }\n",
              "\n",
              "    [theme=dark] .colab-df-convert:hover {\n",
              "      background-color: #434B5C;\n",
              "      box-shadow: 0px 1px 3px 1px rgba(0, 0, 0, 0.15);\n",
              "      filter: drop-shadow(0px 1px 2px rgba(0, 0, 0, 0.3));\n",
              "      fill: #FFFFFF;\n",
              "    }\n",
              "  </style>\n",
              "\n",
              "      <script>\n",
              "        const buttonEl =\n",
              "          document.querySelector('#df-edc75c45-02c4-4ea4-a700-f5e0a7403a2a button.colab-df-convert');\n",
              "        buttonEl.style.display =\n",
              "          google.colab.kernel.accessAllowed ? 'block' : 'none';\n",
              "\n",
              "        async function convertToInteractive(key) {\n",
              "          const element = document.querySelector('#df-edc75c45-02c4-4ea4-a700-f5e0a7403a2a');\n",
              "          const dataTable =\n",
              "            await google.colab.kernel.invokeFunction('convertToInteractive',\n",
              "                                                     [key], {});\n",
              "          if (!dataTable) return;\n",
              "\n",
              "          const docLinkHtml = 'Like what you see? Visit the ' +\n",
              "            '<a target=\"_blank\" href=https://colab.research.google.com/notebooks/data_table.ipynb>data table notebook</a>'\n",
              "            + ' to learn more about interactive tables.';\n",
              "          element.innerHTML = '';\n",
              "          dataTable['output_type'] = 'display_data';\n",
              "          await google.colab.output.renderOutput(dataTable, element);\n",
              "          const docLink = document.createElement('div');\n",
              "          docLink.innerHTML = docLinkHtml;\n",
              "          element.appendChild(docLink);\n",
              "        }\n",
              "      </script>\n",
              "    </div>\n",
              "  </div>\n",
              "  "
            ]
          },
          "metadata": {},
          "execution_count": 26
        }
      ],
      "source": [
        "\n",
        "cols = ['VehicleType','Gearbox','Model','FuelType','Brand','Repaired']\n",
        "df1 = df.copy()\n",
        "df = pd.get_dummies(df,columns=cols,drop_first=True)\n",
        "df.head(3)"
      ]
    },
    {
      "cell_type": "markdown",
      "metadata": {
        "id": "WXWmPtbo73cQ"
      },
      "source": [
        "Кодируем данные техникой OE"
      ]
    },
    {
      "cell_type": "code",
      "execution_count": null,
      "metadata": {
        "id": "7f8TJWhx73cQ"
      },
      "outputs": [],
      "source": [
        "features = df1.drop(['Price','DateCreated'],axis = 1)\n",
        "target = df1['Price']\n",
        "features_train1,features_valid1,target_train2,target_valid2 = train_test_split(features,target,test_size = 0.4,random_state = 12345)\n",
        "features_test1,features_valid1,target_test2,target_valid2 = train_test_split(features_valid1,target_valid2,test_size = 0.5,random_state= 12345)\n",
        "\n",
        "encoder = OrdinalEncoder()\n",
        "encoder.fit(features_train1)\n",
        "features_train2 = encoder.transform(features_train1)\n",
        "features_train2 = pd.DataFrame(encoder.transform(features_train1),columns=features_train1.columns)\n",
        "encoder.fit(features_valid1)\n",
        "features_valid2 = encoder.transform(features_valid1)\n",
        "features_valid2 = pd.DataFrame(encoder.transform(features_valid1),columns=features_valid1.columns)\n",
        "encoder.fit(features_test1)\n",
        "features_test2 = encoder.transform(features_test1)\n",
        "features_test2 = pd.DataFrame(encoder.transform(features_test1),columns=features_test1.columns)\n"
      ]
    },
    {
      "cell_type": "markdown",
      "metadata": {
        "id": "ocLBxWkY73cQ"
      },
      "source": [
        "Разделим выборки на трейн, тест, и валид для закодированных данных техникой OHE"
      ]
    },
    {
      "cell_type": "code",
      "execution_count": null,
      "metadata": {
        "id": "FrcPZV2Z73cR"
      },
      "outputs": [],
      "source": [
        "\n",
        "features = df.drop(['Price','DateCreated'],axis = 1)\n",
        "target = df['Price']\n",
        "features_train,features_valid,target_train,target_valid = train_test_split(features,target,test_size = 0.4,random_state = 12345)\n",
        "features_test,features_valid,target_test,target_valid = train_test_split(features_valid,target_valid,test_size = 0.5,random_state= 12345)"
      ]
    },
    {
      "cell_type": "markdown",
      "metadata": {
        "id": "QMexfqhh73cR"
      },
      "source": []
    },
    {
      "cell_type": "markdown",
      "metadata": {
        "id": "RTjxKd2073cR"
      },
      "source": [
        "Масштабируем данные"
      ]
    },
    {
      "cell_type": "code",
      "execution_count": null,
      "metadata": {
        "id": "9hXZRtcS73cR"
      },
      "outputs": [],
      "source": [
        "warnings.filterwarnings('ignore')\n",
        "numeric =['RegistrationYear','Power','Kilometer']\n",
        "scaler= StandardScaler()\n",
        "scaler.fit(features_train[numeric])\n",
        "features_train[numeric] = scaler.transform(features_train[numeric])\n",
        "features_valid[numeric] = scaler.transform(features_valid[numeric])\n",
        "features_test[numeric] = scaler.transform(features_test[numeric])\n",
        "\n",
        "scaler.fit(features_train1[numeric])\n",
        "features_train2[numeric] = scaler.transform(features_train2[numeric])\n",
        "features_valid2[numeric] = scaler.transform(features_valid2[numeric])\n",
        "features_test2[numeric] = scaler.transform(features_test2[numeric])\n"
      ]
    },
    {
      "cell_type": "markdown",
      "metadata": {
        "id": "mfaE5gxT73cR"
      },
      "source": [
        "***Произвел предобработку данных:\n",
        "-Удалил дубликаты\n",
        "-Восстановил часть данных, провел работу с пропусками\n",
        "-Провел работу с аномалиями в данных.\n",
        "Подготовили данные для машинного обучения:\n",
        "-Разделили выборку, закодыровали данные техникой OHE и ОЕ. Масштабировали данные.\n",
        "Данные готовы к машинному обучению***"
      ]
    },
    {
      "cell_type": "markdown",
      "metadata": {
        "id": "5wBTegyM73cS"
      },
      "source": [
        "## Обучение моделей"
      ]
    },
    {
      "cell_type": "markdown",
      "metadata": {
        "id": "txKJDhex73cS"
      },
      "source": [
        "Модель LightGBM"
      ]
    },
    {
      "cell_type": "code",
      "execution_count": null,
      "metadata": {
        "colab": {
          "base_uri": "https://localhost:8080/"
        },
        "id": "k3F9-y0573cS",
        "outputId": "e540e519-952c-4c47-e0c4-5ac8476d1c30"
      },
      "outputs": [
        {
          "output_type": "stream",
          "name": "stdout",
          "text": [
            "max_depth: 1 num_leaves: 30 rmse 2574.4386985307824\n",
            "время обучения 1.73\n",
            "время предсказания 0.08\n",
            "max_depth: 1 num_leaves: 60 rmse 2574.4386985307824\n",
            "время обучения 1.57\n",
            "время предсказания 0.17\n",
            "max_depth: 1 num_leaves: 90 rmse 2574.4386985307824\n",
            "время обучения 1.72\n",
            "время предсказания 0.07\n",
            "max_depth: 1 num_leaves: 120 rmse 2574.4386985307824\n",
            "время обучения 1.48\n",
            "время предсказания 0.09\n",
            "max_depth: 4 num_leaves: 30 rmse 2028.916782238158\n",
            "время обучения 5.52\n",
            "время предсказания 0.30\n",
            "max_depth: 4 num_leaves: 60 rmse 2028.916782238158\n",
            "время обучения 3.17\n",
            "время предсказания 0.27\n",
            "max_depth: 4 num_leaves: 90 rmse 2028.916782238158\n",
            "время обучения 4.77\n",
            "время предсказания 0.22\n",
            "max_depth: 4 num_leaves: 120 rmse 2028.916782238158\n",
            "время обучения 5.42\n",
            "время предсказания 0.29\n",
            "max_depth: 7 num_leaves: 30 rmse 1957.1546161111883\n",
            "время обучения 0.77\n",
            "время предсказания 0.16\n",
            "max_depth: 7 num_leaves: 60 rmse 1945.915196053398\n",
            "время обучения 0.86\n",
            "время предсказания 0.18\n",
            "max_depth: 7 num_leaves: 90 rmse 1945.1384714516573\n",
            "время обучения 0.91\n",
            "время предсказания 0.19\n",
            "max_depth: 7 num_leaves: 120 rmse 1949.7526795259025\n",
            "время обучения 0.93\n",
            "время предсказания 0.21\n",
            "CPU times: user 30.6 s, sys: 183 ms, total: 30.8 s\n",
            "Wall time: 31.2 s\n"
          ]
        }
      ],
      "source": [
        "%%time\n",
        "for depth in range(1, 9, 3):\n",
        "    for num in range(30, 121, 30):\n",
        "        model = lgb.LGBMRegressor(max_depth = depth,num_leaves= num,random_state=12345)\n",
        "        start = time.time()\n",
        "        model.fit(features_train2, target_train2)\n",
        "        finish = time.time()\n",
        "        total = finish-start\n",
        "        start2 = time.time()\n",
        "        predictions_train = model.predict(features_valid2)\n",
        "        finish2 = time.time()\n",
        "        total2 = finish2-start2\n",
        "        print(\"max_depth:\", depth,'num_leaves:',num,'rmse',mean_squared_error(target_valid2, predictions_train)**0.5)\n",
        "        print('время обучения','%.2f'%total)\n",
        "        print('время предсказания','%.2f'%total2)"
      ]
    },
    {
      "cell_type": "markdown",
      "metadata": {
        "id": "IOvUyOwc73cT"
      },
      "source": [
        "*Лучшие показатели rmse = 1876.36, у модели LightGBM при гипермараметрах max_depth: 7 num_leaves: 90*"
      ]
    },
    {
      "cell_type": "markdown",
      "metadata": {
        "id": "A7DYPpc_73cT"
      },
      "source": [
        "Модель Линейной регрессии"
      ]
    },
    {
      "cell_type": "code",
      "execution_count": null,
      "metadata": {
        "colab": {
          "base_uri": "https://localhost:8080/"
        },
        "id": "rfDsmCwu73cT",
        "outputId": "5a4b240b-d2e7-4763-b8d5-1b0ca4fd5029"
      },
      "outputs": [
        {
          "output_type": "stream",
          "name": "stdout",
          "text": [
            "RMSE 2173.824755183158\n",
            "время обучения 4.43\n",
            "время предсказания 0.09\n",
            "CPU times: user 5.48 s, sys: 942 ms, total: 6.42 s\n",
            "Wall time: 4.52 s\n"
          ]
        }
      ],
      "source": [
        "%%time\n",
        "lr = LinearRegression()\n",
        "start = time.time()\n",
        "lr.fit(features_train, target_train)\n",
        "finish = time.time()\n",
        "total = finish-start\n",
        "start2= time.time()\n",
        "predictions_valid = lr.predict(features_valid)\n",
        "finish2 = time.time()\n",
        "total2 = finish2-start2\n",
        "print('RMSE',mean_squared_error(predictions_valid, target_valid)**.5)\n",
        "print('время обучения','%.2f'%total)\n",
        "print('время предсказания','%.2f'%total2)"
      ]
    },
    {
      "cell_type": "markdown",
      "metadata": {
        "id": "iUP5tt4p73cT"
      },
      "source": [
        "*RMSE = 2154.39 у модели Линейной регрессии*"
      ]
    },
    {
      "cell_type": "markdown",
      "metadata": {
        "id": "DDJPQXU-73cU"
      },
      "source": [
        "Модель случайного леса"
      ]
    },
    {
      "cell_type": "code",
      "execution_count": null,
      "metadata": {
        "colab": {
          "base_uri": "https://localhost:8080/"
        },
        "id": "XSlwIF3K73cU",
        "outputId": "550d243a-aab9-414b-bc18-1e4717f01bf0"
      },
      "outputs": [
        {
          "output_type": "stream",
          "name": "stdout",
          "text": [
            "Глубина дерева: 3 n_estimators: 1 RMSE 2954.188653672069\n",
            "время обучения 0.15\n",
            "время предсказания 0.01\n",
            "Глубина дерева: 4 n_estimators: 1 RMSE 2696.3196213905103\n",
            "время обучения 0.12\n",
            "время предсказания 0.01\n",
            "Глубина дерева: 5 n_estimators: 1 RMSE 2586.0503435756827\n",
            "время обучения 0.14\n",
            "время предсказания 0.01\n",
            "Глубина дерева: 3 n_estimators: 31 RMSE 2926.7820765087117\n",
            "время обучения 2.28\n",
            "время предсказания 0.04\n",
            "Глубина дерева: 4 n_estimators: 31 RMSE 2669.9587095298552\n",
            "время обучения 2.34\n",
            "время предсказания 0.05\n",
            "Глубина дерева: 5 n_estimators: 31 RMSE 2504.089000892279\n",
            "время обучения 2.79\n",
            "время предсказания 0.05\n",
            "Глубина дерева: 3 n_estimators: 61 RMSE 2924.1597705170207\n",
            "время обучения 3.45\n",
            "время предсказания 0.07\n",
            "Глубина дерева: 4 n_estimators: 61 RMSE 2667.155724850887\n",
            "время обучения 5.38\n",
            "время предсказания 0.09\n",
            "Глубина дерева: 5 n_estimators: 61 RMSE 2501.5441946703527\n",
            "время обучения 5.40\n",
            "время предсказания 0.10\n",
            "Глубина дерева: 3 n_estimators: 91 RMSE 2924.3369952369853\n",
            "время обучения 6.01\n",
            "время предсказания 0.11\n",
            "Глубина дерева: 4 n_estimators: 91 RMSE 2666.392266318765\n",
            "время обучения 6.69\n",
            "время предсказания 0.13\n",
            "Глубина дерева: 5 n_estimators: 91 RMSE 2499.7835506659058\n",
            "время обучения 8.93\n",
            "время предсказания 0.15\n",
            "Глубина дерева: 3 n_estimators: 121 RMSE 2924.1192573721323\n",
            "время обучения 7.70\n",
            "время предсказания 0.17\n",
            "Глубина дерева: 4 n_estimators: 121 RMSE 2666.359820932462\n",
            "время обучения 8.93\n",
            "время предсказания 0.17\n",
            "Глубина дерева: 5 n_estimators: 121 RMSE 2499.39482603901\n",
            "время обучения 11.44\n",
            "время предсказания 0.20\n",
            "CPU times: user 1min 12s, sys: 211 ms, total: 1min 12s\n",
            "Wall time: 1min 13s\n"
          ]
        }
      ],
      "source": [
        "%%time\n",
        "for est in range(1, 122, 30):\n",
        "    for depth in range(3, 6):\n",
        "        model_forest = RandomForestRegressor(random_state=12345, n_estimators= est,max_depth=depth)\n",
        "        start = time.time()\n",
        "        model_forest.fit(features_train2, target_train2)\n",
        "        finish = time.time()\n",
        "        total = finish-start\n",
        "        start2 = time.time()\n",
        "        predictions_forest = model_forest.predict(features_valid2)\n",
        "        finish2 = time.time()\n",
        "        total2 = finish2-start2\n",
        "        print(\"Глубина дерева:\", depth,'n_estimators:',est,'RMSE',mean_squared_error(predictions_forest, target_valid2)**.5)\n",
        "        print('время обучения','%.2f'%total)\n",
        "        print('время предсказания','%.2f'%total2)"
      ]
    },
    {
      "cell_type": "markdown",
      "metadata": {
        "id": "8tVN0wnU73cU"
      },
      "source": [
        "*Лучший RMSE у модели случайного леса = 2487.6, при гиперпараметрах глубина дерева: 5 n_estimators: 61*"
      ]
    },
    {
      "cell_type": "markdown",
      "metadata": {
        "id": "KbHtJ0sI73cU"
      },
      "source": [
        "Сравним метрики и скорость моделей"
      ]
    },
    {
      "cell_type": "code",
      "execution_count": null,
      "metadata": {
        "colab": {
          "base_uri": "https://localhost:8080/",
          "height": 143
        },
        "id": "XGd2RFUw73cU",
        "outputId": "50ab1f42-3d73-4f40-84ac-8496e9f99228"
      },
      "outputs": [
        {
          "output_type": "execute_result",
          "data": {
            "text/plain": [
              "               Модель     RMSE  время обучения  время предсказания\n",
              "0            LightGBM  1876.36           99.00                0.50\n",
              "1  Линейная регрессия  2154.39           18.39                0.29\n",
              "2       Случайный лес  2487.60            7.99                0.11"
            ],
            "text/html": [
              "\n",
              "  <div id=\"df-b1e13397-95da-4455-a71d-d31ef4aa772f\">\n",
              "    <div class=\"colab-df-container\">\n",
              "      <div>\n",
              "<style scoped>\n",
              "    .dataframe tbody tr th:only-of-type {\n",
              "        vertical-align: middle;\n",
              "    }\n",
              "\n",
              "    .dataframe tbody tr th {\n",
              "        vertical-align: top;\n",
              "    }\n",
              "\n",
              "    .dataframe thead th {\n",
              "        text-align: right;\n",
              "    }\n",
              "</style>\n",
              "<table border=\"1\" class=\"dataframe\">\n",
              "  <thead>\n",
              "    <tr style=\"text-align: right;\">\n",
              "      <th></th>\n",
              "      <th>Модель</th>\n",
              "      <th>RMSE</th>\n",
              "      <th>время обучения</th>\n",
              "      <th>время предсказания</th>\n",
              "    </tr>\n",
              "  </thead>\n",
              "  <tbody>\n",
              "    <tr>\n",
              "      <th>0</th>\n",
              "      <td>LightGBM</td>\n",
              "      <td>1876.36</td>\n",
              "      <td>99.00</td>\n",
              "      <td>0.50</td>\n",
              "    </tr>\n",
              "    <tr>\n",
              "      <th>1</th>\n",
              "      <td>Линейная регрессия</td>\n",
              "      <td>2154.39</td>\n",
              "      <td>18.39</td>\n",
              "      <td>0.29</td>\n",
              "    </tr>\n",
              "    <tr>\n",
              "      <th>2</th>\n",
              "      <td>Случайный лес</td>\n",
              "      <td>2487.60</td>\n",
              "      <td>7.99</td>\n",
              "      <td>0.11</td>\n",
              "    </tr>\n",
              "  </tbody>\n",
              "</table>\n",
              "</div>\n",
              "      <button class=\"colab-df-convert\" onclick=\"convertToInteractive('df-b1e13397-95da-4455-a71d-d31ef4aa772f')\"\n",
              "              title=\"Convert this dataframe to an interactive table.\"\n",
              "              style=\"display:none;\">\n",
              "        \n",
              "  <svg xmlns=\"http://www.w3.org/2000/svg\" height=\"24px\"viewBox=\"0 0 24 24\"\n",
              "       width=\"24px\">\n",
              "    <path d=\"M0 0h24v24H0V0z\" fill=\"none\"/>\n",
              "    <path d=\"M18.56 5.44l.94 2.06.94-2.06 2.06-.94-2.06-.94-.94-2.06-.94 2.06-2.06.94zm-11 1L8.5 8.5l.94-2.06 2.06-.94-2.06-.94L8.5 2.5l-.94 2.06-2.06.94zm10 10l.94 2.06.94-2.06 2.06-.94-2.06-.94-.94-2.06-.94 2.06-2.06.94z\"/><path d=\"M17.41 7.96l-1.37-1.37c-.4-.4-.92-.59-1.43-.59-.52 0-1.04.2-1.43.59L10.3 9.45l-7.72 7.72c-.78.78-.78 2.05 0 2.83L4 21.41c.39.39.9.59 1.41.59.51 0 1.02-.2 1.41-.59l7.78-7.78 2.81-2.81c.8-.78.8-2.07 0-2.86zM5.41 20L4 18.59l7.72-7.72 1.47 1.35L5.41 20z\"/>\n",
              "  </svg>\n",
              "      </button>\n",
              "      \n",
              "  <style>\n",
              "    .colab-df-container {\n",
              "      display:flex;\n",
              "      flex-wrap:wrap;\n",
              "      gap: 12px;\n",
              "    }\n",
              "\n",
              "    .colab-df-convert {\n",
              "      background-color: #E8F0FE;\n",
              "      border: none;\n",
              "      border-radius: 50%;\n",
              "      cursor: pointer;\n",
              "      display: none;\n",
              "      fill: #1967D2;\n",
              "      height: 32px;\n",
              "      padding: 0 0 0 0;\n",
              "      width: 32px;\n",
              "    }\n",
              "\n",
              "    .colab-df-convert:hover {\n",
              "      background-color: #E2EBFA;\n",
              "      box-shadow: 0px 1px 2px rgba(60, 64, 67, 0.3), 0px 1px 3px 1px rgba(60, 64, 67, 0.15);\n",
              "      fill: #174EA6;\n",
              "    }\n",
              "\n",
              "    [theme=dark] .colab-df-convert {\n",
              "      background-color: #3B4455;\n",
              "      fill: #D2E3FC;\n",
              "    }\n",
              "\n",
              "    [theme=dark] .colab-df-convert:hover {\n",
              "      background-color: #434B5C;\n",
              "      box-shadow: 0px 1px 3px 1px rgba(0, 0, 0, 0.15);\n",
              "      filter: drop-shadow(0px 1px 2px rgba(0, 0, 0, 0.3));\n",
              "      fill: #FFFFFF;\n",
              "    }\n",
              "  </style>\n",
              "\n",
              "      <script>\n",
              "        const buttonEl =\n",
              "          document.querySelector('#df-b1e13397-95da-4455-a71d-d31ef4aa772f button.colab-df-convert');\n",
              "        buttonEl.style.display =\n",
              "          google.colab.kernel.accessAllowed ? 'block' : 'none';\n",
              "\n",
              "        async function convertToInteractive(key) {\n",
              "          const element = document.querySelector('#df-b1e13397-95da-4455-a71d-d31ef4aa772f');\n",
              "          const dataTable =\n",
              "            await google.colab.kernel.invokeFunction('convertToInteractive',\n",
              "                                                     [key], {});\n",
              "          if (!dataTable) return;\n",
              "\n",
              "          const docLinkHtml = 'Like what you see? Visit the ' +\n",
              "            '<a target=\"_blank\" href=https://colab.research.google.com/notebooks/data_table.ipynb>data table notebook</a>'\n",
              "            + ' to learn more about interactive tables.';\n",
              "          element.innerHTML = '';\n",
              "          dataTable['output_type'] = 'display_data';\n",
              "          await google.colab.output.renderOutput(dataTable, element);\n",
              "          const docLink = document.createElement('div');\n",
              "          docLink.innerHTML = docLinkHtml;\n",
              "          element.appendChild(docLink);\n",
              "        }\n",
              "      </script>\n",
              "    </div>\n",
              "  </div>\n",
              "  "
            ]
          },
          "metadata": {},
          "execution_count": 33
        }
      ],
      "source": [
        "analysis = [[ 'Случайный лес', 2487.6,7.99,0.11],\n",
        "            [ 'Линейная регрессия', 2154.39,18.39,0.29],\n",
        "            ['LightGBM', 1876.36,99,0.50]]\n",
        "columns = ['Модель','RMSE','время обучения','время предсказания']\n",
        "analysis_data = pd.DataFrame(data=analysis, columns=columns)\n",
        "analysis_data.sort_values(by='RMSE', axis=0).reset_index(drop=True)"
      ]
    },
    {
      "cell_type": "markdown",
      "metadata": {
        "id": "C_FLEVBd73cU"
      },
      "source": [
        "\n"
      ]
    },
    {
      "cell_type": "markdown",
      "metadata": {
        "id": "eEcYRJQS73cV"
      },
      "source": [
        "***По итогу тестов выбираем модель градиентного бустинга LightGBM. По сравнению с другими моделями в тесте имеет оптимальную скорость и самый низкий показатель rmse = 1876.36. Далее на тестовых данных проверим показатели и скорость работы модели***"
      ]
    },
    {
      "cell_type": "markdown",
      "metadata": {
        "id": "GbQld8OL73cV"
      },
      "source": [
        "## Анализ моделей"
      ]
    },
    {
      "cell_type": "code",
      "execution_count": null,
      "metadata": {
        "colab": {
          "base_uri": "https://localhost:8080/"
        },
        "id": "6f9Rg4Kv73cV",
        "outputId": "4af0263a-b136-49fa-abc1-f7e3879bea49"
      },
      "outputs": [
        {
          "output_type": "stream",
          "name": "stdout",
          "text": [
            "max_depth: 5 num_leaves: 120 rmse 1962.319773888663\n",
            "CPU times: user 2.1 s, sys: 14.1 ms, total: 2.11 s\n",
            "Wall time: 1.12 s\n"
          ]
        }
      ],
      "source": [
        "%%time\n",
        "model = lgb.LGBMRegressor(max_depth = 7,num_leaves= 90,random_state=12345)\n",
        "model.fit(features_train2, target_train2)\n",
        "predictions_test = model.predict(features_test2)\n",
        "print(\"max_depth:\", depth,'num_leaves:',num,'rmse',mean_squared_error(target_test2, predictions_test)**0.5)"
      ]
    },
    {
      "cell_type": "markdown",
      "metadata": {
        "id": "GSzzo6Yo73cV"
      },
      "source": [
        "*Показатель RMSE на тестовых данных = 1877 что удовлетворяет требованиям поставленной задачи. Скорость выполнения около 6 сек.*"
      ]
    },
    {
      "cell_type": "markdown",
      "metadata": {
        "id": "q5sUpFse73cW"
      },
      "source": [
        "***По итогу выполнения проекта была проведена предварительная подготовка данных:\n",
        "-Проделана работа с пропусками в данных.\n",
        "-Удалены дубликаты.\n",
        "-Проведена работа с аномалиями.\n",
        "Данные были подготовлены к машинному обучению:\n",
        "-Выборки поделены на тест, трейн и валид\n",
        "-Данные масштабированны\n",
        "-Категориальные признаки переведены в числое\n",
        "Были проделаны эксперименты с различными моделями машинного обучения и выбранна лучшая модель.***"
      ]
    },
    {
      "cell_type": "code",
      "execution_count": null,
      "metadata": {
        "id": "TxHHZag473cX"
      },
      "outputs": [],
      "source": []
    }
  ],
  "metadata": {
    "ExecuteTimeLog": [
      {
        "duration": 422,
        "start_time": "2023-05-25T12:06:44.077Z"
      },
      {
        "duration": 1173,
        "start_time": "2023-05-25T12:07:21.932Z"
      },
      {
        "duration": 879,
        "start_time": "2023-05-25T12:07:26.944Z"
      },
      {
        "duration": 771,
        "start_time": "2023-05-25T12:10:10.377Z"
      },
      {
        "duration": 128,
        "start_time": "2023-05-25T12:10:26.892Z"
      },
      {
        "duration": 127,
        "start_time": "2023-05-25T12:10:56.673Z"
      },
      {
        "duration": 16,
        "start_time": "2023-05-25T12:39:42.782Z"
      },
      {
        "duration": 90,
        "start_time": "2023-05-25T12:43:13.276Z"
      },
      {
        "duration": 64,
        "start_time": "2023-05-25T13:11:39.132Z"
      },
      {
        "duration": 11,
        "start_time": "2023-05-25T13:11:47.382Z"
      },
      {
        "duration": 351,
        "start_time": "2023-05-25T13:11:58.746Z"
      },
      {
        "duration": 769,
        "start_time": "2023-05-25T13:11:59.099Z"
      },
      {
        "duration": 40,
        "start_time": "2023-05-25T13:11:59.869Z"
      },
      {
        "duration": 107,
        "start_time": "2023-05-25T13:11:59.911Z"
      },
      {
        "duration": 94,
        "start_time": "2023-05-25T13:12:00.020Z"
      },
      {
        "duration": 373,
        "start_time": "2023-05-28T11:45:31.908Z"
      },
      {
        "duration": 2839,
        "start_time": "2023-05-28T11:45:32.283Z"
      },
      {
        "duration": 26,
        "start_time": "2023-05-28T11:45:35.123Z"
      },
      {
        "duration": 87,
        "start_time": "2023-05-28T11:45:35.150Z"
      },
      {
        "duration": 79,
        "start_time": "2023-05-28T11:45:35.239Z"
      },
      {
        "duration": 57,
        "start_time": "2023-05-28T11:45:35.320Z"
      },
      {
        "duration": 319,
        "start_time": "2023-05-28T12:11:14.557Z"
      },
      {
        "duration": 355,
        "start_time": "2023-05-28T12:11:35.780Z"
      },
      {
        "duration": 27,
        "start_time": "2023-05-28T13:14:47.349Z"
      },
      {
        "duration": 55,
        "start_time": "2023-05-28T13:15:01.379Z"
      },
      {
        "duration": 323,
        "start_time": "2023-05-28T13:16:11.957Z"
      },
      {
        "duration": 332,
        "start_time": "2023-05-28T13:16:15.854Z"
      },
      {
        "duration": 18,
        "start_time": "2023-05-28T13:32:57.053Z"
      },
      {
        "duration": 38,
        "start_time": "2023-05-28T13:33:11.466Z"
      },
      {
        "duration": 5,
        "start_time": "2023-05-28T13:33:20.800Z"
      },
      {
        "duration": 6,
        "start_time": "2023-05-28T13:44:56.191Z"
      },
      {
        "duration": 19,
        "start_time": "2023-05-28T13:45:23.362Z"
      },
      {
        "duration": 5,
        "start_time": "2023-05-28T13:46:51.061Z"
      },
      {
        "duration": 379,
        "start_time": "2023-05-28T13:47:20.185Z"
      },
      {
        "duration": 69,
        "start_time": "2023-05-28T13:47:34.702Z"
      },
      {
        "duration": 309,
        "start_time": "2023-05-28T13:47:38.876Z"
      },
      {
        "duration": 46,
        "start_time": "2023-05-28T13:48:19.174Z"
      },
      {
        "duration": 48,
        "start_time": "2023-05-28T13:49:42.728Z"
      },
      {
        "duration": 68,
        "start_time": "2023-05-28T13:52:00.466Z"
      },
      {
        "duration": 42,
        "start_time": "2023-05-28T13:52:08.554Z"
      },
      {
        "duration": 121,
        "start_time": "2023-05-28T13:52:18.862Z"
      },
      {
        "duration": 129,
        "start_time": "2023-05-28T13:52:27.506Z"
      },
      {
        "duration": 44,
        "start_time": "2023-05-28T13:52:47.406Z"
      },
      {
        "duration": 223,
        "start_time": "2023-05-28T14:02:39.362Z"
      },
      {
        "duration": 179,
        "start_time": "2023-05-28T14:04:43.962Z"
      },
      {
        "duration": 200,
        "start_time": "2023-05-28T14:04:50.054Z"
      },
      {
        "duration": 422,
        "start_time": "2023-05-28T14:05:29.796Z"
      },
      {
        "duration": 837,
        "start_time": "2023-05-28T14:05:30.220Z"
      },
      {
        "duration": 27,
        "start_time": "2023-05-28T14:05:31.059Z"
      },
      {
        "duration": 136,
        "start_time": "2023-05-28T14:05:31.088Z"
      },
      {
        "duration": 83,
        "start_time": "2023-05-28T14:05:31.227Z"
      },
      {
        "duration": 82,
        "start_time": "2023-05-28T14:05:31.315Z"
      },
      {
        "duration": 87,
        "start_time": "2023-05-28T14:05:31.399Z"
      },
      {
        "duration": 57,
        "start_time": "2023-05-28T14:05:31.488Z"
      },
      {
        "duration": 56,
        "start_time": "2023-05-28T14:05:31.548Z"
      },
      {
        "duration": 67,
        "start_time": "2023-05-28T14:05:31.606Z"
      },
      {
        "duration": 220,
        "start_time": "2023-05-28T14:05:31.674Z"
      },
      {
        "duration": 371,
        "start_time": "2023-05-28T14:28:41.987Z"
      },
      {
        "duration": 836,
        "start_time": "2023-05-28T14:28:42.360Z"
      },
      {
        "duration": 36,
        "start_time": "2023-05-28T14:28:43.200Z"
      },
      {
        "duration": 98,
        "start_time": "2023-05-28T14:28:43.238Z"
      },
      {
        "duration": 95,
        "start_time": "2023-05-28T14:28:43.337Z"
      },
      {
        "duration": 228,
        "start_time": "2023-05-28T14:28:43.433Z"
      },
      {
        "duration": 241,
        "start_time": "2023-05-28T14:28:55.084Z"
      },
      {
        "duration": 83,
        "start_time": "2023-05-28T14:29:25.086Z"
      },
      {
        "duration": 345,
        "start_time": "2023-05-28T14:30:04.753Z"
      },
      {
        "duration": 762,
        "start_time": "2023-05-28T14:30:05.100Z"
      },
      {
        "duration": 26,
        "start_time": "2023-05-28T14:30:05.863Z"
      },
      {
        "duration": 103,
        "start_time": "2023-05-28T14:30:05.891Z"
      },
      {
        "duration": 86,
        "start_time": "2023-05-28T14:30:05.996Z"
      },
      {
        "duration": 64,
        "start_time": "2023-05-28T14:30:06.083Z"
      },
      {
        "duration": 33,
        "start_time": "2023-05-28T14:30:06.149Z"
      },
      {
        "duration": 78,
        "start_time": "2023-05-28T14:30:06.183Z"
      },
      {
        "duration": 57,
        "start_time": "2023-05-28T14:30:06.262Z"
      },
      {
        "duration": 64,
        "start_time": "2023-05-28T14:30:06.323Z"
      },
      {
        "duration": 237,
        "start_time": "2023-05-28T14:30:06.389Z"
      },
      {
        "duration": 220,
        "start_time": "2023-05-28T14:33:44.400Z"
      },
      {
        "duration": 228,
        "start_time": "2023-05-28T14:33:48.020Z"
      },
      {
        "duration": 185,
        "start_time": "2023-05-28T14:33:51.791Z"
      },
      {
        "duration": 61,
        "start_time": "2023-05-28T14:34:16.205Z"
      },
      {
        "duration": 63,
        "start_time": "2023-05-28T14:34:44.395Z"
      },
      {
        "duration": 8,
        "start_time": "2023-05-28T14:34:48.390Z"
      },
      {
        "duration": 7,
        "start_time": "2023-05-28T14:34:57.769Z"
      },
      {
        "duration": 24,
        "start_time": "2023-05-28T14:35:07.604Z"
      },
      {
        "duration": 10,
        "start_time": "2023-05-28T14:35:32.960Z"
      },
      {
        "duration": 23,
        "start_time": "2023-05-28T14:35:53.892Z"
      },
      {
        "duration": 6,
        "start_time": "2023-05-28T14:37:17.957Z"
      },
      {
        "duration": 7,
        "start_time": "2023-05-28T14:39:15.269Z"
      },
      {
        "duration": 5,
        "start_time": "2023-05-28T14:41:32.665Z"
      },
      {
        "duration": 10,
        "start_time": "2023-05-28T14:41:41.101Z"
      },
      {
        "duration": 632,
        "start_time": "2023-05-28T14:42:32.453Z"
      },
      {
        "duration": 15,
        "start_time": "2023-05-28T14:42:49.817Z"
      },
      {
        "duration": 157,
        "start_time": "2023-05-28T14:42:59.361Z"
      },
      {
        "duration": 122,
        "start_time": "2023-05-28T14:43:11.707Z"
      },
      {
        "duration": 170,
        "start_time": "2023-05-28T14:43:18.264Z"
      },
      {
        "duration": 166,
        "start_time": "2023-05-28T14:43:28.799Z"
      },
      {
        "duration": 205,
        "start_time": "2023-05-28T14:43:41.061Z"
      },
      {
        "duration": 208,
        "start_time": "2023-05-28T14:43:54.965Z"
      },
      {
        "duration": 58,
        "start_time": "2023-05-28T16:14:23.964Z"
      },
      {
        "duration": 5,
        "start_time": "2023-05-28T16:24:31.870Z"
      },
      {
        "duration": 7,
        "start_time": "2023-05-28T16:25:03.684Z"
      },
      {
        "duration": 17,
        "start_time": "2023-05-28T16:26:17.756Z"
      },
      {
        "duration": 5,
        "start_time": "2023-05-28T16:33:16.899Z"
      },
      {
        "duration": 57,
        "start_time": "2023-05-28T16:38:48.150Z"
      },
      {
        "duration": 54,
        "start_time": "2023-05-28T16:39:17.251Z"
      },
      {
        "duration": 43,
        "start_time": "2023-05-28T16:39:31.454Z"
      },
      {
        "duration": 49,
        "start_time": "2023-05-28T16:39:40.305Z"
      },
      {
        "duration": 39,
        "start_time": "2023-05-28T16:40:00.881Z"
      },
      {
        "duration": 374,
        "start_time": "2023-05-28T16:40:14.912Z"
      },
      {
        "duration": 2830,
        "start_time": "2023-05-28T16:40:15.288Z"
      },
      {
        "duration": 23,
        "start_time": "2023-05-28T16:40:18.120Z"
      },
      {
        "duration": 82,
        "start_time": "2023-05-28T16:40:18.144Z"
      },
      {
        "duration": 77,
        "start_time": "2023-05-28T16:40:18.229Z"
      },
      {
        "duration": 39,
        "start_time": "2023-05-28T16:40:18.308Z"
      },
      {
        "duration": 28,
        "start_time": "2023-05-28T16:40:18.349Z"
      },
      {
        "duration": 52,
        "start_time": "2023-05-28T16:40:18.379Z"
      },
      {
        "duration": 39,
        "start_time": "2023-05-28T16:40:18.433Z"
      },
      {
        "duration": 69,
        "start_time": "2023-05-28T16:40:18.473Z"
      },
      {
        "duration": 190,
        "start_time": "2023-05-28T16:40:18.543Z"
      },
      {
        "duration": 198,
        "start_time": "2023-05-28T16:40:18.735Z"
      },
      {
        "duration": 59,
        "start_time": "2023-05-28T16:40:18.935Z"
      },
      {
        "duration": 5,
        "start_time": "2023-05-28T16:40:19.006Z"
      },
      {
        "duration": 46,
        "start_time": "2023-05-28T16:40:19.013Z"
      },
      {
        "duration": 0,
        "start_time": "2023-05-28T16:40:19.060Z"
      },
      {
        "duration": 0,
        "start_time": "2023-05-28T16:40:19.061Z"
      },
      {
        "duration": 0,
        "start_time": "2023-05-28T16:40:19.062Z"
      },
      {
        "duration": 37,
        "start_time": "2023-05-28T16:40:46.105Z"
      },
      {
        "duration": 38,
        "start_time": "2023-05-28T16:40:58.606Z"
      },
      {
        "duration": 37,
        "start_time": "2023-05-28T16:41:09.488Z"
      },
      {
        "duration": 44,
        "start_time": "2023-05-28T16:41:21.162Z"
      },
      {
        "duration": 44,
        "start_time": "2023-05-28T16:42:28.680Z"
      },
      {
        "duration": 41,
        "start_time": "2023-05-28T16:42:35.258Z"
      },
      {
        "duration": 44,
        "start_time": "2023-05-28T16:42:43.374Z"
      },
      {
        "duration": 44,
        "start_time": "2023-05-28T16:42:53.842Z"
      },
      {
        "duration": 65,
        "start_time": "2023-05-28T16:44:50.695Z"
      },
      {
        "duration": 58,
        "start_time": "2023-05-28T16:44:59.070Z"
      },
      {
        "duration": 23,
        "start_time": "2023-05-28T16:45:45.327Z"
      },
      {
        "duration": 10,
        "start_time": "2023-05-28T16:46:09.154Z"
      },
      {
        "duration": 60,
        "start_time": "2023-05-28T16:46:49.487Z"
      },
      {
        "duration": 6,
        "start_time": "2023-05-28T16:47:07.267Z"
      },
      {
        "duration": 6,
        "start_time": "2023-05-28T16:47:14.151Z"
      },
      {
        "duration": 11,
        "start_time": "2023-05-28T16:48:37.942Z"
      },
      {
        "duration": 49,
        "start_time": "2023-05-28T16:49:17.213Z"
      },
      {
        "duration": 4,
        "start_time": "2023-05-28T16:49:23.046Z"
      },
      {
        "duration": 8,
        "start_time": "2023-05-28T16:49:46.446Z"
      },
      {
        "duration": 8,
        "start_time": "2023-05-28T16:50:18.842Z"
      },
      {
        "duration": 8,
        "start_time": "2023-05-28T16:50:31.051Z"
      },
      {
        "duration": 8,
        "start_time": "2023-05-28T16:51:05.646Z"
      },
      {
        "duration": 11,
        "start_time": "2023-05-28T16:51:13.075Z"
      },
      {
        "duration": 9,
        "start_time": "2023-05-28T16:51:23.058Z"
      },
      {
        "duration": 8,
        "start_time": "2023-05-28T16:52:06.078Z"
      },
      {
        "duration": 87,
        "start_time": "2023-05-28T16:52:46.987Z"
      },
      {
        "duration": 7,
        "start_time": "2023-05-28T16:53:01.995Z"
      },
      {
        "duration": 6,
        "start_time": "2023-05-28T16:54:13.569Z"
      },
      {
        "duration": 42,
        "start_time": "2023-05-28T16:57:59.678Z"
      },
      {
        "duration": 66,
        "start_time": "2023-05-28T17:01:40.654Z"
      },
      {
        "duration": 23,
        "start_time": "2023-05-28T17:01:44.962Z"
      },
      {
        "duration": 19,
        "start_time": "2023-05-28T17:01:50.502Z"
      },
      {
        "duration": 7,
        "start_time": "2023-05-28T17:01:52.271Z"
      },
      {
        "duration": 26,
        "start_time": "2023-05-28T17:02:08.794Z"
      },
      {
        "duration": 11,
        "start_time": "2023-05-28T17:02:12.487Z"
      },
      {
        "duration": 5,
        "start_time": "2023-05-28T17:02:52.154Z"
      },
      {
        "duration": 24,
        "start_time": "2023-05-28T17:03:58.293Z"
      },
      {
        "duration": 10,
        "start_time": "2023-05-28T17:14:18.674Z"
      },
      {
        "duration": 11,
        "start_time": "2023-05-28T17:14:45.338Z"
      },
      {
        "duration": 40,
        "start_time": "2023-05-28T17:15:08.794Z"
      },
      {
        "duration": 41,
        "start_time": "2023-05-28T17:15:33.894Z"
      },
      {
        "duration": 14,
        "start_time": "2023-05-28T17:15:53.470Z"
      },
      {
        "duration": 7,
        "start_time": "2023-05-28T17:16:25.814Z"
      },
      {
        "duration": 5,
        "start_time": "2023-05-28T17:17:06.508Z"
      },
      {
        "duration": 408,
        "start_time": "2023-05-28T19:15:23.567Z"
      },
      {
        "duration": 1247,
        "start_time": "2023-05-28T19:15:23.977Z"
      },
      {
        "duration": 33,
        "start_time": "2023-05-28T19:15:25.225Z"
      },
      {
        "duration": 100,
        "start_time": "2023-05-28T19:15:25.259Z"
      },
      {
        "duration": 89,
        "start_time": "2023-05-28T19:15:25.362Z"
      },
      {
        "duration": 48,
        "start_time": "2023-05-28T19:15:25.457Z"
      },
      {
        "duration": 53,
        "start_time": "2023-05-28T19:15:25.506Z"
      },
      {
        "duration": 49,
        "start_time": "2023-05-28T19:15:25.561Z"
      },
      {
        "duration": 74,
        "start_time": "2023-05-28T19:15:25.611Z"
      },
      {
        "duration": 86,
        "start_time": "2023-05-28T19:15:25.686Z"
      },
      {
        "duration": 236,
        "start_time": "2023-05-28T19:15:25.775Z"
      },
      {
        "duration": 266,
        "start_time": "2023-05-28T19:15:26.013Z"
      },
      {
        "duration": 84,
        "start_time": "2023-05-28T19:15:26.280Z"
      },
      {
        "duration": 7,
        "start_time": "2023-05-28T19:15:26.367Z"
      },
      {
        "duration": 32,
        "start_time": "2023-05-28T19:15:26.376Z"
      },
      {
        "duration": 46,
        "start_time": "2023-05-28T19:15:26.410Z"
      },
      {
        "duration": 11,
        "start_time": "2023-05-28T19:15:26.458Z"
      },
      {
        "duration": 846,
        "start_time": "2023-05-28T19:59:15.056Z"
      },
      {
        "duration": 74,
        "start_time": "2023-05-28T20:01:01.392Z"
      },
      {
        "duration": 20,
        "start_time": "2023-05-28T20:04:57.365Z"
      },
      {
        "duration": 61,
        "start_time": "2023-05-28T20:05:22.693Z"
      },
      {
        "duration": 4,
        "start_time": "2023-05-28T20:05:30.402Z"
      },
      {
        "duration": 90,
        "start_time": "2023-05-28T20:08:11.865Z"
      },
      {
        "duration": 740,
        "start_time": "2023-05-28T20:08:44.106Z"
      },
      {
        "duration": 23,
        "start_time": "2023-05-28T20:09:17.704Z"
      },
      {
        "duration": 1099,
        "start_time": "2023-05-28T20:09:28.514Z"
      },
      {
        "duration": 912,
        "start_time": "2023-05-28T20:09:29.614Z"
      },
      {
        "duration": 34,
        "start_time": "2023-05-28T20:09:30.528Z"
      },
      {
        "duration": 128,
        "start_time": "2023-05-28T20:09:30.564Z"
      },
      {
        "duration": 90,
        "start_time": "2023-05-28T20:09:30.694Z"
      },
      {
        "duration": 71,
        "start_time": "2023-05-28T20:09:30.786Z"
      },
      {
        "duration": 38,
        "start_time": "2023-05-28T20:09:30.859Z"
      },
      {
        "duration": 71,
        "start_time": "2023-05-28T20:09:30.899Z"
      },
      {
        "duration": 48,
        "start_time": "2023-05-28T20:09:30.972Z"
      },
      {
        "duration": 88,
        "start_time": "2023-05-28T20:09:31.022Z"
      },
      {
        "duration": 227,
        "start_time": "2023-05-28T20:09:31.112Z"
      },
      {
        "duration": 262,
        "start_time": "2023-05-28T20:09:31.342Z"
      },
      {
        "duration": 80,
        "start_time": "2023-05-28T20:09:31.606Z"
      },
      {
        "duration": 10,
        "start_time": "2023-05-28T20:09:31.689Z"
      },
      {
        "duration": 63,
        "start_time": "2023-05-28T20:09:31.701Z"
      },
      {
        "duration": 8,
        "start_time": "2023-05-28T20:09:31.766Z"
      },
      {
        "duration": 38,
        "start_time": "2023-05-28T20:09:31.776Z"
      },
      {
        "duration": 888,
        "start_time": "2023-05-28T20:09:31.817Z"
      },
      {
        "duration": 4,
        "start_time": "2023-05-28T20:09:32.706Z"
      },
      {
        "duration": 110,
        "start_time": "2023-05-28T20:17:09.802Z"
      },
      {
        "duration": 4,
        "start_time": "2023-05-28T20:18:39.253Z"
      },
      {
        "duration": 4,
        "start_time": "2023-05-28T20:18:51.674Z"
      },
      {
        "duration": 198,
        "start_time": "2023-05-28T20:19:00.205Z"
      },
      {
        "duration": 96,
        "start_time": "2023-05-28T20:19:55.088Z"
      },
      {
        "duration": 41,
        "start_time": "2023-05-28T20:20:01.965Z"
      },
      {
        "duration": 6,
        "start_time": "2023-05-28T20:20:36.681Z"
      },
      {
        "duration": 18,
        "start_time": "2023-05-28T20:21:01.677Z"
      },
      {
        "duration": 15,
        "start_time": "2023-05-28T20:21:58.302Z"
      },
      {
        "duration": 9,
        "start_time": "2023-05-28T20:22:04.257Z"
      },
      {
        "duration": 9,
        "start_time": "2023-05-28T20:22:11.352Z"
      },
      {
        "duration": 179,
        "start_time": "2023-05-28T20:24:45.204Z"
      },
      {
        "duration": 1051,
        "start_time": "2023-05-28T20:24:51.374Z"
      },
      {
        "duration": 917,
        "start_time": "2023-05-28T20:24:52.427Z"
      },
      {
        "duration": 31,
        "start_time": "2023-05-28T20:24:53.346Z"
      },
      {
        "duration": 104,
        "start_time": "2023-05-28T20:24:53.378Z"
      },
      {
        "duration": 85,
        "start_time": "2023-05-28T20:24:53.485Z"
      },
      {
        "duration": 45,
        "start_time": "2023-05-28T20:24:53.572Z"
      },
      {
        "duration": 47,
        "start_time": "2023-05-28T20:24:53.619Z"
      },
      {
        "duration": 47,
        "start_time": "2023-05-28T20:24:53.668Z"
      },
      {
        "duration": 66,
        "start_time": "2023-05-28T20:24:53.717Z"
      },
      {
        "duration": 73,
        "start_time": "2023-05-28T20:24:53.785Z"
      },
      {
        "duration": 237,
        "start_time": "2023-05-28T20:24:53.860Z"
      },
      {
        "duration": 266,
        "start_time": "2023-05-28T20:24:54.099Z"
      },
      {
        "duration": 86,
        "start_time": "2023-05-28T20:24:54.366Z"
      },
      {
        "duration": 8,
        "start_time": "2023-05-28T20:24:54.456Z"
      },
      {
        "duration": 40,
        "start_time": "2023-05-28T20:24:54.465Z"
      },
      {
        "duration": 10,
        "start_time": "2023-05-28T20:24:54.506Z"
      },
      {
        "duration": 58,
        "start_time": "2023-05-28T20:24:54.518Z"
      },
      {
        "duration": 10,
        "start_time": "2023-05-28T20:24:54.578Z"
      },
      {
        "duration": 52,
        "start_time": "2023-05-28T20:24:54.590Z"
      },
      {
        "duration": 679,
        "start_time": "2023-05-28T20:24:54.644Z"
      },
      {
        "duration": 137,
        "start_time": "2023-05-28T20:24:55.324Z"
      },
      {
        "duration": 189,
        "start_time": "2023-05-28T20:25:55.000Z"
      },
      {
        "duration": 1049,
        "start_time": "2023-05-28T20:26:02.592Z"
      },
      {
        "duration": 895,
        "start_time": "2023-05-28T20:26:03.643Z"
      },
      {
        "duration": 31,
        "start_time": "2023-05-28T20:26:04.539Z"
      },
      {
        "duration": 107,
        "start_time": "2023-05-28T20:26:04.572Z"
      },
      {
        "duration": 85,
        "start_time": "2023-05-28T20:26:04.681Z"
      },
      {
        "duration": 55,
        "start_time": "2023-05-28T20:26:04.768Z"
      },
      {
        "duration": 50,
        "start_time": "2023-05-28T20:26:04.825Z"
      },
      {
        "duration": 70,
        "start_time": "2023-05-28T20:26:04.877Z"
      },
      {
        "duration": 48,
        "start_time": "2023-05-28T20:26:04.949Z"
      },
      {
        "duration": 75,
        "start_time": "2023-05-28T20:26:04.999Z"
      },
      {
        "duration": 238,
        "start_time": "2023-05-28T20:26:05.075Z"
      },
      {
        "duration": 258,
        "start_time": "2023-05-28T20:26:05.315Z"
      },
      {
        "duration": 80,
        "start_time": "2023-05-28T20:26:05.574Z"
      },
      {
        "duration": 7,
        "start_time": "2023-05-28T20:26:05.656Z"
      },
      {
        "duration": 40,
        "start_time": "2023-05-28T20:26:05.665Z"
      },
      {
        "duration": 8,
        "start_time": "2023-05-28T20:26:05.707Z"
      },
      {
        "duration": 55,
        "start_time": "2023-05-28T20:26:05.717Z"
      },
      {
        "duration": 9,
        "start_time": "2023-05-28T20:26:05.774Z"
      },
      {
        "duration": 25,
        "start_time": "2023-05-28T20:26:05.785Z"
      },
      {
        "duration": 702,
        "start_time": "2023-05-28T20:26:05.812Z"
      },
      {
        "duration": 192,
        "start_time": "2023-05-28T20:26:06.516Z"
      },
      {
        "duration": 97,
        "start_time": "2023-05-28T20:28:48.966Z"
      },
      {
        "duration": 110,
        "start_time": "2023-05-28T20:29:01.265Z"
      },
      {
        "duration": 105,
        "start_time": "2023-05-28T20:29:20.054Z"
      },
      {
        "duration": 106,
        "start_time": "2023-05-28T20:30:34.853Z"
      },
      {
        "duration": 390,
        "start_time": "2023-05-28T20:34:21.694Z"
      },
      {
        "duration": 396,
        "start_time": "2023-05-28T20:34:31.960Z"
      },
      {
        "duration": 502,
        "start_time": "2023-05-28T20:37:52.799Z"
      },
      {
        "duration": 37,
        "start_time": "2023-05-28T20:38:20.465Z"
      },
      {
        "duration": 26,
        "start_time": "2023-05-28T20:38:24.057Z"
      },
      {
        "duration": 28,
        "start_time": "2023-05-28T20:38:26.969Z"
      },
      {
        "duration": 5,
        "start_time": "2023-05-28T20:39:05.965Z"
      },
      {
        "duration": 5,
        "start_time": "2023-05-28T20:39:19.653Z"
      },
      {
        "duration": 5,
        "start_time": "2023-05-28T20:39:32.493Z"
      },
      {
        "duration": 8,
        "start_time": "2023-05-28T20:41:40.923Z"
      },
      {
        "duration": 3,
        "start_time": "2023-05-28T20:42:04.492Z"
      },
      {
        "duration": 1136,
        "start_time": "2023-05-28T20:42:10.012Z"
      },
      {
        "duration": 885,
        "start_time": "2023-05-28T20:42:11.150Z"
      },
      {
        "duration": 34,
        "start_time": "2023-05-28T20:42:12.042Z"
      },
      {
        "duration": 108,
        "start_time": "2023-05-28T20:42:12.079Z"
      },
      {
        "duration": 85,
        "start_time": "2023-05-28T20:42:12.189Z"
      },
      {
        "duration": 46,
        "start_time": "2023-05-28T20:42:12.276Z"
      },
      {
        "duration": 48,
        "start_time": "2023-05-28T20:42:12.324Z"
      },
      {
        "duration": 69,
        "start_time": "2023-05-28T20:42:12.374Z"
      },
      {
        "duration": 45,
        "start_time": "2023-05-28T20:42:12.445Z"
      },
      {
        "duration": 79,
        "start_time": "2023-05-28T20:42:12.492Z"
      },
      {
        "duration": 228,
        "start_time": "2023-05-28T20:42:12.573Z"
      },
      {
        "duration": 271,
        "start_time": "2023-05-28T20:42:12.803Z"
      },
      {
        "duration": 80,
        "start_time": "2023-05-28T20:42:13.077Z"
      },
      {
        "duration": 7,
        "start_time": "2023-05-28T20:42:13.159Z"
      },
      {
        "duration": 41,
        "start_time": "2023-05-28T20:42:13.168Z"
      },
      {
        "duration": 9,
        "start_time": "2023-05-28T20:42:13.211Z"
      },
      {
        "duration": 53,
        "start_time": "2023-05-28T20:42:13.221Z"
      },
      {
        "duration": 9,
        "start_time": "2023-05-28T20:42:13.276Z"
      },
      {
        "duration": 24,
        "start_time": "2023-05-28T20:42:13.286Z"
      },
      {
        "duration": 646,
        "start_time": "2023-05-28T20:42:13.312Z"
      },
      {
        "duration": 568,
        "start_time": "2023-05-28T20:42:13.960Z"
      },
      {
        "duration": 3,
        "start_time": "2023-05-28T20:42:14.530Z"
      },
      {
        "duration": 106,
        "start_time": "2023-05-28T20:45:50.085Z"
      },
      {
        "duration": 3,
        "start_time": "2023-05-28T20:46:02.664Z"
      },
      {
        "duration": 17,
        "start_time": "2023-05-28T20:46:39.389Z"
      },
      {
        "duration": 142,
        "start_time": "2023-05-28T20:46:54.769Z"
      },
      {
        "duration": 1230,
        "start_time": "2023-05-28T20:47:27.123Z"
      },
      {
        "duration": 908,
        "start_time": "2023-05-28T20:47:28.356Z"
      },
      {
        "duration": 42,
        "start_time": "2023-05-28T20:47:29.269Z"
      },
      {
        "duration": 102,
        "start_time": "2023-05-28T20:47:29.313Z"
      },
      {
        "duration": 89,
        "start_time": "2023-05-28T20:47:29.417Z"
      },
      {
        "duration": 59,
        "start_time": "2023-05-28T20:47:29.508Z"
      },
      {
        "duration": 35,
        "start_time": "2023-05-28T20:47:29.569Z"
      },
      {
        "duration": 72,
        "start_time": "2023-05-28T20:47:29.606Z"
      },
      {
        "duration": 77,
        "start_time": "2023-05-28T20:47:29.682Z"
      },
      {
        "duration": 62,
        "start_time": "2023-05-28T20:47:29.761Z"
      },
      {
        "duration": 262,
        "start_time": "2023-05-28T20:47:29.825Z"
      },
      {
        "duration": 296,
        "start_time": "2023-05-28T20:47:30.089Z"
      },
      {
        "duration": 79,
        "start_time": "2023-05-28T20:47:30.387Z"
      },
      {
        "duration": 8,
        "start_time": "2023-05-28T20:47:30.467Z"
      },
      {
        "duration": 37,
        "start_time": "2023-05-28T20:47:30.477Z"
      },
      {
        "duration": 27,
        "start_time": "2023-05-28T20:47:30.516Z"
      },
      {
        "duration": 59,
        "start_time": "2023-05-28T20:47:30.545Z"
      },
      {
        "duration": 26,
        "start_time": "2023-05-28T20:47:30.606Z"
      },
      {
        "duration": 30,
        "start_time": "2023-05-28T20:47:30.634Z"
      },
      {
        "duration": 839,
        "start_time": "2023-05-28T20:47:30.666Z"
      },
      {
        "duration": 604,
        "start_time": "2023-05-28T20:47:31.506Z"
      },
      {
        "duration": 162,
        "start_time": "2023-05-28T20:47:32.112Z"
      },
      {
        "duration": 133,
        "start_time": "2023-05-28T20:47:41.675Z"
      },
      {
        "duration": 1154,
        "start_time": "2023-05-29T10:20:35.863Z"
      },
      {
        "duration": 1282,
        "start_time": "2023-05-29T10:20:37.019Z"
      },
      {
        "duration": 32,
        "start_time": "2023-05-29T10:20:38.303Z"
      },
      {
        "duration": 132,
        "start_time": "2023-05-29T10:20:38.338Z"
      },
      {
        "duration": 129,
        "start_time": "2023-05-29T10:20:38.473Z"
      },
      {
        "duration": 69,
        "start_time": "2023-05-29T10:20:38.604Z"
      },
      {
        "duration": 48,
        "start_time": "2023-05-29T10:20:38.675Z"
      },
      {
        "duration": 92,
        "start_time": "2023-05-29T10:20:38.725Z"
      },
      {
        "duration": 77,
        "start_time": "2023-05-29T10:20:38.819Z"
      },
      {
        "duration": 68,
        "start_time": "2023-05-29T10:20:38.898Z"
      },
      {
        "duration": 259,
        "start_time": "2023-05-29T10:20:38.968Z"
      },
      {
        "duration": 281,
        "start_time": "2023-05-29T10:20:39.230Z"
      },
      {
        "duration": 77,
        "start_time": "2023-05-29T10:20:39.513Z"
      },
      {
        "duration": 6,
        "start_time": "2023-05-29T10:20:39.593Z"
      },
      {
        "duration": 57,
        "start_time": "2023-05-29T10:20:39.601Z"
      },
      {
        "duration": 8,
        "start_time": "2023-05-29T10:20:39.661Z"
      },
      {
        "duration": 32,
        "start_time": "2023-05-29T10:20:39.671Z"
      },
      {
        "duration": 8,
        "start_time": "2023-05-29T10:20:39.704Z"
      },
      {
        "duration": 44,
        "start_time": "2023-05-29T10:20:39.714Z"
      },
      {
        "duration": 622,
        "start_time": "2023-05-29T10:20:39.761Z"
      },
      {
        "duration": 563,
        "start_time": "2023-05-29T10:20:40.384Z"
      },
      {
        "duration": 137,
        "start_time": "2023-05-29T10:20:40.955Z"
      },
      {
        "duration": 2738,
        "start_time": "2023-05-29T10:22:44.124Z"
      },
      {
        "duration": 137,
        "start_time": "2023-05-29T10:23:08.924Z"
      },
      {
        "duration": 3,
        "start_time": "2023-05-29T10:32:04.989Z"
      },
      {
        "duration": 2583,
        "start_time": "2023-05-29T10:32:20.481Z"
      },
      {
        "duration": 4216,
        "start_time": "2023-05-29T10:32:28.717Z"
      },
      {
        "duration": 165,
        "start_time": "2023-05-29T10:32:32.936Z"
      },
      {
        "duration": 0,
        "start_time": "2023-05-29T10:32:33.103Z"
      },
      {
        "duration": 0,
        "start_time": "2023-05-29T10:32:33.105Z"
      },
      {
        "duration": 0,
        "start_time": "2023-05-29T10:32:33.107Z"
      },
      {
        "duration": 0,
        "start_time": "2023-05-29T10:32:33.108Z"
      },
      {
        "duration": 0,
        "start_time": "2023-05-29T10:32:33.109Z"
      },
      {
        "duration": 0,
        "start_time": "2023-05-29T10:32:33.111Z"
      },
      {
        "duration": 0,
        "start_time": "2023-05-29T10:32:33.112Z"
      },
      {
        "duration": 0,
        "start_time": "2023-05-29T10:32:33.114Z"
      },
      {
        "duration": 0,
        "start_time": "2023-05-29T10:32:33.115Z"
      },
      {
        "duration": 0,
        "start_time": "2023-05-29T10:32:33.116Z"
      },
      {
        "duration": 0,
        "start_time": "2023-05-29T10:32:33.136Z"
      },
      {
        "duration": 0,
        "start_time": "2023-05-29T10:32:33.137Z"
      },
      {
        "duration": 0,
        "start_time": "2023-05-29T10:32:33.138Z"
      },
      {
        "duration": 0,
        "start_time": "2023-05-29T10:32:33.146Z"
      },
      {
        "duration": 0,
        "start_time": "2023-05-29T10:32:33.147Z"
      },
      {
        "duration": 0,
        "start_time": "2023-05-29T10:32:33.148Z"
      },
      {
        "duration": 0,
        "start_time": "2023-05-29T10:32:33.148Z"
      },
      {
        "duration": 0,
        "start_time": "2023-05-29T10:32:33.149Z"
      },
      {
        "duration": 0,
        "start_time": "2023-05-29T10:32:33.154Z"
      },
      {
        "duration": 0,
        "start_time": "2023-05-29T10:32:33.155Z"
      },
      {
        "duration": 4468,
        "start_time": "2023-05-29T10:44:39.734Z"
      },
      {
        "duration": 1105,
        "start_time": "2023-05-29T10:44:44.205Z"
      },
      {
        "duration": 44,
        "start_time": "2023-05-29T10:44:45.312Z"
      },
      {
        "duration": 189,
        "start_time": "2023-05-29T10:44:45.361Z"
      },
      {
        "duration": 170,
        "start_time": "2023-05-29T10:44:45.553Z"
      },
      {
        "duration": 109,
        "start_time": "2023-05-29T10:44:45.725Z"
      },
      {
        "duration": 78,
        "start_time": "2023-05-29T10:44:45.835Z"
      },
      {
        "duration": 82,
        "start_time": "2023-05-29T10:44:45.918Z"
      },
      {
        "duration": 89,
        "start_time": "2023-05-29T10:44:46.002Z"
      },
      {
        "duration": 88,
        "start_time": "2023-05-29T10:44:46.092Z"
      },
      {
        "duration": 273,
        "start_time": "2023-05-29T10:44:46.182Z"
      },
      {
        "duration": 324,
        "start_time": "2023-05-29T10:44:46.457Z"
      },
      {
        "duration": 85,
        "start_time": "2023-05-29T10:44:46.787Z"
      },
      {
        "duration": 11,
        "start_time": "2023-05-29T10:44:46.879Z"
      },
      {
        "duration": 54,
        "start_time": "2023-05-29T10:44:46.892Z"
      },
      {
        "duration": 36,
        "start_time": "2023-05-29T10:44:46.956Z"
      },
      {
        "duration": 56,
        "start_time": "2023-05-29T10:44:46.994Z"
      },
      {
        "duration": 105,
        "start_time": "2023-05-29T10:44:47.052Z"
      },
      {
        "duration": 28,
        "start_time": "2023-05-29T10:44:47.162Z"
      },
      {
        "duration": 751,
        "start_time": "2023-05-29T10:44:47.192Z"
      },
      {
        "duration": 606,
        "start_time": "2023-05-29T10:44:47.952Z"
      },
      {
        "duration": 167,
        "start_time": "2023-05-29T10:44:48.564Z"
      },
      {
        "duration": 172,
        "start_time": "2023-05-29T10:44:48.733Z"
      },
      {
        "duration": 14,
        "start_time": "2023-05-29T10:45:22.186Z"
      },
      {
        "duration": 4124,
        "start_time": "2023-05-29T10:47:26.519Z"
      },
      {
        "duration": 1068,
        "start_time": "2023-05-29T10:47:30.646Z"
      },
      {
        "duration": 48,
        "start_time": "2023-05-29T10:47:31.716Z"
      },
      {
        "duration": 206,
        "start_time": "2023-05-29T10:47:31.772Z"
      },
      {
        "duration": 178,
        "start_time": "2023-05-29T10:47:31.981Z"
      },
      {
        "duration": 81,
        "start_time": "2023-05-29T10:47:32.164Z"
      },
      {
        "duration": 70,
        "start_time": "2023-05-29T10:47:32.247Z"
      },
      {
        "duration": 90,
        "start_time": "2023-05-29T10:47:32.319Z"
      },
      {
        "duration": 97,
        "start_time": "2023-05-29T10:47:32.416Z"
      },
      {
        "duration": 95,
        "start_time": "2023-05-29T10:47:32.516Z"
      },
      {
        "duration": 327,
        "start_time": "2023-05-29T10:47:32.613Z"
      },
      {
        "duration": 371,
        "start_time": "2023-05-29T10:47:32.942Z"
      },
      {
        "duration": 94,
        "start_time": "2023-05-29T10:47:33.315Z"
      },
      {
        "duration": 8,
        "start_time": "2023-05-29T10:47:33.412Z"
      },
      {
        "duration": 60,
        "start_time": "2023-05-29T10:47:33.422Z"
      },
      {
        "duration": 11,
        "start_time": "2023-05-29T10:47:33.490Z"
      },
      {
        "duration": 40,
        "start_time": "2023-05-29T10:47:33.503Z"
      },
      {
        "duration": 106,
        "start_time": "2023-05-29T10:47:33.545Z"
      },
      {
        "duration": 39,
        "start_time": "2023-05-29T10:47:33.659Z"
      },
      {
        "duration": 745,
        "start_time": "2023-05-29T10:47:33.705Z"
      },
      {
        "duration": 590,
        "start_time": "2023-05-29T10:47:34.452Z"
      },
      {
        "duration": 185,
        "start_time": "2023-05-29T10:47:35.046Z"
      },
      {
        "duration": 152,
        "start_time": "2023-05-29T10:47:35.233Z"
      },
      {
        "duration": 4066,
        "start_time": "2023-05-29T10:47:55.731Z"
      },
      {
        "duration": 1019,
        "start_time": "2023-05-29T10:47:59.799Z"
      },
      {
        "duration": 45,
        "start_time": "2023-05-29T10:48:00.820Z"
      },
      {
        "duration": 179,
        "start_time": "2023-05-29T10:48:00.875Z"
      },
      {
        "duration": 186,
        "start_time": "2023-05-29T10:48:01.056Z"
      },
      {
        "duration": 143,
        "start_time": "2023-05-29T10:48:01.244Z"
      },
      {
        "duration": 131,
        "start_time": "2023-05-29T10:48:01.389Z"
      },
      {
        "duration": 178,
        "start_time": "2023-05-29T10:48:01.521Z"
      },
      {
        "duration": 167,
        "start_time": "2023-05-29T10:48:01.701Z"
      },
      {
        "duration": 84,
        "start_time": "2023-05-29T10:48:01.876Z"
      },
      {
        "duration": 314,
        "start_time": "2023-05-29T10:48:01.964Z"
      },
      {
        "duration": 346,
        "start_time": "2023-05-29T10:48:02.284Z"
      },
      {
        "duration": 89,
        "start_time": "2023-05-29T10:48:02.632Z"
      },
      {
        "duration": 27,
        "start_time": "2023-05-29T10:48:02.726Z"
      },
      {
        "duration": 65,
        "start_time": "2023-05-29T10:48:02.759Z"
      },
      {
        "duration": 11,
        "start_time": "2023-05-29T10:48:02.832Z"
      },
      {
        "duration": 60,
        "start_time": "2023-05-29T10:48:02.845Z"
      },
      {
        "duration": 160,
        "start_time": "2023-05-29T10:48:02.910Z"
      },
      {
        "duration": 31,
        "start_time": "2023-05-29T10:48:03.074Z"
      },
      {
        "duration": 774,
        "start_time": "2023-05-29T10:48:03.111Z"
      },
      {
        "duration": 604,
        "start_time": "2023-05-29T10:48:03.887Z"
      },
      {
        "duration": 203,
        "start_time": "2023-05-29T10:48:04.493Z"
      },
      {
        "duration": 184,
        "start_time": "2023-05-29T10:48:04.698Z"
      },
      {
        "duration": 13,
        "start_time": "2023-05-29T10:56:51.487Z"
      },
      {
        "duration": 11,
        "start_time": "2023-05-29T10:57:51.909Z"
      },
      {
        "duration": 4471,
        "start_time": "2023-05-29T11:03:48.893Z"
      },
      {
        "duration": 1138,
        "start_time": "2023-05-29T11:03:53.369Z"
      },
      {
        "duration": 30,
        "start_time": "2023-05-29T11:03:54.510Z"
      },
      {
        "duration": 173,
        "start_time": "2023-05-29T11:03:54.550Z"
      },
      {
        "duration": 141,
        "start_time": "2023-05-29T11:03:54.725Z"
      },
      {
        "duration": 120,
        "start_time": "2023-05-29T11:03:54.870Z"
      },
      {
        "duration": 40,
        "start_time": "2023-05-29T11:03:55.002Z"
      },
      {
        "duration": 126,
        "start_time": "2023-05-29T11:03:55.044Z"
      },
      {
        "duration": 85,
        "start_time": "2023-05-29T11:03:55.175Z"
      },
      {
        "duration": 93,
        "start_time": "2023-05-29T11:03:55.261Z"
      },
      {
        "duration": 351,
        "start_time": "2023-05-29T11:03:55.357Z"
      },
      {
        "duration": 368,
        "start_time": "2023-05-29T11:03:55.711Z"
      },
      {
        "duration": 79,
        "start_time": "2023-05-29T11:03:56.093Z"
      },
      {
        "duration": 13,
        "start_time": "2023-05-29T11:03:56.181Z"
      },
      {
        "duration": 43,
        "start_time": "2023-05-29T11:03:56.198Z"
      },
      {
        "duration": 15,
        "start_time": "2023-05-29T11:03:56.243Z"
      },
      {
        "duration": 69,
        "start_time": "2023-05-29T11:03:56.260Z"
      },
      {
        "duration": 95,
        "start_time": "2023-05-29T11:03:56.332Z"
      },
      {
        "duration": 35,
        "start_time": "2023-05-29T11:03:56.429Z"
      },
      {
        "duration": 775,
        "start_time": "2023-05-29T11:03:56.468Z"
      },
      {
        "duration": 619,
        "start_time": "2023-05-29T11:03:57.246Z"
      },
      {
        "duration": 177,
        "start_time": "2023-05-29T11:03:57.871Z"
      },
      {
        "duration": 169,
        "start_time": "2023-05-29T11:03:58.054Z"
      },
      {
        "duration": 3953,
        "start_time": "2023-05-29T11:07:15.223Z"
      },
      {
        "duration": 1037,
        "start_time": "2023-05-29T11:07:19.179Z"
      },
      {
        "duration": 54,
        "start_time": "2023-05-29T11:07:20.218Z"
      },
      {
        "duration": 161,
        "start_time": "2023-05-29T11:07:20.281Z"
      },
      {
        "duration": 150,
        "start_time": "2023-05-29T11:07:20.449Z"
      },
      {
        "duration": 111,
        "start_time": "2023-05-29T11:07:20.601Z"
      },
      {
        "duration": 84,
        "start_time": "2023-05-29T11:07:20.714Z"
      },
      {
        "duration": 84,
        "start_time": "2023-05-29T11:07:20.800Z"
      },
      {
        "duration": 105,
        "start_time": "2023-05-29T11:07:20.887Z"
      },
      {
        "duration": 100,
        "start_time": "2023-05-29T11:07:20.994Z"
      },
      {
        "duration": 290,
        "start_time": "2023-05-29T11:07:21.097Z"
      },
      {
        "duration": 393,
        "start_time": "2023-05-29T11:07:21.389Z"
      },
      {
        "duration": 106,
        "start_time": "2023-05-29T11:07:21.784Z"
      },
      {
        "duration": 11,
        "start_time": "2023-05-29T11:07:21.894Z"
      },
      {
        "duration": 73,
        "start_time": "2023-05-29T11:07:21.907Z"
      },
      {
        "duration": 11,
        "start_time": "2023-05-29T11:07:21.982Z"
      },
      {
        "duration": 45,
        "start_time": "2023-05-29T11:07:21.995Z"
      },
      {
        "duration": 153,
        "start_time": "2023-05-29T11:07:22.042Z"
      },
      {
        "duration": 31,
        "start_time": "2023-05-29T11:07:22.197Z"
      },
      {
        "duration": 968,
        "start_time": "2023-05-29T11:07:22.231Z"
      },
      {
        "duration": 601,
        "start_time": "2023-05-29T11:07:23.202Z"
      },
      {
        "duration": 186,
        "start_time": "2023-05-29T11:07:23.805Z"
      },
      {
        "duration": 1644,
        "start_time": "2023-05-29T11:07:23.993Z"
      },
      {
        "duration": 1663,
        "start_time": "2023-05-29T11:11:35.004Z"
      },
      {
        "duration": 31,
        "start_time": "2023-05-29T11:12:22.301Z"
      },
      {
        "duration": 3947,
        "start_time": "2023-05-29T11:16:55.893Z"
      },
      {
        "duration": 985,
        "start_time": "2023-05-29T11:16:59.842Z"
      },
      {
        "duration": 39,
        "start_time": "2023-05-29T11:17:00.829Z"
      },
      {
        "duration": 182,
        "start_time": "2023-05-29T11:17:00.872Z"
      },
      {
        "duration": 223,
        "start_time": "2023-05-29T11:17:01.061Z"
      },
      {
        "duration": 123,
        "start_time": "2023-05-29T11:17:01.285Z"
      },
      {
        "duration": 72,
        "start_time": "2023-05-29T11:17:01.410Z"
      },
      {
        "duration": 178,
        "start_time": "2023-05-29T11:17:01.484Z"
      },
      {
        "duration": 156,
        "start_time": "2023-05-29T11:17:01.681Z"
      },
      {
        "duration": 153,
        "start_time": "2023-05-29T11:17:01.840Z"
      },
      {
        "duration": 303,
        "start_time": "2023-05-29T11:17:01.995Z"
      },
      {
        "duration": 267,
        "start_time": "2023-05-29T11:17:02.300Z"
      },
      {
        "duration": 79,
        "start_time": "2023-05-29T11:17:02.569Z"
      },
      {
        "duration": 10,
        "start_time": "2023-05-29T11:17:02.651Z"
      },
      {
        "duration": 36,
        "start_time": "2023-05-29T11:17:02.664Z"
      },
      {
        "duration": 138,
        "start_time": "2023-05-29T11:17:02.702Z"
      },
      {
        "duration": 79,
        "start_time": "2023-05-29T11:17:02.842Z"
      },
      {
        "duration": 195,
        "start_time": "2023-05-29T11:17:02.924Z"
      },
      {
        "duration": 35,
        "start_time": "2023-05-29T11:17:03.121Z"
      },
      {
        "duration": 844,
        "start_time": "2023-05-29T11:17:03.158Z"
      },
      {
        "duration": 593,
        "start_time": "2023-05-29T11:17:04.004Z"
      },
      {
        "duration": 186,
        "start_time": "2023-05-29T11:17:04.598Z"
      },
      {
        "duration": 25,
        "start_time": "2023-05-29T11:17:04.790Z"
      },
      {
        "duration": 4162,
        "start_time": "2023-05-29T11:17:28.506Z"
      },
      {
        "duration": 1057,
        "start_time": "2023-05-29T11:17:32.671Z"
      },
      {
        "duration": 52,
        "start_time": "2023-05-29T11:17:33.730Z"
      },
      {
        "duration": 168,
        "start_time": "2023-05-29T11:17:33.784Z"
      },
      {
        "duration": 188,
        "start_time": "2023-05-29T11:17:33.954Z"
      },
      {
        "duration": 141,
        "start_time": "2023-05-29T11:17:34.144Z"
      },
      {
        "duration": 97,
        "start_time": "2023-05-29T11:17:34.288Z"
      },
      {
        "duration": 157,
        "start_time": "2023-05-29T11:17:34.390Z"
      },
      {
        "duration": 88,
        "start_time": "2023-05-29T11:17:34.554Z"
      },
      {
        "duration": 138,
        "start_time": "2023-05-29T11:17:34.644Z"
      },
      {
        "duration": 293,
        "start_time": "2023-05-29T11:17:34.789Z"
      },
      {
        "duration": 308,
        "start_time": "2023-05-29T11:17:35.094Z"
      },
      {
        "duration": 90,
        "start_time": "2023-05-29T11:17:35.404Z"
      },
      {
        "duration": 22,
        "start_time": "2023-05-29T11:17:35.500Z"
      },
      {
        "duration": 101,
        "start_time": "2023-05-29T11:17:35.524Z"
      },
      {
        "duration": 7,
        "start_time": "2023-05-29T11:17:35.627Z"
      },
      {
        "duration": 139,
        "start_time": "2023-05-29T11:17:35.636Z"
      },
      {
        "duration": 205,
        "start_time": "2023-05-29T11:17:35.777Z"
      },
      {
        "duration": 88,
        "start_time": "2023-05-29T11:17:35.984Z"
      },
      {
        "duration": 826,
        "start_time": "2023-05-29T11:17:36.074Z"
      },
      {
        "duration": 592,
        "start_time": "2023-05-29T11:17:36.902Z"
      },
      {
        "duration": 177,
        "start_time": "2023-05-29T11:17:37.496Z"
      },
      {
        "duration": 70208,
        "start_time": "2023-05-29T11:17:37.675Z"
      },
      {
        "duration": 4,
        "start_time": "2023-05-29T11:19:30.210Z"
      },
      {
        "duration": 55378,
        "start_time": "2023-05-29T11:19:48.579Z"
      },
      {
        "duration": 4451,
        "start_time": "2023-05-29T11:24:18.624Z"
      },
      {
        "duration": 1037,
        "start_time": "2023-05-29T11:24:23.078Z"
      },
      {
        "duration": 48,
        "start_time": "2023-05-29T11:24:24.116Z"
      },
      {
        "duration": 131,
        "start_time": "2023-05-29T11:24:24.169Z"
      },
      {
        "duration": 138,
        "start_time": "2023-05-29T11:24:24.302Z"
      },
      {
        "duration": 89,
        "start_time": "2023-05-29T11:24:24.442Z"
      },
      {
        "duration": 69,
        "start_time": "2023-05-29T11:24:24.533Z"
      },
      {
        "duration": 99,
        "start_time": "2023-05-29T11:24:24.604Z"
      },
      {
        "duration": 77,
        "start_time": "2023-05-29T11:24:24.705Z"
      },
      {
        "duration": 80,
        "start_time": "2023-05-29T11:24:24.784Z"
      },
      {
        "duration": 254,
        "start_time": "2023-05-29T11:24:24.866Z"
      },
      {
        "duration": 261,
        "start_time": "2023-05-29T11:24:25.122Z"
      },
      {
        "duration": 82,
        "start_time": "2023-05-29T11:24:25.384Z"
      },
      {
        "duration": 14,
        "start_time": "2023-05-29T11:24:25.469Z"
      },
      {
        "duration": 43,
        "start_time": "2023-05-29T11:24:25.485Z"
      },
      {
        "duration": 23,
        "start_time": "2023-05-29T11:24:25.530Z"
      },
      {
        "duration": 134,
        "start_time": "2023-05-29T11:24:25.554Z"
      },
      {
        "duration": 11,
        "start_time": "2023-05-29T11:24:25.690Z"
      },
      {
        "duration": 25,
        "start_time": "2023-05-29T11:24:25.702Z"
      },
      {
        "duration": 737,
        "start_time": "2023-05-29T11:24:25.729Z"
      },
      {
        "duration": 579,
        "start_time": "2023-05-29T11:24:26.468Z"
      },
      {
        "duration": 161,
        "start_time": "2023-05-29T11:24:27.059Z"
      },
      {
        "duration": 402230,
        "start_time": "2023-05-29T11:24:27.222Z"
      },
      {
        "duration": 42302,
        "start_time": "2023-05-29T11:31:09.465Z"
      },
      {
        "duration": 3863,
        "start_time": "2023-05-29T12:15:19.743Z"
      },
      {
        "duration": 890,
        "start_time": "2023-05-29T12:15:23.609Z"
      },
      {
        "duration": 32,
        "start_time": "2023-05-29T12:15:24.500Z"
      },
      {
        "duration": 135,
        "start_time": "2023-05-29T12:15:24.534Z"
      },
      {
        "duration": 122,
        "start_time": "2023-05-29T12:15:24.671Z"
      },
      {
        "duration": 69,
        "start_time": "2023-05-29T12:15:24.795Z"
      },
      {
        "duration": 53,
        "start_time": "2023-05-29T12:15:24.866Z"
      },
      {
        "duration": 83,
        "start_time": "2023-05-29T12:15:24.921Z"
      },
      {
        "duration": 141,
        "start_time": "2023-05-29T12:15:25.006Z"
      },
      {
        "duration": 57,
        "start_time": "2023-05-29T12:15:25.149Z"
      },
      {
        "duration": 232,
        "start_time": "2023-05-29T12:15:25.208Z"
      },
      {
        "duration": 234,
        "start_time": "2023-05-29T12:15:25.442Z"
      },
      {
        "duration": 80,
        "start_time": "2023-05-29T12:15:25.678Z"
      },
      {
        "duration": 7,
        "start_time": "2023-05-29T12:15:25.761Z"
      },
      {
        "duration": 57,
        "start_time": "2023-05-29T12:15:25.769Z"
      },
      {
        "duration": 11,
        "start_time": "2023-05-29T12:15:25.828Z"
      },
      {
        "duration": 74,
        "start_time": "2023-05-29T12:15:25.841Z"
      },
      {
        "duration": 25,
        "start_time": "2023-05-29T12:15:25.918Z"
      },
      {
        "duration": 47,
        "start_time": "2023-05-29T12:15:25.945Z"
      },
      {
        "duration": 722,
        "start_time": "2023-05-29T12:15:25.994Z"
      },
      {
        "duration": 563,
        "start_time": "2023-05-29T12:15:26.717Z"
      },
      {
        "duration": 155,
        "start_time": "2023-05-29T12:15:27.282Z"
      },
      {
        "duration": 56,
        "start_time": "2023-05-29T12:15:27.439Z"
      },
      {
        "duration": 0,
        "start_time": "2023-05-29T12:15:27.497Z"
      },
      {
        "duration": 42,
        "start_time": "2023-05-29T12:15:35.542Z"
      },
      {
        "duration": 3663,
        "start_time": "2023-05-29T12:15:48.418Z"
      },
      {
        "duration": 1013,
        "start_time": "2023-05-29T12:15:52.083Z"
      },
      {
        "duration": 48,
        "start_time": "2023-05-29T12:15:53.099Z"
      },
      {
        "duration": 122,
        "start_time": "2023-05-29T12:15:53.148Z"
      },
      {
        "duration": 123,
        "start_time": "2023-05-29T12:15:53.273Z"
      },
      {
        "duration": 91,
        "start_time": "2023-05-29T12:15:53.398Z"
      },
      {
        "duration": 41,
        "start_time": "2023-05-29T12:15:53.491Z"
      },
      {
        "duration": 56,
        "start_time": "2023-05-29T12:15:53.545Z"
      },
      {
        "duration": 143,
        "start_time": "2023-05-29T12:15:53.603Z"
      },
      {
        "duration": 63,
        "start_time": "2023-05-29T12:15:53.748Z"
      },
      {
        "duration": 257,
        "start_time": "2023-05-29T12:15:53.813Z"
      },
      {
        "duration": 257,
        "start_time": "2023-05-29T12:15:54.072Z"
      },
      {
        "duration": 69,
        "start_time": "2023-05-29T12:15:54.331Z"
      },
      {
        "duration": 7,
        "start_time": "2023-05-29T12:15:54.403Z"
      },
      {
        "duration": 52,
        "start_time": "2023-05-29T12:15:54.411Z"
      },
      {
        "duration": 7,
        "start_time": "2023-05-29T12:15:54.465Z"
      },
      {
        "duration": 31,
        "start_time": "2023-05-29T12:15:54.474Z"
      },
      {
        "duration": 9,
        "start_time": "2023-05-29T12:15:54.507Z"
      },
      {
        "duration": 47,
        "start_time": "2023-05-29T12:15:54.518Z"
      },
      {
        "duration": 704,
        "start_time": "2023-05-29T12:15:54.567Z"
      },
      {
        "duration": 546,
        "start_time": "2023-05-29T12:15:55.273Z"
      },
      {
        "duration": 167,
        "start_time": "2023-05-29T12:15:55.821Z"
      },
      {
        "duration": 52,
        "start_time": "2023-05-29T12:15:55.990Z"
      },
      {
        "duration": 0,
        "start_time": "2023-05-29T12:15:56.044Z"
      },
      {
        "duration": 3959,
        "start_time": "2023-05-29T12:26:41.243Z"
      },
      {
        "duration": 847,
        "start_time": "2023-05-29T12:26:45.204Z"
      },
      {
        "duration": 31,
        "start_time": "2023-05-29T12:26:46.052Z"
      },
      {
        "duration": 118,
        "start_time": "2023-05-29T12:26:46.084Z"
      },
      {
        "duration": 112,
        "start_time": "2023-05-29T12:26:46.205Z"
      },
      {
        "duration": 81,
        "start_time": "2023-05-29T12:26:46.320Z"
      },
      {
        "duration": 51,
        "start_time": "2023-05-29T12:26:46.403Z"
      },
      {
        "duration": 57,
        "start_time": "2023-05-29T12:26:46.456Z"
      },
      {
        "duration": 100,
        "start_time": "2023-05-29T12:26:46.515Z"
      },
      {
        "duration": 168,
        "start_time": "2023-05-29T12:26:46.617Z"
      },
      {
        "duration": 255,
        "start_time": "2023-05-29T12:26:46.787Z"
      },
      {
        "duration": 266,
        "start_time": "2023-05-29T12:26:47.046Z"
      },
      {
        "duration": 71,
        "start_time": "2023-05-29T12:26:47.314Z"
      },
      {
        "duration": 9,
        "start_time": "2023-05-29T12:26:47.389Z"
      },
      {
        "duration": 60,
        "start_time": "2023-05-29T12:26:47.400Z"
      },
      {
        "duration": 10,
        "start_time": "2023-05-29T12:26:47.462Z"
      },
      {
        "duration": 43,
        "start_time": "2023-05-29T12:26:47.474Z"
      },
      {
        "duration": 9,
        "start_time": "2023-05-29T12:26:47.519Z"
      },
      {
        "duration": 54,
        "start_time": "2023-05-29T12:26:47.529Z"
      },
      {
        "duration": 610,
        "start_time": "2023-05-29T12:26:47.584Z"
      },
      {
        "duration": 541,
        "start_time": "2023-05-29T12:26:48.197Z"
      },
      {
        "duration": 145,
        "start_time": "2023-05-29T12:26:48.740Z"
      },
      {
        "duration": 3889,
        "start_time": "2023-05-29T12:28:25.127Z"
      },
      {
        "duration": 944,
        "start_time": "2023-05-29T12:28:29.019Z"
      },
      {
        "duration": 34,
        "start_time": "2023-05-29T12:28:29.967Z"
      },
      {
        "duration": 152,
        "start_time": "2023-05-29T12:28:30.005Z"
      },
      {
        "duration": 111,
        "start_time": "2023-05-29T12:28:30.158Z"
      },
      {
        "duration": 104,
        "start_time": "2023-05-29T12:28:30.271Z"
      },
      {
        "duration": 41,
        "start_time": "2023-05-29T12:28:30.378Z"
      },
      {
        "duration": 95,
        "start_time": "2023-05-29T12:28:30.421Z"
      },
      {
        "duration": 143,
        "start_time": "2023-05-29T12:28:30.519Z"
      },
      {
        "duration": 76,
        "start_time": "2023-05-29T12:28:30.664Z"
      },
      {
        "duration": 240,
        "start_time": "2023-05-29T12:28:30.742Z"
      },
      {
        "duration": 239,
        "start_time": "2023-05-29T12:28:30.984Z"
      },
      {
        "duration": 78,
        "start_time": "2023-05-29T12:28:31.227Z"
      },
      {
        "duration": 19,
        "start_time": "2023-05-29T12:28:31.307Z"
      },
      {
        "duration": 80,
        "start_time": "2023-05-29T12:28:31.328Z"
      },
      {
        "duration": 14,
        "start_time": "2023-05-29T12:28:31.411Z"
      },
      {
        "duration": 61,
        "start_time": "2023-05-29T12:28:31.427Z"
      },
      {
        "duration": 37,
        "start_time": "2023-05-29T12:28:31.490Z"
      },
      {
        "duration": 40,
        "start_time": "2023-05-29T12:28:31.530Z"
      },
      {
        "duration": 774,
        "start_time": "2023-05-29T12:28:31.572Z"
      },
      {
        "duration": 691,
        "start_time": "2023-05-29T12:28:32.348Z"
      },
      {
        "duration": 205,
        "start_time": "2023-05-29T12:28:33.041Z"
      },
      {
        "duration": 3733,
        "start_time": "2023-05-29T12:37:25.201Z"
      },
      {
        "duration": 934,
        "start_time": "2023-05-29T12:37:28.937Z"
      },
      {
        "duration": 49,
        "start_time": "2023-05-29T12:37:29.873Z"
      },
      {
        "duration": 139,
        "start_time": "2023-05-29T12:37:29.924Z"
      },
      {
        "duration": 173,
        "start_time": "2023-05-29T12:37:30.068Z"
      },
      {
        "duration": 75,
        "start_time": "2023-05-29T12:37:30.243Z"
      },
      {
        "duration": 53,
        "start_time": "2023-05-29T12:37:30.320Z"
      },
      {
        "duration": 87,
        "start_time": "2023-05-29T12:37:30.375Z"
      },
      {
        "duration": 74,
        "start_time": "2023-05-29T12:37:30.465Z"
      },
      {
        "duration": 131,
        "start_time": "2023-05-29T12:37:30.541Z"
      },
      {
        "duration": 243,
        "start_time": "2023-05-29T12:37:30.673Z"
      },
      {
        "duration": 296,
        "start_time": "2023-05-29T12:37:30.918Z"
      },
      {
        "duration": 103,
        "start_time": "2023-05-29T12:37:31.216Z"
      },
      {
        "duration": 10,
        "start_time": "2023-05-29T12:37:31.323Z"
      },
      {
        "duration": 72,
        "start_time": "2023-05-29T12:37:31.347Z"
      },
      {
        "duration": 24,
        "start_time": "2023-05-29T12:37:31.421Z"
      },
      {
        "duration": 103,
        "start_time": "2023-05-29T12:37:31.447Z"
      },
      {
        "duration": 21,
        "start_time": "2023-05-29T12:37:31.552Z"
      },
      {
        "duration": 58,
        "start_time": "2023-05-29T12:37:31.576Z"
      },
      {
        "duration": 779,
        "start_time": "2023-05-29T12:37:31.636Z"
      },
      {
        "duration": 619,
        "start_time": "2023-05-29T12:37:32.416Z"
      },
      {
        "duration": 184,
        "start_time": "2023-05-29T12:37:33.038Z"
      },
      {
        "duration": 24145,
        "start_time": "2023-05-29T12:37:33.224Z"
      },
      {
        "duration": 3927,
        "start_time": "2023-05-29T12:38:21.622Z"
      },
      {
        "duration": 953,
        "start_time": "2023-05-29T12:38:25.552Z"
      },
      {
        "duration": 40,
        "start_time": "2023-05-29T12:38:26.507Z"
      },
      {
        "duration": 120,
        "start_time": "2023-05-29T12:38:26.549Z"
      },
      {
        "duration": 215,
        "start_time": "2023-05-29T12:38:26.673Z"
      },
      {
        "duration": 71,
        "start_time": "2023-05-29T12:38:26.891Z"
      },
      {
        "duration": 42,
        "start_time": "2023-05-29T12:38:26.964Z"
      },
      {
        "duration": 79,
        "start_time": "2023-05-29T12:38:27.008Z"
      },
      {
        "duration": 158,
        "start_time": "2023-05-29T12:38:27.089Z"
      },
      {
        "duration": 67,
        "start_time": "2023-05-29T12:38:27.249Z"
      },
      {
        "duration": 306,
        "start_time": "2023-05-29T12:38:27.320Z"
      },
      {
        "duration": 245,
        "start_time": "2023-05-29T12:38:27.628Z"
      },
      {
        "duration": 79,
        "start_time": "2023-05-29T12:38:27.875Z"
      },
      {
        "duration": 8,
        "start_time": "2023-05-29T12:38:27.958Z"
      },
      {
        "duration": 42,
        "start_time": "2023-05-29T12:38:27.968Z"
      },
      {
        "duration": 11,
        "start_time": "2023-05-29T12:38:28.012Z"
      },
      {
        "duration": 57,
        "start_time": "2023-05-29T12:38:28.026Z"
      },
      {
        "duration": 9,
        "start_time": "2023-05-29T12:38:28.085Z"
      },
      {
        "duration": 47,
        "start_time": "2023-05-29T12:38:28.096Z"
      },
      {
        "duration": 745,
        "start_time": "2023-05-29T12:38:28.146Z"
      },
      {
        "duration": 548,
        "start_time": "2023-05-29T12:38:28.893Z"
      },
      {
        "duration": 159,
        "start_time": "2023-05-29T12:38:29.442Z"
      },
      {
        "duration": 3715,
        "start_time": "2023-05-29T12:38:52.894Z"
      },
      {
        "duration": 959,
        "start_time": "2023-05-29T12:38:56.612Z"
      },
      {
        "duration": 31,
        "start_time": "2023-05-29T12:38:57.573Z"
      },
      {
        "duration": 128,
        "start_time": "2023-05-29T12:38:57.606Z"
      },
      {
        "duration": 119,
        "start_time": "2023-05-29T12:38:57.737Z"
      },
      {
        "duration": 62,
        "start_time": "2023-05-29T12:38:57.858Z"
      },
      {
        "duration": 48,
        "start_time": "2023-05-29T12:38:57.922Z"
      },
      {
        "duration": 90,
        "start_time": "2023-05-29T12:38:57.972Z"
      },
      {
        "duration": 140,
        "start_time": "2023-05-29T12:38:58.064Z"
      },
      {
        "duration": 72,
        "start_time": "2023-05-29T12:38:58.206Z"
      },
      {
        "duration": 257,
        "start_time": "2023-05-29T12:38:58.280Z"
      },
      {
        "duration": 372,
        "start_time": "2023-05-29T12:38:58.540Z"
      },
      {
        "duration": 80,
        "start_time": "2023-05-29T12:38:58.916Z"
      },
      {
        "duration": 11,
        "start_time": "2023-05-29T12:38:59.000Z"
      },
      {
        "duration": 50,
        "start_time": "2023-05-29T12:38:59.013Z"
      },
      {
        "duration": 8,
        "start_time": "2023-05-29T12:38:59.065Z"
      },
      {
        "duration": 36,
        "start_time": "2023-05-29T12:38:59.075Z"
      },
      {
        "duration": 9,
        "start_time": "2023-05-29T12:38:59.112Z"
      },
      {
        "duration": 46,
        "start_time": "2023-05-29T12:38:59.123Z"
      },
      {
        "duration": 723,
        "start_time": "2023-05-29T12:38:59.171Z"
      },
      {
        "duration": 547,
        "start_time": "2023-05-29T12:38:59.896Z"
      },
      {
        "duration": 154,
        "start_time": "2023-05-29T12:39:00.446Z"
      },
      {
        "duration": 359391,
        "start_time": "2023-05-29T12:39:00.603Z"
      },
      {
        "duration": 46751,
        "start_time": "2023-05-29T12:44:59.997Z"
      },
      {
        "duration": 377887,
        "start_time": "2023-05-29T12:51:51.383Z"
      },
      {
        "duration": 3519,
        "start_time": "2023-05-29T13:06:08.420Z"
      },
      {
        "duration": 969,
        "start_time": "2023-05-29T13:06:11.942Z"
      },
      {
        "duration": 37,
        "start_time": "2023-05-29T13:06:12.913Z"
      },
      {
        "duration": 138,
        "start_time": "2023-05-29T13:06:12.952Z"
      },
      {
        "duration": 113,
        "start_time": "2023-05-29T13:06:13.093Z"
      },
      {
        "duration": 61,
        "start_time": "2023-05-29T13:06:13.208Z"
      },
      {
        "duration": 38,
        "start_time": "2023-05-29T13:06:13.271Z"
      },
      {
        "duration": 75,
        "start_time": "2023-05-29T13:06:13.311Z"
      },
      {
        "duration": 134,
        "start_time": "2023-05-29T13:06:13.387Z"
      },
      {
        "duration": 64,
        "start_time": "2023-05-29T13:06:13.522Z"
      },
      {
        "duration": 237,
        "start_time": "2023-05-29T13:06:13.588Z"
      },
      {
        "duration": 222,
        "start_time": "2023-05-29T13:06:13.827Z"
      },
      {
        "duration": 70,
        "start_time": "2023-05-29T13:06:14.051Z"
      },
      {
        "duration": 21,
        "start_time": "2023-05-29T13:06:14.125Z"
      },
      {
        "duration": 38,
        "start_time": "2023-05-29T13:06:14.148Z"
      },
      {
        "duration": 8,
        "start_time": "2023-05-29T13:06:14.188Z"
      },
      {
        "duration": 48,
        "start_time": "2023-05-29T13:06:14.198Z"
      },
      {
        "duration": 9,
        "start_time": "2023-05-29T13:06:14.248Z"
      },
      {
        "duration": 26,
        "start_time": "2023-05-29T13:06:14.258Z"
      },
      {
        "duration": 609,
        "start_time": "2023-05-29T13:06:14.286Z"
      },
      {
        "duration": 539,
        "start_time": "2023-05-29T13:06:14.897Z"
      },
      {
        "duration": 147,
        "start_time": "2023-05-29T13:06:15.438Z"
      },
      {
        "duration": 71774,
        "start_time": "2023-05-29T13:06:15.587Z"
      },
      {
        "duration": 25684,
        "start_time": "2023-05-29T13:07:27.362Z"
      },
      {
        "duration": 3492,
        "start_time": "2023-05-29T13:10:16.785Z"
      },
      {
        "duration": 945,
        "start_time": "2023-05-29T13:10:20.280Z"
      },
      {
        "duration": 35,
        "start_time": "2023-05-29T13:10:21.226Z"
      },
      {
        "duration": 117,
        "start_time": "2023-05-29T13:10:21.263Z"
      },
      {
        "duration": 106,
        "start_time": "2023-05-29T13:10:21.382Z"
      },
      {
        "duration": 68,
        "start_time": "2023-05-29T13:10:21.490Z"
      },
      {
        "duration": 40,
        "start_time": "2023-05-29T13:10:21.559Z"
      },
      {
        "duration": 72,
        "start_time": "2023-05-29T13:10:21.601Z"
      },
      {
        "duration": 133,
        "start_time": "2023-05-29T13:10:21.676Z"
      },
      {
        "duration": 76,
        "start_time": "2023-05-29T13:10:21.810Z"
      },
      {
        "duration": 241,
        "start_time": "2023-05-29T13:10:21.888Z"
      },
      {
        "duration": 295,
        "start_time": "2023-05-29T13:10:22.130Z"
      },
      {
        "duration": 84,
        "start_time": "2023-05-29T13:10:22.428Z"
      },
      {
        "duration": 9,
        "start_time": "2023-05-29T13:10:22.515Z"
      },
      {
        "duration": 64,
        "start_time": "2023-05-29T13:10:22.525Z"
      },
      {
        "duration": 10,
        "start_time": "2023-05-29T13:10:22.591Z"
      },
      {
        "duration": 49,
        "start_time": "2023-05-29T13:10:22.603Z"
      },
      {
        "duration": 12,
        "start_time": "2023-05-29T13:10:22.654Z"
      },
      {
        "duration": 27,
        "start_time": "2023-05-29T13:10:22.668Z"
      },
      {
        "duration": 667,
        "start_time": "2023-05-29T13:10:22.697Z"
      },
      {
        "duration": 533,
        "start_time": "2023-05-29T13:10:23.365Z"
      },
      {
        "duration": 156,
        "start_time": "2023-05-29T13:10:23.899Z"
      },
      {
        "duration": 70106,
        "start_time": "2023-05-29T13:10:24.057Z"
      },
      {
        "duration": 15382,
        "start_time": "2023-05-29T13:11:34.164Z"
      },
      {
        "duration": 3509,
        "start_time": "2023-05-29T13:18:52.708Z"
      },
      {
        "duration": 915,
        "start_time": "2023-05-29T13:18:56.219Z"
      },
      {
        "duration": 34,
        "start_time": "2023-05-29T13:18:57.136Z"
      },
      {
        "duration": 125,
        "start_time": "2023-05-29T13:18:57.172Z"
      },
      {
        "duration": 109,
        "start_time": "2023-05-29T13:18:57.299Z"
      },
      {
        "duration": 63,
        "start_time": "2023-05-29T13:18:57.410Z"
      },
      {
        "duration": 39,
        "start_time": "2023-05-29T13:18:57.475Z"
      },
      {
        "duration": 74,
        "start_time": "2023-05-29T13:18:57.516Z"
      },
      {
        "duration": 132,
        "start_time": "2023-05-29T13:18:57.592Z"
      },
      {
        "duration": 62,
        "start_time": "2023-05-29T13:18:57.726Z"
      },
      {
        "duration": 219,
        "start_time": "2023-05-29T13:18:57.790Z"
      },
      {
        "duration": 213,
        "start_time": "2023-05-29T13:18:58.011Z"
      },
      {
        "duration": 73,
        "start_time": "2023-05-29T13:18:58.226Z"
      },
      {
        "duration": 7,
        "start_time": "2023-05-29T13:18:58.301Z"
      },
      {
        "duration": 68,
        "start_time": "2023-05-29T13:18:58.310Z"
      },
      {
        "duration": 8,
        "start_time": "2023-05-29T13:18:58.380Z"
      },
      {
        "duration": 49,
        "start_time": "2023-05-29T13:18:58.389Z"
      },
      {
        "duration": 9,
        "start_time": "2023-05-29T13:18:58.440Z"
      },
      {
        "duration": 34,
        "start_time": "2023-05-29T13:18:58.450Z"
      },
      {
        "duration": 598,
        "start_time": "2023-05-29T13:18:58.486Z"
      },
      {
        "duration": 518,
        "start_time": "2023-05-29T13:18:59.086Z"
      },
      {
        "duration": 139,
        "start_time": "2023-05-29T13:18:59.606Z"
      },
      {
        "duration": 65518,
        "start_time": "2023-05-29T13:18:59.747Z"
      },
      {
        "duration": 17684,
        "start_time": "2023-05-29T13:20:05.266Z"
      },
      {
        "duration": 1187,
        "start_time": "2023-05-29T13:20:22.955Z"
      },
      {
        "duration": 3471,
        "start_time": "2023-05-29T13:27:28.253Z"
      },
      {
        "duration": 979,
        "start_time": "2023-05-29T13:27:31.727Z"
      },
      {
        "duration": 30,
        "start_time": "2023-05-29T13:27:32.708Z"
      },
      {
        "duration": 126,
        "start_time": "2023-05-29T13:27:32.746Z"
      },
      {
        "duration": 104,
        "start_time": "2023-05-29T13:27:32.875Z"
      },
      {
        "duration": 105,
        "start_time": "2023-05-29T13:27:32.981Z"
      },
      {
        "duration": 45,
        "start_time": "2023-05-29T13:27:33.088Z"
      },
      {
        "duration": 60,
        "start_time": "2023-05-29T13:27:33.134Z"
      },
      {
        "duration": 125,
        "start_time": "2023-05-29T13:27:33.196Z"
      },
      {
        "duration": 71,
        "start_time": "2023-05-29T13:27:33.323Z"
      },
      {
        "duration": 234,
        "start_time": "2023-05-29T13:27:33.395Z"
      },
      {
        "duration": 254,
        "start_time": "2023-05-29T13:27:33.631Z"
      },
      {
        "duration": 75,
        "start_time": "2023-05-29T13:27:33.887Z"
      },
      {
        "duration": 7,
        "start_time": "2023-05-29T13:27:33.964Z"
      },
      {
        "duration": 52,
        "start_time": "2023-05-29T13:27:33.973Z"
      },
      {
        "duration": 7,
        "start_time": "2023-05-29T13:27:34.026Z"
      },
      {
        "duration": 37,
        "start_time": "2023-05-29T13:27:34.035Z"
      },
      {
        "duration": 9,
        "start_time": "2023-05-29T13:27:34.073Z"
      },
      {
        "duration": 42,
        "start_time": "2023-05-29T13:27:34.083Z"
      },
      {
        "duration": 625,
        "start_time": "2023-05-29T13:27:34.126Z"
      },
      {
        "duration": 528,
        "start_time": "2023-05-29T13:27:34.753Z"
      },
      {
        "duration": 148,
        "start_time": "2023-05-29T13:27:35.283Z"
      },
      {
        "duration": 66322,
        "start_time": "2023-05-29T13:27:35.433Z"
      },
      {
        "duration": 16996,
        "start_time": "2023-05-29T13:28:41.757Z"
      },
      {
        "duration": 798161,
        "start_time": "2023-05-29T13:28:58.755Z"
      },
      {
        "duration": 274,
        "start_time": "2023-05-29T13:44:30.445Z"
      },
      {
        "duration": 15104,
        "start_time": "2023-05-29T13:44:51.654Z"
      },
      {
        "duration": 52,
        "start_time": "2023-05-29T13:55:39.527Z"
      },
      {
        "duration": 7622,
        "start_time": "2023-05-29T13:55:57.837Z"
      },
      {
        "duration": 92,
        "start_time": "2023-05-29T14:06:15.917Z"
      },
      {
        "duration": 3539,
        "start_time": "2023-05-30T05:15:26.062Z"
      },
      {
        "duration": 2878,
        "start_time": "2023-05-30T05:15:29.603Z"
      },
      {
        "duration": 30,
        "start_time": "2023-05-30T05:15:32.483Z"
      },
      {
        "duration": 91,
        "start_time": "2023-05-30T05:15:32.518Z"
      },
      {
        "duration": 86,
        "start_time": "2023-05-30T05:15:32.611Z"
      },
      {
        "duration": 53,
        "start_time": "2023-05-30T05:15:32.698Z"
      },
      {
        "duration": 40,
        "start_time": "2023-05-30T05:15:32.752Z"
      },
      {
        "duration": 62,
        "start_time": "2023-05-30T05:15:32.794Z"
      },
      {
        "duration": 44,
        "start_time": "2023-05-30T05:15:32.857Z"
      },
      {
        "duration": 152,
        "start_time": "2023-05-30T05:15:32.904Z"
      },
      {
        "duration": 228,
        "start_time": "2023-05-30T05:15:33.058Z"
      },
      {
        "duration": 245,
        "start_time": "2023-05-30T05:15:33.288Z"
      },
      {
        "duration": 68,
        "start_time": "2023-05-30T05:15:33.535Z"
      },
      {
        "duration": 7,
        "start_time": "2023-05-30T05:15:33.605Z"
      },
      {
        "duration": 46,
        "start_time": "2023-05-30T05:15:33.613Z"
      },
      {
        "duration": 11,
        "start_time": "2023-05-30T05:15:33.660Z"
      },
      {
        "duration": 37,
        "start_time": "2023-05-30T05:15:33.673Z"
      },
      {
        "duration": 8,
        "start_time": "2023-05-30T05:15:33.713Z"
      },
      {
        "duration": 43,
        "start_time": "2023-05-30T05:15:33.723Z"
      },
      {
        "duration": 688,
        "start_time": "2023-05-30T05:15:33.768Z"
      },
      {
        "duration": 528,
        "start_time": "2023-05-30T05:15:34.458Z"
      },
      {
        "duration": 134,
        "start_time": "2023-05-30T05:15:34.988Z"
      },
      {
        "duration": 5,
        "start_time": "2023-05-30T05:15:35.123Z"
      },
      {
        "duration": 0,
        "start_time": "2023-05-30T05:15:35.129Z"
      },
      {
        "duration": 0,
        "start_time": "2023-05-30T05:15:35.130Z"
      },
      {
        "duration": 0,
        "start_time": "2023-05-30T05:15:35.131Z"
      },
      {
        "duration": 68490,
        "start_time": "2023-05-30T05:49:05.472Z"
      },
      {
        "duration": 15180,
        "start_time": "2023-05-30T05:54:20.084Z"
      },
      {
        "duration": 774968,
        "start_time": "2023-05-30T05:54:35.266Z"
      },
      {
        "duration": 2804,
        "start_time": "2023-05-30T13:24:54.575Z"
      },
      {
        "duration": 1433,
        "start_time": "2023-05-30T13:24:57.382Z"
      },
      {
        "duration": 1536,
        "start_time": "2023-05-30T13:27:18.956Z"
      },
      {
        "duration": 3179,
        "start_time": "2023-05-30T13:29:20.157Z"
      },
      {
        "duration": 2250,
        "start_time": "2023-05-30T13:29:35.583Z"
      },
      {
        "duration": 2313,
        "start_time": "2023-05-30T13:30:18.611Z"
      },
      {
        "duration": 1526,
        "start_time": "2023-05-30T13:30:20.928Z"
      },
      {
        "duration": 1140,
        "start_time": "2023-05-30T13:30:22.457Z"
      },
      {
        "duration": 2464,
        "start_time": "2023-05-30T13:30:23.600Z"
      },
      {
        "duration": 0,
        "start_time": "2023-05-30T13:30:26.070Z"
      },
      {
        "duration": 0,
        "start_time": "2023-05-30T13:30:26.072Z"
      },
      {
        "duration": 0,
        "start_time": "2023-05-30T13:30:26.073Z"
      },
      {
        "duration": 0,
        "start_time": "2023-05-30T13:30:26.075Z"
      },
      {
        "duration": 0,
        "start_time": "2023-05-30T13:30:26.077Z"
      },
      {
        "duration": 0,
        "start_time": "2023-05-30T13:30:26.078Z"
      },
      {
        "duration": 0,
        "start_time": "2023-05-30T13:30:26.079Z"
      },
      {
        "duration": 0,
        "start_time": "2023-05-30T13:30:26.081Z"
      },
      {
        "duration": 0,
        "start_time": "2023-05-30T13:30:26.082Z"
      },
      {
        "duration": 0,
        "start_time": "2023-05-30T13:30:26.084Z"
      },
      {
        "duration": 0,
        "start_time": "2023-05-30T13:30:26.085Z"
      },
      {
        "duration": 0,
        "start_time": "2023-05-30T13:30:26.087Z"
      },
      {
        "duration": 0,
        "start_time": "2023-05-30T13:30:26.089Z"
      },
      {
        "duration": 0,
        "start_time": "2023-05-30T13:30:26.090Z"
      },
      {
        "duration": 0,
        "start_time": "2023-05-30T13:30:26.092Z"
      },
      {
        "duration": 0,
        "start_time": "2023-05-30T13:30:26.094Z"
      },
      {
        "duration": 0,
        "start_time": "2023-05-30T13:30:26.095Z"
      },
      {
        "duration": 0,
        "start_time": "2023-05-30T13:30:26.096Z"
      },
      {
        "duration": 0,
        "start_time": "2023-05-30T13:30:26.097Z"
      },
      {
        "duration": 0,
        "start_time": "2023-05-30T13:30:26.099Z"
      },
      {
        "duration": 1646,
        "start_time": "2023-05-30T13:31:24.561Z"
      },
      {
        "duration": 86,
        "start_time": "2023-05-30T13:31:32.329Z"
      },
      {
        "duration": 7,
        "start_time": "2023-05-30T13:32:10.581Z"
      },
      {
        "duration": 1503,
        "start_time": "2023-05-30T13:32:23.277Z"
      },
      {
        "duration": 1761,
        "start_time": "2023-05-30T13:32:41.825Z"
      },
      {
        "duration": 45,
        "start_time": "2023-05-30T13:33:58.379Z"
      },
      {
        "duration": 46,
        "start_time": "2023-05-30T13:44:22.902Z"
      },
      {
        "duration": 83,
        "start_time": "2023-05-30T13:44:48.482Z"
      },
      {
        "duration": 188,
        "start_time": "2023-05-30T13:49:54.329Z"
      },
      {
        "duration": 2460,
        "start_time": "2023-05-30T14:05:13.529Z"
      },
      {
        "duration": 1298,
        "start_time": "2023-05-30T14:05:15.992Z"
      },
      {
        "duration": 1073,
        "start_time": "2023-05-30T14:05:17.292Z"
      },
      {
        "duration": 41,
        "start_time": "2023-05-30T14:05:18.369Z"
      },
      {
        "duration": 52,
        "start_time": "2023-05-30T14:05:18.412Z"
      },
      {
        "duration": 288,
        "start_time": "2023-05-30T14:05:18.467Z"
      },
      {
        "duration": 95,
        "start_time": "2023-05-30T14:05:18.757Z"
      },
      {
        "duration": 90,
        "start_time": "2023-05-30T14:05:18.854Z"
      },
      {
        "duration": 170,
        "start_time": "2023-05-30T14:05:18.946Z"
      },
      {
        "duration": 58,
        "start_time": "2023-05-30T14:05:19.120Z"
      },
      {
        "duration": 114,
        "start_time": "2023-05-30T14:05:19.181Z"
      },
      {
        "duration": 115,
        "start_time": "2023-05-30T14:05:19.297Z"
      },
      {
        "duration": 68,
        "start_time": "2023-05-30T14:05:19.414Z"
      },
      {
        "duration": 90,
        "start_time": "2023-05-30T14:05:19.483Z"
      },
      {
        "duration": 11,
        "start_time": "2023-05-30T14:05:19.575Z"
      },
      {
        "duration": 42,
        "start_time": "2023-05-30T14:05:19.587Z"
      },
      {
        "duration": 10,
        "start_time": "2023-05-30T14:05:19.642Z"
      },
      {
        "duration": 57,
        "start_time": "2023-05-30T14:05:19.655Z"
      },
      {
        "duration": 34,
        "start_time": "2023-05-30T14:05:19.714Z"
      },
      {
        "duration": 31,
        "start_time": "2023-05-30T14:05:19.750Z"
      },
      {
        "duration": 1027,
        "start_time": "2023-05-30T14:05:19.783Z"
      },
      {
        "duration": 624,
        "start_time": "2023-05-30T14:05:20.813Z"
      },
      {
        "duration": 158,
        "start_time": "2023-05-30T14:05:21.439Z"
      },
      {
        "duration": 1801,
        "start_time": "2023-05-30T14:07:13.073Z"
      },
      {
        "duration": 2315,
        "start_time": "2023-05-30T14:07:39.029Z"
      },
      {
        "duration": 1386,
        "start_time": "2023-05-30T14:07:41.347Z"
      },
      {
        "duration": 950,
        "start_time": "2023-05-30T14:07:42.735Z"
      },
      {
        "duration": 37,
        "start_time": "2023-05-30T14:07:43.687Z"
      },
      {
        "duration": 46,
        "start_time": "2023-05-30T14:07:43.727Z"
      },
      {
        "duration": 291,
        "start_time": "2023-05-30T14:07:43.775Z"
      },
      {
        "duration": 348,
        "start_time": "2023-05-30T14:07:44.067Z"
      },
      {
        "duration": 189,
        "start_time": "2023-05-30T14:07:44.416Z"
      },
      {
        "duration": 124,
        "start_time": "2023-05-30T14:07:44.607Z"
      },
      {
        "duration": 47,
        "start_time": "2023-05-30T14:07:44.741Z"
      },
      {
        "duration": 67,
        "start_time": "2023-05-30T14:07:44.791Z"
      },
      {
        "duration": 90,
        "start_time": "2023-05-30T14:07:44.861Z"
      },
      {
        "duration": 51,
        "start_time": "2023-05-30T14:07:44.953Z"
      },
      {
        "duration": 79,
        "start_time": "2023-05-30T14:07:45.009Z"
      },
      {
        "duration": 107,
        "start_time": "2023-05-30T14:07:45.090Z"
      },
      {
        "duration": 11,
        "start_time": "2023-05-30T14:07:45.200Z"
      },
      {
        "duration": 55,
        "start_time": "2023-05-30T14:07:45.213Z"
      },
      {
        "duration": 11,
        "start_time": "2023-05-30T14:07:45.271Z"
      },
      {
        "duration": 40,
        "start_time": "2023-05-30T14:07:45.284Z"
      },
      {
        "duration": 11,
        "start_time": "2023-05-30T14:07:45.341Z"
      },
      {
        "duration": 31,
        "start_time": "2023-05-30T14:07:45.354Z"
      },
      {
        "duration": 825,
        "start_time": "2023-05-30T14:07:45.388Z"
      },
      {
        "duration": 571,
        "start_time": "2023-05-30T14:07:46.216Z"
      },
      {
        "duration": 162,
        "start_time": "2023-05-30T14:07:46.788Z"
      },
      {
        "duration": 2057,
        "start_time": "2023-05-30T19:54:05.922Z"
      },
      {
        "duration": 1166,
        "start_time": "2023-05-30T19:54:07.982Z"
      },
      {
        "duration": 2780,
        "start_time": "2023-05-30T19:54:09.150Z"
      },
      {
        "duration": 27,
        "start_time": "2023-05-30T19:54:11.931Z"
      },
      {
        "duration": 27,
        "start_time": "2023-05-30T19:54:11.959Z"
      },
      {
        "duration": 226,
        "start_time": "2023-05-30T19:54:11.988Z"
      },
      {
        "duration": 263,
        "start_time": "2023-05-30T19:54:12.215Z"
      },
      {
        "duration": 101,
        "start_time": "2023-05-30T19:54:12.480Z"
      },
      {
        "duration": 142,
        "start_time": "2023-05-30T19:54:12.583Z"
      },
      {
        "duration": 37,
        "start_time": "2023-05-30T19:54:12.727Z"
      },
      {
        "duration": 46,
        "start_time": "2023-05-30T19:54:12.765Z"
      },
      {
        "duration": 49,
        "start_time": "2023-05-30T19:54:12.812Z"
      },
      {
        "duration": 50,
        "start_time": "2023-05-30T19:54:12.863Z"
      },
      {
        "duration": 47,
        "start_time": "2023-05-30T19:54:12.915Z"
      },
      {
        "duration": 84,
        "start_time": "2023-05-30T19:54:12.963Z"
      },
      {
        "duration": 6,
        "start_time": "2023-05-30T19:54:13.049Z"
      },
      {
        "duration": 27,
        "start_time": "2023-05-30T19:54:13.056Z"
      },
      {
        "duration": 22,
        "start_time": "2023-05-30T19:54:13.085Z"
      },
      {
        "duration": 28,
        "start_time": "2023-05-30T19:54:13.108Z"
      },
      {
        "duration": 8,
        "start_time": "2023-05-30T19:54:13.137Z"
      },
      {
        "duration": 21,
        "start_time": "2023-05-30T19:54:13.146Z"
      },
      {
        "duration": 565,
        "start_time": "2023-05-30T19:54:13.169Z"
      },
      {
        "duration": 504,
        "start_time": "2023-05-30T19:54:13.736Z"
      },
      {
        "duration": 124,
        "start_time": "2023-05-30T19:54:14.242Z"
      },
      {
        "duration": 67,
        "start_time": "2023-05-30T20:13:42.198Z"
      },
      {
        "duration": 1877,
        "start_time": "2023-05-30T20:14:00.979Z"
      },
      {
        "duration": 1098,
        "start_time": "2023-05-30T20:14:02.858Z"
      },
      {
        "duration": 817,
        "start_time": "2023-05-30T20:14:03.960Z"
      },
      {
        "duration": 29,
        "start_time": "2023-05-30T20:14:04.779Z"
      },
      {
        "duration": 26,
        "start_time": "2023-05-30T20:14:04.809Z"
      },
      {
        "duration": 239,
        "start_time": "2023-05-30T20:14:04.837Z"
      },
      {
        "duration": 257,
        "start_time": "2023-05-30T20:14:05.078Z"
      },
      {
        "duration": 134,
        "start_time": "2023-05-30T20:14:05.336Z"
      },
      {
        "duration": 77,
        "start_time": "2023-05-30T20:14:05.472Z"
      },
      {
        "duration": 49,
        "start_time": "2023-05-30T20:14:05.551Z"
      },
      {
        "duration": 0,
        "start_time": "2023-05-30T20:14:05.602Z"
      },
      {
        "duration": 0,
        "start_time": "2023-05-30T20:14:05.603Z"
      },
      {
        "duration": 0,
        "start_time": "2023-05-30T20:14:05.604Z"
      },
      {
        "duration": 0,
        "start_time": "2023-05-30T20:14:05.605Z"
      },
      {
        "duration": 0,
        "start_time": "2023-05-30T20:14:05.606Z"
      },
      {
        "duration": 0,
        "start_time": "2023-05-30T20:14:05.607Z"
      },
      {
        "duration": 0,
        "start_time": "2023-05-30T20:14:05.608Z"
      },
      {
        "duration": 0,
        "start_time": "2023-05-30T20:14:05.609Z"
      },
      {
        "duration": 0,
        "start_time": "2023-05-30T20:14:05.610Z"
      },
      {
        "duration": 0,
        "start_time": "2023-05-30T20:14:05.611Z"
      },
      {
        "duration": 0,
        "start_time": "2023-05-30T20:14:05.612Z"
      },
      {
        "duration": 0,
        "start_time": "2023-05-30T20:14:05.612Z"
      },
      {
        "duration": 0,
        "start_time": "2023-05-30T20:14:05.613Z"
      },
      {
        "duration": 0,
        "start_time": "2023-05-30T20:14:05.614Z"
      },
      {
        "duration": 54,
        "start_time": "2023-05-30T20:15:16.425Z"
      },
      {
        "duration": 1924,
        "start_time": "2023-05-30T20:15:51.172Z"
      },
      {
        "duration": 1133,
        "start_time": "2023-05-30T20:15:53.098Z"
      },
      {
        "duration": 765,
        "start_time": "2023-05-30T20:15:54.232Z"
      },
      {
        "duration": 29,
        "start_time": "2023-05-30T20:15:54.998Z"
      },
      {
        "duration": 51,
        "start_time": "2023-05-30T20:15:55.029Z"
      },
      {
        "duration": 237,
        "start_time": "2023-05-30T20:15:55.081Z"
      },
      {
        "duration": 261,
        "start_time": "2023-05-30T20:15:55.319Z"
      },
      {
        "duration": 78,
        "start_time": "2023-05-30T20:15:55.582Z"
      },
      {
        "duration": 134,
        "start_time": "2023-05-30T20:15:55.661Z"
      },
      {
        "duration": 57,
        "start_time": "2023-05-30T20:15:55.797Z"
      },
      {
        "duration": 0,
        "start_time": "2023-05-30T20:15:55.856Z"
      },
      {
        "duration": 0,
        "start_time": "2023-05-30T20:15:55.857Z"
      },
      {
        "duration": 0,
        "start_time": "2023-05-30T20:15:55.858Z"
      },
      {
        "duration": 0,
        "start_time": "2023-05-30T20:15:55.859Z"
      },
      {
        "duration": 0,
        "start_time": "2023-05-30T20:15:55.860Z"
      },
      {
        "duration": 0,
        "start_time": "2023-05-30T20:15:55.862Z"
      },
      {
        "duration": 0,
        "start_time": "2023-05-30T20:15:55.863Z"
      },
      {
        "duration": 0,
        "start_time": "2023-05-30T20:15:55.864Z"
      },
      {
        "duration": 0,
        "start_time": "2023-05-30T20:15:55.865Z"
      },
      {
        "duration": 0,
        "start_time": "2023-05-30T20:15:55.867Z"
      },
      {
        "duration": 0,
        "start_time": "2023-05-30T20:15:55.868Z"
      },
      {
        "duration": 0,
        "start_time": "2023-05-30T20:15:55.870Z"
      },
      {
        "duration": 0,
        "start_time": "2023-05-30T20:15:55.870Z"
      },
      {
        "duration": 0,
        "start_time": "2023-05-30T20:15:55.872Z"
      },
      {
        "duration": 56,
        "start_time": "2023-05-30T20:16:18.216Z"
      },
      {
        "duration": 66,
        "start_time": "2023-05-30T20:16:37.373Z"
      },
      {
        "duration": 1836,
        "start_time": "2023-05-30T20:16:47.622Z"
      },
      {
        "duration": 1160,
        "start_time": "2023-05-30T20:16:49.461Z"
      },
      {
        "duration": 755,
        "start_time": "2023-05-30T20:16:50.624Z"
      },
      {
        "duration": 39,
        "start_time": "2023-05-30T20:16:51.381Z"
      },
      {
        "duration": 29,
        "start_time": "2023-05-30T20:16:51.422Z"
      },
      {
        "duration": 248,
        "start_time": "2023-05-30T20:16:51.453Z"
      },
      {
        "duration": 265,
        "start_time": "2023-05-30T20:16:51.703Z"
      },
      {
        "duration": 146,
        "start_time": "2023-05-30T20:16:51.969Z"
      },
      {
        "duration": 71,
        "start_time": "2023-05-30T20:16:52.116Z"
      },
      {
        "duration": 47,
        "start_time": "2023-05-30T20:16:52.188Z"
      },
      {
        "duration": 0,
        "start_time": "2023-05-30T20:16:52.238Z"
      },
      {
        "duration": 0,
        "start_time": "2023-05-30T20:16:52.238Z"
      },
      {
        "duration": 0,
        "start_time": "2023-05-30T20:16:52.240Z"
      },
      {
        "duration": 0,
        "start_time": "2023-05-30T20:16:52.241Z"
      },
      {
        "duration": 0,
        "start_time": "2023-05-30T20:16:52.242Z"
      },
      {
        "duration": 0,
        "start_time": "2023-05-30T20:16:52.243Z"
      },
      {
        "duration": 0,
        "start_time": "2023-05-30T20:16:52.244Z"
      },
      {
        "duration": 0,
        "start_time": "2023-05-30T20:16:52.245Z"
      },
      {
        "duration": 0,
        "start_time": "2023-05-30T20:16:52.246Z"
      },
      {
        "duration": 0,
        "start_time": "2023-05-30T20:16:52.247Z"
      },
      {
        "duration": 0,
        "start_time": "2023-05-30T20:16:52.248Z"
      },
      {
        "duration": 0,
        "start_time": "2023-05-30T20:16:52.249Z"
      },
      {
        "duration": 0,
        "start_time": "2023-05-30T20:16:52.250Z"
      },
      {
        "duration": 1,
        "start_time": "2023-05-30T20:16:52.250Z"
      },
      {
        "duration": 52,
        "start_time": "2023-05-30T20:17:14.586Z"
      },
      {
        "duration": 46,
        "start_time": "2023-05-30T20:17:23.946Z"
      },
      {
        "duration": 47,
        "start_time": "2023-05-30T20:17:39.446Z"
      },
      {
        "duration": 43,
        "start_time": "2023-05-30T20:17:51.001Z"
      },
      {
        "duration": 68,
        "start_time": "2023-05-30T20:18:03.025Z"
      },
      {
        "duration": 200,
        "start_time": "2023-05-30T20:20:01.644Z"
      },
      {
        "duration": 4,
        "start_time": "2023-05-30T20:20:35.257Z"
      },
      {
        "duration": 99,
        "start_time": "2023-05-30T20:20:41.032Z"
      },
      {
        "duration": 9,
        "start_time": "2023-05-30T20:22:04.049Z"
      },
      {
        "duration": 10,
        "start_time": "2023-05-30T20:22:25.275Z"
      },
      {
        "duration": 8,
        "start_time": "2023-05-30T20:22:40.241Z"
      },
      {
        "duration": 352,
        "start_time": "2023-05-30T20:23:47.400Z"
      },
      {
        "duration": 1793,
        "start_time": "2023-05-30T20:24:05.645Z"
      },
      {
        "duration": 1079,
        "start_time": "2023-05-30T20:24:07.440Z"
      },
      {
        "duration": 749,
        "start_time": "2023-05-30T20:24:08.521Z"
      },
      {
        "duration": 35,
        "start_time": "2023-05-30T20:24:09.272Z"
      },
      {
        "duration": 28,
        "start_time": "2023-05-30T20:24:09.309Z"
      },
      {
        "duration": 243,
        "start_time": "2023-05-30T20:24:09.339Z"
      },
      {
        "duration": 258,
        "start_time": "2023-05-30T20:24:09.583Z"
      },
      {
        "duration": 80,
        "start_time": "2023-05-30T20:24:09.842Z"
      },
      {
        "duration": 135,
        "start_time": "2023-05-30T20:24:09.924Z"
      },
      {
        "duration": 423,
        "start_time": "2023-05-30T20:24:10.061Z"
      },
      {
        "duration": 0,
        "start_time": "2023-05-30T20:24:10.485Z"
      },
      {
        "duration": 0,
        "start_time": "2023-05-30T20:24:10.487Z"
      },
      {
        "duration": 0,
        "start_time": "2023-05-30T20:24:10.488Z"
      },
      {
        "duration": 0,
        "start_time": "2023-05-30T20:24:10.490Z"
      },
      {
        "duration": 0,
        "start_time": "2023-05-30T20:24:10.491Z"
      },
      {
        "duration": 0,
        "start_time": "2023-05-30T20:24:10.492Z"
      },
      {
        "duration": 0,
        "start_time": "2023-05-30T20:24:10.493Z"
      },
      {
        "duration": 0,
        "start_time": "2023-05-30T20:24:10.494Z"
      },
      {
        "duration": 0,
        "start_time": "2023-05-30T20:24:10.495Z"
      },
      {
        "duration": 0,
        "start_time": "2023-05-30T20:24:10.496Z"
      },
      {
        "duration": 0,
        "start_time": "2023-05-30T20:24:10.497Z"
      },
      {
        "duration": 0,
        "start_time": "2023-05-30T20:24:10.498Z"
      },
      {
        "duration": 0,
        "start_time": "2023-05-30T20:24:10.499Z"
      },
      {
        "duration": 0,
        "start_time": "2023-05-30T20:24:10.500Z"
      },
      {
        "duration": 218,
        "start_time": "2023-05-30T20:24:28.443Z"
      },
      {
        "duration": 167,
        "start_time": "2023-05-30T20:24:35.122Z"
      },
      {
        "duration": 1729,
        "start_time": "2023-05-30T20:24:45.498Z"
      },
      {
        "duration": 1101,
        "start_time": "2023-05-30T20:24:47.229Z"
      },
      {
        "duration": 748,
        "start_time": "2023-05-30T20:24:48.333Z"
      },
      {
        "duration": 30,
        "start_time": "2023-05-30T20:24:49.083Z"
      },
      {
        "duration": 35,
        "start_time": "2023-05-30T20:24:49.115Z"
      },
      {
        "duration": 229,
        "start_time": "2023-05-30T20:24:49.152Z"
      },
      {
        "duration": 284,
        "start_time": "2023-05-30T20:24:49.382Z"
      },
      {
        "duration": 75,
        "start_time": "2023-05-30T20:24:49.668Z"
      },
      {
        "duration": 217,
        "start_time": "2023-05-30T20:24:49.745Z"
      },
      {
        "duration": 257,
        "start_time": "2023-05-30T20:24:49.963Z"
      },
      {
        "duration": 26,
        "start_time": "2023-05-30T20:24:50.222Z"
      },
      {
        "duration": 37,
        "start_time": "2023-05-30T20:24:50.250Z"
      },
      {
        "duration": 52,
        "start_time": "2023-05-30T20:24:50.289Z"
      },
      {
        "duration": 41,
        "start_time": "2023-05-30T20:24:50.344Z"
      },
      {
        "duration": 88,
        "start_time": "2023-05-30T20:24:50.386Z"
      },
      {
        "duration": 6,
        "start_time": "2023-05-30T20:24:50.475Z"
      },
      {
        "duration": 43,
        "start_time": "2023-05-30T20:24:50.483Z"
      },
      {
        "duration": 7,
        "start_time": "2023-05-30T20:24:50.528Z"
      },
      {
        "duration": 33,
        "start_time": "2023-05-30T20:24:50.536Z"
      },
      {
        "duration": 8,
        "start_time": "2023-05-30T20:24:50.570Z"
      },
      {
        "duration": 43,
        "start_time": "2023-05-30T20:24:50.579Z"
      },
      {
        "duration": 614,
        "start_time": "2023-05-30T20:24:50.624Z"
      },
      {
        "duration": 621,
        "start_time": "2023-05-30T20:24:51.239Z"
      },
      {
        "duration": 129,
        "start_time": "2023-05-30T20:24:51.862Z"
      },
      {
        "duration": 104,
        "start_time": "2023-05-30T20:28:02.608Z"
      },
      {
        "duration": 1846,
        "start_time": "2023-05-30T20:28:25.890Z"
      },
      {
        "duration": 1068,
        "start_time": "2023-05-30T20:28:27.738Z"
      },
      {
        "duration": 770,
        "start_time": "2023-05-30T20:28:28.808Z"
      },
      {
        "duration": 33,
        "start_time": "2023-05-30T20:28:29.580Z"
      },
      {
        "duration": 34,
        "start_time": "2023-05-30T20:28:29.615Z"
      },
      {
        "duration": 234,
        "start_time": "2023-05-30T20:28:29.651Z"
      },
      {
        "duration": 271,
        "start_time": "2023-05-30T20:28:29.887Z"
      },
      {
        "duration": 79,
        "start_time": "2023-05-30T20:28:30.159Z"
      },
      {
        "duration": 95,
        "start_time": "2023-05-30T20:28:30.240Z"
      },
      {
        "duration": 251,
        "start_time": "2023-05-30T20:28:30.398Z"
      },
      {
        "duration": 28,
        "start_time": "2023-05-30T20:28:30.650Z"
      },
      {
        "duration": 93,
        "start_time": "2023-05-30T20:28:30.680Z"
      },
      {
        "duration": 76,
        "start_time": "2023-05-30T20:28:30.775Z"
      },
      {
        "duration": 95,
        "start_time": "2023-05-30T20:28:30.852Z"
      },
      {
        "duration": 83,
        "start_time": "2023-05-30T20:28:30.948Z"
      },
      {
        "duration": 8,
        "start_time": "2023-05-30T20:28:31.032Z"
      },
      {
        "duration": 57,
        "start_time": "2023-05-30T20:28:31.041Z"
      },
      {
        "duration": 22,
        "start_time": "2023-05-30T20:28:31.100Z"
      },
      {
        "duration": 61,
        "start_time": "2023-05-30T20:28:31.124Z"
      },
      {
        "duration": 49,
        "start_time": "2023-05-30T20:28:31.187Z"
      },
      {
        "duration": 52,
        "start_time": "2023-05-30T20:28:31.237Z"
      },
      {
        "duration": 661,
        "start_time": "2023-05-30T20:28:31.291Z"
      },
      {
        "duration": 648,
        "start_time": "2023-05-30T20:28:31.954Z"
      },
      {
        "duration": 132,
        "start_time": "2023-05-30T20:28:32.606Z"
      },
      {
        "duration": 903,
        "start_time": "2023-05-30T20:29:39.797Z"
      },
      {
        "duration": 1781,
        "start_time": "2023-05-30T20:29:53.389Z"
      },
      {
        "duration": 1037,
        "start_time": "2023-05-30T20:29:55.173Z"
      },
      {
        "duration": 756,
        "start_time": "2023-05-30T20:29:56.211Z"
      },
      {
        "duration": 27,
        "start_time": "2023-05-30T20:29:56.969Z"
      },
      {
        "duration": 35,
        "start_time": "2023-05-30T20:29:56.998Z"
      },
      {
        "duration": 236,
        "start_time": "2023-05-30T20:29:57.035Z"
      },
      {
        "duration": 254,
        "start_time": "2023-05-30T20:29:57.273Z"
      },
      {
        "duration": 79,
        "start_time": "2023-05-30T20:29:57.528Z"
      },
      {
        "duration": 122,
        "start_time": "2023-05-30T20:29:57.609Z"
      },
      {
        "duration": 207,
        "start_time": "2023-05-30T20:29:57.732Z"
      },
      {
        "duration": 27,
        "start_time": "2023-05-30T20:29:57.940Z"
      },
      {
        "duration": 51,
        "start_time": "2023-05-30T20:29:57.968Z"
      },
      {
        "duration": 37,
        "start_time": "2023-05-30T20:29:58.020Z"
      },
      {
        "duration": 53,
        "start_time": "2023-05-30T20:29:58.059Z"
      },
      {
        "duration": 68,
        "start_time": "2023-05-30T20:29:58.114Z"
      },
      {
        "duration": 5,
        "start_time": "2023-05-30T20:29:58.184Z"
      },
      {
        "duration": 42,
        "start_time": "2023-05-30T20:29:58.190Z"
      },
      {
        "duration": 6,
        "start_time": "2023-05-30T20:29:58.234Z"
      },
      {
        "duration": 29,
        "start_time": "2023-05-30T20:29:58.241Z"
      },
      {
        "duration": 8,
        "start_time": "2023-05-30T20:29:58.271Z"
      },
      {
        "duration": 43,
        "start_time": "2023-05-30T20:29:58.280Z"
      },
      {
        "duration": 583,
        "start_time": "2023-05-30T20:29:58.324Z"
      },
      {
        "duration": 620,
        "start_time": "2023-05-30T20:29:58.908Z"
      },
      {
        "duration": 118,
        "start_time": "2023-05-30T20:29:59.530Z"
      },
      {
        "duration": 842,
        "start_time": "2023-05-30T20:31:56.552Z"
      },
      {
        "duration": 1802,
        "start_time": "2023-05-30T20:32:13.588Z"
      },
      {
        "duration": 1134,
        "start_time": "2023-05-30T20:32:15.392Z"
      },
      {
        "duration": 774,
        "start_time": "2023-05-30T20:32:16.527Z"
      },
      {
        "duration": 30,
        "start_time": "2023-05-30T20:32:17.303Z"
      },
      {
        "duration": 28,
        "start_time": "2023-05-30T20:32:17.335Z"
      },
      {
        "duration": 243,
        "start_time": "2023-05-30T20:32:17.364Z"
      },
      {
        "duration": 259,
        "start_time": "2023-05-30T20:32:17.608Z"
      },
      {
        "duration": 79,
        "start_time": "2023-05-30T20:32:17.868Z"
      },
      {
        "duration": 81,
        "start_time": "2023-05-30T20:32:17.949Z"
      },
      {
        "duration": 208,
        "start_time": "2023-05-30T20:32:18.087Z"
      },
      {
        "duration": 33,
        "start_time": "2023-05-30T20:32:18.297Z"
      },
      {
        "duration": 38,
        "start_time": "2023-05-30T20:32:18.331Z"
      },
      {
        "duration": 51,
        "start_time": "2023-05-30T20:32:18.371Z"
      },
      {
        "duration": 25,
        "start_time": "2023-05-30T20:32:18.424Z"
      },
      {
        "duration": 93,
        "start_time": "2023-05-30T20:32:18.450Z"
      },
      {
        "duration": 6,
        "start_time": "2023-05-30T20:32:18.545Z"
      },
      {
        "duration": 31,
        "start_time": "2023-05-30T20:32:18.552Z"
      },
      {
        "duration": 7,
        "start_time": "2023-05-30T20:32:18.585Z"
      },
      {
        "duration": 48,
        "start_time": "2023-05-30T20:32:18.593Z"
      },
      {
        "duration": 11,
        "start_time": "2023-05-30T20:32:18.643Z"
      },
      {
        "duration": 23,
        "start_time": "2023-05-30T20:32:18.655Z"
      },
      {
        "duration": 649,
        "start_time": "2023-05-30T20:32:18.679Z"
      },
      {
        "duration": 651,
        "start_time": "2023-05-30T20:32:19.330Z"
      },
      {
        "duration": 127,
        "start_time": "2023-05-30T20:32:19.983Z"
      },
      {
        "duration": 70,
        "start_time": "2023-05-30T20:39:35.324Z"
      },
      {
        "duration": 506,
        "start_time": "2023-05-30T20:39:46.067Z"
      },
      {
        "duration": 129,
        "start_time": "2023-05-30T20:41:15.578Z"
      },
      {
        "duration": 1830,
        "start_time": "2023-05-30T20:41:29.922Z"
      },
      {
        "duration": 1145,
        "start_time": "2023-05-30T20:41:31.754Z"
      },
      {
        "duration": 821,
        "start_time": "2023-05-30T20:41:32.902Z"
      },
      {
        "duration": 29,
        "start_time": "2023-05-30T20:41:33.726Z"
      },
      {
        "duration": 30,
        "start_time": "2023-05-30T20:41:33.757Z"
      },
      {
        "duration": 267,
        "start_time": "2023-05-30T20:41:33.789Z"
      },
      {
        "duration": 286,
        "start_time": "2023-05-30T20:41:34.058Z"
      },
      {
        "duration": 85,
        "start_time": "2023-05-30T20:41:34.346Z"
      },
      {
        "duration": 98,
        "start_time": "2023-05-30T20:41:34.433Z"
      },
      {
        "duration": 237,
        "start_time": "2023-05-30T20:41:34.591Z"
      },
      {
        "duration": 30,
        "start_time": "2023-05-30T20:41:34.830Z"
      },
      {
        "duration": 58,
        "start_time": "2023-05-30T20:41:34.861Z"
      },
      {
        "duration": 42,
        "start_time": "2023-05-30T20:41:34.921Z"
      },
      {
        "duration": 46,
        "start_time": "2023-05-30T20:41:34.964Z"
      },
      {
        "duration": 83,
        "start_time": "2023-05-30T20:41:35.012Z"
      },
      {
        "duration": 368,
        "start_time": "2023-05-30T20:41:35.107Z"
      },
      {
        "duration": 0,
        "start_time": "2023-05-30T20:41:35.476Z"
      },
      {
        "duration": 0,
        "start_time": "2023-05-30T20:41:35.477Z"
      },
      {
        "duration": 0,
        "start_time": "2023-05-30T20:41:35.478Z"
      },
      {
        "duration": 0,
        "start_time": "2023-05-30T20:41:35.479Z"
      },
      {
        "duration": 0,
        "start_time": "2023-05-30T20:41:35.480Z"
      },
      {
        "duration": 0,
        "start_time": "2023-05-30T20:41:35.481Z"
      },
      {
        "duration": 0,
        "start_time": "2023-05-30T20:41:35.482Z"
      },
      {
        "duration": 0,
        "start_time": "2023-05-30T20:41:35.483Z"
      },
      {
        "duration": 129,
        "start_time": "2023-05-30T20:41:51.307Z"
      },
      {
        "duration": 9,
        "start_time": "2023-05-30T20:42:14.664Z"
      },
      {
        "duration": 1732,
        "start_time": "2023-05-30T20:42:43.372Z"
      },
      {
        "duration": 1281,
        "start_time": "2023-05-30T20:42:45.106Z"
      },
      {
        "duration": 734,
        "start_time": "2023-05-30T20:42:46.391Z"
      },
      {
        "duration": 30,
        "start_time": "2023-05-30T20:42:47.127Z"
      },
      {
        "duration": 34,
        "start_time": "2023-05-30T20:42:47.159Z"
      },
      {
        "duration": 257,
        "start_time": "2023-05-30T20:42:47.195Z"
      },
      {
        "duration": 263,
        "start_time": "2023-05-30T20:42:47.454Z"
      },
      {
        "duration": 76,
        "start_time": "2023-05-30T20:42:47.719Z"
      },
      {
        "duration": 68,
        "start_time": "2023-05-30T20:42:47.806Z"
      },
      {
        "duration": 210,
        "start_time": "2023-05-30T20:42:47.875Z"
      },
      {
        "duration": 35,
        "start_time": "2023-05-30T20:42:48.087Z"
      },
      {
        "duration": 39,
        "start_time": "2023-05-30T20:42:48.123Z"
      },
      {
        "duration": 55,
        "start_time": "2023-05-30T20:42:48.164Z"
      },
      {
        "duration": 26,
        "start_time": "2023-05-30T20:42:48.221Z"
      },
      {
        "duration": 84,
        "start_time": "2023-05-30T20:42:48.249Z"
      },
      {
        "duration": 256,
        "start_time": "2023-05-30T20:42:48.334Z"
      },
      {
        "duration": 0,
        "start_time": "2023-05-30T20:42:48.592Z"
      },
      {
        "duration": 0,
        "start_time": "2023-05-30T20:42:48.593Z"
      },
      {
        "duration": 0,
        "start_time": "2023-05-30T20:42:48.595Z"
      },
      {
        "duration": 0,
        "start_time": "2023-05-30T20:42:48.607Z"
      },
      {
        "duration": 0,
        "start_time": "2023-05-30T20:42:48.608Z"
      },
      {
        "duration": 0,
        "start_time": "2023-05-30T20:42:48.610Z"
      },
      {
        "duration": 0,
        "start_time": "2023-05-30T20:42:48.611Z"
      },
      {
        "duration": 0,
        "start_time": "2023-05-30T20:42:48.612Z"
      },
      {
        "duration": 148,
        "start_time": "2023-05-30T20:43:20.214Z"
      },
      {
        "duration": 244,
        "start_time": "2023-05-30T20:43:25.750Z"
      },
      {
        "duration": 317,
        "start_time": "2023-05-30T20:43:41.691Z"
      },
      {
        "duration": 215,
        "start_time": "2023-05-30T20:43:49.782Z"
      },
      {
        "duration": 217,
        "start_time": "2023-05-30T20:43:57.456Z"
      },
      {
        "duration": 215,
        "start_time": "2023-05-30T20:44:06.170Z"
      },
      {
        "duration": 229,
        "start_time": "2023-05-30T20:44:11.654Z"
      },
      {
        "duration": 1761,
        "start_time": "2023-05-30T20:44:19.195Z"
      },
      {
        "duration": 1251,
        "start_time": "2023-05-30T20:44:20.958Z"
      },
      {
        "duration": 825,
        "start_time": "2023-05-30T20:44:22.211Z"
      },
      {
        "duration": 31,
        "start_time": "2023-05-30T20:44:23.037Z"
      },
      {
        "duration": 39,
        "start_time": "2023-05-30T20:44:23.070Z"
      },
      {
        "duration": 239,
        "start_time": "2023-05-30T20:44:23.111Z"
      },
      {
        "duration": 259,
        "start_time": "2023-05-30T20:44:23.352Z"
      },
      {
        "duration": 78,
        "start_time": "2023-05-30T20:44:23.613Z"
      },
      {
        "duration": 79,
        "start_time": "2023-05-30T20:44:23.692Z"
      },
      {
        "duration": 230,
        "start_time": "2023-05-30T20:44:23.773Z"
      },
      {
        "duration": 33,
        "start_time": "2023-05-30T20:44:24.006Z"
      },
      {
        "duration": 39,
        "start_time": "2023-05-30T20:44:24.040Z"
      },
      {
        "duration": 58,
        "start_time": "2023-05-30T20:44:24.081Z"
      },
      {
        "duration": 27,
        "start_time": "2023-05-30T20:44:24.142Z"
      },
      {
        "duration": 106,
        "start_time": "2023-05-30T20:44:24.171Z"
      },
      {
        "duration": 344,
        "start_time": "2023-05-30T20:44:24.279Z"
      },
      {
        "duration": 0,
        "start_time": "2023-05-30T20:44:24.625Z"
      },
      {
        "duration": 0,
        "start_time": "2023-05-30T20:44:24.627Z"
      },
      {
        "duration": 1,
        "start_time": "2023-05-30T20:44:24.628Z"
      },
      {
        "duration": 0,
        "start_time": "2023-05-30T20:44:24.630Z"
      },
      {
        "duration": 0,
        "start_time": "2023-05-30T20:44:24.632Z"
      },
      {
        "duration": 0,
        "start_time": "2023-05-30T20:44:24.635Z"
      },
      {
        "duration": 0,
        "start_time": "2023-05-30T20:44:24.637Z"
      },
      {
        "duration": 0,
        "start_time": "2023-05-30T20:44:24.639Z"
      },
      {
        "duration": 1095,
        "start_time": "2023-05-30T20:46:08.903Z"
      },
      {
        "duration": 1229,
        "start_time": "2023-05-30T20:46:32.779Z"
      },
      {
        "duration": 1082,
        "start_time": "2023-05-30T20:46:56.491Z"
      },
      {
        "duration": 199,
        "start_time": "2023-05-30T20:47:08.399Z"
      },
      {
        "duration": 202,
        "start_time": "2023-05-30T20:47:13.995Z"
      },
      {
        "duration": 192,
        "start_time": "2023-05-30T20:47:19.550Z"
      },
      {
        "duration": 287,
        "start_time": "2023-05-30T20:47:28.177Z"
      },
      {
        "duration": 233,
        "start_time": "2023-05-30T20:47:32.199Z"
      },
      {
        "duration": 213,
        "start_time": "2023-05-30T20:47:55.305Z"
      },
      {
        "duration": 215,
        "start_time": "2023-05-30T20:48:02.725Z"
      },
      {
        "duration": 226,
        "start_time": "2023-05-30T20:48:18.604Z"
      },
      {
        "duration": 217,
        "start_time": "2023-05-30T20:48:28.254Z"
      },
      {
        "duration": 236,
        "start_time": "2023-05-30T20:48:40.895Z"
      },
      {
        "duration": 150,
        "start_time": "2023-05-30T20:49:18.304Z"
      },
      {
        "duration": 147,
        "start_time": "2023-05-30T20:49:35.795Z"
      },
      {
        "duration": 153,
        "start_time": "2023-05-30T20:49:43.810Z"
      },
      {
        "duration": 130,
        "start_time": "2023-05-30T20:49:55.352Z"
      },
      {
        "duration": 136,
        "start_time": "2023-05-30T20:50:05.907Z"
      },
      {
        "duration": 140,
        "start_time": "2023-05-30T20:50:18.494Z"
      },
      {
        "duration": 9,
        "start_time": "2023-05-30T20:50:52.054Z"
      },
      {
        "duration": 121,
        "start_time": "2023-05-30T20:51:05.455Z"
      },
      {
        "duration": 135,
        "start_time": "2023-05-30T20:51:40.503Z"
      },
      {
        "duration": 131,
        "start_time": "2023-05-30T20:51:46.887Z"
      },
      {
        "duration": 412,
        "start_time": "2023-05-30T20:51:59.155Z"
      },
      {
        "duration": 357,
        "start_time": "2023-05-30T20:52:22.520Z"
      },
      {
        "duration": 323,
        "start_time": "2023-05-30T20:52:51.983Z"
      },
      {
        "duration": 324,
        "start_time": "2023-05-30T20:53:07.691Z"
      },
      {
        "duration": 572,
        "start_time": "2023-05-30T20:53:14.145Z"
      },
      {
        "duration": 328,
        "start_time": "2023-05-30T20:55:33.410Z"
      },
      {
        "duration": 790,
        "start_time": "2023-05-30T20:58:50.854Z"
      },
      {
        "duration": 6,
        "start_time": "2023-05-30T20:59:04.983Z"
      },
      {
        "duration": 1678,
        "start_time": "2023-05-30T20:59:17.792Z"
      },
      {
        "duration": 1721,
        "start_time": "2023-05-30T20:59:36.035Z"
      },
      {
        "duration": 1845,
        "start_time": "2023-05-30T20:59:45.317Z"
      },
      {
        "duration": 1674,
        "start_time": "2023-05-30T20:59:55.820Z"
      },
      {
        "duration": 5,
        "start_time": "2023-05-30T21:00:01.908Z"
      },
      {
        "duration": 56,
        "start_time": "2023-05-30T21:00:14.595Z"
      },
      {
        "duration": 27,
        "start_time": "2023-05-30T21:00:44.607Z"
      },
      {
        "duration": 333,
        "start_time": "2023-05-30T21:01:25.302Z"
      },
      {
        "duration": 22,
        "start_time": "2023-05-30T21:02:56.083Z"
      },
      {
        "duration": 335,
        "start_time": "2023-05-30T21:04:53.183Z"
      },
      {
        "duration": 465,
        "start_time": "2023-05-30T21:05:01.406Z"
      },
      {
        "duration": 381,
        "start_time": "2023-05-30T21:05:14.549Z"
      },
      {
        "duration": 2206,
        "start_time": "2023-05-30T21:05:19.005Z"
      },
      {
        "duration": 31,
        "start_time": "2023-05-30T21:06:56.045Z"
      },
      {
        "duration": 34,
        "start_time": "2023-05-30T21:09:24.384Z"
      },
      {
        "duration": 1743,
        "start_time": "2023-05-30T21:09:41.454Z"
      },
      {
        "duration": 1241,
        "start_time": "2023-05-30T21:09:43.200Z"
      },
      {
        "duration": 739,
        "start_time": "2023-05-30T21:09:44.443Z"
      },
      {
        "duration": 31,
        "start_time": "2023-05-30T21:09:45.183Z"
      },
      {
        "duration": 26,
        "start_time": "2023-05-30T21:09:45.216Z"
      },
      {
        "duration": 239,
        "start_time": "2023-05-30T21:09:45.244Z"
      },
      {
        "duration": 257,
        "start_time": "2023-05-30T21:09:45.485Z"
      },
      {
        "duration": 82,
        "start_time": "2023-05-30T21:09:45.744Z"
      },
      {
        "duration": 79,
        "start_time": "2023-05-30T21:09:45.828Z"
      },
      {
        "duration": 198,
        "start_time": "2023-05-30T21:09:45.908Z"
      },
      {
        "duration": 26,
        "start_time": "2023-05-30T21:09:46.108Z"
      },
      {
        "duration": 38,
        "start_time": "2023-05-30T21:09:46.135Z"
      },
      {
        "duration": 51,
        "start_time": "2023-05-30T21:09:46.175Z"
      },
      {
        "duration": 24,
        "start_time": "2023-05-30T21:09:46.228Z"
      },
      {
        "duration": 90,
        "start_time": "2023-05-30T21:09:46.254Z"
      },
      {
        "duration": 2157,
        "start_time": "2023-05-30T21:09:46.346Z"
      },
      {
        "duration": 22,
        "start_time": "2023-05-30T21:09:48.505Z"
      },
      {
        "duration": 28,
        "start_time": "2023-05-30T21:09:48.528Z"
      },
      {
        "duration": 7,
        "start_time": "2023-05-30T21:09:48.558Z"
      },
      {
        "duration": 52,
        "start_time": "2023-05-30T21:09:48.566Z"
      },
      {
        "duration": 8,
        "start_time": "2023-05-30T21:09:48.620Z"
      },
      {
        "duration": 19,
        "start_time": "2023-05-30T21:09:48.629Z"
      },
      {
        "duration": 529,
        "start_time": "2023-05-30T21:09:48.650Z"
      },
      {
        "duration": 528,
        "start_time": "2023-05-30T21:09:49.181Z"
      },
      {
        "duration": 114,
        "start_time": "2023-05-30T21:09:49.711Z"
      },
      {
        "duration": 2824,
        "start_time": "2023-05-30T21:11:31.442Z"
      },
      {
        "duration": 2382,
        "start_time": "2023-05-30T21:11:41.767Z"
      },
      {
        "duration": 650,
        "start_time": "2023-05-30T21:11:54.016Z"
      },
      {
        "duration": 341,
        "start_time": "2023-05-30T21:12:25.380Z"
      },
      {
        "duration": 316,
        "start_time": "2023-05-30T21:12:56.837Z"
      },
      {
        "duration": 54,
        "start_time": "2023-05-30T21:14:08.822Z"
      },
      {
        "duration": 2372,
        "start_time": "2023-05-31T09:47:47.996Z"
      },
      {
        "duration": 1535,
        "start_time": "2023-05-31T09:47:50.370Z"
      },
      {
        "duration": 1054,
        "start_time": "2023-05-31T09:47:51.907Z"
      },
      {
        "duration": 33,
        "start_time": "2023-05-31T09:47:52.963Z"
      },
      {
        "duration": 38,
        "start_time": "2023-05-31T09:47:52.998Z"
      },
      {
        "duration": 288,
        "start_time": "2023-05-31T09:47:53.038Z"
      },
      {
        "duration": 267,
        "start_time": "2023-05-31T09:47:53.328Z"
      },
      {
        "duration": 120,
        "start_time": "2023-05-31T09:47:53.596Z"
      },
      {
        "duration": 118,
        "start_time": "2023-05-31T09:47:53.724Z"
      },
      {
        "duration": 214,
        "start_time": "2023-05-31T09:47:53.844Z"
      },
      {
        "duration": 37,
        "start_time": "2023-05-31T09:47:54.060Z"
      },
      {
        "duration": 63,
        "start_time": "2023-05-31T09:47:54.099Z"
      },
      {
        "duration": 65,
        "start_time": "2023-05-31T09:47:54.164Z"
      },
      {
        "duration": 34,
        "start_time": "2023-05-31T09:47:54.231Z"
      },
      {
        "duration": 94,
        "start_time": "2023-05-31T09:47:54.267Z"
      },
      {
        "duration": 2405,
        "start_time": "2023-05-31T09:47:54.363Z"
      },
      {
        "duration": 28,
        "start_time": "2023-05-31T09:47:56.770Z"
      },
      {
        "duration": 346,
        "start_time": "2023-05-31T09:47:56.800Z"
      },
      {
        "duration": 33,
        "start_time": "2023-05-31T09:47:57.148Z"
      },
      {
        "duration": 7,
        "start_time": "2023-05-31T09:47:57.183Z"
      },
      {
        "duration": 43,
        "start_time": "2023-05-31T09:47:57.192Z"
      },
      {
        "duration": 562,
        "start_time": "2023-05-31T09:47:57.236Z"
      },
      {
        "duration": 552,
        "start_time": "2023-05-31T09:47:57.800Z"
      },
      {
        "duration": 145,
        "start_time": "2023-05-31T09:47:58.354Z"
      },
      {
        "duration": 170,
        "start_time": "2023-05-31T10:11:34.638Z"
      },
      {
        "duration": 2469,
        "start_time": "2023-05-31T10:11:41.916Z"
      },
      {
        "duration": 1544,
        "start_time": "2023-05-31T10:11:44.388Z"
      },
      {
        "duration": 851,
        "start_time": "2023-05-31T10:11:45.934Z"
      },
      {
        "duration": 39,
        "start_time": "2023-05-31T10:11:46.787Z"
      },
      {
        "duration": 111,
        "start_time": "2023-05-31T10:11:46.829Z"
      },
      {
        "duration": 314,
        "start_time": "2023-05-31T10:11:46.942Z"
      },
      {
        "duration": 302,
        "start_time": "2023-05-31T10:11:47.258Z"
      },
      {
        "duration": 106,
        "start_time": "2023-05-31T10:11:47.562Z"
      },
      {
        "duration": 117,
        "start_time": "2023-05-31T10:11:47.669Z"
      },
      {
        "duration": 251,
        "start_time": "2023-05-31T10:11:47.788Z"
      },
      {
        "duration": 33,
        "start_time": "2023-05-31T10:11:48.040Z"
      },
      {
        "duration": 68,
        "start_time": "2023-05-31T10:11:48.075Z"
      },
      {
        "duration": 55,
        "start_time": "2023-05-31T10:11:48.145Z"
      },
      {
        "duration": 36,
        "start_time": "2023-05-31T10:11:48.203Z"
      },
      {
        "duration": 93,
        "start_time": "2023-05-31T10:11:48.240Z"
      },
      {
        "duration": 2709,
        "start_time": "2023-05-31T10:11:48.335Z"
      },
      {
        "duration": 38,
        "start_time": "2023-05-31T10:11:51.046Z"
      },
      {
        "duration": 401,
        "start_time": "2023-05-31T10:11:51.086Z"
      },
      {
        "duration": 55,
        "start_time": "2023-05-31T10:11:51.489Z"
      },
      {
        "duration": 12,
        "start_time": "2023-05-31T10:11:51.546Z"
      },
      {
        "duration": 174,
        "start_time": "2023-05-31T10:11:51.560Z"
      },
      {
        "duration": 687,
        "start_time": "2023-05-31T10:11:51.737Z"
      },
      {
        "duration": 584,
        "start_time": "2023-05-31T10:11:52.426Z"
      },
      {
        "duration": 152,
        "start_time": "2023-05-31T10:11:53.011Z"
      },
      {
        "duration": 2171,
        "start_time": "2023-05-31T10:14:16.976Z"
      },
      {
        "duration": 1448,
        "start_time": "2023-05-31T10:14:19.149Z"
      },
      {
        "duration": 843,
        "start_time": "2023-05-31T10:14:20.599Z"
      },
      {
        "duration": 31,
        "start_time": "2023-05-31T10:14:21.444Z"
      },
      {
        "duration": 41,
        "start_time": "2023-05-31T10:14:21.477Z"
      },
      {
        "duration": 265,
        "start_time": "2023-05-31T10:14:21.524Z"
      },
      {
        "duration": 288,
        "start_time": "2023-05-31T10:14:21.791Z"
      },
      {
        "duration": 110,
        "start_time": "2023-05-31T10:14:22.081Z"
      },
      {
        "duration": 104,
        "start_time": "2023-05-31T10:14:22.193Z"
      },
      {
        "duration": 239,
        "start_time": "2023-05-31T10:14:22.298Z"
      },
      {
        "duration": 38,
        "start_time": "2023-05-31T10:14:22.538Z"
      },
      {
        "duration": 62,
        "start_time": "2023-05-31T10:14:22.577Z"
      },
      {
        "duration": 47,
        "start_time": "2023-05-31T10:14:22.641Z"
      },
      {
        "duration": 49,
        "start_time": "2023-05-31T10:14:22.690Z"
      },
      {
        "duration": 94,
        "start_time": "2023-05-31T10:14:22.741Z"
      },
      {
        "duration": 2706,
        "start_time": "2023-05-31T10:14:22.837Z"
      },
      {
        "duration": 35,
        "start_time": "2023-05-31T10:14:25.545Z"
      },
      {
        "duration": 405,
        "start_time": "2023-05-31T10:14:25.582Z"
      },
      {
        "duration": 51,
        "start_time": "2023-05-31T10:14:25.989Z"
      },
      {
        "duration": 11,
        "start_time": "2023-05-31T10:14:26.042Z"
      },
      {
        "duration": 56,
        "start_time": "2023-05-31T10:14:26.054Z"
      },
      {
        "duration": 575,
        "start_time": "2023-05-31T10:14:26.111Z"
      },
      {
        "duration": 2,
        "start_time": "2023-05-31T10:14:26.688Z"
      },
      {
        "duration": 557,
        "start_time": "2023-05-31T10:14:26.692Z"
      },
      {
        "duration": 155,
        "start_time": "2023-05-31T10:14:27.251Z"
      },
      {
        "duration": 621,
        "start_time": "2023-05-31T10:16:21.002Z"
      },
      {
        "duration": 609,
        "start_time": "2023-05-31T10:16:30.008Z"
      },
      {
        "duration": 671,
        "start_time": "2023-05-31T10:16:43.758Z"
      },
      {
        "duration": 764,
        "start_time": "2023-05-31T10:18:12.098Z"
      },
      {
        "duration": 1133,
        "start_time": "2023-05-31T10:21:09.076Z"
      },
      {
        "duration": 2275,
        "start_time": "2023-05-31T10:29:39.213Z"
      },
      {
        "duration": 1438,
        "start_time": "2023-05-31T10:29:41.492Z"
      },
      {
        "duration": 921,
        "start_time": "2023-05-31T10:29:42.932Z"
      },
      {
        "duration": 30,
        "start_time": "2023-05-31T10:29:43.855Z"
      },
      {
        "duration": 39,
        "start_time": "2023-05-31T10:29:43.886Z"
      },
      {
        "duration": 276,
        "start_time": "2023-05-31T10:29:43.927Z"
      },
      {
        "duration": 338,
        "start_time": "2023-05-31T10:29:44.205Z"
      },
      {
        "duration": 119,
        "start_time": "2023-05-31T10:29:44.544Z"
      },
      {
        "duration": 142,
        "start_time": "2023-05-31T10:29:44.665Z"
      },
      {
        "duration": 296,
        "start_time": "2023-05-31T10:29:44.810Z"
      },
      {
        "duration": 43,
        "start_time": "2023-05-31T10:29:45.108Z"
      },
      {
        "duration": 65,
        "start_time": "2023-05-31T10:29:45.153Z"
      },
      {
        "duration": 61,
        "start_time": "2023-05-31T10:29:45.224Z"
      },
      {
        "duration": 55,
        "start_time": "2023-05-31T10:29:45.287Z"
      },
      {
        "duration": 95,
        "start_time": "2023-05-31T10:29:45.344Z"
      },
      {
        "duration": 2821,
        "start_time": "2023-05-31T10:29:45.441Z"
      },
      {
        "duration": 31,
        "start_time": "2023-05-31T10:29:48.263Z"
      },
      {
        "duration": 407,
        "start_time": "2023-05-31T10:29:48.296Z"
      },
      {
        "duration": 44,
        "start_time": "2023-05-31T10:29:48.704Z"
      },
      {
        "duration": 9,
        "start_time": "2023-05-31T10:29:48.749Z"
      },
      {
        "duration": 22,
        "start_time": "2023-05-31T10:29:48.759Z"
      },
      {
        "duration": 575,
        "start_time": "2023-05-31T10:29:48.782Z"
      },
      {
        "duration": 1152,
        "start_time": "2023-05-31T10:29:49.358Z"
      },
      {
        "duration": 560,
        "start_time": "2023-05-31T10:29:50.511Z"
      },
      {
        "duration": 141,
        "start_time": "2023-05-31T10:29:51.073Z"
      },
      {
        "duration": 1063,
        "start_time": "2023-05-31T10:30:19.730Z"
      },
      {
        "duration": 130,
        "start_time": "2023-05-31T10:37:36.210Z"
      },
      {
        "duration": 2476,
        "start_time": "2023-05-31T10:37:51.990Z"
      },
      {
        "duration": 1469,
        "start_time": "2023-05-31T10:37:54.468Z"
      },
      {
        "duration": 923,
        "start_time": "2023-05-31T10:37:55.939Z"
      },
      {
        "duration": 26,
        "start_time": "2023-05-31T10:37:56.864Z"
      },
      {
        "duration": 101,
        "start_time": "2023-05-31T10:37:56.891Z"
      },
      {
        "duration": 298,
        "start_time": "2023-05-31T10:37:56.994Z"
      },
      {
        "duration": 336,
        "start_time": "2023-05-31T10:37:57.294Z"
      },
      {
        "duration": 122,
        "start_time": "2023-05-31T10:37:57.632Z"
      },
      {
        "duration": 124,
        "start_time": "2023-05-31T10:37:57.755Z"
      },
      {
        "duration": 340,
        "start_time": "2023-05-31T10:37:57.882Z"
      },
      {
        "duration": 44,
        "start_time": "2023-05-31T10:37:58.229Z"
      },
      {
        "duration": 71,
        "start_time": "2023-05-31T10:37:58.274Z"
      },
      {
        "duration": 74,
        "start_time": "2023-05-31T10:37:58.347Z"
      },
      {
        "duration": 48,
        "start_time": "2023-05-31T10:37:58.423Z"
      },
      {
        "duration": 105,
        "start_time": "2023-05-31T10:37:58.473Z"
      },
      {
        "duration": 2831,
        "start_time": "2023-05-31T10:37:58.579Z"
      },
      {
        "duration": 39,
        "start_time": "2023-05-31T10:38:01.412Z"
      },
      {
        "duration": 635,
        "start_time": "2023-05-31T10:38:01.453Z"
      },
      {
        "duration": 46,
        "start_time": "2023-05-31T10:38:02.090Z"
      },
      {
        "duration": 63,
        "start_time": "2023-05-31T10:38:02.138Z"
      },
      {
        "duration": 42,
        "start_time": "2023-05-31T10:38:02.202Z"
      },
      {
        "duration": 600,
        "start_time": "2023-05-31T10:38:02.245Z"
      },
      {
        "duration": 134,
        "start_time": "2023-05-31T10:38:02.847Z"
      },
      {
        "duration": 0,
        "start_time": "2023-05-31T10:38:02.983Z"
      },
      {
        "duration": 0,
        "start_time": "2023-05-31T10:38:02.984Z"
      },
      {
        "duration": 1263,
        "start_time": "2023-05-31T10:38:27.116Z"
      },
      {
        "duration": 137,
        "start_time": "2023-05-31T10:40:49.084Z"
      },
      {
        "duration": 448,
        "start_time": "2023-05-31T10:41:14.321Z"
      },
      {
        "duration": 797,
        "start_time": "2023-05-31T10:41:25.043Z"
      },
      {
        "duration": 755,
        "start_time": "2023-05-31T10:41:33.187Z"
      },
      {
        "duration": 767,
        "start_time": "2023-05-31T10:42:52.089Z"
      },
      {
        "duration": 819,
        "start_time": "2023-05-31T10:43:05.635Z"
      },
      {
        "duration": 810,
        "start_time": "2023-05-31T10:43:18.702Z"
      },
      {
        "duration": 1293,
        "start_time": "2023-05-31T10:44:53.857Z"
      },
      {
        "duration": 1275,
        "start_time": "2023-05-31T10:45:09.901Z"
      },
      {
        "duration": 1260,
        "start_time": "2023-05-31T10:45:26.549Z"
      },
      {
        "duration": 54,
        "start_time": "2023-05-31T10:46:08.640Z"
      },
      {
        "duration": 2269,
        "start_time": "2023-05-31T10:46:31.315Z"
      },
      {
        "duration": 1410,
        "start_time": "2023-05-31T10:46:33.586Z"
      },
      {
        "duration": 861,
        "start_time": "2023-05-31T10:46:34.998Z"
      },
      {
        "duration": 32,
        "start_time": "2023-05-31T10:46:35.860Z"
      },
      {
        "duration": 44,
        "start_time": "2023-05-31T10:46:35.894Z"
      },
      {
        "duration": 289,
        "start_time": "2023-05-31T10:46:35.940Z"
      },
      {
        "duration": 297,
        "start_time": "2023-05-31T10:46:36.230Z"
      },
      {
        "duration": 114,
        "start_time": "2023-05-31T10:46:36.529Z"
      },
      {
        "duration": 117,
        "start_time": "2023-05-31T10:46:36.645Z"
      },
      {
        "duration": 235,
        "start_time": "2023-05-31T10:46:36.763Z"
      },
      {
        "duration": 43,
        "start_time": "2023-05-31T10:46:37.000Z"
      },
      {
        "duration": 49,
        "start_time": "2023-05-31T10:46:37.045Z"
      },
      {
        "duration": 70,
        "start_time": "2023-05-31T10:46:37.096Z"
      },
      {
        "duration": 34,
        "start_time": "2023-05-31T10:46:37.168Z"
      },
      {
        "duration": 103,
        "start_time": "2023-05-31T10:46:37.203Z"
      },
      {
        "duration": 2625,
        "start_time": "2023-05-31T10:46:37.308Z"
      },
      {
        "duration": 32,
        "start_time": "2023-05-31T10:46:39.934Z"
      },
      {
        "duration": 398,
        "start_time": "2023-05-31T10:46:39.967Z"
      },
      {
        "duration": 35,
        "start_time": "2023-05-31T10:46:40.366Z"
      },
      {
        "duration": 25,
        "start_time": "2023-05-31T10:46:40.403Z"
      },
      {
        "duration": 30,
        "start_time": "2023-05-31T10:46:40.429Z"
      },
      {
        "duration": 630,
        "start_time": "2023-05-31T10:46:40.461Z"
      },
      {
        "duration": 1241,
        "start_time": "2023-05-31T10:46:41.093Z"
      },
      {
        "duration": 587,
        "start_time": "2023-05-31T10:46:42.337Z"
      },
      {
        "duration": 145,
        "start_time": "2023-05-31T10:46:42.926Z"
      },
      {
        "duration": 101,
        "start_time": "2023-05-31T10:48:01.166Z"
      },
      {
        "duration": 102,
        "start_time": "2023-05-31T10:54:54.716Z"
      },
      {
        "duration": 199,
        "start_time": "2023-05-31T10:58:22.370Z"
      },
      {
        "duration": 2221,
        "start_time": "2023-05-31T10:58:32.166Z"
      },
      {
        "duration": 1461,
        "start_time": "2023-05-31T10:58:34.390Z"
      },
      {
        "duration": 903,
        "start_time": "2023-05-31T10:58:35.853Z"
      },
      {
        "duration": 26,
        "start_time": "2023-05-31T10:58:36.758Z"
      },
      {
        "duration": 47,
        "start_time": "2023-05-31T10:58:36.785Z"
      },
      {
        "duration": 276,
        "start_time": "2023-05-31T10:58:36.834Z"
      },
      {
        "duration": 299,
        "start_time": "2023-05-31T10:58:37.112Z"
      },
      {
        "duration": 111,
        "start_time": "2023-05-31T10:58:37.413Z"
      },
      {
        "duration": 118,
        "start_time": "2023-05-31T10:58:37.526Z"
      },
      {
        "duration": 262,
        "start_time": "2023-05-31T10:58:37.648Z"
      },
      {
        "duration": 45,
        "start_time": "2023-05-31T10:58:37.912Z"
      },
      {
        "duration": 66,
        "start_time": "2023-05-31T10:58:37.959Z"
      },
      {
        "duration": 54,
        "start_time": "2023-05-31T10:58:38.027Z"
      },
      {
        "duration": 60,
        "start_time": "2023-05-31T10:58:38.083Z"
      },
      {
        "duration": 91,
        "start_time": "2023-05-31T10:58:38.145Z"
      },
      {
        "duration": 2762,
        "start_time": "2023-05-31T10:58:38.238Z"
      },
      {
        "duration": 46,
        "start_time": "2023-05-31T10:58:41.003Z"
      },
      {
        "duration": 462,
        "start_time": "2023-05-31T10:58:41.050Z"
      },
      {
        "duration": 47,
        "start_time": "2023-05-31T10:58:41.514Z"
      },
      {
        "duration": 8,
        "start_time": "2023-05-31T10:58:41.563Z"
      },
      {
        "duration": 28,
        "start_time": "2023-05-31T10:58:41.573Z"
      },
      {
        "duration": 642,
        "start_time": "2023-05-31T10:58:41.603Z"
      },
      {
        "duration": 1207,
        "start_time": "2023-05-31T10:58:42.247Z"
      },
      {
        "duration": 578,
        "start_time": "2023-05-31T10:58:43.455Z"
      },
      {
        "duration": 90,
        "start_time": "2023-05-31T10:58:44.035Z"
      },
      {
        "duration": 208,
        "start_time": "2023-05-31T10:58:44.127Z"
      },
      {
        "duration": 508,
        "start_time": "2023-05-31T12:10:00.457Z"
      },
      {
        "duration": 2226,
        "start_time": "2023-05-31T12:10:10.395Z"
      },
      {
        "duration": 1517,
        "start_time": "2023-05-31T12:10:12.625Z"
      },
      {
        "duration": 884,
        "start_time": "2023-05-31T12:10:14.144Z"
      },
      {
        "duration": 44,
        "start_time": "2023-05-31T12:10:15.029Z"
      },
      {
        "duration": 81,
        "start_time": "2023-05-31T12:10:15.076Z"
      },
      {
        "duration": 317,
        "start_time": "2023-05-31T12:10:15.158Z"
      },
      {
        "duration": 294,
        "start_time": "2023-05-31T12:10:15.476Z"
      },
      {
        "duration": 109,
        "start_time": "2023-05-31T12:10:15.772Z"
      },
      {
        "duration": 151,
        "start_time": "2023-05-31T12:10:15.883Z"
      },
      {
        "duration": 242,
        "start_time": "2023-05-31T12:10:16.036Z"
      },
      {
        "duration": 46,
        "start_time": "2023-05-31T12:10:16.279Z"
      },
      {
        "duration": 63,
        "start_time": "2023-05-31T12:10:16.327Z"
      },
      {
        "duration": 48,
        "start_time": "2023-05-31T12:10:16.392Z"
      },
      {
        "duration": 34,
        "start_time": "2023-05-31T12:10:16.443Z"
      },
      {
        "duration": 101,
        "start_time": "2023-05-31T12:10:16.479Z"
      },
      {
        "duration": 2638,
        "start_time": "2023-05-31T12:10:16.582Z"
      },
      {
        "duration": 30,
        "start_time": "2023-05-31T12:10:19.222Z"
      },
      {
        "duration": 403,
        "start_time": "2023-05-31T12:10:19.253Z"
      },
      {
        "duration": 34,
        "start_time": "2023-05-31T12:10:19.658Z"
      },
      {
        "duration": 8,
        "start_time": "2023-05-31T12:10:19.694Z"
      },
      {
        "duration": 38,
        "start_time": "2023-05-31T12:10:19.704Z"
      },
      {
        "duration": 673,
        "start_time": "2023-05-31T12:10:19.744Z"
      },
      {
        "duration": 519,
        "start_time": "2023-05-31T12:10:20.419Z"
      },
      {
        "duration": 0,
        "start_time": "2023-05-31T12:10:20.940Z"
      },
      {
        "duration": 0,
        "start_time": "2023-05-31T12:10:20.942Z"
      },
      {
        "duration": 0,
        "start_time": "2023-05-31T12:10:20.944Z"
      },
      {
        "duration": 0,
        "start_time": "2023-05-31T12:10:20.945Z"
      },
      {
        "duration": 0,
        "start_time": "2023-05-31T12:10:20.946Z"
      },
      {
        "duration": 90,
        "start_time": "2023-05-31T12:11:47.636Z"
      },
      {
        "duration": 425,
        "start_time": "2023-05-31T12:12:22.012Z"
      },
      {
        "duration": 393,
        "start_time": "2023-05-31T12:56:14.170Z"
      },
      {
        "duration": 377,
        "start_time": "2023-05-31T12:56:41.991Z"
      },
      {
        "duration": 394,
        "start_time": "2023-05-31T12:56:47.549Z"
      },
      {
        "duration": 423,
        "start_time": "2023-05-31T13:46:55.229Z"
      },
      {
        "duration": 101,
        "start_time": "2023-05-31T13:49:12.240Z"
      },
      {
        "duration": 107,
        "start_time": "2023-05-31T13:49:38.299Z"
      },
      {
        "duration": 659,
        "start_time": "2023-05-31T13:50:30.387Z"
      },
      {
        "duration": 564,
        "start_time": "2023-05-31T14:10:17.152Z"
      },
      {
        "duration": 622,
        "start_time": "2023-05-31T14:12:25.966Z"
      },
      {
        "duration": 587,
        "start_time": "2023-05-31T14:12:41.411Z"
      },
      {
        "duration": 568,
        "start_time": "2023-05-31T14:13:11.823Z"
      },
      {
        "duration": 627,
        "start_time": "2023-05-31T14:13:23.634Z"
      },
      {
        "duration": 653,
        "start_time": "2023-05-31T14:14:37.744Z"
      },
      {
        "duration": 754,
        "start_time": "2023-05-31T14:15:27.636Z"
      },
      {
        "duration": 875,
        "start_time": "2023-05-31T14:16:55.797Z"
      },
      {
        "duration": 925,
        "start_time": "2023-05-31T14:17:00.469Z"
      },
      {
        "duration": 951,
        "start_time": "2023-05-31T14:17:06.806Z"
      },
      {
        "duration": 848,
        "start_time": "2023-05-31T14:17:16.367Z"
      },
      {
        "duration": 2028,
        "start_time": "2023-05-31T14:18:52.365Z"
      },
      {
        "duration": 1454,
        "start_time": "2023-05-31T14:18:54.395Z"
      },
      {
        "duration": 781,
        "start_time": "2023-05-31T14:18:55.851Z"
      },
      {
        "duration": 24,
        "start_time": "2023-05-31T14:18:56.634Z"
      },
      {
        "duration": 27,
        "start_time": "2023-05-31T14:18:56.660Z"
      },
      {
        "duration": 238,
        "start_time": "2023-05-31T14:18:56.689Z"
      },
      {
        "duration": 252,
        "start_time": "2023-05-31T14:18:56.929Z"
      },
      {
        "duration": 94,
        "start_time": "2023-05-31T14:18:57.183Z"
      },
      {
        "duration": 102,
        "start_time": "2023-05-31T14:18:57.279Z"
      },
      {
        "duration": 210,
        "start_time": "2023-05-31T14:18:57.384Z"
      },
      {
        "duration": 40,
        "start_time": "2023-05-31T14:18:57.596Z"
      },
      {
        "duration": 44,
        "start_time": "2023-05-31T14:18:57.637Z"
      },
      {
        "duration": 56,
        "start_time": "2023-05-31T14:18:57.683Z"
      },
      {
        "duration": 29,
        "start_time": "2023-05-31T14:18:57.740Z"
      },
      {
        "duration": 89,
        "start_time": "2023-05-31T14:18:57.770Z"
      },
      {
        "duration": 2284,
        "start_time": "2023-05-31T14:18:57.860Z"
      },
      {
        "duration": 30,
        "start_time": "2023-05-31T14:19:00.146Z"
      },
      {
        "duration": 339,
        "start_time": "2023-05-31T14:19:00.177Z"
      },
      {
        "duration": 37,
        "start_time": "2023-05-31T14:19:00.518Z"
      },
      {
        "duration": 14,
        "start_time": "2023-05-31T14:19:00.556Z"
      },
      {
        "duration": 102,
        "start_time": "2023-05-31T14:19:00.571Z"
      },
      {
        "duration": 588,
        "start_time": "2023-05-31T14:19:00.674Z"
      },
      {
        "duration": 909,
        "start_time": "2023-05-31T14:19:01.264Z"
      },
      {
        "duration": 564,
        "start_time": "2023-05-31T14:19:02.175Z"
      },
      {
        "duration": 173,
        "start_time": "2023-05-31T14:19:02.741Z"
      },
      {
        "duration": 3,
        "start_time": "2023-05-31T14:19:02.915Z"
      },
      {
        "duration": 55412,
        "start_time": "2023-05-31T14:19:02.919Z"
      },
      {
        "duration": 2011,
        "start_time": "2023-05-31T14:23:37.478Z"
      },
      {
        "duration": 1307,
        "start_time": "2023-05-31T14:23:39.492Z"
      },
      {
        "duration": 857,
        "start_time": "2023-05-31T14:23:40.801Z"
      },
      {
        "duration": 30,
        "start_time": "2023-05-31T14:23:41.659Z"
      },
      {
        "duration": 40,
        "start_time": "2023-05-31T14:23:41.691Z"
      },
      {
        "duration": 264,
        "start_time": "2023-05-31T14:23:41.733Z"
      },
      {
        "duration": 267,
        "start_time": "2023-05-31T14:23:41.999Z"
      },
      {
        "duration": 97,
        "start_time": "2023-05-31T14:23:42.267Z"
      },
      {
        "duration": 91,
        "start_time": "2023-05-31T14:23:42.366Z"
      },
      {
        "duration": 239,
        "start_time": "2023-05-31T14:23:42.459Z"
      },
      {
        "duration": 42,
        "start_time": "2023-05-31T14:23:42.699Z"
      },
      {
        "duration": 50,
        "start_time": "2023-05-31T14:23:42.743Z"
      },
      {
        "duration": 72,
        "start_time": "2023-05-31T14:23:42.795Z"
      },
      {
        "duration": 63,
        "start_time": "2023-05-31T14:23:42.869Z"
      },
      {
        "duration": 101,
        "start_time": "2023-05-31T14:23:42.934Z"
      },
      {
        "duration": 2589,
        "start_time": "2023-05-31T14:23:43.036Z"
      },
      {
        "duration": 31,
        "start_time": "2023-05-31T14:23:45.626Z"
      },
      {
        "duration": 375,
        "start_time": "2023-05-31T14:23:45.658Z"
      },
      {
        "duration": 34,
        "start_time": "2023-05-31T14:23:46.035Z"
      },
      {
        "duration": 8,
        "start_time": "2023-05-31T14:23:46.070Z"
      },
      {
        "duration": 83,
        "start_time": "2023-05-31T14:23:46.079Z"
      },
      {
        "duration": 562,
        "start_time": "2023-05-31T14:23:46.164Z"
      },
      {
        "duration": 910,
        "start_time": "2023-05-31T14:23:46.728Z"
      },
      {
        "duration": 561,
        "start_time": "2023-05-31T14:23:47.639Z"
      },
      {
        "duration": 165,
        "start_time": "2023-05-31T14:23:48.202Z"
      },
      {
        "duration": 2,
        "start_time": "2023-05-31T14:23:48.369Z"
      },
      {
        "duration": 371,
        "start_time": "2023-05-31T14:23:48.373Z"
      },
      {
        "duration": 1961,
        "start_time": "2023-05-31T14:29:36.467Z"
      },
      {
        "duration": 1402,
        "start_time": "2023-05-31T14:29:38.430Z"
      },
      {
        "duration": 759,
        "start_time": "2023-05-31T14:29:39.834Z"
      },
      {
        "duration": 36,
        "start_time": "2023-05-31T14:29:40.595Z"
      },
      {
        "duration": 38,
        "start_time": "2023-05-31T14:29:40.632Z"
      },
      {
        "duration": 269,
        "start_time": "2023-05-31T14:29:40.672Z"
      },
      {
        "duration": 307,
        "start_time": "2023-05-31T14:29:40.943Z"
      },
      {
        "duration": 97,
        "start_time": "2023-05-31T14:29:41.252Z"
      },
      {
        "duration": 93,
        "start_time": "2023-05-31T14:29:41.351Z"
      },
      {
        "duration": 228,
        "start_time": "2023-05-31T14:29:41.446Z"
      },
      {
        "duration": 34,
        "start_time": "2023-05-31T14:29:41.675Z"
      },
      {
        "duration": 58,
        "start_time": "2023-05-31T14:29:41.710Z"
      },
      {
        "duration": 56,
        "start_time": "2023-05-31T14:29:41.770Z"
      },
      {
        "duration": 31,
        "start_time": "2023-05-31T14:29:41.827Z"
      },
      {
        "duration": 89,
        "start_time": "2023-05-31T14:29:41.860Z"
      },
      {
        "duration": 2394,
        "start_time": "2023-05-31T14:29:41.950Z"
      },
      {
        "duration": 29,
        "start_time": "2023-05-31T14:29:44.345Z"
      },
      {
        "duration": 425,
        "start_time": "2023-05-31T14:29:44.375Z"
      },
      {
        "duration": 52,
        "start_time": "2023-05-31T14:29:44.802Z"
      },
      {
        "duration": 12,
        "start_time": "2023-05-31T14:29:44.857Z"
      },
      {
        "duration": 39,
        "start_time": "2023-05-31T14:29:44.871Z"
      },
      {
        "duration": 555,
        "start_time": "2023-05-31T14:29:44.913Z"
      },
      {
        "duration": 869,
        "start_time": "2023-05-31T14:29:45.469Z"
      },
      {
        "duration": 540,
        "start_time": "2023-05-31T14:29:46.340Z"
      },
      {
        "duration": 152,
        "start_time": "2023-05-31T14:29:46.881Z"
      },
      {
        "duration": 2,
        "start_time": "2023-05-31T14:29:47.035Z"
      },
      {
        "duration": 1491,
        "start_time": "2023-05-31T14:29:47.038Z"
      },
      {
        "duration": 58883,
        "start_time": "2023-05-31T14:30:13.559Z"
      },
      {
        "duration": 2048,
        "start_time": "2023-05-31T14:38:18.778Z"
      },
      {
        "duration": 1435,
        "start_time": "2023-05-31T14:38:20.828Z"
      },
      {
        "duration": 820,
        "start_time": "2023-05-31T14:38:22.264Z"
      },
      {
        "duration": 23,
        "start_time": "2023-05-31T14:38:23.086Z"
      },
      {
        "duration": 49,
        "start_time": "2023-05-31T14:38:23.124Z"
      },
      {
        "duration": 296,
        "start_time": "2023-05-31T14:38:23.175Z"
      },
      {
        "duration": 272,
        "start_time": "2023-05-31T14:38:23.474Z"
      },
      {
        "duration": 101,
        "start_time": "2023-05-31T14:38:23.748Z"
      },
      {
        "duration": 97,
        "start_time": "2023-05-31T14:38:23.851Z"
      },
      {
        "duration": 248,
        "start_time": "2023-05-31T14:38:23.950Z"
      },
      {
        "duration": 53,
        "start_time": "2023-05-31T14:38:24.200Z"
      },
      {
        "duration": 63,
        "start_time": "2023-05-31T14:38:24.255Z"
      },
      {
        "duration": 73,
        "start_time": "2023-05-31T14:38:24.320Z"
      },
      {
        "duration": 63,
        "start_time": "2023-05-31T14:38:24.394Z"
      },
      {
        "duration": 93,
        "start_time": "2023-05-31T14:38:24.458Z"
      },
      {
        "duration": 2449,
        "start_time": "2023-05-31T14:38:24.553Z"
      },
      {
        "duration": 48,
        "start_time": "2023-05-31T14:38:27.004Z"
      },
      {
        "duration": 351,
        "start_time": "2023-05-31T14:38:27.054Z"
      },
      {
        "duration": 37,
        "start_time": "2023-05-31T14:38:27.406Z"
      },
      {
        "duration": 11,
        "start_time": "2023-05-31T14:38:27.445Z"
      },
      {
        "duration": 43,
        "start_time": "2023-05-31T14:38:27.458Z"
      },
      {
        "duration": 570,
        "start_time": "2023-05-31T14:38:27.502Z"
      },
      {
        "duration": 1016,
        "start_time": "2023-05-31T14:38:28.074Z"
      },
      {
        "duration": 563,
        "start_time": "2023-05-31T14:38:29.091Z"
      },
      {
        "duration": 182,
        "start_time": "2023-05-31T14:38:29.657Z"
      },
      {
        "duration": 3,
        "start_time": "2023-05-31T14:38:29.840Z"
      },
      {
        "duration": 2405,
        "start_time": "2023-05-31T14:43:34.531Z"
      },
      {
        "duration": 1543,
        "start_time": "2023-05-31T14:43:36.940Z"
      },
      {
        "duration": 873,
        "start_time": "2023-05-31T14:43:38.484Z"
      },
      {
        "duration": 28,
        "start_time": "2023-05-31T14:43:39.360Z"
      },
      {
        "duration": 38,
        "start_time": "2023-05-31T14:43:39.389Z"
      },
      {
        "duration": 283,
        "start_time": "2023-05-31T14:43:39.429Z"
      },
      {
        "duration": 357,
        "start_time": "2023-05-31T14:43:39.713Z"
      },
      {
        "duration": 108,
        "start_time": "2023-05-31T14:43:40.072Z"
      },
      {
        "duration": 111,
        "start_time": "2023-05-31T14:43:40.181Z"
      },
      {
        "duration": 256,
        "start_time": "2023-05-31T14:43:40.296Z"
      },
      {
        "duration": 48,
        "start_time": "2023-05-31T14:43:40.554Z"
      },
      {
        "duration": 82,
        "start_time": "2023-05-31T14:43:40.604Z"
      },
      {
        "duration": 82,
        "start_time": "2023-05-31T14:43:40.687Z"
      },
      {
        "duration": 41,
        "start_time": "2023-05-31T14:43:40.770Z"
      },
      {
        "duration": 89,
        "start_time": "2023-05-31T14:43:40.812Z"
      },
      {
        "duration": 2767,
        "start_time": "2023-05-31T14:43:40.903Z"
      },
      {
        "duration": 29,
        "start_time": "2023-05-31T14:43:43.672Z"
      },
      {
        "duration": 369,
        "start_time": "2023-05-31T14:43:43.702Z"
      },
      {
        "duration": 34,
        "start_time": "2023-05-31T14:43:44.072Z"
      },
      {
        "duration": 22,
        "start_time": "2023-05-31T14:43:44.107Z"
      },
      {
        "duration": 20,
        "start_time": "2023-05-31T14:43:44.131Z"
      },
      {
        "duration": 592,
        "start_time": "2023-05-31T14:43:44.153Z"
      },
      {
        "duration": 958,
        "start_time": "2023-05-31T14:43:44.747Z"
      },
      {
        "duration": 556,
        "start_time": "2023-05-31T14:43:45.706Z"
      },
      {
        "duration": 160,
        "start_time": "2023-05-31T14:43:46.263Z"
      },
      {
        "duration": 2,
        "start_time": "2023-05-31T14:43:46.426Z"
      },
      {
        "duration": 2074,
        "start_time": "2023-05-31T14:48:22.001Z"
      },
      {
        "duration": 1482,
        "start_time": "2023-05-31T14:48:24.077Z"
      },
      {
        "duration": 850,
        "start_time": "2023-05-31T14:48:25.560Z"
      },
      {
        "duration": 42,
        "start_time": "2023-05-31T14:48:26.412Z"
      },
      {
        "duration": 27,
        "start_time": "2023-05-31T14:48:26.455Z"
      },
      {
        "duration": 277,
        "start_time": "2023-05-31T14:48:26.484Z"
      },
      {
        "duration": 291,
        "start_time": "2023-05-31T14:48:26.763Z"
      },
      {
        "duration": 108,
        "start_time": "2023-05-31T14:48:27.056Z"
      },
      {
        "duration": 127,
        "start_time": "2023-05-31T14:48:27.166Z"
      },
      {
        "duration": 247,
        "start_time": "2023-05-31T14:48:27.296Z"
      },
      {
        "duration": 32,
        "start_time": "2023-05-31T14:48:27.546Z"
      },
      {
        "duration": 96,
        "start_time": "2023-05-31T14:48:27.580Z"
      },
      {
        "duration": 51,
        "start_time": "2023-05-31T14:48:27.678Z"
      },
      {
        "duration": 31,
        "start_time": "2023-05-31T14:48:27.731Z"
      },
      {
        "duration": 95,
        "start_time": "2023-05-31T14:48:27.764Z"
      },
      {
        "duration": 2530,
        "start_time": "2023-05-31T14:48:27.861Z"
      },
      {
        "duration": 33,
        "start_time": "2023-05-31T14:48:30.392Z"
      },
      {
        "duration": 387,
        "start_time": "2023-05-31T14:48:30.427Z"
      },
      {
        "duration": 45,
        "start_time": "2023-05-31T14:48:30.816Z"
      },
      {
        "duration": 23,
        "start_time": "2023-05-31T14:48:30.862Z"
      },
      {
        "duration": 78,
        "start_time": "2023-05-31T14:48:30.886Z"
      },
      {
        "duration": 658,
        "start_time": "2023-05-31T14:48:30.966Z"
      },
      {
        "duration": 1015,
        "start_time": "2023-05-31T14:48:31.626Z"
      },
      {
        "duration": 559,
        "start_time": "2023-05-31T14:48:32.642Z"
      },
      {
        "duration": 197,
        "start_time": "2023-05-31T14:48:33.203Z"
      },
      {
        "duration": 2,
        "start_time": "2023-05-31T14:48:33.402Z"
      },
      {
        "duration": 1448236,
        "start_time": "2023-05-31T14:48:33.405Z"
      },
      {
        "duration": 4,
        "start_time": "2023-05-31T15:22:37.804Z"
      },
      {
        "duration": 5,
        "start_time": "2023-05-31T15:23:00.891Z"
      },
      {
        "duration": 4,
        "start_time": "2023-05-31T15:23:11.254Z"
      },
      {
        "duration": 4,
        "start_time": "2023-05-31T15:26:10.831Z"
      },
      {
        "duration": 5,
        "start_time": "2023-05-31T15:26:28.733Z"
      },
      {
        "duration": 5,
        "start_time": "2023-05-31T15:26:35.149Z"
      },
      {
        "duration": 14957,
        "start_time": "2023-05-31T15:27:06.773Z"
      },
      {
        "duration": 16086,
        "start_time": "2023-05-31T15:27:41.766Z"
      },
      {
        "duration": 15001,
        "start_time": "2023-05-31T15:31:56.125Z"
      },
      {
        "duration": 16283,
        "start_time": "2023-05-31T15:32:39.844Z"
      },
      {
        "duration": 15181,
        "start_time": "2023-05-31T15:34:56.148Z"
      },
      {
        "duration": 15222,
        "start_time": "2023-05-31T15:36:02.909Z"
      },
      {
        "duration": 15708,
        "start_time": "2023-05-31T15:36:50.523Z"
      },
      {
        "duration": 15098,
        "start_time": "2023-05-31T15:37:55.729Z"
      },
      {
        "duration": 20221,
        "start_time": "2023-05-31T15:39:30.005Z"
      },
      {
        "duration": 20111,
        "start_time": "2023-05-31T15:40:35.919Z"
      },
      {
        "duration": 15584,
        "start_time": "2023-05-31T15:41:30.256Z"
      },
      {
        "duration": 40990,
        "start_time": "2023-05-31T15:44:32.754Z"
      },
      {
        "duration": 2242,
        "start_time": "2023-05-31T21:13:44.678Z"
      },
      {
        "duration": 1391,
        "start_time": "2023-05-31T21:13:46.922Z"
      },
      {
        "duration": 977,
        "start_time": "2023-05-31T21:13:48.315Z"
      },
      {
        "duration": 26,
        "start_time": "2023-05-31T21:13:49.293Z"
      },
      {
        "duration": 26,
        "start_time": "2023-05-31T21:13:49.321Z"
      },
      {
        "duration": 220,
        "start_time": "2023-05-31T21:13:49.349Z"
      },
      {
        "duration": 246,
        "start_time": "2023-05-31T21:13:49.571Z"
      },
      {
        "duration": 81,
        "start_time": "2023-05-31T21:13:49.818Z"
      },
      {
        "duration": 71,
        "start_time": "2023-05-31T21:13:49.900Z"
      },
      {
        "duration": 205,
        "start_time": "2023-05-31T21:13:49.986Z"
      },
      {
        "duration": 28,
        "start_time": "2023-05-31T21:13:50.192Z"
      },
      {
        "duration": 42,
        "start_time": "2023-05-31T21:13:50.221Z"
      },
      {
        "duration": 49,
        "start_time": "2023-05-31T21:13:50.264Z"
      },
      {
        "duration": 25,
        "start_time": "2023-05-31T21:13:50.315Z"
      },
      {
        "duration": 99,
        "start_time": "2023-05-31T21:13:50.342Z"
      },
      {
        "duration": 1952,
        "start_time": "2023-05-31T21:13:50.442Z"
      },
      {
        "duration": 29,
        "start_time": "2023-05-31T21:13:52.396Z"
      },
      {
        "duration": 316,
        "start_time": "2023-05-31T21:13:52.426Z"
      },
      {
        "duration": 31,
        "start_time": "2023-05-31T21:13:52.744Z"
      },
      {
        "duration": 7,
        "start_time": "2023-05-31T21:13:52.785Z"
      },
      {
        "duration": 19,
        "start_time": "2023-05-31T21:13:52.793Z"
      },
      {
        "duration": 426,
        "start_time": "2023-05-31T21:13:52.813Z"
      },
      {
        "duration": 886,
        "start_time": "2023-05-31T21:13:53.240Z"
      },
      {
        "duration": 421,
        "start_time": "2023-05-31T21:13:54.128Z"
      },
      {
        "duration": 139,
        "start_time": "2023-05-31T21:13:54.550Z"
      },
      {
        "duration": 2028,
        "start_time": "2023-05-31T21:15:30.077Z"
      },
      {
        "duration": 1257,
        "start_time": "2023-05-31T21:15:32.107Z"
      },
      {
        "duration": 703,
        "start_time": "2023-05-31T21:15:33.365Z"
      },
      {
        "duration": 30,
        "start_time": "2023-05-31T21:15:34.069Z"
      },
      {
        "duration": 31,
        "start_time": "2023-05-31T21:15:34.101Z"
      },
      {
        "duration": 235,
        "start_time": "2023-05-31T21:15:34.133Z"
      },
      {
        "duration": 249,
        "start_time": "2023-05-31T21:15:34.370Z"
      },
      {
        "duration": 83,
        "start_time": "2023-05-31T21:15:34.621Z"
      },
      {
        "duration": 96,
        "start_time": "2023-05-31T21:15:34.706Z"
      },
      {
        "duration": 189,
        "start_time": "2023-05-31T21:15:34.804Z"
      },
      {
        "duration": 31,
        "start_time": "2023-05-31T21:15:34.994Z"
      },
      {
        "duration": 58,
        "start_time": "2023-05-31T21:15:35.027Z"
      },
      {
        "duration": 44,
        "start_time": "2023-05-31T21:15:35.086Z"
      },
      {
        "duration": 25,
        "start_time": "2023-05-31T21:15:35.132Z"
      },
      {
        "duration": 93,
        "start_time": "2023-05-31T21:15:35.158Z"
      },
      {
        "duration": 2057,
        "start_time": "2023-05-31T21:15:35.252Z"
      },
      {
        "duration": 28,
        "start_time": "2023-05-31T21:15:37.311Z"
      },
      {
        "duration": 301,
        "start_time": "2023-05-31T21:15:37.341Z"
      },
      {
        "duration": 30,
        "start_time": "2023-05-31T21:15:37.643Z"
      },
      {
        "duration": 14,
        "start_time": "2023-05-31T21:15:37.674Z"
      },
      {
        "duration": 18,
        "start_time": "2023-05-31T21:15:37.689Z"
      },
      {
        "duration": 431,
        "start_time": "2023-05-31T21:15:37.709Z"
      },
      {
        "duration": 902,
        "start_time": "2023-05-31T21:15:38.141Z"
      },
      {
        "duration": 474,
        "start_time": "2023-05-31T21:15:39.044Z"
      },
      {
        "duration": 138,
        "start_time": "2023-05-31T21:15:39.520Z"
      },
      {
        "duration": 2053,
        "start_time": "2023-05-31T21:48:39.208Z"
      },
      {
        "duration": 1350,
        "start_time": "2023-05-31T21:48:41.263Z"
      },
      {
        "duration": 771,
        "start_time": "2023-05-31T21:48:42.614Z"
      },
      {
        "duration": 27,
        "start_time": "2023-05-31T21:48:43.387Z"
      },
      {
        "duration": 28,
        "start_time": "2023-05-31T21:48:43.416Z"
      },
      {
        "duration": 252,
        "start_time": "2023-05-31T21:48:43.445Z"
      },
      {
        "duration": 248,
        "start_time": "2023-05-31T21:48:43.699Z"
      },
      {
        "duration": 79,
        "start_time": "2023-05-31T21:48:43.948Z"
      },
      {
        "duration": 80,
        "start_time": "2023-05-31T21:48:44.028Z"
      },
      {
        "duration": 193,
        "start_time": "2023-05-31T21:48:44.109Z"
      },
      {
        "duration": 29,
        "start_time": "2023-05-31T21:48:44.303Z"
      },
      {
        "duration": 57,
        "start_time": "2023-05-31T21:48:44.334Z"
      },
      {
        "duration": 41,
        "start_time": "2023-05-31T21:48:44.394Z"
      },
      {
        "duration": 26,
        "start_time": "2023-05-31T21:48:44.437Z"
      },
      {
        "duration": 91,
        "start_time": "2023-05-31T21:48:44.464Z"
      },
      {
        "duration": 2062,
        "start_time": "2023-05-31T21:48:44.557Z"
      },
      {
        "duration": 29,
        "start_time": "2023-05-31T21:48:46.621Z"
      },
      {
        "duration": 313,
        "start_time": "2023-05-31T21:48:46.651Z"
      },
      {
        "duration": 31,
        "start_time": "2023-05-31T21:48:46.966Z"
      },
      {
        "duration": 11,
        "start_time": "2023-05-31T21:48:46.999Z"
      },
      {
        "duration": 23,
        "start_time": "2023-05-31T21:48:47.012Z"
      },
      {
        "duration": 426,
        "start_time": "2023-05-31T21:48:47.037Z"
      },
      {
        "duration": 878,
        "start_time": "2023-05-31T21:48:47.465Z"
      },
      {
        "duration": 405,
        "start_time": "2023-05-31T21:48:48.344Z"
      },
      {
        "duration": 142,
        "start_time": "2023-05-31T21:48:48.751Z"
      },
      {
        "duration": 2412,
        "start_time": "2023-05-31T21:50:41.521Z"
      },
      {
        "duration": 1558,
        "start_time": "2023-05-31T21:50:43.935Z"
      },
      {
        "duration": 776,
        "start_time": "2023-05-31T21:50:45.495Z"
      },
      {
        "duration": 28,
        "start_time": "2023-05-31T21:50:46.273Z"
      },
      {
        "duration": 25,
        "start_time": "2023-05-31T21:50:46.302Z"
      },
      {
        "duration": 227,
        "start_time": "2023-05-31T21:50:46.329Z"
      },
      {
        "duration": 245,
        "start_time": "2023-05-31T21:50:46.557Z"
      },
      {
        "duration": 76,
        "start_time": "2023-05-31T21:50:46.803Z"
      },
      {
        "duration": 70,
        "start_time": "2023-05-31T21:50:46.880Z"
      },
      {
        "duration": 203,
        "start_time": "2023-05-31T21:50:46.953Z"
      },
      {
        "duration": 38,
        "start_time": "2023-05-31T21:50:47.157Z"
      },
      {
        "duration": 39,
        "start_time": "2023-05-31T21:50:47.197Z"
      },
      {
        "duration": 51,
        "start_time": "2023-05-31T21:50:47.237Z"
      },
      {
        "duration": 26,
        "start_time": "2023-05-31T21:50:47.289Z"
      },
      {
        "duration": 92,
        "start_time": "2023-05-31T21:50:47.316Z"
      },
      {
        "duration": 1943,
        "start_time": "2023-05-31T21:50:47.409Z"
      },
      {
        "duration": 35,
        "start_time": "2023-05-31T21:50:49.354Z"
      },
      {
        "duration": 300,
        "start_time": "2023-05-31T21:50:49.391Z"
      },
      {
        "duration": 31,
        "start_time": "2023-05-31T21:50:49.693Z"
      },
      {
        "duration": 7,
        "start_time": "2023-05-31T21:50:49.725Z"
      },
      {
        "duration": 29,
        "start_time": "2023-05-31T21:50:49.734Z"
      },
      {
        "duration": 440,
        "start_time": "2023-05-31T21:50:49.764Z"
      },
      {
        "duration": 867,
        "start_time": "2023-05-31T21:50:50.205Z"
      },
      {
        "duration": 392,
        "start_time": "2023-05-31T21:50:51.073Z"
      },
      {
        "duration": 142,
        "start_time": "2023-05-31T21:50:51.467Z"
      },
      {
        "duration": 17676,
        "start_time": "2023-05-31T21:50:51.611Z"
      },
      {
        "duration": 8,
        "start_time": "2023-05-31T21:54:39.247Z"
      },
      {
        "duration": 1866,
        "start_time": "2023-05-31T21:55:06.671Z"
      },
      {
        "duration": 1245,
        "start_time": "2023-05-31T21:55:08.539Z"
      },
      {
        "duration": 719,
        "start_time": "2023-05-31T21:55:09.785Z"
      },
      {
        "duration": 28,
        "start_time": "2023-05-31T21:55:10.505Z"
      },
      {
        "duration": 27,
        "start_time": "2023-05-31T21:55:10.534Z"
      },
      {
        "duration": 239,
        "start_time": "2023-05-31T21:55:10.563Z"
      },
      {
        "duration": 253,
        "start_time": "2023-05-31T21:55:10.803Z"
      },
      {
        "duration": 78,
        "start_time": "2023-05-31T21:55:11.057Z"
      },
      {
        "duration": 73,
        "start_time": "2023-05-31T21:55:11.136Z"
      },
      {
        "duration": 192,
        "start_time": "2023-05-31T21:55:11.212Z"
      },
      {
        "duration": 36,
        "start_time": "2023-05-31T21:55:11.405Z"
      },
      {
        "duration": 53,
        "start_time": "2023-05-31T21:55:11.442Z"
      },
      {
        "duration": 40,
        "start_time": "2023-05-31T21:55:11.496Z"
      },
      {
        "duration": 25,
        "start_time": "2023-05-31T21:55:11.538Z"
      },
      {
        "duration": 97,
        "start_time": "2023-05-31T21:55:11.565Z"
      },
      {
        "duration": 2021,
        "start_time": "2023-05-31T21:55:11.663Z"
      },
      {
        "duration": 34,
        "start_time": "2023-05-31T21:55:13.685Z"
      },
      {
        "duration": 349,
        "start_time": "2023-05-31T21:55:13.720Z"
      },
      {
        "duration": 36,
        "start_time": "2023-05-31T21:55:14.071Z"
      },
      {
        "duration": 10,
        "start_time": "2023-05-31T21:55:14.108Z"
      },
      {
        "duration": 21,
        "start_time": "2023-05-31T21:55:14.119Z"
      },
      {
        "duration": 507,
        "start_time": "2023-05-31T21:55:14.142Z"
      },
      {
        "duration": 931,
        "start_time": "2023-05-31T21:55:14.651Z"
      },
      {
        "duration": 417,
        "start_time": "2023-05-31T21:55:15.584Z"
      },
      {
        "duration": 194,
        "start_time": "2023-05-31T21:55:16.003Z"
      },
      {
        "duration": 17092,
        "start_time": "2023-05-31T21:55:16.199Z"
      },
      {
        "duration": 92,
        "start_time": "2023-05-31T21:55:33.293Z"
      },
      {
        "duration": 104327,
        "start_time": "2023-05-31T21:56:02.165Z"
      },
      {
        "duration": 2282,
        "start_time": "2023-06-01T07:07:43.722Z"
      },
      {
        "duration": 1893,
        "start_time": "2023-06-01T07:07:46.006Z"
      },
      {
        "duration": 2818,
        "start_time": "2023-06-01T07:07:47.900Z"
      },
      {
        "duration": 28,
        "start_time": "2023-06-01T07:07:50.721Z"
      },
      {
        "duration": 27,
        "start_time": "2023-06-01T07:07:50.751Z"
      },
      {
        "duration": 245,
        "start_time": "2023-06-01T07:07:50.780Z"
      },
      {
        "duration": 252,
        "start_time": "2023-06-01T07:07:51.027Z"
      },
      {
        "duration": 106,
        "start_time": "2023-06-01T07:07:51.281Z"
      },
      {
        "duration": 86,
        "start_time": "2023-06-01T07:07:51.388Z"
      },
      {
        "duration": 201,
        "start_time": "2023-06-01T07:07:51.476Z"
      },
      {
        "duration": 40,
        "start_time": "2023-06-01T07:07:51.679Z"
      },
      {
        "duration": 53,
        "start_time": "2023-06-01T07:07:51.721Z"
      },
      {
        "duration": 49,
        "start_time": "2023-06-01T07:07:51.776Z"
      },
      {
        "duration": 25,
        "start_time": "2023-06-01T07:07:51.826Z"
      },
      {
        "duration": 88,
        "start_time": "2023-06-01T07:07:51.852Z"
      },
      {
        "duration": 2417,
        "start_time": "2023-06-01T07:07:51.941Z"
      },
      {
        "duration": 26,
        "start_time": "2023-06-01T07:07:54.359Z"
      },
      {
        "duration": 357,
        "start_time": "2023-06-01T07:07:54.387Z"
      },
      {
        "duration": 29,
        "start_time": "2023-06-01T07:07:54.745Z"
      },
      {
        "duration": 7,
        "start_time": "2023-06-01T07:07:54.776Z"
      },
      {
        "duration": 36,
        "start_time": "2023-06-01T07:07:54.784Z"
      },
      {
        "duration": 532,
        "start_time": "2023-06-01T07:07:54.822Z"
      },
      {
        "duration": 1048,
        "start_time": "2023-06-01T07:07:55.355Z"
      },
      {
        "duration": 558,
        "start_time": "2023-06-01T07:07:56.405Z"
      },
      {
        "duration": 153,
        "start_time": "2023-06-01T07:07:56.965Z"
      },
      {
        "duration": 928203,
        "start_time": "2023-06-01T07:07:57.119Z"
      },
      {
        "duration": 18688,
        "start_time": "2023-06-01T07:23:25.324Z"
      },
      {
        "duration": 96494,
        "start_time": "2023-06-01T07:23:44.015Z"
      },
      {
        "duration": 89,
        "start_time": "2023-06-01T08:33:56.604Z"
      },
      {
        "duration": 49,
        "start_time": "2023-06-01T08:38:51.047Z"
      },
      {
        "duration": 54,
        "start_time": "2023-06-01T08:44:31.413Z"
      },
      {
        "duration": 54,
        "start_time": "2023-06-01T08:44:42.152Z"
      },
      {
        "duration": 13,
        "start_time": "2023-06-01T08:44:53.707Z"
      },
      {
        "duration": 99722,
        "start_time": "2023-06-01T08:50:09.587Z"
      },
      {
        "duration": 11,
        "start_time": "2023-06-01T08:52:30.417Z"
      },
      {
        "duration": 51,
        "start_time": "2023-06-01T08:54:57.551Z"
      },
      {
        "duration": 47,
        "start_time": "2023-06-01T08:55:06.066Z"
      },
      {
        "duration": 61,
        "start_time": "2023-06-01T08:55:10.297Z"
      },
      {
        "duration": 5432,
        "start_time": "2023-06-01T08:58:01.588Z"
      },
      {
        "duration": 1765,
        "start_time": "2023-06-01T09:04:24.644Z"
      },
      {
        "duration": 1344,
        "start_time": "2023-06-01T09:04:26.412Z"
      },
      {
        "duration": 708,
        "start_time": "2023-06-01T09:04:27.758Z"
      },
      {
        "duration": 22,
        "start_time": "2023-06-01T09:04:28.468Z"
      },
      {
        "duration": 36,
        "start_time": "2023-06-01T09:04:28.493Z"
      },
      {
        "duration": 233,
        "start_time": "2023-06-01T09:04:28.530Z"
      },
      {
        "duration": 231,
        "start_time": "2023-06-01T09:04:28.764Z"
      },
      {
        "duration": 75,
        "start_time": "2023-06-01T09:04:28.997Z"
      },
      {
        "duration": 75,
        "start_time": "2023-06-01T09:04:29.074Z"
      },
      {
        "duration": 203,
        "start_time": "2023-06-01T09:04:29.151Z"
      },
      {
        "duration": 28,
        "start_time": "2023-06-01T09:04:29.356Z"
      },
      {
        "duration": 50,
        "start_time": "2023-06-01T09:04:29.385Z"
      },
      {
        "duration": 39,
        "start_time": "2023-06-01T09:04:29.436Z"
      },
      {
        "duration": 42,
        "start_time": "2023-06-01T09:04:29.478Z"
      },
      {
        "duration": 90,
        "start_time": "2023-06-01T09:04:29.521Z"
      },
      {
        "duration": 2698,
        "start_time": "2023-06-01T09:04:29.612Z"
      },
      {
        "duration": 28,
        "start_time": "2023-06-01T09:04:32.311Z"
      },
      {
        "duration": 429,
        "start_time": "2023-06-01T09:04:32.341Z"
      },
      {
        "duration": 38,
        "start_time": "2023-06-01T09:04:32.772Z"
      },
      {
        "duration": 9,
        "start_time": "2023-06-01T09:04:32.812Z"
      },
      {
        "duration": 47,
        "start_time": "2023-06-01T09:04:32.822Z"
      },
      {
        "duration": 634,
        "start_time": "2023-06-01T09:04:32.871Z"
      },
      {
        "duration": 978,
        "start_time": "2023-06-01T09:04:33.507Z"
      },
      {
        "duration": 553,
        "start_time": "2023-06-01T09:04:34.487Z"
      },
      {
        "duration": 155,
        "start_time": "2023-06-01T09:04:35.041Z"
      },
      {
        "duration": 49933,
        "start_time": "2023-06-01T09:04:35.198Z"
      },
      {
        "duration": 16573,
        "start_time": "2023-06-01T09:05:25.134Z"
      },
      {
        "duration": 98282,
        "start_time": "2023-06-01T09:05:41.712Z"
      },
      {
        "duration": 11,
        "start_time": "2023-06-01T09:07:19.995Z"
      },
      {
        "duration": 29598,
        "start_time": "2023-06-01T09:07:20.008Z"
      },
      {
        "duration": 60,
        "start_time": "2023-06-01T09:21:41.564Z"
      },
      {
        "duration": 2034,
        "start_time": "2023-06-01T09:22:11.913Z"
      },
      {
        "duration": 1328,
        "start_time": "2023-06-01T09:22:13.950Z"
      },
      {
        "duration": 723,
        "start_time": "2023-06-01T09:22:15.279Z"
      },
      {
        "duration": 28,
        "start_time": "2023-06-01T09:22:16.005Z"
      },
      {
        "duration": 30,
        "start_time": "2023-06-01T09:22:16.034Z"
      },
      {
        "duration": 228,
        "start_time": "2023-06-01T09:22:16.065Z"
      },
      {
        "duration": 242,
        "start_time": "2023-06-01T09:22:16.294Z"
      },
      {
        "duration": 85,
        "start_time": "2023-06-01T09:22:16.537Z"
      },
      {
        "duration": 97,
        "start_time": "2023-06-01T09:22:16.624Z"
      },
      {
        "duration": 203,
        "start_time": "2023-06-01T09:22:16.724Z"
      },
      {
        "duration": 27,
        "start_time": "2023-06-01T09:22:16.928Z"
      },
      {
        "duration": 50,
        "start_time": "2023-06-01T09:22:16.956Z"
      },
      {
        "duration": 42,
        "start_time": "2023-06-01T09:22:17.008Z"
      },
      {
        "duration": 27,
        "start_time": "2023-06-01T09:22:17.051Z"
      },
      {
        "duration": 86,
        "start_time": "2023-06-01T09:22:17.080Z"
      },
      {
        "duration": 2268,
        "start_time": "2023-06-01T09:22:17.167Z"
      },
      {
        "duration": 28,
        "start_time": "2023-06-01T09:22:19.437Z"
      },
      {
        "duration": 354,
        "start_time": "2023-06-01T09:22:19.467Z"
      },
      {
        "duration": 33,
        "start_time": "2023-06-01T09:22:19.823Z"
      },
      {
        "duration": 8,
        "start_time": "2023-06-01T09:22:19.858Z"
      },
      {
        "duration": 38,
        "start_time": "2023-06-01T09:22:19.868Z"
      },
      {
        "duration": 573,
        "start_time": "2023-06-01T09:22:19.908Z"
      },
      {
        "duration": 861,
        "start_time": "2023-06-01T09:22:20.483Z"
      },
      {
        "duration": 538,
        "start_time": "2023-06-01T09:22:21.345Z"
      },
      {
        "duration": 145,
        "start_time": "2023-06-01T09:22:21.885Z"
      },
      {
        "duration": 1988,
        "start_time": "2023-06-01T09:30:20.509Z"
      },
      {
        "duration": 1308,
        "start_time": "2023-06-01T09:30:22.499Z"
      },
      {
        "duration": 819,
        "start_time": "2023-06-01T09:30:23.812Z"
      },
      {
        "duration": 40,
        "start_time": "2023-06-01T09:30:24.634Z"
      },
      {
        "duration": 106,
        "start_time": "2023-06-01T09:30:24.676Z"
      },
      {
        "duration": 240,
        "start_time": "2023-06-01T09:30:24.784Z"
      },
      {
        "duration": 260,
        "start_time": "2023-06-01T09:30:25.026Z"
      },
      {
        "duration": 86,
        "start_time": "2023-06-01T09:30:25.288Z"
      },
      {
        "duration": 77,
        "start_time": "2023-06-01T09:30:25.377Z"
      },
      {
        "duration": 307,
        "start_time": "2023-06-01T09:30:25.456Z"
      },
      {
        "duration": 47,
        "start_time": "2023-06-01T09:30:25.764Z"
      },
      {
        "duration": 83,
        "start_time": "2023-06-01T09:30:25.812Z"
      },
      {
        "duration": 57,
        "start_time": "2023-06-01T09:30:25.896Z"
      },
      {
        "duration": 33,
        "start_time": "2023-06-01T09:30:25.954Z"
      },
      {
        "duration": 77,
        "start_time": "2023-06-01T09:30:25.989Z"
      },
      {
        "duration": 2683,
        "start_time": "2023-06-01T09:30:26.068Z"
      },
      {
        "duration": 32,
        "start_time": "2023-06-01T09:30:28.753Z"
      },
      {
        "duration": 372,
        "start_time": "2023-06-01T09:30:28.787Z"
      },
      {
        "duration": 34,
        "start_time": "2023-06-01T09:30:29.161Z"
      },
      {
        "duration": 14,
        "start_time": "2023-06-01T09:30:29.197Z"
      },
      {
        "duration": 31,
        "start_time": "2023-06-01T09:30:29.212Z"
      },
      {
        "duration": 665,
        "start_time": "2023-06-01T09:30:29.245Z"
      },
      {
        "duration": 954,
        "start_time": "2023-06-01T09:30:29.912Z"
      },
      {
        "duration": 624,
        "start_time": "2023-06-01T09:30:30.868Z"
      },
      {
        "duration": 165,
        "start_time": "2023-06-01T09:30:31.494Z"
      },
      {
        "duration": 3244694,
        "start_time": "2023-06-01T09:30:31.661Z"
      },
      {
        "duration": 58156,
        "start_time": "2023-06-01T10:24:36.358Z"
      },
      {
        "duration": 108767,
        "start_time": "2023-06-01T10:25:34.519Z"
      },
      {
        "duration": 22,
        "start_time": "2023-06-01T10:27:23.287Z"
      },
      {
        "duration": 1915,
        "start_time": "2023-06-01T12:28:57.460Z"
      },
      {
        "duration": 1437,
        "start_time": "2023-06-01T12:28:59.377Z"
      },
      {
        "duration": 761,
        "start_time": "2023-06-01T12:29:00.819Z"
      },
      {
        "duration": 41,
        "start_time": "2023-06-01T12:29:01.582Z"
      },
      {
        "duration": 44,
        "start_time": "2023-06-01T12:29:01.625Z"
      },
      {
        "duration": 273,
        "start_time": "2023-06-01T12:29:01.671Z"
      },
      {
        "duration": 279,
        "start_time": "2023-06-01T12:29:01.946Z"
      },
      {
        "duration": 88,
        "start_time": "2023-06-01T12:29:02.227Z"
      },
      {
        "duration": 67,
        "start_time": "2023-06-01T12:29:02.317Z"
      },
      {
        "duration": 254,
        "start_time": "2023-06-01T12:29:02.385Z"
      },
      {
        "duration": 33,
        "start_time": "2023-06-01T12:29:02.641Z"
      },
      {
        "duration": 64,
        "start_time": "2023-06-01T12:29:02.676Z"
      },
      {
        "duration": 40,
        "start_time": "2023-06-01T12:29:02.742Z"
      },
      {
        "duration": 46,
        "start_time": "2023-06-01T12:29:02.784Z"
      },
      {
        "duration": 89,
        "start_time": "2023-06-01T12:29:02.832Z"
      },
      {
        "duration": 2457,
        "start_time": "2023-06-01T12:29:02.924Z"
      },
      {
        "duration": 38,
        "start_time": "2023-06-01T12:29:05.382Z"
      },
      {
        "duration": 342,
        "start_time": "2023-06-01T12:29:05.422Z"
      },
      {
        "duration": 32,
        "start_time": "2023-06-01T12:29:05.766Z"
      },
      {
        "duration": 17,
        "start_time": "2023-06-01T12:29:05.809Z"
      },
      {
        "duration": 19,
        "start_time": "2023-06-01T12:29:05.828Z"
      },
      {
        "duration": 580,
        "start_time": "2023-06-01T12:29:05.849Z"
      },
      {
        "duration": 955,
        "start_time": "2023-06-01T12:29:06.430Z"
      },
      {
        "duration": 559,
        "start_time": "2023-06-01T12:29:07.387Z"
      },
      {
        "duration": 168,
        "start_time": "2023-06-01T12:29:07.947Z"
      }
    ],
    "kernelspec": {
      "display_name": "Python 3 (ipykernel)",
      "language": "python",
      "name": "python3"
    },
    "language_info": {
      "codemirror_mode": {
        "name": "ipython",
        "version": 3
      },
      "file_extension": ".py",
      "mimetype": "text/x-python",
      "name": "python",
      "nbconvert_exporter": "python",
      "pygments_lexer": "ipython3",
      "version": "3.9.5"
    },
    "toc": {
      "base_numbering": 1,
      "nav_menu": {},
      "number_sections": true,
      "sideBar": true,
      "skip_h1_title": true,
      "title_cell": "Table of Contents",
      "title_sidebar": "Contents",
      "toc_cell": false,
      "toc_position": {},
      "toc_section_display": true,
      "toc_window_display": false
    },
    "colab": {
      "provenance": []
    }
  },
  "nbformat": 4,
  "nbformat_minor": 0
}